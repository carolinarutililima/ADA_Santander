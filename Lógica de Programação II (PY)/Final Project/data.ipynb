{
 "cells": [
  {
   "cell_type": "code",
   "execution_count": null,
   "metadata": {},
   "outputs": [],
   "source": [
    "import cv2\n",
    "import os\n",
    "import numpy as np\n",
    "import matplotlib.pyplot as plt\n"
   ]
  },
  {
   "cell_type": "code",
   "execution_count": null,
   "metadata": {},
   "outputs": [],
   "source": [
    "%cd Final Project\n"
   ]
  },
  {
   "cell_type": "code",
   "execution_count": null,
   "metadata": {},
   "outputs": [],
   "source": [
    "from PIL import Image\n",
    "import cv2\n",
    "\n",
    "size = (50,50)\n",
    "\n",
    "\n",
    "def load_images_from_folder(folder):\n",
    "  i = 1\n",
    "  for filename in os.listdir(folder):\n",
    "    if filename.endswith('.jpg'):\n",
    "      im = Image.open(os.path.join(folder,filename))\n",
    "      bw_img = im.convert('L')\n",
    "      resized_bw_img = bw_img.resize(size)\n",
    "      data = np.array(resized_bw_img)\n",
    "      flattened = data.flatten()\n",
    "      reshape_fla = np.expand_dims(flattened, axis=0)\n",
    "      if i == 1:\n",
    "        final = reshape_fla\n",
    "        i = 2\n",
    "      else:\n",
    "        final = np.vstack((final,reshape_fla))\n",
    "    else:\n",
    "      pass\n",
    "\n",
    "  return final\n",
    "\n",
    "\n",
    "\n",
    "\n",
    "\n"
   ]
  },
  {
   "cell_type": "code",
   "execution_count": null,
   "metadata": {},
   "outputs": [],
   "source": [
    "#find the  right path for dogs\n",
    "pixels_dogs = load_images_from_folder('dataset/training_set/dogs')"
   ]
  },
  {
   "cell_type": "code",
   "execution_count": null,
   "metadata": {},
   "outputs": [],
   "source": [
    "pixels_cats = load_images_from_folder('dataset/training_set/cats')"
   ]
  },
  {
   "cell_type": "code",
   "execution_count": null,
   "metadata": {},
   "outputs": [],
   "source": [
    "pixels_cats.shape"
   ]
  },
  {
   "cell_type": "code",
   "execution_count": null,
   "metadata": {},
   "outputs": [],
   "source": [
    "pixels = np.concatenate((pixels_dogs, pixels_cats))\n",
    "pixels.shape"
   ]
  },
  {
   "cell_type": "code",
   "execution_count": null,
   "metadata": {},
   "outputs": [],
   "source": [
    "# dog 1\n",
    "# cat 0\n",
    "animal_dog = np.ones(4005)\n",
    "animal_cat = np.zeros(4000)\n",
    "animal = np.concatenate((animal_dog, animal_cat))\n",
    "animal.size\n",
    "\n",
    "animal = np.expand_dims(animal, axis=1)\n",
    "animal.shape"
   ]
  },
  {
   "cell_type": "code",
   "execution_count": null,
   "metadata": {},
   "outputs": [],
   "source": [
    "from sklearn.model_selection import train_test_split \n",
    "X = pixels \n",
    "y = animal\n",
    "\n",
    "X_train, X_test, y_train, y_test = train_test_split(X, y, test_size=0.2, random_state=0)\n",
    "y_test.shape"
   ]
  },
  {
   "cell_type": "code",
   "execution_count": null,
   "metadata": {},
   "outputs": [],
   "source": [
    "import numpy as np \n",
    "from collections import Counter \n",
    "\n",
    "\n",
    "def knn_fit(X_train, y_train, X_test, k):\n",
    "    count = 0\n",
    "\n",
    "    def distance(x1, x2):\n",
    "        \n",
    "        return np.sqrt(np.sum(x1-x2) ** 2)\n",
    "\n",
    "    predictions = []\n",
    "\n",
    "    for x_test in X_test:\n",
    "        count = count + 1\n",
    "        # compute the distances\n",
    "        distances = [distance(x_test, x_train) for x_train in X_train]\n",
    "\n",
    "        #get the closest k\n",
    "        k_indices = np.argsort(distances)[:k]\n",
    "        k_nearest_labels = [y_train[i] for i in k_indices]\n",
    "\n",
    "        list_of_scalars = [arr.item() for arr in k_nearest_labels]\n",
    "\n",
    "        # determinate the label\n",
    "        most_commom = Counter(list_of_scalars).most_common()\n",
    "\n",
    "        predictions.append(most_commom[0][0])\n",
    "\n",
    "        print(count)\n",
    "\n",
    "    return predictions\n",
    "\n",
    "\n"
   ]
  },
  {
   "cell_type": "code",
   "execution_count": null,
   "metadata": {},
   "outputs": [],
   "source": [
    "k = 3\n",
    "\n",
    "predictions = knn_fit(X_train, y_train, X_test, k)\n",
    "predictions"
   ]
  },
  {
   "cell_type": "code",
   "execution_count": null,
   "metadata": {},
   "outputs": [],
   "source": [
    "count_knn = 0\n",
    "\n",
    "for i,j in zip(predictions,y_test):\n",
    "    if int(i) == j:\n",
    "        count_knn = count_knn + 1\n",
    "\n",
    "accurancy_knn = (count_knn * 100) / len(y)\n",
    "print(accurancy_knn)"
   ]
  },
  {
   "cell_type": "code",
   "execution_count": null,
   "metadata": {},
   "outputs": [],
   "source": [
    "from sklearn.preprocessing import StandardScaler \n",
    "from sklearn.neighbors import KNeighborsClassifier \n",
    "from sklearn.linear_model import LogisticRegression \n",
    "from sklearn import svm\n",
    "\n",
    "KNN = KNeighborsClassifier(n_neighbors = 5)\n",
    "KNN.fit(X_train,y_train)\n",
    "predictions_KNN = KNN.predict(X_test)\n",
    "print(\"KNN preductions: \", predictions_KNN)\n",
    "print(\"KNN accuracy: \",100*KNN.score(X_test, y_test),\"%\")"
   ]
  },
  {
   "cell_type": "code",
   "execution_count": null,
   "metadata": {},
   "outputs": [],
   "source": []
  }
 ],
 "metadata": {
  "kernelspec": {
   "display_name": "Python 3.8.5 ('base')",
   "language": "python",
   "name": "python3"
  },
  "language_info": {
   "codemirror_mode": {
    "name": "ipython",
    "version": 3
   },
   "file_extension": ".py",
   "mimetype": "text/x-python",
   "name": "python",
   "nbconvert_exporter": "python",
   "pygments_lexer": "ipython3",
   "version": "3.8.5"
  },
  "orig_nbformat": 4,
  "vscode": {
   "interpreter": {
    "hash": "b1061245a22b17b19b85cf003e8b8bfcc4cdf8dbb1d6518b2fde69d455e71cf5"
   }
  }
 },
 "nbformat": 4,
 "nbformat_minor": 2
}
