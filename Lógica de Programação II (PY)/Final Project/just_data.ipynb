{
 "cells": [
  {
   "cell_type": "code",
   "execution_count": null,
   "metadata": {},
   "outputs": [],
   "source": [
    "import cv2\n",
    "import os\n",
    "import numpy as np\n",
    "import matplotlib.pyplot as plt\n"
   ]
  },
  {
   "cell_type": "code",
   "execution_count": null,
   "metadata": {},
   "outputs": [],
   "source": [
    "%cd Final Project\n"
   ]
  },
  {
   "cell_type": "code",
   "execution_count": null,
   "metadata": {},
   "outputs": [],
   "source": [
    "from PIL import Image\n",
    "import cv2\n",
    "\n",
    "size = (250,250)\n",
    "\n",
    "\n",
    "def load_images_from_folder(folder):\n",
    "  i = 1\n",
    "  for filename in os.listdir(folder):\n",
    "    if filename.endswith('.jpg'):\n",
    "      im = Image.open(os.path.join(folder,filename))\n",
    "      bw_img = im.convert('L')\n",
    "      resized_bw_img = bw_img.resize(size)\n",
    "      data = np.array(resized_bw_img)\n",
    "      flattened = data.flatten()\n",
    "      reshape_fla = np.expand_dims(flattened, axis=0)\n",
    "      if i == 1:\n",
    "        final = reshape_fla\n",
    "        i = 2\n",
    "      else:\n",
    "        final = np.vstack((final,reshape_fla))\n",
    "    else:\n",
    "      pass\n",
    "\n",
    "  return final\n",
    "\n",
    "\n",
    "\n",
    "\n",
    "\n"
   ]
  },
  {
   "cell_type": "code",
   "execution_count": null,
   "metadata": {},
   "outputs": [],
   "source": [
    "#find the  right path for dogs\n",
    "pixels_dogs = load_images_from_folder('dataset/training_set/dogs')"
   ]
  },
  {
   "cell_type": "code",
   "execution_count": null,
   "metadata": {},
   "outputs": [],
   "source": [
    "pixels_cats = load_images_from_folder('dataset/training_set/cats')"
   ]
  },
  {
   "cell_type": "code",
   "execution_count": null,
   "metadata": {},
   "outputs": [],
   "source": [
    "pixels_cats.shape"
   ]
  },
  {
   "cell_type": "code",
   "execution_count": null,
   "metadata": {},
   "outputs": [],
   "source": [
    "pixels = np.concatenate((pixels_dogs, pixels_cats))\n",
    "pixels.shape"
   ]
  },
  {
   "cell_type": "code",
   "execution_count": null,
   "metadata": {},
   "outputs": [],
   "source": [
    "# dog 1\n",
    "# cat 0\n",
    "animal_dog = np.ones(4005)\n",
    "animal_cat = np.zeros(4000)\n",
    "animal = np.concatenate((animal_dog, animal_cat))\n",
    "animal.size\n",
    "\n",
    "animal = np.expand_dims(animal, axis=1)\n",
    "animal.shape"
   ]
  },
  {
   "cell_type": "code",
   "execution_count": null,
   "metadata": {},
   "outputs": [],
   "source": [
    "from sklearn.model_selection import train_test_split \n",
    "X = pixels \n",
    "y = animal\n",
    "\n",
    "X_train, X_test, y_train, y_test = train_test_split(X, y, test_size=0.2, random_state=0)\n"
   ]
  }
 ],
 "metadata": {
  "kernelspec": {
   "display_name": "Python 3.8.5 ('base')",
   "language": "python",
   "name": "python3"
  },
  "language_info": {
   "codemirror_mode": {
    "name": "ipython",
    "version": 3
   },
   "file_extension": ".py",
   "mimetype": "text/x-python",
   "name": "python",
   "nbconvert_exporter": "python",
   "pygments_lexer": "ipython3",
   "version": "3.8.5"
  },
  "orig_nbformat": 4,
  "vscode": {
   "interpreter": {
    "hash": "b1061245a22b17b19b85cf003e8b8bfcc4cdf8dbb1d6518b2fde69d455e71cf5"
   }
  }
 },
 "nbformat": 4,
 "nbformat_minor": 2
}
