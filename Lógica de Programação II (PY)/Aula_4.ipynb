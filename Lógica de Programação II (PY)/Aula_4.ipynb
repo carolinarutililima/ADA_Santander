{
 "cells": [
  {
   "cell_type": "code",
   "execution_count": 2,
   "metadata": {},
   "outputs": [
    {
     "name": "stdout",
     "output_type": "stream",
     "text": [
      "<map object at 0x7fc64909bbe0>\n"
     ]
    }
   ],
   "source": [
    "# MAP aplica uma função dentro de uma sequencia \n",
    "\n",
    "def quad(s):\n",
    "    return(s**2)\n",
    "\n",
    "m = map(quad, [1,2,3,4,5])\n",
    "\n",
    "print(m)\n",
    "\n"
   ]
  },
  {
   "cell_type": "code",
   "execution_count": 4,
   "metadata": {},
   "outputs": [
    {
     "data": {
      "text/plain": [
       "[1, 4, 9, 16, 25]"
      ]
     },
     "execution_count": 4,
     "metadata": {},
     "output_type": "execute_result"
    }
   ],
   "source": [
    "\n",
    "lista_quad = list(map(quad, [1,2,3,4,5]))\n",
    "lista_quad"
   ]
  },
  {
   "cell_type": "code",
   "execution_count": null,
   "metadata": {},
   "outputs": [],
   "source": [
    "nomes = {'Miguel': 6, 'Sophia': 6, 'Davi': 4, 'Alice': 5, 'Arthur': 6, 'Julia': 5, 'Pedro': 5, 'Isabella': 8, 'Gabriel': 7, 'Manuela': 7, 'Laura': 5}"
   ]
  },
  {
   "cell_type": "code",
   "execution_count": 16,
   "metadata": {},
   "outputs": [
    {
     "name": "stdout",
     "output_type": "stream",
     "text": [
      "<class 'list'>\n"
     ]
    }
   ],
   "source": [
    "dic_notas = [{\n",
    "    \"turma_a\": {\n",
    "        \"aluno1\": [9.,8.,10.],\n",
    "        \"aluno2\":[10.,9.,9.]\n",
    "    },\n",
    "    \"turma_b\": {\n",
    "        \"aluno3\": [9.,8.,10.],\n",
    "        \"aluno4\":[10.,9.,9.]\n",
    "    }\n",
    "}]\n",
    "\n",
    "print(type(dic_notas))\n"
   ]
  },
  {
   "cell_type": "code",
   "execution_count": 19,
   "metadata": {},
   "outputs": [
    {
     "data": {
      "text/plain": [
       "[9.0, 8.0, 10.0]"
      ]
     },
     "execution_count": 19,
     "metadata": {},
     "output_type": "execute_result"
    }
   ],
   "source": [
    "lst_comp = [x for x in dic_notas[0]['turma_a']['aluno1']]\n",
    "lst_comp"
   ]
  },
  {
   "cell_type": "code",
   "execution_count": 21,
   "metadata": {},
   "outputs": [
    {
     "name": "stdout",
     "output_type": "stream",
     "text": [
      "{'aluno1': 9.0, 'aluno2': 9.333333333333334, 'aluno3': 9.0, 'aluno4': 9.333333333333334}\n"
     ]
    }
   ],
   "source": [
    "dic_notas = [{\n",
    "    \"turma_a\": {\n",
    "        \"aluno1\": [9., 8., 10.],\n",
    "        \"aluno2\": [10., 9., 9.]\n",
    "    },\n",
    "    \"turma_b\": {\n",
    "        \"aluno3\": [9., 8., 10.],\n",
    "        \"aluno4\": [10., 9., 9.]\n",
    "    }\n",
    "}]\n",
    "\n",
    "averages = {}\n",
    "\n",
    "for class_dict in dic_notas:\n",
    "    for turma, alunos in class_dict.items():\n",
    "        for aluno, grades in alunos.items():\n",
    "            average = sum(map(lambda x: x, grades)) / len(grades)\n",
    "            averages[aluno] = average\n",
    "\n",
    "print(averages)\n"
   ]
  },
  {
   "cell_type": "code",
   "execution_count": 31,
   "metadata": {},
   "outputs": [
    {
     "name": "stdout",
     "output_type": "stream",
     "text": [
      "{'aluno1': 9.0, 'aluno2': 9.333333333333334, 'aluno3': 9.0, 'aluno4': 9.333333333333334}\n"
     ]
    }
   ],
   "source": [
    "dic_notas = {\n",
    "    \"turma_a\": {\n",
    "        \"aluno1\": [9., 8., 10.],\n",
    "        \"aluno2\": [10., 9., 9.]\n",
    "    },\n",
    "    \"turma_b\": {\n",
    "        \"aluno3\": [9., 8., 10.],\n",
    "        \"aluno4\": [10., 9., 9.]\n",
    "    }\n",
    "}\n",
    "\n",
    "averages = {}\n",
    "\n",
    "# Calculating averages using map\n",
    "\n",
    "for turma, alunos in dic_notas.items():\n",
    "    for aluno, grades in alunos.items():\n",
    "        average = sum(map(lambda x: x, grades)) / len(grades)\n",
    "        averages[aluno] = average\n",
    "\n",
    "print(averages)\n",
    "#"
   ]
  },
  {
   "cell_type": "code",
   "execution_count": 34,
   "metadata": {},
   "outputs": [
    {
     "data": {
      "text/plain": [
       "[0, 2, 4, 6, 8]"
      ]
     },
     "execution_count": 34,
     "metadata": {},
     "output_type": "execute_result"
    }
   ],
   "source": [
    "#FILTER\n",
    "\n",
    "ls = list(filter(lambda x: x%2==0, range(10)))\n",
    "ls"
   ]
  },
  {
   "cell_type": "code",
   "execution_count": 35,
   "metadata": {},
   "outputs": [
    {
     "data": {
      "text/plain": [
       "[1, 3, 5, 7, 9]"
      ]
     },
     "execution_count": 35,
     "metadata": {},
     "output_type": "execute_result"
    }
   ],
   "source": [
    "ls = list(filter(lambda x: not x%2==0, range(10)))\n",
    "ls"
   ]
  },
  {
   "cell_type": "code",
   "execution_count": 37,
   "metadata": {},
   "outputs": [
    {
     "data": {
      "text/plain": [
       "45"
      ]
     },
     "execution_count": 37,
     "metadata": {},
     "output_type": "execute_result"
    }
   ],
   "source": [
    "#REDUCE\n",
    "\n",
    "from functools import reduce\n",
    "\n",
    "r = reduce(lambda x,y: x+y, range(10))\n",
    "r\n",
    "\n",
    "\n"
   ]
  },
  {
   "cell_type": "code",
   "execution_count": 38,
   "metadata": {},
   "outputs": [
    {
     "name": "stdout",
     "output_type": "stream",
     "text": [
      "45\n"
     ]
    }
   ],
   "source": [
    "# é o mesmo que:\n",
    "x = 0 \n",
    "for y in range(10):\n",
    "    x = x+ y\n",
    "print(x)"
   ]
  }
 ],
 "metadata": {
  "kernelspec": {
   "display_name": "Python 3.8.5 ('base')",
   "language": "python",
   "name": "python3"
  },
  "language_info": {
   "codemirror_mode": {
    "name": "ipython",
    "version": 3
   },
   "file_extension": ".py",
   "mimetype": "text/x-python",
   "name": "python",
   "nbconvert_exporter": "python",
   "pygments_lexer": "ipython3",
   "version": "3.8.5"
  },
  "orig_nbformat": 4,
  "vscode": {
   "interpreter": {
    "hash": "b1061245a22b17b19b85cf003e8b8bfcc4cdf8dbb1d6518b2fde69d455e71cf5"
   }
  }
 },
 "nbformat": 4,
 "nbformat_minor": 2
}
