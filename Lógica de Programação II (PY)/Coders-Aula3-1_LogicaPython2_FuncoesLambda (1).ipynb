{
 "cells": [
  {
   "cell_type": "markdown",
   "metadata": {
    "id": "8LvkoV4F3Td1"
   },
   "source": [
    "# <font color=\"red\"> Santander Coders</font>\n",
    "## <span style=\"color:red\">Lógica de Programação II (Python)</span>\n",
    "\n",
    "## <span style=\"color:blue\">Python Parte II</span>\n",
    "*Maurício Luiz Sobrinho*<br>\n",
    "*Adatech*"
   ]
  },
  {
   "cell_type": "markdown",
   "metadata": {
    "id": "x38It6GP3Td_"
   },
   "source": [
    "---\n",
    "__Conteúdo:__\n",
    "- Funções e parâmetros\n",
    "- Funções Lambda\n",
    "\n",
    "__Bibliografia:__\n",
    "- Mark Lutz, Learning Python, O'Reilly, 2013\n",
    "- Eric Matthes, Python Crash Course: A Hands-On, Project-Based Introduction to Programming, No Starch Press, 2015"
   ]
  },
  {
   "cell_type": "markdown",
   "metadata": {
    "id": "fOQiJ6xg3TeV"
   },
   "source": [
    "---\n",
    "## Funções e Parâmetros\n",
    "Uma função em Python pode ser criada de diferentes formas.\n",
    "\n",
    "O comando <font color='blue'>'def'</font> é um dos principais mecanismos para se criar uma função.\n",
    "O resultado de um comando <font color='blue'>'def'</font> é um _objeto_ do tipo 'função'.\n",
    "\n",
    "Uma função pode ser invocada a partir de um comando, executando a sequência de código identado abaixo dela."
   ]
  },
  {
   "cell_type": "code",
   "execution_count": null,
   "metadata": {
    "id": "2qTJihNr3TeV",
    "outputId": "b0c882b2-eafe-471a-93a8-344fcecfb874"
   },
   "outputs": [
    {
     "name": "stdout",
     "output_type": "stream",
     "text": [
      "Imprimindo  Hello 1 via funcao meu_print\n"
     ]
    }
   ],
   "source": [
    "def meu_print(x):   # cria a função meu_print\n",
    "    print('Imprimindo ', x, 'via funcao meu_print')\n",
    "    \n",
    "meu_print('Hello 1') # invoca a função meu_print com a string 'Hello 1' como parâmetro."
   ]
  },
  {
   "cell_type": "markdown",
   "metadata": {
    "id": "EPq20YS43TeV"
   },
   "source": [
    "Como o resultado do <font color='blue'>'def'</font> é um _objeto_, ele pode ser atribuido a uma variável e a \n",
    "variável passa a se comportar como uma função."
   ]
  },
  {
   "cell_type": "code",
   "execution_count": null,
   "metadata": {
    "id": "wOv5-dXY3TeW",
    "outputId": "aeaaa06a-0d32-4b09-85da-6a4431084f94"
   },
   "outputs": [
    {
     "name": "stdout",
     "output_type": "stream",
     "text": [
      "Imprimindo  Hello 2 via funcao meu_print\n"
     ]
    }
   ],
   "source": [
    "def meu_print(x):   # cria a função meu_print\n",
    "    print('Imprimindo ', x, 'via funcao meu_print')\n",
    "    \n",
    "x = meu_print  # a variável x é uma referência para o objeto (função) meu_print\n",
    "x('Hello 2')  # pode-se utilizar x como a função meu_print"
   ]
  },
  {
   "cell_type": "markdown",
   "metadata": {
    "id": "p3pFL_6Y3TeW"
   },
   "source": [
    "### Parâmetros de uma função\n",
    "Os parâmetros (também chamados de argumentos) de uma função podem assumir valores pré-estabelecidos (default) que são utilizados quando o parâmetro correspondente não é fornecido."
   ]
  },
  {
   "cell_type": "code",
   "execution_count": null,
   "metadata": {
    "id": "A1EJrbU23TeW",
    "outputId": "e70dd6c4-8ea0-47da-b217-a0928d0251a4"
   },
   "outputs": [
    {
     "name": "stdout",
     "output_type": "stream",
     "text": [
      "17\n",
      "8\n",
      "1\n",
      "8\n",
      "4\n"
     ]
    }
   ],
   "source": [
    "def echo(x=10,y=7):  # cria a função echo com dois parâmetros x e y. Se os parâmetros não são fornecidos quando a \n",
    "    print(x+y)       # função é invocada, os valores pré-estabelecidos 10 e 7 são utilizados\n",
    "    \n",
    "echo()          # nenhum parâmetro é fornecido, os dois valores pré-estabelecidos são utilizados \n",
    "\n",
    "echo(x=1)       # somente o parâmetro x é fornecido, o valor pré-estabelecido de y é utilizado \n",
    "\n",
    "echo(x=1,y=0)   # os dois parâmetros são fornecidos, nenhum valor pré-estabelecido é utilizado\n",
    "\n",
    "echo(1)   # quando o nome do parâmetro não é fornecido, assume-se a ordem como foram definidos na função,\n",
    "          # neste caso o valor de x é fornecido como 1 e y não é fornecido\n",
    "    \n",
    "echo(1,3) # o valor de x = 1 e y = 3 são fornecidos"
   ]
  },
  {
   "cell_type": "markdown",
   "metadata": {
    "id": "25IH2Gg43TeX"
   },
   "source": [
    "Como são objetos, funções podem ser passadas como parâmetros para outras funções."
   ]
  },
  {
   "cell_type": "code",
   "execution_count": null,
   "metadata": {
    "id": "itDPvtTW3TeX",
    "outputId": "5fa2d81d-06fd-4732-cae6-b6fb7643f200"
   },
   "outputs": [
    {
     "name": "stdout",
     "output_type": "stream",
     "text": [
      "Impresso pela funcao echo1  Hello\n",
      "Impresso pela funcao echo2  World\n"
     ]
    }
   ],
   "source": [
    "def echo1(x):\n",
    "    print('Impresso pela funcao echo1 ', x)\n",
    "    \n",
    "def echo2(x):\n",
    "    print('Impresso pela funcao echo2 ', x)\n",
    "    \n",
    "def invoca_echo(f,t):  # o parâmetro f é uma função\n",
    "    f(t)               # que é invocada dento da função invoca_echo\n",
    "\n",
    "invoca_echo(echo1,'Hello')\n",
    "invoca_echo(echo2,'World')"
   ]
  },
  {
   "cell_type": "markdown",
   "metadata": {
    "id": "JwdX5a5m3TeX"
   },
   "source": [
    "### Retorno de uma função\n",
    "Toda função retorna algo. Se o comando <font color='blue'>'return'</font> não é especificado, o símbolo <font color='blue'>'None'</font> é retornado como resultado da função."
   ]
  },
  {
   "cell_type": "code",
   "execution_count": null,
   "metadata": {
    "id": "cly-x3oX3TeX",
    "outputId": "dbca25ca-62f9-4c5f-9b2d-59337a4d1273"
   },
   "outputs": [
    {
     "name": "stdout",
     "output_type": "stream",
     "text": [
      "None\n",
      "3\n"
     ]
    }
   ],
   "source": [
    "def soma1(x):   # cria a função soma1 sem especificar um valor de retorno via comando \"return\"\n",
    "    x+1\n",
    "    \n",
    "def soma2(x):   # cria a função soma2 com retorno definido pelo comando \"return\"\n",
    "    return(x+1)\n",
    "    \n",
    "print(soma1(2))  # como soma1 não possui um valor de retorno, o símbolo \"None\" é retornado automaticamente\n",
    "print(soma2(2))  # o resultado x+1 (onde x vale 2) é retornado pelo comando \"return\""
   ]
  },
  {
   "cell_type": "markdown",
   "metadata": {
    "id": "4nvDvHj73TeY"
   },
   "source": [
    "---\n",
    "## Funções Lambda\n",
    "- Funções <font color='blue'>lambda</font> são funções que podem ser invocadas, mas que não possuem nome\n",
    "- Uma função <font color='blue'>lambda</font> é uma expressão, não uma declaração, então pode ser usada em lugares do código em que `def` não é possível, por exemplo dentro de um comprehension. A sintaxe de uma função <font color='blue'>lambda</font> é:\n",
    "```python\n",
    "lambda arg1,arg2,...,argn: expressao\n",
    "```"
   ]
  },
  {
   "cell_type": "code",
   "execution_count": null,
   "metadata": {
    "id": "Z4pN_Wui3TeY",
    "outputId": "8b5450fd-c2cc-4838-99b3-2c2d7d400d51"
   },
   "outputs": [
    {
     "name": "stdout",
     "output_type": "stream",
     "text": [
      "4\n",
      "5\n"
     ]
    }
   ],
   "source": [
    "f1 = lambda x: x**2  # cria uma função lambda com um argumento e retorna o valor do argumento ao quadrado\n",
    "                     # a variável f1 é uma referência a função lambda \n",
    "                     # o argumento x da função lambda passa a ser um parâmetro de f1\n",
    "    \n",
    "print(f1(2))\n",
    "\n",
    "f2 = lambda x,y: x+y # cria uma função lambda com dois argumentos e retorna a soma dos argumentos \n",
    "                     # a variável f2 é uma referência a função lambda\n",
    "                     # os argumentos x e y da função lambda passam a ser parâmetros de f2\n",
    "print(f2(2,3))"
   ]
  },
  {
   "cell_type": "code",
   "execution_count": null,
   "metadata": {
    "id": "wZL3UQIV3TeY",
    "outputId": "955a465a-3e20-45e7-b93c-2076ab885893"
   },
   "outputs": [
    {
     "name": "stdout",
     "output_type": "stream",
     "text": [
      "[0, 2, 4, 6, 8]\n",
      "['even', 'odd', 'even', 'odd', 'even', 'odd', 'even', 'odd', 'even', 'odd']\n"
     ]
    }
   ],
   "source": [
    "f3 = lambda x: 'even' if x%2==0 else 'odd' # função lambda que retorna 'even' se o argumento for par (x%2==0)\n",
    "                                           # e 'odd' caso contrário\n",
    "\n",
    "lnumeros = [i for i in range(10) if f3(i) == 'even' ] # cria uma lista de números pares entre 0 e 9 \n",
    "lstrings = [f3(i) for i in range(10)]  # cria uma lista de strings 'even' e 'odd' \n",
    "print(lnumeros)\n",
    "print(lstrings)"
   ]
  }
 ],
 "metadata": {
  "colab": {
   "collapsed_sections": [],
   "name": "Python II.ipynb",
   "provenance": []
  },
  "kernelspec": {
   "display_name": "Python 3",
   "language": "python",
   "name": "python3"
  },
  "language_info": {
   "codemirror_mode": {
    "name": "ipython",
    "version": 3
   },
   "file_extension": ".py",
   "mimetype": "text/x-python",
   "name": "python",
   "nbconvert_exporter": "python",
   "pygments_lexer": "ipython3",
   "version": "3.8.9"
  },
  "toc": {
   "base_numbering": 1,
   "nav_menu": {},
   "number_sections": true,
   "sideBar": true,
   "skip_h1_title": false,
   "title_cell": "Table of Contents",
   "title_sidebar": "Contents",
   "toc_cell": false,
   "toc_position": {},
   "toc_section_display": true,
   "toc_window_display": false
  }
 },
 "nbformat": 4,
 "nbformat_minor": 1
}
