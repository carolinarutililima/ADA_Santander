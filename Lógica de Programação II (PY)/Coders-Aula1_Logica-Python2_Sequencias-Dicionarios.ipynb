{
 "cells": [
  {
   "cell_type": "markdown",
   "metadata": {
    "id": "Wu7ck6xvaP6b"
   },
   "source": [
    "# <font color=\"red\"> Santander Coders</font>\n",
    "## <span style=\"color:red\">Lógica de Programação II (Python)</span>\n",
    "\n",
    "### <span style=\"color:darkred\">Python: sequências e dicionários</span>\n",
    "\n",
    "*Maurício Luiz Sobrinho*<br>\n",
    "*Adatech*"
   ]
  },
  {
   "cell_type": "markdown",
   "metadata": {
    "id": "wOM5dIGtaP6d"
   },
   "source": [
    "### Conteúdo:\n",
    "- Operando em sequências: listas, tuplas e strings\n",
    "- Dicionários"
   ]
  },
  {
   "cell_type": "markdown",
   "metadata": {
    "id": "fwFG9tNiaP7I"
   },
   "source": [
    "# Relembrando: sequências\n",
    "\n",
    "* Tupla - *tuple*\n",
    "* Lista - *list*\n",
    "* String - *str*\n",
    "\n",
    "O *índice dos elementos* inicia em `0` e vai até `n-1`, onde `n` é o número de elementos na sequência."
   ]
  },
  {
   "cell_type": "code",
   "execution_count": 5,
   "metadata": {
    "colab": {
     "base_uri": "https://localhost:8080/"
    },
    "executionInfo": {
     "elapsed": 392,
     "status": "ok",
     "timestamp": 1654724955340,
     "user": {
      "displayName": "Leandro Souza",
      "userId": "09739880192048464537"
     },
     "user_tz": 180
    },
    "id": "qRSTJeWcaP7J",
    "outputId": "42d4e3af-6b31-4637-9753-22697e8350d9"
   },
   "outputs": [
    {
     "name": "stdout",
     "output_type": "stream",
     "text": [
      "GGS1023\n",
      "12\n"
     ]
    }
   ],
   "source": [
    "# TUPLA\n",
    "\n",
    "# Armazena passaporte, país de origem, ano e mes de vencimento do passaporte\n",
    "passageiro1 = ('GGS1023', 'BRA', 2021, 12) \n",
    "print(passageiro1[0])\n",
    "print(passageiro1[3])"
   ]
  },
  {
   "cell_type": "code",
   "execution_count": 6,
   "metadata": {
    "colab": {
     "base_uri": "https://localhost:8080/",
     "height": 183
    },
    "executionInfo": {
     "elapsed": 377,
     "status": "error",
     "timestamp": 1654724983890,
     "user": {
      "displayName": "Leandro Souza",
      "userId": "09739880192048464537"
     },
     "user_tz": 180
    },
    "id": "0BrU4QKvOiL-",
    "outputId": "8706c324-11fc-426f-e98c-e9c3e6d6fb9b"
   },
   "outputs": [
    {
     "ename": "TypeError",
     "evalue": "ignored",
     "output_type": "error",
     "traceback": [
      "\u001b[0;31m---------------------------------------------------------------------------\u001b[0m",
      "\u001b[0;31mTypeError\u001b[0m                                 Traceback (most recent call last)",
      "\u001b[0;32m<ipython-input-6-36970ff88e03>\u001b[0m in \u001b[0;36m<module>\u001b[0;34m()\u001b[0m\n\u001b[1;32m      1\u001b[0m \u001b[0;31m# tuplas são imutáveis\u001b[0m\u001b[0;34m\u001b[0m\u001b[0;34m\u001b[0m\u001b[0;34m\u001b[0m\u001b[0m\n\u001b[0;32m----> 2\u001b[0;31m \u001b[0mpassageiro1\u001b[0m\u001b[0;34m[\u001b[0m\u001b[0;36m1\u001b[0m\u001b[0;34m]\u001b[0m \u001b[0;34m=\u001b[0m \u001b[0;34m'ARG'\u001b[0m\u001b[0;34m\u001b[0m\u001b[0;34m\u001b[0m\u001b[0m\n\u001b[0m",
      "\u001b[0;31mTypeError\u001b[0m: 'tuple' object does not support item assignment"
     ]
    }
   ],
   "source": [
    "# tuplas são imutáveis\n",
    "passageiro1[1] = 'ARG'"
   ]
  },
  {
   "cell_type": "code",
   "execution_count": 8,
   "metadata": {
    "colab": {
     "base_uri": "https://localhost:8080/"
    },
    "executionInfo": {
     "elapsed": 484,
     "status": "ok",
     "timestamp": 1654725049602,
     "user": {
      "displayName": "Leandro Souza",
      "userId": "09739880192048464537"
     },
     "user_tz": 180
    },
    "id": "Q10abLqzaP7R",
    "outputId": "5d36d960-e1eb-41ea-f954-279b3847dad9",
    "scrolled": false
   },
   "outputs": [
    {
     "name": "stdout",
     "output_type": "stream",
     "text": [
      "[34, 4.34, 'a', 23, 9, 98]\n",
      "a\n",
      "[34, 4.34, 10, 23, 9, 98]\n"
     ]
    }
   ],
   "source": [
    "# LISTA\n",
    "\n",
    "# lista de preços\n",
    "ls = [34, 4.34, 'a', 23, 9, 98]   # Listas são definidas utilizando colchetes [ ]\n",
    "print(ls)\n",
    "print(ls[2])\n",
    "# mutável, podemos alterar elementos\n",
    "ls[2] = 10\n",
    "print(ls)"
   ]
  },
  {
   "cell_type": "code",
   "execution_count": 11,
   "metadata": {
    "colab": {
     "base_uri": "https://localhost:8080/"
    },
    "executionInfo": {
     "elapsed": 407,
     "status": "ok",
     "timestamp": 1654725187830,
     "user": {
      "displayName": "Leandro Souza",
      "userId": "09739880192048464537"
     },
     "user_tz": 180
    },
    "id": "N7DpYgHTaP7a",
    "outputId": "47c4e324-f391-4611-d3e0-2b8d1dff0b7e",
    "scrolled": true
   },
   "outputs": [
    {
     "name": "stdout",
     "output_type": "stream",
     "text": [
      "Isso é uma 'string'\n",
      "Isso é uma outra \"string\"\n",
      "Isso é\n"
     ]
    }
   ],
   "source": [
    "# STRING\n",
    "\n",
    "st1 = \"Isso é uma 'string'\"  # Strings são definidas utilizando aspas simples '' ou duplas \"\"\n",
    "st2 = 'Isso é uma outra \"string\"'  # Strings são definidas utilizando aspas simples '' ou duplas \"\"\n",
    "print(st1)\n",
    "print(st2)\n",
    "print(st2[0:6])"
   ]
  },
  {
   "cell_type": "markdown",
   "metadata": {
    "id": "Ce64C5qKaP7p"
   },
   "source": [
    "## *Slicing*  (fatiamento)\n",
    "\n",
    "Significa passar um intervalo de índices `[i,j]` e retornar uma sub-sequência.\n",
    "\n",
    "Esse intervalo retorna elementos de `i` até `j-1` (ou seja o valor final *não* é incluído)\n",
    "\n",
    "A sintaxe para realizar um slicing é:\n",
    "```python\n",
    "[i:j]\n",
    "```\n",
    "\n",
    "É possivel omitir um deles com diferentes propósitos:\n",
    "* omitir `i` para iniciar no primeiro elemento e retornar até `j-1`: `[:j]` \n",
    "* omitir `j` para iniciar no em `i` e ir até o final da sequência: `[i:]` \n"
   ]
  },
  {
   "cell_type": "code",
   "execution_count": 13,
   "metadata": {
    "colab": {
     "base_uri": "https://localhost:8080/"
    },
    "executionInfo": {
     "elapsed": 418,
     "status": "ok",
     "timestamp": 1654725328535,
     "user": {
      "displayName": "Leandro Souza",
      "userId": "09739880192048464537"
     },
     "user_tz": 180
    },
    "id": "264dCr4JaP7q",
    "outputId": "e0e00fd9-537b-4857-cf7d-878613ef7578"
   },
   "outputs": [
    {
     "name": "stdout",
     "output_type": "stream",
     "text": [
      "[1, 5, 13, 50, 1000, 10, 'fim']\n",
      "[1, 5]\n",
      "[13, 50, 1000, 10, 'fim']\n",
      "[5, 13, 50, 1000]\n",
      "[1, 5, 13]\n"
     ]
    }
   ],
   "source": [
    "ls = [1, 5, 13, 50, 1000, 10, 'fim'] \n",
    "print(ls)\n",
    "print(ls[0:2])  # recupera elementos ls[0],ls[1] (note que o elemento ls[2] não é recuperado)\n",
    "print(ls[2:])   # recupera elementos a partir de ls[2] em diante\n",
    "print(ls[1:5])  # recupera elementos ls[1],ls[2],ls[3],ls[4] \n",
    "print(ls[:3])   # recupera elementos até ls[2]"
   ]
  },
  {
   "cell_type": "markdown",
   "metadata": {
    "id": "I9SLW_OoOiME"
   },
   "source": [
    "Precisamos ter **muito cuidado** com o índice: é preciso respeitar o tamanho da lista.\n"
   ]
  },
  {
   "cell_type": "markdown",
   "metadata": {
    "id": "WrTiQ_PsOiME"
   },
   "source": [
    "#### Indexando com valores negativos\n",
    "\n",
    "Valores negativos de índices podem ser usados:\n",
    "    - indexam a partir do final da lista, como se fosse uma lista \"circular\".\n",
    "\n",
    "Por exemplo o último valor pode ser acessado com -1\n",
    "\n",
    "Abaixo um exemplo de lista com 5 elementos e seus índices positivos (0 a 4) e negativos (-1 a -5) válidos:\n",
    "\n",
    "```\n",
    " 0  1  2   3   4\n",
    "[1` 5, 13, 50, 100]\n",
    "-5 -4  -3  -2  -1\n",
    "```"
   ]
  },
  {
   "cell_type": "code",
   "execution_count": 14,
   "metadata": {
    "colab": {
     "base_uri": "https://localhost:8080/"
    },
    "executionInfo": {
     "elapsed": 388,
     "status": "ok",
     "timestamp": 1654725390657,
     "user": {
      "displayName": "Leandro Souza",
      "userId": "09739880192048464537"
     },
     "user_tz": 180
    },
    "id": "B7ICUarrOiMF",
    "outputId": "9d7191dc-117d-45bf-ebe9-c7dbe458baa6"
   },
   "outputs": [
    {
     "name": "stdout",
     "output_type": "stream",
     "text": [
      "fim\n",
      "1\n"
     ]
    }
   ],
   "source": [
    "ls = [1, 5, 13, 50, 1000, 10, 'fim'] \n",
    "print(ls[-1])\n",
    "print(ls[-7])"
   ]
  },
  {
   "cell_type": "code",
   "execution_count": 15,
   "metadata": {
    "colab": {
     "base_uri": "https://localhost:8080/"
    },
    "executionInfo": {
     "elapsed": 974,
     "status": "ok",
     "timestamp": 1654725427357,
     "user": {
      "displayName": "Leandro Souza",
      "userId": "09739880192048464537"
     },
     "user_tz": 180
    },
    "id": "-C2KKPt2OiMG",
    "outputId": "9067b9e3-f7b9-4298-b900-9a6f7a6c260f"
   },
   "outputs": [
    {
     "name": "stdout",
     "output_type": "stream",
     "text": [
      "[1000, 10, 'fim']\n"
     ]
    }
   ],
   "source": [
    "print(ls[-3:])"
   ]
  },
  {
   "cell_type": "markdown",
   "metadata": {
    "id": "3C-7qZUJOiMH"
   },
   "source": [
    "O valor final do intervalo continua sendo aberto mesmo com valor negativo"
   ]
  },
  {
   "cell_type": "code",
   "execution_count": 16,
   "metadata": {
    "colab": {
     "base_uri": "https://localhost:8080/"
    },
    "executionInfo": {
     "elapsed": 401,
     "status": "ok",
     "timestamp": 1654725446928,
     "user": {
      "displayName": "Leandro Souza",
      "userId": "09739880192048464537"
     },
     "user_tz": 180
    },
    "id": "X3M8qReeOiMH",
    "outputId": "a73d2f74-76a2-47e1-c987-41b3f6192857"
   },
   "outputs": [
    {
     "name": "stdout",
     "output_type": "stream",
     "text": [
      "[50, 1000, 10]\n"
     ]
    }
   ],
   "source": [
    "print(ls[-4:-1])"
   ]
  },
  {
   "cell_type": "markdown",
   "metadata": {
    "id": "OOXKslqsOiMI"
   },
   "source": [
    "### Operadores `in` `+` e `*`\n",
    "Operações binárias como <font color='blue'>+</font>, <font color='blue'>-</font> e <font color='blue'>*</font>\n",
    "podem ser aplicadas à sequências, como visto anteriormente. Porém, existem outras operação binárias importantes:\n",
    "\n",
    "### <span style=\"color:blue\">\"in\"</span>\n",
    "- Verifica se um valor está em uma sequência\n",
    "- Testa substrings em strings \n",
    "- Verifica se uma chave está presente em um dicionário\n",
    "- Pode ser combinada com <span style=\"color:blue\">\"not\"</span> para verificar se o valor, substring, ou chave NÃO estão presentes"
   ]
  },
  {
   "cell_type": "code",
   "execution_count": 18,
   "metadata": {
    "colab": {
     "base_uri": "https://localhost:8080/"
    },
    "executionInfo": {
     "elapsed": 787,
     "status": "ok",
     "timestamp": 1654725545572,
     "user": {
      "displayName": "Leandro Souza",
      "userId": "09739880192048464537"
     },
     "user_tz": 180
    },
    "id": "a1mFoq1EOiMI",
    "outputId": "a7330f8f-1710-4cc4-d876-a9c12a28cf12"
   },
   "outputs": [
    {
     "name": "stdout",
     "output_type": "stream",
     "text": [
      "True\n",
      "False\n",
      "False\n",
      "True\n"
     ]
    }
   ],
   "source": [
    "t = [1,2,3,4,5]\n",
    "print(3 in t)\n",
    "print(7 in t)\n",
    "print(3 not in t)\n",
    "print(7 not in t)\n"
   ]
  },
  {
   "cell_type": "code",
   "execution_count": 20,
   "metadata": {
    "colab": {
     "base_uri": "https://localhost:8080/"
    },
    "executionInfo": {
     "elapsed": 823,
     "status": "ok",
     "timestamp": 1654725625595,
     "user": {
      "displayName": "Leandro Souza",
      "userId": "09739880192048464537"
     },
     "user_tz": 180
    },
    "id": "Jd0Wk-nwOiMJ",
    "outputId": "773741fb-6092-4cc3-ad20-8a1741be2340"
   },
   "outputs": [
    {
     "name": "stdout",
     "output_type": "stream",
     "text": [
      "True\n",
      "True\n",
      "False\n"
     ]
    }
   ],
   "source": [
    "s = 'abcde'\n",
    "print('cd' in s)\n",
    "print('bcd' in s)\n",
    "print('acd' in s)"
   ]
  },
  {
   "cell_type": "code",
   "execution_count": 21,
   "metadata": {
    "colab": {
     "base_uri": "https://localhost:8080/"
    },
    "executionInfo": {
     "elapsed": 398,
     "status": "ok",
     "timestamp": 1654725643966,
     "user": {
      "displayName": "Leandro Souza",
      "userId": "09739880192048464537"
     },
     "user_tz": 180
    },
    "id": "HkKd-FJwOiMJ",
    "outputId": "e570c7cd-fe5a-403e-d619-22aa5ccf3fc8"
   },
   "outputs": [
    {
     "name": "stdout",
     "output_type": "stream",
     "text": [
      "True\n",
      "False\n"
     ]
    }
   ],
   "source": [
    "d = {'Brasil' : 1, 'Espanha' : 0}\n",
    "print('Brasil' in d)\n",
    "print('Espanha' not in d)"
   ]
  },
  {
   "cell_type": "markdown",
   "metadata": {
    "id": "l8AP9CDYOiMJ"
   },
   "source": [
    "__Atenção__:\n",
    "o operador <font color='blue'>in</font> também é usado em loops <font color='blue'>for</font>, porém, com uma conotação diferente."
   ]
  },
  {
   "cell_type": "markdown",
   "metadata": {
    "id": "UxzmIAvwOiMK"
   },
   "source": [
    "### <font color=\"blue\">\"+\"</font>\n",
    "O operador <font color='blue'>+</font> produz uma nova sequência que concatena os argumentos\n"
   ]
  },
  {
   "cell_type": "code",
   "execution_count": 23,
   "metadata": {
    "colab": {
     "base_uri": "https://localhost:8080/"
    },
    "executionInfo": {
     "elapsed": 404,
     "status": "ok",
     "timestamp": 1654725745908,
     "user": {
      "displayName": "Leandro Souza",
      "userId": "09739880192048464537"
     },
     "user_tz": 180
    },
    "id": "2dYm-BVxOiMK",
    "outputId": "1012c4fc-f993-4137-a22b-cf6982067707"
   },
   "outputs": [
    {
     "name": "stdout",
     "output_type": "stream",
     "text": [
      "(1, 2, 3, 4, 5, 6)\n"
     ]
    }
   ],
   "source": [
    "a = (1,2,3)\n",
    "b = (4,5,6)\n",
    "a = a + b\n",
    "print(a)"
   ]
  },
  {
   "cell_type": "code",
   "execution_count": 24,
   "metadata": {
    "colab": {
     "base_uri": "https://localhost:8080/"
    },
    "executionInfo": {
     "elapsed": 560,
     "status": "ok",
     "timestamp": 1654725789874,
     "user": {
      "displayName": "Leandro Souza",
      "userId": "09739880192048464537"
     },
     "user_tz": 180
    },
    "id": "3SxObZr3OiMK",
    "outputId": "8391262a-4c69-449a-9420-53412b3e4ecf"
   },
   "outputs": [
    {
     "name": "stdout",
     "output_type": "stream",
     "text": [
      "[1, 2, 3, 4, 5, 6]\n",
      "helloworld\n"
     ]
    }
   ],
   "source": [
    "print([1,2,3]+[4,5,6])\n",
    "print('hello'+'world')"
   ]
  },
  {
   "cell_type": "markdown",
   "metadata": {
    "id": "l8wJ2GkTOiMK"
   },
   "source": [
    "### <font color=\"blue\">\"*\"</font>\n",
    "O operador <font color=\"blue\">*</font> assume como argumentos um número inteiro e uma sequência\n",
    "- por exemplo: \n",
    "```python\n",
    "3 * [1,2,3] \n",
    "5 * \"---\" \n",
    "(1,2) * 3\n",
    "```\n",
    "- produz uma nova sequência com elementos replicados o número de vezes indicado pelo argumento inteiro"
   ]
  },
  {
   "cell_type": "code",
   "execution_count": 25,
   "metadata": {
    "colab": {
     "base_uri": "https://localhost:8080/"
    },
    "executionInfo": {
     "elapsed": 390,
     "status": "ok",
     "timestamp": 1654725813168,
     "user": {
      "displayName": "Leandro Souza",
      "userId": "09739880192048464537"
     },
     "user_tz": 180
    },
    "id": "ro7agGpfOiML",
    "outputId": "c3b4ab0b-701c-48b3-93f9-57e091e53fcc"
   },
   "outputs": [
    {
     "name": "stdout",
     "output_type": "stream",
     "text": [
      "(1, 2, 3, 1, 2, 3, 1, 2, 3)\n",
      "[1, 2, 3, 1, 2, 3]\n",
      "ababababab\n"
     ]
    }
   ],
   "source": [
    "print(3*(1,2,3))\n",
    "print([1,2,3]*2)\n",
    "print(5*'ab')"
   ]
  },
  {
   "cell_type": "markdown",
   "metadata": {
    "id": "8f6OCaDvOiML"
   },
   "source": [
    "---\n",
    "\n",
    "**<font color=\"blue\">Exercício 1.5 </font>**\n",
    "\n",
    "Considere a lista `linguagens` declarada abaixo. \n",
    "- Utilizando fatiamento, imprima o subconjunto de elementos entre o segundo e o quarto elemento (inclusive)\n",
    "- Gere uma nova lista chamada `maiores4` contendo os elementos da lista `linguagens` que possuam quatro caracteres ou mais, utilizando a função `len()`.\n",
    "- Gere uma nova lista chamada `j_ou_c` contendo os elementos da lista `linguagens` que começam com a letra 'j' ou com a letra 'c'."
   ]
  },
  {
   "cell_type": "code",
   "execution_count": null,
   "metadata": {
    "id": "CjlXD6LjOiML"
   },
   "outputs": [],
   "source": [
    "linguagens = ['python', 'java', 'c++', 'javascript', 'c#', 'go', 'r', 'cobol', 'ruby', 'lisp']"
   ]
  },
  {
   "cell_type": "markdown",
   "metadata": {
    "id": "f12V1CryOiMM"
   },
   "source": [
    "### Métodos de listas\n",
    "\n",
    "Listas possuem grande quantidade de *métodos* para sua manipulação. \n",
    "\n",
    "*Métodos* são funções associadas a objetos de um determinado tipo.\n",
    "\n",
    "Exemplos de métodos para listas:\n",
    "* append: insere elemento no final da lista\n",
    "* insert: insere elemento numa certa posição\n",
    "* extend: concatena listas\n",
    "* remove: remove o elemento relativo a primeira ocorrência de um valor\n",
    "* index: encontra a primeira posição em que um valor ocorre (se existir)\n",
    "* count: conta o número de ocorrências\n",
    "* sort: ordena a lista\n",
    "\n",
    "A documentação completa: https://docs.python.org/3/tutorial/datastructures.html\n"
   ]
  },
  {
   "cell_type": "code",
   "execution_count": 4,
   "metadata": {
    "colab": {
     "base_uri": "https://localhost:8080/"
    },
    "executionInfo": {
     "elapsed": 476,
     "status": "ok",
     "timestamp": 1654806574954,
     "user": {
      "displayName": "Leandro Souza",
      "userId": "09739880192048464537"
     },
     "user_tz": 180
    },
    "id": "pbMOaL__OiMM",
    "outputId": "47630874-417e-47b4-c5f0-341d1deaf0b7"
   },
   "outputs": [
    {
     "name": "stdout",
     "output_type": "stream",
     "text": [
      "[1, 2, 3, 4, 5, 'a']\n",
      "[1, 'b', 2, 3, 4, 5, 'a']\n",
      "[1, 'b', 2, 3, 4, 5, 'a', 'c', 'd']\n",
      "[1, 'b', 2, 3, 4, 5, 'a', 'c', 'd', [2, 3]]\n"
     ]
    }
   ],
   "source": [
    "lst = [1,2,3,4,5]\n",
    "lst.append('a') # insere novo elemento ao final da lista\n",
    "print(lst)\n",
    "lst.insert(1,'b') # insere novo elemento na posição 1 da lista (lembre-se que o primeiro elemento esta na posição 0)\n",
    "print(lst)\n",
    "lst.extend(['c','d']) # concatena os elementos de uma outra lista no final da lista que chama o método\n",
    "print(lst)\n",
    "lst.append([2,3]) # neste caso a lista [2,3] é inserida no final de lst (não realiza concatenação)\n",
    "print(lst)"
   ]
  },
  {
   "cell_type": "code",
   "execution_count": 7,
   "metadata": {
    "colab": {
     "base_uri": "https://localhost:8080/"
    },
    "executionInfo": {
     "elapsed": 374,
     "status": "ok",
     "timestamp": 1654806774917,
     "user": {
      "displayName": "Leandro Souza",
      "userId": "09739880192048464537"
     },
     "user_tz": 180
    },
    "id": "7e2I0R3DOiMM",
    "outputId": "14646459-743e-480d-a90c-78e3085b44c8"
   },
   "outputs": [
    {
     "name": "stdout",
     "output_type": "stream",
     "text": [
      "[0, 1, 2, 3, 4, 5, 6, 7, 8, 9]\n",
      "[0, 1, 2, 3, 4, 5, 6, 7, 8, 9, 'a']\n",
      "[0, 1, 2, 3, 4, 5, 6, 7, 8, 9, 'a', ['a']]\n",
      "[0, 1, 2, 3, 4, 5, 6, 7, 8, 9, 'a', ['a', 'b']]\n",
      "[0, 1, 2, 3, 4, 5, 6, 7, 8, 9, 'a', ['a', 'b'], 'c', 'd']\n"
     ]
    }
   ],
   "source": [
    "l = list(range(10)) # o comando 'range' gera números entre 0 e 9, \n",
    "                    # que são armazenados em uma lista \n",
    "print(l)\n",
    "l.append('a') # adiciona 'a' no final da lista l\n",
    "print(l)\n",
    "l.append(['a']) # adiciona a lista ['a'] no final da lista l\n",
    "print(l)\n",
    "l[-1].append('b') # l[-1] corresponde ao último elemento da lista l\n",
    "                  # que corresponde a lista ['a'], inserindo o elemento 'b' a esta lista\n",
    "print(l)\n",
    "l.extend(['c','d']) # concatena a lista ['c','d'] no final da lista l\n",
    "print(l)"
   ]
  },
  {
   "cell_type": "markdown",
   "metadata": {
    "id": "hqDrXM4BOiMM"
   },
   "source": [
    "__Atenção:__\n",
    "- <font color='blue'>extend</font> usa a lista em questão enquanto o operador <font color='blue'>+</font> cria uma nova lista\n",
    "- <font color='blue'>extend</font> assume uma LISTA como argumento enquanto <font color='blue'>append</font> assume um elemento como argumento (o elemento pode ser uma outra lista)"
   ]
  },
  {
   "cell_type": "code",
   "execution_count": 16,
   "metadata": {
    "colab": {
     "base_uri": "https://localhost:8080/"
    },
    "executionInfo": {
     "elapsed": 333,
     "status": "ok",
     "timestamp": 1654807095898,
     "user": {
      "displayName": "Leandro Souza",
      "userId": "09739880192048464537"
     },
     "user_tz": 180
    },
    "id": "UvBgczInOiMM",
    "outputId": "dc2c5936-893d-454a-fd2a-b869926e2848"
   },
   "outputs": [
    {
     "name": "stdout",
     "output_type": "stream",
     "text": [
      "Posicao da primeira ocorrencia de 'c':  2\n",
      "Numero de ocorrencias de 'c':  2\n",
      "Elementos ordenados: ['a', 'b', 'b', 'b', 'b', 'c', 'c', 'e']\n"
     ]
    }
   ],
   "source": [
    "xst = ['a', 'b', 'c', 'b','e','b','c','b']\n",
    "index = xst.index('c') # encontra o indice da primeira ocorrência\n",
    "print(\"Posicao da primeira ocorrencia de 'c': \",index)\n",
    "count = xst.count('c') # conta o numero de ocorrências\n",
    "print(\"Numero de ocorrencias de 'c': \",count) \n",
    "\n",
    "xst.sort() # ordena os elementos da lista do maior para o menor \n",
    "print(\"Elementos ordenados:\",xst)"
   ]
  },
  {
   "cell_type": "code",
   "execution_count": 17,
   "metadata": {
    "colab": {
     "base_uri": "https://localhost:8080/"
    },
    "executionInfo": {
     "elapsed": 338,
     "status": "ok",
     "timestamp": 1654807105724,
     "user": {
      "displayName": "Leandro Souza",
      "userId": "09739880192048464537"
     },
     "user_tz": 180
    },
    "id": "d-Fzo-PEOiMN",
    "outputId": "c43b918e-698a-4aeb-d5db-9e852b87325b"
   },
   "outputs": [
    {
     "name": "stdout",
     "output_type": "stream",
     "text": [
      "['a', 'b', 'b', 'b', 'b', 'c', 'c', 'e']\n",
      "['b', 'e', 'a', 'c']\n"
     ]
    }
   ],
   "source": [
    "print(xst)\n",
    "print(list(set(xst))) # remove repetidos"
   ]
  },
  {
   "cell_type": "markdown",
   "metadata": {
    "id": "YnbZ_su8OiMN"
   },
   "source": [
    "__Atenção:__ As operações <font color='blue'>sort</font> e <font color='blue'>reverse</font> são _\"in place\"_ (modificam a lista) "
   ]
  },
  {
   "cell_type": "markdown",
   "metadata": {
    "id": "pgPrFVj3OiMN"
   },
   "source": [
    "Os principais métodos para remover elementos de uma lista são:\n",
    "- <font color=\"blue\">remove</font>: remove a primeira ocorrência do elemento na lista\n",
    "- <font color=\"blue\">pop</font>: remove o último elemento da lista \n",
    "- <font color=\"blue\">del</font>: remove elemento de uma posição específica. Se nenhuma posição é especificada, toda a lista é removida da memória"
   ]
  },
  {
   "cell_type": "code",
   "execution_count": 20,
   "metadata": {
    "colab": {
     "base_uri": "https://localhost:8080/"
    },
    "executionInfo": {
     "elapsed": 378,
     "status": "ok",
     "timestamp": 1654807264610,
     "user": {
      "displayName": "Leandro Souza",
      "userId": "09739880192048464537"
     },
     "user_tz": 180
    },
    "id": "gM650971OiMN",
    "outputId": "05efc0bb-73a1-42e7-f712-1e303989e43d"
   },
   "outputs": [
    {
     "name": "stdout",
     "output_type": "stream",
     "text": [
      "Lista com a primeira ocorrencia de 'b' removida:  ['a', 'c', 'b', 'e', 'b']\n",
      "Elemento da posição 1 (neste caso 'c') removido:  ['a', 'b', 'e', 'b']\n",
      "Ultimo elemento (neste caso 'b') removido:  ['a', 'b', 'e']\n"
     ]
    }
   ],
   "source": [
    "xst = ['a', 'b', 'c', 'b', 'e', 'b']\n",
    "xst.remove('b') # remove primeira ocorrencia e 'b'\n",
    "print(\"Lista com a primeira ocorrencia de 'b' removida: \",xst)\n",
    "\n",
    "del xst[1] # remove elemento da posição 1\n",
    "print(\"Elemento da posição 1 (neste caso 'c') removido: \",xst)\n",
    "\n",
    "xst.pop() # remove ultimo elemento da lista, equivalente del xst[-1]\n",
    "print(\"Ultimo elemento (neste caso 'b') removido: \",xst)\n"
   ]
  },
  {
   "cell_type": "markdown",
   "metadata": {
    "id": "oHB_xSNROiMO"
   },
   "source": [
    "### Operadores nativos do python que operam em sequências\n",
    "A linguagem Python possui operadores que podem ser empregados em variáveis tipo sequências:\n",
    "- <font color=\"blue\">sorted</font>: ordena os elementos da sequência, gerando uma nova sequência (não afeta a sequência original)\n",
    "- <font color=\"blue\">max</font>: retorna o maior elemento da sequência\n",
    "- <font color=\"blue\">min</font>: retorna o menor elemento da sequência"
   ]
  },
  {
   "cell_type": "code",
   "execution_count": 24,
   "metadata": {
    "colab": {
     "base_uri": "https://localhost:8080/"
    },
    "executionInfo": {
     "elapsed": 591,
     "status": "ok",
     "timestamp": 1654807497153,
     "user": {
      "displayName": "Leandro Souza",
      "userId": "09739880192048464537"
     },
     "user_tz": 180
    },
    "id": "Zn1vPN86OiMO",
    "outputId": "0329c59a-e81c-45e5-dcea-cddd4c22cc30"
   },
   "outputs": [
    {
     "name": "stdout",
     "output_type": "stream",
     "text": [
      "Sequencia ordenada:  ['a', 'a', 'd', 'd', 'e', 'i', 'k', 'l', 'm', 'm', 'o', 't', 'z']\n",
      "Sequencia original:  adeakziomltmd\n",
      "<class 'str'> <class 'list'>\n",
      "Sequencia ordenada no formato string:  aaddeiklmmotz\n",
      "Maior elemento:  z\n",
      "Menor elemento:  a\n"
     ]
    }
   ],
   "source": [
    "seq = 'adeakziomltmd'\n",
    "\n",
    "seq_ordenada_lista = sorted(seq) # ordena a sequência de caracteres e salva em uma nova variavel. \n",
    "                           # A saida do método é uma lista\n",
    "                           # A sequência original não é afetada\n",
    "print('Sequencia ordenada: ', seq_ordenada_lista) \n",
    "print('Sequencia original: ', seq)\n",
    "\n",
    "print(type(seq),type(seq_ordenada_lista))\n",
    "\n",
    "# Convertendo uma lista em uma sequência de caracteres (string)\n",
    "seq_ordenada =''.join(seq_ordenada_lista)  # o comando join contatena elementos em uma string utilizando um separador.\n",
    "                                           # Neste caso o separador nao é fornecido, logo os caracteres ficam \"colados\".\n",
    "                                           # Rode o comando com '*'.join(seq_ordenada_lista) e veja o resultado\n",
    "print(\"Sequencia ordenada no formato string: \",seq_ordenada)\n",
    "\n",
    "seq_max = max(seq)  # retorna o maior elemento da sequência\n",
    "print('Maior elemento: ', seq_max)\n",
    "seq_min = min(seq)  # retorna o menor elemento da sequência\n",
    "print('Menor elemento: ', seq_min)"
   ]
  },
  {
   "cell_type": "code",
   "execution_count": 25,
   "metadata": {
    "colab": {
     "base_uri": "https://localhost:8080/"
    },
    "executionInfo": {
     "elapsed": 326,
     "status": "ok",
     "timestamp": 1654807512873,
     "user": {
      "displayName": "Leandro Souza",
      "userId": "09739880192048464537"
     },
     "user_tz": 180
    },
    "id": "oN3uLf9yOiMO",
    "outputId": "adfba3e0-6d9f-49ae-aa5b-963f82635596"
   },
   "outputs": [
    {
     "name": "stdout",
     "output_type": "stream",
     "text": [
      "['a', 'a', 'd', 'd', 'e', 'i', 'k', 'l', 'm', 'm', 'o', 't', 'z'] <class 'str'>\n"
     ]
    }
   ],
   "source": [
    "a = '123'\n",
    "b = str(seq_ordenada_lista)\n",
    "print(b,type(b))"
   ]
  },
  {
   "cell_type": "markdown",
   "metadata": {
    "id": "jPyQEDHNaP7v"
   },
   "source": [
    "## Dicionários\n",
    "\n",
    "Estruturas de dados que guardam um mapeamento entre **chaves** e **valores**\n",
    "\n",
    "- **Chaves**: inteiros, strings ou tuplas (tipos *imutáveis*), faze o papel de um \"índice\"\n",
    "- **Valores**: qualquer tipo\n",
    "\n",
    "É possível definir, modificar, visualizar e apagar os pares chave-valor de um dicionário\n",
    "\n",
    "Sintaxe para um dicionário com `n` elementos:\n",
    "```python\n",
    "{<chave 1>:<valor 1>, <chave 2>:<valor 2>, ..., <chave n>:<valor n>}\n",
    "```"
   ]
  },
  {
   "cell_type": "markdown",
   "metadata": {
    "id": "OHXHP6A1aP7x"
   },
   "source": [
    "---\n",
    "\n",
    "Suponha que queiramos armazenar e gerenciar dados de pessoas em uma organização, como por exemplo uma universidade que possui entre alunos, ex-alunos, professores e funcionários, mais de 1 milhão de pessoas.\n",
    "\n",
    "Idealmente seria interessante acessar os registros de cada um desses utilizando apenas um identificador.\n",
    "\n",
    "Exemplos:\n",
    "* identificador numérico inteiro: número USP, CPF;\n",
    "* combinação letras e números: passaporte brasileiro, placas de carro.\n",
    "\n",
    "<u>Caso de informações de veículos</u>: *placa*, *tipo*, *modelo*, *ano*, e *cor*\n",
    "* gostaríamos de recuperar essas informações por meio da *placa*\n",
    "\n",
    "Uso de lista:\n",
    "* índices são a ordem da posição,\n",
    "\n",
    "Assim um **dicionário** é ideal para usar índices personalizados"
   ]
  },
  {
   "cell_type": "code",
   "execution_count": 33,
   "metadata": {
    "executionInfo": {
     "elapsed": 327,
     "status": "ok",
     "timestamp": 1654808012599,
     "user": {
      "displayName": "Leandro Souza",
      "userId": "09739880192048464537"
     },
     "user_tz": 180
    },
    "id": "HT-Qz-OsaP7x",
    "scrolled": true
   },
   "outputs": [],
   "source": [
    "veic = {\n",
    "    'AAA0A00': ['Carro', 'Fusca', 1978, 'Azul'],\n",
    "    'BBB1B11': ['Carro', 'Voyage', 1985, 'Branco'],\n",
    "    'CCC2C22': ['Carro', 'Del-Rey', 1984, 'Dourado']\n",
    "}"
   ]
  },
  {
   "cell_type": "code",
   "execution_count": 27,
   "metadata": {
    "colab": {
     "base_uri": "https://localhost:8080/"
    },
    "executionInfo": {
     "elapsed": 365,
     "status": "ok",
     "timestamp": 1654807863286,
     "user": {
      "displayName": "Leandro Souza",
      "userId": "09739880192048464537"
     },
     "user_tz": 180
    },
    "id": "5wjZ9x02aP72",
    "outputId": "5801088f-6448-46fe-b4f0-e79cbc059694",
    "scrolled": true
   },
   "outputs": [
    {
     "data": {
      "text/plain": [
       "['Carro', 'Del-Rey', 1984, 'Dourado']"
      ]
     },
     "execution_count": 27,
     "metadata": {},
     "output_type": "execute_result"
    }
   ],
   "source": [
    "veic['CCC2C22']"
   ]
  },
  {
   "cell_type": "code",
   "execution_count": 28,
   "metadata": {
    "colab": {
     "base_uri": "https://localhost:8080/",
     "height": 166
    },
    "executionInfo": {
     "elapsed": 334,
     "status": "error",
     "timestamp": 1654807885779,
     "user": {
      "displayName": "Leandro Souza",
      "userId": "09739880192048464537"
     },
     "user_tz": 180
    },
    "id": "QfYECFkqOiMQ",
    "outputId": "28542cbf-3e76-41f6-9a6a-1bd1e12797b3"
   },
   "outputs": [
    {
     "ename": "KeyError",
     "evalue": "ignored",
     "output_type": "error",
     "traceback": [
      "\u001b[0;31m---------------------------------------------------------------------------\u001b[0m",
      "\u001b[0;31mKeyError\u001b[0m                                  Traceback (most recent call last)",
      "\u001b[0;32m<ipython-input-28-a55dcb6f3fad>\u001b[0m in \u001b[0;36m<module>\u001b[0;34m()\u001b[0m\n\u001b[0;32m----> 1\u001b[0;31m \u001b[0mveic\u001b[0m\u001b[0;34m[\u001b[0m\u001b[0;36m2\u001b[0m\u001b[0;34m]\u001b[0m\u001b[0;34m\u001b[0m\u001b[0;34m\u001b[0m\u001b[0m\n\u001b[0m",
      "\u001b[0;31mKeyError\u001b[0m: 2"
     ]
    }
   ],
   "source": [
    "veic[2]"
   ]
  },
  {
   "cell_type": "markdown",
   "metadata": {
    "id": "LmC0LrGbOiMQ"
   },
   "source": [
    "---\n",
    "\n",
    "Dicionários são **mutáveis** como listas,\n",
    "\n"
   ]
  },
  {
   "cell_type": "markdown",
   "metadata": {
    "id": "hKimxdL7aP76"
   },
   "source": [
    "* *Inclusão* de novos pares `chave:valor`, e *modificações* de chaves atuais, podem ser feitas fazendo uma atribuição\n",
    "* *Remover* um par `chav:valor`: utiliza-se `del()` ou o método `pop()`"
   ]
  },
  {
   "cell_type": "code",
   "execution_count": 34,
   "metadata": {
    "colab": {
     "base_uri": "https://localhost:8080/"
    },
    "executionInfo": {
     "elapsed": 347,
     "status": "ok",
     "timestamp": 1654808023969,
     "user": {
      "displayName": "Leandro Souza",
      "userId": "09739880192048464537"
     },
     "user_tz": 180
    },
    "id": "8WnKQcSWOiMR",
    "outputId": "38618296-df51-4477-ffb7-5780b3d811e3"
   },
   "outputs": [
    {
     "data": {
      "text/plain": [
       "{'AAA0A00': ['Carro', 'Fusca', 1978, 'Azul'],\n",
       " 'CCC2C22': ['Carro', 'Del-Rey', 1984, 'Dourado'],\n",
       " 'DDD3D33': ['Moto', 'CB', 1995, 'Preta'],\n",
       " 'EEE4E44': ['Moto', 'Factor', 2001, 'Branca']}"
      ]
     },
     "execution_count": 34,
     "metadata": {},
     "output_type": "execute_result"
    }
   ],
   "source": [
    "# inclusao\n",
    "veic['DDD3D33'] = ['Moto', 'CB', 1995, 'Preta']\n",
    "# modificacao\n",
    "veic['EEE4E44'] = ['Moto', 'Factor', 2001, 'Branca']\n",
    "\n",
    "# exclusao\n",
    "del veic['BBB1B11']\n",
    "veic"
   ]
  },
  {
   "cell_type": "markdown",
   "metadata": {
    "id": "u4MAh73_OiMR"
   },
   "source": [
    "#### Operador `in` \n",
    "\n",
    "Verifica se uma chave pertence ao dicionário\n"
   ]
  },
  {
   "cell_type": "code",
   "execution_count": 35,
   "metadata": {
    "colab": {
     "base_uri": "https://localhost:8080/"
    },
    "executionInfo": {
     "elapsed": 319,
     "status": "ok",
     "timestamp": 1654808063608,
     "user": {
      "displayName": "Leandro Souza",
      "userId": "09739880192048464537"
     },
     "user_tz": 180
    },
    "id": "cveNaxOaOiMR",
    "outputId": "2bd54ae8-0ac4-4e7d-a4d4-8cedca7b10d4"
   },
   "outputs": [
    {
     "data": {
      "text/plain": [
       "True"
      ]
     },
     "execution_count": 35,
     "metadata": {},
     "output_type": "execute_result"
    }
   ],
   "source": [
    "'DDD3D33' in veic"
   ]
  },
  {
   "cell_type": "code",
   "execution_count": 36,
   "metadata": {
    "colab": {
     "base_uri": "https://localhost:8080/"
    },
    "executionInfo": {
     "elapsed": 325,
     "status": "ok",
     "timestamp": 1654808083481,
     "user": {
      "displayName": "Leandro Souza",
      "userId": "09739880192048464537"
     },
     "user_tz": 180
    },
    "id": "CPb7OaGkOiMR",
    "outputId": "318a4849-b4ef-40d0-e374-5adc8055e1a1"
   },
   "outputs": [
    {
     "data": {
      "text/plain": [
       "False"
      ]
     },
     "execution_count": 36,
     "metadata": {},
     "output_type": "execute_result"
    }
   ],
   "source": [
    "'XXX1X11' in veic"
   ]
  },
  {
   "cell_type": "markdown",
   "metadata": {
    "id": "hjO9oUkBOiMS"
   },
   "source": [
    "#### Métodos de dicionários:\n",
    "* `keys()` retorna as chaves do dicionário\n",
    "Num formato que permite iterar pelas chaves, mas que *não* é uma lista\n",
    "\n",
    "* `values()` e `items()` retornam os valores do dicionário\n",
    "    * `values` retorna uma sequência com os valores apenas, sem as chaves\n",
    "    * `items` retorna uma sequência com tuplas para cada par (chave, valor)"
   ]
  },
  {
   "cell_type": "code",
   "execution_count": 37,
   "metadata": {
    "colab": {
     "base_uri": "https://localhost:8080/"
    },
    "executionInfo": {
     "elapsed": 316,
     "status": "ok",
     "timestamp": 1654808106268,
     "user": {
      "displayName": "Leandro Souza",
      "userId": "09739880192048464537"
     },
     "user_tz": 180
    },
    "id": "nTpigkrSOiMS",
    "outputId": "1cb65408-a501-46df-e3e8-bb4791dbe6ca"
   },
   "outputs": [
    {
     "name": "stdout",
     "output_type": "stream",
     "text": [
      "AAA0A00\n",
      "CCC2C22\n",
      "DDD3D33\n",
      "EEE4E44\n"
     ]
    }
   ],
   "source": [
    "for v in veic.keys():\n",
    "    print(v)"
   ]
  },
  {
   "cell_type": "code",
   "execution_count": 38,
   "metadata": {
    "colab": {
     "base_uri": "https://localhost:8080/"
    },
    "executionInfo": {
     "elapsed": 348,
     "status": "ok",
     "timestamp": 1654808125120,
     "user": {
      "displayName": "Leandro Souza",
      "userId": "09739880192048464537"
     },
     "user_tz": 180
    },
    "id": "Yt44RrcWaP76",
    "outputId": "ce8f9989-4fc6-47ef-f656-fc3ae6d51db1"
   },
   "outputs": [
    {
     "name": "stdout",
     "output_type": "stream",
     "text": [
      "['Carro', 'Fusca', 1978, 'Azul']\n",
      "['Carro', 'Del-Rey', 1984, 'Dourado']\n",
      "['Moto', 'CB', 1995, 'Preta']\n",
      "['Moto', 'Factor', 2001, 'Branca']\n"
     ]
    }
   ],
   "source": [
    "for v in veic.values():\n",
    "    print(v)"
   ]
  },
  {
   "cell_type": "code",
   "execution_count": 40,
   "metadata": {
    "colab": {
     "base_uri": "https://localhost:8080/"
    },
    "executionInfo": {
     "elapsed": 336,
     "status": "ok",
     "timestamp": 1654808192213,
     "user": {
      "displayName": "Leandro Souza",
      "userId": "09739880192048464537"
     },
     "user_tz": 180
    },
    "id": "9CUuUD7cOiMS",
    "outputId": "824cdef9-5562-4854-bb92-a7261d95d749"
   },
   "outputs": [
    {
     "name": "stdout",
     "output_type": "stream",
     "text": [
      "AAA0A00\n",
      "['Carro', 'Fusca', 1978, 'Azul']\n",
      "CCC2C22\n",
      "['Carro', 'Del-Rey', 1984, 'Dourado']\n",
      "DDD3D33\n",
      "['Moto', 'CB', 1995, 'Preta']\n",
      "EEE4E44\n",
      "['Moto', 'Factor', 2001, 'Branca']\n"
     ]
    }
   ],
   "source": [
    "for c,a in veic.items():\n",
    "    print(c)\n",
    "    print(a)"
   ]
  },
  {
   "cell_type": "markdown",
   "metadata": {
    "id": "UwIGzoorOiMS"
   },
   "source": [
    "---\n",
    "**<font color=\"blue\">Exercício 1.6 </font>**\n",
    "\n",
    "\n",
    "Codifique uma função `conta_palavras()` que, a partir de um um texto (string) contendo palavras separadas por vírgulas apenas - considere que não há outras pontuações:\n",
    "1. Inicie criando uma lista de palavras e \n",
    "2. Use um dicionário para contar a frequência de cada palavra no texto, retornando o dicionário obtido.\n",
    "\n",
    "*Dica: use a função `str.split()` para separar uma string em substrings usando como delimitador um caracter especificado por argumento*\n",
    "\n",
    "Exemplo:\n",
    "\n",
    "```\n",
    "nomes = \"ana,fábio,cristina,ana,fábio,ubiratã,ana\"\n",
    "freq = conta_palavras(nomes)\n",
    "print(freq)\n",
    "```\n",
    "Deve gerar:\n",
    "```\n",
    "{'ana': 3, 'fábio': 2, 'cristina': 1, 'ubiratã': 1}\n",
    "```"
   ]
  }
 ],
 "metadata": {
  "colab": {
   "collapsed_sections": [],
   "name": "LFIABD-Aula1-2_Sequencias_Dicionarios.ipynb",
   "provenance": []
  },
  "kernelspec": {
   "display_name": "Python 3.12.0 64-bit",
   "language": "python",
   "name": "python3"
  },
  "language_info": {
   "codemirror_mode": {
    "name": "ipython",
    "version": 3
   },
   "file_extension": ".py",
   "mimetype": "text/x-python",
   "name": "python",
   "nbconvert_exporter": "python",
   "pygments_lexer": "ipython3",
   "version": "3.12.0"
  },
  "toc": {
   "base_numbering": 1,
   "nav_menu": {},
   "number_sections": true,
   "sideBar": true,
   "skip_h1_title": false,
   "title_cell": "Table of Contents",
   "title_sidebar": "Contents",
   "toc_cell": false,
   "toc_position": {},
   "toc_section_display": true,
   "toc_window_display": false
  },
  "vscode": {
   "interpreter": {
    "hash": "aee8b7b246df8f9039afb4144a1f6fd8d2ca17a180786b69acc140d282b71a49"
   }
  }
 },
 "nbformat": 4,
 "nbformat_minor": 1
}
