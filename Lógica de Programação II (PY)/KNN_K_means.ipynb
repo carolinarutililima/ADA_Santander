{
 "cells": [
  {
   "cell_type": "code",
   "execution_count": 3,
   "metadata": {},
   "outputs": [],
   "source": [
    "#KNN\n",
    "import numpy as np\n",
    "from collections import Counter\n",
    "\n",
    "X_train = np.array([[1, 2], [3, 4], [5, 6], [7, 8]])  # Training features\n",
    "y_train = np.array([0, 1, 1, 0])                      # Training labels\n",
    "X_test = np.array([[2, 3], [4, 5]])                   # Test features\n"
   ]
  },
  {
   "cell_type": "code",
   "execution_count": 4,
   "metadata": {},
   "outputs": [],
   "source": [
    "def knn_predict(X_train, y_train, X_test, k):\n",
    "    # Function to calculate Euclidean distance\n",
    "    def euclidean_distance(x1, x2):\n",
    "        return np.sqrt(np.sum((x1 - x2) ** 2))\n",
    "\n",
    "    # List to store all our predictions\n",
    "    predictions = []\n",
    "\n",
    "    # Iterate over each test point\n",
    "    for test_point in X_test:\n",
    "        # Calculate distances between the test point and all training points\n",
    "        distances = [euclidean_distance(test_point, x) for x in X_train]\n",
    "\n",
    "        # Sort distances and return indices of k nearest neighbors\n",
    "        k_indices = np.argsort(distances)[:k]\n",
    "\n",
    "        # Extract the labels of the k nearest neighbor training samples\n",
    "        k_nearest_labels = [y_train[i] for i in k_indices]\n",
    "\n",
    "        # Majority vote, most common class label\n",
    "        most_common = Counter(k_nearest_labels).most_common(1)\n",
    "        predictions.append(most_common[0][0])\n",
    "\n",
    "    return predictions"
   ]
  },
  {
   "cell_type": "code",
   "execution_count": 5,
   "metadata": {},
   "outputs": [
    {
     "name": "stdout",
     "output_type": "stream",
     "text": [
      "Predictions: [1, 1]\n"
     ]
    }
   ],
   "source": [
    "# Making predictions\n",
    "k = 3  # number of neighbors\n",
    "predictions = knn_predict(X_train, y_train, X_test, k)\n",
    "\n",
    "# Print predictions\n",
    "print(\"Predictions:\", predictions)\n",
    "\n",
    "# If you have test labels, you can calculate accuracy\n",
    "# y_test = np.array([...])  # Actual test labels\n",
    "# accuracy = np.mean(predictions == y_test)\n",
    "# print(\"Accuracy:\", accuracy)"
   ]
  },
  {
   "cell_type": "code",
   "execution_count": 6,
   "metadata": {},
   "outputs": [],
   "source": [
    "#K means\n",
    "\n",
    "import numpy as np\n",
    "# Example dataset\n",
    "X = np.array([[1, 2], [1.5, 1.8], [5, 8], [8, 8], [1, 0.6], [9, 11]])\n"
   ]
  },
  {
   "cell_type": "code",
   "execution_count": 7,
   "metadata": {},
   "outputs": [],
   "source": [
    "class KMeans:\n",
    "    def __init__(self, k=2, max_iterations=100):\n",
    "        self.k = k\n",
    "        self.max_iterations = max_iterations\n",
    "\n",
    "    def initialize_centroids(self, X):\n",
    "        np.random.seed(42)\n",
    "        random_idx = np.random.permutation(X.shape[0])\n",
    "        centroids = X[random_idx[:self.k]]\n",
    "        return centroids\n",
    "\n",
    "    def closest_centroid(self, X, centroids):\n",
    "        distances = np.sqrt(((X - centroids[:, np.newaxis])**2).sum(axis=2))\n",
    "        return np.argmin(distances, axis=0)\n",
    "\n",
    "    def compute_centroids(self, X, labels):\n",
    "        return np.array([X[labels == i].mean(axis=0) for i in range(self.k)])\n",
    "\n",
    "    def fit(self, X):\n",
    "        self.centroids = self.initialize_centroids(X)\n",
    "        for _ in range(self.max_iterations):\n",
    "            self.labels = self.closest_centroid(X, self.centroids)\n",
    "            new_centroids = self.compute_centroids(X, self.labels)\n",
    "            if np.all(self.centroids == new_centroids):\n",
    "                break\n",
    "            self.centroids = new_centroids\n",
    "        return self.centroids, self.labels\n"
   ]
  },
  {
   "cell_type": "code",
   "execution_count": 8,
   "metadata": {},
   "outputs": [
    {
     "name": "stdout",
     "output_type": "stream",
     "text": [
      "Centroids:\n",
      " [[1.25       1.9       ]\n",
      " [1.         0.6       ]\n",
      " [7.33333333 9.        ]]\n",
      "Labels:\n",
      " [0 0 2 2 1 2]\n"
     ]
    }
   ],
   "source": [
    "kmeans = KMeans(k=3)\n",
    "centroids, labels = kmeans.fit(X)\n",
    "\n",
    "print(\"Centroids:\\n\", centroids)\n",
    "print(\"Labels:\\n\", labels)\n"
   ]
  },
  {
   "cell_type": "code",
   "execution_count": 9,
   "metadata": {},
   "outputs": [
    {
     "data": {
      "image/png": "[encoded data removed]",
      "text/plain": [
       "<Figure size 432x288 with 1 Axes>"
      ]
     },
     "metadata": {
      "needs_background": "light"
     },
     "output_type": "display_data"
    }
   ],
   "source": [
    "import matplotlib.pyplot as plt\n",
    "\n",
    "plt.scatter(X[:, 0], X[:, 1], c=labels, s=50, cmap='viridis')\n",
    "plt.scatter(centroids[:, 0], centroids[:, 1], c='black', s=200, alpha=0.5)\n",
    "plt.show()\n"
   ]
  },
  {
   "cell_type": "code",
   "execution_count": null,
   "metadata": {},
   "outputs": [],
   "source": []
  }
 ],
 "metadata": {
  "kernelspec": {
   "display_name": "Python 3.8.5 ('base')",
   "language": "python",
   "name": "python3"
  },
  "language_info": {
   "codemirror_mode": {
    "name": "ipython",
    "version": 3
   },
   "file_extension": ".py",
   "mimetype": "text/x-python",
   "name": "python",
   "nbconvert_exporter": "python",
   "pygments_lexer": "ipython3",
   "version": "3.8.5"
  },
  "orig_nbformat": 4,
  "vscode": {
   "interpreter": {
    "hash": "b1061245a22b17b19b85cf003e8b8bfcc4cdf8dbb1d6518b2fde69d455e71cf5"
   }
  }
 },
 "nbformat": 4,
 "nbformat_minor": 2
}
