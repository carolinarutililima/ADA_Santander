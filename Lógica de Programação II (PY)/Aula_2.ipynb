{
 "cells": [
  {
   "cell_type": "code",
   "execution_count": 22,
   "metadata": {},
   "outputs": [
    {
     "data": {
      "text/plain": [
       "False"
      ]
     },
     "execution_count": 22,
     "metadata": {},
     "output_type": "execute_result"
    }
   ],
   "source": [
    "#Funções\n",
    "\n",
    "def is_float(x):\n",
    "    return type(x) == float \n",
    "\n",
    "is_float(9)"
   ]
  },
  {
   "cell_type": "code",
   "execution_count": 23,
   "metadata": {},
   "outputs": [
    {
     "data": {
      "text/plain": [
       "True"
      ]
     },
     "execution_count": 23,
     "metadata": {},
     "output_type": "execute_result"
    }
   ],
   "source": [
    "def is_float_int(x):\n",
    "    return type(x) == float or type(x) == int\n",
    "\n",
    "is_float_int(9)"
   ]
  },
  {
   "cell_type": "code",
   "execution_count": 24,
   "metadata": {},
   "outputs": [],
   "source": [
    "#lista de tuplas\n",
    "frutas1 = (640, 'morango', 25.0)\n",
    "frutas2 = (201, 'banana', 4.99)\n",
    "frutas3 = (452, 'abacaxi', 9.99)\n",
    "frutas4 = (330, 'laranja', 5.50)"
   ]
  },
  {
   "cell_type": "code",
   "execution_count": 25,
   "metadata": {},
   "outputs": [],
   "source": [
    "lista = [frutas1, frutas2, frutas3, frutas4]"
   ]
  },
  {
   "cell_type": "code",
   "execution_count": 26,
   "metadata": {},
   "outputs": [],
   "source": [
    "frutas = [i[1] for i in lista ]"
   ]
  },
  {
   "cell_type": "code",
   "execution_count": 27,
   "metadata": {},
   "outputs": [
    {
     "data": {
      "text/plain": [
       "['morango', 'banana', 'abacaxi', 'laranja']"
      ]
     },
     "execution_count": 27,
     "metadata": {},
     "output_type": "execute_result"
    }
   ],
   "source": [
    "frutas"
   ]
  },
  {
   "cell_type": "code",
   "execution_count": 28,
   "metadata": {},
   "outputs": [],
   "source": [
    "#preço ordenado pelo terceiro item\n",
    "frutas_preco = sorted(lista, key=lambda x: x[2])\n"
   ]
  },
  {
   "cell_type": "code",
   "execution_count": 29,
   "metadata": {},
   "outputs": [
    {
     "ename": "NameError",
     "evalue": "name 'lista_ordenada' is not defined",
     "output_type": "error",
     "traceback": [
      "\u001b[0;31m---------------------------------------------------------------------------\u001b[0m",
      "\u001b[0;31mNameError\u001b[0m                                 Traceback (most recent call last)",
      "\u001b[0;32m<ipython-input-29-327cd99e7c13>\u001b[0m in \u001b[0;36m<module>\u001b[0;34m\u001b[0m\n\u001b[0;32m----> 1\u001b[0;31m \u001b[0mlista_ordenada\u001b[0m\u001b[0;34m\u001b[0m\u001b[0;34m\u001b[0m\u001b[0m\n\u001b[0m",
      "\u001b[0;31mNameError\u001b[0m: name 'lista_ordenada' is not defined"
     ]
    }
   ],
   "source": [
    "lista_ordenada"
   ]
  },
  {
   "cell_type": "code",
   "execution_count": null,
   "metadata": {},
   "outputs": [],
   "source": [
    "notas = {\n",
    "    'Python':{ 2020: [9.5, 8.0, 10.0, 5.0, 6.0, 6.0 ], \n",
    "               2021: [8.2, 10.0, 10.0, 9.0, 7.5, 7.0]},\n",
    "    'Redes Neurais' : {2019: [8.2, 10.0, 10.0, 9.0, 7.5, 7.0],\n",
    "                        2020: [8.2, 10.0, 10.0, 9.0, 7.5, 5.0],\n",
    "                        2021: [8.2, 10.0, 10.0, 9.0, 7.5, 4.3] }\n",
    "\n",
    "}"
   ]
  },
  {
   "cell_type": "code",
   "execution_count": null,
   "metadata": {},
   "outputs": [],
   "source": [
    "notas['Python'][2020]"
   ]
  },
  {
   "cell_type": "code",
   "execution_count": null,
   "metadata": {},
   "outputs": [],
   "source": [
    "for turma in notas['Redes Neurais']:\n",
    "    print(min(notas['Redes Neurais'][turma]))"
   ]
  },
  {
   "cell_type": "code",
   "execution_count": null,
   "metadata": {},
   "outputs": [],
   "source": [
    "menor = [min(notas['Redes Neurais'][turma]) for turma in notas['Redes Neurais']]"
   ]
  },
  {
   "cell_type": "code",
   "execution_count": null,
   "metadata": {},
   "outputs": [],
   "source": [
    "menor"
   ]
  },
  {
   "cell_type": "markdown",
   "metadata": {},
   "source": [
    "Codifique uma função que use compreension para retornar uma lista com n valores numéricos iniciando em 0 e com passo o permitindo um número float como passo. Arredonde cada número para 5 casas decimais usando a função round (, 5)\n",
    "Exemplo para n=8, p=0.05\n",
    "*** [0.0, 0.05, 0.1, 0.15, 0.2, 0.25, 0.3, 0.35,"
   ]
  },
  {
   "cell_type": "code",
   "execution_count": null,
   "metadata": {},
   "outputs": [],
   "source": [
    "import numpy as np\n",
    "\n",
    "lista_final = [round(i,5) for i in np.arange(0,8,0.05)]"
   ]
  },
  {
   "cell_type": "code",
   "execution_count": null,
   "metadata": {},
   "outputs": [],
   "source": [
    "lista_final"
   ]
  },
  {
   "cell_type": "markdown",
   "metadata": {},
   "source": [
    "\n",
    "A partir de um vetor com números inteiros aleatórios, calcular seu `log` e criar uma lista com o resultado.\n",
    "* se o número for 0 substituir o valor por `nan` (not a number) da biblioteca `math` para indicar que o resultado não é numérico"
   ]
  },
  {
   "cell_type": "code",
   "execution_count": null,
   "metadata": {},
   "outputs": [],
   "source": [
    "valores = [0,2, 3,5, 6,7,8,21,34,54,65,87,0,987,3123,645,321,3534]\n",
    "import math\n",
    "valores_result = [math.log(i) if i!=0 else math.nan for i in valores]"
   ]
  },
  {
   "cell_type": "code",
   "execution_count": null,
   "metadata": {},
   "outputs": [],
   "source": [
    "valores_result"
   ]
  },
  {
   "cell_type": "code",
   "execution_count": null,
   "metadata": {},
   "outputs": [],
   "source": [
    "l1 = list(range(1,10))\n",
    "l2 = list(range(0,26,2))\n",
    "t1 = tuple(range(10,100,10))"
   ]
  },
  {
   "cell_type": "code",
   "execution_count": null,
   "metadata": {},
   "outputs": [
    {
     "name": "stdout",
     "output_type": "stream",
     "text": [
      "1 0 10\n",
      "2 2 20\n",
      "3 4 30\n",
      "4 6 40\n",
      "5 8 50\n",
      "6 10 60\n",
      "7 12 70\n",
      "8 14 80\n",
      "9 16 90\n"
     ]
    }
   ],
   "source": [
    "for i,j,t in zip(l1,l2,t1):\n",
    "    print(i,j,t)"
   ]
  },
  {
   "cell_type": "code",
   "execution_count": null,
   "metadata": {},
   "outputs": [],
   "source": [
    "val1 = [1,5,4,6,7,8,9,0,2]\n",
    "val2 = [1,5,4,6,7,4,2,0,2]\n",
    "\n",
    "equal_pos = [i if i==j else False for i,j in zip(val1,val2)]"
   ]
  },
  {
   "cell_type": "code",
   "execution_count": null,
   "metadata": {},
   "outputs": [
    {
     "data": {
      "text/plain": [
       "[1, 5, 4, 6, 7, False, False, 0, 2]"
      ]
     },
     "execution_count": 7,
     "metadata": {},
     "output_type": "execute_result"
    }
   ],
   "source": [
    "equal_pos"
   ]
  },
  {
   "cell_type": "code",
   "execution_count": null,
   "metadata": {},
   "outputs": [],
   "source": [
    "A = ['a', 'b']\n",
    "B = [10,20,30]\n",
    "\n",
    "prod_cart = {a:b for a in A for b in B}"
   ]
  },
  {
   "cell_type": "code",
   "execution_count": 13,
   "metadata": {},
   "outputs": [
    {
     "data": {
      "text/plain": [
       "{'a': [30], 'b': [30]}"
      ]
     },
     "execution_count": 13,
     "metadata": {},
     "output_type": "execute_result"
    }
   ],
   "source": [
    "prod_cart"
   ]
  },
  {
   "cell_type": "code",
   "execution_count": 30,
   "metadata": {},
   "outputs": [],
   "source": [
    "A = ['a', 'b']\n",
    "B = [10,20,30]\n",
    "\n",
    "prod_cart1 = {(a,b) for a in A for b in B}"
   ]
  },
  {
   "cell_type": "code",
   "execution_count": 32,
   "metadata": {},
   "outputs": [
    {
     "data": {
      "text/plain": [
       "{('a', 10), ('a', 20), ('a', 30), ('b', 10), ('b', 20), ('b', 30)}"
      ]
     },
     "execution_count": 32,
     "metadata": {},
     "output_type": "execute_result"
    }
   ],
   "source": [
    "prod_cart1\n",
    "\n"
   ]
  },
  {
   "cell_type": "markdown",
   "metadata": {},
   "source": [
    "Ex 1.\n",
    "\n",
    "Codifique uma função que receba como argumento duas listas de números com o mesmo tamanho. Use comprehension para retornar uma nova lista que é a multiplicação elemento-a-elemento das duas listas.  Caso as listas não possuam o mesmo tamanho emita uma mensagem de erro e retorne a constante `math.nan` do módulo `math`.\n",
    "\n",
    "Exemplo:\n",
    "```\n",
    "l1 = [1, 2, 3, 4, 5]\n",
    "l2 = [5, 5, 5, 10, 10]\n",
    "multiplica_listas(l1,l2)\n",
    "\n",
    "  [5, 10, 15, 40, 50]\n",
    "```"
   ]
  },
  {
   "cell_type": "code",
   "execution_count": 7,
   "metadata": {},
   "outputs": [
    {
     "name": "stdout",
     "output_type": "stream",
     "text": [
      "[5, 10, 15, 40, 50]\n",
      "nan\n"
     ]
    }
   ],
   "source": [
    "import math\n",
    "\n",
    "def multiplica_listas(l1,l2):\n",
    "    if len(l1) == len(l2):\n",
    "        return [i*j for i,j in zip(l1,l2)]\n",
    "    else: \n",
    "        return math.nan\n",
    "\n",
    "\n",
    "l1 = [1, 2, 3, 4, 5]\n",
    "l2 = [5, 5, 5, 10, 10]\n",
    "print(multiplica_listas(l1,l2))\n",
    "\n",
    "l1 = [1, 2, 3, 4]\n",
    "l2 = [5, 5, 5, 10, 10]\n",
    "print(multiplica_listas(l1,l2))\n",
    "\n"
   ]
  },
  {
   "cell_type": "markdown",
   "metadata": {},
   "source": [
    "Ex 2. \n",
    "\n",
    "Codifique uma comprehension que simule uma matriz de tamanho n x n, cujos elementos são dados por `(i+j*i)`, sendo `i` o índice da linha e `j` o índice da coluna. Para simular isso com uma lista de listas, o `i` corresponde ao índice da lista principal e o `j` aos índices das listas aninhadas.\n",
    "\n",
    "Por exemplo, seja a segunda lista (posição i=1), o seu terceiro elemento (posição j=2) seria obtido por `1+2*1 = 3`\n",
    "\n",
    "Exemplo com n = 3:\n",
    "```\n",
    "  [[0, 0, 0],\n",
    "   [1, 2, 3],\n",
    "   [2, 4, 6]] \n",
    "```"
   ]
  },
  {
   "cell_type": "code",
   "execution_count": 37,
   "metadata": {},
   "outputs": [
    {
     "data": {
      "text/plain": [
       "[[0, 0, 0, 0, 0],\n",
       " [1, 2, 3, 4, 5],\n",
       " [2, 4, 6, 8, 10],\n",
       " [3, 6, 9, 12, 15],\n",
       " [4, 8, 12, 16, 20]]"
      ]
     },
     "execution_count": 37,
     "metadata": {},
     "output_type": "execute_result"
    }
   ],
   "source": [
    "def matrix(n):\n",
    "    return [[i + j * i for j in range(n)] for i in range(n)]\n",
    "\n",
    "matrix(5)\n"
   ]
  },
  {
   "cell_type": "markdown",
   "metadata": {},
   "source": [
    "Ex 3. \n",
    "\n",
    "Temos uma série de pontos 3D organizados numa lista e gostaríamos de computar as distâncias entre todos os pontos pareados.\n",
    "\n",
    "Calcular a distância entre dois pontos $p1 = (x_1,y_1,z_1)$ e  $p2 = (x_2,y_2,z_2)$ usando a fórmula\n",
    "\n",
    "$$d(p1,p2) = |x_1 - x_2| +|y_1 - y_2| + |z_1 - z_2|,$$\n",
    "em que $|.|$ representa o valor absoluto.\n",
    "\n",
    "Exemplo com 2 pontos organizados em listas:\n",
    "```\n",
    "[[1.0, 1.0, 1.0],\n",
    " [3.0, 3.0, 3.0]]\n",
    "```\n",
    "\n",
    "A saída deve ser:\n",
    "```\n",
    "[[0.0, 6.0],\n",
    " [6.0, 0.0]]\n",
    "```\n",
    "\n",
    "Note que a diagonal principal tem sempre valor zero já que representa a distância de um ponto para ele mesmo, e que a matriz é simétrica pois a distância entre dois pontos p1 e p2 é tal que: d(p1,p2) = d(p2,p1).\n",
    "\n",
    "Para isso utilize uma única linha contendo comprehensions aninhadas e com iteração em paralelo"
   ]
  },
  {
   "cell_type": "code",
   "execution_count": 16,
   "metadata": {},
   "outputs": [
    {
     "data": {
      "text/plain": [
       "[[0.0, 6.0], [6.0, 0.0]]"
      ]
     },
     "execution_count": 16,
     "metadata": {},
     "output_type": "execute_result"
    }
   ],
   "source": [
    "def distancia_pontos(lps):\n",
    "    return [[abs(x1 - x2) + abs(y1 - y2) + abs(z1 - z2) for (x2, y2, z2) in lps] for (x1, y1, z1) in lps]\n",
    "    \n",
    "\n",
    "lps = [[1.0, 1.0, 1.0], [3.0, 3.0, 3.0]]\n",
    "distancia_pontos(lps)"
   ]
  }
 ],
 "metadata": {
  "kernelspec": {
   "display_name": "Python 3.8.5 ('base')",
   "language": "python",
   "name": "python3"
  },
  "language_info": {
   "codemirror_mode": {
    "name": "ipython",
    "version": 3
   },
   "file_extension": ".py",
   "mimetype": "text/x-python",
   "name": "python",
   "nbconvert_exporter": "python",
   "pygments_lexer": "ipython3",
   "version": "3.8.5"
  },
  "orig_nbformat": 4,
  "vscode": {
   "interpreter": {
    "hash": "b1061245a22b17b19b85cf003e8b8bfcc4cdf8dbb1d6518b2fde69d455e71cf5"
   }
  }
 },
 "nbformat": 4,
 "nbformat_minor": 2
}
