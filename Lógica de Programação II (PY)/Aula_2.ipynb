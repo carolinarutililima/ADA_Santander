{
 "cells": [
  {
   "cell_type": "code",
   "execution_count": null,
   "metadata": {},
   "outputs": [],
   "source": [
    "#Funções\n",
    "\n",
    "def is_float(x):\n",
    "    return type(x) == float \n",
    "\n",
    "is_float(9)"
   ]
  },
  {
   "cell_type": "code",
   "execution_count": null,
   "metadata": {},
   "outputs": [],
   "source": [
    "def is_float_int(x):\n",
    "    return type(x) == float or type(x) == int\n",
    "\n",
    "is_float_int(9)"
   ]
  },
  {
   "cell_type": "code",
   "execution_count": null,
   "metadata": {},
   "outputs": [],
   "source": [
    "#lista de tuplas\n",
    "frutas1 = (640, 'morango', 25.0)\n",
    "frutas2 = (201, 'banana', 4.99)\n",
    "frutas3 = (452, 'abacaxi', 9.99)\n",
    "frutas4 = (330, 'laranja', 5.50)"
   ]
  },
  {
   "cell_type": "code",
   "execution_count": null,
   "metadata": {},
   "outputs": [],
   "source": [
    "lista = [frutas1, frutas2, frutas3, frutas4]"
   ]
  },
  {
   "cell_type": "code",
   "execution_count": null,
   "metadata": {},
   "outputs": [],
   "source": [
    "frutas = [i[1] for i in lista ]"
   ]
  },
  {
   "cell_type": "code",
   "execution_count": null,
   "metadata": {},
   "outputs": [],
   "source": [
    "frutas"
   ]
  },
  {
   "cell_type": "code",
   "execution_count": null,
   "metadata": {},
   "outputs": [],
   "source": [
    "#preço ordenado pelo terceiro item\n",
    "frutas_preco = sorted(lista, key=lambda x: x[2])\n"
   ]
  },
  {
   "cell_type": "code",
   "execution_count": null,
   "metadata": {},
   "outputs": [],
   "source": [
    "lista_ordenada"
   ]
  },
  {
   "cell_type": "code",
   "execution_count": null,
   "metadata": {},
   "outputs": [],
   "source": [
    "notas = {\n",
    "    'Python':{ 2020: [9.5, 8.0, 10.0, 5.0, 6.0, 6.0 ], \n",
    "               2021: [8.2, 10.0, 10.0, 9.0, 7.5, 7.0]},\n",
    "    'Redes Neurais' : {2019: [8.2, 10.0, 10.0, 9.0, 7.5, 7.0],\n",
    "                        2020: [8.2, 10.0, 10.0, 9.0, 7.5, 5.0],\n",
    "                        2021: [8.2, 10.0, 10.0, 9.0, 7.5, 4.3] }\n",
    "\n",
    "}"
   ]
  },
  {
   "cell_type": "code",
   "execution_count": null,
   "metadata": {},
   "outputs": [],
   "source": [
    "notas['Python'][2020]"
   ]
  },
  {
   "cell_type": "code",
   "execution_count": null,
   "metadata": {},
   "outputs": [],
   "source": [
    "for turma in notas['Redes Neurais']:\n",
    "    print(min(notas['Redes Neurais'][turma]))"
   ]
  },
  {
   "cell_type": "code",
   "execution_count": null,
   "metadata": {},
   "outputs": [],
   "source": [
    "menor = [min(notas['Redes Neurais'][turma]) for turma in notas['Redes Neurais']]"
   ]
  },
  {
   "cell_type": "code",
   "execution_count": null,
   "metadata": {},
   "outputs": [],
   "source": [
    "menor"
   ]
  },
  {
   "cell_type": "markdown",
   "metadata": {},
   "source": [
    "Codifique uma função que use compreension para retornar uma lista com n valores numéricos iniciando em 0 e com passo o permitindo um número float como passo. Arredonde cada número para 5 casas decimais usando a função round (, 5)\n",
    "Exemplo para n=8, p=0.05\n",
    "*** [0.0, 0.05, 0.1, 0.15, 0.2, 0.25, 0.3, 0.35,"
   ]
  },
  {
   "cell_type": "code",
   "execution_count": null,
   "metadata": {},
   "outputs": [],
   "source": [
    "import numpy as np\n",
    "\n",
    "lista_final = [round(i,5) for i in np.arange(0,8,0.05)]"
   ]
  },
  {
   "cell_type": "code",
   "execution_count": null,
   "metadata": {},
   "outputs": [],
   "source": [
    "lista_final"
   ]
  },
  {
   "cell_type": "code",
   "execution_count": null,
   "metadata": {},
   "outputs": [],
   "source": [
    "valores = [0,2, 3,5, 6,7,8,21,34,54,65,87,0,987,3123,645,321,3534]\n",
    "import math\n",
    "valores_result = [math.log(i) if i!=0 else math.nan for i in valores]"
   ]
  },
  {
   "cell_type": "code",
   "execution_count": null,
   "metadata": {},
   "outputs": [],
   "source": [
    "valores_result"
   ]
  },
  {
   "cell_type": "code",
   "execution_count": 2,
   "metadata": {},
   "outputs": [],
   "source": [
    "l1 = list(range(1,10))\n",
    "l2 = list(range(0,26,2))\n",
    "t1 = tuple(range(10,100,10))"
   ]
  },
  {
   "cell_type": "code",
   "execution_count": 3,
   "metadata": {},
   "outputs": [
    {
     "name": "stdout",
     "output_type": "stream",
     "text": [
      "1 0 10\n",
      "2 2 20\n",
      "3 4 30\n",
      "4 6 40\n",
      "5 8 50\n",
      "6 10 60\n",
      "7 12 70\n",
      "8 14 80\n",
      "9 16 90\n"
     ]
    }
   ],
   "source": [
    "for i,j,t in zip(l1,l2,t1):\n",
    "    print(i,j,t)"
   ]
  },
  {
   "cell_type": "code",
   "execution_count": null,
   "metadata": {},
   "outputs": [],
   "source": []
  }
 ],
 "metadata": {
  "kernelspec": {
   "display_name": "Python 3.8.5 ('base')",
   "language": "python",
   "name": "python3"
  },
  "language_info": {
   "codemirror_mode": {
    "name": "ipython",
    "version": 3
   },
   "file_extension": ".py",
   "mimetype": "text/x-python",
   "name": "python",
   "nbconvert_exporter": "python",
   "pygments_lexer": "ipython3",
   "version": "3.8.5"
  },
  "orig_nbformat": 4,
  "vscode": {
   "interpreter": {
    "hash": "b1061245a22b17b19b85cf003e8b8bfcc4cdf8dbb1d6518b2fde69d455e71cf5"
   }
  }
 },
 "nbformat": 4,
 "nbformat_minor": 2
}
