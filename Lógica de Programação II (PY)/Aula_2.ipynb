{
 "cells": [
  {
   "cell_type": "code",
   "execution_count": 2,
   "metadata": {},
   "outputs": [
    {
     "data": {
      "text/plain": [
       "False"
      ]
     },
     "execution_count": 2,
     "metadata": {},
     "output_type": "execute_result"
    }
   ],
   "source": [
    "#Funções\n",
    "\n",
    "def is_float(x):\n",
    "    return type(x) == float \n",
    "\n",
    "is_float(9)"
   ]
  },
  {
   "cell_type": "code",
   "execution_count": 3,
   "metadata": {},
   "outputs": [
    {
     "data": {
      "text/plain": [
       "True"
      ]
     },
     "execution_count": 3,
     "metadata": {},
     "output_type": "execute_result"
    }
   ],
   "source": [
    "def is_float_int(x):\n",
    "    return type(x) == float or type(x) == int\n",
    "\n",
    "is_float_int(9)"
   ]
  },
  {
   "cell_type": "code",
   "execution_count": 4,
   "metadata": {},
   "outputs": [],
   "source": [
    "#lista de tuplas\n",
    "frutas1 = (640, 'morango', 25.0)\n",
    "frutas2 = (201, 'banana', 4.99)\n",
    "frutas3 = (452, 'abacaxi', 9.99)\n",
    "frutas4 = (330, 'laranja', 5.50)"
   ]
  },
  {
   "cell_type": "code",
   "execution_count": 12,
   "metadata": {},
   "outputs": [],
   "source": [
    "lista = [frutas1, frutas2, frutas3, frutas4]"
   ]
  },
  {
   "cell_type": "code",
   "execution_count": 13,
   "metadata": {},
   "outputs": [],
   "source": [
    "frutas = [i[1] for i in lista ]"
   ]
  },
  {
   "cell_type": "code",
   "execution_count": 14,
   "metadata": {},
   "outputs": [
    {
     "data": {
      "text/plain": [
       "['morango', 'banana', 'abacaxi', 'laranja']"
      ]
     },
     "execution_count": 14,
     "metadata": {},
     "output_type": "execute_result"
    }
   ],
   "source": [
    "frutas"
   ]
  },
  {
   "cell_type": "code",
   "execution_count": 19,
   "metadata": {},
   "outputs": [],
   "source": [
    "#preço ordenado pelo terceiro item\n",
    "frutas_preco = sorted(lista, key=lambda x: x[2])\n"
   ]
  },
  {
   "cell_type": "code",
   "execution_count": 20,
   "metadata": {},
   "outputs": [
    {
     "data": {
      "text/plain": [
       "[(201, 'banana', 4.99),\n",
       " (330, 'laranja', 5.5),\n",
       " (452, 'abacaxi', 9.99),\n",
       " (640, 'morango', 25.0)]"
      ]
     },
     "execution_count": 20,
     "metadata": {},
     "output_type": "execute_result"
    }
   ],
   "source": [
    "lista_ordenada"
   ]
  },
  {
   "cell_type": "code",
   "execution_count": 27,
   "metadata": {},
   "outputs": [],
   "source": [
    "notas = {\n",
    "    'Python':{ 2020: [9.5, 8.0, 10.0, 5.0, 6.0, 6.0 ], \n",
    "               2021: [8.2, 10.0, 10.0, 9.0, 7.5, 7.0]},\n",
    "    'Redes Neurais' : {2019: [8.2, 10.0, 10.0, 9.0, 7.5, 7.0],\n",
    "                        2020: [8.2, 10.0, 10.0, 9.0, 7.5, 5.0],\n",
    "                        2021: [8.2, 10.0, 10.0, 9.0, 7.5, 4.3] }\n",
    "\n",
    "}"
   ]
  },
  {
   "cell_type": "code",
   "execution_count": 28,
   "metadata": {},
   "outputs": [
    {
     "data": {
      "text/plain": [
       "[9.5, 8.0, 10.0, 5.0, 6.0, 6.0]"
      ]
     },
     "execution_count": 28,
     "metadata": {},
     "output_type": "execute_result"
    }
   ],
   "source": [
    "notas['Python'][2020]"
   ]
  },
  {
   "cell_type": "code",
   "execution_count": 29,
   "metadata": {},
   "outputs": [
    {
     "name": "stdout",
     "output_type": "stream",
     "text": [
      "7.0\n",
      "5.0\n",
      "4.3\n"
     ]
    }
   ],
   "source": [
    "for turma in notas['Redes Neurais']:\n",
    "    print(min(notas['Redes Neurais'][turma]))"
   ]
  },
  {
   "cell_type": "code",
   "execution_count": 31,
   "metadata": {},
   "outputs": [],
   "source": [
    "menor = [min(notas['Redes Neurais'][turma]) for turma in notas['Redes Neurais']]"
   ]
  },
  {
   "cell_type": "code",
   "execution_count": 32,
   "metadata": {},
   "outputs": [
    {
     "data": {
      "text/plain": [
       "[7.0, 5.0, 4.3]"
      ]
     },
     "execution_count": 32,
     "metadata": {},
     "output_type": "execute_result"
    }
   ],
   "source": [
    "menor"
   ]
  },
  {
   "cell_type": "markdown",
   "metadata": {},
   "source": [
    "Codifique uma função que use compreension para retornar uma lista com n valores numéricos iniciando em 0 e com passo o permitindo um número float como passo. Arredonde cada número para 5 casas decimais usando a função round (, 5)\n",
    "Exemplo para n=8, p=0.05\n",
    "*** [0.0, 0.05, 0.1, 0.15, 0.2, 0.25, 0.3, 0.35,"
   ]
  },
  {
   "cell_type": "code",
   "execution_count": 37,
   "metadata": {},
   "outputs": [],
   "source": [
    "import numpy as np\n",
    "\n",
    "lista_final = [round(i,5) for i in np.arange(0,8,0.05)]"
   ]
  },
  {
   "cell_type": "code",
   "execution_count": 38,
   "metadata": {},
   "outputs": [
    {
     "data": {
      "text/plain": [
       "[0.0,\n",
       " 0.05,\n",
       " 0.1,\n",
       " 0.15,\n",
       " 0.2,\n",
       " 0.25,\n",
       " 0.3,\n",
       " 0.35,\n",
       " 0.4,\n",
       " 0.45,\n",
       " 0.5,\n",
       " 0.55,\n",
       " 0.6,\n",
       " 0.65,\n",
       " 0.7,\n",
       " 0.75,\n",
       " 0.8,\n",
       " 0.85,\n",
       " 0.9,\n",
       " 0.95,\n",
       " 1.0,\n",
       " 1.05,\n",
       " 1.1,\n",
       " 1.15,\n",
       " 1.2,\n",
       " 1.25,\n",
       " 1.3,\n",
       " 1.35,\n",
       " 1.4,\n",
       " 1.45,\n",
       " 1.5,\n",
       " 1.55,\n",
       " 1.6,\n",
       " 1.65,\n",
       " 1.7,\n",
       " 1.75,\n",
       " 1.8,\n",
       " 1.85,\n",
       " 1.9,\n",
       " 1.95,\n",
       " 2.0,\n",
       " 2.05,\n",
       " 2.1,\n",
       " 2.15,\n",
       " 2.2,\n",
       " 2.25,\n",
       " 2.3,\n",
       " 2.35,\n",
       " 2.4,\n",
       " 2.45,\n",
       " 2.5,\n",
       " 2.55,\n",
       " 2.6,\n",
       " 2.65,\n",
       " 2.7,\n",
       " 2.75,\n",
       " 2.8,\n",
       " 2.85,\n",
       " 2.9,\n",
       " 2.95,\n",
       " 3.0,\n",
       " 3.05,\n",
       " 3.1,\n",
       " 3.15,\n",
       " 3.2,\n",
       " 3.25,\n",
       " 3.3,\n",
       " 3.35,\n",
       " 3.4,\n",
       " 3.45,\n",
       " 3.5,\n",
       " 3.55,\n",
       " 3.6,\n",
       " 3.65,\n",
       " 3.7,\n",
       " 3.75,\n",
       " 3.8,\n",
       " 3.85,\n",
       " 3.9,\n",
       " 3.95,\n",
       " 4.0,\n",
       " 4.05,\n",
       " 4.1,\n",
       " 4.15,\n",
       " 4.2,\n",
       " 4.25,\n",
       " 4.3,\n",
       " 4.35,\n",
       " 4.4,\n",
       " 4.45,\n",
       " 4.5,\n",
       " 4.55,\n",
       " 4.6,\n",
       " 4.65,\n",
       " 4.7,\n",
       " 4.75,\n",
       " 4.8,\n",
       " 4.85,\n",
       " 4.9,\n",
       " 4.95,\n",
       " 5.0,\n",
       " 5.05,\n",
       " 5.1,\n",
       " 5.15,\n",
       " 5.2,\n",
       " 5.25,\n",
       " 5.3,\n",
       " 5.35,\n",
       " 5.4,\n",
       " 5.45,\n",
       " 5.5,\n",
       " 5.55,\n",
       " 5.6,\n",
       " 5.65,\n",
       " 5.7,\n",
       " 5.75,\n",
       " 5.8,\n",
       " 5.85,\n",
       " 5.9,\n",
       " 5.95,\n",
       " 6.0,\n",
       " 6.05,\n",
       " 6.1,\n",
       " 6.15,\n",
       " 6.2,\n",
       " 6.25,\n",
       " 6.3,\n",
       " 6.35,\n",
       " 6.4,\n",
       " 6.45,\n",
       " 6.5,\n",
       " 6.55,\n",
       " 6.6,\n",
       " 6.65,\n",
       " 6.7,\n",
       " 6.75,\n",
       " 6.8,\n",
       " 6.85,\n",
       " 6.9,\n",
       " 6.95,\n",
       " 7.0,\n",
       " 7.05,\n",
       " 7.1,\n",
       " 7.15,\n",
       " 7.2,\n",
       " 7.25,\n",
       " 7.3,\n",
       " 7.35,\n",
       " 7.4,\n",
       " 7.45,\n",
       " 7.5,\n",
       " 7.55,\n",
       " 7.6,\n",
       " 7.65,\n",
       " 7.7,\n",
       " 7.75,\n",
       " 7.8,\n",
       " 7.85,\n",
       " 7.9,\n",
       " 7.95]"
      ]
     },
     "execution_count": 38,
     "metadata": {},
     "output_type": "execute_result"
    }
   ],
   "source": [
    "lista_final"
   ]
  },
  {
   "cell_type": "code",
   "execution_count": null,
   "metadata": {},
   "outputs": [],
   "source": []
  }
 ],
 "metadata": {
  "kernelspec": {
   "display_name": "Python 3.8.5 ('base')",
   "language": "python",
   "name": "python3"
  },
  "language_info": {
   "codemirror_mode": {
    "name": "ipython",
    "version": 3
   },
   "file_extension": ".py",
   "mimetype": "text/x-python",
   "name": "python",
   "nbconvert_exporter": "python",
   "pygments_lexer": "ipython3",
   "version": "3.8.5"
  },
  "orig_nbformat": 4,
  "vscode": {
   "interpreter": {
    "hash": "b1061245a22b17b19b85cf003e8b8bfcc4cdf8dbb1d6518b2fde69d455e71cf5"
   }
  }
 },
 "nbformat": 4,
 "nbformat_minor": 2
}
