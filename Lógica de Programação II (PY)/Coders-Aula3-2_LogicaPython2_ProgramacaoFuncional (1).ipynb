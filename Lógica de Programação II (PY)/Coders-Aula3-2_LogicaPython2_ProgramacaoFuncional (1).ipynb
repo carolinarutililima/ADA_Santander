{
 "cells": [
  {
   "cell_type": "markdown",
   "metadata": {
    "id": "-ZWWXg-hkWk2"
   },
   "source": [
    "# <font color=\"red\"> Santander Coders</font>\n",
    "## <span style=\"color:red\">Lógica de Programação II (Python)</span>\n",
    "\n",
    "## <span style=\"color:blue\">Python Parte III</span>\n",
    "*Maurício Luiz Sobrinho*<br>\n",
    "*Adatech*"
   ]
  },
  {
   "cell_type": "markdown",
   "metadata": {
    "id": "2hNnzpWfkWk7"
   },
   "source": [
    "---\n",
    "__Conteúdos:__\n",
    "- Programação Funcional\n",
    "\n",
    "__Referências:__\n",
    "- Mark Lutz, Learning Python, O'Reilly, 2013\n",
    "- Eric Matthes, Python Crash Course: A Hands-On, Project-Based Introduction to Programming, No Starch Press, 2015"
   ]
  },
  {
   "cell_type": "markdown",
   "metadata": {
    "id": "Wy7EUpWRkWk_"
   },
   "source": [
    "---\n",
    "## Programação Funcional\n",
    "Python implementa um conjunto de funções, chamadas de _funcionais_, que são utilizadas para aplicar outra função em uma sequência de elementos. O uso de funcionais visa, principalmente, evitar o uso de laços (<font color='blue'>for</font> e <font color='blue'>while</font>), fornecendo implementações muito eficientes para tarefas que aparecem frequentemente em programação, como percorrer uma lista aplicando uma função a cada elemento da lista, filtrar elementos de uma lista de acordo com algum critério, dentre outras. \n",
    "\n",
    "Dentre os funcionais implementados no Python, destacam-se:\n",
    "- <font color='blue'>map</font>\n",
    "- <font color='blue'>filter</font>\n",
    "- <font color='blue'>reduce</font>\n",
    "\n",
    "A sintaxe dos funcionais é:\n",
    "```python\n",
    "funcional(func,iterador)\n",
    "```\n",
    "onde a função `func` é a função a ser aplicada e `iterador` é uma sequência ou um iterador (método que produz uma sequência de elementos, como o <font color='blue'>range</font> por exemplo)."
   ]
  },
  {
   "cell_type": "markdown",
   "metadata": {
    "id": "7OJ7zzYqkWk_"
   },
   "source": [
    "### <font color='blue'>map</font>\n",
    "O funcional <font color='blue'>map</font> aplica a função 'func' a todos os elementos do 'iterador'. \n",
    "\n",
    "O resultado do funcional <font color='blue'>map</font> é um objeto `map`, não uma sequência. Para obter a sequência é preciso realizar a conversão para o tipo de sequência desejada."
   ]
  },
  {
   "cell_type": "code",
   "execution_count": null,
   "metadata": {
    "id": "xpxiHrTMkWk_",
    "outputId": "1d0a3dce-7741-4da7-b8e1-8e9d710e6374"
   },
   "outputs": [
    {
     "name": "stdout",
     "output_type": "stream",
     "text": [
      "<map object at 0x116c626a0>\n"
     ]
    }
   ],
   "source": [
    "def quadrado(s):  # eleva um número ao quadrado\n",
    "    return(s**2)\n",
    "\n",
    "m = map(quadrado,[1,2,3,4,5])\n",
    "print(m)"
   ]
  },
  {
   "cell_type": "markdown",
   "metadata": {
    "id": "xv2X5ug2kWlA"
   },
   "source": [
    "Note que o resultado não é a sequência de números ao quadrado, mas sim um objeto `map`. Para obter a sequência, precisamos gerá-la."
   ]
  },
  {
   "cell_type": "code",
   "execution_count": null,
   "metadata": {
    "id": "jADbJwnzkWlA",
    "outputId": "e5b029a0-b697-47b1-8b4f-34563585ae79"
   },
   "outputs": [
    {
     "name": "stdout",
     "output_type": "stream",
     "text": [
      "[1, 4, 9, 16, 25]\n"
     ]
    }
   ],
   "source": [
    "def quadrado(s):  # eleva um número ao quadrado\n",
    "    return(s**2)\n",
    "\n",
    "quadrado = list(map(quadrado,[1,2,3,4,5])) # o comando 'list'gera a lista resultante do 'map'\n",
    "print(quadrado)"
   ]
  },
  {
   "cell_type": "markdown",
   "metadata": {
    "id": "Ap2Up1_RkWlA"
   },
   "source": [
    "O código acima é equivalente a:\n",
    "```python\n",
    "quadrado = []\n",
    "for i in [1,2,3,4,5]:\n",
    "    quadrado.append(i**2)\n",
    "print(quadrado)\n",
    "```\n",
    "Porém, com o uso do <font color='blue'>map</font>, a execução é muito mais eficiente, pois o laço <font color='blue'>for</font> é implementado internamente de forma otimizada.\n",
    "\n",
    "É muito comum utilizar função <font color='blue'>lambda</font> em conjunto com funcionais."
   ]
  },
  {
   "cell_type": "code",
   "execution_count": null,
   "metadata": {
    "id": "mrMoiiCSkWlA",
    "outputId": "ed96281a-68f7-438c-990a-2e4b6075a36e"
   },
   "outputs": [
    {
     "name": "stdout",
     "output_type": "stream",
     "text": [
      "[1, 4, 9, 16, 25]\n"
     ]
    }
   ],
   "source": [
    "quadrado = list(map(lambda x:x**2,[1,2,3,4,5]))\n",
    "print(quadrado)"
   ]
  },
  {
   "cell_type": "markdown",
   "metadata": {
    "id": "6cpiUogckWlB"
   },
   "source": [
    "### <font color='blue'>filter</font>\n",
    "O funcional <font color='blue'>filter</font> aplica a função 'func' a todos os elementos do 'iterador', retornando os elementos da sequência onde `func` retorna <font color='blue'>True</font>.\n",
    "Desta forma, o resultado de `func` deve ser um booleando (True ou False).\n",
    "\n",
    "O resultado do funcional <font color='blue'>filter</font> é um objeto `filter`. Para obter a sequência é preciso realizar a conversão para o tipo de sequência desejada."
   ]
  },
  {
   "cell_type": "code",
   "execution_count": null,
   "metadata": {
    "id": "AESgdlVJkWlB",
    "outputId": "1f47e339-a220-4b23-a85f-cc9805490593"
   },
   "outputs": [
    {
     "name": "stdout",
     "output_type": "stream",
     "text": [
      "[0, 2, 4, 6, 8]\n"
     ]
    }
   ],
   "source": [
    "ls = list(filter(lambda x: x%2==0,range(10))) # retorna os números entre 0 e 9 que são par\n",
    "print(ls)"
   ]
  },
  {
   "cell_type": "markdown",
   "metadata": {
    "id": "dtbjGjhlkWlB"
   },
   "source": [
    "### <font color='blue'>reduce</font>\n",
    "O funcional <font color='blue'>reduce</font> é um método do módulo <font color='blue'>functools</font>, onde vários funcionais estão disponíveis.\n",
    "\n",
    "Este funcional aplica 'func' acumulativamente aos itens do 'iterador', da esquerda para a direita, de maneira a reduzir a sequência a apenas um elemento\n",
    "- a função 'func' sempre precisa receber dois argumentos, um onde a acumulação será feita e o outro o valor a ser acumulado."
   ]
  },
  {
   "cell_type": "code",
   "execution_count": null,
   "metadata": {
    "id": "SoCuRVPRkWlC",
    "outputId": "a7f5009c-1df8-4b15-9719-59f341dfb220"
   },
   "outputs": [
    {
     "name": "stdout",
     "output_type": "stream",
     "text": [
      "45\n",
      "45\n"
     ]
    }
   ],
   "source": [
    "from functools import reduce\n",
    "\n",
    "r = reduce(lambda x,y: x+y,range(10)) # irá acumular as soma dos números de 0 a 9 na variável x\n",
    "print(r)\n",
    "\n",
    "# equivalente à\n",
    "x = 0\n",
    "for y in range(10):\n",
    "    x = x + y\n",
    "print(x)"
   ]
  },
  {
   "cell_type": "markdown",
   "metadata": {
    "id": "jBH68lYLkWlC"
   },
   "source": [
    "O funcional <font color='blue'>reduce</font> permite especificar qual o valor inicial da variável acumulada, passando este valor como parâmetro."
   ]
  }
 ],
 "metadata": {
  "colab": {
   "collapsed_sections": [],
   "name": "Python III.ipynb",
   "provenance": []
  },
  "kernelspec": {
   "display_name": "Python 3",
   "language": "python",
   "name": "python3"
  },
  "language_info": {
   "codemirror_mode": {
    "name": "ipython",
    "version": 3
   },
   "file_extension": ".py",
   "mimetype": "text/x-python",
   "name": "python",
   "nbconvert_exporter": "python",
   "pygments_lexer": "ipython3",
   "version": "3.8.9"
  },
  "toc": {
   "base_numbering": 1,
   "nav_menu": {},
   "number_sections": true,
   "sideBar": true,
   "skip_h1_title": false,
   "title_cell": "Table of Contents",
   "title_sidebar": "Contents",
   "toc_cell": false,
   "toc_position": {},
   "toc_section_display": true,
   "toc_window_display": false
  }
 },
 "nbformat": 4,
 "nbformat_minor": 1
}
