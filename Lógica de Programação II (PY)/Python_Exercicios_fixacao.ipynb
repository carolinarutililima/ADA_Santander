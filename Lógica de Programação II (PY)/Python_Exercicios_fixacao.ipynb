{
 "cells": [
  {
   "cell_type": "markdown",
   "metadata": {
    "id": "x8VUohVKQh5l"
   },
   "source": [
    "# <font color=\"red\"> Santander Coders</font>\n",
    "## <span style=\"color:red\">Lógica de Programação II (Python)</span>\n",
    "\n",
    "## <span style=\"color:blue\">Exercicios - Gerais</span>\n",
    "*Maurício Luiz Sobrinho*<br>\n",
    "*Adatech*"
   ]
  },
  {
   "cell_type": "markdown",
   "metadata": {
    "id": "stgpCjFGOIyS"
   },
   "source": [
    "#### <span style=\"color:red\">Recomenda-se fortemente que os exercícios sejam feitos sem consultar as respostas antecipadamente.</span>"
   ]
  },
  {
   "cell_type": "markdown",
   "metadata": {
    "id": "Hq5h9KDdNw6O"
   },
   "source": [
    "### Exercício 1)\n",
    "\n",
    "Qual o tipo do valor resultante das operações abaixo (ou das variáveis as quais foram atribuídos)?\n",
    "\n",
    "a) `False + True`<br>\n",
    "b) `2 * 1e2**2`<br>\n",
    "c) `a = 6/2`<br>\n",
    "d) `x = 6//2 + 6%2`<br>\n",
    "e) `(2 + 4) == 4 or 0 <= 1`<br>"
   ]
  },
  {
   "cell_type": "code",
   "execution_count": null,
   "metadata": {
    "id": "sQTJrwV1Nw6P",
    "outputId": "888a9195-0922-4f74-f07d-d801cd49d36e"
   },
   "outputs": [
    {
     "name": "stdout",
     "output_type": "stream",
     "text": [
      "1 <class 'int'>\n"
     ]
    }
   ],
   "source": [
    "# exemplo\n",
    "print(False+True, type(False+True))"
   ]
  },
  {
   "cell_type": "code",
   "execution_count": 2,
   "metadata": {
    "id": "ob1ekA2yNw6R"
   },
   "outputs": [
    {
     "name": "stdout",
     "output_type": "stream",
     "text": [
      "1 <class 'int'>\n",
      "20000.0 <class 'float'>\n",
      "3.0 <class 'float'>\n",
      "3 <class 'int'>\n",
      "True <class 'bool'>\n"
     ]
    }
   ],
   "source": [
    "print(False+True, type(False+True))\n",
    "print(2 * 1e2**2, type(2 * 1e2**2))\n",
    "print(6/2, type(6/2))\n",
    "print(6//2 + 6%2, type(6//2 + 6%2))\n",
    "print((2 + 4) == 4 or 0 <= 1, type((2 + 4) == 4 or 0 <= 1))"
   ]
  },
  {
   "cell_type": "markdown",
   "metadata": {
    "id": "WHG7tm3QQh5m"
   },
   "source": [
    "### Exercício 2)\n",
    "\n",
    "Crie uma variável contendo um ano (um valor inteiro entre 0 e 3000)\n",
    "\n",
    "A seguir, se o ano for divisível por 4, exiba na tela 'Pode ser um ano bissexto'; caso contrário exiba 'Definitivamente não é um ano bissexto'\n",
    "\n",
    "__Dica:__ Utilize o operador `%` que retorna o resto da divisão de um número por outro."
   ]
  },
  {
   "cell_type": "code",
   "execution_count": 1,
   "metadata": {
    "id": "pTVOXvzVQh5m"
   },
   "outputs": [
    {
     "name": "stdout",
     "output_type": "stream",
     "text": [
      "Pode ser um ano bissexto\n"
     ]
    }
   ],
   "source": [
    "ano = 3200\n",
    "\n",
    "if ano%4 ==0:\n",
    "    print(\"Pode ser um ano bissexto\")\n",
    "else:\n",
    "    print('Definitivamente não é um ano bissexto')"
   ]
  },
  {
   "cell_type": "markdown",
   "metadata": {
    "id": "M72PbdAnQh5u"
   },
   "source": [
    "### Exercício 3)\n",
    "\n",
    "Dada a lista `valores` abaixo, crie uma nova lista chamada `numeros` contendo apenas elementos `float` ou `int`.\n",
    "\n",
    "Note que essa nova lista pode ter menos elementos do que a lista existente.\n",
    "\n",
    "Ao final exiba a nova lista `numeros`\n",
    "\n",
    "__Dica__: Percorra a lista com uma estrutura de repetição e utilize `type()` para retornar o tipo e compare com o desejado. Exemplo:\n",
    "```python\n",
    "type(3) == int\n",
    "```\n",
    "Retorna `True`"
   ]
  },
  {
   "cell_type": "code",
   "execution_count": 3,
   "metadata": {
    "id": "5HFGhEvMQh5u"
   },
   "outputs": [],
   "source": [
    "valores = ['três', 56, 342, 12.4e-5, 4+3j, ('A', 1, 50.1), -0.19e4, 1000, 960, -406]"
   ]
  },
  {
   "cell_type": "code",
   "execution_count": 4,
   "metadata": {
    "id": "ZKiXmG-nNw6U"
   },
   "outputs": [
    {
     "data": {
      "text/plain": [
       "[56, 342, 0.000124, -1900.0, 1000, 960, -406]"
      ]
     },
     "execution_count": 4,
     "metadata": {},
     "output_type": "execute_result"
    }
   ],
   "source": [
    "valores_new = [i for i in valores if type(i).__name__ =='int' or type(i).__name__ =='float']\n",
    "valores_new"
   ]
  },
  {
   "cell_type": "markdown",
   "metadata": {
    "id": "l7DP2hANNw6V"
   },
   "source": [
    "### Exercício 4)\n",
    "\n",
    "Escreva uma **função** que receba por parâmetro uma taxa de juros pagas ao ano, calcule e retorne um número inteiro relativo a quantos anos serão necessários para que um investimento nessa taxa dobre de valor. Assuma juros compostos e use uma estrutura de repetição para calcular.\n"
   ]
  },
  {
   "cell_type": "code",
   "execution_count": null,
   "metadata": {
    "id": "Xn5TJdmtNw6V"
   },
   "outputs": [],
   "source": []
  },
  {
   "cell_type": "markdown",
   "metadata": {
    "id": "8ZD-mCMPQh5w"
   },
   "source": [
    "### Exercício 5)\n",
    "Considere a lista `linguagens` declarada abaixo. \n",
    "- Utilizando fatiamento, imprima o subconjunto de elementos entre o segundo e o quarto elemento (inclusive)\n",
    "- Gere uma nova lista chamada `maiores4` contendo os elementos da lista `linguagens` que possuam quatro caracteres ou mais, utilizando a função `len()`.\n",
    "- Gere uma nova lista chamada `j_ou_c` contendo os elementos da lista `linguagens` que começam com a letra 'j' ou com a letra 'c'."
   ]
  },
  {
   "cell_type": "code",
   "execution_count": null,
   "metadata": {
    "id": "IL6VO3ilQh5w"
   },
   "outputs": [],
   "source": [
    "linguagens = ['python', 'java', 'c++', 'javascript', 'c#', 'go', 'r', 'cobol', 'ruby', 'lisp']\n"
   ]
  },
  {
   "cell_type": "markdown",
   "metadata": {
    "id": "ziVJFG-nNw6W"
   },
   "source": [
    "\n",
    "### Exercício 6) \n",
    "\n",
    "Codifique uma função `conta_palavras()` que, a partir de um um texto (string) contendo palavras separadas por vírgulas apenas - considere que não há outras pontuações:\n",
    "1. Inicie criando uma lista de palavras e \n",
    "2. Use um dicionário para contar a frequência de cada palavra no texto, retornando o dicionário obtido.\n",
    "\n",
    "*Dica: use a função `str.split()` para separar uma string em substrings usando como delimitador um caracter especificado por argumento*\n",
    "\n",
    "Exemplo:\n",
    "\n",
    "```\n",
    "nomes = \"ana,fábio,cristina,ana,fábio,ubiratã,ana\"\n",
    "freq = conta_palavras(nomes)\n",
    "print(freq)\n",
    "```\n",
    "Deve gerar:\n",
    "```\n",
    "{'ana': 3, 'fábio': 2, 'cristina': 1, 'ubiratã': 1}\n",
    "```"
   ]
  },
  {
   "cell_type": "code",
   "execution_count": null,
   "metadata": {
    "id": "7hIZ3pETNw6X"
   },
   "outputs": [],
   "source": []
  },
  {
   "cell_type": "markdown",
   "metadata": {
    "id": "aYaioiBSQh5y"
   },
   "source": [
    "### Exercício 7) \n",
    "Considere a lista `produtos` definida abaixo, onde cada elemento é uma tupla possuindo:\n",
    "* elemento 1: o nome de um produto \n",
    "* elemento 2: e uma lista de preços encontradas no mercado. \n",
    "\n",
    "Calcule a média de preços de cada produto, salvando o resultado em uma nova lista chamada `preco_medio`.\n",
    "\n",
    "Posteriormente, sorteie um dos produtos e exiba na tela o nome e preço médio desse produto sorteado\n",
    "\n",
    "__Dica:__ Utilize a função `fsum()` do módulo `math` para somar os valores daa lista. Por exemplo:\n",
    "```python\n",
    "ls = [1.0,1.0,1.0,1.0,1.0]\n",
    "print(fsum(ls))\n",
    "```\n",
    "resulta no valor 5"
   ]
  },
  {
   "cell_type": "code",
   "execution_count": null,
   "metadata": {
    "id": "CMmRYn0-Qh5z",
    "scrolled": true
   },
   "outputs": [],
   "source": [
    "produtos = [('soja', [170.1, 183.0, 175.0]),\n",
    "            ('algodao', [143.4]),\n",
    "            ('cacau', [199, 185.1]),\n",
    "            ('café', [880, 750.9, 795.1, 900])]"
   ]
  },
  {
   "cell_type": "code",
   "execution_count": null,
   "metadata": {
    "id": "HLY42K2bNw6Y"
   },
   "outputs": [],
   "source": []
  },
  {
   "cell_type": "code",
   "execution_count": null,
   "metadata": {
    "id": "2UfcpNOPN94p"
   },
   "outputs": [],
   "source": []
  },
  {
   "cell_type": "markdown",
   "metadata": {
    "id": "AHmpWv7lOIyS"
   },
   "source": [
    "### Exercício 8)\n",
    "\n",
    "A partir de um vetor com números inteiros aleatórios, calcular seu `log` e criar uma lista com o resultado.\n",
    "* se o número for 0 substituir o valor por `nan` (not a number) da biblioteca `math` para indicar que o resultado não é numérico"
   ]
  },
  {
   "cell_type": "code",
   "execution_count": null,
   "metadata": {
    "id": "JM6sQRRSOIyS"
   },
   "outputs": [],
   "source": []
  },
  {
   "cell_type": "markdown",
   "metadata": {
    "id": "G31eIL7gOIyS"
   },
   "source": [
    "### Exercício 09)\n",
    "\n",
    "\n",
    "Codifique uma função que receba como argumento duas listas de números com o mesmo tamanho. Use comprehension para retornar uma nova lista que é a multiplicação elemento-a-elemento das duas listas.  Caso as listas não possuam o mesmo tamanho emita uma mensagem de erro e retorne a constante `math.nan` do módulo `math`.\n",
    "\n",
    "Exemplo:\n",
    "```\n",
    "l1 = [1, 2, 3, 4, 5]\n",
    "l2 = [5, 5, 5, 10, 10]\n",
    "multiplica_listas(l1,l2)\n",
    "\n",
    "  [5, 10, 15, 40, 50]\n",
    "```"
   ]
  },
  {
   "cell_type": "code",
   "execution_count": null,
   "metadata": {
    "id": "rg5DWmsCN94r"
   },
   "outputs": [],
   "source": []
  },
  {
   "cell_type": "markdown",
   "metadata": {
    "id": "vLgao2vhN94s"
   },
   "source": [
    "### Exercício 10)\n",
    "\n",
    "Codifique uma comprehension que simule uma matriz de tamanho n x n, cujos elementos são dados por `(i+j*i)`, sendo `i` o índice da linha e `j` o índice da coluna. Para simular isso com uma lista de listas, o `i` corresponde ao índice da lista principal e o `j` aos índices das listas aninhadas.\n",
    "\n",
    "Por exemplo, seja a segunda lista (posição i=1), o seu terceiro elemento (posição j=2) seria obtido por `1+2*1 = 3`\n",
    "\n",
    "Exemplo com n = 3:\n",
    "```\n",
    "  [[0, 0, 0],\n",
    "   [1, 2, 3],\n",
    "   [2, 4, 6]] \n",
    "```"
   ]
  },
  {
   "cell_type": "code",
   "execution_count": null,
   "metadata": {
    "id": "YDywIRASN94s"
   },
   "outputs": [],
   "source": []
  },
  {
   "cell_type": "markdown",
   "metadata": {
    "id": "kp_B7-eWN94t"
   },
   "source": [
    "---\n",
    "\n",
    "##  <font color=\"red\">Desafio</font>\n",
    "\n",
    "Temos uma série de pontos 3D organizados numa lista e gostaríamos de computar as distâncias entre todos os pontos pareados.\n",
    "\n",
    "Calcular a distância entre dois pontos $p1 = (x_1,y_1,z_1)$ e  $p2 = (x_2,y_2,z_2)$ usando a fórmula\n",
    "\n",
    "$$d(p1,p2) = |x_1 - x_2| +|y_1 - y_2| + |z_1 - z_2|,$$\n",
    "em que $|.|$ representa o valor absoluto.\n",
    "\n",
    "Exemplo com 2 pontos organizados em listas:\n",
    "```\n",
    "[[1.0, 1.0, 1.0],\n",
    " [3.0, 3.0, 3.0]]\n",
    "```\n",
    "\n",
    "A saída deve ser:\n",
    "```\n",
    "[[0.0, 6.0],\n",
    " [6.0, 0.0]]\n",
    "```\n",
    "\n",
    "Note que a diagonal principal tem sempre valor zero já que representa a distância de um ponto para ele mesmo, e que a matriz é simétrica pois a distância entre dois pontos p1 e p2 é tal que: d(p1,p2) = d(p2,p1).\n",
    "\n",
    "Para isso utilize uma única linha contendo comprehensions aninhadas e com iteração em paralelo"
   ]
  },
  {
   "cell_type": "code",
   "execution_count": null,
   "metadata": {
    "id": "WWs6_jsdN94t"
   },
   "outputs": [],
   "source": [
    "pontos3d = [ [1.0, 1.0, 1.0],\n",
    "             [0.0, 1.0, 3.0],\n",
    "             [2.0, 2.0, 2.0],\n",
    "             [0.0, 0.0, 0.0] ]\n"
   ]
  },
  {
   "cell_type": "markdown",
   "metadata": {
    "id": "5xoz5aYJOIyT"
   },
   "source": [
    "### Exercício 11)\n",
    "\n",
    "Escreva uma expressão lambda que permita receber uma string contendo duas palavras relativas ao nome de uma pessoa e seu sobrenome. Essas são separadas por um ou mais espaços em branco. A expressão deve retornar o nome no formato: \"SOBRENOME, N.\"\n",
    "\n",
    "Exemplo:\n",
    "```\n",
    "nome = 'Dennis   ritchie'\n",
    "```\n",
    "\n",
    "Retorno:\n",
    "```\n",
    "RITCHIE, D.\n",
    "```\n",
    "\n",
    "A seguir escreva um comprehension que percorra uma lista contendo nomes e gere uma nova lista com os nomes no formato \"SOBRENOME, N.\"\n",
    "\n",
    "Exemplo:\n",
    "```\n",
    "nomes = ['Dennis   ritchie', 'ALAN  Turing', 'betty Holberton']\n",
    "```\n",
    "\n",
    "Retorno:\n",
    "```\n",
    "['RITCHIE, D.', 'TURING, A.', 'HOLBERTON, B.']\n",
    "```"
   ]
  },
  {
   "cell_type": "code",
   "execution_count": null,
   "metadata": {
    "id": "IR_QNLvsN94u"
   },
   "outputs": [],
   "source": []
  },
  {
   "cell_type": "markdown",
   "metadata": {
    "id": "fX3J5ovRN94v"
   },
   "source": [
    "### Exercício 12) \n",
    "\n",
    "Dada uma lista de tuplas, em que cada tupla é formada por um par (str,list). Ver um exemplo abaixo.\n",
    "\n",
    "```\n",
    "l_tup = [('a',[8, 4, 6, 1]), ('b',[1, 2, 3, 4]), ('c',[5, 3, 3, 3])]\n",
    "```\n",
    "* Converta a lista de tuplas em um numpy array bidimensional em que cada lista é transformada em uma linha do array, ignorando a string. \n",
    "* Percorra cada linha do array resultante usando `for`, exibindo na tela os 3 últimos elementos de cada array\n",
    "\n",
    "Seu código deve funcionar para qualquer número de tuplas na lista, assuma que as listas tem sempre o mesmo número de elementos, todos numéricos.\n"
   ]
  },
  {
   "cell_type": "code",
   "execution_count": 7,
   "metadata": {
    "id": "f7WQqNokN94v"
   },
   "outputs": [
    {
     "data": {
      "text/plain": [
       "array([[8, 4, 6, 1],\n",
       "       [1, 2, 3, 4],\n",
       "       [5, 3, 3, 3]])"
      ]
     },
     "execution_count": 7,
     "metadata": {},
     "output_type": "execute_result"
    }
   ],
   "source": [
    "l_tup = [('a',[8, 4, 6, 1]), ('b',[1, 2, 3, 4]), ('c',[5, 3, 3, 3])]\n",
    "\n",
    "new_l_tup = [j for i in l_tup for j in i if type(j).__name__ != 'str']\n",
    "\n",
    "new_array = np.array(new_l_tup)\n",
    "\n",
    "new_array"
   ]
  },
  {
   "cell_type": "markdown",
   "metadata": {
    "id": "1GaZN35TOIyU"
   },
   "source": [
    "### Exercício 13) \n",
    "\n",
    "Use o método `randint` do `numpy` para criar um array bidimensional com 6x10 elementos inteiros entre 1 e 5. \n",
    "\n",
    "A seguir, considerando apenas a submatriz formada pelas linhas: 2 até 6 e as colunas 2, 5 e 8, copie para uma matriz unidimensional os valores maiores ou iguais a 4."
   ]
  },
  {
   "cell_type": "code",
   "execution_count": 5,
   "metadata": {
    "id": "TMtMsPmMN94w"
   },
   "outputs": [],
   "source": [
    "import numpy as np\n",
    "\n",
    "# Parameters for the random integers\\n\",\n",
    "low = 1   # Lower bound (inclusive)\\n\",\n",
    "high = 5 # Upper bound (exclusive)\\n\",\n",
    "size = (6, 10) # Size of the array (e.g., 5x5)\\n\",\n",
    "\n",
    "random_array = np.random.randint(low, high, size)"
   ]
  },
  {
   "cell_type": "code",
   "execution_count": 6,
   "metadata": {},
   "outputs": [
    {
     "data": {
      "text/plain": [
       "[1, 1, 1, 1, 3, 2, 1, 3, 3]"
      ]
     },
     "execution_count": 6,
     "metadata": {},
     "output_type": "execute_result"
    }
   ],
   "source": [
    "new_array = random_array[1:6][:, [1, 4, 5]]\n",
    "\n",
    "uni_array = [j for i in new_array for j in i if j!=4]\n",
    "uni_array"
   ]
  },
  {
   "cell_type": "markdown",
   "metadata": {
    "id": "YuORLIMwN94w"
   },
   "source": [
    "### Exercício 14)\n",
    "\n",
    "\n",
    "Dados dois arrays conforme abaixo que são notas (de 1 a 10) dadas a 4 diferentes serviços fornecidos por empresas concorrentes A e B. As notas de cada serviço estão organizadas nas 4 linhas dos arrays.\n",
    "\n",
    "A empresa `A` coletou 10 notas, e `B` coletou 5 notas para cada serviço (simuladas aleatoriamente no código abaixo).\n",
    "\n",
    "Os 4 serviços possuem pesos que é determinado pela lista `pesos` listada abaixo.\n",
    "\n",
    "A empresa A deseja se comparar com a empresa B com base na média das notas da empresa B. Para isso:\n",
    "1. usando redução, obtenha a média das notas de cada serviço da empresa B;\n",
    "2. para cada serviço, calcule qual foi a menor nota observada por A considerando apenas as notas de A que foram maiores do que a média de B para aquele serviço;\n",
    "3. armazene essas notas mínimas em um novo array de 4 elementos, e exiba esse array na tela;\n",
    "4. utilizando multiplicação vetorial, calcule e exiba na tela a soma das notas mínimas ponderadas pelos pesos \n"
   ]
  },
  {
   "cell_type": "code",
   "execution_count": null,
   "metadata": {
    "id": "OjTjtOMJN94w",
    "outputId": "11d14b39-9693-42f5-ea34-e0878acd0c04",
    "scrolled": true
   },
   "outputs": [
    {
     "name": "stdout",
     "output_type": "stream",
     "text": [
      "[[1 8 9 6 2 4 4 3 7 7 8 4 2 9 6 1 3 4 5 8]\n",
      " [8 6 4 1 3 6 1 8 5 5 3 1 2 3 4 6 6 3 2 9]\n",
      " [9 3 6 4 5 8 1 8 7 4 9 8 1 9 5 5 5 7 9 4]\n",
      " [2 2 5 7 8 4 2 7 8 8 1 5 2 8 3 3 1 2 8 6]]\n",
      "[[8 9 9 1 6 3 6 7 7 7]\n",
      " [5 4 6 1 6 6 8 4 3 6]\n",
      " [4 7 3 6 7 6 9 6 7 5]\n",
      " [2 7 8 5 2 8 9 4 4 5]]\n",
      "[0.15, 0.25, 0.3, 0.3]\n"
     ]
    }
   ],
   "source": [
    "import numpy as np\n",
    "A = np.random.randint(low=1,high=10,size=(4,20))\n",
    "B = np.random.randint(low=1,high=10,size=(4,10))\n",
    "pesos = [0.15, 0.25, 0.3, 0.3]\n",
    "print(A)\n",
    "print(B)\n",
    "print(pesos)"
   ]
  },
  {
   "cell_type": "code",
   "execution_count": null,
   "metadata": {
    "id": "9-MuVtHSN94x"
   },
   "outputs": [],
   "source": []
  },
  {
   "cell_type": "code",
   "execution_count": null,
   "metadata": {
    "id": "ZZeIii8FN94z"
   },
   "outputs": [],
   "source": []
  }
 ],
 "metadata": {
  "colab": {
   "collapsed_sections": [],
   "name": "Python_Exercicios_fixacao.ipynb",
   "provenance": []
  },
  "kernelspec": {
   "display_name": "Python 3.8.5 ('base')",
   "language": "python",
   "name": "python3"
  },
  "language_info": {
   "codemirror_mode": {
    "name": "ipython",
    "version": 3
   },
   "file_extension": ".py",
   "mimetype": "text/x-python",
   "name": "python",
   "nbconvert_exporter": "python",
   "pygments_lexer": "ipython3",
   "version": "3.8.5"
  },
  "toc": {
   "base_numbering": 1,
   "nav_menu": {},
   "number_sections": true,
   "sideBar": true,
   "skip_h1_title": false,
   "title_cell": "Table of Contents",
   "title_sidebar": "Contents",
   "toc_cell": false,
   "toc_position": {},
   "toc_section_display": true,
   "toc_window_display": false
  },
  "vscode": {
   "interpreter": {
    "hash": "b1061245a22b17b19b85cf003e8b8bfcc4cdf8dbb1d6518b2fde69d455e71cf5"
   }
  }
 },
 "nbformat": 4,
 "nbformat_minor": 1
}
