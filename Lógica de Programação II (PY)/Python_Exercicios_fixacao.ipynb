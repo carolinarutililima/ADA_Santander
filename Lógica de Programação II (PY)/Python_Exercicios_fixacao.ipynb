{
 "cells": [
  {
   "cell_type": "markdown",
   "metadata": {
    "id": "x8VUohVKQh5l"
   },
   "source": [
    "# <font color=\"red\"> Santander Coders</font>\n",
    "## <span style=\"color:red\">Lógica de Programação II (Python)</span>\n",
    "\n",
    "## <span style=\"color:blue\">Exercicios - Gerais</span>\n",
    "*Maurício Luiz Sobrinho*<br>\n",
    "*Adatech*"
   ]
  },
  {
   "cell_type": "markdown",
   "metadata": {
    "id": "stgpCjFGOIyS"
   },
   "source": [
    "#### <span style=\"color:red\">Recomenda-se fortemente que os exercícios sejam feitos sem consultar as respostas antecipadamente.</span>"
   ]
  },
  {
   "cell_type": "markdown",
   "metadata": {
    "id": "Hq5h9KDdNw6O"
   },
   "source": [
    "### Exercício 1)\n",
    "\n",
    "Qual o tipo do valor resultante das operações abaixo (ou das variáveis as quais foram atribuídos)?\n",
    "\n",
    "a) `False + True`<br>\n",
    "b) `2 * 1e2**2`<br>\n",
    "c) `a = 6/2`<br>\n",
    "d) `x = 6//2 + 6%2`<br>\n",
    "e) `(2 + 4) == 4 or 0 <= 1`<br>"
   ]
  },
  {
   "cell_type": "code",
   "execution_count": null,
   "metadata": {
    "id": "sQTJrwV1Nw6P",
    "outputId": "888a9195-0922-4f74-f07d-d801cd49d36e"
   },
   "outputs": [
    {
     "name": "stdout",
     "output_type": "stream",
     "text": [
      "1 <class 'int'>\n"
     ]
    }
   ],
   "source": [
    "# exemplo\n",
    "print(False+True, type(False+True))"
   ]
  },
  {
   "cell_type": "code",
   "execution_count": 2,
   "metadata": {
    "id": "ob1ekA2yNw6R"
   },
   "outputs": [
    {
     "name": "stdout",
     "output_type": "stream",
     "text": [
      "1 <class 'int'>\n",
      "20000.0 <class 'float'>\n",
      "3.0 <class 'float'>\n",
      "3 <class 'int'>\n",
      "True <class 'bool'>\n"
     ]
    }
   ],
   "source": [
    "print(False+True, type(False+True))\n",
    "print(2 * 1e2**2, type(2 * 1e2**2))\n",
    "print(6/2, type(6/2))\n",
    "print(6//2 + 6%2, type(6//2 + 6%2))\n",
    "print((2 + 4) == 4 or 0 <= 1, type((2 + 4) == 4 or 0 <= 1))"
   ]
  },
  {
   "cell_type": "markdown",
   "metadata": {
    "id": "WHG7tm3QQh5m"
   },
   "source": [
    "### Exercício 2)\n",
    "\n",
    "Crie uma variável contendo um ano (um valor inteiro entre 0 e 3000)\n",
    "\n",
    "A seguir, se o ano for divisível por 4, exiba na tela 'Pode ser um ano bissexto'; caso contrário exiba 'Definitivamente não é um ano bissexto'\n",
    "\n",
    "__Dica:__ Utilize o operador `%` que retorna o resto da divisão de um número por outro."
   ]
  },
  {
   "cell_type": "code",
   "execution_count": 1,
   "metadata": {
    "id": "pTVOXvzVQh5m"
   },
   "outputs": [
    {
     "name": "stdout",
     "output_type": "stream",
     "text": [
      "Pode ser um ano bissexto\n"
     ]
    }
   ],
   "source": [
    "ano = 3200\n",
    "\n",
    "if ano%4 ==0:\n",
    "    print(\"Pode ser um ano bissexto\")\n",
    "else:\n",
    "    print('Definitivamente não é um ano bissexto')"
   ]
  },
  {
   "cell_type": "markdown",
   "metadata": {
    "id": "M72PbdAnQh5u"
   },
   "source": [
    "### Exercício 3)\n",
    "\n",
    "Dada a lista `valores` abaixo, crie uma nova lista chamada `numeros` contendo apenas elementos `float` ou `int`.\n",
    "\n",
    "Note que essa nova lista pode ter menos elementos do que a lista existente.\n",
    "\n",
    "Ao final exiba a nova lista `numeros`\n",
    "\n",
    "__Dica__: Percorra a lista com uma estrutura de repetição e utilize `type()` para retornar o tipo e compare com o desejado. Exemplo:\n",
    "```python\n",
    "type(3) == int\n",
    "```\n",
    "Retorna `True`"
   ]
  },
  {
   "cell_type": "code",
   "execution_count": 3,
   "metadata": {
    "id": "5HFGhEvMQh5u"
   },
   "outputs": [],
   "source": [
    "valores = ['três', 56, 342, 12.4e-5, 4+3j, ('A', 1, 50.1), -0.19e4, 1000, 960, -406]"
   ]
  },
  {
   "cell_type": "code",
   "execution_count": 4,
   "metadata": {
    "id": "ZKiXmG-nNw6U"
   },
   "outputs": [
    {
     "data": {
      "text/plain": [
       "[56, 342, 0.000124, -1900.0, 1000, 960, -406]"
      ]
     },
     "execution_count": 4,
     "metadata": {},
     "output_type": "execute_result"
    }
   ],
   "source": [
    "valores_new = [i for i in valores if type(i).__name__ =='int' or type(i).__name__ =='float']\n",
    "valores_new"
   ]
  },
  {
   "cell_type": "markdown",
   "metadata": {
    "id": "l7DP2hANNw6V"
   },
   "source": [
    "### Exercício 4)\n",
    "\n",
    "Escreva uma **função** que receba por parâmetro uma taxa de juros pagas ao ano, calcule e retorne um número inteiro relativo a quantos anos serão necessários para que um investimento nessa taxa dobre de valor. Assuma juros compostos e use uma estrutura de repetição para calcular.\n"
   ]
  },
  {
   "cell_type": "code",
   "execution_count": 8,
   "metadata": {
    "id": "Xn5TJdmtNw6V"
   },
   "outputs": [
    {
     "name": "stdout",
     "output_type": "stream",
     "text": [
      "15\n"
     ]
    }
   ],
   "source": [
    "def calcula_anos(juros):\n",
    "    P = 1  \n",
    "    A = 2 * P  \n",
    "    r = juros / 100  \n",
    "    t = 0  \n",
    "\n",
    "    while P < A:\n",
    "        P *= (1 + r)\n",
    "        t += 1\n",
    "\n",
    "    return t\n",
    "\n",
    "\n",
    "taxa = 5  \n",
    "print(calcula_anos(taxa))\n"
   ]
  },
  {
   "cell_type": "markdown",
   "metadata": {
    "id": "8ZD-mCMPQh5w"
   },
   "source": [
    "### Exercício 5)\n",
    "Considere a lista `linguagens` declarada abaixo. \n",
    "- Utilizando fatiamento, imprima o subconjunto de elementos entre o segundo e o quarto elemento (inclusive)\n",
    "- Gere uma nova lista chamada `maiores4` contendo os elementos da lista `linguagens` que possuam quatro caracteres ou mais, utilizando a função `len()`.\n",
    "- Gere uma nova lista chamada `j_ou_c` contendo os elementos da lista `linguagens` que começam com a letra 'j' ou com a letra 'c'."
   ]
  },
  {
   "cell_type": "code",
   "execution_count": 2,
   "metadata": {
    "id": "IL6VO3ilQh5w"
   },
   "outputs": [
    {
     "data": {
      "text/plain": [
       "['java', 'c++', 'javascript']"
      ]
     },
     "execution_count": 2,
     "metadata": {},
     "output_type": "execute_result"
    }
   ],
   "source": [
    "linguagens = ['python', 'java', 'c++', 'javascript', 'c#', 'go', 'r', 'cobol', 'ruby', 'lisp']\n",
    "\n",
    "linguagens[1:4]\n"
   ]
  },
  {
   "cell_type": "code",
   "execution_count": 4,
   "metadata": {},
   "outputs": [
    {
     "data": {
      "text/plain": [
       "['python', 'java', 'javascript', 'cobol', 'ruby', 'lisp']"
      ]
     },
     "execution_count": 4,
     "metadata": {},
     "output_type": "execute_result"
    }
   ],
   "source": [
    "\n",
    "maiores4 = [i for i in linguagens if len(i)>=4]\n",
    "maiores4"
   ]
  },
  {
   "cell_type": "code",
   "execution_count": 6,
   "metadata": {},
   "outputs": [
    {
     "data": {
      "text/plain": [
       "['java', 'c++', 'javascript', 'c#', 'cobol']"
      ]
     },
     "execution_count": 6,
     "metadata": {},
     "output_type": "execute_result"
    }
   ],
   "source": [
    "j_ou_c = [i for i in linguagens if i[0]==\"j\" or i[0]== 'c']\n",
    "j_ou_c"
   ]
  },
  {
   "cell_type": "markdown",
   "metadata": {
    "id": "ziVJFG-nNw6W"
   },
   "source": [
    "\n",
    "### Exercício 6) \n",
    "\n",
    "Codifique uma função `conta_palavras()` que, a partir de um um texto (string) contendo palavras separadas por vírgulas apenas - considere que não há outras pontuações:\n",
    "1. Inicie criando uma lista de palavras e \n",
    "2. Use um dicionário para contar a frequência de cada palavra no texto, retornando o dicionário obtido.\n",
    "\n",
    "*Dica: use a função `str.split()` para separar uma string em substrings usando como delimitador um caracter especificado por argumento*\n",
    "\n",
    "Exemplo:\n",
    "\n",
    "```\n",
    "nomes = \"ana,fábio,cristina,ana,fábio,ubiratã,ana\"\n",
    "freq = conta_palavras(nomes)\n",
    "print(freq)\n",
    "```\n",
    "Deve gerar:\n",
    "```\n",
    "{'ana': 3, 'fábio': 2, 'cristina': 1, 'ubiratã': 1}\n",
    "```"
   ]
  },
  {
   "cell_type": "code",
   "execution_count": 13,
   "metadata": {
    "id": "7hIZ3pETNw6X"
   },
   "outputs": [
    {
     "name": "stdout",
     "output_type": "stream",
     "text": [
      "ana\n",
      "fábio\n",
      "cristina\n",
      "ana\n",
      "fábio\n",
      "ubiratã\n",
      "ana\n",
      "{'ana': 3, 'fábio': 2, 'cristina': 1, 'ubiratã': 1}\n"
     ]
    }
   ],
   "source": [
    "def conta_palavras(nomes):\n",
    "    dic_nomes = {}\n",
    "    for i in nomes:\n",
    "        if i in dic_nomes.keys():\n",
    "            dic_nomes[i] = dic_nomes[i] + 1\n",
    "        else:\n",
    "            dic_nomes[i] = 1\n",
    "    return dic_nomes\n",
    "\n",
    "\n",
    "nomes = \"ana,fábio,cristina,ana,fábio,ubiratã,ana\".split(\",\")\n",
    "freq = conta_palavras(nomes)\n",
    "print(freq)"
   ]
  },
  {
   "cell_type": "markdown",
   "metadata": {
    "id": "aYaioiBSQh5y"
   },
   "source": [
    "### Exercício 7) \n",
    "Considere a lista `produtos` definida abaixo, onde cada elemento é uma tupla possuindo:\n",
    "* elemento 1: o nome de um produto \n",
    "* elemento 2: e uma lista de preços encontradas no mercado. \n",
    "\n",
    "Calcule a média de preços de cada produto, salvando o resultado em uma nova lista chamada `preco_medio`.\n",
    "\n",
    "Posteriormente, sorteie um dos produtos e exiba na tela o nome e preço médio desse produto sorteado\n",
    "\n",
    "__Dica:__ Utilize a função `fsum()` do módulo `math` para somar os valores daa lista. Por exemplo:\n",
    "```python\n",
    "ls = [1.0,1.0,1.0,1.0,1.0]\n",
    "print(fsum(ls))\n",
    "```\n",
    "resulta no valor 5"
   ]
  },
  {
   "cell_type": "code",
   "execution_count": 18,
   "metadata": {
    "id": "CMmRYn0-Qh5z",
    "scrolled": true
   },
   "outputs": [
    {
     "name": "stdout",
     "output_type": "stream",
     "text": [
      "4\n"
     ]
    }
   ],
   "source": [
    "produtos = [('soja', [170.1, 183.0, 175.0]),\n",
    "            ('algodao', [143.4]),\n",
    "            ('cacau', [199, 185.1]),\n",
    "            ('café', [880, 750.9, 795.1, 900])]\n",
    "\n",
    "print(len(produtos))"
   ]
  },
  {
   "cell_type": "code",
   "execution_count": 21,
   "metadata": {
    "id": "HLY42K2bNw6Y"
   },
   "outputs": [
    {
     "name": "stdout",
     "output_type": "stream",
     "text": [
      "O/A café tem valor médio de 831.5\n"
     ]
    }
   ],
   "source": [
    "from math import fsum\n",
    "import random\n",
    "\n",
    "preco_medio = []\n",
    "for i in produtos:\n",
    "    preco = fsum(i[1])/len(i[1])\n",
    "    preco_medio.append(preco)\n",
    "\n",
    "random_num = random.randint(0, 3)\n",
    "\n",
    "\n",
    "print(\"O/A\", produtos[random_num][0], \"tem valor médio de\", preco_medio[random_num])\n",
    "\n",
    "\n",
    "\n"
   ]
  },
  {
   "cell_type": "markdown",
   "metadata": {
    "id": "AHmpWv7lOIyS"
   },
   "source": [
    "### Exercício 8)\n",
    "\n",
    "A partir de um vetor com números inteiros aleatórios, calcular seu `log` e criar uma lista com o resultado.\n",
    "* se o número for 0 substituir o valor por `nan` (not a number) da biblioteca `math` para indicar que o resultado não é numérico"
   ]
  },
  {
   "cell_type": "code",
   "execution_count": 24,
   "metadata": {
    "id": "JM6sQRRSOIyS"
   },
   "outputs": [
    {
     "data": {
      "text/plain": [
       "[0.0,\n",
       " 4.51085950651685,\n",
       " 4.382026634673881,\n",
       " 2.5649493574615367,\n",
       " 4.31748811353631,\n",
       " 3.1354942159291497,\n",
       " 3.2188758248682006,\n",
       " 3.58351893845611,\n",
       " 4.406719247264253,\n",
       " 2.995732273553991,\n",
       " 1.3862943611198906,\n",
       " 4.290459441148391,\n",
       " 2.6390573296152584,\n",
       " 4.430816798843313,\n",
       " 4.605170185988092,\n",
       " 4.23410650459726,\n",
       " 3.9512437185814275,\n",
       " 4.553876891600541,\n",
       " 3.332204510175204,\n",
       " 4.3694478524670215]"
      ]
     },
     "execution_count": 24,
     "metadata": {},
     "output_type": "execute_result"
    }
   ],
   "source": [
    "import math\n",
    "valores = [random.randint(0, 100) for _ in range(20)]\n",
    "\n",
    "lista_log = [math.nan if i == 0 else math.log(i) for i in valores]\n",
    "lista_log"
   ]
  },
  {
   "cell_type": "markdown",
   "metadata": {
    "id": "G31eIL7gOIyS"
   },
   "source": [
    "### Exercício 09)\n",
    "\n",
    "\n",
    "Codifique uma função que receba como argumento duas listas de números com o mesmo tamanho. Use comprehension para retornar uma nova lista que é a multiplicação elemento-a-elemento das duas listas.  Caso as listas não possuam o mesmo tamanho emita uma mensagem de erro e retorne a constante `math.nan` do módulo `math`.\n",
    "\n",
    "Exemplo:\n",
    "```\n",
    "l1 = [1, 2, 3, 4, 5]\n",
    "l2 = [5, 5, 5, 10, 10]\n",
    "multiplica_listas(l1,l2)\n",
    "\n",
    "  [5, 10, 15, 40, 50]\n",
    "```"
   ]
  },
  {
   "cell_type": "code",
   "execution_count": 26,
   "metadata": {
    "id": "rg5DWmsCN94r"
   },
   "outputs": [
    {
     "data": {
      "text/plain": [
       "[5, 10, 15, 40, 50]"
      ]
     },
     "execution_count": 26,
     "metadata": {},
     "output_type": "execute_result"
    }
   ],
   "source": [
    "def multiplica_listas(l1,l2):\n",
    "    if len(l2)==len(l1):\n",
    "        return [i*j for i,j in zip(l1,l2)]\n",
    "    else:\n",
    "        return math.nan\n",
    "\n",
    "l1 = [1, 2, 3, 4, 5]\n",
    "l2 = [5, 5, 5, 10, 10]\n",
    "multiplica_listas(l1,l2)"
   ]
  },
  {
   "cell_type": "markdown",
   "metadata": {
    "id": "vLgao2vhN94s"
   },
   "source": [
    "### Exercício 10)\n",
    "\n",
    "Codifique uma comprehension que simule uma matriz de tamanho n x n, cujos elementos são dados por `(i+j*i)`, sendo `i` o índice da linha e `j` o índice da coluna. Para simular isso com uma lista de listas, o `i` corresponde ao índice da lista principal e o `j` aos índices das listas aninhadas.\n",
    "\n",
    "Por exemplo, seja a segunda lista (posição i=1), o seu terceiro elemento (posição j=2) seria obtido por `1+2*1 = 3`\n",
    "\n",
    "Exemplo com n = 3:\n",
    "```\n",
    "  [[0, 0, 0],\n",
    "   [1, 2, 3],\n",
    "   [2, 4, 6]] \n",
    "```"
   ]
  },
  {
   "cell_type": "code",
   "execution_count": 28,
   "metadata": {
    "id": "YDywIRASN94s"
   },
   "outputs": [
    {
     "data": {
      "text/plain": [
       "[[0, 0, 0], [1, 2, 3], [2, 4, 6]]"
      ]
     },
     "execution_count": 28,
     "metadata": {},
     "output_type": "execute_result"
    }
   ],
   "source": [
    "n=3\n",
    "matrix = [[i+j*i for j in range(n)]for i in range(n)]\n",
    "matrix"
   ]
  },
  {
   "cell_type": "markdown",
   "metadata": {
    "id": "kp_B7-eWN94t"
   },
   "source": [
    "---\n",
    "\n",
    "##  <font color=\"red\">Desafio</font>\n",
    "\n",
    "Temos uma série de pontos 3D organizados numa lista e gostaríamos de computar as distâncias entre todos os pontos pareados.\n",
    "\n",
    "Calcular a distância entre dois pontos $p1 = (x_1,y_1,z_1)$ e  $p2 = (x_2,y_2,z_2)$ usando a fórmula\n",
    "\n",
    "$$d(p1,p2) = |x_1 - x_2| +|y_1 - y_2| + |z_1 - z_2|,$$\n",
    "em que $|.|$ representa o valor absoluto.\n",
    "\n",
    "Exemplo com 2 pontos organizados em listas:\n",
    "```\n",
    "[[1.0, 1.0, 1.0],\n",
    " [3.0, 3.0, 3.0]]\n",
    "```\n",
    "\n",
    "A saída deve ser:\n",
    "```\n",
    "[[0.0, 6.0],\n",
    " [6.0, 0.0]]\n",
    "```\n",
    "\n",
    "Note que a diagonal principal tem sempre valor zero já que representa a distância de um ponto para ele mesmo, e que a matriz é simétrica pois a distância entre dois pontos p1 e p2 é tal que: d(p1,p2) = d(p2,p1).\n",
    "\n",
    "Para isso utilize uma única linha contendo comprehensions aninhadas e com iteração em paralelo"
   ]
  },
  {
   "cell_type": "code",
   "execution_count": 31,
   "metadata": {
    "id": "WWs6_jsdN94t"
   },
   "outputs": [
    {
     "data": {
      "text/plain": [
       "[[0.0, 6.0], [6.0, 0.0]]"
      ]
     },
     "execution_count": 31,
     "metadata": {},
     "output_type": "execute_result"
    }
   ],
   "source": [
    "\n",
    "\n",
    "def distancia_pontos(lps):\n",
    "    return [[abs(x1 - x2) + abs(y1 - y2) + abs(z1 - z2) for (x2, y2, z2) in lps] for (x1, y1, z1) in lps]\n",
    "    \n",
    "\n",
    "lps = [[1.0, 1.0, 1.0], [3.0, 3.0, 3.0]]\n",
    "distancia_pontos(lps)"
   ]
  },
  {
   "cell_type": "markdown",
   "metadata": {
    "id": "5xoz5aYJOIyT"
   },
   "source": [
    "### Exercício 11)\n",
    "\n",
    "Escreva uma expressão lambda que permita receber uma string contendo duas palavras relativas ao nome de uma pessoa e seu sobrenome. Essas são separadas por um ou mais espaços em branco. A expressão deve retornar o nome no formato: \"SOBRENOME, N.\"\n",
    "\n",
    "Exemplo:\n",
    "```\n",
    "nome = 'Dennis   ritchie'\n",
    "```\n",
    "\n",
    "Retorno:\n",
    "```\n",
    "RITCHIE, D.\n",
    "```\n",
    "\n",
    "A seguir escreva um comprehension que percorra uma lista contendo nomes e gere uma nova lista com os nomes no formato \"SOBRENOME, N.\"\n",
    "\n",
    "Exemplo:\n",
    "```\n",
    "nomes = ['Dennis   ritchie', 'ALAN  Turing', 'betty Holberton']\n",
    "```\n",
    "\n",
    "Retorno:\n",
    "```\n",
    "['RITCHIE, D.', 'TURING, A.', 'HOLBERTON, B.']\n",
    "```"
   ]
  },
  {
   "cell_type": "code",
   "execution_count": 30,
   "metadata": {
    "id": "IR_QNLvsN94u"
   },
   "outputs": [
    {
     "data": {
      "text/plain": [
       "['RITCHIE, D.', 'TURING, A.', 'HOLBERTON, B.']"
      ]
     },
     "execution_count": 30,
     "metadata": {},
     "output_type": "execute_result"
    }
   ],
   "source": [
    "cite = lambda x: x.split()[-1].upper()+\", \"+ x.split()[0][0].upper()+\".\"\n",
    "\n",
    "nomes = ['Dennis   ritchie', 'ALAN  Turing', 'betty Holberton']\n",
    "nomes_formatados = [cite(i) for i in nomes]\n",
    "nomes_formatados"
   ]
  },
  {
   "cell_type": "markdown",
   "metadata": {
    "id": "fX3J5ovRN94v"
   },
   "source": [
    "### Exercício 12) \n",
    "\n",
    "Dada uma lista de tuplas, em que cada tupla é formada por um par (str,list). Ver um exemplo abaixo.\n",
    "\n",
    "```\n",
    "l_tup = [('a',[8, 4, 6, 1]), ('b',[1, 2, 3, 4]), ('c',[5, 3, 3, 3])]\n",
    "```\n",
    "* Converta a lista de tuplas em um numpy array bidimensional em que cada lista é transformada em uma linha do array, ignorando a string. \n",
    "* Percorra cada linha do array resultante usando `for`, exibindo na tela os 3 últimos elementos de cada array\n",
    "\n",
    "Seu código deve funcionar para qualquer número de tuplas na lista, assuma que as listas tem sempre o mesmo número de elementos, todos numéricos.\n"
   ]
  },
  {
   "cell_type": "code",
   "execution_count": 7,
   "metadata": {
    "id": "f7WQqNokN94v"
   },
   "outputs": [
    {
     "data": {
      "text/plain": [
       "array([[8, 4, 6, 1],\n",
       "       [1, 2, 3, 4],\n",
       "       [5, 3, 3, 3]])"
      ]
     },
     "execution_count": 7,
     "metadata": {},
     "output_type": "execute_result"
    }
   ],
   "source": [
    "l_tup = [('a',[8, 4, 6, 1]), ('b',[1, 2, 3, 4]), ('c',[5, 3, 3, 3])]\n",
    "\n",
    "new_l_tup = [j for i in l_tup for j in i if type(j).__name__ != 'str']\n",
    "\n",
    "new_array = np.array(new_l_tup)\n",
    "\n",
    "new_array"
   ]
  },
  {
   "cell_type": "markdown",
   "metadata": {
    "id": "1GaZN35TOIyU"
   },
   "source": [
    "### Exercício 13) \n",
    "\n",
    "Use o método `randint` do `numpy` para criar um array bidimensional com 6x10 elementos inteiros entre 1 e 5. \n",
    "\n",
    "A seguir, considerando apenas a submatriz formada pelas linhas: 2 até 6 e as colunas 2, 5 e 8, copie para uma matriz unidimensional os valores maiores ou iguais a 4."
   ]
  },
  {
   "cell_type": "code",
   "execution_count": 5,
   "metadata": {
    "id": "TMtMsPmMN94w"
   },
   "outputs": [],
   "source": [
    "import numpy as np\n",
    "\n",
    "# Parameters for the random integers\\n\",\n",
    "low = 1   # Lower bound (inclusive)\\n\",\n",
    "high = 5 # Upper bound (exclusive)\\n\",\n",
    "size = (6, 10) # Size of the array (e.g., 5x5)\\n\",\n",
    "\n",
    "random_array = np.random.randint(low, high, size)"
   ]
  },
  {
   "cell_type": "code",
   "execution_count": 6,
   "metadata": {},
   "outputs": [
    {
     "data": {
      "text/plain": [
       "[1, 1, 1, 1, 3, 2, 1, 3, 3]"
      ]
     },
     "execution_count": 6,
     "metadata": {},
     "output_type": "execute_result"
    }
   ],
   "source": [
    "new_array = random_array[1:6][:, [1, 4, 5]]\n",
    "\n",
    "uni_array = [j for i in new_array for j in i if j!=4]\n",
    "uni_array"
   ]
  },
  {
   "cell_type": "markdown",
   "metadata": {
    "id": "YuORLIMwN94w"
   },
   "source": [
    "### Exercício 14)\n",
    "\n",
    "\n",
    "Dados dois arrays conforme abaixo que são notas (de 1 a 10) dadas a 4 diferentes serviços fornecidos por empresas concorrentes A e B. As notas de cada serviço estão organizadas nas 4 linhas dos arrays.\n",
    "\n",
    "A empresa `A` coletou 10 notas, e `B` coletou 5 notas para cada serviço (simuladas aleatoriamente no código abaixo).\n",
    "\n",
    "Os 4 serviços possuem pesos que é determinado pela lista `pesos` listada abaixo.\n",
    "\n",
    "A empresa A deseja se comparar com a empresa B com base na média das notas da empresa B. Para isso:\n",
    "1. usando redução, obtenha a média das notas de cada serviço da empresa B;\n",
    "2. para cada serviço, calcule qual foi a menor nota observada por A considerando apenas as notas de A que foram maiores do que a média de B para aquele serviço;\n",
    "3. armazene essas notas mínimas em um novo array de 4 elementos, e exiba esse array na tela;\n",
    "4. utilizando multiplicação vetorial, calcule e exiba na tela a soma das notas mínimas ponderadas pelos pesos \n"
   ]
  },
  {
   "cell_type": "code",
   "execution_count": 32,
   "metadata": {
    "id": "OjTjtOMJN94w",
    "outputId": "11d14b39-9693-42f5-ea34-e0878acd0c04",
    "scrolled": true
   },
   "outputs": [
    {
     "name": "stdout",
     "output_type": "stream",
     "text": [
      "[[8 7 7 7 1 7 6 3 4 2 1 6 4 3 9 3 1 5 9 3]\n",
      " [2 9 4 2 4 2 5 4 2 5 3 2 6 9 9 5 3 3 3 3]\n",
      " [8 5 1 3 4 4 4 9 3 9 3 4 5 5 3 5 6 3 8 7]\n",
      " [1 4 9 1 3 3 8 2 2 2 1 6 5 5 2 8 8 5 9 6]]\n",
      "[[1 7 8 7 3 4 7 4 5 6]\n",
      " [9 9 6 5 7 9 5 9 2 5]\n",
      " [5 4 8 2 1 1 3 2 4 9]\n",
      " [5 2 2 3 5 2 5 3 8 3]]\n",
      "[0.15, 0.25, 0.3, 0.3]\n"
     ]
    }
   ],
   "source": [
    "import numpy as np\n",
    "A = np.random.randint(low=1,high=10,size=(4,20))\n",
    "B = np.random.randint(low=1,high=10,size=(4,10))\n",
    "pesos = [0.15, 0.25, 0.3, 0.3]\n",
    "print(A)\n",
    "print(B)\n",
    "print(pesos)"
   ]
  },
  {
   "cell_type": "code",
   "execution_count": 37,
   "metadata": {
    "id": "9-MuVtHSN94x"
   },
   "outputs": [
    {
     "data": {
      "text/plain": [
       "[5.2, 6.6, 3.9, 3.8]"
      ]
     },
     "execution_count": 37,
     "metadata": {},
     "output_type": "execute_result"
    }
   ],
   "source": [
    "from functools import reduce\n",
    "\n",
    "\n",
    "\n",
    "media_b = [(reduce(lambda x,y: x+y, i))/len(i) for i in B]\n",
    "media_b"
   ]
  },
  {
   "cell_type": "code",
   "execution_count": 40,
   "metadata": {
    "id": "ZZeIii8FN94z"
   },
   "outputs": [
    {
     "data": {
      "text/plain": [
       "[6, 9, 4, 4]"
      ]
     },
     "execution_count": 40,
     "metadata": {},
     "output_type": "execute_result"
    }
   ],
   "source": [
    "\n",
    "min_A = [min([y for y in i if y>j ]) for i,j in zip(A,media_b)]\n",
    "min_A"
   ]
  },
  {
   "cell_type": "code",
   "execution_count": 42,
   "metadata": {},
   "outputs": [
    {
     "data": {
      "text/plain": [
       "5.55"
      ]
     },
     "execution_count": 42,
     "metadata": {},
     "output_type": "execute_result"
    }
   ],
   "source": [
    "pesos_soma = sum([i*j for i,j in zip(min_A,pesos)])\n",
    "pesos_soma"
   ]
  }
 ],
 "metadata": {
  "colab": {
   "collapsed_sections": [],
   "name": "Python_Exercicios_fixacao.ipynb",
   "provenance": []
  },
  "kernelspec": {
   "display_name": "Python 3.8.5 ('base')",
   "language": "python",
   "name": "python3"
  },
  "language_info": {
   "codemirror_mode": {
    "name": "ipython",
    "version": 3
   },
   "file_extension": ".py",
   "mimetype": "text/x-python",
   "name": "python",
   "nbconvert_exporter": "python",
   "pygments_lexer": "ipython3",
   "version": "3.8.5"
  },
  "toc": {
   "base_numbering": 1,
   "nav_menu": {},
   "number_sections": true,
   "sideBar": true,
   "skip_h1_title": false,
   "title_cell": "Table of Contents",
   "title_sidebar": "Contents",
   "toc_cell": false,
   "toc_position": {},
   "toc_section_display": true,
   "toc_window_display": false
  },
  "vscode": {
   "interpreter": {
    "hash": "b1061245a22b17b19b85cf003e8b8bfcc4cdf8dbb1d6518b2fde69d455e71cf5"
   }
  }
 },
 "nbformat": 4,
 "nbformat_minor": 1
}
