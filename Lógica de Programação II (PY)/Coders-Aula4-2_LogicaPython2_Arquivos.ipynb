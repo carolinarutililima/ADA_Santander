{
 "cells": [
  {
   "cell_type": "markdown",
   "metadata": {
    "id": "-ZWWXg-hkWk2"
   },
   "source": [
    "# <font color=\"red\"> Santander Coders</font>\n",
    "## <span style=\"color:red\">Lógica de Programação II (Python)</span>\n",
    "\n",
    "*Maurício Luiz Sobrinho*<br>\n",
    "*Adatech*"
   ]
  },
  {
   "cell_type": "markdown",
   "metadata": {
    "id": "2hNnzpWfkWk7"
   },
   "source": [
    "---\n",
    "__Conteúdos:__\n",
    "- Arquivos\n",
    "- I/O em python\n",
    "\n",
    "__Referências:__\n",
    "- Mark Lutz, Learning Python, O'Reilly, 2013\n",
    "- Eric Matthes, Python Crash Course: A Hands-On, Project-Based Introduction to Programming, No Starch Press, 2015"
   ]
  },
  {
   "cell_type": "markdown",
   "metadata": {
    "id": "nzw_LDfCkWlD"
   },
   "source": [
    "---\n",
    "## Leitura e Escrita de Arquivos (I/O)\n",
    "- Python manipula naturalmente arquivos _ascii_, mas arquivos binários também são possíveis de serem utilizados\n",
    "- O conteúdo de um arquivo é sempre uma string. Desta forma, deve-se fazer a conversão de/para string na leitura/escrita\n",
    "- Arquivos são lidos/escritos em buffers, o que significa que deve-se assegurar, principalmente no processo de escrita de arquivos, que o conteúdo foi salvo em disco\n",
    "   - fechar o arquivo (comando <font color='blue'>close</font> em Python) ou usar o comando `flush`, forçando os dados do buffer serem escritos em disco"
   ]
  },
  {
   "cell_type": "markdown",
   "metadata": {
    "id": "99gnGmgxkWlD"
   },
   "source": [
    "### <font color='blue'>open</font>\n",
    "O comando  <font color='blue'>open</font> abre um arquivo em um determinado modo. A sintaxe é:\n",
    "```python\n",
    "open(nome_do_arquivo, modo)\n",
    "``` \n",
    "O resultado é um objeto tipo 'arquivo' (`io`).<br>\n",
    "\n",
    "O parâmetro `modo` pode ser:\n",
    "- ‘r’ para leitura (read)\n",
    "- ‘w’ para escrita(write)\n",
    "- ‘a’ para acrescentar conteúdo em um arquivo existente(append)\n",
    "- ‘r+’ para leitura e escrita\n",
    "\n",
    "Se o arquivo não pode ser aberto, o interpretador envia a mensagem de erro tipo 'IOError'<br>\n",
    "Métodos do objeto tipo 'arquivo' são usados para ler, escrever e controlar o processo de leitura e escrita."
   ]
  },
  {
   "cell_type": "markdown",
   "metadata": {
    "id": "HEQh7YV0kWlD"
   },
   "source": [
    "Para ilustrarmos a funcionalidade de leitura, vamos primeiro criar um arquivo com o commando <font color='blue'>%%writefile</font>. Este comando escreve tudo que estiver na célula do notebook para um aquivo especificado. No exemplo abaixo, o commando `%%writefile data.txt` irá escrever todo o conteúdo da célula no arquivo chamado 'data.txt'\n",
    "\n",
    "Verifique no seu diretório de trabalho (onde este notebook está) que o arquivo 'data.txt' será criado após executar a célula abaixo."
   ]
  },
  {
   "cell_type": "code",
   "execution_count": null,
   "metadata": {
    "id": "K_w8p-8MkWlE",
    "outputId": "93ba3ad0-dfe4-4b59-b3c5-9c5495697b25"
   },
   "outputs": [
    {
     "name": "stdout",
     "output_type": "stream",
     "text": [
      "Overwriting data.txt\n"
     ]
    }
   ],
   "source": [
    "%%writefile data.txt \n",
    "hello world\n",
    "today is raining\n",
    "winter is comming"
   ]
  },
  {
   "cell_type": "code",
   "execution_count": null,
   "metadata": {
    "id": "yAX5ZoXvkWlF",
    "outputId": "61e0c2b1-0316-4d1c-9ceb-97998e30b97f"
   },
   "outputs": [
    {
     "name": "stdout",
     "output_type": "stream",
     "text": [
      "<_io.TextIOWrapper name='data.txt' mode='r' encoding='UTF-8'>\n"
     ]
    }
   ],
   "source": [
    "# instanciando um objeto 'arquivo'\n",
    "f = open('data.txt','r')\n",
    "print(f)"
   ]
  },
  {
   "cell_type": "markdown",
   "metadata": {
    "id": "DwzzRLPMkWlF"
   },
   "source": [
    "#### Leitura de Arquivos\n",
    "Os principais métodos para ler um arquivo são:\n",
    "- <font color='blue'>read(size)</font>\n",
    "   - lê \"size\" bytes, ou o arquivo inteiro se o parâmetro \"size\" é omitido\n",
    "- <font color='blue'>readline()</font>\n",
    "   - lê uma única linha do arquivo\n",
    "- <font color='blue'>readlines()</font>\n",
    "   - retorna uma lista contendo todas as linhas do arquivo, cada linha sendo um elemento da lista\n",
    "- <font color='blue'>for line in f:</font>\n",
    "   - lê cada linha do arquivo atribuindo-a a variável `line` (outro nome pode ser dado a variável) "
   ]
  },
  {
   "cell_type": "code",
   "execution_count": null,
   "metadata": {
    "id": "w0NGyn5skWlF",
    "outputId": "ab30e8e3-630e-4ac7-aef0-f7aa7d2d5754"
   },
   "outputs": [
    {
     "name": "stdout",
     "output_type": "stream",
     "text": [
      "['hello world\\n', 'today is raining\\n', 'winter is comming\\n']\n"
     ]
    }
   ],
   "source": [
    "f = open('data.txt','r')  # abre o aquivo criado com o comando '%%writefile data.txt'\n",
    "lines = f.readlines()  # lê todas as linhas do aquivo e armazena na lista 'lines'\n",
    "print(lines)"
   ]
  },
  {
   "cell_type": "code",
   "execution_count": null,
   "metadata": {
    "id": "3io8z5qKkWlG",
    "outputId": "c815d094-5171-41fc-875f-d5a27915ea98"
   },
   "outputs": [
    {
     "name": "stdout",
     "output_type": "stream",
     "text": [
      "hello world\n",
      "\n",
      "today is raining\n",
      "\n",
      "winter is comming\n",
      "\n"
     ]
    }
   ],
   "source": [
    "f = open('data.txt','r') \n",
    "for line in f:    # lê cada linha do aquivo, atribuindo uma de cada vez a variável 'line'\n",
    "    print(line)"
   ]
  },
  {
   "cell_type": "markdown",
   "metadata": {
    "id": "UbIajEPtkWlG"
   },
   "source": [
    "Uma construção muito comum quando se está fazendo leitura e escrita de aquivo é utilizar a estrutura definida pelo comando <font color='blue'>with</font>. A sintaxe é a seguinte:\n",
    "```python\n",
    "with open(nome_do_arquivo,modo) as variavel:\n",
    "    bloco de codigo\n",
    "```\n",
    "onde `variavel` é uma instância do objeto tipo 'aquivo' e o bloco de código é onde se executa a tarefa de leitura ou escrita.\n",
    "\n",
    "A vantagem de se empregar <font color='blue'>with</font> é que o Python se encarrega de baixar o conteúdo do buffer para disco uma vez que o bloco de código identado tenha sido executado, fechando o arquivo automaticamente."
   ]
  },
  {
   "cell_type": "code",
   "execution_count": null,
   "metadata": {
    "id": "QD62NghTkWlG",
    "outputId": "f49a7edc-c5fa-47fc-d286-e780f79147ac"
   },
   "outputs": [
    {
     "name": "stdout",
     "output_type": "stream",
     "text": [
      "hello world\n",
      "\n",
      "today is raining\n",
      "\n",
      "winter is comming\n",
      "\n"
     ]
    }
   ],
   "source": [
    "with open('data.txt', 'r') as f:  # garante que o arquivo será fechado corretamente quando finalizado\n",
    "    for line in f:\n",
    "        print(line)"
   ]
  },
  {
   "cell_type": "markdown",
   "metadata": {
    "id": "E26GBrDskWlH"
   },
   "source": [
    "#### Escrita de Arquivos\n",
    "Os principais métodos para escrever conteúdo em um arquivo são:\n",
    "- <font color='blue'>write</font>\n",
    "   - escreve uma string no arquivo\n",
    "- <font color='blue'>writelines</font>\n",
    "   - escreve uma lista de strings no arquivo"
   ]
  },
  {
   "cell_type": "code",
   "execution_count": null,
   "metadata": {
    "id": "Xk9MCkbakWlH"
   },
   "outputs": [],
   "source": [
    "lst = ['hello world\\n','today is Saturday\\n', 'winter is comming\\n'] # lista de strings que serão escritas no arquivo\n",
    "                                                                     # o símbolo '\\n' implica em uma mudança de linha\n",
    "                                                                     # ou seja, cada elemento da lista será escrito\n",
    "                                                                     # em uma linha do arquivo\n",
    "\n",
    "with open('data2write.txt', 'w') as f:  # abre um arquivo para escrita chamado 'data2write.txt'\n",
    "    f.writelines(lst)       # escreve o conteúdo da lista 'lst' no arquivo"
   ]
  }
 ],
 "metadata": {
  "colab": {
   "collapsed_sections": [],
   "name": "Python III.ipynb",
   "provenance": []
  },
  "kernelspec": {
   "display_name": "Python 3",
   "language": "python",
   "name": "python3"
  },
  "language_info": {
   "codemirror_mode": {
    "name": "ipython",
    "version": 3
   },
   "file_extension": ".py",
   "mimetype": "text/x-python",
   "name": "python",
   "nbconvert_exporter": "python",
   "pygments_lexer": "ipython3",
   "version": "3.8.9"
  },
  "toc": {
   "base_numbering": 1,
   "nav_menu": {},
   "number_sections": true,
   "sideBar": true,
   "skip_h1_title": false,
   "title_cell": "Table of Contents",
   "title_sidebar": "Contents",
   "toc_cell": false,
   "toc_position": {},
   "toc_section_display": true,
   "toc_window_display": false
  }
 },
 "nbformat": 4,
 "nbformat_minor": 1
}
