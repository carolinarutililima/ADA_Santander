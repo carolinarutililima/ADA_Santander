{
  "cells": [
    {
      "cell_type": "markdown",
      "metadata": {
        "id": "ZrrQD4P4IB9i"
      },
      "source": [
        "# Revisão Lógica de Programação\n",
        "\n",
        "- 1. Lista\n",
        "- 2. Dicionários\n",
        "\n",
        "- 1. Tipos\n",
        "  - String\n",
        "  - Int\n",
        "  - Float\n",
        "\n",
        "\n",
        "- 2. Funções\n",
        "  - Declaradas\n",
        "  - Lambda\n",
        "  - Compreensões\n",
        "    - Lista\n",
        "    - Set\n",
        "    - Dict\n",
        "    - Generator\n",
        "  - Map\n",
        "  - Filter\n",
        "  - Reduce\n"
      ]
    },
    {
      "cell_type": "markdown",
      "metadata": {
        "id": "MFWyl5sLPrqD"
      },
      "source": [
        "### Lista\n",
        "\n",
        "Coleção de objetos, mutável"
      ]
    },
    {
      "cell_type": "code",
      "execution_count": null,
      "metadata": {
        "id": "hkY9qnLGPrG3",
        "colab": {
          "base_uri": "https://localhost:8080/"
        },
        "outputId": "e63d19a6-9e59-4a6e-bd6d-12cfcbc5f28c"
      },
      "outputs": [
        {
          "output_type": "stream",
          "name": "stdout",
          "text": [
            "[1, 2, 3, 4, 5, 6, 7, 8]\n"
          ]
        },
        {
          "output_type": "execute_result",
          "data": {
            "text/plain": [
              "[1, 2, 3, 4, 5, 6, 7, 8]"
            ]
          },
          "metadata": {},
          "execution_count": 1
        }
      ],
      "source": [
        "lista = [1, 2, 3, 4, 5, 6, 7, 8]\n",
        "print(lista)\n",
        "lista"
      ]
    },
    {
      "cell_type": "markdown",
      "metadata": {
        "id": "sRneyRzrP40r"
      },
      "source": [
        "#### Fatia (slice)"
      ]
    },
    {
      "cell_type": "code",
      "execution_count": null,
      "metadata": {
        "colab": {
          "base_uri": "https://localhost:8080/"
        },
        "id": "cYm_KHrlP6z8",
        "outputId": "17e69276-32c2-4a3c-c983-1b0105f1cb83"
      },
      "outputs": [
        {
          "output_type": "stream",
          "name": "stdout",
          "text": [
            "[2, 3, 4, 5]\n",
            "[2, 4]\n"
          ]
        }
      ],
      "source": [
        "# <list>[<start>: <stop>, <step>] -> list\n",
        "print(lista[1:5])\n",
        "print(lista[1:5:2])\n"
      ]
    },
    {
      "cell_type": "markdown",
      "metadata": {
        "id": "3KBSoorJQVi2"
      },
      "source": [
        "#### Adicionando elementos\n",
        "\n",
        "Nota: tanto o `append` como `extend` ocorrem `in-place`, ou seja, não atribuimos o valor novo da lista a uma variável"
      ]
    },
    {
      "cell_type": "code",
      "execution_count": null,
      "metadata": {
        "colab": {
          "base_uri": "https://localhost:8080/"
        },
        "id": "DP-oKC-5QUF5",
        "outputId": "29db69fb-a4bf-4ca2-f5d9-b522f7536c78"
      },
      "outputs": [
        {
          "output_type": "stream",
          "name": "stdout",
          "text": [
            "[1, 2, 3, 4, 10]\n",
            "[1, 2, 3, 4, 10, 100, 200, 300]\n"
          ]
        }
      ],
      "source": [
        "# Adicionando um elemento\n",
        "# <list>.append(<ele>)\n",
        "lista = [1,2,3,4]\n",
        "lista.append(10)\n",
        "print(lista)\n",
        "# Adicionando múltiplos elementos\n",
        "# <list>.extend(<list>)\n",
        "lista.extend([100, 200, 300])\n",
        "print(lista)"
      ]
    },
    {
      "cell_type": "code",
      "execution_count": null,
      "metadata": {
        "colab": {
          "base_uri": "https://localhost:8080/"
        },
        "id": "tanDskt4Q4EV",
        "outputId": "9a019c70-e4c3-4dd4-c212-6c7eb68b4de0"
      },
      "outputs": [
        {
          "output_type": "stream",
          "name": "stdout",
          "text": [
            "lista original: [100, 400, 0, 3, 1, 5]\n",
            "sort: [0, 1, 3, 5, 100, 400]\n",
            "sort <reverse=True>: [400, 100, 5, 3, 1, 0]\n",
            "------------------------------\n",
            "lista original: [100, 400, 0, 3, 1, 5]\n",
            "reverse: [5, 1, 3, 0, 400, 100]\n",
            "[100, 400, 0, 3, 1, 5]\n"
          ]
        }
      ],
      "source": [
        "lista = [100, 400, 0, 3, 1, 5]\n",
        "print(\"lista original:\", lista)\n",
        "# Ordenando do menor para o maior\n",
        "lista.sort()\n",
        "print('sort:', lista)\n",
        "# Ordenando do maior para o menor\n",
        "lista.sort(reverse=True)\n",
        "print('sort <reverse=True>:', lista)\n",
        "print('-'*30)\n",
        "lista = [100, 400, 0, 3, 1, 5]\n",
        "print(\"lista original:\", lista)\n",
        "# Invertenda a ordem da lista `in-place`\n",
        "lista.reverse()\n",
        "print('reverse:', lista)\n",
        "# Invertendo a lista com slice\n",
        "# <list>[::-1]\n",
        "print(lista[::-1])"
      ]
    },
    {
      "cell_type": "markdown",
      "metadata": {
        "id": "Fl11Xr98SJQ7"
      },
      "source": [
        "#### Outras funções"
      ]
    },
    {
      "cell_type": "code",
      "execution_count": null,
      "metadata": {
        "colab": {
          "base_uri": "https://localhost:8080/"
        },
        "id": "DxjSGEQKSOev",
        "outputId": "bee05802-0a82-4251-9683-23e9b7570266"
      },
      "outputs": [
        {
          "output_type": "stream",
          "name": "stdout",
          "text": [
            "lista1: [300, 500, 100, 1000]\n",
            "ordenada: [100, 300, 500, 1000]\n",
            "------------------------------\n",
            "lista1 [300, 500, 100, 1000]\n",
            "lista2 [100, 3, 7, 1]\n",
            "[(300, 100), (500, 3), (100, 7), (1000, 1)]\n",
            "[(1000, 1), (500, 3), (100, 7), (300, 100)]\n",
            "[(100, 7), (300, 100), (500, 3), (1000, 1)]\n"
          ]
        }
      ],
      "source": [
        "lista1 = [300, 500, 100, 1000]\n",
        "lista2 = [100, 3, 7, 1]\n",
        "# Ordenando a lista do maior para o menor\n",
        "print('lista1:', lista1)\n",
        "print('ordenada:', sorted(lista1))\n",
        "print('-'*30)\n",
        "print(\"lista1\", lista1)\n",
        "print(\"lista2\", lista2)\n",
        "lista_de_lista = list(zip(lista1, lista2))\n",
        "print(lista_de_lista)\n",
        "# Ordenando pelo segundo elemento da tupla\n",
        "print(sorted(lista_de_lista, key=lambda ele: ele[1]))\n",
        "# Ordenando pelo segundo e pelo primeiro\n",
        "print(sorted(lista_de_lista, key=lambda ele: [ele[0], ele[1]]))"
      ]
    },
    {
      "cell_type": "code",
      "execution_count": null,
      "metadata": {
        "colab": {
          "base_uri": "https://localhost:8080/"
        },
        "id": "EN0KKrHhTSaQ",
        "outputId": "dd067e6f-ea07-4412-fd22-8fa35a39f4b9"
      },
      "outputs": [
        {
          "output_type": "stream",
          "name": "stdout",
          "text": [
            "[300, 500, 100, 1000, 100]\n",
            "elemento popado 500\n",
            "removendo o segundo elemento da lista [300, 100, 1000, 100]\n",
            "count<100> 2\n"
          ]
        }
      ],
      "source": [
        "# Removendo um elemento\n",
        "lista1 = [300, 500, 100, 1000, 100]\n",
        "print(lista1)\n",
        "# <list>.pop(index) -> elemento\n",
        "elemento = lista1.pop(1)\n",
        "print(\"elemento popado\", elemento)\n",
        "print('removendo o segundo elemento da lista', lista1)\n",
        "\n",
        "# Contando o número de aparições de um elemento\n",
        "# <list>.count(<elemento>) -> int\n",
        "print('count<100>', lista1.count(100))"
      ]
    },
    {
      "cell_type": "code",
      "source": [
        "# Exemplo de uso de pop, processamento de filas\n",
        "fila = ['Ana', 'João', 'Gilberto']\n",
        "\n",
        "while fila:\n",
        "  pessoa = fila.pop()\n",
        "  print(f'Atendendo {pessoa}!')\n",
        "  print(f'Realizando pagamento da pessoa: {pessoa}')\n",
        "  print('-'*32)"
      ],
      "metadata": {
        "colab": {
          "base_uri": "https://localhost:8080/"
        },
        "id": "MhTZzdiJdP1_",
        "outputId": "922b3591-02d6-490b-eb46-5e97abac759b"
      },
      "execution_count": null,
      "outputs": [
        {
          "output_type": "stream",
          "name": "stdout",
          "text": [
            "Atendendo Gilberto!\n",
            "Realizando pagamento da pessoa: Gilberto\n",
            "--------------------------------\n",
            "Atendendo João!\n",
            "Realizando pagamento da pessoa: João\n",
            "--------------------------------\n",
            "Atendendo Ana!\n",
            "Realizando pagamento da pessoa: Ana\n",
            "--------------------------------\n"
          ]
        }
      ]
    },
    {
      "cell_type": "markdown",
      "metadata": {
        "id": "jqnlpxNZT5uX"
      },
      "source": [
        "### Dicionários"
      ]
    },
    {
      "cell_type": "markdown",
      "metadata": {
        "id": "frM2D1ORT7_5"
      },
      "source": [
        "#### Acessando os valores"
      ]
    },
    {
      "cell_type": "code",
      "execution_count": null,
      "metadata": {
        "colab": {
          "base_uri": "https://localhost:8080/"
        },
        "id": "EQ28tV6vT1l6",
        "outputId": "0becaf7c-88c8-4172-ef47-c6debd56bba9"
      },
      "outputs": [
        {
          "output_type": "stream",
          "name": "stdout",
          "text": [
            "Chave 'a': valor=1\n",
            "Chave \"a\", valor=1\n",
            "Chave \"d\", valor=não definido\n",
            "chaves dict_keys(['a', 'b', 'c'])\n",
            "valores dict_values([1, 20, 10])\n",
            "items: dict_items([('a', 1), ('b', 20), ('c', 10)])\n"
          ]
        }
      ],
      "source": [
        "dicionario = {\n",
        "    \"a\": 1,\n",
        "    \"b\": 20,\n",
        "    \"c\": 10\n",
        "}\n",
        "# <dict>[key] -> pega um valor com base na chave `key\n",
        "print(f\"Chave 'a': valor={dicionario['a']}\")\n",
        "# <dict>.get(key, default=None) -> retorna o valor defaul caso a chave não esteja presente\n",
        "print(f'Chave \"a\", valor={dicionario.get(\"a\", \"não definido\")}')\n",
        "print(f'Chave \"d\", valor={dicionario.get(\"d\", \"não definido\")}')\n",
        "\n",
        "# <dict>.keys() -> coleção de chaves\n",
        "print('chaves', dicionario.keys())\n",
        "# <dict>.values() -> coleção de valores\n",
        "print('valores', dicionario.values())\n",
        "# <dict>.items() -> coleção de tuplas de chave-valor\n",
        "print('items:', dicionario.items())"
      ]
    },
    {
      "cell_type": "markdown",
      "metadata": {
        "id": "v0ccSQyA8s_z"
      },
      "source": [
        "#### Adicionando e removendo valores ao dicionário"
      ]
    },
    {
      "cell_type": "code",
      "execution_count": null,
      "metadata": {
        "colab": {
          "base_uri": "https://localhost:8080/"
        },
        "id": "jHmMOhlu8Ghp",
        "outputId": "2225c90e-bb60-4625-db66-bf3d05fb4341"
      },
      "outputs": [
        {
          "output_type": "stream",
          "name": "stdout",
          "text": [
            "update {'a': 1, 'b': 20, 'c': 100, 'd': 30}\n",
            "pop {'a': 1, 'c': 100, 'd': 30}\n",
            "sorted {'a': 1, 'd': 30, 'c': 100}\n"
          ]
        }
      ],
      "source": [
        "dicionario = {\n",
        "    \"a\": 1,\n",
        "    \"b\": 20,\n",
        "    \"c\": 10\n",
        "}\n",
        "dicionario2 = {\n",
        "    \"c\": 100,\n",
        "    \"d\": 30\n",
        "}\n",
        "# <dict>.update(<dict>)\n",
        "# Adicionando elementos ao dicionario\n",
        "# Caso as chaves já existam no primeiro dicionário, esses são substituidos\n",
        "dicionario.update(dicionario2)\n",
        "print('update',dicionario)\n",
        "# <dict>.pop(key)\n",
        "# Removendo chaves, e seus respectivos valores\n",
        "dicionario.pop('b')\n",
        "print('pop', dicionario)\n",
        "# # Ordenando pelo valor do dicionário\n",
        "print('sorted', dict(sorted(dicionario.items(), key=lambda item: item[1])))"
      ]
    },
    {
      "cell_type": "markdown",
      "metadata": {
        "id": "GEgiQXVc-IvB"
      },
      "source": [
        "### Set"
      ]
    },
    {
      "cell_type": "code",
      "execution_count": null,
      "metadata": {
        "colab": {
          "base_uri": "https://localhost:8080/"
        },
        "id": "XQ60RMnn-IBX",
        "outputId": "4f044f2f-1020-48d6-a46c-40353e42baab"
      },
      "outputs": [
        {
          "output_type": "stream",
          "name": "stdout",
          "text": [
            "lista <class 'list'> [1, 2, 3, 1, 1, 4, 4, 5, 1, 7]\n",
            "set_lista <class 'set'> {1, 2, 3, 4, 5, 7}\n",
            "Update {1, 2, 3, 4, 5, 7, 1000, 400, 2000}\n"
          ]
        }
      ],
      "source": [
        "lista = [1, 2, 3, 1, 1, 4, 4, 5, 1, 7]\n",
        "set_lista = set(lista)\n",
        "print('lista', type(lista), lista)\n",
        "print('set_lista', type(set_lista), set_lista)\n",
        "\n",
        "# <set>.add(ele) -> Adiciona um novo elemento ao set\n",
        "set_lista.add(400)\n",
        "# print('Add', set_lista)\n",
        "# <set>.update(<collection>) -> Adiciona uma coleção de elementos ao set\n",
        "set_lista.update([1000, 2000, 1])\n",
        "print('Update', set_lista)"
      ]
    },
    {
      "cell_type": "markdown",
      "metadata": {
        "id": "EG0r0NdX_oGN"
      },
      "source": [
        "#### Operações de comparação de sets"
      ]
    },
    {
      "cell_type": "code",
      "execution_count": null,
      "metadata": {
        "colab": {
          "base_uri": "https://localhost:8080/"
        },
        "id": "Fy0cC0O--3rd",
        "outputId": "c3bc51a2-ea1b-484e-de33-f877cc4e8f7f"
      },
      "outputs": [
        {
          "output_type": "stream",
          "name": "stdout",
          "text": [
            "set_lista1 {1, 2, 3, 4, 5, 7, 1000, 400, 2000}\n",
            "set_lista2 {1, 2, 3, 20, 30}\n",
            "union {1, 2, 3, 4, 5, 7, 1000, 400, 2000, 20, 30}\n",
            "intersection {1, 2, 3}\n",
            "difference {4, 5, 7, 1000, 400, 2000}\n",
            "symmetric_difference {4, 5, 7, 1000, 400, 2000, 20, 30}\n"
          ]
        }
      ],
      "source": [
        "set_lista1 = {1, 2, 3, 4, 5, 7, 1000, 400, 2000}\n",
        "set_lista2 = {1, 2, 3, 20, 30}\n",
        "print(\"set_lista1\", set_lista1)\n",
        "print(\"set_lista2\", set_lista2)\n",
        "\n",
        "# <set>.union(<set>) -> retorna a união dos sets (set1 ou set2) <set | set>\n",
        "print('union', set_lista1.union(set_lista2))\n",
        "\n",
        "# <set>.intersection(<set>) -> retorna a intersecção dos sets (set1 e set2) <set & set>\n",
        "print('intersection', set_lista1.intersection(set_lista2))\n",
        "\n",
        "# <set>.difference(<set>) -> retorna a diferença entre set1 e set2 <set - set>\n",
        "# Ou seja, quais elementos estão presentes no set1 e não no set2\n",
        "print('difference', set_lista1.difference(set_lista2))\n",
        "\n",
        "# # <set>.symmetric_difference(<set>) -> retorna todos elementos menos aqueles presentes na intersecção\n",
        "# Ou seja, retorna Union(set1, set2) - Intersection(set1, set2)\n",
        "print('symmetric_difference', set_lista1.symmetric_difference(set_lista2))\n"
      ]
    },
    {
      "cell_type": "markdown",
      "metadata": {
        "id": "au3TbpDAAi-X"
      },
      "source": [
        "### Tuplas\n",
        "Iterável, não mutável\n",
        "\n",
        "Possui funcionalidades semelhantes de lista, porém não permitir alterar o seu conteúdo.\n",
        "\n",
        "Bom para armazenar dados estruturados que não deveriam ser modificados pelo usuário."
      ]
    },
    {
      "cell_type": "code",
      "execution_count": null,
      "metadata": {
        "colab": {
          "base_uri": "https://localhost:8080/"
        },
        "id": "mYhhCfwTAivP",
        "outputId": "686b1c3d-c4dc-4b51-c4d2-856ddd2430b0"
      },
      "outputs": [
        {
          "output_type": "stream",
          "name": "stdout",
          "text": [
            "slice (2, 3)\n"
          ]
        }
      ],
      "source": [
        "tupla = (1, 2, 3, 4, 5, 6, 7)\n",
        "print('slice', tupla[1: 3])"
      ]
    },
    {
      "cell_type": "markdown",
      "metadata": {
        "id": "Nf875oR6BHVt"
      },
      "source": [
        "### Geradores\n",
        "- **Qualquer função que contenha o `yield` retorna um gerador**\n",
        "- **Geradores e iteradores são intercambiáveis**\n",
        "\n",
        "Em geral um pouco mais lento que iteradores, possui menor consumo de memória"
      ]
    },
    {
      "cell_type": "code",
      "execution_count": null,
      "metadata": {
        "colab": {
          "base_uri": "https://localhost:8080/"
        },
        "id": "IZ9BVVdGBHJu",
        "outputId": "a86028af-df35-4edc-ea92-0206052a5d9f"
      },
      "outputs": [
        {
          "output_type": "stream",
          "name": "stdout",
          "text": [
            "[0, 1, 2, 3, 4, 5, 6, 7, 8, 9]\n"
          ]
        }
      ],
      "source": [
        "def count(start, end, step=1):\n",
        "  while start < end:\n",
        "    yield start\n",
        "    start += step\n",
        "\n",
        "print(list(count(0, 10, 1)))"
      ]
    },
    {
      "cell_type": "code",
      "source": [
        "import matplotlib.pyplot as plt\n",
        "import seaborn as sns\n",
        "import sys\n",
        "gerador = count(0, 10)\n",
        "\n",
        "geradores = []\n",
        "listas = []\n",
        "numeros = []\n",
        "n = 10_000\n",
        "for i in range(1, n):\n",
        "  size_lista = sys.getsizeof(list(range(0, i)))\n",
        "  size_gerador = sys.getsizeof(count(0, i))\n",
        "  numeros.append(i)\n",
        "  listas.append(size_lista)\n",
        "  geradores.append(size_gerador)"
      ],
      "metadata": {
        "id": "3KpURkjPk6TQ"
      },
      "execution_count": null,
      "outputs": []
    },
    {
      "cell_type": "code",
      "source": [
        "sns.lineplot(x=numeros, y=listas, label='lista')\n",
        "sns.lineplot(x=numeros, y=geradores, color='orange', label='gerador')\n",
        "plt.legend()"
      ],
      "metadata": {
        "colab": {
          "base_uri": "https://localhost:8080/",
          "height": 447
        },
        "id": "eJuGZpwqlt_d",
        "outputId": "670022b5-a6a1-4b73-bfcb-ed4d62c6267d"
      },
      "execution_count": null,
      "outputs": [
        {
          "output_type": "execute_result",
          "data": {
            "text/plain": [
              "<matplotlib.legend.Legend at 0x79a74f1736d0>"
            ]
          },
          "metadata": {},
          "execution_count": 73
        },
        {
          "output_type": "display_data",
          "data": {
            "text/plain": [
              "<Figure size 640x480 with 1 Axes>"
            ],
            "image/png": "[encoded data removed]"
          },
          "metadata": {}
        }
      ]
    },
    {
      "cell_type": "markdown",
      "metadata": {
        "id": "9J5tmNBkIf-0"
      },
      "source": [
        "## Tipos\n",
        "- Tudo em Python é um objeto\n",
        "- Todo objeto tem um tipo (`type`)\n",
        "- `Type` e `class` são sinônimos\n",
        "\n",
        "Para acessar o tipo do objeto utilizamos:\n",
        "`type(<objeto>)`"
      ]
    },
    {
      "cell_type": "code",
      "execution_count": null,
      "metadata": {
        "colab": {
          "base_uri": "https://localhost:8080/"
        },
        "id": "K-CKD8lSH9sx",
        "outputId": "a6565ef2-f624-434b-8352-84c0f82d77b7"
      },
      "outputs": [
        {
          "output_type": "stream",
          "name": "stdout",
          "text": [
            "string a <class 'str'>\n",
            "inteiro 1 <class 'int'>\n",
            "numero 10.25 <class 'float'>\n",
            "lista [1, 2, 3] <class 'list'>\n"
          ]
        }
      ],
      "source": [
        "string = 'a'\n",
        "inteiro = 1\n",
        "numero = 10.25\n",
        "lista = [1, 2, 3]\n",
        "print(\"string\", string, type(string))\n",
        "print(\"inteiro\", inteiro, type(inteiro))\n",
        "print(\"numero\", numero, type(numero))\n",
        "print(\"lista\", lista, type(lista))"
      ]
    },
    {
      "cell_type": "markdown",
      "metadata": {
        "id": "gP5S6TGeJCbu"
      },
      "source": [
        "Para verificar se objeto é uma instância utilizamos: `isinstance(<objeto>, <classe>)`"
      ]
    },
    {
      "cell_type": "code",
      "execution_count": null,
      "metadata": {
        "colab": {
          "base_uri": "https://localhost:8080/"
        },
        "id": "eGyMYlyuJB8e",
        "outputId": "dfd02f91-9f81-4f79-9a53-dc40977cea55"
      },
      "outputs": [
        {
          "output_type": "stream",
          "name": "stdout",
          "text": [
            "String é uma string True\n",
            "String é um inteiro False\n",
            "Uma lista é um inteiro ou float False\n"
          ]
        }
      ],
      "source": [
        "print('String é uma string', isinstance(string, str))\n",
        "print('String é um inteiro', isinstance(string, int))\n",
        "# Podemos combinar múltiplas comparações\n",
        "print('Uma lista é um inteiro ou float', isinstance(lista, (int, float)))"
      ]
    },
    {
      "cell_type": "markdown",
      "metadata": {
        "id": "ialMOLZxKFJq"
      },
      "source": [
        "### String\n",
        "#### Strip\n",
        "Removendo elementos a esquerda e direita"
      ]
    },
    {
      "cell_type": "code",
      "execution_count": null,
      "metadata": {
        "colab": {
          "base_uri": "https://localhost:8080/"
        },
        "id": "EveEY_9GKTZ-",
        "outputId": "0108144f-cf73-4e26-a865-0cf3de3f42e5"
      },
      "outputs": [
        {
          "output_type": "stream",
          "name": "stdout",
          "text": [
            "BaNana\n",
            "    BaNan\n"
          ]
        }
      ],
      "source": [
        "string = '    BaNana'\n",
        "# <str>.strip() -> str\n",
        "print(string.strip())    # Remove todos os espaços em ambas extremidades\n",
        "# <str>.strip('<chars>') -> str\n",
        "print(string.strip('a')) # Remove os caracteres passados em ambas extremidades"
      ]
    },
    {
      "cell_type": "markdown",
      "metadata": {
        "id": "Zm8nuDWlLejG"
      },
      "source": [
        "#### Split\n",
        "Separando string em lista"
      ]
    },
    {
      "cell_type": "code",
      "execution_count": null,
      "metadata": {
        "colab": {
          "base_uri": "https://localhost:8080/"
        },
        "id": "FH91rtoBI9aK",
        "outputId": "dbd20014-1c3d-4248-c923-85c8ef21d792"
      },
      "outputs": [
        {
          "output_type": "stream",
          "name": "stdout",
          "text": [
            "split ['banana', 'maca', 'uva', 'laranja']\n",
            "--------------------------------\n",
            "string2: banana, maca, uva\n",
            "split <sep=,> ['banana', ' maca', ' uva']\n",
            "split <maxsplit=1> ['banana', ' maca, uva']\n"
          ]
        }
      ],
      "source": [
        "string = 'banana maca uva  laranja'  # Dois espaços entre uva e laranja\n",
        "# <str>.split() -> list\n",
        "print('split', string.split()) # Realiza a partição em um ou mais espaço\n",
        "print('-'*32)\n",
        "# <str>.split(sep=None, maxsplit=-1) -> list\n",
        "string2 = 'banana, maca, uva'\n",
        "print('string2:', string2)\n",
        "print('split <sep=,>', string2.split(sep=','))\n",
        "print('split <maxsplit=1>', string2.split(sep=',', maxsplit=1)) # Partição pelo separador <sep> por no máximo `maxsplit`, com maxsplit=1, temos dois elementos"
      ]
    },
    {
      "cell_type": "markdown",
      "metadata": {
        "id": "XdRY1HY9MF9B"
      },
      "source": [
        "#### Join\n",
        "Juntando coleções de strings em uma única string"
      ]
    },
    {
      "cell_type": "code",
      "execution_count": null,
      "metadata": {
        "colab": {
          "base_uri": "https://localhost:8080/"
        },
        "id": "jcoFz5WuK7Cx",
        "outputId": "b46e4499-9869-4791-998d-92647c22fef0"
      },
      "outputs": [
        {
          "output_type": "stream",
          "name": "stdout",
          "text": [
            "maca< aaa >banana< aaa >uva\n",
            "maca, banana, uva\n",
            "macabananauva\n"
          ]
        }
      ],
      "source": [
        "# Junta os elementos sendo uma <str> como separador\n",
        "# Note que não é adicionado a string no final da coleção\n",
        "# <str>.join(<coleção de string>) -> str\n",
        "print(\"< aaa >\".join(['maca', 'banana', 'uva']))\n",
        "print(\", \".join(['maca', 'banana', 'uva']))\n",
        "print(\"\".join(['maca', 'banana', 'uva']))"
      ]
    },
    {
      "cell_type": "markdown",
      "metadata": {
        "id": "1G2AH2D6Mxaa"
      },
      "source": [
        "#### Comparações booleanas\n",
        "Verificando se uma sub-string está presente em uma string"
      ]
    },
    {
      "cell_type": "code",
      "execution_count": null,
      "metadata": {
        "colab": {
          "base_uri": "https://localhost:8080/"
        },
        "id": "pmA4OtBrMkx2",
        "outputId": "71d28280-1d5b-4d9b-9784-279e4a6fd079"
      },
      "outputs": [
        {
          "output_type": "stream",
          "name": "stdout",
          "text": [
            "ana em banana? True\n",
            "banana começa com ban? True\n",
            "banana começa com Ban? False\n",
            "banana termina com a? True\n",
            "banana termina com ane? False\n",
            "banana começa com `ana` ou `ban`? True\n"
          ]
        }
      ],
      "source": [
        "# <sub_str> in <str> -> bool\n",
        "# Verifica se uma substring está presente numa string, em qualquer posição de forma exata\n",
        "print('ana em banana?','ana' in 'banana')\n",
        "\n",
        "\n",
        "# <str>.starswith(<substring>) -> bool\n",
        "# Verifica se uma string começa com uma substring(s)\n",
        "print('banana começa com ban?', 'banana'.startswith('ban'))\n",
        "print('banana começa com Ban?', 'banana'.startswith('Ban'))\n",
        "# <str>.endswith(<substring>) -> bool\n",
        "# Verifica se uma string termina com uma substring(s)\n",
        "print('banana termina com a?', 'banana'.endswith('a'))\n",
        "print('banana termina com ane?', 'banana'.endswith('ane'))\n",
        "\n",
        "# Tanto o starswith com endswith aceitam tuplas\n",
        "print('banana começa com `ana` ou `ban`?','banana'.startswith(('ana', 'ban')))"
      ]
    },
    {
      "cell_type": "markdown",
      "metadata": {
        "id": "A909e-u4OLbp"
      },
      "source": [
        "#### Replace\n",
        "Substituindo um pedaço da string"
      ]
    },
    {
      "cell_type": "code",
      "execution_count": null,
      "metadata": {
        "colab": {
          "base_uri": "https://localhost:8080/"
        },
        "id": "bci5uG65NAVT",
        "outputId": "a1ae6b3a-8d49-4774-bfcf-414adb721fd8"
      },
      "outputs": [
        {
          "output_type": "stream",
          "name": "stdout",
          "text": [
            "Original: Alameda\n",
            "Alvorada\n",
            "Original: ana, banana, maca\n",
            "por, banana, maca\n"
          ]
        }
      ],
      "source": [
        "# <str>.replace(old, new, count)\n",
        "# Troca a string `old` por `new` por `count` vezes\n",
        "print('Original:', \"Alameda\")\n",
        "print(\"Alameda\".replace('ameda', 'vorada'))\n",
        "# print('*'*20)\n",
        "print('Original: ana, banana, maca')\n",
        "print(\"ana, banana, maca\".replace(\"ana\", \"por\", 1))"
      ]
    },
    {
      "cell_type": "markdown",
      "metadata": {
        "id": "0dkD2woYPNbE"
      },
      "source": [
        "## Funções\n",
        "\n",
        "### Declarada\n",
        "Declaramos uma função com `def`\n",
        "\n",
        "#### Argumentos de funções\n",
        "A função aceita `arguments` e `return values`."
      ]
    },
    {
      "cell_type": "code",
      "execution_count": null,
      "metadata": {
        "id": "6pEsh2N5cgZv",
        "colab": {
          "base_uri": "https://localhost:8080/"
        },
        "outputId": "ff8dcb76-186a-4143-e59b-916dcacabe32"
      },
      "outputs": [
        {
          "output_type": "execute_result",
          "data": {
            "text/plain": [
              "3"
            ]
          },
          "metadata": {},
          "execution_count": 99
        }
      ],
      "source": [
        "# Nessa função os argumentos são `a` e `b` e retorna a soma desses.\n",
        "def soma(a, b):\n",
        "  return a +b\n",
        "\n",
        "soma(1, 2)"
      ]
    },
    {
      "cell_type": "code",
      "source": [
        "# Toda função retorna algo, inclusive o None (NoneType)\n",
        "retorno_print = print('Hoje é dia bonito')\n",
        "type(retorno_print)"
      ],
      "metadata": {
        "colab": {
          "base_uri": "https://localhost:8080/"
        },
        "id": "jkYmqG0sqU4Q",
        "outputId": "9a1ea770-65c5-45db-8f59-dafed74c0653"
      },
      "execution_count": null,
      "outputs": [
        {
          "output_type": "stream",
          "name": "stdout",
          "text": [
            "Hoje é dia bonito\n"
          ]
        },
        {
          "output_type": "execute_result",
          "data": {
            "text/plain": [
              "NoneType"
            ]
          },
          "metadata": {},
          "execution_count": 107
        }
      ]
    },
    {
      "cell_type": "markdown",
      "metadata": {
        "id": "kX7TQkdHdCh_"
      },
      "source": [
        "#### Keyword arguments\n",
        "\n",
        "Para aumentar a facilidade de leitura, devemos ser explicítos. Para tal utilizamos os `keyword arguments`"
      ]
    },
    {
      "cell_type": "code",
      "execution_count": null,
      "metadata": {
        "colab": {
          "base_uri": "https://localhost:8080/"
        },
        "id": "yIObJrmSdA_l",
        "outputId": "cd9b325c-3097-4232-f892-6fe26a23fb9a"
      },
      "outputs": [
        {
          "output_type": "stream",
          "name": "stdout",
          "text": [
            "3\n",
            "7\n",
            "34\n"
          ]
        }
      ],
      "source": [
        "# Nessa função os argumentos são `a` e `b` e retorna a soma desses.\n",
        "def soma(a, b):\n",
        "  return a + b\n",
        "\n",
        "# Sem keyword arguments\n",
        "print(soma(1, 2))\n",
        "\n",
        "# Com keyword arguments\n",
        "print(soma(a=3, b=4))\n",
        "\n",
        "print(soma(b=10, a=24))"
      ]
    },
    {
      "cell_type": "markdown",
      "metadata": {
        "id": "RTz6KVIKdje-"
      },
      "source": [
        "#### Args e Kwargs\n",
        "\n",
        "`*args` e `**kwargs` permitem que sejam passados números indefinidos de argumentos e `keywords` quando chamamos uma função"
      ]
    },
    {
      "cell_type": "code",
      "execution_count": null,
      "metadata": {
        "colab": {
          "base_uri": "https://localhost:8080/"
        },
        "id": "5g1haoKcdv7x",
        "outputId": "cba713d9-36c4-4dee-bcb1-d0ae90c5c7a2"
      },
      "outputs": [
        {
          "output_type": "stream",
          "name": "stdout",
          "text": [
            "Argumentos: (1, 2, 'a', 'b'), <class 'tuple'>\n"
          ]
        }
      ],
      "source": [
        "# args podem ser acessados através da variável `args`\n",
        "def uma_função(*args):\n",
        "  print(f'Argumentos: {args}, {type(args)}')\n",
        "\n",
        "uma_função(1, 2, 'a', 'b')"
      ]
    },
    {
      "cell_type": "code",
      "source": [
        "def cadastro(nome, idade, *args):\n",
        "  print('Nome pessoa:', nome)\n",
        "  print('Idade pessoa:', idade)\n",
        "  print('Outras informações:', args)\n",
        "  return (nome, idade)\n",
        "print('Cadastro', cadastro('Maria', 32, 'São Paulo'))\n",
        "print('-'*32)\n",
        "print('Cadastro', cadastro('João', 40))\n",
        "print('-'*32)\n",
        "print('Cadastro', cadastro('João', 40, 'São Paulo', '5 filhos', 20_000))"
      ],
      "metadata": {
        "colab": {
          "base_uri": "https://localhost:8080/"
        },
        "id": "CmHO6DbgrcFU",
        "outputId": "6f79f685-5db6-424a-d9de-ab4b30a60de7"
      },
      "execution_count": null,
      "outputs": [
        {
          "output_type": "stream",
          "name": "stdout",
          "text": [
            "Nome pessoa: Maria\n",
            "Idade pessoa: 32\n",
            "Outras informações: ('São Paulo',)\n",
            "Cadastro ('Maria', 32)\n",
            "--------------------------------\n",
            "Nome pessoa: João\n",
            "Idade pessoa: 40\n",
            "Outras informações: ()\n",
            "Cadastro ('João', 40)\n",
            "--------------------------------\n",
            "Nome pessoa: João\n",
            "Idade pessoa: 40\n",
            "Outras informações: ('São Paulo', '5 filhos', 20000)\n",
            "Cadastro ('João', 40)\n"
          ]
        }
      ]
    },
    {
      "cell_type": "code",
      "source": [
        "nomes = ['João', 'Maria', 'José']\n",
        "nomes_tupla = ('João', 'Maria', 'José')\n",
        "\n",
        "# Desempacotamento ou unpacking em inglês\n",
        "print(*nomes)\n",
        "print(nomes[0], nomes[1], nomes[2])\n",
        "print('-'*32)\n",
        "print('nomes_tupla')\n",
        "print(*nomes_tupla)"
      ],
      "metadata": {
        "colab": {
          "base_uri": "https://localhost:8080/"
        },
        "id": "ONX-bbzvsr7G",
        "outputId": "1b55a7d0-affd-4075-c7e3-6f198d21503e"
      },
      "execution_count": null,
      "outputs": [
        {
          "output_type": "stream",
          "name": "stdout",
          "text": [
            "João Maria José\n",
            "João Maria José\n",
            "--------------------------------\n",
            "nomes_tupla\n",
            "João Maria José\n"
          ]
        }
      ]
    },
    {
      "cell_type": "code",
      "execution_count": null,
      "metadata": {
        "colab": {
          "base_uri": "https://localhost:8080/"
        },
        "id": "wwXGYq8neGTc",
        "outputId": "9e2e853b-f97a-48dc-e42d-b5f1fd7c8619"
      },
      "outputs": [
        {
          "output_type": "stream",
          "name": "stdout",
          "text": [
            "Keywords: {'key1': 'arg1', 'key2': 'arg2'}, <class 'dict'>\n"
          ]
        }
      ],
      "source": [
        "# Keywords são acessados através do nome da variável `kwargs`\n",
        "def uma_função(**kwargs):\n",
        "  print(f'Keywords: {kwargs}, {type(kwargs)}')\n",
        "\n",
        "uma_função(key1='arg1', key2='arg2')"
      ]
    },
    {
      "cell_type": "code",
      "source": [
        "configuracao = {\n",
        "    'estoque_max': 200,\n",
        "    'estoque_min': 10,\n",
        "    'multiplicador': 2\n",
        "}\n",
        "def calcula_reabastecimento(produto, demanda, estoque_max, estoque_min, multiplicador):\n",
        "  estoque = min(demanda, estoque_max)\n",
        "  estoque = max(demanda, estoque_min)\n",
        "  estoque = estoque * multiplicador\n",
        "  return {\n",
        "      'produto': produto,\n",
        "      'demanda': demanda,\n",
        "      'estoque': estoque\n",
        "  }\n",
        "\n",
        "calcula_reabastecimento('Teclado', 1, **configuracao)"
      ],
      "metadata": {
        "colab": {
          "base_uri": "https://localhost:8080/"
        },
        "id": "CalvTSqbtL28",
        "outputId": "2e8e03a5-7154-4935-d085-db3ff0ab1b4f"
      },
      "execution_count": null,
      "outputs": [
        {
          "output_type": "execute_result",
          "data": {
            "text/plain": [
              "{'produto': 'Teclado', 'demanda': 1, 'estoque': 20}"
            ]
          },
          "metadata": {},
          "execution_count": 129
        }
      ]
    },
    {
      "cell_type": "code",
      "source": [
        "def processa_fruta(demanda, mult, **kwargs):\n",
        "  return (demanda * mult) / 1.3\n",
        "\n",
        "def processa_carne(demanda, div, **kwargs):\n",
        "  return demanda / div\n",
        "\n",
        "def processa_vegetais(demanda, mult, div, **kwargs):\n",
        "  return (demanda / div) * mult\n",
        "\n",
        "# def processa_mercadoria(tipo, demanda, mult, div):\n",
        "#   if tipo == 'fruta':\n",
        "#     demanda_final = processa_fruta(demanda=demanda, mult=mult, div=div)\n",
        "#   elif tipo == 'carne':\n",
        "#     demanda_final = processa_carne(demanda=demanda, mult=mult, div=div)\n",
        "\n",
        "#   return demanda_final\n",
        "\n",
        "def processa_mercadoria(tipo, demanda, mult, div):\n",
        "  switch_processa = {\n",
        "      'fruta': processa_fruta,\n",
        "      'carne': processa_carne,\n",
        "      'vegetais': processa_vegetais\n",
        "  }\n",
        "  demanda_final = switch_processa[tipo](demanda=demanda, mult=mult, div=div)\n",
        "                        # processa_fruta(demanda=demanda, mult=mult, div=div)\n",
        "  return demanda_final\n",
        "\n",
        "\n",
        "\n",
        "# print(processa_fruta(demanda=10, mult=2))\n",
        "# print(processa_carne(demanda=18, div=3))\n",
        "\n",
        "# print(processa_fruta(demanda=10, mult=2, div=10))\n",
        "# print(processa_carne(demanda=18, div=3, mult=2))\n",
        "\n",
        "print(processa_mercadoria(tipo='fruta', demanda=20, mult=2, div=5))\n",
        "print(processa_mercadoria(tipo='carne', demanda=20, mult=2, div=5))\n",
        "print(processa_mercadoria(tipo='vegetais', demanda=10, mult=3, div=1.5))"
      ],
      "metadata": {
        "colab": {
          "base_uri": "https://localhost:8080/"
        },
        "id": "1yEGI4_KuLAH",
        "outputId": "d61f46ab-4525-4d9f-86da-ffccc8d96295"
      },
      "execution_count": null,
      "outputs": [
        {
          "output_type": "stream",
          "name": "stdout",
          "text": [
            "30.769230769230766\n",
            "4.0\n",
            "20.0\n"
          ]
        }
      ]
    },
    {
      "cell_type": "code",
      "source": [],
      "metadata": {
        "id": "P_ZUZ7FmuyST"
      },
      "execution_count": null,
      "outputs": []
    },
    {
      "cell_type": "markdown",
      "metadata": {
        "id": "WjBxR_iqdvV5"
      },
      "source": [
        "### Lambda\n",
        "Permite o desenvolvimento de funções anônimas de uma linha"
      ]
    },
    {
      "cell_type": "code",
      "execution_count": null,
      "metadata": {
        "colab": {
          "base_uri": "https://localhost:8080/"
        },
        "id": "ChBqyGZjdhdi",
        "outputId": "b99deed7-7719-440c-e0a6-38ff75ba3597"
      },
      "outputs": [
        {
          "output_type": "stream",
          "name": "stdout",
          "text": [
            "eleva_quadrado {20} 400\n",
            "eleva_numero {x=2} 4\n",
            "eleva_numero {x=2, y=3} 8\n",
            "eleva_cond {x=2} 8\n",
            "eleva_cond {x=5} 625\n",
            "--------------------------------\n",
            "eleva_cond {x=5, impar=7} 78125\n"
          ]
        }
      ],
      "source": [
        "# <func> = lambda <arg_1>, <...>, <arg_n>: <return_value>\n",
        "eleva_quadrado = lambda x: x**2\n",
        "print('eleva_quadrado {20}', eleva_quadrado(20))\n",
        "\n",
        "# Podemos adicionar parâmetro default\n",
        "eleva_numero = lambda x, y=2: x**y\n",
        "print('eleva_numero {x=2}', eleva_numero(x=2))\n",
        "print('eleva_numero {x=2, y=3}', eleva_numero(x=2, y=3))\n",
        "# Podemos colocar condicionais\n",
        "# lambda <arg>: <return value if True> if <cond> else <return value if False>\n",
        "eleva_cond = lambda x, par=3, impar=4: x**par if x%2==0 else x**impar\n",
        "print(\"eleva_cond {x=2}\", eleva_cond(2))\n",
        "print(\"eleva_cond {x=5}\", eleva_cond(5))\n",
        "print('-'*32)\n",
        "print(\"eleva_cond {x=5, impar=7}\", eleva_cond(5, impar=7))"
      ]
    },
    {
      "cell_type": "markdown",
      "metadata": {
        "id": "WHylm75MgDil"
      },
      "source": [
        "### Compreensões"
      ]
    },
    {
      "cell_type": "code",
      "execution_count": null,
      "metadata": {
        "colab": {
          "base_uri": "https://localhost:8080/"
        },
        "id": "c9dlhGbagFxv",
        "outputId": "f9c48e5c-039a-4512-81af-732622d8da21"
      },
      "outputs": [
        {
          "output_type": "stream",
          "name": "stdout",
          "text": [
            "list_compr [0, 2, 4, 6, 8, 10, 12, 14, 16, 18]\n",
            "lista if cond [0, 4, 8, 12, 16]\n",
            "lista if/else cond [0, 1, 4, 3, 16, 5, 36, 7, 64, 9]\n"
          ]
        }
      ],
      "source": [
        "# Lista\n",
        "# <list> = [<valor> for <idx> in <iterable>]\n",
        "lista = [x*2 for x in range(10)]\n",
        "print('list_compr', lista)\n",
        "# Condicional if\n",
        "# <list> = [<valor if cond True> for <idx> in <iterable> if <cond>]\n",
        "lista = [x*2 for x in range(10) if x%2 == 0]\n",
        "print('lista if cond', lista)\n",
        "# Condicional if/else\n",
        "# <list> = [<valor if cond True> if <cond> else <valor if cond False> for <idx> in <iterable>]\n",
        "lista = [x**2 if x%2==0 else x for x in range(10)]\n",
        "print('lista if/else cond', lista)"
      ]
    },
    {
      "cell_type": "code",
      "execution_count": null,
      "metadata": {
        "colab": {
          "base_uri": "https://localhost:8080/"
        },
        "id": "e-Clb761g1bi",
        "outputId": "8ba40545-e8de-4601-ecf7-584af069dedd"
      },
      "outputs": [
        {
          "output_type": "stream",
          "name": "stdout",
          "text": [
            "generator <generator object <genexpr> at 0x79a74eee3ca0>\n"
          ]
        }
      ],
      "source": [
        "# Geradores\n",
        "# <iter> = (<valor> for <idx> in <iterable>)\n",
        "# Aceita as mesmas condicionais da compreensão de lista\n",
        "gerador = (x*2 for x in range(10))\n",
        "print('generator', gerador)"
      ]
    },
    {
      "cell_type": "code",
      "execution_count": null,
      "metadata": {
        "colab": {
          "base_uri": "https://localhost:8080/"
        },
        "id": "JXH88l75hKfL",
        "outputId": "83733ebd-fa90-426a-a591-bc146e047e35"
      },
      "outputs": [
        {
          "output_type": "stream",
          "name": "stdout",
          "text": [
            "set_lista {1, 3, 5, 7, 9}\n"
          ]
        }
      ],
      "source": [
        "# Set\n",
        "# <set> = {<valor> for <idx> in <iterable>}\n",
        "# Aceita as mesmas condicionais da compreensão de lista\n",
        "set_lista = {x+1 if x%2==0 else x for x in range(10)}\n",
        "print('set_lista', set_lista)"
      ]
    },
    {
      "cell_type": "code",
      "execution_count": null,
      "metadata": {
        "colab": {
          "base_uri": "https://localhost:8080/"
        },
        "id": "-ynGkhuUhabX",
        "outputId": "565aa124-2abe-4bc1-8f2e-45a8adb65b0b"
      },
      "outputs": [
        {
          "output_type": "stream",
          "name": "stdout",
          "text": [
            "dict {0: 0, 1: 1, 2: 4, 3: 9, 4: 16, 5: 25, 6: 36, 7: 49, 8: 64, 9: 81}\n"
          ]
        }
      ],
      "source": [
        "# Dict\n",
        "# <dict> = {<chave>: <valor> for <valores> in <iterable>}\n",
        "# Aceita as mesmas condicionais da compreensão de lista\n",
        "dict_comp = {i: i**2 for i in range(10)}\n",
        "print('dict', dict_comp)"
      ]
    },
    {
      "cell_type": "code",
      "source": [
        "# Dict\n",
        "# <dict> = {<chave>: <valor if cond True> if <cond> else <valor if cond False> for <valores> in <iterable>}\n",
        "dict_comp = {i: i**2 if i%2 == 0 else i for i in range(10)}\n",
        "print('dict', dict_comp)"
      ],
      "metadata": {
        "colab": {
          "base_uri": "https://localhost:8080/"
        },
        "id": "CUUTkcKo2l3o",
        "outputId": "a4811c30-b60f-4db3-cb77-318eaf6a1d0a"
      },
      "execution_count": null,
      "outputs": [
        {
          "output_type": "stream",
          "name": "stdout",
          "text": [
            "dict {0: 0, 1: 1, 2: 4, 3: 3, 4: 16, 5: 5, 6: 36, 7: 7, 8: 64, 9: 9}\n"
          ]
        }
      ]
    },
    {
      "cell_type": "code",
      "source": [
        "lista = [(0, 'maca'), (1, 'banana'), (2,'uva')]\n",
        "# Colocamos _ no index para indicar que essa variável não é importante para o código!\n",
        "for _, fruta in lista:\n",
        "  print(fruta)"
      ],
      "metadata": {
        "colab": {
          "base_uri": "https://localhost:8080/"
        },
        "id": "y3USp2BC3STV",
        "outputId": "0f364384-6d7b-4542-eeeb-3cb48a74c21e"
      },
      "execution_count": null,
      "outputs": [
        {
          "output_type": "stream",
          "name": "stdout",
          "text": [
            "maca\n",
            "banana\n",
            "uva\n"
          ]
        }
      ]
    },
    {
      "cell_type": "markdown",
      "metadata": {
        "id": "yVRaF0PqhsZo"
      },
      "source": [
        "### Map\n",
        "\n",
        "Permite mapear uma função a um objeto"
      ]
    },
    {
      "cell_type": "code",
      "execution_count": null,
      "metadata": {
        "colab": {
          "base_uri": "https://localhost:8080/"
        },
        "id": "5p0SpUK_hrw_",
        "outputId": "4b1105c5-927b-4b53-84de-b6ccdccd9c1c"
      },
      "outputs": [
        {
          "output_type": "stream",
          "name": "stdout",
          "text": [
            "numeros_quadrado: <map object at 0x79a74f60a920>, [0, 1, 4, 9, 16, 25, 36, 49, 64, 81]\n",
            "Pessoa(nome='Fulano', idade=20)\n",
            "Pessoa(nome='Ciclano', idade=32)\n",
            "Pessoa(nome='Maria', idade=56)\n"
          ]
        }
      ],
      "source": [
        "# <iter> = map(<func>, <iterable>)\n",
        "numeros = range(10)\n",
        "numeros_quadrado = map(lambda x: x**2, numeros)\n",
        "print(f'numeros_quadrado: {numeros_quadrado}, {list(numeros_quadrado)}')\n",
        "\n",
        "\n",
        "from collections import namedtuple\n",
        "Pessoa = namedtuple('Pessoa', ['nome', 'idade'])\n",
        "nomes = ['Fulano', 'Ciclano', 'Maria']\n",
        "idades = [20, 32, 56]\n",
        "pessoas = map(lambda nome, idade: Pessoa(nome, idade), nomes, idades)\n",
        "for pessoa in pessoas:\n",
        "  print(pessoa)"
      ]
    },
    {
      "cell_type": "markdown",
      "metadata": {
        "id": "Mo6UjN88g0EH"
      },
      "source": [
        "### Filter\n",
        "Permite filtrar elementos"
      ]
    },
    {
      "cell_type": "code",
      "execution_count": null,
      "metadata": {
        "colab": {
          "base_uri": "https://localhost:8080/"
        },
        "id": "IMKXG1INi5wV",
        "outputId": "206b94c3-3e44-4e70-91eb-afe371af6d65"
      },
      "outputs": [
        {
          "output_type": "stream",
          "name": "stdout",
          "text": [
            "pessoas <map object at 0x79a74f42d030>\n",
            "pessoas filtro [Pessoa(nome='Fulano', idade=20), Pessoa(nome='Ciclano', idade=32)]\n"
          ]
        }
      ],
      "source": [
        "# <iter> = filter(<func>, <iterable>)\n",
        "# Retorna valores que retornaram True na condicional da função\n",
        "from collections import namedtuple\n",
        "Pessoa = namedtuple('Pessoa', ['nome', 'idade'])\n",
        "nomes = ['Fulano', 'Ciclano', 'Maria']\n",
        "idades = [20, 32, 56]\n",
        "pessoas = map(lambda nome, idade: Pessoa(nome, idade), nomes, idades)\n",
        "print('pessoas', pessoas)\n",
        "pessoas_filtro = filter(lambda pessoa: pessoa.idade < 50, pessoas)\n",
        "# Consumindo o gerador\n",
        "print('pessoas filtro', list(pessoas_filtro))"
      ]
    },
    {
      "cell_type": "code",
      "source": [
        "# <iter> = filter(<func>, <iterable>)\n",
        "# Retorna valores que retornaram True na condicional da função\n",
        "from collections import namedtuple\n",
        "Pessoa = namedtuple('Pessoa', ['nome', 'idade'])\n",
        "nomes = ['Fulano', 'Ciclano', 'Maria']\n",
        "idades = [20, 32, 56]\n",
        "pessoas_filtro = filter(lambda pessoa: pessoa.idade < 50,\n",
        "                        map(lambda nome, idade: Pessoa(nome, idade), nomes, idades)\n",
        "                    )\n",
        "\n",
        "print('pessoas filtro', list(pessoas_filtro))"
      ],
      "metadata": {
        "colab": {
          "base_uri": "https://localhost:8080/"
        },
        "id": "4JZpZGqf59vP",
        "outputId": "730c8715-c14f-4628-d138-ec87c112ccfc"
      },
      "execution_count": null,
      "outputs": [
        {
          "output_type": "stream",
          "name": "stdout",
          "text": [
            "pessoas filtro [Pessoa(nome='Fulano', idade=20), Pessoa(nome='Ciclano', idade=32)]\n"
          ]
        }
      ]
    },
    {
      "cell_type": "markdown",
      "metadata": {
        "id": "uthyrZKvjYa7"
      },
      "source": [
        "### Reduce\n",
        "\n",
        "Permite reduzir os valores de um iterável a um único resultado"
      ]
    },
    {
      "cell_type": "code",
      "execution_count": null,
      "metadata": {
        "colab": {
          "base_uri": "https://localhost:8080/"
        },
        "id": "kRgF81hcjWvu",
        "outputId": "4dbebec1-cf53-4150-8aef-7fac28636ce0"
      },
      "outputs": [
        {
          "output_type": "stream",
          "name": "stdout",
          "text": [
            "reduce 20\n"
          ]
        }
      ],
      "source": [
        "from functools import reduce\n",
        "# <obj> = reduce(<func>, <iterable>)\n",
        "result = reduce(lambda acc, valor: acc + valor, range(0, 10, 2))\n",
        "print('reduce', result)"
      ]
    },
    {
      "cell_type": "markdown",
      "source": [
        "![a](https://miro.medium.com/max/828/1*yD7P1I36G1jTProLQwEXxA.jpeg)"
      ],
      "metadata": {
        "id": "RUib0mofypvJ"
      }
    },
    {
      "cell_type": "markdown",
      "metadata": {
        "id": "GX33ip648sBY"
      },
      "source": [
        "## Tratamento de exceções"
      ]
    },
    {
      "cell_type": "code",
      "execution_count": null,
      "metadata": {
        "id": "rZLQla34NlX0"
      },
      "outputs": [],
      "source": [
        "# try:\n",
        "#   <código>\n",
        "# except <exception_a>:\n",
        "#   # Caso haja um erro do tipo `exception_a`\n",
        "#   <código>\n",
        "# except <exception_b>:\n",
        "#   # Caso haja um erro do tipo `exception_b`\n",
        "#   <código>\n",
        "# else:\n",
        "#   # Caso o código do bloco try não tenha erro\n",
        "#   <código>\n",
        "# finally:\n",
        "#   # Execute esse bloco mesmo caso haja erro em qualquer bloco acima\n",
        "#   # Sempre é executado\n",
        "#   <código>"
      ]
    },
    {
      "cell_type": "markdown",
      "metadata": {
        "id": "keaGg6Jz9XJO"
      },
      "source": [
        "## Arquivos\n",
        "\n",
        "\n",
        "Modos:\n",
        "- 'r' - Read (default).\n",
        "- 'w' - Write (truncate).\n",
        "- 'x' - Write or fail if the file already exists.\n",
        "- 'a' - Append.\n",
        "- 'w+' - Read and write (truncate).\n",
        "- 'r+' - Read and write from the start.\n",
        "- 'a+' - Read and write from the end.\n",
        "- 't' - Text mode (default).\n",
        "- 'b' - Binary mode ('br', 'bw', 'bx', …)."
      ]
    },
    {
      "cell_type": "code",
      "execution_count": null,
      "metadata": {
        "colab": {
          "base_uri": "https://localhost:8080/"
        },
        "id": "LGgS7ss19Z6a",
        "outputId": "428b7fdb-3b4f-41e4-eb31-96a07de004a1"
      },
      "outputs": [
        {
          "output_type": "stream",
          "name": "stdout",
          "text": [
            "texto TesteTesteTeste\n"
          ]
        }
      ],
      "source": [
        "# <file> = open(<path>, mode=<modo>)\n",
        "# Escrevendo arquivo\n",
        "with open('test.txt', 'a') as f:\n",
        "  f.write('Teste')\n",
        "\n",
        "with open('test.txt', 'r') as f:\n",
        "  texto = f.read()\n",
        "\n",
        "print('texto', texto)\n"
      ]
    },
    {
      "cell_type": "markdown",
      "metadata": {
        "id": "fUXybRUc-Cgc"
      },
      "source": [
        "### Json"
      ]
    },
    {
      "cell_type": "code",
      "execution_count": null,
      "metadata": {
        "colab": {
          "base_uri": "https://localhost:8080/"
        },
        "id": "e6a3IwjH9V3F",
        "outputId": "f28f3fe4-f09a-41c8-b02e-0200b9d4ae99"
      },
      "outputs": [
        {
          "output_type": "stream",
          "name": "stdout",
          "text": [
            "json_dumps <class 'str'> [\"a\", \"b\"]\n",
            "json_loads <class 'list'> ['a', 'b']\n"
          ]
        }
      ],
      "source": [
        "import json\n",
        "# <str> = json.dumps(<object>)\n",
        "str_json = json.dumps(['a', 'b'])\n",
        "print('json_dumps', type(str_json), str_json)\n",
        "\n",
        "# <object> = json.loads(<str>)\n",
        "obj = json.loads(str_json)\n",
        "print('json_loads', type(obj), obj)"
      ]
    },
    {
      "cell_type": "markdown",
      "metadata": {
        "id": "Kib7q_Et-oat"
      },
      "source": [
        "Escrevendo objetos para um arquivo json"
      ]
    },
    {
      "cell_type": "code",
      "execution_count": null,
      "metadata": {
        "id": "qxqO_TFE9Vw9"
      },
      "outputs": [],
      "source": [
        "obj = ['a', 'b', {'key1': 1, \"key2\": 2, \"key3\": None}]\n",
        "# json.dump(<obj>, <file>, indent=<number>)\n",
        "with open('test.json', 'w') as f:\n",
        "  json.dump(obj, f, indent=2)"
      ]
    },
    {
      "cell_type": "markdown",
      "metadata": {
        "id": "7hkPyfxC_AU1"
      },
      "source": [
        "Lendo objetos de um json"
      ]
    },
    {
      "cell_type": "code",
      "execution_count": null,
      "metadata": {
        "colab": {
          "base_uri": "https://localhost:8080/"
        },
        "id": "KF2KRw0f-36L",
        "outputId": "ae20b801-5acb-4eb2-8c0b-4dea03bd5d0a"
      },
      "outputs": [
        {
          "output_type": "stream",
          "name": "stdout",
          "text": [
            "['a', 'b', {'key1': 1, 'key2': 2, 'key3': None}]\n"
          ]
        }
      ],
      "source": [
        "# json.load(<file>)\n",
        "with open('test.json', 'r') as f:\n",
        "  obj = json.load(f)\n",
        "print(obj)"
      ]
    },
    {
      "cell_type": "markdown",
      "source": [],
      "metadata": {
        "id": "In-zHpTREY39"
      }
    }
  ],
  "metadata": {
    "colab": {
      "provenance": []
    },
    "kernelspec": {
      "display_name": "Python 3",
      "name": "python3"
    },
    "language_info": {
      "name": "python"
    }
  },
  "nbformat": 4,
  "nbformat_minor": 0
}