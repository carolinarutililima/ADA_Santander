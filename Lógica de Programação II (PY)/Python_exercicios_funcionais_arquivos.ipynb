{
 "cells": [
  {
   "cell_type": "markdown",
   "metadata": {},
   "source": [
    "# <font color=\"red\"> Santander Coders</font>\n",
    "## <span style=\"color:red\">Lógica de Programação II (Python)</span>\n",
    "\n",
    "## <span style=\"color:blue\">Exercicios - Funcionais e Arquivos</span>\n",
    "*Maurício Luiz Sobrinho*<br>\n",
    "*Adatech*"
   ]
  },
  {
   "cell_type": "markdown",
   "metadata": {},
   "source": [
    "#### <span style=\"color:red\">Recomenda-se fortemente que os exercícios sejam feitos sem consultar as respostas antecipadamente.</span>"
   ]
  },
  {
   "cell_type": "markdown",
   "metadata": {},
   "source": [
    "### Exercício 1) \n",
    "Considere a lista `palavras` abaixo. Utilizando o funcional <font color='blue'>map</font> construa uma nova lista chamada `palavrasM` contendo todos os elementos de `palavras`, porém, com o primeiro caracter em maiúsculo, ou seja,\n",
    "```python\n",
    "palavras = ['adeus','adoravel','amor',...]\n",
    "palavrasM = ['Adeus','Adoravel','Amor',...]\n",
    "```\n",
    "Todo o código deve estar em uma linha."
   ]
  },
  {
   "cell_type": "code",
   "execution_count": 17,
   "metadata": {},
   "outputs": [
    {
     "name": "stdout",
     "output_type": "stream",
     "text": [
      "[5, 8, 4, 8, 5, 7, 6, 10, 9, 10, 10, 9, 10, 3, 8, 4, 7, 11, 8, 9, 9, 10, 6, 8, 14, 7, 9]\n"
     ]
    }
   ],
   "source": [
    "#contato de palavras\n",
    "\n",
    "palavras = ['adeus','adoravel','amor','caminhos','chuva','coragem','cuidar','equilibrio',\n",
    "            'esperanca','felicidade','gentilezas','liberdade','melancolia','paz','respeito',\n",
    "            'riso','saudade','palimpsesto','perfeito','reciproco','recomeçar',\n",
    "            'resiliente','sentir','silencio','imprescindivel','sublime','tertulias']\n",
    "\n",
    "\n",
    "def contador(a):\n",
    "    return len(a)\n",
    "\n",
    "palavrasM = list(map(contador, palavras))\n",
    "print(palavrasM)\n"
   ]
  },
  {
   "cell_type": "code",
   "execution_count": 18,
   "metadata": {},
   "outputs": [
    {
     "data": {
      "text/plain": [
       "[5,\n",
       " 8,\n",
       " 4,\n",
       " 8,\n",
       " 5,\n",
       " 7,\n",
       " 6,\n",
       " 10,\n",
       " 9,\n",
       " 10,\n",
       " 10,\n",
       " 9,\n",
       " 10,\n",
       " 3,\n",
       " 8,\n",
       " 4,\n",
       " 7,\n",
       " 11,\n",
       " 8,\n",
       " 9,\n",
       " 9,\n",
       " 10,\n",
       " 6,\n",
       " 8,\n",
       " 14,\n",
       " 7,\n",
       " 9]"
      ]
     },
     "execution_count": 18,
     "metadata": {},
     "output_type": "execute_result"
    }
   ],
   "source": [
    "\n",
    "palavras = ['adeus','adoravel','amor','caminhos','chuva','coragem','cuidar','equilibrio',\n",
    "            'esperanca','felicidade','gentilezas','liberdade','melancolia','paz','respeito',\n",
    "            'riso','saudade','palimpsesto','perfeito','reciproco','recomeçar',\n",
    "            'resiliente','sentir','silencio','imprescindivel','sublime','tertulias']\n",
    "\n",
    "\n",
    "total_len = list(map(len, palavras))\n",
    "\n",
    "total_len"
   ]
  },
  {
   "cell_type": "code",
   "execution_count": 19,
   "metadata": {},
   "outputs": [
    {
     "data": {
      "text/plain": [
       "[5,\n",
       " 8,\n",
       " 4,\n",
       " 8,\n",
       " 5,\n",
       " 7,\n",
       " 6,\n",
       " 10,\n",
       " 9,\n",
       " 10,\n",
       " 10,\n",
       " 9,\n",
       " 10,\n",
       " 3,\n",
       " 8,\n",
       " 4,\n",
       " 7,\n",
       " 11,\n",
       " 8,\n",
       " 9,\n",
       " 9,\n",
       " 10,\n",
       " 6,\n",
       " 8,\n",
       " 14,\n",
       " 7,\n",
       " 9]"
      ]
     },
     "execution_count": 19,
     "metadata": {},
     "output_type": "execute_result"
    }
   ],
   "source": [
    "\n",
    "palavras = ['adeus','adoravel','amor','caminhos','chuva','coragem','cuidar','equilibrio',\n",
    "            'esperanca','felicidade','gentilezas','liberdade','melancolia','paz','respeito',\n",
    "            'riso','saudade','palimpsesto','perfeito','reciproco','recomeçar',\n",
    "            'resiliente','sentir','silencio','imprescindivel','sublime','tertulias']\n",
    "\n",
    "\n",
    "total_len = list(map(lambda x: len(x) , palavras))\n",
    "\n",
    "total_len"
   ]
  },
  {
   "cell_type": "code",
   "execution_count": 20,
   "metadata": {},
   "outputs": [
    {
     "name": "stdout",
     "output_type": "stream",
     "text": [
      "['Adeus', 'Adoravel', 'Amor', 'Caminhos', 'Chuva', 'Coragem', 'Cuidar', 'Equilibrio', 'Esperanca', 'Felicidade', 'Gentilezas', 'Liberdade', 'Melancolia', 'Paz', 'Respeito', 'Riso', 'Saudade', 'Palimpsesto', 'Perfeito', 'Reciproco', 'Recomeçar', 'Resiliente', 'Sentir', 'Silencio', 'Imprescindivel', 'Sublime', 'Tertulias']\n"
     ]
    }
   ],
   "source": [
    "palavras = ['adeus','adoravel','amor','caminhos','chuva','coragem','cuidar','equilibrio',\n",
    "            'esperanca','felicidade','gentilezas','liberdade','melancolia','paz','respeito',\n",
    "            'riso','saudade','palimpsesto','perfeito','reciproco','recomeçar',\n",
    "            'resiliente','sentir','silencio','imprescindivel','sublime','tertulias']\n",
    "\n",
    "\n",
    "def contador(a):\n",
    "    return a.capitalize()\n",
    "\n",
    "palavrasM = list(map(contador, palavras))\n",
    "print(palavrasM)\n"
   ]
  },
  {
   "cell_type": "markdown",
   "metadata": {},
   "source": [
    "### Exercício 2)\n",
    "Utilizando o funcional <font color='blue'>filter</font>, construa uma nova lista `palavras5` contendo os elementos da lista `palavras` (definida no exercício 1) que contenham no máximo 5 caracteres. Todo o código deve estar em uma linha."
   ]
  },
  {
   "cell_type": "code",
   "execution_count": 21,
   "metadata": {},
   "outputs": [
    {
     "name": "stdout",
     "output_type": "stream",
     "text": [
      "['adeus', 'amor', 'chuva', 'paz', 'riso']\n"
     ]
    }
   ],
   "source": [
    "\n",
    "palavras = ['adeus','adoravel','amor','caminhos','chuva','coragem','cuidar','equilibrio',\n",
    "            'esperanca','felicidade','gentilezas','liberdade','melancolia','paz','respeito',\n",
    "            'riso','saudade','palimpsesto','perfeito','reciproco','recomeçar',\n",
    "            'resiliente','sentir','silencio','imprescindivel','sublime','tertulias']\n",
    "\n",
    "\n",
    "\n",
    "palavras5 = list(filter(lambda x: len(x)<=5, palavras))\n",
    "print(palavras5)"
   ]
  },
  {
   "cell_type": "markdown",
   "metadata": {},
   "source": [
    "### Exercício 3) \n",
    "Utilize os funcionais <font color='blue'>map</font> e <font color='blue'>filter</font> para gerar uma nova lista `palavrasOS` contendo apenas os elementos da lista `palavras` que terminam com a letra 'o', adicionando a letras 's' no final de cada elemento, ou seja,\n",
    "```python\n",
    "palavrasOS = ['equilibrios', 'respeitos', 'risos', ...]\n",
    "```\n",
    "Todo o código deve estar em uma linha."
   ]
  },
  {
   "cell_type": "code",
   "execution_count": 22,
   "metadata": {},
   "outputs": [
    {
     "name": "stdout",
     "output_type": "stream",
     "text": [
      "['equilibrios', 'respeitos', 'risos', 'palimpsestos', 'perfeitos', 'reciprocos', 'silencios']\n"
     ]
    }
   ],
   "source": [
    "palavrasOS = list(map(lambda x: x+'s', filter(lambda x: x[-1]==\"o\", palavras)))\n",
    "print(palavrasOS)"
   ]
  },
  {
   "cell_type": "markdown",
   "metadata": {},
   "source": [
    "### Exercício 4) \n",
    "Utilize os funcionais <font color='blue'>map</font> e <font color='blue'>reduce</font> para calcular o número total de caracteres na lista `palavras`. Todo o código deve estar em uma única linha."
   ]
  },
  {
   "cell_type": "code",
   "execution_count": 23,
   "metadata": {},
   "outputs": [
    {
     "name": "stdout",
     "output_type": "stream",
     "text": [
      "214\n"
     ]
    }
   ],
   "source": [
    "from functools import reduce\n",
    "\n",
    "palavras = ['adeus','adoravel','amor','caminhos','chuva','coragem','cuidar','equilibrio',\n",
    "            'esperanca','felicidade','gentilezas','liberdade','melancolia','paz','respeito',\n",
    "            'riso','saudade','palimpsesto','perfeito','reciproco','recomeçar',\n",
    "            'resiliente','sentir','silencio','imprescindivel','sublime','tertulias']\n",
    "\n",
    "\n",
    "total_len = reduce(lambda x, y: x + y, map(len, palavras))\n",
    "print(total_len)"
   ]
  },
  {
   "cell_type": "markdown",
   "metadata": {},
   "source": [
    "### Exercício 5) \n",
    "Escreva a lista `palavras` em um arquivo chamado 'palavras.txt' de modo que cada linha do arquivo contenha um elemento da lista `palavras` seguido do número de caracteres, ou seja, as linhas do arquivo devem ser da forma:\n",
    "```sys\n",
    "adeus 5\n",
    "adoravel 8\n",
    "amor 4\n",
    ":\n",
    ":\n",
    "```\n",
    "Utilize o método <font color='blue'>write</font> para escrever as linhas do arquivo."
   ]
  },
  {
   "cell_type": "code",
   "execution_count": 24,
   "metadata": {},
   "outputs": [],
   "source": [
    "palavras = ['adeus','adoravel','amor','caminhos','chuva','coragem','cuidar','equilibrio',\n",
    "            'esperanca','felicidade','gentilezas','liberdade','melancolia','paz','respeito',\n",
    "            'riso','saudade','palimpsesto','perfeito','reciproco','recomeçar',\n",
    "            'resiliente','sentir','silencio','imprescindivel','sublime','tertulias']\n",
    "\n",
    "with open('palavras.txt','w') as f:\n",
    "    for i in palavras:\n",
    "        f.write(i+\" \" + str(len(i)) +'\\n')"
   ]
  },
  {
   "cell_type": "markdown",
   "metadata": {},
   "source": [
    "### Exercício 6)\n",
    "Repita o exercício anterior, porém, utilizando o método <font color='blue'>writelines</font> para escrever o arquivo.\n",
    "\n",
    "__Dica__: prepare uma lista onde cada elemento corresponde a uma linha do arquivo."
   ]
  },
  {
   "cell_type": "code",
   "execution_count": 25,
   "metadata": {},
   "outputs": [],
   "source": [
    "palavras = ['adeus','adoravel','amor','caminhos','chuva','coragem','cuidar','equilibrio',\n",
    "            'esperanca','felicidade','gentilezas','liberdade','melancolia','paz','respeito',\n",
    "            'riso','saudade','palimpsesto','perfeito','reciproco','recomeçar',\n",
    "            'resiliente','sentir','silencio','imprescindivel','sublime','tertulias']\n",
    "\n",
    "uma_palavra = [linha + \" \" + str(len(linha)) +'\\n' for linha in palavras]\n",
    "\n",
    "with open('palavras_2.txt','w') as file:\n",
    "    file.writelines(uma_palavra)\n",
    "\n",
    "\n"
   ]
  },
  {
   "cell_type": "markdown",
   "metadata": {},
   "source": [
    "### Exercício 7) \n",
    "Crie uma classe chamada `manipula_arquivo` para concatenar ou dividir arquivos texto. \n",
    "A classe deve possuir as seguintes características:\n",
    "- Um método chamado `concatena` que recebe o nome de dois arquivos como parâmetros e concatena os arquivos em um terceiro arquivo cujo nome também é a concatenação dos nomes enviados. O método deve retornar o nome do novo arquivo criado.\n",
    "- Um método chamado `divide_ao_meio` que recebe o nome de um arquivo como parâmetro e gera um novo arquivo com metade das linhas do arquivo original. O nome do novo arquivo deve ser o mesmo do original adicionando o número 2 no final do nome."
   ]
  },
  {
   "cell_type": "code",
   "execution_count": 26,
   "metadata": {},
   "outputs": [],
   "source": [
    "class manipula_arquivo:\n",
    "    #def __init__(self, arq1,arq2):\n",
    "    #    self.arq1 = arq1\n",
    "    #    self.arq2 = arq2\n",
    "    \n",
    "    def concatena(self,arq1,arq2):\n",
    "        with open(arq1, 'r') as source_file1:\n",
    "            contents_1 = source_file1.read()\n",
    "        with open(arq2, 'r') as source_file2:\n",
    "            contents_2 = source_file2.read()\n",
    "        \n",
    "        new_file = arq1[0:-4]+arq2[0:-4]+'.txt'\n",
    "        with open(new_file, 'w') as destination_file:\n",
    "            destination_file.write(contents_1 + \"\\n\")\n",
    "            destination_file.write(contents_2)\n",
    "\n",
    "        \n",
    "        \n",
    "    def divide_ao_meio(self,arq):\n",
    "        with open(arq, 'r') as source_file:\n",
    "            contents = source_file.read()\n",
    "        with open(arq[0:-4]+'2'+'.txt', 'w') as destination_file:\n",
    "            for i, line in enumerate(contents):\n",
    "                if i % 2 == 0:\n",
    "                    destination_file.write(line)\n"
   ]
  },
  {
   "cell_type": "markdown",
   "metadata": {},
   "source": [
    "Execute as próximas duas células para gerar os aquivos 'test1.txt' e 'test2.txt'."
   ]
  },
  {
   "cell_type": "code",
   "execution_count": 27,
   "metadata": {},
   "outputs": [
    {
     "name": "stdout",
     "output_type": "stream",
     "text": [
      "Overwriting test1.txt\n"
     ]
    }
   ],
   "source": [
    "%%writefile test1.txt\n",
    "conteudo do arquivo\n",
    "test1.txt para ser\n",
    "utilizado como teste para a\n",
    "classe construida"
   ]
  },
  {
   "cell_type": "code",
   "execution_count": 28,
   "metadata": {},
   "outputs": [
    {
     "name": "stdout",
     "output_type": "stream",
     "text": [
      "Overwriting test2.txt\n"
     ]
    }
   ],
   "source": [
    "%%writefile test2.txt\n",
    "conteudo do arquivo\n",
    "test2.txt para ser\n",
    "utilizado como teste para a\n",
    "classe construida"
   ]
  },
  {
   "cell_type": "code",
   "execution_count": 29,
   "metadata": {},
   "outputs": [
    {
     "name": "stdout",
     "output_type": "stream",
     "text": [
      "['conteudo do arquivo\\n', 'test1.txt para ser\\n', 'utilizado como teste para a\\n', 'classe construida\\n', '\\n', 'conteudo do arquivo\\n', 'test2.txt para ser\\n', 'utilizado como teste para a\\n', 'classe construida\\n']\n",
      "['cned oaqiots1ttpr e\\n', 'tlzd ootsepr \\n', 'lsecntud\\n']\n"
     ]
    }
   ],
   "source": [
    "# Utilize o código abaixo para testar sua classe\n",
    "ma = manipula_arquivo()\n",
    "ma.concatena('test1.txt','test2.txt')\n",
    "ma.divide_ao_meio('test1.txt')\n",
    "\n",
    "with open('test1test2.txt','r') as f:\n",
    "    print(f.readlines())\n",
    "        \n",
    "with open('test12.txt','r') as f:\n",
    "    print(f.readlines())       "
   ]
  },
  {
   "cell_type": "markdown",
   "metadata": {},
   "source": [
    "### Exercício 8)\n",
    "Crie uma subclasse da classe `manipula_arquivo` chamada `soma_arquivos` com as seguintes propriedades:\n",
    "- o construtor da subclasse recebe o nome de um arquivo e armazena em uma variável.\n",
    "- sobrescreva o operador <font color='blue'>+</font> (via método <font color='blue'>\\_\\_add\\_\\_</font>) para que ele concatene dois arquivos (instâncias da subclasse) utilizando o método `concatena` da superclasse `manipula_arquivo`.\n",
    "- a subclasse deve possuir o conteúdo do arquivo quando o comando print for aplicado a uma instância da subclasse.\n",
    "\n",
    "__Dica:__ Faça o método <font color='blue'>\\_\\_add\\_\\_</font> retornar uma instância da subclasse `soma_arquivos`."
   ]
  },
  {
   "cell_type": "code",
   "execution_count": 1,
   "metadata": {},
   "outputs": [],
   "source": [
    "class manipula_arquivo():\n",
    "    def __init__(self, arquivo):\n",
    "        self.arquivo = arquivo\n",
    "        with open(arquivo, 'r') as file:\n",
    "            self.conteudo = file.read()\n",
    "\n",
    "    def concatena(self, arquivo_2):\n",
    "        return self.conteudo + arquivo_2.conteudo"
   ]
  },
  {
   "cell_type": "code",
   "execution_count": 2,
   "metadata": {},
   "outputs": [],
   "source": [
    "class soma_arquivos(manipula_arquivo):\n",
    "    def __init__(self,nome=''):\n",
    "        super().__init__(nome)\n",
    "        \n",
    "        \n",
    "    def __add__(self,o):\n",
    "        novo_conteudo = self.concatena(o)\n",
    "        with open('temp.txt', 'w') as temp_file:\n",
    "            temp_file.write(novo_conteudo)\n",
    "        return soma_arquivos('temp.txt')\n",
    "    \n",
    "    def __str__(self):\n",
    "        return self.conteudo\n",
    "\n",
    "    \n",
    "        "
   ]
  },
  {
   "cell_type": "code",
   "execution_count": 3,
   "metadata": {},
   "outputs": [
    {
     "name": "stdout",
     "output_type": "stream",
     "text": [
      "conteudo do arquivo\n",
      "test1.txt para ser\n",
      "utilizado como teste para a\n",
      "classe construida\n",
      "conteudo do arquivo\n",
      "test2.txt para ser\n",
      "utilizado como teste para a\n",
      "classe construida\n",
      "\n"
     ]
    }
   ],
   "source": [
    "# Utilize o código abaixo para testar sua a subclasse criada\n",
    "obj1 = soma_arquivos('test1.txt')\n",
    "obj2 = soma_arquivos('test2.txt')\n",
    "obj3 = obj1+obj2\n",
    "print(obj3)"
   ]
  },
  {
   "cell_type": "code",
   "execution_count": 1,
   "metadata": {},
   "outputs": [],
   "source": [
    "class manipula_arquivo:\n",
    "    def _init_ (self, arquivo):\n",
    "        self.arquivo = arquivo\n",
    "    \n",
    "    def concatena(self, arquivo2):\n",
    "        with open(self.arquivo, 'r') as file:\n",
    "            conteudo = file.read()\n",
    "        \n",
    "\n",
    "        with open(arquivo2, 'r') as file:\n",
    "            conteudo2 = file.read()\n",
    "\n",
    "        return conteudo + conteudo2"
   ]
  },
  {
   "cell_type": "code",
   "execution_count": 2,
   "metadata": {},
   "outputs": [
    {
     "ename": "TypeError",
     "evalue": "soma_arquivos() takes no arguments",
     "output_type": "error",
     "traceback": [
      "\u001b[1;31m---------------------------------------------------------------------------\u001b[0m",
      "\u001b[1;31mTypeError\u001b[0m                                 Traceback (most recent call last)",
      "Cell \u001b[1;32mIn[2], line 12\u001b[0m\n\u001b[0;32m      8\u001b[0m             temp_file\u001b[38;5;241m.\u001b[39mwrite(conteudo_total)\n\u001b[0;32m      9\u001b[0m         \u001b[38;5;28;01mreturn\u001b[39;00m soma_arquivos(\u001b[38;5;124m\"\u001b[39m\u001b[38;5;124mtemp.txt\u001b[39m\u001b[38;5;124m\"\u001b[39m)\n\u001b[1;32m---> 12\u001b[0m obj1 \u001b[38;5;241m=\u001b[39m \u001b[43msoma_arquivos\u001b[49m\u001b[43m(\u001b[49m\u001b[38;5;124;43m'\u001b[39;49m\u001b[38;5;124;43mtxt1.txt\u001b[39;49m\u001b[38;5;124;43m'\u001b[39;49m\u001b[43m)\u001b[49m\n\u001b[0;32m     13\u001b[0m obj2 \u001b[38;5;241m=\u001b[39m soma_arquivos(\u001b[38;5;124m'\u001b[39m\u001b[38;5;124mtxt2.txt\u001b[39m\u001b[38;5;124m'\u001b[39m)\n\u001b[0;32m     14\u001b[0m obj3 \u001b[38;5;241m=\u001b[39m obj1\u001b[38;5;241m+\u001b[39mobj2\n",
      "\u001b[1;31mTypeError\u001b[0m: soma_arquivos() takes no arguments"
     ]
    }
   ],
   "source": [
    "class soma_arquivos(manipula_arquivo):\n",
    "    def _init_ (self, arquivo):\n",
    "        super()._init_(arquivo)\n",
    "\n",
    "    def _add_ (self, arquivo2):\n",
    "        conteudo_total = super().concatena(arquivo2)\n",
    "        with open('temp.txt', 'w') as temp_file:\n",
    "            temp_file.write(conteudo_total)\n",
    "        return soma_arquivos(\"temp.txt\")\n",
    "    \n",
    "\n",
    "obj1 = soma_arquivos('txt1.txt')\n",
    "obj2 = soma_arquivos('txt2.txt')\n",
    "obj3 = obj1+obj2\n",
    "print(obj3)"
   ]
  },
  {
   "cell_type": "code",
   "execution_count": 13,
   "metadata": {},
   "outputs": [
    {
     "name": "stdout",
     "output_type": "stream",
     "text": [
      "conteudo do arquivo\n",
      "test1.txt para ser\n",
      "utilizado como teste para a\n",
      "classe construida\n",
      "conteudo do arquivo\n",
      "test2.txt para ser\n",
      "utilizado como teste para a\n",
      "classe construida\n",
      "\n"
     ]
    }
   ],
   "source": [
    "class manipula_arquivo:\n",
    "    def __init__(self, arquivo):  # Correção aqui\n",
    "        self.arquivo = arquivo\n",
    "    \n",
    "    def concatena(self, arquivo2):\n",
    "        with open(self.arquivo, 'r') as file:\n",
    "            conteudo = file.read()\n",
    "        \n",
    "        with open(arquivo2, 'r') as file:\n",
    "            conteudo2 = file.read()\n",
    "\n",
    "        return conteudo + conteudo2  # Corrigido espaço extra\n",
    "\n",
    "class soma_arquivos(manipula_arquivo):\n",
    "    def __init__(self, arquivo):  # Correção aqui\n",
    "        super().__init__(arquivo)  # Correção aqui para chamar corretamente __init__ da classe pai\n",
    "\n",
    "    def __add__(self, other):  # Correção aqui para o método mágico __add__\n",
    "        conteudo_total = self.concatena(other.arquivo)\n",
    "        with open('temp.txt', 'w') as temp_file:\n",
    "            temp_file.write(conteudo_total)\n",
    "        # Aqui, vamos apenas retornar o caminho do arquivo temporário para simplificar\n",
    "        return 'temp.txt'  # Modificado para retornar o caminho do arquivo\n",
    "\n",
    "obj1 = soma_arquivos('test1.txt')\n",
    "obj2 = soma_arquivos('test2.txt')\n",
    "obj3 = obj1 + obj2  # Isso agora chama __add__ corretamente\n",
    "\n",
    "# Para imprimir o conteúdo de obj3, que agora é um caminho de arquivo\n",
    "with open(obj3, 'r') as file:\n",
    "    print(file.read())"
   ]
  },
  {
   "cell_type": "code",
   "execution_count": 4,
   "metadata": {},
   "outputs": [],
   "source": [
    "class Animal():\n",
    "    def __init__(self, nome, cor):\n",
    "        self.__nome = nome\n",
    "        self.__cor = cor\n",
    "\n",
    "    def comer(self):\n",
    "        print(f\"O {self.__nome} está comendo\")"
   ]
  },
  {
   "cell_type": "code",
   "execution_count": 5,
   "metadata": {},
   "outputs": [],
   "source": [
    "\n",
    "\n",
    "class Gato(Animal):\n",
    "    def __init__(self, nome, cor):\n",
    "        super().__init__(nome, cor)"
   ]
  },
  {
   "cell_type": "code",
   "execution_count": 6,
   "metadata": {},
   "outputs": [],
   "source": [
    "class Cachorro(Animal):\n",
    "    def __init__(self, nome, cor):\n",
    "        super().__init__(nome, cor)"
   ]
  },
  {
   "cell_type": "code",
   "execution_count": 7,
   "metadata": {},
   "outputs": [],
   "source": [
    "class Coelho(Animal):\n",
    "    def __init__(self, nome, cor):\n",
    "        super().__init__(nome, cor)"
   ]
  },
  {
   "cell_type": "code",
   "execution_count": 9,
   "metadata": {},
   "outputs": [
    {
     "name": "stdout",
     "output_type": "stream",
     "text": [
      "O Bichano está comendo\n",
      "O Totó está comendo\n",
      "O Pernalonga está comendo\n"
     ]
    }
   ],
   "source": [
    "\n",
    "\n",
    "gato = Gato(\"Bichano\", \"Branco\")\n",
    "cachorro = Cachorro(\"Totó\", \"Preto\")\n",
    "coelho = Coelho(\"Pernalonga\", \"Cinza\")\n",
    "\n",
    "gato.comer()\n",
    "cachorro.comer()\n",
    "coelho.comer()"
   ]
  },
  {
   "cell_type": "code",
   "execution_count": null,
   "metadata": {},
   "outputs": [],
   "source": []
  }
 ],
 "metadata": {
  "kernelspec": {
   "display_name": "Python 3.8.5 ('base')",
   "language": "python",
   "name": "python3"
  },
  "language_info": {
   "codemirror_mode": {
    "name": "ipython",
    "version": 3
   },
   "file_extension": ".py",
   "mimetype": "text/x-python",
   "name": "python",
   "nbconvert_exporter": "python",
   "pygments_lexer": "ipython3",
   "version": "3.11.8"
  },
  "vscode": {
   "interpreter": {
    "hash": "b1061245a22b17b19b85cf003e8b8bfcc4cdf8dbb1d6518b2fde69d455e71cf5"
   }
  }
 },
 "nbformat": 4,
 "nbformat_minor": 2
}
