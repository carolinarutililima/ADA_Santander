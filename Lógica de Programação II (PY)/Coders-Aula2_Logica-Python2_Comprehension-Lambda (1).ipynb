{
 "cells": [
  {
   "cell_type": "markdown",
   "metadata": {},
   "source": [
    "# <font color=\"red\"> Santander Coders</font>\n",
    "## <span style=\"color:red\">Lógica de Programação II (Python)</span>\n",
    "\n",
    "### <span style=\"color:darkred\">Python: coleções aninhadas, comprehension e expressões lambda</span>\n",
    "\n",
    "*Maurício Luiz Sobrinho*<br>\n",
    "*Adatech*\n",
    "\n",
    "---\n",
    "__Conteúdo:__\n",
    "- Coleções aninhadas\n",
    "- Comprehensions\n",
    "- Expressões lambda"
   ]
  },
  {
   "cell_type": "markdown",
   "metadata": {},
   "source": [
    "# Coleções aninhadas\n",
    "\n",
    "Listas, tuplas, dicionários, e outros podem ser aninhados\n",
    "\n",
    "#### Lista de tuplas"
   ]
  },
  {
   "cell_type": "code",
   "execution_count": 1,
   "metadata": {},
   "outputs": [
    {
     "name": "stdout",
     "output_type": "stream",
     "text": [
      "[(640, 'morango', 25.0), (201, 'banana', 4.99), (452, 'seriguela', 9.99), (330, 'melancia', 2.5)]\n"
     ]
    }
   ],
   "source": [
    "# tuplas como registros indicando frutas: código identificador, nome e preço por kilo\n",
    "fruta1 = (640, 'morango', 25.0)\n",
    "fruta2 = (201, 'banana', 4.99)\n",
    "fruta3 = (452, 'seriguela', 9.99)\n",
    "fruta4 = (330, 'melancia', 2.50)\n",
    "\n",
    "lista = [fruta1, fruta2, fruta3, fruta4]\n",
    "print(lista)"
   ]
  },
  {
   "cell_type": "code",
   "execution_count": 3,
   "metadata": {},
   "outputs": [
    {
     "data": {
      "text/plain": [
       "(330, 'melancia', 2.5)"
      ]
     },
     "execution_count": 3,
     "metadata": {},
     "output_type": "execute_result"
    }
   ],
   "source": [
    "lista[-1]"
   ]
  },
  {
   "cell_type": "markdown",
   "metadata": {},
   "source": [
    "Permite usar os benefícios da lista, enquanto mantendo tuplas como registros"
   ]
  },
  {
   "cell_type": "code",
   "execution_count": 4,
   "metadata": {},
   "outputs": [
    {
     "name": "stdout",
     "output_type": "stream",
     "text": [
      "[(201, 'banana', 4.99), (202, 'maçã', 6.95), (330, 'melancia', 2.5), (452, 'seriguela', 9.99), (640, 'morango', 25.0)]\n"
     ]
    }
   ],
   "source": [
    "lista.append((202, 'maçã', 6.95))\n",
    "lista.sort()\n",
    "print(lista)"
   ]
  },
  {
   "cell_type": "markdown",
   "metadata": {},
   "source": [
    "### Lista de listas"
   ]
  },
  {
   "cell_type": "code",
   "execution_count": 7,
   "metadata": {},
   "outputs": [
    {
     "name": "stdout",
     "output_type": "stream",
     "text": [
      "[[9.5, 8.0, 10.0, 7.0], [1.5, 5.0, 5.5, 6.8, 8.0, 9.5, 9.5, 10.0, 1.0]]\n",
      "[[9.5, 8.0, 10.0, 7.0], [1.5, 5.0, 5.5, 6.8, 8.0, 9.5, 9.5, 10.0, 1.0], [5.5, 7.0, 8.0, 6.0, 0.0, 3.5]]\n",
      "[[9.5, 8.0, 10.0, 7.0], [1.5, 5.0, 5.5, 6.8, 8.0, 9.5, 9.5, 10.0, 1.0], [5.5, 7.0, 8.0, 6.0, 0.0, 3.5], [10.0, 7.5, 8.0, 9.0, 4.0, 6.0, 6.5]]\n"
     ]
    }
   ],
   "source": [
    "# listas com notas de turmas de alunos\n",
    "turma1 = [9.5, 8.0, 10.0, 7.0]\n",
    "turma2 = [1.5, 5.0, 5.5, 6.8, 8.0, 9.5, 9.5, 10.0, 1.0]\n",
    "turma3 = [5.5, 7.0, 8.0, 6.0, 0.0, 3.5]\n",
    "turma4 = [10.0, 7.5, 8.0, 9.0, 4.0, 6.0, 6.5]\n",
    "\n",
    "notas = [turma1, turma2]\n",
    "print(notas)\n",
    "notas = notas + [turma3]\n",
    "print(notas)\n",
    "notas.append(turma4)\n",
    "print(notas)"
   ]
  },
  {
   "cell_type": "markdown",
   "metadata": {},
   "source": [
    "#### Aninhando dicionários e listas"
   ]
  },
  {
   "cell_type": "code",
   "execution_count": 8,
   "metadata": {},
   "outputs": [],
   "source": [
    "notas = {\n",
    "    'Python': { 2020: [9.5, 8.0, 10.0, 5.0, 6.0, 6.0],\n",
    "                2021: [8.2, 10.0, 10.0, 9.0, 7.5, 7.0, 10.0] },\n",
    "    'Redes Neurais': { 2019: [8.0, 9.8, 10.0, 0.0, 8.2, 7.5, 7.5],\n",
    "                       2020: [9.0, 7.2, 9.0, 8.0, 6.3, 7.0],\n",
    "                       2021: [10.0, 7.5, 8.0, 9.0, 7.0, 7.3, 6.5] }\n",
    "}"
   ]
  },
  {
   "cell_type": "code",
   "execution_count": 9,
   "metadata": {},
   "outputs": [
    {
     "data": {
      "text/plain": [
       "{2020: [9.5, 8.0, 10.0, 5.0, 6.0, 6.0],\n",
       " 2021: [8.2, 10.0, 10.0, 9.0, 7.5, 7.0, 10.0]}"
      ]
     },
     "execution_count": 9,
     "metadata": {},
     "output_type": "execute_result"
    }
   ],
   "source": [
    "notas['Python']"
   ]
  },
  {
   "cell_type": "code",
   "execution_count": 16,
   "metadata": {},
   "outputs": [
    {
     "data": {
      "text/plain": [
       "4041"
      ]
     },
     "execution_count": 16,
     "metadata": {},
     "output_type": "execute_result"
    }
   ],
   "source": [
    "sum(notas['Python'])"
   ]
  },
  {
   "cell_type": "code",
   "execution_count": 19,
   "metadata": {},
   "outputs": [
    {
     "data": {
      "text/plain": [
       "dict"
      ]
     },
     "execution_count": 19,
     "metadata": {},
     "output_type": "execute_result"
    }
   ],
   "source": [
    "type(notas['Python'])"
   ]
  },
  {
   "cell_type": "code",
   "execution_count": 20,
   "metadata": {},
   "outputs": [
    {
     "name": "stdout",
     "output_type": "stream",
     "text": [
      "2019\n",
      "2020\n",
      "2021\n"
     ]
    }
   ],
   "source": [
    "for turma in notas['Redes Neurais']:\n",
    "    print(turma)"
   ]
  },
  {
   "cell_type": "code",
   "execution_count": 21,
   "metadata": {},
   "outputs": [
    {
     "name": "stdout",
     "output_type": "stream",
     "text": [
      "2019 - Menor nota: 0.0\n",
      "2020 - Menor nota: 6.3\n",
      "2021 - Menor nota: 6.5\n"
     ]
    }
   ],
   "source": [
    "for turma in notas['Redes Neurais'].items():\n",
    "    print(turma[0], '- Menor nota:', min(turma[1]))"
   ]
  },
  {
   "cell_type": "markdown",
   "metadata": {},
   "source": [
    "# Comprehension\n",
    " \n",
    "Recurso que permite aplicar uma operação *para cada item de uma sequência* de forma eficiente. \n",
    "\n",
    "A sintaxe de um comprehension é:\n",
    "```\n",
    "lista = [expressao for variavel_local in objeto]\n",
    "```\n",
    "O resultado é equivalente a:\n",
    "```\n",
    "lista = []\n",
    "for variavel_local in objeto:\n",
    "    lista.append(expressao)\n",
    "```\n",
    "\n",
    "Porém, comprehension é executado de forma muito mais rápida. \n",
    "\n",
    "Tipicamente se emprega *comprehension* para construir listas ou dicionários.\n",
    "\n",
    "---\n",
    "\n",
    "Exemplo: criar uma lista com os valores entre -50 e 50 ao quadrado"
   ]
  },
  {
   "cell_type": "code",
   "execution_count": 26,
   "metadata": {},
   "outputs": [
    {
     "name": "stdout",
     "output_type": "stream",
     "text": [
      "20.5 µs ± 279 ns per loop (mean ± std. dev. of 7 runs, 100000 loops each)\n"
     ]
    }
   ],
   "source": [
    "%%timeit\n",
    "quadr = [x**2 for x in range(-50,51)]"
   ]
  },
  {
   "cell_type": "markdown",
   "metadata": {},
   "source": [
    "* `range(-50,51)` gera um intervalo entre -50 e 50\n",
    "* comprehension eleva ao quadrado cada número `x` nesse intervalo\n",
    "* o resultado é armazenado na lista `quadr`"
   ]
  },
  {
   "cell_type": "code",
   "execution_count": 23,
   "metadata": {},
   "outputs": [
    {
     "name": "stdout",
     "output_type": "stream",
     "text": [
      "[2500, 2401, 2304, 2209, 2116, 2025, 1936, 1849, 1764, 1681, 1600, 1521, 1444, 1369, 1296, 1225, 1156, 1089, 1024, 961, 900, 841, 784, 729, 676, 625, 576, 529, 484, 441, 400, 361, 324, 289, 256, 225, 196, 169, 144, 121, 100, 81, 64, 49, 36, 25, 16, 9, 4, 1, 0, 1, 4, 9, 16, 25, 36, 49, 64, 81, 100, 121, 144, 169, 196, 225, 256, 289, 324, 361, 400, 441, 484, 529, 576, 625, 676, 729, 784, 841, 900, 961, 1024, 1089, 1156, 1225, 1296, 1369, 1444, 1521, 1600, 1681, 1764, 1849, 1936, 2025, 2116, 2209, 2304, 2401, 2500]\n"
     ]
    }
   ],
   "source": [
    "print(quadr)"
   ]
  },
  {
   "cell_type": "code",
   "execution_count": 27,
   "metadata": {},
   "outputs": [
    {
     "name": "stdout",
     "output_type": "stream",
     "text": [
      "24.2 µs ± 556 ns per loop (mean ± std. dev. of 7 runs, 10000 loops each)\n"
     ]
    }
   ],
   "source": [
    "%%timeit\n",
    "quadr_for = []\n",
    "for x in range(-50,51):\n",
    "    quadr_for.append(x**2)"
   ]
  },
  {
   "cell_type": "code",
   "execution_count": 25,
   "metadata": {},
   "outputs": [
    {
     "name": "stdout",
     "output_type": "stream",
     "text": [
      "[2500, 2401, 2304, 2209, 2116, 2025, 1936, 1849, 1764, 1681, 1600, 1521, 1444, 1369, 1296, 1225, 1156, 1089, 1024, 961, 900, 841, 784, 729, 676, 625, 576, 529, 484, 441, 400, 361, 324, 289, 256, 225, 196, 169, 144, 121, 100, 81, 64, 49, 36, 25, 16, 9, 4, 1, 0, 1, 4, 9, 16, 25, 36, 49, 64, 81, 100, 121, 144, 169, 196, 225, 256, 289, 324, 361, 400, 441, 484, 529, 576, 625, 676, 729, 784, 841, 900, 961, 1024, 1089, 1156, 1225, 1296, 1369, 1444, 1521, 1600, 1681, 1764, 1849, 1936, 2025, 2116, 2209, 2304, 2401, 2500]\n"
     ]
    }
   ],
   "source": [
    "print(quadr_for)"
   ]
  },
  {
   "cell_type": "markdown",
   "metadata": {},
   "source": [
    "Podemos compará-los com o comando `%%timeit`"
   ]
  },
  {
   "cell_type": "markdown",
   "metadata": {},
   "source": [
    "> É possível omitir a variável local caso essa não seja necessária."
   ]
  },
  {
   "cell_type": "code",
   "execution_count": 30,
   "metadata": {},
   "outputs": [
    {
     "name": "stdout",
     "output_type": "stream",
     "text": [
      "[64, 96, 79, 40, 99, 64, 27, 21, 21, 21, 29, 12, 46, 98, 78, 17, 56, 16, 94, 93]\n"
     ]
    }
   ],
   "source": [
    "import random as rd\n",
    "\n",
    "n = 20\n",
    "rand_num = [rd.randint(1,100) for _ in range(n)]\n",
    "print(rand_num)"
   ]
  },
  {
   "cell_type": "code",
   "execution_count": 33,
   "metadata": {},
   "outputs": [
    {
     "name": "stdout",
     "output_type": "stream",
     "text": [
      "4.3636\n"
     ]
    }
   ],
   "source": [
    "x = 4.36363\n",
    "print(round(x,4))"
   ]
  },
  {
   "cell_type": "markdown",
   "metadata": {},
   "source": [
    "---\n",
    "\n",
    "#### <font color=\"blue\">Exercício 2.1 </font>\n",
    "\n",
    "Codifique uma função que use comprehension para retornar uma lista com `n` valores numéricos iniciando em 0 e  com passo `p` permitindo um número float como passo. Arredonde cada número para 5 casas decimais usando a função `round(,5)`\n",
    "\n",
    "Exemplo para n=8, p=0.05\n",
    "```\n",
    "[0.0, 0.05, 0.1, 0.15, 0.2, 0.25, 0.3, 0.35, 0.4]\n",
    "```"
   ]
  },
  {
   "cell_type": "code",
   "execution_count": null,
   "metadata": {},
   "outputs": [],
   "source": []
  },
  {
   "cell_type": "markdown",
   "metadata": {},
   "source": [
    "---\n",
    "## Compreehension com filtragem\n",
    "\n",
    "Combinado com `if` permite filtrar a sequência gerada\n",
    "```python\n",
    "variavel = [expressao for variavel_local in objeto if condicao]\n",
    "```\n",
    "\n",
    "O código acima é equivalente a:\n",
    "```\n",
    "variavel=[]\n",
    "for variavel_local in objeto:\n",
    "    if condicao:\n",
    "        variavel.append(expressao)\n",
    "```"
   ]
  },
  {
   "cell_type": "markdown",
   "metadata": {},
   "source": [
    "Gerar o quadrado dos números entre -20 e 20, e montar uma lista apenas com os números ímpares resultantes"
   ]
  },
  {
   "cell_type": "code",
   "execution_count": 36,
   "metadata": {},
   "outputs": [
    {
     "name": "stdout",
     "output_type": "stream",
     "text": [
      "[361, 289, 225, 169, 121, 81, 49, 25, 9, 1, 1, 9, 25, 49, 81, 121, 169, 225, 289, 361]\n"
     ]
    }
   ],
   "source": [
    "l = [x**2 for x in range(-20,21) if (x**2)%2 != 0]\n",
    "print(l)"
   ]
  },
  {
   "cell_type": "markdown",
   "metadata": {},
   "source": [
    "Notar que ali a condição se refere à variável local `x`"
   ]
  },
  {
   "cell_type": "markdown",
   "metadata": {},
   "source": [
    "#### Iterando por coleções\n",
    "\n",
    "Vamos criar uma coleção de disciplinas com nome e crédito"
   ]
  },
  {
   "cell_type": "code",
   "execution_count": 39,
   "metadata": {},
   "outputs": [],
   "source": [
    "disciplinas = [('Programação', 4), ('Cálculo',4), ('Isostática',2), ('Semicondutores', 2),\n",
    "               ('Manufatura Discreta',2), ('Análise real', 4), ('Seminários', 1), \n",
    "               ('Processamento de Imagens', 3)]"
   ]
  },
  {
   "cell_type": "code",
   "execution_count": 40,
   "metadata": {},
   "outputs": [
    {
     "name": "stdout",
     "output_type": "stream",
     "text": [
      "[('Programação', 4), ('Cálculo', 4), ('Análise real', 4), ('Processamento de Imagens', 3)]\n"
     ]
    }
   ],
   "source": [
    "mincred = 3\n",
    "\n",
    "disciplinas_mincred = [(nome,cred) for (nome,cred) in disciplinas if cred >= mincred]\n",
    "print(disciplinas_mincred)"
   ]
  },
  {
   "cell_type": "code",
   "execution_count": 41,
   "metadata": {},
   "outputs": [
    {
     "name": "stdout",
     "output_type": "stream",
     "text": [
      "[('Programação', 4), ('Cálculo', 4), ('Análise real', 4), ('Processamento de Imagens', 3)]\n"
     ]
    }
   ],
   "source": [
    "disciplinas_mincred_for = list()\n",
    "for (nome,cred) in disciplinas:\n",
    "    if (cred >= mincred):\n",
    "        disciplinas_mincred_for.append((nome,cred))\n",
    "print(disciplinas_mincred_for)        "
   ]
  },
  {
   "cell_type": "code",
   "execution_count": 42,
   "metadata": {},
   "outputs": [
    {
     "data": {
      "text/plain": [
       "True"
      ]
     },
     "execution_count": 42,
     "metadata": {},
     "output_type": "execute_result"
    }
   ],
   "source": [
    "disciplinas_mincred == disciplinas_mincred_for"
   ]
  },
  {
   "cell_type": "markdown",
   "metadata": {},
   "source": [
    "### Usando `if-else`\n",
    "\n",
    "Podemos usar `else` mas nesse caso a estrutura deve vir **antes** do `for`:\n",
    "\n",
    "```python\n",
    "variavel = [<expressao> if <condicao> else <expressao_se_falso> for <variavel_local> in <objeto>]\n",
    "```"
   ]
  },
  {
   "cell_type": "markdown",
   "metadata": {},
   "source": [
    "> É útil quando temos um valor para substituir no caso em que a condição é falsa"
   ]
  },
  {
   "cell_type": "code",
   "execution_count": 46,
   "metadata": {},
   "outputs": [
    {
     "name": "stdout",
     "output_type": "stream",
     "text": [
      "[-1, 361, -1, 289, -1, 225, -1, 169, -1, 121, -1, 81, -1, 49, -1, 25, -1, 9, -1, 1, -1, 1, -1, 9, -1, 25, -1, 49, -1, 81, -1, 121, -1, 169, -1, 225, -1, 289, -1, 361, -1]\n"
     ]
    }
   ],
   "source": [
    "# computando o quadrado dos números entre -20 e 20. Se o resultado for par, substituir por -1\n",
    "l = [x**2 if (x**2)%2!=0 else -1 for x in range(-20,21)]\n",
    "print(l)"
   ]
  },
  {
   "cell_type": "markdown",
   "metadata": {},
   "source": [
    "---\n",
    "\n",
    "**<font color=\"blue\">Exercício 2.2</font>**\n",
    "A partir de um vetor com números inteiros aleatórios, calcular seu `log` e criar uma lista com o resultado.\n",
    "* se o número for 0 substituir o valor por `nan` (not a number) da biblioteca `math` para indicar que o resultado não é numérico"
   ]
  },
  {
   "cell_type": "code",
   "execution_count": 47,
   "metadata": {},
   "outputs": [
    {
     "name": "stdout",
     "output_type": "stream",
     "text": [
      "[4, 3, 9, 10, 4, 0, 10, 4, 8, 6, 6, 3, 1, 7, 1, 3, 9, 9, 10, 2, 2, 6, 4, 9, 6]\n"
     ]
    }
   ],
   "source": [
    "import random as rd\n",
    "\n",
    "n = 25\n",
    "rand_num = [rd.randint(0,10) for _ in range(n)]\n",
    "print(rand_num)"
   ]
  },
  {
   "cell_type": "code",
   "execution_count": null,
   "metadata": {},
   "outputs": [],
   "source": []
  },
  {
   "cell_type": "markdown",
   "metadata": {},
   "source": [
    "## Comprehensions com iteração paralela em diferentes coleções\n",
    "\n",
    "Aninhando comprehensions:\n",
    "```\n",
    "lista = [<expressao> for <var1, var2, ...> in zip(<colecao1>, <colecao2>, ...)]\n",
    "```\n",
    "O resultado do comando acima é equivalente a:\n",
    "```python\n",
    "lista = []\n",
    "for <var1, var2, ...> in zip(<colecao1>, <colecao2>, ...)\n",
    "    lista.append(expressao)\n",
    "```"
   ]
  },
  {
   "cell_type": "markdown",
   "metadata": {},
   "source": [
    "Há várias situações em que é interessante percorrer duas coleções ou sequências\n",
    "\n",
    "Para isso podemos usar a função `zip()` em que passamos as sequencias para o zip que irá retornar um elemento de cada por vez\n",
    "\n",
    "```\n",
    "zip(seq1, seq2, ... seq2n)\n",
    "```"
   ]
  },
  {
   "cell_type": "code",
   "execution_count": 48,
   "metadata": {},
   "outputs": [
    {
     "name": "stdout",
     "output_type": "stream",
     "text": [
      "[1, 2, 3, 4, 5, 6, 7, 8, 9]\n",
      "[0, 2, 4, 6, 8, 10, 12, 14, 16, 18, 20, 22, 24]\n",
      "(10, 20, 30, 40, 50, 60, 70, 80, 90)\n",
      "\n"
     ]
    }
   ],
   "source": [
    "l1 = list(range(1,10))\n",
    "l2 = list(range(0,26,2))\n",
    "t1 = tuple(range(10,100,10))\n",
    "\n",
    "print(l1)\n",
    "print(l2)\n",
    "print(t1)\n",
    "print()"
   ]
  },
  {
   "cell_type": "code",
   "execution_count": 49,
   "metadata": {},
   "outputs": [
    {
     "name": "stdout",
     "output_type": "stream",
     "text": [
      "1 0 10\n",
      "2 2 20\n",
      "3 4 30\n",
      "4 6 40\n",
      "5 8 50\n",
      "6 10 60\n",
      "7 12 70\n",
      "8 14 80\n",
      "9 16 90\n"
     ]
    }
   ],
   "source": [
    "for i,j,t in zip(l1, l2, t1):\n",
    "    print(i,j,t)"
   ]
  },
  {
   "cell_type": "markdown",
   "metadata": {},
   "source": [
    "Note que a  `l2` possui mais elementos, nesse caso o `for` vai nivelar pela sequência de menor tamanho\n",
    "\n",
    "---\n",
    "Combinando com comprehensions, vamos usar essa idéia para percorrer duas listas e montar uma nova lista em que copiamos os elementos iguais, e atribuímos `False` nas posições em que as listas são diferentes"
   ]
  },
  {
   "cell_type": "code",
   "execution_count": 50,
   "metadata": {},
   "outputs": [
    {
     "name": "stdout",
     "output_type": "stream",
     "text": [
      "[5, 5, 5, 1, 2, False, 4, 6, False, 7]\n"
     ]
    }
   ],
   "source": [
    "vals1 = [5, 5, 5, 1, 2, 3, 4, 6, 7, 7]\n",
    "vals2 = [5, 5, 5, 1, 2, 4, 4, 6, 6, 7]\n",
    "\n",
    "equal_pos = [x if x == y else False for (x,y) in zip(vals1, vals2)]\n",
    "print(equal_pos)"
   ]
  },
  {
   "cell_type": "markdown",
   "metadata": {},
   "source": [
    "---\n",
    "\n",
    "**<font color=\"blue\">Exercício 2.3</font>**\n",
    "\n",
    "Codifique uma função que receba como argumento duas listas de números com o mesmo tamanho. Use comprehension para retornar uma nova lista que é a multiplicação elemento-a-elemento das duas listas.  Caso as listas não possuam o mesmo tamanho emita uma mensagem de erro e retorne a constante `math.nan` do módulo `math`.\n",
    "\n",
    "Exemplo:\n",
    "```\n",
    "l1 = [1, 2, 3, 4, 5]\n",
    "l2 = [5, 5, 5, 10, 10]\n",
    "multiplica_listas(l1,l2)\n",
    "\n",
    "  [5, 10, 15, 40, 50]\n",
    "```"
   ]
  },
  {
   "cell_type": "markdown",
   "metadata": {},
   "source": [
    "---\n",
    "\n",
    "## Comprehensions Aninhados (Nested Loops)\n",
    "\n",
    "Aninhando comprehensions:\n",
    "```\n",
    "lista = [<expressao> for <var_local1> in <objeto1> if <condicao1>\n",
    "                        for <var_local2> in <objeto2> if <condicao2>]\n",
    "```\n",
    "O resultado do comando acima é equivalente a:\n",
    "```python\n",
    "lista=[]\n",
    "for var_local1 in objeto1:\n",
    "    if condicao1:\n",
    "        for var_local2 in objeto2:\n",
    "            if condicao2:\n",
    "                lista.append(expressao)\n",
    "```\n",
    "\n",
    "Uma aplicação é gerar o *produto cartesiano* entre duas coleções, ou seja, todas as combinações possíveis das duas coleções.\n",
    "\n",
    "Mais formalmente, se $A$ e $B$ são conjuntos, o seu produto cartesiano é o conjunto de todos os pares $(a,b)$ em que $a \\in A$ e $b \\in B$."
   ]
  },
  {
   "cell_type": "code",
   "execution_count": 59,
   "metadata": {},
   "outputs": [
    {
     "name": "stdout",
     "output_type": "stream",
     "text": [
      "Com comprehension: {('b', 30), ('a', 30), ('b', 20), ('a', 20), ('b', 10), ('a', 10)}\n",
      "<class 'set'>\n"
     ]
    }
   ],
   "source": [
    "A = ['a', 'b']\n",
    "B = [10, 20, 30]\n",
    "\n",
    "prod_cart = {(a,b) for a in A for b in B}\n",
    "print(\"Com comprehension:\", prod_cart)\n",
    "print(type(prod_cart))"
   ]
  },
  {
   "cell_type": "code",
   "execution_count": 60,
   "metadata": {},
   "outputs": [
    {
     "name": "stdout",
     "output_type": "stream",
     "text": [
      "Com for:           {('b', 30), ('a', 30), ('b', 20), ('a', 20), ('b', 10), ('a', 10)}\n"
     ]
    }
   ],
   "source": [
    "# com for\n",
    "prod_cart_for = set()\n",
    "for a in A:\n",
    "    for b in B:\n",
    "        prod_cart_for.add((a,b))\n",
    "\n",
    "print(\"Com for:          \", prod_cart_for)"
   ]
  },
  {
   "cell_type": "markdown",
   "metadata": {},
   "source": [
    "#### Formando lista de listas\n",
    "\n",
    "O elemento do comprehension pode ser uma coleção por exemplo para montar uma lista usamos:"
   ]
  },
  {
   "cell_type": "code",
   "execution_count": 62,
   "metadata": {},
   "outputs": [
    {
     "name": "stdout",
     "output_type": "stream",
     "text": [
      "[1, 2, 3, 4, 5]\n"
     ]
    }
   ],
   "source": [
    "lista1 = [x for x in range(1,6)]\n",
    "print(lista1)"
   ]
  },
  {
   "cell_type": "markdown",
   "metadata": {},
   "source": [
    "Inserindo esse comprehension num outro comprehension podemos repetí-lo"
   ]
  },
  {
   "cell_type": "code",
   "execution_count": 69,
   "metadata": {},
   "outputs": [
    {
     "name": "stdout",
     "output_type": "stream",
     "text": [
      "[[1, 2, 3, 4, 5], [2, 4, 6, 8, 10], [3, 6, 9, 12, 15]]\n"
     ]
    }
   ],
   "source": [
    "lista_listas = [[x*l for x in range(1,6)] for l in range(1,4)]\n",
    "print(lista_listas)"
   ]
  },
  {
   "cell_type": "markdown",
   "metadata": {},
   "source": [
    "Num cenário mais complexo, podemos querer formar uma lista de listas com um padrão, em que cada lista possui valores 0, exceto por um elemento igual a 1 que equivale a sua posição.\n",
    "\n",
    "\n",
    "Exemplo com 3 listas:\n",
    "```\n",
    "[[1, 0, 0],\n",
    " [0, 1, 0],\n",
    " [0, 0, 1]]\n",
    "```"
   ]
  },
  {
   "cell_type": "markdown",
   "metadata": {},
   "source": [
    "Vamos começar produzindo apenas a primeira linha"
   ]
  },
  {
   "cell_type": "code",
   "execution_count": 73,
   "metadata": {},
   "outputs": [
    {
     "name": "stdout",
     "output_type": "stream",
     "text": [
      "[1, 0, 0]\n"
     ]
    }
   ],
   "source": [
    "n = 3\n",
    "pos = 0\n",
    "linha = [1 if x == pos else 0 for x in range(n)]\n",
    "print(linha)"
   ]
  },
  {
   "cell_type": "markdown",
   "metadata": {},
   "source": [
    "Agora, como aninhar isso num outro comprehension que permita mudar a a posição?"
   ]
  },
  {
   "cell_type": "code",
   "execution_count": 78,
   "metadata": {},
   "outputs": [
    {
     "name": "stdout",
     "output_type": "stream",
     "text": [
      "[1, 0, 0, 0, 0, 0, 0, 0, 0, 0]\n",
      "[0, 1, 0, 0, 0, 0, 0, 0, 0, 0]\n",
      "[0, 0, 1, 0, 0, 0, 0, 0, 0, 0]\n",
      "[0, 0, 0, 1, 0, 0, 0, 0, 0, 0]\n",
      "[0, 0, 0, 0, 1, 0, 0, 0, 0, 0]\n",
      "[0, 0, 0, 0, 0, 1, 0, 0, 0, 0]\n",
      "[0, 0, 0, 0, 0, 0, 1, 0, 0, 0]\n",
      "[0, 0, 0, 0, 0, 0, 0, 1, 0, 0]\n",
      "[0, 0, 0, 0, 0, 0, 0, 0, 1, 0]\n",
      "[0, 0, 0, 0, 0, 0, 0, 0, 0, 1]\n"
     ]
    }
   ],
   "source": [
    "n = 10\n",
    "linhas = [[1 if x == pos else 0 for x in range(n)] for pos in range(n)]\n",
    "\n",
    "for lin in linhas:\n",
    "    print(lin)\n"
   ]
  },
  {
   "cell_type": "markdown",
   "metadata": {},
   "source": [
    "---\n",
    "\n",
    "#### <font color=\"blue\">Exercício 2.4 </font>\n",
    "\n",
    "Codifique uma comprehension que simule uma matriz de tamanho n x n, cujos elementos são dados por `(i+j*i)`, sendo `i` o índice da linha e `j` o índice da coluna. Para simular isso com uma lista de listas, o `i` corresponde ao índice da lista principal e o `j` aos índices das listas aninhadas.\n",
    "\n",
    "Por exemplo, seja a segunda lista (posição i=1), o seu terceiro elemento (posição j=2) seria obtido por `1+2*1 = 3`\n",
    "\n",
    "Exemplo com n = 3:\n",
    "```\n",
    "  [[0, 0, 0],\n",
    "   [1, 2, 3],\n",
    "   [2, 4, 6]] \n",
    "```"
   ]
  },
  {
   "cell_type": "markdown",
   "metadata": {},
   "source": [
    "---\n",
    "\n",
    "####  <font color=\"red\">Desafio</font>\n",
    "\n",
    "Temos uma série de pontos 3D organizados numa lista e gostaríamos de computar as distâncias entre todos os pontos pareados.\n",
    "\n",
    "Calcular a distância entre dois pontos $p1 = (x_1,y_1,z_1)$ e  $p2 = (x_2,y_2,z_2)$ usando a fórmula\n",
    "\n",
    "$$d(p1,p2) = |x_1 - x_2| +|y_1 - y_2| + |z_1 - z_2|,$$\n",
    "em que $|.|$ representa o valor absoluto.\n",
    "\n",
    "Exemplo com 2 pontos organizados em listas:\n",
    "```\n",
    "[[1.0, 1.0, 1.0],\n",
    " [3.0, 3.0, 3.0]]\n",
    "```\n",
    "\n",
    "A saída deve ser:\n",
    "```\n",
    "[[0.0, 6.0],\n",
    " [6.0, 0.0]]\n",
    "```\n",
    "\n",
    "Note que a diagonal principal tem sempre valor zero já que representa a distância de um ponto para ele mesmo, e que a matriz é simétrica pois a distância entre dois pontos p1 e p2 é tal que: d(p1,p2) = d(p2,p1).\n",
    "\n",
    "Para isso utilize uma única linha contendo comprehensions aninhadas e com iteração em paralelo"
   ]
  },
  {
   "cell_type": "code",
   "execution_count": 80,
   "metadata": {},
   "outputs": [],
   "source": [
    "from math import fabs, fsum\n",
    "\n",
    "pontos3d = [ [1.0, 1.0, 1.0],\n",
    "             [0.0, 1.0, 3.0],\n",
    "             [2.0, 2.0, 2.0],\n",
    "             [0.0, 0.0, 0.0] ]"
   ]
  },
  {
   "cell_type": "markdown",
   "metadata": {},
   "source": [
    "---\n",
    "# Expressões Lambda\n",
    " \n",
    "Funções **anônimas** que podem ser usadas como *expressão*.\n",
    "\n",
    "\n",
    "* por ser expressão, não declaração, pode ser usada quando `def` não é possível, por exemplo dentro de um comprehension. \n",
    "\n",
    "Sintaxe:\n",
    "```python\n",
    "lambda <arg1>, <arg2>, ..., <argn>: <expressao>\n",
    "```\n",
    "A `expressao` será o valor de retorno\n",
    "\n",
    "Um exemplo simples, em que desejamos elevar um número ao quadrado"
   ]
  },
  {
   "cell_type": "code",
   "execution_count": 81,
   "metadata": {},
   "outputs": [
    {
     "data": {
      "text/plain": [
       "36"
      ]
     },
     "execution_count": 81,
     "metadata": {},
     "output_type": "execute_result"
    }
   ],
   "source": [
    "def quadrado(x):\n",
    "    return x**2\n",
    "\n",
    "quadrado(6)"
   ]
  },
  {
   "cell_type": "markdown",
   "metadata": {},
   "source": [
    "Usando uma expressão lambda utilizaríamos"
   ]
  },
  {
   "cell_type": "code",
   "execution_count": 82,
   "metadata": {},
   "outputs": [
    {
     "data": {
      "text/plain": [
       "<function __main__.<lambda>(x)>"
      ]
     },
     "execution_count": 82,
     "metadata": {},
     "output_type": "execute_result"
    }
   ],
   "source": [
    "lambda x: x**2"
   ]
  },
  {
   "cell_type": "markdown",
   "metadata": {},
   "source": [
    "Mas sendo **anônima** não é possível invocá-la diretamente, precisamos associá-la a um objeto"
   ]
  },
  {
   "cell_type": "code",
   "execution_count": 83,
   "metadata": {},
   "outputs": [
    {
     "data": {
      "text/plain": [
       "36"
      ]
     },
     "execution_count": 83,
     "metadata": {},
     "output_type": "execute_result"
    }
   ],
   "source": [
    "fquad = lambda x: x**2\n",
    "\n",
    "fquad(6)"
   ]
  },
  {
   "cell_type": "markdown",
   "metadata": {},
   "source": [
    "**Exemplos** de aplicação incluem seu **uso dentro de comprehensions**\n",
    "\n",
    "Abaixo um comprehension para avaliar uma lista de números inteiros e criar uma lista contendo 'even' para números pares e 'odd' para números ímpares"
   ]
  },
  {
   "cell_type": "code",
   "execution_count": 84,
   "metadata": {},
   "outputs": [
    {
     "name": "stdout",
     "output_type": "stream",
     "text": [
      "3 odd\n",
      "10 even\n"
     ]
    }
   ],
   "source": [
    "# retorna 'even' para x par e 'odd' para x ímpar\n",
    "f = lambda x: 'even' if (x%2 == 0) else 'odd'\n",
    "\n",
    "print(3, f(3))\n",
    "print(10, f(10))"
   ]
  },
  {
   "cell_type": "code",
   "execution_count": 85,
   "metadata": {},
   "outputs": [
    {
     "name": "stdout",
     "output_type": "stream",
     "text": [
      "['odd', 'odd', 'even', 'even', 'even', 'odd', 'even', 'odd']\n"
     ]
    }
   ],
   "source": [
    "lista_numeros = [1, 1, 2, 2, 10, 11, 12, 13]\n",
    "\n",
    "odd_or_even = [f(i) for i in lista_numeros]\n",
    "print(odd_or_even)"
   ]
  },
  {
   "cell_type": "code",
   "execution_count": 86,
   "metadata": {},
   "outputs": [
    {
     "name": "stdout",
     "output_type": "stream",
     "text": [
      "[1, 1, 11, 13]\n"
     ]
    }
   ],
   "source": [
    "filter_odd = [i for i in lista_numeros if f(i) == 'odd']\n",
    "print(filter_odd)"
   ]
  },
  {
   "cell_type": "markdown",
   "metadata": {},
   "source": [
    "---\n",
    "### Expressão lambda como parte de argumento para função\n",
    "\n",
    "Em algumas funções podemos passar por argumento uma expressão.\n",
    "\n",
    "Por exemplo ao ordenar elementos numa lista"
   ]
  },
  {
   "cell_type": "code",
   "execution_count": 87,
   "metadata": {},
   "outputs": [
    {
     "name": "stdout",
     "output_type": "stream",
     "text": [
      "Betty Holberton\n",
      "Alan Turing\n",
      "Dennis Ritchie\n",
      "Grace Hopper\n"
     ]
    }
   ],
   "source": [
    "cientistas_da_computacao = ['Betty Holberton', 'Alan Turing', 'Dennis Ritchie', 'Grace Hopper']\n",
    "\n",
    "_ = [print(i) for i in cientistas_da_computacao]"
   ]
  },
  {
   "cell_type": "code",
   "execution_count": 88,
   "metadata": {},
   "outputs": [
    {
     "name": "stdout",
     "output_type": "stream",
     "text": [
      "['Alan Turing', 'Betty Holberton', 'Dennis Ritchie', 'Grace Hopper']\n"
     ]
    }
   ],
   "source": [
    "cientistas_da_computacao.sort()\n",
    "print(cientistas_da_computacao)"
   ]
  },
  {
   "cell_type": "markdown",
   "metadata": {},
   "source": [
    "Gostaríamos de ordenar pelo sobrenome!\n",
    "\n",
    "O método `sort()` possui um argumento `key` para definir o critério de ordenação\n"
   ]
  },
  {
   "cell_type": "code",
   "execution_count": 89,
   "metadata": {},
   "outputs": [
    {
     "name": "stdout",
     "output_type": "stream",
     "text": [
      "Help on built-in function sort:\n",
      "\n",
      "sort(*, key=None, reverse=False) method of builtins.list instance\n",
      "    Sort the list in ascending order and return None.\n",
      "    \n",
      "    The sort is in-place (i.e. the list itself is modified) and stable (i.e. the\n",
      "    order of two equal elements is maintained).\n",
      "    \n",
      "    If a key function is given, apply it once to each list item and sort them,\n",
      "    ascending or descending, according to their function values.\n",
      "    \n",
      "    The reverse flag can be set to sort in descending order.\n",
      "\n"
     ]
    }
   ],
   "source": [
    "help(cientistas_da_computacao.sort)"
   ]
  },
  {
   "cell_type": "code",
   "execution_count": 90,
   "metadata": {},
   "outputs": [
    {
     "name": "stdout",
     "output_type": "stream",
     "text": [
      "['Alan Turing', 'Grace Hopper', 'Dennis Ritchie', 'Betty Holberton']\n"
     ]
    }
   ],
   "source": [
    "# usando como chave o tamanho\n",
    "cientistas_da_computacao.sort(key=len)\n",
    "print(cientistas_da_computacao)"
   ]
  },
  {
   "cell_type": "markdown",
   "metadata": {},
   "source": [
    "Ou com uma **lambda expression** que retorne o último nome"
   ]
  },
  {
   "cell_type": "code",
   "execution_count": 93,
   "metadata": {},
   "outputs": [
    {
     "name": "stdout",
     "output_type": "stream",
     "text": [
      "['Alan', 'Turing']\n"
     ]
    }
   ],
   "source": [
    "print(cientistas_da_computacao[0].split())"
   ]
  },
  {
   "cell_type": "code",
   "execution_count": 95,
   "metadata": {},
   "outputs": [
    {
     "name": "stdout",
     "output_type": "stream",
     "text": [
      "ritchie\n"
     ]
    }
   ],
   "source": [
    "print(cientistas_da_computacao[2].split()[-1].lower())"
   ]
  },
  {
   "cell_type": "code",
   "execution_count": 96,
   "metadata": {},
   "outputs": [
    {
     "name": "stdout",
     "output_type": "stream",
     "text": [
      "['Betty Holberton', 'Grace Hopper', 'Dennis Ritchie', 'Alan Turing']\n"
     ]
    }
   ],
   "source": [
    "cientistas_da_computacao.sort(key = lambda nome: nome.split()[-1].lower())\n",
    "print(cientistas_da_computacao)"
   ]
  },
  {
   "cell_type": "markdown",
   "metadata": {},
   "source": [
    "> Isso seria impossível usando `def`"
   ]
  },
  {
   "cell_type": "markdown",
   "metadata": {},
   "source": [
    "---\n",
    "\n",
    "#### <font color=\"blue\">Exercício 2.5</font>\n",
    "\n",
    "Escreva uma expressão lambda que permita receber uma string contendo duas palavras relativas ao nome de uma pessoa e seu sobrenome. Essas são separadas por um ou mais espaços em branco. A expressão deve retornar o nome no formato: \"SOBRENOME, N.\"\n",
    "\n",
    "Exemplo:\n",
    "```\n",
    "nome = 'Dennis   ritchie'\n",
    "```\n",
    "\n",
    "Retorno:\n",
    "```\n",
    "RITCHIE, D.\n",
    "```\n",
    "\n",
    "A seguir escreva um comprehension que percorra uma lista contendo nomes e gere uma nova lista com os nomes no formato \"SOBRENOME, N.\"\n",
    "\n",
    "Exemplo:\n",
    "```\n",
    "nomes = ['Dennis   ritchie', 'ALAN  Turing', 'betty Holberton']\n",
    "```\n",
    "\n",
    "Retorno:\n",
    "```\n",
    "['RITCHIE, D.', 'TURING, A.', 'HOLBERTON, B.']\n",
    "```\n"
   ]
  },
  {
   "cell_type": "code",
   "execution_count": null,
   "metadata": {},
   "outputs": [],
   "source": []
  }
 ],
 "metadata": {
  "kernelspec": {
   "display_name": "Python 3",
   "language": "python",
   "name": "python3"
  },
  "language_info": {
   "codemirror_mode": {
    "name": "ipython",
    "version": 3
   },
   "file_extension": ".py",
   "mimetype": "text/x-python",
   "name": "python",
   "nbconvert_exporter": "python",
   "pygments_lexer": "ipython3",
   "version": "3.8.9"
  },
  "toc": {
   "base_numbering": 1,
   "nav_menu": {},
   "number_sections": true,
   "sideBar": true,
   "skip_h1_title": false,
   "title_cell": "Table of Contents",
   "title_sidebar": "Contents",
   "toc_cell": false,
   "toc_position": {},
   "toc_section_display": true,
   "toc_window_display": false
  }
 },
 "nbformat": 4,
 "nbformat_minor": 2
}
