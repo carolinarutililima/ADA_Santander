{
 "cells": [
  {
   "cell_type": "code",
   "execution_count": 12,
   "metadata": {},
   "outputs": [
    {
     "data": {
      "text/plain": [
       "(23, 'abc', 4.56, (2, 3))"
      ]
     },
     "execution_count": 12,
     "metadata": {},
     "output_type": "execute_result"
    }
   ],
   "source": [
    "#Tuplas\n",
    "\n",
    "tp = (23, 'abc', 4.56, (2,3))\n",
    "tp"
   ]
  },
  {
   "cell_type": "code",
   "execution_count": 13,
   "metadata": {},
   "outputs": [
    {
     "data": {
      "text/plain": [
       "tuple"
      ]
     },
     "execution_count": 13,
     "metadata": {},
     "output_type": "execute_result"
    }
   ],
   "source": [
    "type(tp)"
   ]
  },
  {
   "cell_type": "code",
   "execution_count": 14,
   "metadata": {},
   "outputs": [
    {
     "data": {
      "text/plain": [
       "3"
      ]
     },
     "execution_count": 14,
     "metadata": {},
     "output_type": "execute_result"
    }
   ],
   "source": [
    "tp[3][1]"
   ]
  },
  {
   "cell_type": "code",
   "execution_count": 15,
   "metadata": {},
   "outputs": [],
   "source": [
    "d = {\n",
    "    'Brasil': 1,\n",
    "    'Espanha': 0\n",
    "}"
   ]
  },
  {
   "cell_type": "code",
   "execution_count": 16,
   "metadata": {},
   "outputs": [
    {
     "data": {
      "text/plain": [
       "dict"
      ]
     },
     "execution_count": 16,
     "metadata": {},
     "output_type": "execute_result"
    }
   ],
   "source": [
    "type(d)"
   ]
  },
  {
   "cell_type": "code",
   "execution_count": 17,
   "metadata": {},
   "outputs": [
    {
     "name": "stdout",
     "output_type": "stream",
     "text": [
      "True\n"
     ]
    }
   ],
   "source": [
    "print('Brasil' in d)"
   ]
  },
  {
   "cell_type": "code",
   "execution_count": 18,
   "metadata": {},
   "outputs": [
    {
     "name": "stdout",
     "output_type": "stream",
     "text": [
      "False\n"
     ]
    }
   ],
   "source": [
    "print('Espanha' not in d)"
   ]
  },
  {
   "cell_type": "code",
   "execution_count": 48,
   "metadata": {},
   "outputs": [],
   "source": [
    "veic = {\n",
    "    'AAA0A00': ['Carro', 'Fusca', 1978, 'Azul'],\n",
    "    'BBB1B11': ['Carro', 'Del-Rey', 1984, 'Dourado'],\n",
    "    'CCC2C22': ['Moto', 'HD Iron 883', 2020, \"Preto\"]\n",
    "}"
   ]
  },
  {
   "cell_type": "code",
   "execution_count": 49,
   "metadata": {},
   "outputs": [
    {
     "data": {
      "text/plain": [
       "1979"
      ]
     },
     "execution_count": 49,
     "metadata": {},
     "output_type": "execute_result"
    }
   ],
   "source": [
    "valor = veic['AAA0A00'][2]\n",
    "veic['AAA0A00'][2] =  valor + 1\n",
    "veic['AAA0A00'][2]"
   ]
  },
  {
   "cell_type": "code",
   "execution_count": 21,
   "metadata": {},
   "outputs": [
    {
     "name": "stdout",
     "output_type": "stream",
     "text": [
      "dict_keys(['AAA0A00', 'BBB1B11', 'CCC2C22'])\n",
      "dict_values([['Carro', 'Fusca', 1978, 'Azul'], ['Carro', 'Del-Rey', 1984, 'Dourado'], ['Moto', 'HD Iron 883', 2020, 'Preto']])\n"
     ]
    },
    {
     "data": {
      "text/plain": [
       "dict_items([('AAA0A00', ['Carro', 'Fusca', 1978, 'Azul']), ('BBB1B11', ['Carro', 'Del-Rey', 1984, 'Dourado']), ('CCC2C22', ['Moto', 'HD Iron 883', 2020, 'Preto'])])"
      ]
     },
     "execution_count": 21,
     "metadata": {},
     "output_type": "execute_result"
    }
   ],
   "source": [
    "#obter todas as chaves\n",
    "print(veic.keys())\n",
    "\n",
    "#obter todos os valores\n",
    "print(veic.values())\n",
    "\n",
    "#obter o par chave-valor\n",
    "veic.items()"
   ]
  },
  {
   "cell_type": "code",
   "execution_count": 22,
   "metadata": {},
   "outputs": [
    {
     "name": "stdout",
     "output_type": "stream",
     "text": [
      "AAA0A00\n",
      "BBB1B11\n",
      "CCC2C22\n"
     ]
    }
   ],
   "source": [
    "for key in veic.keys():\n",
    "    print(key)"
   ]
  },
  {
   "cell_type": "markdown",
   "metadata": {},
   "source": [
    "veic.keys"
   ]
  },
  {
   "cell_type": "code",
   "execution_count": 23,
   "metadata": {},
   "outputs": [
    {
     "name": "stdout",
     "output_type": "stream",
     "text": [
      "['Carro', 'Fusca', 1978, 'Azul']\n",
      "['Carro', 'Del-Rey', 1984, 'Dourado']\n",
      "['Moto', 'HD Iron 883', 2020, 'Preto']\n"
     ]
    }
   ],
   "source": [
    "for value in veic.values():\n",
    "    print(value)"
   ]
  },
  {
   "cell_type": "code",
   "execution_count": 64,
   "metadata": {},
   "outputs": [],
   "source": [
    "def conta_palavras(nomes):\n",
    "    novo = nomes.split(\", \")\n",
    "    contador = {}\n",
    "    for i in novo:\n",
    "        if i in contador.keys():\n",
    "            contador[i] = contador[i] + 1\n",
    "        if i not in contador.keys():\n",
    "            contador[i] = 1\n",
    "\n",
    "    return contador\n",
    "\n"
   ]
  },
  {
   "cell_type": "code",
   "execution_count": 65,
   "metadata": {},
   "outputs": [
    {
     "name": "stdout",
     "output_type": "stream",
     "text": [
      "{'ana': 3, 'fábio': 2, 'cristina': 1, 'ubiratã': 1}\n"
     ]
    }
   ],
   "source": [
    "nomes = \"ana, fábio, cristina, ana, fábio, ubiratã, ana\"\n",
    "freq = conta_palavras(nomes)\n",
    "print(freq)\n"
   ]
  },
  {
   "cell_type": "code",
   "execution_count": 67,
   "metadata": {},
   "outputs": [
    {
     "name": "stdout",
     "output_type": "stream",
     "text": [
      "Counter({'ana': 3, 'fábio': 2, 'cristina': 1, 'ubiratã': 1})\n"
     ]
    }
   ],
   "source": [
    "from collections import Counter\n",
    "\n",
    "\n",
    "cada_nome = nomes.split(\", \")\n",
    "counter = Counter(cada_nome)\n",
    "print(counter)"
   ]
  },
  {
   "cell_type": "code",
   "execution_count": null,
   "metadata": {},
   "outputs": [],
   "source": []
  }
 ],
 "metadata": {
  "kernelspec": {
   "display_name": "Python 3.8.5 ('base')",
   "language": "python",
   "name": "python3"
  },
  "language_info": {
   "codemirror_mode": {
    "name": "ipython",
    "version": 3
   },
   "file_extension": ".py",
   "mimetype": "text/x-python",
   "name": "python",
   "nbconvert_exporter": "python",
   "pygments_lexer": "ipython3",
   "version": "3.8.5"
  },
  "orig_nbformat": 4,
  "vscode": {
   "interpreter": {
    "hash": "b1061245a22b17b19b85cf003e8b8bfcc4cdf8dbb1d6518b2fde69d455e71cf5"
   }
  }
 },
 "nbformat": 4,
 "nbformat_minor": 2
}
