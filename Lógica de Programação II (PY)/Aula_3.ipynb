{
 "cells": [
  {
   "cell_type": "code",
   "execution_count": null,
   "metadata": {},
   "outputs": [],
   "source": [
    "#funções lambda "
   ]
  },
  {
   "cell_type": "markdown",
   "metadata": {},
   "source": [
    "\n",
    "\n",
    "Escreva uma expressão lambda que permita receber uma string contendo duas palavras relativas ao nome de uma pessoa e seu sobrenome. Essas são separadas por um ou mais espaços em branco. A expressão deve retornar o nome no formato: \"SOBRENOME, N.\"\n",
    "\n",
    "Exemplo:\n",
    "```\n",
    "nome = 'Dennis   ritchie'\n",
    "```\n",
    "\n",
    "Retorno:\n",
    "```\n",
    "RITCHIE, D.\n",
    "```\n",
    "\n",
    "A seguir escreva um comprehension que percorra uma lista contendo nomes e gere uma nova lista com os nomes no formato \"SOBRENOME, N.\"\n",
    "\n",
    "Exemplo:\n",
    "```\n",
    "nomes = ['Dennis   ritchie', 'ALAN  Turing', 'betty Holberton']\n",
    "```\n",
    "\n",
    "Retorno:\n",
    "```\n",
    "['RITCHIE, D.', 'TURING, A.', 'HOLBERTON, B.']\n",
    "```\n"
   ]
  },
  {
   "cell_type": "markdown",
   "metadata": {},
   "source": []
  }
 ],
 "metadata": {
  "kernelspec": {
   "display_name": "Python 3.12.0 64-bit",
   "language": "python",
   "name": "python3"
  },
  "language_info": {
   "name": "python",
   "version": "3.12.0"
  },
  "orig_nbformat": 4,
  "vscode": {
   "interpreter": {
    "hash": "aee8b7b246df8f9039afb4144a1f6fd8d2ca17a180786b69acc140d282b71a49"
   }
  }
 },
 "nbformat": 4,
 "nbformat_minor": 2
}
