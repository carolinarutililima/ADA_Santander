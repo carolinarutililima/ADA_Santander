{
 "cells": [
  {
   "cell_type": "code",
   "execution_count": 1,
   "metadata": {},
   "outputs": [
    {
     "data": {
      "text/plain": [
       "4"
      ]
     },
     "execution_count": 1,
     "metadata": {},
     "output_type": "execute_result"
    }
   ],
   "source": [
    "#funções lambda\n",
    "\n",
    "\n",
    "def quadrado(x):\n",
    "    return x**2\n",
    "\n",
    "quadrado(2)\n",
    " "
   ]
  },
  {
   "cell_type": "code",
   "execution_count": 3,
   "metadata": {},
   "outputs": [
    {
     "data": {
      "text/plain": [
       "36"
      ]
     },
     "execution_count": 3,
     "metadata": {},
     "output_type": "execute_result"
    }
   ],
   "source": [
    "quad_lam = lambda x:x** 2\n",
    "\n",
    "quad_lam(6)"
   ]
  },
  {
   "cell_type": "code",
   "execution_count": 4,
   "metadata": {},
   "outputs": [
    {
     "name": "stdout",
     "output_type": "stream",
     "text": [
      "5 odd\n"
     ]
    }
   ],
   "source": [
    "f = lambda x: 'even'if (x%2==0) else 'odd'\n",
    "\n",
    "print(5,f(5))"
   ]
  },
  {
   "cell_type": "code",
   "execution_count": 5,
   "metadata": {},
   "outputs": [
    {
     "name": "stdout",
     "output_type": "stream",
     "text": [
      "10 even\n"
     ]
    }
   ],
   "source": [
    "print(10, f(10))"
   ]
  },
  {
   "cell_type": "code",
   "execution_count": 7,
   "metadata": {},
   "outputs": [
    {
     "data": {
      "text/plain": [
       "['odd', 'odd', 'even', 'even', 'odd', 'even', 'even', 'odd', 'even', 'odd']"
      ]
     },
     "execution_count": 7,
     "metadata": {},
     "output_type": "execute_result"
    }
   ],
   "source": [
    "lista_num = [1,3,4,2,5,6,12,43,54,65]\n",
    "\n",
    "odd_or_even = [f(i) for i in lista_num]\n",
    "odd_or_even"
   ]
  },
  {
   "cell_type": "code",
   "execution_count": 8,
   "metadata": {},
   "outputs": [
    {
     "data": {
      "text/plain": [
       "{1: 'odd',\n",
       " 3: 'odd',\n",
       " 4: 'even',\n",
       " 2: 'even',\n",
       " 5: 'odd',\n",
       " 6: 'even',\n",
       " 12: 'even',\n",
       " 43: 'odd',\n",
       " 54: 'even',\n",
       " 65: 'odd'}"
      ]
     },
     "execution_count": 8,
     "metadata": {},
     "output_type": "execute_result"
    }
   ],
   "source": [
    "lista_num = [1,3,4,2,5,6,12,43,54,65]\n",
    "\n",
    "odd_or_even = {i:f(i) for i in lista_num}\n",
    "odd_or_even"
   ]
  },
  {
   "cell_type": "code",
   "execution_count": 9,
   "metadata": {},
   "outputs": [
    {
     "name": "stdout",
     "output_type": "stream",
     "text": [
      "oi\n",
      "tchau\n",
      "celular\n",
      "tv\n",
      "pc\n",
      "mouse\n"
     ]
    }
   ],
   "source": [
    "coisas = [\"oi\", \"tchau\", \"celular\", \"tv\", \"pc\", \"mouse\"]\n",
    "_ = [print(i) for i in coisas]"
   ]
  },
  {
   "cell_type": "code",
   "execution_count": 11,
   "metadata": {},
   "outputs": [
    {
     "data": {
      "text/plain": [
       "['oi', 'pc', 'tv', 'mouse', 'tchau', 'celular']"
      ]
     },
     "execution_count": 11,
     "metadata": {},
     "output_type": "execute_result"
    }
   ],
   "source": [
    "coisas.sort(key = len)\n",
    "coisas"
   ]
  },
  {
   "cell_type": "code",
   "execution_count": 14,
   "metadata": {},
   "outputs": [
    {
     "data": {
      "text/plain": [
       "['Kevin Aragão de Castro',\n",
       " 'Guilherme Denis Garcia Madeira de Pereira',\n",
       " 'Altino Dário de Dominato Filho',\n",
       " 'Roberta Escobar de Godói',\n",
       " 'Lucas Estevão Assunção de Macedo',\n",
       " 'Juliana Ferreira Serra',\n",
       " 'Beatriz Galvão de Alcântara',\n",
       " 'Cauê João Azevedo de Delvalle',\n",
       " 'Jackson Kevin de Medina',\n",
       " 'Priscila Soraya de Padilha']"
      ]
     },
     "execution_count": 14,
     "metadata": {},
     "output_type": "execute_result"
    }
   ],
   "source": [
    "lista_nomes = [\"Kevin Aragão de Castro\", \"Priscila Soraya de Padilha\", \"Roberta Escobar de Godói\", \"Lucas Estevão Assunção de Macedo\", \"Guilherme Denis Garcia Madeira de Pereira\", \"Juliana Ferreira Serra\", \"Beatriz Galvão de Alcântara\", \"Altino Dário de Dominato Filho\", \"Cauê João Azevedo de Delvalle\", \"Jackson Kevin de Medina\"]\n",
    "\n",
    "lista_nomes.sort(key = lambda nome: nome.split()[1].lower())\n",
    "lista_nomes"
   ]
  },
  {
   "cell_type": "markdown",
   "metadata": {},
   "source": [
    "\n",
    "\n",
    "Escreva uma expressão lambda que permita receber uma string contendo duas palavras relativas ao nome de uma pessoa e seu sobrenome. Essas são separadas por um ou mais espaços em branco. A expressão deve retornar o nome no formato: \"SOBRENOME, N.\"\n",
    "\n",
    "Exemplo:\n",
    "```\n",
    "nome = 'Dennis   ritchie'\n",
    "```\n",
    "\n",
    "Retorno:\n",
    "```\n",
    "RITCHIE, D.\n",
    "```\n",
    "\n",
    "A seguir escreva um comprehension que percorra uma lista contendo nomes e gere uma nova lista com os nomes no formato \"SOBRENOME, N.\"\n",
    "\n",
    "Exemplo:\n",
    "```\n",
    "nomes = ['Dennis   ritchie', 'ALAN  Turing', 'betty Holberton']\n",
    "```\n",
    "\n",
    "Retorno:\n",
    "```\n",
    "['RITCHIE, D.', 'TURING, A.', 'HOLBERTON, B.']\n",
    "```\n"
   ]
  },
  {
   "cell_type": "code",
   "execution_count": 68,
   "metadata": {},
   "outputs": [
    {
     "data": {
      "text/plain": [
       "['RITCHIE, D.', 'TURING, A.', 'HOLBERTON, B.']"
      ]
     },
     "execution_count": 68,
     "metadata": {},
     "output_type": "execute_result"
    }
   ],
   "source": [
    "formatar_nome_1 = lambda nome: nome.split()[-1].upper()+\", \"+ nome.split()[0][0].upper()+\".\"\n",
    "\n",
    "nomes = ['Dennis   ritchie', 'ALAN  Turing', 'betty Holberton']\n",
    "\n",
    "nomes_formatados_1 = [formatar_nome_1(nome) for nome in nomes]\n",
    "nomes_formatados_1\n"
   ]
  },
  {
   "cell_type": "code",
   "execution_count": 69,
   "metadata": {},
   "outputs": [
    {
     "data": {
      "text/plain": [
       "['RITCHIE, D.', 'TURING, A.', 'HOLBERTON, B.']"
      ]
     },
     "execution_count": 69,
     "metadata": {},
     "output_type": "execute_result"
    }
   ],
   "source": [
    "formatar_nome_2 = lambda nome: ', '.join([nome.split()[-1].upper(), nome.split()[0][0].upper()]) + \".\"\n",
    "\n",
    "nomes = ['Dennis   ritchie', 'ALAN  Turing', 'betty Holberton']\n",
    "nomes_formatados_2 = [formatar_nome_2(nome) for nome in nomes]\n",
    "nomes_formatados_2\n"
   ]
  },
  {
   "cell_type": "code",
   "execution_count": null,
   "metadata": {},
   "outputs": [],
   "source": []
  }
 ],
 "metadata": {
  "kernelspec": {
   "display_name": "Python 3.8.5 ('base')",
   "language": "python",
   "name": "python3"
  },
  "language_info": {
   "codemirror_mode": {
    "name": "ipython",
    "version": 3
   },
   "file_extension": ".py",
   "mimetype": "text/x-python",
   "name": "python",
   "nbconvert_exporter": "python",
   "pygments_lexer": "ipython3",
   "version": "3.8.5"
  },
  "orig_nbformat": 4,
  "vscode": {
   "interpreter": {
    "hash": "b1061245a22b17b19b85cf003e8b8bfcc4cdf8dbb1d6518b2fde69d455e71cf5"
   }
  }
 },
 "nbformat": 4,
 "nbformat_minor": 2
}
