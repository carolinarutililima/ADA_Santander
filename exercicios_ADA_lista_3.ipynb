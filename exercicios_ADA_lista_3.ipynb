{
 "cells": [
  {
   "cell_type": "markdown",
   "metadata": {},
   "source": [
    "Número Primo\n",
    "Os números primos são números com uma característica especial: um número primo só é divisível por ele mesmo ou pelo número 1. O objetivo deste exercício será criar a função verifica_primo, onde a entrada será uma lista de números inteiros, e a função deve verificar desta lista quais números são primos ou não. A saída da função deve ser uma lista que terá apenas os números que são primos; e caso não haja nenhum, a lista deve conter o único elemento 0 - ou seja, deve ser retornado [0]."
   ]
  },
  {
   "cell_type": "code",
   "execution_count": 1,
   "metadata": {},
   "outputs": [],
   "source": [
    "def verifica_primo(nums):\n",
    "\tpass"
   ]
  },
  {
   "cell_type": "markdown",
   "metadata": {},
   "source": [
    "Escalonamento MinMaxScaler\n",
    "Um segundo método muito utilizado para reescalar um conjunto de dados é o MinMaxScaler, que altera a escala de um conjunto de dados para um intervalo determinado, a partir dos valores máximos e mínimos do conjunto de dados original. O objetivo deste exercício será desenvolver uma função chamada minmaxscaler que irá receber como entrada um conjunto de dados e de saída será uma lista com os valores na nova escala seguindo a função y = (x - min)/max-min. Neste caso, os dados estarão escalados entre 0 e 1. Importante: arredonde para 4 casas decimais."
   ]
  },
  {
   "cell_type": "code",
   "execution_count": 2,
   "metadata": {},
   "outputs": [],
   "source": [
    "def minmaxscaler(data):\n",
    "\tpass"
   ]
  },
  {
   "cell_type": "markdown",
   "metadata": {},
   "source": [
    "Matching entre Vetores\n",
    "No contexto de Machine Learning, um processo bem comum é de comparar respostas entre vetores (listas de valores) para entender o quão assertivo foi um determinado modelo. Dado este contexto, desenvolva a função vector_matching que verifica os elementos de mesma posição desses vetores, checando se eles são iguais ou diferentes. Para esta função têm-se como entrada dois vetores de dimensões iguais preenchidos com 0 ou 1; e a saída da função será o percentual de valores concordantes entre os dois vetores (arredonde o percentual para 1 casa decimal). Esta métrica é denominada acurácia.\n",
    "\n",
    "Obs.: Importante explicitar a saída como um valor float, ou seja, utilize o float()."
   ]
  },
  {
   "cell_type": "code",
   "execution_count": 3,
   "metadata": {},
   "outputs": [],
   "source": [
    "def vector_matching(v1, v2):\n",
    "\tpass"
   ]
  },
  {
   "cell_type": "markdown",
   "metadata": {},
   "source": [
    "Conversão de Número para Binário\n",
    "O Sistema binário é uma representação da matemática onde a base de referência para a construção dos números é o 2 ao invés do 10 comum na base decimal. Por exemplo, o binário 1001 na base decimal será igual a 1001 = 1*2^3 + 0*2^2 + 0*2^1 + 1*2^0 = 9. O objetivo deste exercício é desenvolver uma função nomeada como conversor_numero, que irá receber um valor númerico inteiro na base decimal e converter este valor para a base binária, que deve ser retornado na forma de string. Por exemplo, se a função receber o número inteiro 9 como input, deve retornar a string '1001'."
   ]
  },
  {
   "cell_type": "code",
   "execution_count": 4,
   "metadata": {},
   "outputs": [],
   "source": [
    "def conversor_numero(num):\n",
    "\tpass"
   ]
  },
  {
   "cell_type": "markdown",
   "metadata": {},
   "source": [
    "Normalização ou Z-Score\n",
    "A normalização é uma ferramenta muito importante da estatística que transforma (reescala) um conjunto de dados de modo a fazer com que a distribuição transformada tenha média zero e desvio padrão 1. O processo de normalização se dá a partir do cálculo do chamado z-score. O objetivo deste exercício será desenvolver a função z_score, que recebe uma lista de entrada com um conjunto de dados quaisquer, e retorna a lista com os respectivos Z-Scores dos dados, seguindo a função z= x−μ, onde \n",
    "\n",
    "μ é a média do conjunto de dados e \n",
    "σ é o desvio padrão do mesmo. Importante: arredonde os valores para 4 casas decimais."
   ]
  },
  {
   "cell_type": "code",
   "execution_count": 5,
   "metadata": {},
   "outputs": [],
   "source": [
    "def z_score(data):\n",
    "\tpass"
   ]
  },
  {
   "cell_type": "markdown",
   "metadata": {},
   "source": [
    "Verificador de Aprovação\n",
    "Um professor de programação ao longo do curso passou diversas atividades para entregar valendo nota (10 atividades), além de contabilizar as frequências dos alunos ao longo de 25 aulas. Como são muitos alunos para avaliar, foi sugerida uma ferramenta que auxilie nestes fechamentos de notas. Para isto, desenvolva a função verifica_aprovacao, que receberá como entrada um lista com 11 elementos, onde os 10 primeiros são as notas dos alunos e o último é a quantidade de aulas que o aluno compareceu. A função deve devolver como saída se o aluno está Aprovado ou Reprovado, sendo que como critério de aprovação o aluno deve ter média maior ou igual a \n",
    "6.0\n",
    "6.0; e presença maior ou igual a 70%."
   ]
  },
  {
   "cell_type": "code",
   "execution_count": 6,
   "metadata": {},
   "outputs": [],
   "source": [
    "def verifica_aprovacao(notas_freq):\n",
    "\tpass"
   ]
  },
  {
   "cell_type": "markdown",
   "metadata": {},
   "source": [
    "Regressao linear simples"
   ]
  },
  {
   "cell_type": "code",
   "execution_count": 7,
   "metadata": {},
   "outputs": [],
   "source": [
    "def linreg(x, y):\n",
    "\tpass"
   ]
  },
  {
   "cell_type": "markdown",
   "metadata": {},
   "source": [
    "Tradução de DNA para RNA\n",
    "O DNA, molécula que armazena o código genético de seres vivos; e o RNA, molécula que atua sobretudo no processo de síntese proteica, são compostas, dentre outras coisas, pelas bases nitrogenadas Adenina (A), Guanina (G), Citosina (C), Timina (T) e Uracila (U). Na cadeia do DNA temos as bases A,G,C,T; e no RNA as bases A,G,C,U. No processo de transcrição de DNA para RNA, a Timina (T) é substituída pela Uracila (U). O objetivo deste exercício será desenvolver uma função que deve ser chamada de tradutor_dna_to_rna onde como entrada irá receber uma string com o código do DNA e deve devolver o código traduzido para RNA."
   ]
  },
  {
   "cell_type": "code",
   "execution_count": 8,
   "metadata": {},
   "outputs": [],
   "source": [
    "def tradutor_dna_to_rna(dna):\n",
    "\tpass"
   ]
  }
 ],
 "metadata": {
  "kernelspec": {
   "display_name": "Python 3",
   "language": "python",
   "name": "python3"
  },
  "language_info": {
   "codemirror_mode": {
    "name": "ipython",
    "version": 3
   },
   "file_extension": ".py",
   "mimetype": "text/x-python",
   "name": "python",
   "nbconvert_exporter": "python",
   "pygments_lexer": "ipython3",
   "version": "3.11.8"
  }
 },
 "nbformat": 4,
 "nbformat_minor": 2
}
