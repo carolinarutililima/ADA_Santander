{
  "nbformat": 4,
  "nbformat_minor": 0,
  "metadata": {
    "colab": {
      "provenance": []
    },
    "kernelspec": {
      "name": "python3",
      "display_name": "Python 3"
    },
    "language_info": {
      "name": "python"
    }
  },
  "cells": [
    {
      "cell_type": "markdown",
      "source": [
        "# Regressão Logística"
      ],
      "metadata": {
        "id": "_BI9hA3bJGyK"
      }
    },
    {
      "cell_type": "markdown",
      "source": [
        "## Conceito\n",
        "\n",
        "A regressão logística é um modelo matemático usado para determinar a probabilidade de um evento ocorrer apresentando a relação entre recursos e calculando a probabilidade de um determinado resultado.\n",
        "\n",
        "Apesar do termo regressão, a regressão logística se propõe a fazer uma classificação. Desta maneira, por conhecermos a variável dependente, a regressão logística se encaixa como um tipo de aprendizado supervisionado.\n",
        "\n",
        "Ela pode ser expressa pela relação matemática: $$ Y = \\left ( \\frac{1}{1 + e-^{\\left ( a + bx \\right )}} \\right )$$\n",
        "\n",
        "Vale destacar que o trecho dentro dos parênteses: $$ a+bc $$\n",
        "\n",
        "remete a regressão linear que é utilizada para encontrar um padrão em dados contínuos, porém é a expressão utilizada na relação matemática da regressão logística para formar a curva “S” em que os dados são classificados.\n",
        "\n",
        "Como requisito para aplicar a regressão logística, a variável dependente (alvo) obrigatoriamente precisa ser categórica. Por sua vez, as variáveis explicativas (características) devem ser independentes entre si para evitar multicolinearidade.\n"
      ],
      "metadata": {
        "id": "ikdD1zWfJIY8"
      }
    },
    {
      "cell_type": "markdown",
      "source": [
        "## Função Logística\n",
        "\n",
        "A regressão logística pode ser expressa como: $$ log \\left ( \\frac{p(x)}{1-p(x)} \\right ) = \\beta  + \\beta _{1}x $$\n",
        "\n",
        "Em que, o lado esquerdo é chamado de função logit ou logit-odds e, $$ \\left ( \\frac{p(x)}{1-p(x)} \\right ) $$\n",
        "\n",
        " é chamado de odds.\n",
        "\n",
        "As probabilidades significam a razão entre a probabilidade de sucesso e a probabilidade de fracasso. Portanto, na regressão logística, a combinação linear de entradas é mapeada para o log(odds), em que a saída é igual a 1.\n",
        "\n",
        "Se fizermos a inversão da função acima, obtemos:\n",
        "\n",
        "$$ P (x) = \\frac{e^{\\beta}o + \\beta _{1}x}{1+e^{\\beta }o + \\beta x} $$\n",
        "\n",
        "\n",
        "Esta relação matemática é conhecida como a função sigmoide e fornece uma curva em forma de S atribuindo um valor de probabilidade variando de:\n",
        "\n",
        "$$ 0 < p < 1 $$\n",
        "\n",
        "A curva sigmoide ou função logística é a função matemática da regressão logística que representa a transição de estados entre 0 e 1. A partir desta curva, podem ser observadas as probabilidades envolvidas de cada ponto composto na curva S.\n",
        "\n",
        "De acordo com o valor de corte estabelecido para a curva S, a probabilidade é transformada em um valor absoluto no qual permite classificar nosso resultado.\n",
        "\n",
        "Por exemplo, se o valor de corte para a curva S for 0.5, probabilidades menores do que 0.5 geram o valor absoluto 0 em que a função não é ativada e probabilidades maiores ou iguais a 0.5 geram o valor absoluto 1, ativando a função do nosso classificador.\n",
        "\n",
        "Abaixo, através da Figura 1 - Função Sigmoid, é possível visualizar a função sigmoid considerando o exemplo compartilhado.\n",
        "\n",
        "![Figura 1 – Função Sigmoid](https://s3-sa-east-1.amazonaws.com/lcpi/f72610b2-922c-4bb9-99d4-a9fdb372097c.jpg)  \n",
        "**Figura 1** – Função Sigmoid\n",
        "\n",
        "Geometricamente, a probabilidade envolvida pela regressão logística indica o quão distante o exemplo está do hiperplano. O hiperplano é um separador linear. Separadores lineares além de serem representados por hiperplanos, também podem ser representados por retas ou planos.\n",
        "\n",
        "Abaixo, através da Figura 2 – Hiperplano (Separador Linear), é possível verificar um exemplo em que temos uma superfície de decisão de uma regressão logística com dois atributos onde podemos visualizar o hiperplano estabelecendo a separação linear.\n",
        "\n",
        "![Figura 2 – Hiperplano (Separador Linear)](https://s3-sa-east-1.amazonaws.com/lcpi/830716c2-fae3-4893-bc49-d38783b9028b.jpg)  \n",
        "**Figura 2** – Hiperplano (Separador Linear)"
      ],
      "metadata": {
        "id": "lJQgZ2XBJKu0"
      }
    },
    {
      "cell_type": "markdown",
      "source": [
        "## Tipos da regressão logística\n",
        "\n",
        "Existem três tipos básicos de regressão logística, são elas:\n",
        "\n",
        "* **Regressão logística binomial:** É quando a variável dependente pode assumir apenas dois valores como resultado. Por exemplo: verdadeiro ou falso; 0 ou 1; positivo ou negativo.\n",
        "\n",
        "* **Regressão logística multinomial:**  É quando a variável dependente pode assumir três ou mais valores não tendo uma relação de ordem entre os mesmos. Por exemplo, se quiséssemos classificar a previsão do tempo, poderíamos classificar entre ensolarado, nublado ou chuvoso com bases na análise de padrões das variáveis independentes. Outro exemplo poderia ser identificar qual tipo de prato que os clientes de um determinado restaurante preferem, assim, poderíamos classificar os pratos entre carne, vegano ou vegetariano.\n",
        "\n",
        "* **Regressão logística ordinal:** Semelhante a regressão multinomial, podendo haver três ou mais valores. No entanto, neste tipo há uma ordem que as medições seguem. Um bom exemplo poderia ser classificar um hotel dentro de uma escala de 1 a 5 estrelas.\n",
        "\n",
        "## Campos de Aplicação\n",
        "\n",
        "Existem diversos campos de aplicação onde a regressão logística pode ser utilizada, abaixo compartilho alguns exemplos:\n",
        "\n",
        "* **Comércio eletrônico:** A regressão logística é utilizada neste campo para validar a eficácia de campanhas publicitárias e promocionais. Desta maneira, com base nos resultados obtidos pela previsão da regressão logística, as empresas podem otimizar estratégias e atingir metas de negócio com redução de despesas e perdas.\n",
        "\n",
        "* **Saúde:** Pode ser aplicada na saúde para prever a possibilidade de um determinado paciente desenvolver uma doença ou não. Por exemplo, doenças cardíacas podem ser previstas com base em variáveis como peso, altura, sexo, idade e outros fatores genéticos.\n",
        "\n",
        "* **Setor financeiro:** Fortemente utilizada em linhas de crédito. Como por exemplo, para identificar a inadimplência de um cliente, a emissão ou não de um cartão crédito e identificar a probabilidade de um cliente pagar suas despesas. Ainda, a regressão logística pode ser utilizada para saber as características de um produto financeiro e se o mesmo pode ser ofertado para um determinado cliente.\n",
        "\n",
        "* **Teste de produto:** A aplicação neste campo é comumente utilizada para testar o sucesso ou falha de produtos. Com base nas características (variáveis) do protótipo pode ser identificado se ele funcionará de maneira satisfatória em cenários de uso do produto, como também avaliar a qualidade de funcionalidades dele.   \n",
        "\n",
        "* **Política:** Pode ser aplicada para prever o resultado eleitoral. É um tipo classificação oferecido pela regressão logística que considera padrões de eleições passadas com variáveis atuais do candidato como partido, idade, sexo, propostas sociais e ambientais, local ou endereço residencial e outras para criar a previsão de voto.\n",
        "\n",
        "* **_Marketing_:** A regressão logística pode ser utilizada para identificar o potencial de interesse do cliente em uma nova linha de produtos, taxa de conversão de venda, aderência de assinaturas ou cancelamento dela. Além disso, a regressão logística ajuda a maximizar o retorno sobre o investimento (ROI) em campanhas de _marketing_, um benefício para os resultados financeiros no longo prazo para as empresas."
      ],
      "metadata": {
        "id": "r7zw0O_JJNoL"
      }
    },
    {
      "cell_type": "markdown",
      "source": [
        "## Principais Vantagens e Desvantagens\n",
        "\n",
        "Vantagens\n",
        "\n",
        "* Simples e eficiente.\n",
        "* Baixa variação.\n",
        "* Não é muito sensitiva a _outliers_.\n",
        "* Fornece pontuação de probabilidade para observações.\n",
        "\n",
        "Desvantagens\n",
        "* Não lida bem com muitas características/variáveis categóricas.\n",
        "* Requer transformação de recursos não lineares."
      ],
      "metadata": {
        "id": "oVgkB6AKJPVC"
      }
    },
    {
      "cell_type": "markdown",
      "source": [
        "## Aplicação Prática\n",
        "\n",
        "Através do link abaixo, pode ser feito o download do(s) script(s) python criado(s) para exemplificar uma abordagem do uso prático da regressão logística como também o(s) respectivo(s) conjunto(s) de dados utilizados.\n",
        "\n",
        "[Script Python](https://s3-sa-east-1.amazonaws.com/lcpi/a397cfbb-806b-4119-ba03-eefab2fc55e3.ipynb)  \n",
        "[Dataset 1](https://s3-sa-east-1.amazonaws.com/lcpi/e4cdf6c8-c613-480c-8989-f1c3fd053123.csv)  \n",
        "[Dataset 2](https://s3-sa-east-1.amazonaws.com/lcpi/af4b01aa-2cdc-486a-8c41-b4a3cafe3849.csv)  "
      ],
      "metadata": {
        "id": "uIIhbGk9JQpJ"
      }
    },
    {
      "cell_type": "code",
      "source": [
        "## Let's Code - Regressão Logística\n",
        "\n",
        "#### Carregando as bibliotecas\n",
        "import pandas as pd\n",
        "import matplotlib.pyplot as plt\n",
        "import numpy as np\n",
        "from sklearn.linear_model import LogisticRegression\n",
        "# esta linha permite ver os gráficos sem precisar chamar a função \"show()\"\n",
        "%matplotlib inline\n",
        "\n",
        "#### Carregando dos dados\n",
        "df = pd.read_csv('eleicao.csv', sep = ';')\n",
        "plt.scatter(df.DESPESAS, df.SITUACAO)\n",
        "df.describe()\n",
        "\n",
        "#### Verificação da correlação entre variáveis\n",
        "coerr = np.corrcoef(df.DESPESAS, df.SITUACAO)\n",
        "coerr\n",
        "\n",
        "#### Segregando dataset df entre variáveis dependentes e independentes\n",
        "X = df.iloc[:, 2].values\n",
        "X = X[:, np.newaxis]\n",
        "y = df.iloc[:, 1].values\n",
        "\n",
        "#### Criaçáo do modelo\n",
        "modelo = LogisticRegression()\n",
        "modelo.fit(X, y)\n",
        "modelo.coef_\n",
        "modelo.intercept_\n",
        "\n",
        "#### Apresentação dos resultados\n",
        "plt.scatter(X, y)\n",
        "# Geração de novos dados para gerar a função sigmoide\n",
        "X_teste = np.linspace(10, 3000, 100)\n",
        "# Implementação da função sigmoide\n",
        "def model(x):\n",
        "    return 1 / (1 + np.exp(-x))\n",
        "# Geração de previsões (variável r) e visualização dos resultados\n",
        "r = model(X_teste * modelo.coef_ + modelo.intercept_).ravel()\n",
        "plt.plot(X_teste, r, color = 'red')\n",
        "\n",
        "#### Verificando novos candidatos\n",
        "# Carregamento da base de dados com os novos candidatos\n",
        "df_novos_candidatos = pd.read_csv('novoscandidatos.csv', sep = ';')\n",
        "\n",
        "# Mudança dos dados para formato de matriz\n",
        "despesas = df_novos_candidatos.iloc[:, 1].values\n",
        "despesas = despesas.reshape(-1, 1)\n",
        "\n",
        "# Previsões e geração de nova base de dados com os valores originais e as previsões\n",
        "previsoes_teste = model_LR.predict(despesas)\n",
        "df_novos_candidatos = np.column_stack((df_novos_candidatos, previsoes_teste))\n",
        "df_novos_candidatos"
      ],
      "metadata": {
        "id": "2j8Nv1QIJSom"
      },
      "execution_count": null,
      "outputs": []
    },
    {
      "cell_type": "markdown",
      "source": [
        "## Materiais complementares\n",
        "\n",
        "* Let’s Code channel at Youtube; [O que é classificação e regressão em machine learning?](https://www.youtube.com/watch?v=tvCw48-Xn8Q)\n",
        "* LARA, Evandro de Avila e. Polytomous ordinal _logistic regression_: Assessing the potential of Clonostachys rosea in biocontrol of Botrytis cinerea. 2012. 52 f. Dissertação (Mestrado em Estatística Aplicada e Biometria) - Universidade Federal de Viçosa, Viçosa, 2012.\n",
        "* BATISTA, António Sarmento. Regressão Logística: Uma introdução ao modelo estatístico-Exemplo de aplicação ao Revolving Credit. Vida Econômica Editorial, 2015.\n",
        "* FÁVERO, Luiz Paulo et al. Análise de dados: modelagem multivariada para tomada de decisões. 2009.\n",
        "* GONZALEZ, Leandro de Azevedo. FÁVERO, Luiz Paulo et al. Análise de dados: modelagem multivariada para tomada de decisões. 2009. 2018. Monografia (FÁVERO, Luiz Paulo et al. Análise de dados: modelagem multivariada para tomada de decisões. 2009.) - Universidade Federal do Maranhão, [S. l.], 2018.\n",
        "\n",
        "## Referências\n",
        "\n",
        "* LARA, Evandro de Avila e. Polytomous ordinal _logistic regression_: Assessing the potential of Clonostachys rosea in biocontrol of Botrytis cinerea. 2012. 52 f. Dissertação (Mestrado em Estatística Aplicada e Biometria) - Universidade Federal de Viçosa, Viçosa, 2012.\n",
        "* BATISTA, António Sarmento. Regressão Logística: Uma introdução ao modelo estatístico-Exemplo de aplicação ao Revolving Credit. Vida Econômica Editorial, 2015.\n",
        "* FÁVERO, Luiz Paulo et al. Análise de dados: modelagem multivariada para tomada de decisões. 2009.\n",
        "* GONZALEZ, Leandro de Azevedo. FÁVERO, Luiz Paulo et al. Análise de dados: modelagem multivariada para tomada de decisões. 2009. 2018. Monografia (FÁVERO, Luiz Paulo et al. Análise de dados: modelagem multivariada para tomada de decisões. 2009.) - Universidade Federal do Maranhão, [S. l.], 2018.\n",
        "* Regressão Logistica - USP"
      ],
      "metadata": {
        "id": "jzTfiimNJU5C"
      }
    },
    {
      "cell_type": "code",
      "source": [],
      "metadata": {
        "id": "UQ4BPckrJVCB"
      },
      "execution_count": null,
      "outputs": []
    }
  ]
}