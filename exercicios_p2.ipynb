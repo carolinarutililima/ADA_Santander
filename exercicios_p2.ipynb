{
 "cells": [
  {
   "cell_type": "markdown",
   "metadata": {},
   "source": [
    "Um supermercado deseja analisar o desempenho de vendas de produtos em diferentes regiões. Eles têm o seguinte registro de vendas que contém informações sobre o produto, a quantidade vendida e a região onde foi vendido. Crie um DataFrame com esses dados e filtre-o para mostrar apenas as vendas realizadas na região 'Sudeste'.\n",
    "\n",
    "- **Produto: camisa**<br>\n",
    "100 vendas para a região Sudeste.\n",
    "- **Produto: calça**<br>\n",
    "150 vendas para a região Nordeste.\n",
    "- **Produto: tênis**<br>\n",
    "80 vendas para a região Sudeste.\n",
    "- **Produto: boné**<br>\n",
    "120 vendas para a região Norte.\n",
    "- **Produto: mochila**<br>\n",
    "90 vendas para a região Sudeste."
   ]
  },
  {
   "cell_type": "markdown",
   "metadata": {},
   "source": [
    "Uma empresa de e-commerce está interessada em entender o comportamento de compra dos clientes. Eles têm o seguinte registro de transações que contém informações sobre o valor da compra e o método de pagamento utilizado. Crie um DataFrame com esses dados e calcule estatísticas básicas, como média, mediana, mínimo e máximo para cada coluna.\n",
    "\n",
    "```\n",
    "dados = {\n",
    "    'valor_compra': [100.0, 150.5, 80.3, 120.8, 90.2],\n",
    "    'metodo_pagamento': ['Cartão', 'Boleto', 'Cartão', 'Cartão', 'Boleto']\n",
    "}\n",
    "\n",
    "```"
   ]
  },
  {
   "cell_type": "markdown",
   "metadata": {},
   "source": [
    "Um instituto de pesquisa coletou dados sobre o desempenho acadêmico dos alunos em diferentes disciplinas. Eles têm um registro de notas dos alunos que contém informações sobre o nome do aluno, a disciplina, a nota obtida e o nível de dificuldade da disciplina. Crie um DataFrame com esses dados e agrupe-o por disciplina para calcular a média das notas obtidas pelos alunos. Em seguida, crie uma nova coluna que indique se a nota do aluno está acima ou abaixo da média da disciplina (tente usar a função apply).\n",
    "\n",
    "```\n",
    "dados = {\n",
    "    'aluno': ['Ana', 'João', 'Maria', 'Pedro', 'Carla'],\n",
    "    'disciplina': ['Matemática', 'Português', 'Matemática', 'Português', 'Ciências'],\n",
    "    'nota': [8, 7, 6, 9, 8],\n",
    "    'dificuldade': ['Alta', 'Baixa', 'Alta', 'Baixa', 'Média']\n",
    "}\n",
    "```"
   ]
  },
  {
   "cell_type": "markdown",
   "metadata": {},
   "source": []
  }
 ],
 "metadata": {
  "language_info": {
   "name": "python"
  }
 },
 "nbformat": 4,
 "nbformat_minor": 2
}
