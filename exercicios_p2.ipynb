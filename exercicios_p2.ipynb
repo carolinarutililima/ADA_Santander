{
 "cells": [
  {
   "cell_type": "markdown",
   "metadata": {},
   "source": [
    "Um supermercado deseja analisar o desempenho de vendas de produtos em diferentes regiões. Eles têm o seguinte registro de vendas que contém informações sobre o produto, a quantidade vendida e a região onde foi vendido. Crie um DataFrame com esses dados e filtre-o para mostrar apenas as vendas realizadas na região 'Sudeste'.\n",
    "\n",
    "- **Produto: camisa**<br>\n",
    "100 vendas para a região Sudeste.\n",
    "- **Produto: calça**<br>\n",
    "150 vendas para a região Nordeste.\n",
    "- **Produto: tênis**<br>\n",
    "80 vendas para a região Sudeste.\n",
    "- **Produto: boné**<br>\n",
    "120 vendas para a região Norte.\n",
    "- **Produto: mochila**<br>\n",
    "90 vendas para a região Sudeste."
   ]
  },
  {
   "cell_type": "code",
   "execution_count": 8,
   "metadata": {},
   "outputs": [
    {
     "name": "stdout",
     "output_type": "stream",
     "text": [
      "   Produto   Regiao  Quantidade\n",
      "0   camisa  Sudeste         100\n",
      "2    tenis  Sudeste          80\n",
      "4  mochila  Sudeste          90\n"
     ]
    }
   ],
   "source": [
    "import pandas as pd\n",
    "data = [\n",
    "    ['camisa', 'Sudeste', 100],\n",
    "    ['calca', 'Nordeste', 150],\n",
    "    ['tenis', 'Sudeste', 80],\n",
    "    ['bone', 'Norte', 120],\n",
    "    ['mochila', 'Sudeste', 90]\n",
    "]\n",
    "\n",
    "columns = ['Produto', 'Regiao', 'Quantidade']\n",
    "df = pd.DataFrame(data, columns=columns)\n",
    "\n",
    "sudeste_df = df[df['Regiao'] == 'Sudeste']\n",
    "print(sudeste_df)\n"
   ]
  },
  {
   "cell_type": "markdown",
   "metadata": {},
   "source": [
    "Uma empresa de e-commerce está interessada em entender o comportamento de compra dos clientes. Eles têm o seguinte registro de transações que contém informações sobre o valor da compra e o método de pagamento utilizado. Crie um DataFrame com esses dados e calcule estatísticas básicas, como média, mediana, mínimo e máximo para cada coluna.\n",
    "\n",
    "```\n",
    "dados = {\n",
    "    'valor_compra': [100.0, 150.5, 80.3, 120.8, 90.2],\n",
    "    'metodo_pagamento': ['Cartão', 'Boleto', 'Cartão', 'Cartão', 'Boleto']\n",
    "}\n",
    "\n",
    "```"
   ]
  },
  {
   "cell_type": "code",
   "execution_count": 14,
   "metadata": {},
   "outputs": [
    {
     "data": {
      "text/html": [
       "<div>\n",
       "<style scoped>\n",
       "    .dataframe tbody tr th:only-of-type {\n",
       "        vertical-align: middle;\n",
       "    }\n",
       "\n",
       "    .dataframe tbody tr th {\n",
       "        vertical-align: top;\n",
       "    }\n",
       "\n",
       "    .dataframe thead th {\n",
       "        text-align: right;\n",
       "    }\n",
       "</style>\n",
       "<table border=\"1\" class=\"dataframe\">\n",
       "  <thead>\n",
       "    <tr style=\"text-align: right;\">\n",
       "      <th></th>\n",
       "      <th>valor_compra</th>\n",
       "      <th>metodo_pagamento</th>\n",
       "    </tr>\n",
       "  </thead>\n",
       "  <tbody>\n",
       "    <tr>\n",
       "      <th>0</th>\n",
       "      <td>100.0</td>\n",
       "      <td>Cartão</td>\n",
       "    </tr>\n",
       "    <tr>\n",
       "      <th>1</th>\n",
       "      <td>150.5</td>\n",
       "      <td>Boleto</td>\n",
       "    </tr>\n",
       "    <tr>\n",
       "      <th>2</th>\n",
       "      <td>80.3</td>\n",
       "      <td>Cartão</td>\n",
       "    </tr>\n",
       "    <tr>\n",
       "      <th>3</th>\n",
       "      <td>120.8</td>\n",
       "      <td>Cartão</td>\n",
       "    </tr>\n",
       "    <tr>\n",
       "      <th>4</th>\n",
       "      <td>90.2</td>\n",
       "      <td>Boleto</td>\n",
       "    </tr>\n",
       "  </tbody>\n",
       "</table>\n",
       "</div>"
      ],
      "text/plain": [
       "   valor_compra metodo_pagamento\n",
       "0         100.0           Cartão\n",
       "1         150.5           Boleto\n",
       "2          80.3           Cartão\n",
       "3         120.8           Cartão\n",
       "4          90.2           Boleto"
      ]
     },
     "execution_count": 14,
     "metadata": {},
     "output_type": "execute_result"
    }
   ],
   "source": [
    "dados = {\n",
    "    'valor_compra': [100.0, 150.5, 80.3, 120.8, 90.2],\n",
    "    'metodo_pagamento': ['Cartão', 'Boleto', 'Cartão', 'Cartão', 'Boleto']\n",
    "}\n",
    "\n",
    "df = pd.DataFrame(dados)\n",
    "df"
   ]
  },
  {
   "cell_type": "code",
   "execution_count": 15,
   "metadata": {},
   "outputs": [
    {
     "data": {
      "text/plain": [
       "108.36000000000001"
      ]
     },
     "execution_count": 15,
     "metadata": {},
     "output_type": "execute_result"
    }
   ],
   "source": [
    "df['valor_compra'].mean()"
   ]
  },
  {
   "cell_type": "code",
   "execution_count": 16,
   "metadata": {},
   "outputs": [
    {
     "data": {
      "text/plain": [
       "100.0"
      ]
     },
     "execution_count": 16,
     "metadata": {},
     "output_type": "execute_result"
    }
   ],
   "source": [
    "df['valor_compra'].median()"
   ]
  },
  {
   "cell_type": "code",
   "execution_count": 17,
   "metadata": {},
   "outputs": [
    {
     "data": {
      "text/plain": [
       "80.3"
      ]
     },
     "execution_count": 17,
     "metadata": {},
     "output_type": "execute_result"
    }
   ],
   "source": [
    "df['valor_compra'].min()"
   ]
  },
  {
   "cell_type": "code",
   "execution_count": 18,
   "metadata": {},
   "outputs": [
    {
     "data": {
      "text/plain": [
       "150.5"
      ]
     },
     "execution_count": 18,
     "metadata": {},
     "output_type": "execute_result"
    }
   ],
   "source": [
    "df['valor_compra'].max()"
   ]
  },
  {
   "cell_type": "markdown",
   "metadata": {},
   "source": [
    "Um instituto de pesquisa coletou dados sobre o desempenho acadêmico dos alunos em diferentes disciplinas. Eles têm um registro de notas dos alunos que contém informações sobre o nome do aluno, a disciplina, a nota obtida e o nível de dificuldade da disciplina. Crie um DataFrame com esses dados e agrupe-o por disciplina para calcular a média das notas obtidas pelos alunos. Em seguida, crie uma nova coluna que indique se a nota do aluno está acima ou abaixo da média da disciplina (tente usar a função apply).\n",
    "\n",
    "```\n",
    "dados = {\n",
    "    'aluno': ['Ana', 'João', 'Maria', 'Pedro', 'Carla'],\n",
    "    'disciplina': ['Matemática', 'Português', 'Matemática', 'Português', 'Ciências'],\n",
    "    'nota': [8, 7, 6, 9, 8],\n",
    "    'dificuldade': ['Alta', 'Baixa', 'Alta', 'Baixa', 'Média']\n",
    "}\n",
    "```"
   ]
  },
  {
   "cell_type": "code",
   "execution_count": 34,
   "metadata": {},
   "outputs": [
    {
     "data": {
      "text/html": [
       "<div>\n",
       "<style scoped>\n",
       "    .dataframe tbody tr th:only-of-type {\n",
       "        vertical-align: middle;\n",
       "    }\n",
       "\n",
       "    .dataframe tbody tr th {\n",
       "        vertical-align: top;\n",
       "    }\n",
       "\n",
       "    .dataframe thead th {\n",
       "        text-align: right;\n",
       "    }\n",
       "</style>\n",
       "<table border=\"1\" class=\"dataframe\">\n",
       "  <thead>\n",
       "    <tr style=\"text-align: right;\">\n",
       "      <th></th>\n",
       "      <th>aluno</th>\n",
       "      <th>disciplina</th>\n",
       "      <th>nota</th>\n",
       "      <th>dificuldade</th>\n",
       "    </tr>\n",
       "  </thead>\n",
       "  <tbody>\n",
       "    <tr>\n",
       "      <th>0</th>\n",
       "      <td>Ana</td>\n",
       "      <td>Matemática</td>\n",
       "      <td>8</td>\n",
       "      <td>Alta</td>\n",
       "    </tr>\n",
       "    <tr>\n",
       "      <th>1</th>\n",
       "      <td>João</td>\n",
       "      <td>Português</td>\n",
       "      <td>7</td>\n",
       "      <td>Baixa</td>\n",
       "    </tr>\n",
       "    <tr>\n",
       "      <th>2</th>\n",
       "      <td>Maria</td>\n",
       "      <td>Matemática</td>\n",
       "      <td>6</td>\n",
       "      <td>Alta</td>\n",
       "    </tr>\n",
       "    <tr>\n",
       "      <th>3</th>\n",
       "      <td>Pedro</td>\n",
       "      <td>Português</td>\n",
       "      <td>9</td>\n",
       "      <td>Baixa</td>\n",
       "    </tr>\n",
       "    <tr>\n",
       "      <th>4</th>\n",
       "      <td>Carla</td>\n",
       "      <td>Ciências</td>\n",
       "      <td>8</td>\n",
       "      <td>Média</td>\n",
       "    </tr>\n",
       "  </tbody>\n",
       "</table>\n",
       "</div>"
      ],
      "text/plain": [
       "   aluno  disciplina  nota dificuldade\n",
       "0    Ana  Matemática     8        Alta\n",
       "1   João   Português     7       Baixa\n",
       "2  Maria  Matemática     6        Alta\n",
       "3  Pedro   Português     9       Baixa\n",
       "4  Carla    Ciências     8       Média"
      ]
     },
     "execution_count": 34,
     "metadata": {},
     "output_type": "execute_result"
    }
   ],
   "source": [
    "dados = {\n",
    "    'aluno': ['Ana', 'João', 'Maria', 'Pedro', 'Carla'],\n",
    "    'disciplina': ['Matemática', 'Português', 'Matemática', 'Português', 'Ciências'],\n",
    "    'nota': [8, 7, 6, 9, 8],\n",
    "    'dificuldade': ['Alta', 'Baixa', 'Alta', 'Baixa', 'Média']\n",
    "}\n",
    "\n",
    "df = pd.DataFrame(dados)\n",
    "df"
   ]
  },
  {
   "cell_type": "code",
   "execution_count": 35,
   "metadata": {},
   "outputs": [
    {
     "data": {
      "text/html": [
       "<div>\n",
       "<style scoped>\n",
       "    .dataframe tbody tr th:only-of-type {\n",
       "        vertical-align: middle;\n",
       "    }\n",
       "\n",
       "    .dataframe tbody tr th {\n",
       "        vertical-align: top;\n",
       "    }\n",
       "\n",
       "    .dataframe thead th {\n",
       "        text-align: right;\n",
       "    }\n",
       "</style>\n",
       "<table border=\"1\" class=\"dataframe\">\n",
       "  <thead>\n",
       "    <tr style=\"text-align: right;\">\n",
       "      <th></th>\n",
       "      <th>aluno</th>\n",
       "      <th>disciplina</th>\n",
       "      <th>nota</th>\n",
       "      <th>dificuldade</th>\n",
       "    </tr>\n",
       "  </thead>\n",
       "  <tbody>\n",
       "    <tr>\n",
       "      <th>0</th>\n",
       "      <td>Ana</td>\n",
       "      <td>Matemática</td>\n",
       "      <td>8</td>\n",
       "      <td>Alta</td>\n",
       "    </tr>\n",
       "    <tr>\n",
       "      <th>2</th>\n",
       "      <td>Maria</td>\n",
       "      <td>Matemática</td>\n",
       "      <td>6</td>\n",
       "      <td>Alta</td>\n",
       "    </tr>\n",
       "  </tbody>\n",
       "</table>\n",
       "</div>"
      ],
      "text/plain": [
       "   aluno  disciplina  nota dificuldade\n",
       "0    Ana  Matemática     8        Alta\n",
       "2  Maria  Matemática     6        Alta"
      ]
     },
     "execution_count": 35,
     "metadata": {},
     "output_type": "execute_result"
    }
   ],
   "source": [
    "matematica_df = df[df['disciplina'] == 'Matemática']\n",
    "mate_mean= matematica_df['nota'].mean()\n",
    "matematica_df\n"
   ]
  },
  {
   "cell_type": "code",
   "execution_count": 37,
   "metadata": {},
   "outputs": [
    {
     "name": "stderr",
     "output_type": "stream",
     "text": [
      "C:\\Users\\Drac3\\AppData\\Local\\Temp\\ipykernel_23036\\2451435041.py:2: SettingWithCopyWarning: \n",
      "A value is trying to be set on a copy of a slice from a DataFrame.\n",
      "Try using .loc[row_indexer,col_indexer] = value instead\n",
      "\n",
      "See the caveats in the documentation: https://pandas.pydata.org/pandas-docs/stable/user_guide/indexing.html#returning-a-view-versus-a-copy\n",
      "  matematica_df['acima_da_media'] = matematica_df['nota'] > mate_mean\n"
     ]
    },
    {
     "data": {
      "text/html": [
       "<div>\n",
       "<style scoped>\n",
       "    .dataframe tbody tr th:only-of-type {\n",
       "        vertical-align: middle;\n",
       "    }\n",
       "\n",
       "    .dataframe tbody tr th {\n",
       "        vertical-align: top;\n",
       "    }\n",
       "\n",
       "    .dataframe thead th {\n",
       "        text-align: right;\n",
       "    }\n",
       "</style>\n",
       "<table border=\"1\" class=\"dataframe\">\n",
       "  <thead>\n",
       "    <tr style=\"text-align: right;\">\n",
       "      <th></th>\n",
       "      <th>aluno</th>\n",
       "      <th>disciplina</th>\n",
       "      <th>nota</th>\n",
       "      <th>dificuldade</th>\n",
       "      <th>acima_da_media</th>\n",
       "    </tr>\n",
       "  </thead>\n",
       "  <tbody>\n",
       "    <tr>\n",
       "      <th>0</th>\n",
       "      <td>Ana</td>\n",
       "      <td>Matemática</td>\n",
       "      <td>8</td>\n",
       "      <td>Alta</td>\n",
       "      <td>True</td>\n",
       "    </tr>\n",
       "    <tr>\n",
       "      <th>2</th>\n",
       "      <td>Maria</td>\n",
       "      <td>Matemática</td>\n",
       "      <td>6</td>\n",
       "      <td>Alta</td>\n",
       "      <td>False</td>\n",
       "    </tr>\n",
       "  </tbody>\n",
       "</table>\n",
       "</div>"
      ],
      "text/plain": [
       "   aluno  disciplina  nota dificuldade  acima_da_media\n",
       "0    Ana  Matemática     8        Alta            True\n",
       "2  Maria  Matemática     6        Alta           False"
      ]
     },
     "execution_count": 37,
     "metadata": {},
     "output_type": "execute_result"
    }
   ],
   "source": [
    "# Adição da nova coluna indicando se a nota está acima ou abaixo da média da disciplina\n",
    "matematica_df['acima_da_media'] = matematica_df['nota'] > mate_mean\n",
    "matematica_df"
   ]
  },
  {
   "cell_type": "code",
   "execution_count": 25,
   "metadata": {},
   "outputs": [
    {
     "data": {
      "text/plain": [
       "8.0"
      ]
     },
     "execution_count": 25,
     "metadata": {},
     "output_type": "execute_result"
    }
   ],
   "source": [
    "port_df = df[df['disciplina'] == 'Português']\n",
    "port_mean= port_df['nota'].mean()\n",
    "port_df"
   ]
  },
  {
   "cell_type": "code",
   "execution_count": 38,
   "metadata": {},
   "outputs": [
    {
     "name": "stderr",
     "output_type": "stream",
     "text": [
      "C:\\Users\\Drac3\\AppData\\Local\\Temp\\ipykernel_23036\\3529160121.py:1: SettingWithCopyWarning: \n",
      "A value is trying to be set on a copy of a slice from a DataFrame.\n",
      "Try using .loc[row_indexer,col_indexer] = value instead\n",
      "\n",
      "See the caveats in the documentation: https://pandas.pydata.org/pandas-docs/stable/user_guide/indexing.html#returning-a-view-versus-a-copy\n",
      "  port_df['acima_da_media'] = port_df['nota'] > port_mean\n"
     ]
    },
    {
     "data": {
      "text/html": [
       "<div>\n",
       "<style scoped>\n",
       "    .dataframe tbody tr th:only-of-type {\n",
       "        vertical-align: middle;\n",
       "    }\n",
       "\n",
       "    .dataframe tbody tr th {\n",
       "        vertical-align: top;\n",
       "    }\n",
       "\n",
       "    .dataframe thead th {\n",
       "        text-align: right;\n",
       "    }\n",
       "</style>\n",
       "<table border=\"1\" class=\"dataframe\">\n",
       "  <thead>\n",
       "    <tr style=\"text-align: right;\">\n",
       "      <th></th>\n",
       "      <th>aluno</th>\n",
       "      <th>disciplina</th>\n",
       "      <th>nota</th>\n",
       "      <th>dificuldade</th>\n",
       "      <th>acima_da_media</th>\n",
       "    </tr>\n",
       "  </thead>\n",
       "  <tbody>\n",
       "    <tr>\n",
       "      <th>1</th>\n",
       "      <td>João</td>\n",
       "      <td>Português</td>\n",
       "      <td>7</td>\n",
       "      <td>Baixa</td>\n",
       "      <td>False</td>\n",
       "    </tr>\n",
       "    <tr>\n",
       "      <th>3</th>\n",
       "      <td>Pedro</td>\n",
       "      <td>Português</td>\n",
       "      <td>9</td>\n",
       "      <td>Baixa</td>\n",
       "      <td>True</td>\n",
       "    </tr>\n",
       "  </tbody>\n",
       "</table>\n",
       "</div>"
      ],
      "text/plain": [
       "   aluno disciplina  nota dificuldade  acima_da_media\n",
       "1   João  Português     7       Baixa           False\n",
       "3  Pedro  Português     9       Baixa            True"
      ]
     },
     "execution_count": 38,
     "metadata": {},
     "output_type": "execute_result"
    }
   ],
   "source": [
    "port_df['acima_da_media'] = port_df['nota'] > port_mean\n",
    "port_df"
   ]
  },
  {
   "cell_type": "code",
   "execution_count": 26,
   "metadata": {},
   "outputs": [
    {
     "data": {
      "text/plain": [
       "8.0"
      ]
     },
     "execution_count": 26,
     "metadata": {},
     "output_type": "execute_result"
    }
   ],
   "source": [
    "ciencias_df = df[df['disciplina'] == 'Ciências']\n",
    "ciencias_mean= ciencias_df['nota'].mean()\n",
    "ciencias_mean"
   ]
  },
  {
   "cell_type": "code",
   "execution_count": 42,
   "metadata": {},
   "outputs": [
    {
     "name": "stderr",
     "output_type": "stream",
     "text": [
      "C:\\Users\\Drac3\\AppData\\Local\\Temp\\ipykernel_23036\\765593865.py:1: SettingWithCopyWarning: \n",
      "A value is trying to be set on a copy of a slice from a DataFrame.\n",
      "Try using .loc[row_indexer,col_indexer] = value instead\n",
      "\n",
      "See the caveats in the documentation: https://pandas.pydata.org/pandas-docs/stable/user_guide/indexing.html#returning-a-view-versus-a-copy\n",
      "  ciencias_df['acima_da_media'] = ciencias_df['nota'] > ciencias_mean\n"
     ]
    },
    {
     "data": {
      "text/html": [
       "<div>\n",
       "<style scoped>\n",
       "    .dataframe tbody tr th:only-of-type {\n",
       "        vertical-align: middle;\n",
       "    }\n",
       "\n",
       "    .dataframe tbody tr th {\n",
       "        vertical-align: top;\n",
       "    }\n",
       "\n",
       "    .dataframe thead th {\n",
       "        text-align: right;\n",
       "    }\n",
       "</style>\n",
       "<table border=\"1\" class=\"dataframe\">\n",
       "  <thead>\n",
       "    <tr style=\"text-align: right;\">\n",
       "      <th></th>\n",
       "      <th>aluno</th>\n",
       "      <th>disciplina</th>\n",
       "      <th>nota</th>\n",
       "      <th>dificuldade</th>\n",
       "      <th>acima_da_media</th>\n",
       "    </tr>\n",
       "  </thead>\n",
       "  <tbody>\n",
       "    <tr>\n",
       "      <th>4</th>\n",
       "      <td>Carla</td>\n",
       "      <td>Ciências</td>\n",
       "      <td>8</td>\n",
       "      <td>Média</td>\n",
       "      <td>False</td>\n",
       "    </tr>\n",
       "  </tbody>\n",
       "</table>\n",
       "</div>"
      ],
      "text/plain": [
       "   aluno disciplina  nota dificuldade  acima_da_media\n",
       "4  Carla   Ciências     8       Média           False"
      ]
     },
     "execution_count": 42,
     "metadata": {},
     "output_type": "execute_result"
    }
   ],
   "source": [
    "ciencias_df['acima_da_media'] = ciencias_df['nota'] > ciencias_mean\n",
    "ciencias_df"
   ]
  },
  {
   "cell_type": "code",
   "execution_count": 44,
   "metadata": {},
   "outputs": [
    {
     "data": {
      "text/html": [
       "<div>\n",
       "<style scoped>\n",
       "    .dataframe tbody tr th:only-of-type {\n",
       "        vertical-align: middle;\n",
       "    }\n",
       "\n",
       "    .dataframe tbody tr th {\n",
       "        vertical-align: top;\n",
       "    }\n",
       "\n",
       "    .dataframe thead th {\n",
       "        text-align: right;\n",
       "    }\n",
       "</style>\n",
       "<table border=\"1\" class=\"dataframe\">\n",
       "  <thead>\n",
       "    <tr style=\"text-align: right;\">\n",
       "      <th></th>\n",
       "      <th>aluno</th>\n",
       "      <th>disciplina</th>\n",
       "      <th>nota</th>\n",
       "      <th>dificuldade</th>\n",
       "      <th>acima_da_media</th>\n",
       "    </tr>\n",
       "  </thead>\n",
       "  <tbody>\n",
       "    <tr>\n",
       "      <th>0</th>\n",
       "      <td>Ana</td>\n",
       "      <td>Matemática</td>\n",
       "      <td>8</td>\n",
       "      <td>Alta</td>\n",
       "      <td>True</td>\n",
       "    </tr>\n",
       "    <tr>\n",
       "      <th>1</th>\n",
       "      <td>João</td>\n",
       "      <td>Português</td>\n",
       "      <td>7</td>\n",
       "      <td>Baixa</td>\n",
       "      <td>False</td>\n",
       "    </tr>\n",
       "    <tr>\n",
       "      <th>2</th>\n",
       "      <td>Maria</td>\n",
       "      <td>Matemática</td>\n",
       "      <td>6</td>\n",
       "      <td>Alta</td>\n",
       "      <td>False</td>\n",
       "    </tr>\n",
       "    <tr>\n",
       "      <th>3</th>\n",
       "      <td>Pedro</td>\n",
       "      <td>Português</td>\n",
       "      <td>9</td>\n",
       "      <td>Baixa</td>\n",
       "      <td>True</td>\n",
       "    </tr>\n",
       "    <tr>\n",
       "      <th>4</th>\n",
       "      <td>Carla</td>\n",
       "      <td>Ciências</td>\n",
       "      <td>8</td>\n",
       "      <td>Média</td>\n",
       "      <td>False</td>\n",
       "    </tr>\n",
       "  </tbody>\n",
       "</table>\n",
       "</div>"
      ],
      "text/plain": [
       "   aluno  disciplina  nota dificuldade  acima_da_media\n",
       "0    Ana  Matemática     8        Alta            True\n",
       "1   João   Português     7       Baixa           False\n",
       "2  Maria  Matemática     6        Alta           False\n",
       "3  Pedro   Português     9       Baixa            True\n",
       "4  Carla    Ciências     8       Média           False"
      ]
     },
     "execution_count": 44,
     "metadata": {},
     "output_type": "execute_result"
    }
   ],
   "source": [
    "df"
   ]
  },
  {
   "cell_type": "code",
   "execution_count": 43,
   "metadata": {},
   "outputs": [
    {
     "data": {
      "text/html": [
       "<div>\n",
       "<style scoped>\n",
       "    .dataframe tbody tr th:only-of-type {\n",
       "        vertical-align: middle;\n",
       "    }\n",
       "\n",
       "    .dataframe tbody tr th {\n",
       "        vertical-align: top;\n",
       "    }\n",
       "\n",
       "    .dataframe thead th {\n",
       "        text-align: right;\n",
       "    }\n",
       "</style>\n",
       "<table border=\"1\" class=\"dataframe\">\n",
       "  <thead>\n",
       "    <tr style=\"text-align: right;\">\n",
       "      <th></th>\n",
       "      <th>aluno</th>\n",
       "      <th>disciplina</th>\n",
       "      <th>nota</th>\n",
       "      <th>dificuldade</th>\n",
       "      <th>acima_da_media</th>\n",
       "    </tr>\n",
       "  </thead>\n",
       "  <tbody>\n",
       "    <tr>\n",
       "      <th>0</th>\n",
       "      <td>Ana</td>\n",
       "      <td>Matemática</td>\n",
       "      <td>8</td>\n",
       "      <td>Alta</td>\n",
       "      <td>True</td>\n",
       "    </tr>\n",
       "    <tr>\n",
       "      <th>1</th>\n",
       "      <td>João</td>\n",
       "      <td>Português</td>\n",
       "      <td>7</td>\n",
       "      <td>Baixa</td>\n",
       "      <td>False</td>\n",
       "    </tr>\n",
       "    <tr>\n",
       "      <th>2</th>\n",
       "      <td>Maria</td>\n",
       "      <td>Matemática</td>\n",
       "      <td>6</td>\n",
       "      <td>Alta</td>\n",
       "      <td>False</td>\n",
       "    </tr>\n",
       "    <tr>\n",
       "      <th>3</th>\n",
       "      <td>Pedro</td>\n",
       "      <td>Português</td>\n",
       "      <td>9</td>\n",
       "      <td>Baixa</td>\n",
       "      <td>True</td>\n",
       "    </tr>\n",
       "    <tr>\n",
       "      <th>4</th>\n",
       "      <td>Carla</td>\n",
       "      <td>Ciências</td>\n",
       "      <td>8</td>\n",
       "      <td>Média</td>\n",
       "      <td>False</td>\n",
       "    </tr>\n",
       "  </tbody>\n",
       "</table>\n",
       "</div>"
      ],
      "text/plain": [
       "   aluno  disciplina  nota dificuldade  acima_da_media\n",
       "0    Ana  Matemática     8        Alta            True\n",
       "1   João   Português     7       Baixa           False\n",
       "2  Maria  Matemática     6        Alta           False\n",
       "3  Pedro   Português     9       Baixa            True\n",
       "4  Carla    Ciências     8       Média           False"
      ]
     },
     "execution_count": 43,
     "metadata": {},
     "output_type": "execute_result"
    }
   ],
   "source": [
    "# Cálculo da média das notas por disciplina\n",
    "media_notas = df.groupby('disciplina')['nota'].transform('mean')\n",
    "\n",
    "# Adição da nova coluna indicando se a nota está acima ou abaixo da média da disciplina\n",
    "df['acima_da_media'] = df['nota'] > media_notas\n",
    "\n",
    "df"
   ]
  },
  {
   "cell_type": "code",
   "execution_count": null,
   "metadata": {},
   "outputs": [],
   "source": []
  }
 ],
 "metadata": {
  "kernelspec": {
   "display_name": "Python 3",
   "language": "python",
   "name": "python3"
  },
  "language_info": {
   "codemirror_mode": {
    "name": "ipython",
    "version": 3
   },
   "file_extension": ".py",
   "mimetype": "text/x-python",
   "name": "python",
   "nbconvert_exporter": "python",
   "pygments_lexer": "ipython3",
   "version": "3.11.8"
  }
 },
 "nbformat": 4,
 "nbformat_minor": 2
}
