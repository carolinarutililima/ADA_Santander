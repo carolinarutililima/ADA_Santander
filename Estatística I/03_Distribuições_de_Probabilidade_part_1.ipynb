{
  "cells": [
    {
      "cell_type": "markdown",
      "id": "948dcd6e",
      "metadata": {
        "id": "948dcd6e"
      },
      "source": [
        "# 03 - Distribuições de Probabilidade\n",
        "\n",
        "Nessa aula, iremos tratar dos seguintes conteúdos:\n",
        "- Tipos de Variáveis Aleatórias\n",
        "- Esperança e Variância\n",
        "- Distribuição de Probabilidade\n",
        "- Distribuição - Bernoulli e Binomial\n",
        "- Distribuição Poisson\n",
        "- Distribuição Exponencial\n",
        "- Distribuição Uniforme"
      ]
    },
    {
      "cell_type": "markdown",
      "id": "59de9ea5",
      "metadata": {
        "id": "59de9ea5"
      },
      "source": [
        "**Teoria Prática:** https://seeing-theory.brown.edu/basic-probability/index.html"
      ]
    },
    {
      "cell_type": "markdown",
      "id": "050eb5b9",
      "metadata": {
        "id": "050eb5b9"
      },
      "source": [
        "**Tabuleiro de Galton**\n",
        "\n",
        "<img src = \"https://miro.medium.com/max/450/1*FSuKbxt4bLeqTrlbhg3hQQ.gif\">"
      ]
    },
    {
      "cell_type": "markdown",
      "id": "b2265f1a",
      "metadata": {
        "id": "b2265f1a"
      },
      "source": [
        "## Tipos de Variáveis Aleatórias\n",
        "\n",
        "\n",
        "<br>\n",
        "\n",
        "Vimos que uma __variável aleatória__ é uma variável cujo valor depende de fatores não determinísticos, ou melhor dizendo __probabilísticos__. Detalhando um pouco mais sobre as variáveis aleatórias, existem dois tipos mais comuns que vamos trabalhar no nosso curso, sendo elas:\n",
        "\n",
        "- __Discreta:__ são as variáveis aleatórias que a distribuição de probabilidade assume apenas valores enumeráveis;\n",
        "\n",
        "- __Contínua:__ são as variáveis aleatórias que a distribuição de probabilidade assume valores contínuos dentro de um intervalo pré-determinado.\n",
        "\n",
        "Mas para realmente entendermos a diferença entre cada uma delas, precisamos definir o que são __distribuições de probabilidade__."
      ]
    },
    {
      "cell_type": "markdown",
      "id": "81d9f9d7",
      "metadata": {
        "id": "81d9f9d7"
      },
      "source": [
        "## Distribuições de Probabilidade\n",
        "\n",
        "<br>\n",
        "\n",
        "Uma **distribuição de probabilidade** é uma função que descreve o comportamento aleatório de um fenômeno dependente do acaso.\n",
        "\n",
        "A distribuição de probabilidade pode **modelar incertezas** e descrever fenômenos físicos, biológicos, econômicos, entre outros.\n",
        "\n",
        "A representação matemática para a distribuição de probabilidade é feita utilizando o que chamamos de __função de densidade de probabilidade__. Para cada um dos casos de variáveis aleatórias temos uma definição de densidade de probabilidade, conforme veremos agora:\n",
        "\n",
        "- __Discretas:__ Para o caso das variáveis aleatórias discretas a definição matemática para a função de densidade de probabilidade, pode ser dada da seguinte forma:\n",
        "\n",
        "$$ P(X = x) = F(X) $$\n",
        "\n",
        "Ou seja, para o caso discreto, a variável aleatória assume é uma função que assume um valor real para cada elemento do espaço amostral. Partir das definições gerais para probabilidade, são conhecidas as seguintes são sempre válidas:\n",
        "\n",
        "- $ 0 \\leq P(X = x) \\leq 1 $;\n",
        "\n",
        "<br>\n",
        "\n",
        "- $ P(X = x) \\geq 0 $;\n",
        "\n",
        "<br>\n",
        "\n",
        "- $ \\sum_{i=1}^{\\infty} P(X = x_{i}) = 1 $ ;\n",
        "\n",
        "<br>\n",
        "\n",
        "- $ P(a \\leq X \\leq b) = \\sum_{x = a}^{x = b} P(X = x)$;"
      ]
    },
    {
      "cell_type": "markdown",
      "id": "644febd0",
      "metadata": {
        "id": "644febd0"
      },
      "source": [
        "- __Contínuas:__ Para o caso das variáveis aleatórias contínuas a definição matemática para a função de densidade de probabilidade, pode ser dada da seguinte forma:\n",
        "\n",
        "$$ P(X) = \\int p(x) \\,dx $$\n",
        "\n",
        "Da mesma forma que para o caso discreto, vamos definir algumas relações conhecidas as v. a. contínuas:\n",
        "\n",
        "- $ p(x) \\geq 0, \\forall x \\in \\mathbb{R}$;\n",
        "\n",
        "<br>\n",
        "\n",
        "- $ \\int_{-\\infty}^{\\infty} p(x) \\,dx = 1 $ ;\n",
        "\n",
        "<br>\n",
        "\n",
        "- $ P(a \\leq X \\leq b) = \\int_{a}^{b} p(x) \\,dx$;\n",
        "\n",
        "<br>\n",
        "\n",
        "Uma outra forma de interpretarmos a probabilidade de uma dada distribuição entre o intervalo $a$ e $b$, seria como a área abaixo ao gráfico da função de densidade de probabilidade:\n",
        "\n",
        "<img src=\"https://work.thaslwanter.at/Stats/html/_images/PDF.png\" width=400>\n"
      ]
    },
    {
      "cell_type": "code",
      "execution_count": 1,
      "id": "DraHG3oWfsT-",
      "metadata": {
        "colab": {
          "base_uri": "https://localhost:8080/"
        },
        "id": "DraHG3oWfsT-",
        "outputId": "63ba5396-7242-4c62-c1c3-5680a978b719"
      },
      "outputs": [
        {
          "data": {
            "text/plain": [
              "3.5"
            ]
          },
          "execution_count": 1,
          "metadata": {},
          "output_type": "execute_result"
        }
      ],
      "source": [
        "# P(X = x) = 1/6\n",
        "# P(X = x) = 1/6\n",
        "\n",
        "# (1 * 1/6) + (2 * 1/6)....\n",
        "(1 + 2 + 3 + 4 + 5 + 6) * 1/6"
      ]
    },
    {
      "cell_type": "markdown",
      "id": "afd4c286",
      "metadata": {
        "id": "afd4c286"
      },
      "source": [
        "## Valor Esperado (Esperança) e Variância\n",
        "\n",
        "<br>\n",
        "\n",
        "Assim como no caso da Estatística Descritiva, no casos de modelos probabilísticos também existem parâmetros de posição e variabilidade utilizada para caracterizar uma distribuição de probabilidade:\n",
        "\n",
        "- __Valor Esperado (Esperança):__ O valor esperado seria o produto da variável aleatória $x$ e sua respectiva probabilidade, funcionando como se fosse uma média ponderada para as probabilidades. O cálculo do valor esperado é definido da seguinte forma:\n",
        "\n",
        "\n",
        "__Caso Discreto:__  $ E[X] = \\sum xP(X = x) $\n",
        "\n",
        "\n",
        "__Caso Contínuo:__  $ E[X] = \\int xp(x) dx $\n",
        "\n",
        "<br><br>\n",
        "\n",
        "- __Variância:__ A variância é o valor que mede a variabilidade, ou seja o quão dispersão estão as probabilidade em relação ao valor esperado. A variância é definida da seguinte forma:\n",
        "\n",
        "<br>\n",
        "\n",
        "$$ V[X] = \\sigma^{2} = E[(X - E[X])^2] = E[X^2] - E[X]^2$$\n",
        "\n",
        "<br>\n",
        "\n",
        "Onde, $E[X^2] = \\sum x^2P(X = x)$."
      ]
    },
    {
      "cell_type": "code",
      "execution_count": 2,
      "id": "OZHJNXQThAbB",
      "metadata": {
        "id": "OZHJNXQThAbB"
      },
      "outputs": [],
      "source": [
        "import seaborn as sns\n",
        "\n",
        "df_tips = sns.load_dataset('tips')"
      ]
    },
    {
      "cell_type": "code",
      "execution_count": 4,
      "id": "0ujFKAZuhCgF",
      "metadata": {
        "colab": {
          "base_uri": "https://localhost:8080/",
          "height": 300
        },
        "id": "0ujFKAZuhCgF",
        "outputId": "8d9d7faf-afd9-4b05-d2e3-c94f169de821"
      },
      "outputs": [
        {
          "data": {
            "application/vnd.google.colaboratory.intrinsic+json": {
              "summary": "{\n  \"name\": \"df_tips\",\n  \"rows\": 8,\n  \"fields\": [\n    {\n      \"column\": \"total_bill\",\n      \"properties\": {\n        \"dtype\": \"number\",\n        \"std\": 80.57800601480773,\n        \"min\": 3.07,\n        \"max\": 244.0,\n        \"num_unique_values\": 8,\n        \"samples\": [\n          19.78594262295082,\n          17.795,\n          244.0\n        ],\n        \"semantic_type\": \"\",\n        \"description\": \"\"\n      }\n    },\n    {\n      \"column\": \"tip\",\n      \"properties\": {\n        \"dtype\": \"number\",\n        \"std\": 85.10953159599222,\n        \"min\": 1.0,\n        \"max\": 244.0,\n        \"num_unique_values\": 8,\n        \"samples\": [\n          2.99827868852459,\n          2.9,\n          244.0\n        ],\n        \"semantic_type\": \"\",\n        \"description\": \"\"\n      }\n    },\n    {\n      \"column\": \"size\",\n      \"properties\": {\n        \"dtype\": \"number\",\n        \"std\": 85.39686221774683,\n        \"min\": 0.9510998047322344,\n        \"max\": 244.0,\n        \"num_unique_values\": 7,\n        \"samples\": [\n          244.0,\n          2.569672131147541,\n          3.0\n        ],\n        \"semantic_type\": \"\",\n        \"description\": \"\"\n      }\n    }\n  ]\n}",
              "type": "dataframe"
            },
            "text/html": [
              "\n",
              "  <div id=\"df-2734ae73-86ed-4819-b54f-a8a702d5cfb5\" class=\"colab-df-container\">\n",
              "    <div>\n",
              "<style scoped>\n",
              "    .dataframe tbody tr th:only-of-type {\n",
              "        vertical-align: middle;\n",
              "    }\n",
              "\n",
              "    .dataframe tbody tr th {\n",
              "        vertical-align: top;\n",
              "    }\n",
              "\n",
              "    .dataframe thead th {\n",
              "        text-align: right;\n",
              "    }\n",
              "</style>\n",
              "<table border=\"1\" class=\"dataframe\">\n",
              "  <thead>\n",
              "    <tr style=\"text-align: right;\">\n",
              "      <th></th>\n",
              "      <th>total_bill</th>\n",
              "      <th>tip</th>\n",
              "      <th>size</th>\n",
              "    </tr>\n",
              "  </thead>\n",
              "  <tbody>\n",
              "    <tr>\n",
              "      <th>count</th>\n",
              "      <td>244.000000</td>\n",
              "      <td>244.000000</td>\n",
              "      <td>244.000000</td>\n",
              "    </tr>\n",
              "    <tr>\n",
              "      <th>mean</th>\n",
              "      <td>19.785943</td>\n",
              "      <td>2.998279</td>\n",
              "      <td>2.569672</td>\n",
              "    </tr>\n",
              "    <tr>\n",
              "      <th>std</th>\n",
              "      <td>8.902412</td>\n",
              "      <td>1.383638</td>\n",
              "      <td>0.951100</td>\n",
              "    </tr>\n",
              "    <tr>\n",
              "      <th>min</th>\n",
              "      <td>3.070000</td>\n",
              "      <td>1.000000</td>\n",
              "      <td>1.000000</td>\n",
              "    </tr>\n",
              "    <tr>\n",
              "      <th>25%</th>\n",
              "      <td>13.347500</td>\n",
              "      <td>2.000000</td>\n",
              "      <td>2.000000</td>\n",
              "    </tr>\n",
              "    <tr>\n",
              "      <th>50%</th>\n",
              "      <td>17.795000</td>\n",
              "      <td>2.900000</td>\n",
              "      <td>2.000000</td>\n",
              "    </tr>\n",
              "    <tr>\n",
              "      <th>75%</th>\n",
              "      <td>24.127500</td>\n",
              "      <td>3.562500</td>\n",
              "      <td>3.000000</td>\n",
              "    </tr>\n",
              "    <tr>\n",
              "      <th>max</th>\n",
              "      <td>50.810000</td>\n",
              "      <td>10.000000</td>\n",
              "      <td>6.000000</td>\n",
              "    </tr>\n",
              "  </tbody>\n",
              "</table>\n",
              "</div>\n",
              "    <div class=\"colab-df-buttons\">\n",
              "\n",
              "  <div class=\"colab-df-container\">\n",
              "    <button class=\"colab-df-convert\" onclick=\"convertToInteractive('df-2734ae73-86ed-4819-b54f-a8a702d5cfb5')\"\n",
              "            title=\"Convert this dataframe to an interactive table.\"\n",
              "            style=\"display:none;\">\n",
              "\n",
              "  <svg xmlns=\"http://www.w3.org/2000/svg\" height=\"24px\" viewBox=\"0 -960 960 960\">\n",
              "    <path d=\"M120-120v-720h720v720H120Zm60-500h600v-160H180v160Zm220 220h160v-160H400v160Zm0 220h160v-160H400v160ZM180-400h160v-160H180v160Zm440 0h160v-160H620v160ZM180-180h160v-160H180v160Zm440 0h160v-160H620v160Z\"/>\n",
              "  </svg>\n",
              "    </button>\n",
              "\n",
              "  <style>\n",
              "    .colab-df-container {\n",
              "      display:flex;\n",
              "      gap: 12px;\n",
              "    }\n",
              "\n",
              "    .colab-df-convert {\n",
              "      background-color: #E8F0FE;\n",
              "      border: none;\n",
              "      border-radius: 50%;\n",
              "      cursor: pointer;\n",
              "      display: none;\n",
              "      fill: #1967D2;\n",
              "      height: 32px;\n",
              "      padding: 0 0 0 0;\n",
              "      width: 32px;\n",
              "    }\n",
              "\n",
              "    .colab-df-convert:hover {\n",
              "      background-color: #E2EBFA;\n",
              "      box-shadow: 0px 1px 2px rgba(60, 64, 67, 0.3), 0px 1px 3px 1px rgba(60, 64, 67, 0.15);\n",
              "      fill: #174EA6;\n",
              "    }\n",
              "\n",
              "    .colab-df-buttons div {\n",
              "      margin-bottom: 4px;\n",
              "    }\n",
              "\n",
              "    [theme=dark] .colab-df-convert {\n",
              "      background-color: #3B4455;\n",
              "      fill: #D2E3FC;\n",
              "    }\n",
              "\n",
              "    [theme=dark] .colab-df-convert:hover {\n",
              "      background-color: #434B5C;\n",
              "      box-shadow: 0px 1px 3px 1px rgba(0, 0, 0, 0.15);\n",
              "      filter: drop-shadow(0px 1px 2px rgba(0, 0, 0, 0.3));\n",
              "      fill: #FFFFFF;\n",
              "    }\n",
              "  </style>\n",
              "\n",
              "    <script>\n",
              "      const buttonEl =\n",
              "        document.querySelector('#df-2734ae73-86ed-4819-b54f-a8a702d5cfb5 button.colab-df-convert');\n",
              "      buttonEl.style.display =\n",
              "        google.colab.kernel.accessAllowed ? 'block' : 'none';\n",
              "\n",
              "      async function convertToInteractive(key) {\n",
              "        const element = document.querySelector('#df-2734ae73-86ed-4819-b54f-a8a702d5cfb5');\n",
              "        const dataTable =\n",
              "          await google.colab.kernel.invokeFunction('convertToInteractive',\n",
              "                                                    [key], {});\n",
              "        if (!dataTable) return;\n",
              "\n",
              "        const docLinkHtml = 'Like what you see? Visit the ' +\n",
              "          '<a target=\"_blank\" href=https://colab.research.google.com/notebooks/data_table.ipynb>data table notebook</a>'\n",
              "          + ' to learn more about interactive tables.';\n",
              "        element.innerHTML = '';\n",
              "        dataTable['output_type'] = 'display_data';\n",
              "        await google.colab.output.renderOutput(dataTable, element);\n",
              "        const docLink = document.createElement('div');\n",
              "        docLink.innerHTML = docLinkHtml;\n",
              "        element.appendChild(docLink);\n",
              "      }\n",
              "    </script>\n",
              "  </div>\n",
              "\n",
              "\n",
              "<div id=\"df-9eb1a34d-0384-4972-b28c-135f32bc73d8\">\n",
              "  <button class=\"colab-df-quickchart\" onclick=\"quickchart('df-9eb1a34d-0384-4972-b28c-135f32bc73d8')\"\n",
              "            title=\"Suggest charts\"\n",
              "            style=\"display:none;\">\n",
              "\n",
              "<svg xmlns=\"http://www.w3.org/2000/svg\" height=\"24px\"viewBox=\"0 0 24 24\"\n",
              "     width=\"24px\">\n",
              "    <g>\n",
              "        <path d=\"M19 3H5c-1.1 0-2 .9-2 2v14c0 1.1.9 2 2 2h14c1.1 0 2-.9 2-2V5c0-1.1-.9-2-2-2zM9 17H7v-7h2v7zm4 0h-2V7h2v10zm4 0h-2v-4h2v4z\"/>\n",
              "    </g>\n",
              "</svg>\n",
              "  </button>\n",
              "\n",
              "<style>\n",
              "  .colab-df-quickchart {\n",
              "      --bg-color: #E8F0FE;\n",
              "      --fill-color: #1967D2;\n",
              "      --hover-bg-color: #E2EBFA;\n",
              "      --hover-fill-color: #174EA6;\n",
              "      --disabled-fill-color: #AAA;\n",
              "      --disabled-bg-color: #DDD;\n",
              "  }\n",
              "\n",
              "  [theme=dark] .colab-df-quickchart {\n",
              "      --bg-color: #3B4455;\n",
              "      --fill-color: #D2E3FC;\n",
              "      --hover-bg-color: #434B5C;\n",
              "      --hover-fill-color: #FFFFFF;\n",
              "      --disabled-bg-color: #3B4455;\n",
              "      --disabled-fill-color: #666;\n",
              "  }\n",
              "\n",
              "  .colab-df-quickchart {\n",
              "    background-color: var(--bg-color);\n",
              "    border: none;\n",
              "    border-radius: 50%;\n",
              "    cursor: pointer;\n",
              "    display: none;\n",
              "    fill: var(--fill-color);\n",
              "    height: 32px;\n",
              "    padding: 0;\n",
              "    width: 32px;\n",
              "  }\n",
              "\n",
              "  .colab-df-quickchart:hover {\n",
              "    background-color: var(--hover-bg-color);\n",
              "    box-shadow: 0 1px 2px rgba(60, 64, 67, 0.3), 0 1px 3px 1px rgba(60, 64, 67, 0.15);\n",
              "    fill: var(--button-hover-fill-color);\n",
              "  }\n",
              "\n",
              "  .colab-df-quickchart-complete:disabled,\n",
              "  .colab-df-quickchart-complete:disabled:hover {\n",
              "    background-color: var(--disabled-bg-color);\n",
              "    fill: var(--disabled-fill-color);\n",
              "    box-shadow: none;\n",
              "  }\n",
              "\n",
              "  .colab-df-spinner {\n",
              "    border: 2px solid var(--fill-color);\n",
              "    border-color: transparent;\n",
              "    border-bottom-color: var(--fill-color);\n",
              "    animation:\n",
              "      spin 1s steps(1) infinite;\n",
              "  }\n",
              "\n",
              "  @keyframes spin {\n",
              "    0% {\n",
              "      border-color: transparent;\n",
              "      border-bottom-color: var(--fill-color);\n",
              "      border-left-color: var(--fill-color);\n",
              "    }\n",
              "    20% {\n",
              "      border-color: transparent;\n",
              "      border-left-color: var(--fill-color);\n",
              "      border-top-color: var(--fill-color);\n",
              "    }\n",
              "    30% {\n",
              "      border-color: transparent;\n",
              "      border-left-color: var(--fill-color);\n",
              "      border-top-color: var(--fill-color);\n",
              "      border-right-color: var(--fill-color);\n",
              "    }\n",
              "    40% {\n",
              "      border-color: transparent;\n",
              "      border-right-color: var(--fill-color);\n",
              "      border-top-color: var(--fill-color);\n",
              "    }\n",
              "    60% {\n",
              "      border-color: transparent;\n",
              "      border-right-color: var(--fill-color);\n",
              "    }\n",
              "    80% {\n",
              "      border-color: transparent;\n",
              "      border-right-color: var(--fill-color);\n",
              "      border-bottom-color: var(--fill-color);\n",
              "    }\n",
              "    90% {\n",
              "      border-color: transparent;\n",
              "      border-bottom-color: var(--fill-color);\n",
              "    }\n",
              "  }\n",
              "</style>\n",
              "\n",
              "  <script>\n",
              "    async function quickchart(key) {\n",
              "      const quickchartButtonEl =\n",
              "        document.querySelector('#' + key + ' button');\n",
              "      quickchartButtonEl.disabled = true;  // To prevent multiple clicks.\n",
              "      quickchartButtonEl.classList.add('colab-df-spinner');\n",
              "      try {\n",
              "        const charts = await google.colab.kernel.invokeFunction(\n",
              "            'suggestCharts', [key], {});\n",
              "      } catch (error) {\n",
              "        console.error('Error during call to suggestCharts:', error);\n",
              "      }\n",
              "      quickchartButtonEl.classList.remove('colab-df-spinner');\n",
              "      quickchartButtonEl.classList.add('colab-df-quickchart-complete');\n",
              "    }\n",
              "    (() => {\n",
              "      let quickchartButtonEl =\n",
              "        document.querySelector('#df-9eb1a34d-0384-4972-b28c-135f32bc73d8 button');\n",
              "      quickchartButtonEl.style.display =\n",
              "        google.colab.kernel.accessAllowed ? 'block' : 'none';\n",
              "    })();\n",
              "  </script>\n",
              "</div>\n",
              "\n",
              "    </div>\n",
              "  </div>\n"
            ],
            "text/plain": [
              "       total_bill         tip        size\n",
              "count  244.000000  244.000000  244.000000\n",
              "mean    19.785943    2.998279    2.569672\n",
              "std      8.902412    1.383638    0.951100\n",
              "min      3.070000    1.000000    1.000000\n",
              "25%     13.347500    2.000000    2.000000\n",
              "50%     17.795000    2.900000    2.000000\n",
              "75%     24.127500    3.562500    3.000000\n",
              "max     50.810000   10.000000    6.000000"
            ]
          },
          "execution_count": 4,
          "metadata": {},
          "output_type": "execute_result"
        }
      ],
      "source": [
        "df_tips.describe()"
      ]
    },
    {
      "cell_type": "markdown",
      "id": "4ca44d14",
      "metadata": {
        "id": "4ca44d14"
      },
      "source": [
        "__Exemplo:__ Seja a variável aleatória X com distribuição abaixo, calcule $E[X]$ e $V[X]$:\n",
        "\n",
        "- P(X = 1) = 0.3\n",
        "- P(X = 2) = 0.4\n",
        "- P(X = 3) = 0.2\n",
        "- P(X = 4) = 0.1"
      ]
    },
    {
      "cell_type": "code",
      "execution_count": null,
      "id": "7e99cd46",
      "metadata": {
        "ExecuteTime": {
          "end_time": "2023-05-10T23:03:54.101135Z",
          "start_time": "2023-05-10T23:03:54.091108Z"
        },
        "id": "7e99cd46"
      },
      "outputs": [],
      "source": []
    },
    {
      "cell_type": "markdown",
      "id": "efd9edc5",
      "metadata": {
        "id": "efd9edc5"
      },
      "source": [
        "__Exemplo:__ A variável X tem função de densidade de probabilidade dada por:\n",
        "\n",
        "- $f(x) = \\frac{x^2}{3}$, se $ -1 \\leq x \\leq 2$, caso contrário seria 0."
      ]
    },
    {
      "cell_type": "code",
      "execution_count": 5,
      "id": "a916ced9",
      "metadata": {
        "ExecuteTime": {
          "end_time": "2023-05-10T23:16:21.890011Z",
          "start_time": "2023-05-10T23:16:21.881449Z"
        },
        "colab": {
          "base_uri": "https://localhost:8080/"
        },
        "id": "a916ced9",
        "outputId": "bbaa07b1-7bdc-406a-bc90-bfd14c458c13"
      },
      "outputs": [
        {
          "data": {
            "text/plain": [
              "(1.0, 1.1102230246251565e-14)"
            ]
          },
          "execution_count": 5,
          "metadata": {},
          "output_type": "execute_result"
        }
      ],
      "source": [
        "from scipy.integrate import quad\n",
        "\n",
        "\n",
        "def f(x):\n",
        "  return x**2/3\n",
        "\n",
        "quad(f, -1, 2)"
      ]
    },
    {
      "cell_type": "markdown",
      "id": "516ffd12",
      "metadata": {
        "id": "516ffd12"
      },
      "source": [
        "## Distribuições\n",
        "\n",
        "Nos próximos tópicos, vamos apresentar algumas das principais distribuições utilizadas!"
      ]
    },
    {
      "cell_type": "markdown",
      "id": "549ff76a",
      "metadata": {
        "id": "549ff76a"
      },
      "source": [
        "## Distribuição de Bernoulli/Binomial\n",
        "\n",
        "A distribuição de Bernoulli  é uma distribuição discreta para um espaço amostral $k \\in \\{0, 1\\}$, baseando a probabilidade em __sucessos__ e __falhas__. Onde a probabilidade de sucesso de um evento ($k = 1$) é igual a $p$ e a probabilidade de falha ($k = 0$) seria o valor complementar $1 - p$. A função que descreve a distribuição de Bernoulli pode ser definida como:\n",
        "\n",
        "<br>\n",
        "\n",
        "$$ P(X = k) = p^{k}(1-p)^{(1-k)} $$\n",
        "\n",
        "<br>\n",
        "Os valores para o valor esperado e a variância para a distribuição de Bernoulli serão respectivamente:\n",
        "\n",
        "- __Valor Esperado:__ $ E[X] = p $;\n",
        "\n",
        "- __Variância:__ $ V[X] = p(1-p)$.\n",
        "\n",
        "<br>\n",
        "\n",
        "Mas o caso da distribuição de Bernoulli, tratamos apenas para um evento isolado, como por exemplo o lançamento de uma moeda. Quando trabalhamos com eventos __com repetições__, utiliza-se o caso geral da distribuição de Bernoulli que seria uma __Distribuição Binomial.__\n"
      ]
    },
    {
      "cell_type": "markdown",
      "id": "82bee09e",
      "metadata": {
        "id": "82bee09e"
      },
      "source": [
        "### Distribuição Binomial\n",
        "\n",
        "Seja a variável aleatória baseado em $n$ repetições de Bernoulli, temos que a definição da distribuição Binomial é dada por:\n",
        "\n",
        "$$ P(X = k) = \\binom{n}{k}p^{k}(1-p)^{(n-k)} = \\frac{n!}{k!(n - k)!}p^{k}(1-p)^{(n-k)}$$\n",
        "\n",
        "<br>\n",
        "Os valores para o valor esperado e a variância para a distribuição Binomial serão respectivamente:\n",
        "\n",
        "- __Valor Esperado:__ $ E[X] = np $;\n",
        "\n",
        "- __Variância:__ $ V[X] = np(1-p)$.\n",
        "\n",
        "**Exemplo**:\n",
        "- Controle de qualidade: A partir de quantas repetições pode aumentar a probabilidade de um evento acontecer"
      ]
    },
    {
      "cell_type": "markdown",
      "id": "db10e97e",
      "metadata": {
        "id": "db10e97e"
      },
      "source": [
        "__Exemplo:__ Em uma caixa há 8 bolas brancas e 4 pretas. Retira-se 5 bolas com reposição. Calcule a probabilidade de que:\n",
        "\n",
        "__A)__ saiam duas bolas brancas:"
      ]
    },
    {
      "cell_type": "code",
      "execution_count": null,
      "id": "786f691d",
      "metadata": {
        "ExecuteTime": {
          "end_time": "2023-05-10T23:27:03.783836Z",
          "start_time": "2023-05-10T23:27:03.776340Z"
        },
        "id": "786f691d"
      },
      "outputs": [],
      "source": []
    },
    {
      "cell_type": "markdown",
      "id": "7877fb69",
      "metadata": {
        "id": "7877fb69"
      },
      "source": [
        "https://docs.scipy.org/doc/scipy/reference/generated/scipy.stats.binom.html"
      ]
    },
    {
      "cell_type": "markdown",
      "id": "80f9cbe5",
      "metadata": {
        "id": "80f9cbe5"
      },
      "source": [
        "__B)__ saiam pelo menos 3 pretas:"
      ]
    },
    {
      "cell_type": "code",
      "execution_count": null,
      "id": "a13122e0",
      "metadata": {
        "ExecuteTime": {
          "end_time": "2023-05-10T23:47:14.706842Z",
          "start_time": "2023-05-10T23:47:14.699680Z"
        },
        "id": "a13122e0"
      },
      "outputs": [],
      "source": []
    },
    {
      "cell_type": "markdown",
      "id": "2e5389eb",
      "metadata": {
        "id": "2e5389eb"
      },
      "source": [
        "## Distribuição de Poisson"
      ]
    },
    {
      "cell_type": "markdown",
      "id": "74a28c56",
      "metadata": {
        "id": "74a28c56"
      },
      "source": [
        "Uma variável aleatória tem distribuição de Poisson quando podemos descrever um evento em relação ao uma taxa/contagem de ocorrência, normalmente chamada de $ \\lambda $, sendo $ \\lambda > 0$. Dessa forma a equação para a distribuição de Poisson será definida como:\n",
        "\n",
        "$$ P(X = k) = \\frac{e^{-\\lambda}\\lambda^{k}}{k!} $$\n",
        "\n",
        "<br>\n",
        "Os valores para o valor esperado e a variância para a distribuição de Poisson serão respectivamente:\n",
        "\n",
        "- __Valor Esperado:__ $ E[X] = \\lambda $;\n",
        "\n",
        "- __Variância:__ $ V[X] = \\lambda$."
      ]
    },
    {
      "cell_type": "markdown",
      "id": "16712ed5",
      "metadata": {
        "id": "16712ed5"
      },
      "source": [
        "__Exemplo:__ Em uma central telefônica chegam 300 ligações por hora. Sabendo que segue uma distribuição de Poisson, qual é a probabilidade de que:\n",
        "   \n",
        "__A)__ Em um minuto não ocorra ligações;"
      ]
    },
    {
      "cell_type": "code",
      "execution_count": null,
      "id": "10052d30",
      "metadata": {
        "ExecuteTime": {
          "end_time": "2023-05-11T00:17:46.762192Z",
          "start_time": "2023-05-11T00:17:46.756208Z"
        },
        "id": "10052d30"
      },
      "outputs": [],
      "source": []
    },
    {
      "cell_type": "markdown",
      "id": "a1ec8942",
      "metadata": {
        "id": "a1ec8942"
      },
      "source": [
        "__B)__ Em 2 minutos ocorram 2 chamadas;"
      ]
    },
    {
      "cell_type": "code",
      "execution_count": null,
      "id": "231db8eb",
      "metadata": {
        "ExecuteTime": {
          "end_time": "2023-05-11T00:24:44.130854Z",
          "start_time": "2023-05-11T00:24:44.124826Z"
        },
        "id": "231db8eb"
      },
      "outputs": [],
      "source": []
    },
    {
      "cell_type": "markdown",
      "id": "4a26860c",
      "metadata": {
        "id": "4a26860c"
      },
      "source": [
        "## Distribuição Exponencial"
      ]
    },
    {
      "cell_type": "markdown",
      "id": "aa60e89b",
      "metadata": {
        "id": "aa60e89b"
      },
      "source": [
        "Uma variável aleatória continua tem uma distribuição Exponencial quando queremos avaliar o tempo decorrido entre dois eventos consecutivos, diferente do Poisson que avalia de acordo com uma contagem de ocorrências em um espaço de tempo. A função densidade de probabilidade que descreve a distribuição exponencial pode ser descrita como:\n",
        "\n",
        "$$ f(x) = \\alpha e^{-\\alpha x}, x \\geq 0 $$\n",
        "\n",
        "No caso para $x < 0$, a probabilidade de $f(x) = 0$\n",
        "\n",
        "<br>\n",
        "Os valores para o valor esperado e a variância para a distribuição exponencial serão respectivamente:\n",
        "\n",
        "- __Valor Esperado:__ $ E[X] = \\frac{1}{\\alpha} $;\n",
        "\n",
        "- __Variância:__ $ V[X] = \\frac{1}{\\alpha^2}$.\n"
      ]
    },
    {
      "cell_type": "markdown",
      "id": "9df7300e",
      "metadata": {
        "id": "9df7300e"
      },
      "source": [
        "__Exemplo:__ O intervalo de tempo, em minutos, entre emissões consecutivas de uma fonte radioativa é uma variável aleatória contínua que segue uma distribuição exponencial com parâmetro $\\alpha = 0.2$. Qual a probabilidade de que ocorra uma emissão em um intervalo inferior a 2 minutos?"
      ]
    },
    {
      "cell_type": "code",
      "execution_count": null,
      "id": "a829ff2b",
      "metadata": {
        "ExecuteTime": {
          "end_time": "2023-05-11T00:32:14.227309Z",
          "start_time": "2023-05-11T00:32:14.218351Z"
        },
        "id": "a829ff2b"
      },
      "outputs": [],
      "source": []
    },
    {
      "cell_type": "markdown",
      "id": "755be7e4",
      "metadata": {
        "id": "755be7e4"
      },
      "source": [
        "## Distribuição Uniforme"
      ]
    },
    {
      "cell_type": "markdown",
      "id": "7505349e",
      "metadata": {
        "id": "7505349e"
      },
      "source": [
        "A distribuição uniforme é uma distribuição bem simples e não possui parâmetros, a única diferença é que só vai haver probabilidade para um determinado evento $x$, se $x \\in [a, b]$. Dessa forma a equação de densidade de probabilidade para a distribuição uniforme é dado por:\n",
        "\n",
        "$$ f(x) = \\frac{1}{b - a}, a \\leq x \\leq b $$\n",
        "\n",
        "E para o caso de $x \\notin [a, b]$, a função de densidade será $f(x) = 0$\n",
        "\n",
        "<br>\n",
        "Os valores para o valor esperado e a variância para a distribuição exponencial serão respectivamente:\n",
        "\n",
        "- __Valor Esperado:__ $ E[X] = \\frac{a + b}{2} $;\n",
        "\n",
        "- __Variância:__ $ V[X] = \\frac{(b - a)^2}{12}$.\n"
      ]
    },
    {
      "cell_type": "code",
      "execution_count": null,
      "id": "a6394f4c",
      "metadata": {
        "ExecuteTime": {
          "end_time": "2023-05-11T00:39:54.316051Z",
          "start_time": "2023-05-11T00:39:54.041093Z"
        },
        "id": "a6394f4c",
        "scrolled": false
      },
      "outputs": [],
      "source": []
    },
    {
      "cell_type": "markdown",
      "id": "84c19815",
      "metadata": {
        "id": "84c19815"
      },
      "source": [
        "## Exercícios"
      ]
    },
    {
      "cell_type": "markdown",
      "id": "bed5d17d",
      "metadata": {
        "id": "bed5d17d"
      },
      "source": [
        "__1)__ Em uma caixa há 7 bolas brancas, 4 pretas e 5 vermelhas. Retira-se 6 bolas com reposição. Calcule a probabilidade de que:\n",
        "\n",
        "__A)__ saiam 4 bolas vermelhas:\n",
        "\n",
        "__B)__ pelo menos 3 bolas brancas:\n",
        "\n",
        "__C)__ 1 ou 2 bolas pretas."
      ]
    },
    {
      "cell_type": "code",
      "execution_count": null,
      "id": "a6040afb",
      "metadata": {
        "id": "a6040afb"
      },
      "outputs": [],
      "source": []
    },
    {
      "cell_type": "markdown",
      "id": "e1753989",
      "metadata": {
        "id": "e1753989"
      },
      "source": [
        "__2)__ Em um livro de 800 páginas há 800 erros de impressão. Qual a probabilidade de que uma página contenha pelo menos 3 erros?"
      ]
    },
    {
      "cell_type": "code",
      "execution_count": null,
      "id": "a356e227",
      "metadata": {
        "id": "a356e227"
      },
      "outputs": [],
      "source": []
    },
    {
      "cell_type": "markdown",
      "id": "e1f55925",
      "metadata": {
        "id": "e1f55925"
      },
      "source": [
        "__3)__ Numa criação de coelhos, 45% são machos. Qual a probabilidade de nascerem pelo menos 5 coelhos machos num dia em que nasceram 15 coelhos?"
      ]
    },
    {
      "cell_type": "code",
      "execution_count": null,
      "id": "e7a3443e",
      "metadata": {
        "id": "e7a3443e"
      },
      "outputs": [],
      "source": []
    },
    {
      "cell_type": "markdown",
      "id": "eb5be6f8",
      "metadata": {
        "id": "eb5be6f8"
      },
      "source": [
        "__4)__ Numa estrada há 2 acidentes para cada 100 km. Qual a probabilidade de que em:\n",
        "\n",
        "__A)__ 250 km pelo menos 3 acidentes?"
      ]
    },
    {
      "cell_type": "code",
      "execution_count": null,
      "id": "9fb1fbd4",
      "metadata": {
        "ExecuteTime": {
          "end_time": "2023-05-11T00:59:22.184817Z",
          "start_time": "2023-05-11T00:59:22.162836Z"
        },
        "id": "9fb1fbd4"
      },
      "outputs": [],
      "source": []
    },
    {
      "cell_type": "markdown",
      "id": "7b32130a",
      "metadata": {
        "id": "7b32130a"
      },
      "source": [
        "__B)__ 300 km ocorram 5 acidentes?"
      ]
    },
    {
      "cell_type": "code",
      "execution_count": null,
      "id": "1ffa0631",
      "metadata": {
        "ExecuteTime": {
          "end_time": "2023-05-11T01:01:02.333854Z",
          "start_time": "2023-05-11T01:01:02.326541Z"
        },
        "id": "1ffa0631"
      },
      "outputs": [],
      "source": []
    }
  ],
  "metadata": {
    "colab": {
      "provenance": []
    },
    "kernelspec": {
      "display_name": "Python 3 (ipykernel)",
      "language": "python",
      "name": "python3"
    },
    "language_info": {
      "codemirror_mode": {
        "name": "ipython",
        "version": 3
      },
      "file_extension": ".py",
      "mimetype": "text/x-python",
      "name": "python",
      "nbconvert_exporter": "python",
      "pygments_lexer": "ipython3",
      "version": "3.10.9"
    },
    "varInspector": {
      "cols": {
        "lenName": 16,
        "lenType": 16,
        "lenVar": 40
      },
      "kernels_config": {
        "python": {
          "delete_cmd_postfix": "",
          "delete_cmd_prefix": "del ",
          "library": "var_list.py",
          "varRefreshCmd": "print(var_dic_list())"
        },
        "r": {
          "delete_cmd_postfix": ") ",
          "delete_cmd_prefix": "rm(",
          "library": "var_list.r",
          "varRefreshCmd": "cat(var_dic_list()) "
        }
      },
      "types_to_exclude": [
        "module",
        "function",
        "builtin_function_or_method",
        "instance",
        "_Feature"
      ],
      "window_display": false
    }
  },
  "nbformat": 4,
  "nbformat_minor": 5
}
