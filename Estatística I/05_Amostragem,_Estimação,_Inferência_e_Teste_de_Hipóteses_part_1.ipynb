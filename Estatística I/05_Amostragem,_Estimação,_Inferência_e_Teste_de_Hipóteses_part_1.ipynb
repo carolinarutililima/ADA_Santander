{
  "cells": [
    {
      "cell_type": "markdown",
      "id": "948dcd6e",
      "metadata": {
        "id": "948dcd6e"
      },
      "source": [
        "# 05 - Amostragem, Estimação, Inferência e Teste de Hipóteses\n",
        "\n",
        "Nessa aula, iremos tratar dos seguintes conteúdos:\n",
        "- Noções sobre Amostragem\n",
        "- Terminologia\n",
        "- Tipos de amostragem\n",
        "- Métodos de Amostragem\n",
        "- Tamanho amostral\n",
        "- Níveis de confiança e significância\n",
        "- Erro Inferencial e Intervalo de Confiança\n",
        "- Cálculo do Tamanho Amostral\n",
        "- Teste de Hipóteses\n",
        "- Valor p\n",
        "- Comparação entre duas médias"
      ]
    },
    {
      "cell_type": "code",
      "execution_count": null,
      "id": "f1e64f5e",
      "metadata": {
        "ExecuteTime": {
          "end_time": "2023-03-04T18:14:43.287535Z",
          "start_time": "2023-03-04T18:14:34.852020Z"
        },
        "id": "f1e64f5e"
      },
      "outputs": [],
      "source": []
    },
    {
      "cell_type": "markdown",
      "id": "d6222f0f",
      "metadata": {
        "id": "d6222f0f"
      },
      "source": [
        "# Noções sobre Amostragem\n",
        "\n",
        "<br>\n",
        "\n",
        "Aplicar __amostragem__ faz parte do cotidiano das pessoas sem mesmo elas saberem, como por exemplo na culinária, ao cozinhar um feijão para saber se está com suficiente sal e temperos, é retirado uma pequena porção par experimentar e a partir desta porção conclui-se a respeito do feijão como um todo. Tem exemplos também como em análises clínicas, ao retirar amostras de sangue e outro fluídos para a análise e identificação de eventuais alterações. Vale ressaltar que ambos os exemplos, não seria viável analisar o todo para ter conclusões satisfatórias.\n",
        "\n",
        "Em Estátistica, __amostragem__ representa este procedimento quevisa obter informações sobre o todo baseando-se no resultado de uma amostra.\n",
        "\n",
        "<br>\n",
        "\n",
        "<img src= \"https://solvis.com.br/wp-content/uploads/2021/02/imagem-para-blog-calculadora-de-amostragem-quantas-respostas-precisa-ter-na-pesquisa-solvis-e1613076591189.png\" width=500>\n",
        "\n",
        "Fonte [Solvis](https://solvis.com.br/wp-content/uploads/2021/02/imagem-para-blog-calculadora-de-amostragem-quantas-respostas-precisa-ter-na-pesquisa-solvis-e1613076591189.png)\n",
        "\n",
        "<br><br>\n"
      ]
    },
    {
      "cell_type": "markdown",
      "id": "56667ba1",
      "metadata": {
        "id": "56667ba1"
      },
      "source": [
        "### Terminologia sobre Amostragem\n",
        "\n",
        "<br>\n",
        "\n",
        "Será necessário definir algumas terminologias normalmente utilizadas quando se fala a respeito de amostragem. Este parâmetros estão descritos a seguir:\n",
        "\n",
        "- **População**: ou Universo é o conjunto de todas as unidades elementares de interesse. A população deve ser definida claramente e em termos da informação que se pretende conhecer;\n",
        "\n",
        "<br>\n",
        "\n",
        "- **Unidade**: trata-se de qualquer elemento da população;\n",
        "\n",
        "<br>\n",
        "\n",
        "- **Amostra**: uma parte ou subconjunto da população;\n",
        "\n",
        "<br>\n",
        "\n",
        "- **Censo**:  observação de todos os elementos da população;\n",
        "\n",
        "<br>\n",
        "\n",
        "- **Parâmetro Populacional**: é o vetor correspondente a todos os valores de uma variável de interesse. Pode ser qualitativa (gosto musical, opnião sobre o governo, etc) ou quantitativa (média, proporção, quantidade, etc).\n",
        "\n",
        "<br>\n",
        "\n",
        "- **Função Paramétrica Populacional**:  é uma característica numérica da população, ou seja, uma expressão numérica que condensa os valores do vetor de parâmetro populacional. Por exemplo, média, total, proporção, dentre outros.\n",
        "\n",
        "<br>\n",
        "\n",
        "\n",
        "Utilizando como exemplo, considere uma população formada por 4 alunos de uma escola. Com as seguintes caracteristicas:\n",
        "\n",
        "<br>\n",
        "\n",
        "<table>\n",
        "    <th style=\"text-align: center; border: 1px solid black\">Variável</th>\n",
        "    <th style=\"text-align: center; border: 1px solid black\" colspan=\"4\">Valores</td>\n",
        "    <tr style=\" border: 1px solid black\">\n",
        "        <td style=\"text-align: center; border: 1px solid black\">Aluno</td>\n",
        "        <td style=\"text-align: center; border: 1px solid black\">1</td>\n",
        "        <td style=\"text-align: center; border: 1px solid black\">2</td>\n",
        "        <td style=\"text-align: center; border: 1px solid black\">3</td>\n",
        "        <td style=\"text-align: center; border: 1px solid black\">4</td>\n",
        "    </tr>\n",
        "    <tr style=\"text-align: center; border: 1px solid black\">\n",
        "        <td style=\"text-align: center; border: 1px solid black\">Nome</td>\n",
        "        <td style=\"text-align: center; border: 1px solid black\">Luiz</td>\n",
        "        <td style=\"text-align: center; border: 1px solid black\">Marcela</td>\n",
        "        <td style=\"text-align: center; border: 1px solid black\">Pedro</td>\n",
        "        <td style=\"text-align: center; border: 1px solid black\">Julia</td>\n",
        "    </tr>\n",
        "    <tr style=\"text-align: center; border: 1px solid black\">\n",
        "        <td style=\"text-align: center; border: 1px solid black\">Idade</td>\n",
        "        <td style=\"text-align: center; border: 1px solid black\">15</td>\n",
        "        <td style=\"text-align: center; border: 1px solid black\">14</td>\n",
        "        <td style=\"text-align: center; border: 1px solid black\">13</td>\n",
        "        <td style=\"text-align: center; border: 1px solid black\">16</td>\n",
        "    </tr>\n",
        "        <tr style=\"text-align: center; border: 1px solid black\">\n",
        "        <td style=\"text-align: center; border: 1px solid black\">Sexo</td>\n",
        "        <td style=\"text-align: center; border: 1px solid black\">M</td>\n",
        "        <td style=\"text-align: center; border: 1px solid black\">F</td>\n",
        "        <td style=\"text-align: center; border: 1px solid black\">M</td>\n",
        "        <td style=\"text-align: center; border: 1px solid black\">F</td>\n",
        "    </tr>\n",
        "</table>\n",
        "\n",
        "<br>\n",
        "\n",
        "Neste exemplo, cada aluno é um elemento da população. Com relação à amostragem os subconjuntos (Luiz, Marcela), (Pedro, Julia), (Marcela) são **exemplos de amostra**. **Parâmetros populacionais**: $idade = (15, 14, 13, 16)$ e $sexo = (M, F, M, F)$. Com relação às **funções paramétricas**, poderíamos definir:\n",
        "\n",
        "- Idade média: fazendo idade = I:\n",
        "\n",
        "$$\\mu = \\overline{I} = \\frac{\\sum_{i=1}^{4}I_i}{4}=\\frac{15 + 14 + 13 + 16}{4} = 14,5$$\n",
        "\n",
        "- Idade máxima: max(Y)= max(15, 14, 13, 16) = 16\n",
        "\n",
        "\n",
        "- Porporção de meninas: sexo = Y = (M, F, M, F)\n",
        "\n",
        "$$p(F) = \\frac{1}{2} = 0,5 $$\n",
        "\n",
        "<br><br>\n"
      ]
    },
    {
      "cell_type": "markdown",
      "id": "191e9e86",
      "metadata": {
        "id": "191e9e86"
      },
      "source": [
        "### Tipos de Amostragem\n",
        "\n",
        "<br>\n",
        "\n",
        "Sobre a amostragem, pode-se classicá-la em dois tipos a respeito sobre as probabilidade destas amostra:\n",
        "\n",
        "<br>\n",
        "\n",
        "- **Amostra Probabilística**: todos os elementos da população apresentam probabilidade maior que zero de serem selecionados;\n",
        "\n",
        "<br>\n",
        "\n",
        "- **Amostra Não-Probabilística**: quando não há probabilidade clara/conhecida de seleção dos elementos. Os elementos são escolhidos de forma julgamental;\n",
        "\n",
        "<br><br>\n"
      ]
    },
    {
      "cell_type": "markdown",
      "id": "fa4810cb",
      "metadata": {
        "id": "fa4810cb"
      },
      "source": [
        "### Quando utilizar amostras?\n",
        "\n",
        "<br>\n",
        "\n",
        "Como no exemplo do feijão e do paciente, existe alguns casos que são ideais para utilizar de amostras em análises. A seguir, será listada alguns casos de aplicação de amostragem:\n",
        "\n",
        "<br>\n",
        "\n",
        "- __Populações infinitas__: Quando é possível investigar todos os elementos de uma população;\n",
        "\n",
        "- __Teste Destrutivos__: Estudos onde os elementos avaliados  passarão por algum processo de transformação, sendo este processo destrutivo para a amostra. Exemplo: Ensaio sobre fadiga em asas de avião;\n",
        "\n",
        "- __Resultados Rápidos__: Pesquisas que precisam de mais agilidade na divulgação. Exemplo: pesquisas de opinião, pesquisas que envolvam problemas de saúde pública;\n",
        "\n",
        "- __Custos Elevados__: Quando a população é finita mas muito numerosa, o custo de um censo pode tornar o processo inviável. Exemplo: modelar uma base de 10 milhões de clientes em uma máquina local não adequada.\n",
        "\n",
        "<br><br>\n"
      ]
    },
    {
      "cell_type": "markdown",
      "id": "19657dec",
      "metadata": {
        "id": "19657dec"
      },
      "source": [
        "## Métodos de Amostragem\n",
        "\n",
        "\n",
        "<br>\n",
        "\n",
        "Neste material, será abordado apenas os métodos relacionados à amostragem probabilística, que tem como objetivo de obter uma **amostra representativa**. Uma amostra é considerada representativa quando consegue **refletir as caracteristicas da população**.\n",
        "\n",
        "<br><br>\n",
        "\n",
        "### Amostra Aleatória Simples\n",
        "\n",
        "<br>\n",
        "\n",
        "Este é o método mais simples e mais importante de seleção de uma amostra, pois pode ser usada em combinação com outros métodos. A premissa assumida é que a população é homogênea com relação à característica de interesse.\n",
        "\n",
        "A amostra aleatória simples pode ser realizada com ou sem reposição. No caso em que há reposição, cada elemento pode ser sorteado mais de uma vez. Para exemplificar, suponha que se queira sortear um número aleatório de uma urna, se for uma AAS com reposição,  este número voltará para urna para participar do próximo sorteio. Se não houver reposição, cada elemento só poderá ser selecionado uma vez para compor a amostra.\n",
        "\n",
        "Considere uma população formada por $N$ elementos (conhecido e finito). Este método consiste em selecionar $n$ elementos, sendo que cada elemento tem a mesma probabilidade de ser selecionado.\n",
        "\n",
        "**Exemplo  de Aplicação**: Considere uma população formada por 50 alunos. Selecionar de forma aleatória 10 alunos, sem reposição.\n"
      ]
    },
    {
      "cell_type": "code",
      "execution_count": 1,
      "id": "d95a9114",
      "metadata": {
        "ExecuteTime": {
          "end_time": "2023-05-13T00:26:13.098881Z",
          "start_time": "2023-05-13T00:26:13.091853Z"
        },
        "id": "d95a9114"
      },
      "outputs": [],
      "source": [
        "import seaborn as sns"
      ]
    },
    {
      "cell_type": "code",
      "source": [
        "df_tips = sns.load_dataset('tips')"
      ],
      "metadata": {
        "id": "pD2eLyBeRHQt"
      },
      "id": "pD2eLyBeRHQt",
      "execution_count": 2,
      "outputs": []
    },
    {
      "cell_type": "code",
      "source": [
        "df_tips.sample(50)"
      ],
      "metadata": {
        "colab": {
          "base_uri": "https://localhost:8080/",
          "height": 1000
        },
        "id": "ucHxZNhzRKk2",
        "outputId": "8934998a-ea67-4dda-d537-10f31568b82f"
      },
      "id": "ucHxZNhzRKk2",
      "execution_count": 4,
      "outputs": [
        {
          "output_type": "execute_result",
          "data": {
            "text/plain": [
              "     total_bill    tip     sex smoker   day    time  size\n",
              "211       25.89   5.16    Male    Yes   Sat  Dinner     4\n",
              "83        32.68   5.00    Male    Yes  Thur   Lunch     2\n",
              "224       13.42   1.58    Male    Yes   Fri   Lunch     2\n",
              "160       21.50   3.50    Male     No   Sun  Dinner     4\n",
              "239       29.03   5.92    Male     No   Sat  Dinner     3\n",
              "34        17.78   3.27    Male     No   Sat  Dinner     2\n",
              "7         26.88   3.12    Male     No   Sun  Dinner     4\n",
              "164       17.51   3.00  Female    Yes   Sun  Dinner     2\n",
              "232       11.61   3.39    Male     No   Sat  Dinner     2\n",
              "238       35.83   4.67  Female     No   Sat  Dinner     3\n",
              "155       29.85   5.14  Female     No   Sun  Dinner     5\n",
              "153       24.55   2.00    Male     No   Sun  Dinner     4\n",
              "144       16.43   2.30  Female     No  Thur   Lunch     2\n",
              "190       15.69   1.50    Male    Yes   Sun  Dinner     2\n",
              "1         10.34   1.66    Male     No   Sun  Dinner     3\n",
              "142       41.19   5.00    Male     No  Thur   Lunch     5\n",
              "28        21.70   4.30    Male     No   Sat  Dinner     2\n",
              "96        27.28   4.00    Male    Yes   Fri  Dinner     2\n",
              "33        20.69   2.45  Female     No   Sat  Dinner     4\n",
              "133       12.26   2.00  Female     No  Thur   Lunch     2\n",
              "173       31.85   3.18    Male    Yes   Sun  Dinner     2\n",
              "100       11.35   2.50  Female    Yes   Fri  Dinner     2\n",
              "152       17.26   2.74    Male     No   Sun  Dinner     3\n",
              "168       10.59   1.61  Female    Yes   Sat  Dinner     2\n",
              "86        13.03   2.00    Male     No  Thur   Lunch     2\n",
              "222        8.58   1.92    Male    Yes   Fri   Lunch     1\n",
              "162       16.21   2.00  Female     No   Sun  Dinner     3\n",
              "51        10.29   2.60  Female     No   Sun  Dinner     2\n",
              "170       50.81  10.00    Male    Yes   Sat  Dinner     3\n",
              "95        40.17   4.73    Male    Yes   Fri  Dinner     4\n",
              "131       20.27   2.83  Female     No  Thur   Lunch     2\n",
              "101       15.38   3.00  Female    Yes   Fri  Dinner     2\n",
              "205       16.47   3.23  Female    Yes  Thur   Lunch     3\n",
              "24        19.82   3.18    Male     No   Sat  Dinner     2\n",
              "65        20.08   3.15    Male     No   Sat  Dinner     3\n",
              "88        24.71   5.85    Male     No  Thur   Lunch     2\n",
              "111        7.25   1.00  Female     No   Sat  Dinner     1\n",
              "78        22.76   3.00    Male     No  Thur   Lunch     2\n",
              "107       25.21   4.29    Male    Yes   Sat  Dinner     2\n",
              "118       12.43   1.80  Female     No  Thur   Lunch     2\n",
              "226       10.09   2.00  Female    Yes   Fri   Lunch     2\n",
              "74        14.73   2.20  Female     No   Sat  Dinner     2\n",
              "204       20.53   4.00    Male    Yes  Thur   Lunch     4\n",
              "67         3.07   1.00  Female    Yes   Sat  Dinner     1\n",
              "149        7.51   2.00    Male     No  Thur   Lunch     2\n",
              "26        13.37   2.00    Male     No   Sat  Dinner     2\n",
              "217       11.59   1.50    Male    Yes   Sat  Dinner     2\n",
              "112       38.07   4.00    Male     No   Sun  Dinner     3\n",
              "181       23.33   5.65    Male    Yes   Sun  Dinner     2\n",
              "137       14.15   2.00  Female     No  Thur   Lunch     2"
            ],
            "text/html": [
              "\n",
              "  <div id=\"df-7a521456-a554-4b18-90f5-bc4d0658e447\" class=\"colab-df-container\">\n",
              "    <div>\n",
              "<style scoped>\n",
              "    .dataframe tbody tr th:only-of-type {\n",
              "        vertical-align: middle;\n",
              "    }\n",
              "\n",
              "    .dataframe tbody tr th {\n",
              "        vertical-align: top;\n",
              "    }\n",
              "\n",
              "    .dataframe thead th {\n",
              "        text-align: right;\n",
              "    }\n",
              "</style>\n",
              "<table border=\"1\" class=\"dataframe\">\n",
              "  <thead>\n",
              "    <tr style=\"text-align: right;\">\n",
              "      <th></th>\n",
              "      <th>total_bill</th>\n",
              "      <th>tip</th>\n",
              "      <th>sex</th>\n",
              "      <th>smoker</th>\n",
              "      <th>day</th>\n",
              "      <th>time</th>\n",
              "      <th>size</th>\n",
              "    </tr>\n",
              "  </thead>\n",
              "  <tbody>\n",
              "    <tr>\n",
              "      <th>211</th>\n",
              "      <td>25.89</td>\n",
              "      <td>5.16</td>\n",
              "      <td>Male</td>\n",
              "      <td>Yes</td>\n",
              "      <td>Sat</td>\n",
              "      <td>Dinner</td>\n",
              "      <td>4</td>\n",
              "    </tr>\n",
              "    <tr>\n",
              "      <th>83</th>\n",
              "      <td>32.68</td>\n",
              "      <td>5.00</td>\n",
              "      <td>Male</td>\n",
              "      <td>Yes</td>\n",
              "      <td>Thur</td>\n",
              "      <td>Lunch</td>\n",
              "      <td>2</td>\n",
              "    </tr>\n",
              "    <tr>\n",
              "      <th>224</th>\n",
              "      <td>13.42</td>\n",
              "      <td>1.58</td>\n",
              "      <td>Male</td>\n",
              "      <td>Yes</td>\n",
              "      <td>Fri</td>\n",
              "      <td>Lunch</td>\n",
              "      <td>2</td>\n",
              "    </tr>\n",
              "    <tr>\n",
              "      <th>160</th>\n",
              "      <td>21.50</td>\n",
              "      <td>3.50</td>\n",
              "      <td>Male</td>\n",
              "      <td>No</td>\n",
              "      <td>Sun</td>\n",
              "      <td>Dinner</td>\n",
              "      <td>4</td>\n",
              "    </tr>\n",
              "    <tr>\n",
              "      <th>239</th>\n",
              "      <td>29.03</td>\n",
              "      <td>5.92</td>\n",
              "      <td>Male</td>\n",
              "      <td>No</td>\n",
              "      <td>Sat</td>\n",
              "      <td>Dinner</td>\n",
              "      <td>3</td>\n",
              "    </tr>\n",
              "    <tr>\n",
              "      <th>34</th>\n",
              "      <td>17.78</td>\n",
              "      <td>3.27</td>\n",
              "      <td>Male</td>\n",
              "      <td>No</td>\n",
              "      <td>Sat</td>\n",
              "      <td>Dinner</td>\n",
              "      <td>2</td>\n",
              "    </tr>\n",
              "    <tr>\n",
              "      <th>7</th>\n",
              "      <td>26.88</td>\n",
              "      <td>3.12</td>\n",
              "      <td>Male</td>\n",
              "      <td>No</td>\n",
              "      <td>Sun</td>\n",
              "      <td>Dinner</td>\n",
              "      <td>4</td>\n",
              "    </tr>\n",
              "    <tr>\n",
              "      <th>164</th>\n",
              "      <td>17.51</td>\n",
              "      <td>3.00</td>\n",
              "      <td>Female</td>\n",
              "      <td>Yes</td>\n",
              "      <td>Sun</td>\n",
              "      <td>Dinner</td>\n",
              "      <td>2</td>\n",
              "    </tr>\n",
              "    <tr>\n",
              "      <th>232</th>\n",
              "      <td>11.61</td>\n",
              "      <td>3.39</td>\n",
              "      <td>Male</td>\n",
              "      <td>No</td>\n",
              "      <td>Sat</td>\n",
              "      <td>Dinner</td>\n",
              "      <td>2</td>\n",
              "    </tr>\n",
              "    <tr>\n",
              "      <th>238</th>\n",
              "      <td>35.83</td>\n",
              "      <td>4.67</td>\n",
              "      <td>Female</td>\n",
              "      <td>No</td>\n",
              "      <td>Sat</td>\n",
              "      <td>Dinner</td>\n",
              "      <td>3</td>\n",
              "    </tr>\n",
              "    <tr>\n",
              "      <th>155</th>\n",
              "      <td>29.85</td>\n",
              "      <td>5.14</td>\n",
              "      <td>Female</td>\n",
              "      <td>No</td>\n",
              "      <td>Sun</td>\n",
              "      <td>Dinner</td>\n",
              "      <td>5</td>\n",
              "    </tr>\n",
              "    <tr>\n",
              "      <th>153</th>\n",
              "      <td>24.55</td>\n",
              "      <td>2.00</td>\n",
              "      <td>Male</td>\n",
              "      <td>No</td>\n",
              "      <td>Sun</td>\n",
              "      <td>Dinner</td>\n",
              "      <td>4</td>\n",
              "    </tr>\n",
              "    <tr>\n",
              "      <th>144</th>\n",
              "      <td>16.43</td>\n",
              "      <td>2.30</td>\n",
              "      <td>Female</td>\n",
              "      <td>No</td>\n",
              "      <td>Thur</td>\n",
              "      <td>Lunch</td>\n",
              "      <td>2</td>\n",
              "    </tr>\n",
              "    <tr>\n",
              "      <th>190</th>\n",
              "      <td>15.69</td>\n",
              "      <td>1.50</td>\n",
              "      <td>Male</td>\n",
              "      <td>Yes</td>\n",
              "      <td>Sun</td>\n",
              "      <td>Dinner</td>\n",
              "      <td>2</td>\n",
              "    </tr>\n",
              "    <tr>\n",
              "      <th>1</th>\n",
              "      <td>10.34</td>\n",
              "      <td>1.66</td>\n",
              "      <td>Male</td>\n",
              "      <td>No</td>\n",
              "      <td>Sun</td>\n",
              "      <td>Dinner</td>\n",
              "      <td>3</td>\n",
              "    </tr>\n",
              "    <tr>\n",
              "      <th>142</th>\n",
              "      <td>41.19</td>\n",
              "      <td>5.00</td>\n",
              "      <td>Male</td>\n",
              "      <td>No</td>\n",
              "      <td>Thur</td>\n",
              "      <td>Lunch</td>\n",
              "      <td>5</td>\n",
              "    </tr>\n",
              "    <tr>\n",
              "      <th>28</th>\n",
              "      <td>21.70</td>\n",
              "      <td>4.30</td>\n",
              "      <td>Male</td>\n",
              "      <td>No</td>\n",
              "      <td>Sat</td>\n",
              "      <td>Dinner</td>\n",
              "      <td>2</td>\n",
              "    </tr>\n",
              "    <tr>\n",
              "      <th>96</th>\n",
              "      <td>27.28</td>\n",
              "      <td>4.00</td>\n",
              "      <td>Male</td>\n",
              "      <td>Yes</td>\n",
              "      <td>Fri</td>\n",
              "      <td>Dinner</td>\n",
              "      <td>2</td>\n",
              "    </tr>\n",
              "    <tr>\n",
              "      <th>33</th>\n",
              "      <td>20.69</td>\n",
              "      <td>2.45</td>\n",
              "      <td>Female</td>\n",
              "      <td>No</td>\n",
              "      <td>Sat</td>\n",
              "      <td>Dinner</td>\n",
              "      <td>4</td>\n",
              "    </tr>\n",
              "    <tr>\n",
              "      <th>133</th>\n",
              "      <td>12.26</td>\n",
              "      <td>2.00</td>\n",
              "      <td>Female</td>\n",
              "      <td>No</td>\n",
              "      <td>Thur</td>\n",
              "      <td>Lunch</td>\n",
              "      <td>2</td>\n",
              "    </tr>\n",
              "    <tr>\n",
              "      <th>173</th>\n",
              "      <td>31.85</td>\n",
              "      <td>3.18</td>\n",
              "      <td>Male</td>\n",
              "      <td>Yes</td>\n",
              "      <td>Sun</td>\n",
              "      <td>Dinner</td>\n",
              "      <td>2</td>\n",
              "    </tr>\n",
              "    <tr>\n",
              "      <th>100</th>\n",
              "      <td>11.35</td>\n",
              "      <td>2.50</td>\n",
              "      <td>Female</td>\n",
              "      <td>Yes</td>\n",
              "      <td>Fri</td>\n",
              "      <td>Dinner</td>\n",
              "      <td>2</td>\n",
              "    </tr>\n",
              "    <tr>\n",
              "      <th>152</th>\n",
              "      <td>17.26</td>\n",
              "      <td>2.74</td>\n",
              "      <td>Male</td>\n",
              "      <td>No</td>\n",
              "      <td>Sun</td>\n",
              "      <td>Dinner</td>\n",
              "      <td>3</td>\n",
              "    </tr>\n",
              "    <tr>\n",
              "      <th>168</th>\n",
              "      <td>10.59</td>\n",
              "      <td>1.61</td>\n",
              "      <td>Female</td>\n",
              "      <td>Yes</td>\n",
              "      <td>Sat</td>\n",
              "      <td>Dinner</td>\n",
              "      <td>2</td>\n",
              "    </tr>\n",
              "    <tr>\n",
              "      <th>86</th>\n",
              "      <td>13.03</td>\n",
              "      <td>2.00</td>\n",
              "      <td>Male</td>\n",
              "      <td>No</td>\n",
              "      <td>Thur</td>\n",
              "      <td>Lunch</td>\n",
              "      <td>2</td>\n",
              "    </tr>\n",
              "    <tr>\n",
              "      <th>222</th>\n",
              "      <td>8.58</td>\n",
              "      <td>1.92</td>\n",
              "      <td>Male</td>\n",
              "      <td>Yes</td>\n",
              "      <td>Fri</td>\n",
              "      <td>Lunch</td>\n",
              "      <td>1</td>\n",
              "    </tr>\n",
              "    <tr>\n",
              "      <th>162</th>\n",
              "      <td>16.21</td>\n",
              "      <td>2.00</td>\n",
              "      <td>Female</td>\n",
              "      <td>No</td>\n",
              "      <td>Sun</td>\n",
              "      <td>Dinner</td>\n",
              "      <td>3</td>\n",
              "    </tr>\n",
              "    <tr>\n",
              "      <th>51</th>\n",
              "      <td>10.29</td>\n",
              "      <td>2.60</td>\n",
              "      <td>Female</td>\n",
              "      <td>No</td>\n",
              "      <td>Sun</td>\n",
              "      <td>Dinner</td>\n",
              "      <td>2</td>\n",
              "    </tr>\n",
              "    <tr>\n",
              "      <th>170</th>\n",
              "      <td>50.81</td>\n",
              "      <td>10.00</td>\n",
              "      <td>Male</td>\n",
              "      <td>Yes</td>\n",
              "      <td>Sat</td>\n",
              "      <td>Dinner</td>\n",
              "      <td>3</td>\n",
              "    </tr>\n",
              "    <tr>\n",
              "      <th>95</th>\n",
              "      <td>40.17</td>\n",
              "      <td>4.73</td>\n",
              "      <td>Male</td>\n",
              "      <td>Yes</td>\n",
              "      <td>Fri</td>\n",
              "      <td>Dinner</td>\n",
              "      <td>4</td>\n",
              "    </tr>\n",
              "    <tr>\n",
              "      <th>131</th>\n",
              "      <td>20.27</td>\n",
              "      <td>2.83</td>\n",
              "      <td>Female</td>\n",
              "      <td>No</td>\n",
              "      <td>Thur</td>\n",
              "      <td>Lunch</td>\n",
              "      <td>2</td>\n",
              "    </tr>\n",
              "    <tr>\n",
              "      <th>101</th>\n",
              "      <td>15.38</td>\n",
              "      <td>3.00</td>\n",
              "      <td>Female</td>\n",
              "      <td>Yes</td>\n",
              "      <td>Fri</td>\n",
              "      <td>Dinner</td>\n",
              "      <td>2</td>\n",
              "    </tr>\n",
              "    <tr>\n",
              "      <th>205</th>\n",
              "      <td>16.47</td>\n",
              "      <td>3.23</td>\n",
              "      <td>Female</td>\n",
              "      <td>Yes</td>\n",
              "      <td>Thur</td>\n",
              "      <td>Lunch</td>\n",
              "      <td>3</td>\n",
              "    </tr>\n",
              "    <tr>\n",
              "      <th>24</th>\n",
              "      <td>19.82</td>\n",
              "      <td>3.18</td>\n",
              "      <td>Male</td>\n",
              "      <td>No</td>\n",
              "      <td>Sat</td>\n",
              "      <td>Dinner</td>\n",
              "      <td>2</td>\n",
              "    </tr>\n",
              "    <tr>\n",
              "      <th>65</th>\n",
              "      <td>20.08</td>\n",
              "      <td>3.15</td>\n",
              "      <td>Male</td>\n",
              "      <td>No</td>\n",
              "      <td>Sat</td>\n",
              "      <td>Dinner</td>\n",
              "      <td>3</td>\n",
              "    </tr>\n",
              "    <tr>\n",
              "      <th>88</th>\n",
              "      <td>24.71</td>\n",
              "      <td>5.85</td>\n",
              "      <td>Male</td>\n",
              "      <td>No</td>\n",
              "      <td>Thur</td>\n",
              "      <td>Lunch</td>\n",
              "      <td>2</td>\n",
              "    </tr>\n",
              "    <tr>\n",
              "      <th>111</th>\n",
              "      <td>7.25</td>\n",
              "      <td>1.00</td>\n",
              "      <td>Female</td>\n",
              "      <td>No</td>\n",
              "      <td>Sat</td>\n",
              "      <td>Dinner</td>\n",
              "      <td>1</td>\n",
              "    </tr>\n",
              "    <tr>\n",
              "      <th>78</th>\n",
              "      <td>22.76</td>\n",
              "      <td>3.00</td>\n",
              "      <td>Male</td>\n",
              "      <td>No</td>\n",
              "      <td>Thur</td>\n",
              "      <td>Lunch</td>\n",
              "      <td>2</td>\n",
              "    </tr>\n",
              "    <tr>\n",
              "      <th>107</th>\n",
              "      <td>25.21</td>\n",
              "      <td>4.29</td>\n",
              "      <td>Male</td>\n",
              "      <td>Yes</td>\n",
              "      <td>Sat</td>\n",
              "      <td>Dinner</td>\n",
              "      <td>2</td>\n",
              "    </tr>\n",
              "    <tr>\n",
              "      <th>118</th>\n",
              "      <td>12.43</td>\n",
              "      <td>1.80</td>\n",
              "      <td>Female</td>\n",
              "      <td>No</td>\n",
              "      <td>Thur</td>\n",
              "      <td>Lunch</td>\n",
              "      <td>2</td>\n",
              "    </tr>\n",
              "    <tr>\n",
              "      <th>226</th>\n",
              "      <td>10.09</td>\n",
              "      <td>2.00</td>\n",
              "      <td>Female</td>\n",
              "      <td>Yes</td>\n",
              "      <td>Fri</td>\n",
              "      <td>Lunch</td>\n",
              "      <td>2</td>\n",
              "    </tr>\n",
              "    <tr>\n",
              "      <th>74</th>\n",
              "      <td>14.73</td>\n",
              "      <td>2.20</td>\n",
              "      <td>Female</td>\n",
              "      <td>No</td>\n",
              "      <td>Sat</td>\n",
              "      <td>Dinner</td>\n",
              "      <td>2</td>\n",
              "    </tr>\n",
              "    <tr>\n",
              "      <th>204</th>\n",
              "      <td>20.53</td>\n",
              "      <td>4.00</td>\n",
              "      <td>Male</td>\n",
              "      <td>Yes</td>\n",
              "      <td>Thur</td>\n",
              "      <td>Lunch</td>\n",
              "      <td>4</td>\n",
              "    </tr>\n",
              "    <tr>\n",
              "      <th>67</th>\n",
              "      <td>3.07</td>\n",
              "      <td>1.00</td>\n",
              "      <td>Female</td>\n",
              "      <td>Yes</td>\n",
              "      <td>Sat</td>\n",
              "      <td>Dinner</td>\n",
              "      <td>1</td>\n",
              "    </tr>\n",
              "    <tr>\n",
              "      <th>149</th>\n",
              "      <td>7.51</td>\n",
              "      <td>2.00</td>\n",
              "      <td>Male</td>\n",
              "      <td>No</td>\n",
              "      <td>Thur</td>\n",
              "      <td>Lunch</td>\n",
              "      <td>2</td>\n",
              "    </tr>\n",
              "    <tr>\n",
              "      <th>26</th>\n",
              "      <td>13.37</td>\n",
              "      <td>2.00</td>\n",
              "      <td>Male</td>\n",
              "      <td>No</td>\n",
              "      <td>Sat</td>\n",
              "      <td>Dinner</td>\n",
              "      <td>2</td>\n",
              "    </tr>\n",
              "    <tr>\n",
              "      <th>217</th>\n",
              "      <td>11.59</td>\n",
              "      <td>1.50</td>\n",
              "      <td>Male</td>\n",
              "      <td>Yes</td>\n",
              "      <td>Sat</td>\n",
              "      <td>Dinner</td>\n",
              "      <td>2</td>\n",
              "    </tr>\n",
              "    <tr>\n",
              "      <th>112</th>\n",
              "      <td>38.07</td>\n",
              "      <td>4.00</td>\n",
              "      <td>Male</td>\n",
              "      <td>No</td>\n",
              "      <td>Sun</td>\n",
              "      <td>Dinner</td>\n",
              "      <td>3</td>\n",
              "    </tr>\n",
              "    <tr>\n",
              "      <th>181</th>\n",
              "      <td>23.33</td>\n",
              "      <td>5.65</td>\n",
              "      <td>Male</td>\n",
              "      <td>Yes</td>\n",
              "      <td>Sun</td>\n",
              "      <td>Dinner</td>\n",
              "      <td>2</td>\n",
              "    </tr>\n",
              "    <tr>\n",
              "      <th>137</th>\n",
              "      <td>14.15</td>\n",
              "      <td>2.00</td>\n",
              "      <td>Female</td>\n",
              "      <td>No</td>\n",
              "      <td>Thur</td>\n",
              "      <td>Lunch</td>\n",
              "      <td>2</td>\n",
              "    </tr>\n",
              "  </tbody>\n",
              "</table>\n",
              "</div>\n",
              "    <div class=\"colab-df-buttons\">\n",
              "\n",
              "  <div class=\"colab-df-container\">\n",
              "    <button class=\"colab-df-convert\" onclick=\"convertToInteractive('df-7a521456-a554-4b18-90f5-bc4d0658e447')\"\n",
              "            title=\"Convert this dataframe to an interactive table.\"\n",
              "            style=\"display:none;\">\n",
              "\n",
              "  <svg xmlns=\"http://www.w3.org/2000/svg\" height=\"24px\" viewBox=\"0 -960 960 960\">\n",
              "    <path d=\"M120-120v-720h720v720H120Zm60-500h600v-160H180v160Zm220 220h160v-160H400v160Zm0 220h160v-160H400v160ZM180-400h160v-160H180v160Zm440 0h160v-160H620v160ZM180-180h160v-160H180v160Zm440 0h160v-160H620v160Z\"/>\n",
              "  </svg>\n",
              "    </button>\n",
              "\n",
              "  <style>\n",
              "    .colab-df-container {\n",
              "      display:flex;\n",
              "      gap: 12px;\n",
              "    }\n",
              "\n",
              "    .colab-df-convert {\n",
              "      background-color: #E8F0FE;\n",
              "      border: none;\n",
              "      border-radius: 50%;\n",
              "      cursor: pointer;\n",
              "      display: none;\n",
              "      fill: #1967D2;\n",
              "      height: 32px;\n",
              "      padding: 0 0 0 0;\n",
              "      width: 32px;\n",
              "    }\n",
              "\n",
              "    .colab-df-convert:hover {\n",
              "      background-color: #E2EBFA;\n",
              "      box-shadow: 0px 1px 2px rgba(60, 64, 67, 0.3), 0px 1px 3px 1px rgba(60, 64, 67, 0.15);\n",
              "      fill: #174EA6;\n",
              "    }\n",
              "\n",
              "    .colab-df-buttons div {\n",
              "      margin-bottom: 4px;\n",
              "    }\n",
              "\n",
              "    [theme=dark] .colab-df-convert {\n",
              "      background-color: #3B4455;\n",
              "      fill: #D2E3FC;\n",
              "    }\n",
              "\n",
              "    [theme=dark] .colab-df-convert:hover {\n",
              "      background-color: #434B5C;\n",
              "      box-shadow: 0px 1px 3px 1px rgba(0, 0, 0, 0.15);\n",
              "      filter: drop-shadow(0px 1px 2px rgba(0, 0, 0, 0.3));\n",
              "      fill: #FFFFFF;\n",
              "    }\n",
              "  </style>\n",
              "\n",
              "    <script>\n",
              "      const buttonEl =\n",
              "        document.querySelector('#df-7a521456-a554-4b18-90f5-bc4d0658e447 button.colab-df-convert');\n",
              "      buttonEl.style.display =\n",
              "        google.colab.kernel.accessAllowed ? 'block' : 'none';\n",
              "\n",
              "      async function convertToInteractive(key) {\n",
              "        const element = document.querySelector('#df-7a521456-a554-4b18-90f5-bc4d0658e447');\n",
              "        const dataTable =\n",
              "          await google.colab.kernel.invokeFunction('convertToInteractive',\n",
              "                                                    [key], {});\n",
              "        if (!dataTable) return;\n",
              "\n",
              "        const docLinkHtml = 'Like what you see? Visit the ' +\n",
              "          '<a target=\"_blank\" href=https://colab.research.google.com/notebooks/data_table.ipynb>data table notebook</a>'\n",
              "          + ' to learn more about interactive tables.';\n",
              "        element.innerHTML = '';\n",
              "        dataTable['output_type'] = 'display_data';\n",
              "        await google.colab.output.renderOutput(dataTable, element);\n",
              "        const docLink = document.createElement('div');\n",
              "        docLink.innerHTML = docLinkHtml;\n",
              "        element.appendChild(docLink);\n",
              "      }\n",
              "    </script>\n",
              "  </div>\n",
              "\n",
              "\n",
              "<div id=\"df-c66c9d92-b007-4864-bba3-ce50ea2b861e\">\n",
              "  <button class=\"colab-df-quickchart\" onclick=\"quickchart('df-c66c9d92-b007-4864-bba3-ce50ea2b861e')\"\n",
              "            title=\"Suggest charts\"\n",
              "            style=\"display:none;\">\n",
              "\n",
              "<svg xmlns=\"http://www.w3.org/2000/svg\" height=\"24px\"viewBox=\"0 0 24 24\"\n",
              "     width=\"24px\">\n",
              "    <g>\n",
              "        <path d=\"M19 3H5c-1.1 0-2 .9-2 2v14c0 1.1.9 2 2 2h14c1.1 0 2-.9 2-2V5c0-1.1-.9-2-2-2zM9 17H7v-7h2v7zm4 0h-2V7h2v10zm4 0h-2v-4h2v4z\"/>\n",
              "    </g>\n",
              "</svg>\n",
              "  </button>\n",
              "\n",
              "<style>\n",
              "  .colab-df-quickchart {\n",
              "      --bg-color: #E8F0FE;\n",
              "      --fill-color: #1967D2;\n",
              "      --hover-bg-color: #E2EBFA;\n",
              "      --hover-fill-color: #174EA6;\n",
              "      --disabled-fill-color: #AAA;\n",
              "      --disabled-bg-color: #DDD;\n",
              "  }\n",
              "\n",
              "  [theme=dark] .colab-df-quickchart {\n",
              "      --bg-color: #3B4455;\n",
              "      --fill-color: #D2E3FC;\n",
              "      --hover-bg-color: #434B5C;\n",
              "      --hover-fill-color: #FFFFFF;\n",
              "      --disabled-bg-color: #3B4455;\n",
              "      --disabled-fill-color: #666;\n",
              "  }\n",
              "\n",
              "  .colab-df-quickchart {\n",
              "    background-color: var(--bg-color);\n",
              "    border: none;\n",
              "    border-radius: 50%;\n",
              "    cursor: pointer;\n",
              "    display: none;\n",
              "    fill: var(--fill-color);\n",
              "    height: 32px;\n",
              "    padding: 0;\n",
              "    width: 32px;\n",
              "  }\n",
              "\n",
              "  .colab-df-quickchart:hover {\n",
              "    background-color: var(--hover-bg-color);\n",
              "    box-shadow: 0 1px 2px rgba(60, 64, 67, 0.3), 0 1px 3px 1px rgba(60, 64, 67, 0.15);\n",
              "    fill: var(--button-hover-fill-color);\n",
              "  }\n",
              "\n",
              "  .colab-df-quickchart-complete:disabled,\n",
              "  .colab-df-quickchart-complete:disabled:hover {\n",
              "    background-color: var(--disabled-bg-color);\n",
              "    fill: var(--disabled-fill-color);\n",
              "    box-shadow: none;\n",
              "  }\n",
              "\n",
              "  .colab-df-spinner {\n",
              "    border: 2px solid var(--fill-color);\n",
              "    border-color: transparent;\n",
              "    border-bottom-color: var(--fill-color);\n",
              "    animation:\n",
              "      spin 1s steps(1) infinite;\n",
              "  }\n",
              "\n",
              "  @keyframes spin {\n",
              "    0% {\n",
              "      border-color: transparent;\n",
              "      border-bottom-color: var(--fill-color);\n",
              "      border-left-color: var(--fill-color);\n",
              "    }\n",
              "    20% {\n",
              "      border-color: transparent;\n",
              "      border-left-color: var(--fill-color);\n",
              "      border-top-color: var(--fill-color);\n",
              "    }\n",
              "    30% {\n",
              "      border-color: transparent;\n",
              "      border-left-color: var(--fill-color);\n",
              "      border-top-color: var(--fill-color);\n",
              "      border-right-color: var(--fill-color);\n",
              "    }\n",
              "    40% {\n",
              "      border-color: transparent;\n",
              "      border-right-color: var(--fill-color);\n",
              "      border-top-color: var(--fill-color);\n",
              "    }\n",
              "    60% {\n",
              "      border-color: transparent;\n",
              "      border-right-color: var(--fill-color);\n",
              "    }\n",
              "    80% {\n",
              "      border-color: transparent;\n",
              "      border-right-color: var(--fill-color);\n",
              "      border-bottom-color: var(--fill-color);\n",
              "    }\n",
              "    90% {\n",
              "      border-color: transparent;\n",
              "      border-bottom-color: var(--fill-color);\n",
              "    }\n",
              "  }\n",
              "</style>\n",
              "\n",
              "  <script>\n",
              "    async function quickchart(key) {\n",
              "      const quickchartButtonEl =\n",
              "        document.querySelector('#' + key + ' button');\n",
              "      quickchartButtonEl.disabled = true;  // To prevent multiple clicks.\n",
              "      quickchartButtonEl.classList.add('colab-df-spinner');\n",
              "      try {\n",
              "        const charts = await google.colab.kernel.invokeFunction(\n",
              "            'suggestCharts', [key], {});\n",
              "      } catch (error) {\n",
              "        console.error('Error during call to suggestCharts:', error);\n",
              "      }\n",
              "      quickchartButtonEl.classList.remove('colab-df-spinner');\n",
              "      quickchartButtonEl.classList.add('colab-df-quickchart-complete');\n",
              "    }\n",
              "    (() => {\n",
              "      let quickchartButtonEl =\n",
              "        document.querySelector('#df-c66c9d92-b007-4864-bba3-ce50ea2b861e button');\n",
              "      quickchartButtonEl.style.display =\n",
              "        google.colab.kernel.accessAllowed ? 'block' : 'none';\n",
              "    })();\n",
              "  </script>\n",
              "</div>\n",
              "\n",
              "    </div>\n",
              "  </div>\n"
            ],
            "application/vnd.google.colaboratory.intrinsic+json": {
              "type": "dataframe",
              "summary": "{\n  \"name\": \"df_tips\",\n  \"rows\": 50,\n  \"fields\": [\n    {\n      \"column\": \"total_bill\",\n      \"properties\": {\n        \"dtype\": \"number\",\n        \"std\": 9.92896875052891,\n        \"min\": 3.07,\n        \"max\": 50.81,\n        \"num_unique_values\": 50,\n        \"samples\": [\n          15.69,\n          12.43,\n          20.27\n        ],\n        \"semantic_type\": \"\",\n        \"description\": \"\"\n      }\n    },\n    {\n      \"column\": \"tip\",\n      \"properties\": {\n        \"dtype\": \"number\",\n        \"std\": 1.6382137609392167,\n        \"min\": 1.0,\n        \"max\": 10.0,\n        \"num_unique_values\": 35,\n        \"samples\": [\n          2.83,\n          1.5,\n          10.0\n        ],\n        \"semantic_type\": \"\",\n        \"description\": \"\"\n      }\n    },\n    {\n      \"column\": \"sex\",\n      \"properties\": {\n        \"dtype\": \"category\",\n        \"num_unique_values\": 2,\n        \"samples\": [\n          \"Female\",\n          \"Male\"\n        ],\n        \"semantic_type\": \"\",\n        \"description\": \"\"\n      }\n    },\n    {\n      \"column\": \"smoker\",\n      \"properties\": {\n        \"dtype\": \"category\",\n        \"num_unique_values\": 2,\n        \"samples\": [\n          \"No\",\n          \"Yes\"\n        ],\n        \"semantic_type\": \"\",\n        \"description\": \"\"\n      }\n    },\n    {\n      \"column\": \"day\",\n      \"properties\": {\n        \"dtype\": \"category\",\n        \"num_unique_values\": 4,\n        \"samples\": [\n          \"Thur\",\n          \"Sun\"\n        ],\n        \"semantic_type\": \"\",\n        \"description\": \"\"\n      }\n    },\n    {\n      \"column\": \"time\",\n      \"properties\": {\n        \"dtype\": \"category\",\n        \"num_unique_values\": 2,\n        \"samples\": [\n          \"Lunch\",\n          \"Dinner\"\n        ],\n        \"semantic_type\": \"\",\n        \"description\": \"\"\n      }\n    },\n    {\n      \"column\": \"size\",\n      \"properties\": {\n        \"dtype\": \"number\",\n        \"std\": 0,\n        \"min\": 1,\n        \"max\": 5,\n        \"num_unique_values\": 5,\n        \"samples\": [\n          2,\n          1\n        ],\n        \"semantic_type\": \"\",\n        \"description\": \"\"\n      }\n    }\n  ]\n}"
            }
          },
          "metadata": {},
          "execution_count": 4
        }
      ]
    },
    {
      "cell_type": "code",
      "source": [
        "import numpy as np\n",
        "\n",
        "\n",
        "populacao = range(0, 100) # generator\n",
        "amostra = []\n",
        "\n",
        "for _ in range(10):\n",
        "  valor = np.random.randint(0, len(populacao))\n",
        "  amostra.append(valor)\n",
        "\n",
        "print('População:', list(populacao))\n",
        "print('Amostra:', amostra)"
      ],
      "metadata": {
        "colab": {
          "base_uri": "https://localhost:8080/"
        },
        "id": "BiFLiZ_iShp4",
        "outputId": "08bbee46-bbaa-4b44-e0df-49ee7952757b"
      },
      "id": "BiFLiZ_iShp4",
      "execution_count": 14,
      "outputs": [
        {
          "output_type": "stream",
          "name": "stdout",
          "text": [
            "População: [0, 1, 2, 3, 4, 5, 6, 7, 8, 9, 10, 11, 12, 13, 14, 15, 16, 17, 18, 19, 20, 21, 22, 23, 24, 25, 26, 27, 28, 29, 30, 31, 32, 33, 34, 35, 36, 37, 38, 39, 40, 41, 42, 43, 44, 45, 46, 47, 48, 49, 50, 51, 52, 53, 54, 55, 56, 57, 58, 59, 60, 61, 62, 63, 64, 65, 66, 67, 68, 69, 70, 71, 72, 73, 74, 75, 76, 77, 78, 79, 80, 81, 82, 83, 84, 85, 86, 87, 88, 89, 90, 91, 92, 93, 94, 95, 96, 97, 98, 99]\n",
            "Amostra: [78, 95, 96, 52, 38, 39, 61, 17, 55, 40]\n"
          ]
        }
      ]
    },
    {
      "cell_type": "code",
      "source": [
        "import numpy as np\n",
        "\n",
        "\n",
        "populacao = range(0, 100) # generator\n",
        "amostra = []\n",
        "\n",
        "for valor in populacao:\n",
        "  if np.random.randint(0, 2) == 1:\n",
        "    amostra.append(valor)\n",
        "\n",
        "print('População:', list(populacao))\n",
        "print('Amostra:', amostra)"
      ],
      "metadata": {
        "colab": {
          "base_uri": "https://localhost:8080/"
        },
        "id": "tbhKgEcDR4wD",
        "outputId": "c7b1f0a9-0752-4a85-91bc-890ce3634ab3"
      },
      "id": "tbhKgEcDR4wD",
      "execution_count": 13,
      "outputs": [
        {
          "output_type": "stream",
          "name": "stdout",
          "text": [
            "População: [0, 1, 2, 3, 4, 5, 6, 7, 8, 9, 10, 11, 12, 13, 14, 15, 16, 17, 18, 19, 20, 21, 22, 23, 24, 25, 26, 27, 28, 29, 30, 31, 32, 33, 34, 35, 36, 37, 38, 39, 40, 41, 42, 43, 44, 45, 46, 47, 48, 49, 50, 51, 52, 53, 54, 55, 56, 57, 58, 59, 60, 61, 62, 63, 64, 65, 66, 67, 68, 69, 70, 71, 72, 73, 74, 75, 76, 77, 78, 79, 80, 81, 82, 83, 84, 85, 86, 87, 88, 89, 90, 91, 92, 93, 94, 95, 96, 97, 98, 99]\n",
            "Amostra: [0, 1, 2, 6, 7, 9, 12, 14, 15, 19, 20, 21, 22, 23, 24, 25, 26, 27, 28, 29, 30, 31, 35, 38, 40, 41, 42, 43, 46, 47, 50, 52, 53, 54, 59, 60, 64, 66, 69, 73, 76, 80, 81, 85, 89, 90, 94, 98]\n"
          ]
        }
      ]
    },
    {
      "cell_type": "markdown",
      "id": "f603ab82",
      "metadata": {
        "id": "f603ab82"
      },
      "source": [
        "### Amostra Sistemática\n",
        "\n",
        "<br>\n",
        "\n",
        "Usada quando os elementos população estão ordenados (população de lista telefônica, casas em uma rua). Considere uma população de tamanho $N$ e que se queira uma amostra de tamanho $n$. O processo de amostragem deste método consiste em:\n",
        "\n",
        "- Dividir o tamanho populacional em $K$ partes:\n",
        "$$ k = \\frac{N}{n} $$\n",
        "\n",
        "- Definir a posição de início da amostragem (que também será o primeiro elemento da amostra). Para tal fim, é sorteado $i$ com o uso da amostra aleatória simples no intervalo, em que  $i \\in [1, k]$;\n",
        "\n",
        "- A partir do elemento selecionado aleatoriamente, é realizada sucessão aritimética para selecionar os $n-1$ indivíduos restantes:\n",
        "$$i, i + k, i + 2k, i + 3k, ...., i + (n-1)k$$\n",
        "\n",
        "Segue um exemplo de como implementar uma amostragem sistemática utilizado o _Python_:\n"
      ]
    },
    {
      "cell_type": "code",
      "execution_count": 25,
      "id": "d44135d5",
      "metadata": {
        "ExecuteTime": {
          "end_time": "2023-05-13T00:27:17.682651Z",
          "start_time": "2023-05-13T00:27:17.675196Z"
        },
        "id": "d44135d5",
        "colab": {
          "base_uri": "https://localhost:8080/"
        },
        "outputId": "1d75d751-6e7f-4626-9b15-7079b337f69e"
      },
      "outputs": [
        {
          "output_type": "stream",
          "name": "stdout",
          "text": [
            "Populacao: range(0, 100)\n",
            "Amostra: [6, 16, 26, 36, 46, 56, 66, 76, 86, 96]\n",
            "Amostra: [5, 15, 25, 35, 45, 55, 65, 75, 85, 95]\n"
          ]
        }
      ],
      "source": [
        "def amostra_sistematica(populacao, tamanho_amostra):\n",
        "  tamanho_populacao = len(populacao) # N\n",
        "  k = tamanho_populacao // tamanho_amostra # k = N/n -> valores inteiros\n",
        "\n",
        "  # Escolhe a posição inicial de amostragem\n",
        "  primeiro_elemento = np.random.randint(1, k)\n",
        "\n",
        "  amostra = []\n",
        "\n",
        "  for i in range(primeiro_elemento, tamanho_populacao, k):\n",
        "    amostra.append(populacao[i])\n",
        "\n",
        "  return amostra\n",
        "\n",
        "print('Populacao:', populacao)\n",
        "print('Amostra:', amostra_sistematica(populacao, 10))\n",
        "print('Amostra:', amostra_sistematica(populacao, 10))"
      ]
    },
    {
      "cell_type": "code",
      "source": [
        "for _ in range(10):\n",
        "  print(np.random.randint(0, 5), end=', ')\n",
        "\n",
        "print('\\nIndices dos elementos')\n",
        "for i in range(5, 100, 20):\n",
        "  print(i, end=', ')"
      ],
      "metadata": {
        "colab": {
          "base_uri": "https://localhost:8080/"
        },
        "id": "Geb8E409YByj",
        "outputId": "f8397e4d-f49e-4387-d032-2f2314f0da55"
      },
      "id": "Geb8E409YByj",
      "execution_count": 23,
      "outputs": [
        {
          "output_type": "stream",
          "name": "stdout",
          "text": [
            "2, 0, 0, 3, 1, 3, 0, 1, 1, 4, \n",
            "Indices dos elementos\n",
            "5, 25, 45, 65, 85, "
          ]
        }
      ]
    },
    {
      "cell_type": "markdown",
      "id": "42a91439",
      "metadata": {
        "id": "42a91439"
      },
      "source": [
        "### Amostra Estratificada\n",
        "\n",
        "<br>\n",
        "\n",
        "Trata-se do método em que a população é dividida em grupos (estratos) segundo alguma(s) característica(s) conhecida(s) na população sob estudo. São exemplos de estrato o gênero, faixa etária, região geográfica, profiissão. No geral, é usada quando a população é heterogênea sob a ótica das características analisadas. Procedimento de amostragem:\n",
        "\n",
        "- Dividir as $N$ unidades da população em $N_1, N_2, \\cdots , N_j$ estratos distintos e homogêneos;\n",
        "\n",
        "- Selecionar, ao acaso, uma amostra de tamanhos $n_1, n_2, \\cdots , n_j$ , de modo que o tamanho da amostra seja $n = n_1+n_2+ \\cdots +n_j$. O tamanho amostral pode ser proporcional à representatividade do estrato.\n",
        "\n",
        "<br>\n",
        "\n",
        "<img src= \"https://viacarreira.com/wp-content/uploads/2020/11/amostra-de-pesquisa-2.png\" width = 500>\n",
        "\n",
        "Fonte: [Via Carreira](https://viacarreira.com/wp-content/uploads/2020/11/amostra-de-pesquisa-2.pn)\n",
        "\n",
        "<br>\n",
        "\n",
        "**Exemplo  de Aplicação**: Considere a população formada pelos integrantes de uma escola. Dependendo do objetivo do estudo, esta população poderia ser dividida em alunos, professores, e demais funcionários (grupos mais homogêneos com relação à função na escola). Agora considere que a proporção de cada estrato seja: 60% alunos, 30% professores e 10% servidores. A amostragem poderia ser realizada dentro de cada estrato de forma que o tamanho amostral preserve esta característica. Sendo assim, se amostra total é $n$, a composição será $0,6 \\times n$ de alunos, $0,3\\times n$ de professores e $0,10\\times n$ de servidores.\n",
        "\n",
        "<br><br>"
      ]
    },
    {
      "cell_type": "code",
      "source": [
        "import pandas as pd\n",
        "\n",
        "\n",
        "N = 20\n",
        "proporcao_no = df_tips['smoker'].value_counts(normalize=True)[0]\n",
        "\n",
        "df_smoker_no = (df_tips[df_tips['smoker'] == 'No'].sample(int(N * proporcao_no)))\n",
        "df_smoker_yes = (df_tips[df_tips['smoker'] == 'Yes'].sample(int(N * (1 - proporcao_no))))\n",
        "\n",
        "df_amostra = pd.concat([df_smoker_no, df_smoker_yes])\n",
        "del df_smoker_no, df_smoker_yes"
      ],
      "metadata": {
        "id": "q0XX_RZvalE_"
      },
      "id": "q0XX_RZvalE_",
      "execution_count": 37,
      "outputs": []
    },
    {
      "cell_type": "markdown",
      "source": [
        "### Amostra por Conglomerados\n",
        "\n",
        "<br>\n",
        "\n",
        "A população é dividida em subpopulações (conglomerados) heterogêneas distintas (quarteirões, residências, famílias, bairros, etc.). Alguns dos conglomerados são selecionados segundo amostra aleatória simples e **todos os elementos** nos conglomerados selecionados são observados. Note que amostragem é feita sobre os conglomerados, e não mais sobre os indivíduos da população. Este procedimento amostral é adequado quando é possível dividir a população em um grande número de pequenas subpopulações.\n",
        "\n",
        "Geralmente este método é usado quando os sistemas de referência da população não são adequados e o custo para atualização é alto, ou quando identificar os elementos da população em campo é cara e consome muito tempo.\n",
        "\n",
        "**Exemplo de Aplicação**: Suponha que o objetivo de uma pesquisa seja determinar a renda média familiar de moradores de uma cidade. Dificilmente dispõe-se de uma lista de famílias, a unidade elementar da população de interesse. Pode-se usar como sistema de referência a lista de setores censitários do IBGE. Neste caso, os setores censitários seriam os conglomerados.\n",
        "\n",
        "<br>"
      ],
      "metadata": {
        "id": "YBYzSKgRalla"
      },
      "id": "YBYzSKgRalla"
    },
    {
      "cell_type": "markdown",
      "id": "c9a6f431",
      "metadata": {
        "id": "c9a6f431"
      },
      "source": [
        "## Bootstrap ou Bootstrapping\n",
        "\n",
        "O __Bootstrapping__ é uma interessante técnica de reamostragem, que consiste em gerar amostras aleatórias a partir de uma amostra de uma população finita:\n",
        "\n",
        "<img src=\"https://miro.medium.com/max/724/0*FKUvC_NQ5w7eEX6l.png\" width=800>\n",
        "\n",
        "Está é uma técnica facil de aplicar utilizando programação devido aos milhares de processos de reamostragem e vem ganhando espaço dentro de _Machine Learning_ em modelos baseados em testes massivo, servindo como base parao modelo de floresta aleatória (_Random Forest_).\n",
        "\n",
        "Técnicas de testagem massivas utilizando amostras aleatórias podem ser conhecidas também como __Métodos de Monte Carlo.__\n",
        "- Utilizado em jogos para prever os movimentos do adiversário: Go, Battleship, Xadrez"
      ]
    },
    {
      "cell_type": "markdown",
      "id": "eac76b97",
      "metadata": {
        "id": "eac76b97"
      },
      "source": [
        "__Exemplo:__ Seja a variável aleatória com distribuição de probabilidade: P(X=3)=0,4; P(X=6)=0,3; P(X=8)=0,3. Calcule a média da populacao"
      ]
    },
    {
      "cell_type": "code",
      "source": [
        "import matplotlib.pyplot as plt\n",
        "\n",
        "\n",
        "# Média dos valores\n",
        "def esperanca(X, P):\n",
        "  esperanca = 0\n",
        "  for i in range(0, len(X)):\n",
        "    esperanca += X[i]*P[i]\n",
        "\n",
        "  return esperanca\n",
        "\n",
        "\n",
        "def variancia(X, P):\n",
        "  esperanca = 0\n",
        "  esperanca_2 = 0\n",
        "\n",
        "  for i in range(0, len(X)):\n",
        "    esperanca += X[i]*P[i]\n",
        "    esperanca_2 += (X[i]**2)*P[i]\n",
        "\n",
        "  variancia = esperanca_2 - esperanca ** 2\n",
        "  return variancia\n",
        "\n",
        "\n",
        "X = [3, 6, 8]\n",
        "P = [0.4, 0.3, 0.3]\n",
        "\n",
        "\n",
        "# Tamanho das amostras\n",
        "n = 40\n",
        "\n",
        "# Numero de simulacoes\n",
        "ns = 1000\n",
        "\n",
        "amostra = []\n",
        "\n",
        "for _ in range(0, ns):\n",
        "  valores = np.random.choice(X, n, p=P) # gerei n amostras com os valores X e prob P\n",
        "  amostra.append(np.mean(valores))\n",
        "\n",
        "\n",
        "plt.figure(figsize=(8, 6))\n",
        "plt.hist(x = amostra, bins='auto', color='#a3ceef', alpha=0.7, rwidth=0.85)\n",
        "plt.title('Frequência de valores x durante determinado tempo')\n",
        "plt.ylabel('Frequência de x', fontsize=12)\n",
        "plt.xlabel('x', fontsize=12)\n",
        "plt.box(False)\n",
        "\n",
        "plt.show()\n",
        "\n",
        "print('Média das amostras', np.mean(amostra))\n",
        "print('Média da populacao', esperanca(X, P))"
      ],
      "metadata": {
        "colab": {
          "base_uri": "https://localhost:8080/",
          "height": 604
        },
        "id": "tsZEZhNMglou",
        "outputId": "7f1fd58e-f6e9-4d6c-8350-db8871031748"
      },
      "id": "tsZEZhNMglou",
      "execution_count": 61,
      "outputs": [
        {
          "output_type": "display_data",
          "data": {
            "text/plain": [
              "<Figure size 800x600 with 1 Axes>"
            ],
            "image/png": "[encoded data removed]"
          },
          "metadata": {}
        },
        {
          "output_type": "stream",
          "name": "stdout",
          "text": [
            "Média das amostras 5.428325\n",
            "Média da populacao 5.4\n"
          ]
        }
      ]
    },
    {
      "cell_type": "code",
      "execution_count": 63,
      "id": "9e2cd5fb",
      "metadata": {
        "ExecuteTime": {
          "end_time": "2023-03-03T23:01:05.579311Z",
          "start_time": "2023-03-03T23:01:05.542907Z"
        },
        "id": "9e2cd5fb",
        "colab": {
          "base_uri": "https://localhost:8080/",
          "height": 621
        },
        "outputId": "dfc8176e-cf77-4237-c4de-796de9148f9c"
      },
      "outputs": [
        {
          "output_type": "display_data",
          "data": {
            "text/plain": [
              "<Figure size 800x600 with 1 Axes>"
            ],
            "image/png": "[encoded data removed]"
          },
          "metadata": {}
        },
        {
          "output_type": "stream",
          "name": "stdout",
          "text": [
            "Média das amostras 5.428325\n",
            "Média das amostras normais 5.381019676109565\n",
            "Média da populacao 5.4\n"
          ]
        }
      ],
      "source": [
        "import matplotlib.pyplot as plt\n",
        "\n",
        "\n",
        "media = esperanca(X, P)\n",
        "desvio_padrao = np.sqrt(variancia(X, P))\n",
        "\n",
        "amostra_normal = []\n",
        "\n",
        "for _ in range(0, 1000):\n",
        "  valor = np.random.normal(media, desvio_padrao)\n",
        "  amostra_normal.append(valor)\n",
        "\n",
        "plt.figure(figsize=(8, 6))\n",
        "plt.hist(x = amostra_normal, bins='auto', color='#a3ceef', alpha=0.7, rwidth=0.85)\n",
        "plt.title('Frequência de valores x durante determinado tempo')\n",
        "plt.ylabel('Frequência de x', fontsize=12)\n",
        "plt.xlabel('x', fontsize=12)\n",
        "plt.box(False)\n",
        "\n",
        "plt.show()\n",
        "\n",
        "print('Média das amostras', np.mean(amostra))\n",
        "print('Média das amostras normais', np.mean(amostra_normal))\n",
        "print('Média da populacao', esperanca(X, P))"
      ]
    },
    {
      "cell_type": "markdown",
      "id": "4acd56b0",
      "metadata": {
        "id": "4acd56b0"
      },
      "source": [
        "## Tamanho Amostral\n",
        "\n",
        "<br>\n",
        "\n",
        "Ao se realizar uma amostra para inferir uma determinada função paramétrica (média, máximo ou outra função de um parâmetro), há um erro associado ao planejamento amostral. A medida que o tamanho da amostra aumenta, o erro do estimador decresce. Vale ressaltar que uma amostra muito grande pode implicar em custos desnecessários, enquanto que uma amostra pequena pode tornar a pesquisa inconclusiva. Deste modo, o ponto chave de um levantamento amostral é determinar o tamanho da amostra.  Uma forma de garantir o tamanho amostral seja significativo em relação a população, é utilizado do Teorema Central do Limite.\n",
        "\n",
        "Recapitulando, seja uma amostra aleatória ($x_1, x_2, \\cdots, x_n$) de uma variável aleatória $X$ com qualquer distribuição, média $\\mu$ e desvio padrão $\\sigma$. A medida que $n$ cresce, a distribuição de probabilidade da média amostral, $\\overline{X}$, se aproxima de uma Normal com média $\\mu$ e desvio padrão $\\frac{\\sigma}{\\sqrt{n}}$. Isto é $\\overline{X} \\sim N (\\mu, \\sigma^2/n)$. Se a transformação a baixo for realizada, então $Z \\sim N (0,1)$.\n",
        "\n",
        "$$Z = \\frac{\\overline{X} -\\mu}{\\sigma/\\sqrt{n}} $$\n",
        "\n",
        "O Teorema do Limite Central afirma que, com o aumento do tamanho da amostra, a distribuição das médias amostrais se aproxima de uma distribuição normal com média igual à média da população e desvio padrão igual ao desvio padrão da variável original dividido pela raiz quadrada do tamanho da amostra. Este fato é assegurado para $n$ maior ou igual a 30.\n",
        "\n",
        "$$\\sigma_\\bar{x} = \\frac{\\sigma}{\\sqrt{n}}$$\n",
        "\n",
        "O desvio padrão das médias amostrais é conhecido como __erro padrão da média__.\n",
        "\n",
        "<br><br>\n",
        "\n",
        "## Níveis de confiança e significância\n",
        "\n",
        "<br>\n",
        "\n",
        "O **nível de confiança** ($1 - \\alpha$) representa a probabilidade de acerto da estimativa. De forma complementar o **nível de significância** ($\\alpha$) expressa a probabilidade de erro da estimativa. O **nível de confiança** representa o grau de confiabilidade do resultado da estimativa estar dentro de determinado intervalo. Quando fixado em uma pesquisa um **nível de confiança** de 95%, por exemplo, é assumindo que existe uma probabilidade de 95% dos resultados da pesquisa representarem bem a realidade, ou seja, estarem corretos.\n",
        "\n",
        "O **nível de confiança** de uma estimativa pode ser obtido a partir da área sob a curva normal como ilustrado na figura abaixo.\n",
        "\n",
        "O **nível de significância** é dado como sendo a probabilidade de ter o erro do tipo I (Falso Positivo)\n",
        "\n",
        "<br>\n",
        "\n",
        "<img src = \"https://caelum-online-public.s3.amazonaws.com/1178-estatistica-parte2/01/img007.png\" width = 500>\n",
        "\n",
        "Fonte: [Caelum](https://caelum-online-public.s3.amazonaws.com/1178-estatistica-parte2/01/img007.png)\n",
        "\n",
        "<br><br>\n",
        "\n",
        "## Erro inferencial e Intervalo de Confiança\n",
        "\n",
        "<br>\n",
        "\n",
        "O **erro inferencial** é definido pelo **desvio padrão das médias amostrais** $\\sigma_\\bar{x}$ e pelo **nível de confiança** determinado para o processo.\n",
        "\n",
        "$$e = z \\frac{\\sigma}{\\sqrt{n}}$$\n",
        "\n",
        "<br><br>\n",
        "\n",
        "Já o __intervalo de confiança__ pode ser obtido adicionando o erro inferencial aos parâmetros de referência. Levantando os casos de intervalo de confiança para a média da população, pode-se ser aplicados em duas ocasiões:\n",
        "\n",
        "<br>\n",
        "\n",
        "- __Com desvio padrão populacional conhecido:__ $\\mu = \\bar{x} \\pm z\\frac{\\sigma}{\\sqrt{n}}$\n",
        "\n",
        "- __Com desvio padrão populacional desconhecido:__ $\\mu = \\bar{x} \\pm z\\frac{s}{\\sqrt{n}}$\n",
        "\n",
        "<br>\n",
        "\n",
        "__Exemplo de Aplicação__: Suponha que os pesos dos sacos de arroz de uma indústria alimentícia se distribuem aproximadamente como uma normal de **desvio padrão populacional igual a 150 g**. Selecionada uma **amostra aleatória de 30 sacos** de um lote específico, obteve-se um **peso médio de 5.050 g**. Construa um intervalo de confiança para a **média populacional** assumindo um **nível de significância de 5%**.\n",
        "\n",
        "<br>\n",
        "\n",
        "Implementando a resolução do exemplo em _Python_, temos que:"
      ]
    },
    {
      "cell_type": "code",
      "execution_count": null,
      "id": "d462d5b6",
      "metadata": {
        "id": "d462d5b6"
      },
      "outputs": [],
      "source": []
    },
    {
      "cell_type": "markdown",
      "id": "302fb9fa",
      "metadata": {
        "id": "302fb9fa"
      },
      "source": [
        "Na tabela abaixo, segue uma relação de valores que normalmente são utilizados para nível de confiança, com a probabilidade e o _Z-score_:\n",
        "\n",
        "|Nível de<br>confiança|Valor da área sob<br>a curva normal| $z$ |\n",
        "|:----------------:|:---------------------------------:|:---:|\n",
        "|90%               |0,95                               |1,645|\n",
        "|95%               |0,975                              |1,96 |\n",
        "|99%               |0,995                              |2,575|\n",
        "\n",
        "<br><br>"
      ]
    },
    {
      "cell_type": "markdown",
      "id": "97c596fb",
      "metadata": {
        "id": "97c596fb"
      },
      "source": [
        "## Cálculo do tamanho amostral baseado na estimativa da média populacional\n",
        "\n",
        "<br>\n",
        "\n",
        "### População Infinita\n",
        "\n",
        "<br>\n",
        "\n",
        "Uma população é considerada infinita quando seu tamanho é muito grande.\n",
        "\n",
        "Ao realizar o cálculo do tamanho da amostra $n$, deve-se levar em consideração o erro $\\epsilon$ máximo que deseja-se assumir (ao estimar a função parâmetrica) e o nível de confiança do resultado (probabilidade). Sendo assim, o problema consiste em determinar $n$ de forma que:\n",
        "\n",
        "$$P(\\mid \\overline{X} - \\mu \\mid \\leq \\epsilon) \\simeq 1 - \\alpha $$\n",
        "\n",
        "Mas pelo Teorema Central do Limite, a equação acima pode ser reescrita como:\n",
        "\n",
        "$$P \\left(\\mid \\overline{X} - \\mu \\mid \\leq z_{\\alpha/2}\\frac{\\sigma}{\\sqrt{n}} \\right) \\simeq 1 - \\alpha $$\n",
        "\n",
        "Sendo assim, dados um erro máximo e nível de confiança, calcular o tamanho amostral consiste em:\n",
        "\n",
        "$$ z_{\\alpha/2}\\frac{\\sigma}{\\sqrt{n}} = \\epsilon  \\Longrightarrow n = \\left(\\frac{z_{\\alpha/2}\\sigma}{\\epsilon }\\right) ^2 $$\n",
        "\n",
        "<br>\n",
        "\n",
        "__Exemplo de Aplicação:__ Um estudo a respeito do rendimento mensal dos chefes de domicílios no Brasil, determinou que o __erro máximo em relação a média seja de R$\\$$ 100,00__. Sabendo que o desvio padrão populacional deste grupo de trabalhadores é de **R$\\$$ 3.323,39$$**. Para um __nível de confiança de 95%__, qual deve ser o tamanho da amostra de nosso estudo?\n"
      ]
    },
    {
      "cell_type": "code",
      "execution_count": null,
      "id": "9d4b10ee",
      "metadata": {
        "id": "9d4b10ee"
      },
      "outputs": [],
      "source": []
    },
    {
      "cell_type": "markdown",
      "id": "9e9553ee",
      "metadata": {
        "id": "9e9553ee"
      },
      "source": [
        "### População Finita\n",
        "\n",
        "<br>\n",
        "\n",
        "No caso em que o tamanho populacional não é tão grande, a consideramos finita. **Caso a amostra tenha um tamanho $n$ maior ou igual a 5% do tamanho da população $N$, considera-se que a população é finita**. Neste caso, aplica-se um fator de correção à fórmula vista anteriormente:\n",
        "\n",
        "<br>\n",
        "\n",
        "$$n = \\frac{N (z_{\\alpha/2}\\sigma)^2}{(N-1)\\epsilon^2 + (z_{\\alpha/2}\\sigma)^2 }$$\n",
        "\n",
        "<br>\n",
        "\n",
        "__Exemplo de Aplicação:__ Em um lote de **10.000 latas** de refrigerante foi realizada uma amostra aleatória simples de **500 latas** e foi obtido o **desvio padrão amostral do conteúdo das latas igual a 12 ml**. O fabricante estipula um **erro máximo sobre a média populacional de apenas 5 ml**. Para garantir um **nível de confiança de 95%** qual o tamanho de amostra deve ser selecionado para este estudo?"
      ]
    },
    {
      "cell_type": "code",
      "execution_count": null,
      "id": "77e912d2",
      "metadata": {
        "id": "77e912d2"
      },
      "outputs": [],
      "source": []
    },
    {
      "cell_type": "markdown",
      "id": "e8f0e7f2",
      "metadata": {
        "id": "e8f0e7f2"
      },
      "source": [
        "### Variância populacional desconhecida\n",
        "\n",
        "<br>\n",
        "\n",
        "No caso em que a variância populacional é desconhecida, pode-se realizar uma amostragem aleatória preliminar (ao menos 30 elementos) para estimar a variancia amostral e usa-la na equaçao acima.\n",
        "\n",
        "$$\\widehat{\\sigma^2} = s^2 = \\frac{\\sum_{i=1}^{n}(x_i -\\overline{X})^2}{N-1} $$"
      ]
    },
    {
      "cell_type": "markdown",
      "id": "9e6672f6",
      "metadata": {
        "id": "9e6672f6"
      },
      "source": [
        "## Teste de Hipóteses"
      ]
    },
    {
      "cell_type": "markdown",
      "id": "f4d271f8",
      "metadata": {
        "id": "f4d271f8"
      },
      "source": [
        "O __Teste de Hipóteses__ é a principal ferramenta para tirarmos conclusões a partir de uma dada amostra e extrapolar (ou inferir) conclusões sobre a população. Uma hipótese será uma declaração sobre um parâmetro da população, ou seja para dado $\\mu$, $\\sigma^2$ e $p$ da população usaremos estimadores como $\\overline{X}$, $S^2$ e $\\hat{p}$ para as amostras. Os cálculos desses estimadores são dados da seguinte forma:\n",
        "\n",
        "$$\\overline{X} = \\sum_{i = 1}^{n} \\frac{X_{i}}{n}$$\n",
        "\n",
        "<br>\n",
        "\n",
        "$$ S^{2}  = \\frac{1}{n - 1} \\sum_{i = 1}^{n} (X_{i} - \\overline{X})^2$$\n",
        "\n",
        "<br>\n",
        "\n",
        "$$ \\hat{p} = \\frac{1}{n} \\sum_{i = 1}^{n} I_{i} $$\n",
        "\n",
        "No caso para a proporção $\\hat{p}$, o valor de $I_{i}$ é igual a 1 se a observação tem a característica de interesse, ou seja $I_{i} \\in \\{0, 1\\}$\n",
        "\n",
        "<br>\n",
        "\n",
        "Quando vamos aplicar o teste de hipóteses queremos testar alguma informação relevante sobre um atributo da população, de maneira a aceitar ou rejeitar esta informação. Para isto é que formulamos as chamadas __hipótese nula__ ($ H_{0}$) e a __hipótese alternativa__ ($H_{a}$ ou $H_{1}$), sendo a hipótese alternativa normalmente a rejeição da hipótese nula.\n",
        "\n",
        "Ao testar essas hipóteses podemos cair nos seguintes casos:\n",
        "\n"
      ]
    },
    {
      "cell_type": "markdown",
      "id": "c6d598b7",
      "metadata": {
        "id": "c6d598b7"
      },
      "source": [
        "| Hipóteses | $H_{0}$ é verdadeira | $H_{0}$ é falsa |\n",
        "|-----------|----------------------|-----------------|\n",
        "| Rejeitar $H_{0}$ | Erro tipo I ($\\alpha$) | Sem erro |\n",
        "| Aceitar $H_{0}$  | Sem erro | Erro tipo II ($\\beta$) |\n",
        "\n",
        "<br>\n",
        "\n",
        "Partindo para as distribuições podemos interpretar cada um dos erros também como a figura a seguir:\n",
        "\n",
        "<img src=\"data:image/png;base64,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\" width=800>\n",
        "\n",
        "<br>\n",
        "\n",
        "Usualmente aplicamos teste de hipótese para diminuir a chance de ocorre o erro do Tipo I, ou seja costuma-se trabalhar com o nível de significância $\\alpha$."
      ]
    },
    {
      "cell_type": "markdown",
      "id": "be212826",
      "metadata": {
        "id": "be212826"
      },
      "source": [
        "**Exemplo 1**: Uma fábrica anuncia que o índice de nicotina dos cigarros de uma dada marca é igual ou menor a 20 mg por cigarro. Um laboratório realiza 20 análises do índice obtendo: 22, 19, 21, 22, 20, 18, 27, 20, 21, 19, 20, 22, 17, 20, 21,18, 25, 16, 20, 21. Sabe-se que o índice de nicotina dos cigarros dessa marca se distribui normalmente com variância 4 mg$^2$. Pode-se aceitar a afirmação do fabricante, ao nível de 5%?"
      ]
    },
    {
      "cell_type": "markdown",
      "id": "843ff74a",
      "metadata": {
        "id": "843ff74a"
      },
      "source": [
        "$H_0: \\mu <= 20$<br>\n",
        "$H_1: \\mu > 20$"
      ]
    },
    {
      "cell_type": "markdown",
      "id": "b97d7727",
      "metadata": {
        "id": "b97d7727"
      },
      "source": [
        "### Resolução Teórica:"
      ]
    },
    {
      "cell_type": "markdown",
      "id": "93f8db29",
      "metadata": {
        "id": "93f8db29"
      },
      "source": [
        "Vamos calcular o valor crítico para o teste e assim conseguir saber se aceitamos ou rejeitamos $H_{0}$:"
      ]
    },
    {
      "cell_type": "markdown",
      "id": "bbed0ef8",
      "metadata": {
        "id": "bbed0ef8"
      },
      "source": [
        "$$ P\\left(Z <\\frac{\\overline{X}_{c} - \\mu}{\\frac{\\sigma}{\\sqrt{n}}} | \\mu =20 \\right) = 1 - \\alpha =  0.95 $$"
      ]
    },
    {
      "cell_type": "code",
      "execution_count": null,
      "id": "b13ba6c2",
      "metadata": {
        "ExecuteTime": {
          "end_time": "2023-05-17T23:58:15.485213Z",
          "start_time": "2023-05-17T23:58:15.475902Z"
        },
        "id": "b13ba6c2"
      },
      "outputs": [],
      "source": []
    },
    {
      "cell_type": "markdown",
      "id": "6fdc7e81",
      "metadata": {
        "id": "6fdc7e81"
      },
      "source": [
        "**Exemplo 2**: Um pesquisador deseja estudar o efeito de certa substância no tempo de reação de seres vivos a um certo tipo de estímulo. Um experimento é desenvolvido com cobaias, que são inoculadas com a substância e submetidas a um estímulo elétrico, com seus tempos de reação (em segundos) anotados. Os seguintes valores foram obtidos:\n",
        "T = [9.1, 9.3, 7.2, 13.3, 10.9, 7.2, 9.9, 8.0, 8.6, 7.5]<br>\n",
        "Admite-se que, em geral,  o tempo de reação tem distribuição Normal com média 8 segundos e desvio padrão 2 segundos. Entretanto, o pesquisador desconfia que o tempo médio sofre alteração por influência da substância. Verifique ao nível 6% se o tempo de reação das cobaias submetidas à substância foi alterado."
      ]
    },
    {
      "cell_type": "markdown",
      "id": "300a8b7a",
      "metadata": {
        "id": "300a8b7a"
      },
      "source": [
        "$H_0: \\mu = 8$<br>\n",
        "$H_1: \\mu \\neq 8$"
      ]
    },
    {
      "cell_type": "markdown",
      "id": "7edc9ec2",
      "metadata": {
        "id": "7edc9ec2"
      },
      "source": [
        "### Resolução Teórica:"
      ]
    },
    {
      "cell_type": "markdown",
      "id": "96856bd5",
      "metadata": {
        "id": "96856bd5"
      },
      "source": [
        "Precisamos primeiramente definir a região crítica para o teste de hipótese:"
      ]
    },
    {
      "cell_type": "markdown",
      "id": "1358212f",
      "metadata": {
        "id": "1358212f"
      },
      "source": [
        "$\\alpha$ = P(rejeitar $H_{0}$ | $H_{0}$ é verdadeira) = 0.06, ou seja:\n",
        "\n",
        "$$ P\\left(\\overline{X} < \\overline{X}_{c1} \\cup \\overline{X} > \\overline{X}_{c2} | \\mu = 8 \\right) = 0.06 $$\n",
        "\n",
        "<br>\n",
        "\n",
        "Para o caso do teste bicaudal, temos que a probabilidade para cada um dos casos será igual a $\\alpha/2$:\n",
        "\n",
        "$$ P\\left(\\overline{X} < \\overline{X}_{c1} | \\mu = 8 \\right) = 0.03 $$\n",
        "\n",
        "$$ P\\left(\\overline{X} > \\overline{X}_{c2} | \\mu = 8 \\right) = 0.03 $$\n",
        "\n",
        "<br>\n",
        "\n",
        "Por fim ajustando a probabilidade para o caso crítico 2:\n",
        "\n",
        "$$ P\\left(\\overline{X} < \\overline{X}_{c1} | \\mu = 8 \\right) = 0.03 $$\n",
        "\n",
        "$$ P\\left(\\overline{X} < \\overline{X}_{c2} | \\mu = 8 \\right) = 0.97 $$\n"
      ]
    },
    {
      "cell_type": "code",
      "execution_count": null,
      "id": "80b33e32",
      "metadata": {
        "ExecuteTime": {
          "end_time": "2023-05-18T00:25:15.222261Z",
          "start_time": "2023-05-18T00:25:15.213280Z"
        },
        "id": "80b33e32"
      },
      "outputs": [],
      "source": []
    },
    {
      "cell_type": "markdown",
      "id": "cf98aeac",
      "metadata": {
        "id": "cf98aeac"
      },
      "source": [
        "### Resolução por Simulação:"
      ]
    },
    {
      "cell_type": "code",
      "execution_count": null,
      "id": "8f1a5345",
      "metadata": {
        "ExecuteTime": {
          "end_time": "2023-05-18T00:25:46.595236Z",
          "start_time": "2023-05-18T00:25:46.059558Z"
        },
        "id": "8f1a5345"
      },
      "outputs": [],
      "source": []
    },
    {
      "cell_type": "markdown",
      "id": "e12f402b",
      "metadata": {
        "id": "e12f402b"
      },
      "source": [
        "## Valor p (p-valor, p-value)"
      ]
    },
    {
      "cell_type": "markdown",
      "id": "159cbbf9",
      "metadata": {
        "id": "159cbbf9"
      },
      "source": [
        "Nos casos anteriores, o que fizemos para realizar o teste foi fixar a probabilidade do erro tipo I, dessa forma a aceitação ou não de $H_{0}$ depende do valor de $\\alpha$.\n",
        "\n",
        "Uma outra forma de realizarmos o teste será __calculando a probabilidade de significância__ (nível descritivo) mais conhecido como __p-value__ (valor p).\n",
        "\n",
        "A principal diferença com relação aos casos anteriores consiste em não construir a região crítica, o que se faz é indicar a probabilidade de ocorrer valores de estatística mais extremos do que o observado caso a hipótese seja verdadeira.\n",
        "\n",
        "O exemplo a seguir vai mostra justamente essa transição entre aceitação e rejeição da $H_{0}$:"
      ]
    },
    {
      "cell_type": "markdown",
      "id": "fb8f2fb9",
      "metadata": {
        "id": "fb8f2fb9"
      },
      "source": [
        "__Exemplo:__ Vamos considerar as seguintes hipóteses:<br>\n",
        "\n",
        "$H_0: \\mu = 10$<br>\n",
        "$H_1: \\mu <> 10$<br>\n",
        "\n",
        "Assumimos que a população tem distribuição normal com desvio padrão $\\sigma$, definido abaixo:"
      ]
    },
    {
      "cell_type": "code",
      "execution_count": null,
      "id": "70e0d5e9",
      "metadata": {
        "ExecuteTime": {
          "end_time": "2023-05-18T00:50:53.468421Z",
          "start_time": "2023-05-18T00:50:53.033508Z"
        },
        "id": "70e0d5e9"
      },
      "outputs": [],
      "source": []
    },
    {
      "cell_type": "markdown",
      "id": "f136c8e3",
      "metadata": {
        "id": "f136c8e3"
      },
      "source": [
        "Vamos supor que conhecemos o valor médio observado $\\bar{x}_{obs}$.\n",
        "\n",
        "De acordo com o nível de significância, podemos aceitar ou rejeitar $H_0$, conforme veremos a seguir:"
      ]
    },
    {
      "cell_type": "code",
      "source": [],
      "metadata": {
        "id": "ml7GXDYkW6cT"
      },
      "id": "ml7GXDYkW6cT",
      "execution_count": null,
      "outputs": []
    },
    {
      "cell_type": "markdown",
      "id": "e3c6c445",
      "metadata": {
        "id": "e3c6c445"
      },
      "source": [
        "O que podemos concluir sobre o __valor p__ é que ele representa o __menor nível de significância $\\alpha$ no qual é possível rejeitar a hipótese nula__ ou em outras palavras, a probabilidade de observar os dados se a hipótese nula for verdadeira.\n",
        "\n",
        "Quanto melhor o valor p, maior é a evidência contra a aceitação da hipótese nula. Vamos avaliar alguns exemplos diretos:\n",
        "\n",
        "- $p = 0.01$, significa que em 1 de cada 100 experimentos, a $H_{0}$ Será verdadeira;\n",
        "- $p = 0.1$, significa que em 10 de cada 100 experimentos, a $H_{0}$ Será verdadeira;\n",
        "- $p = 0.5$, significa que em 50 de cada 100 experimentos, a $H_{0}$ Será verdadeira;\n",
        "- $p = 0.9$, significa que em 90 de cada 100 experimentos, a $H_{0}$ Será verdadeira.\n",
        "\n",
        "Usualmente costuma-se avaliar o nível de significância de acordo com a tabela abaixo:\n",
        "\n",
        "| Nível de significância | Decisão |\n",
        "|------------------------|---------|\n",
        "| $p < 0.01$ | Evidência muito forte contra $H_{0}$ |\n",
        "| $0.01 < p < 0.05$ | Forte evidência contra $H_{0}$ |\n",
        "| $0.05 < p < 0.1$ | Fraca evidência contra $H_{0}$ |\n",
        "| $p > 0.1$ | Pouquíssima ou nenhuma evidência contra $H_{0}$ |"
      ]
    },
    {
      "cell_type": "markdown",
      "id": "04240644",
      "metadata": {
        "id": "04240644"
      },
      "source": [
        "__Exemplo:__ Uma companhia de ônibus planejou uma nova rota. Um estudo preliminar afirma que a duração da viagem pode ser considerada uma variável aleatória com distribuição normal com $\\mu$ = 300 minutos e $\\sigma$ = 30 minutos. As 10 primeiras viagens resultaram em uma média igual a 314 minutos. Esse resultado comprova ou não o estudo preliminar?"
      ]
    },
    {
      "cell_type": "markdown",
      "id": "35f05b0f",
      "metadata": {
        "id": "35f05b0f"
      },
      "source": [
        "$H_0: \\mu = 300$ min<br>\n",
        "$H_1: \\mu > 300$ min"
      ]
    },
    {
      "cell_type": "markdown",
      "id": "1ab3399d",
      "metadata": {
        "id": "1ab3399d"
      },
      "source": [
        "$$ P\\left(\\overline{X} > 314 | \\mu = 300\\right) = P\\left(\\frac{\\overline{X} - \\mu}{\\frac{\\sigma}{\\sqrt{n}}} > \\frac{314 - \\mu}{\\frac{\\sigma}{\\sqrt{n}}}\\right) = P\\left(\\frac{\\overline{X} - \\mu}{\\frac{\\sigma}{\\sqrt{n}}} > \\frac{314 - 300}{\\frac{30}{\\sqrt{10}}}\\right) = P(Z > 1,48)$$\n",
        "\n",
        "Lembrando que $P(Z > 1,48) = 1 - P(Z < 1,48)$:"
      ]
    },
    {
      "cell_type": "code",
      "execution_count": null,
      "id": "61d0bae3",
      "metadata": {
        "ExecuteTime": {
          "end_time": "2023-03-05T15:16:57.349609Z",
          "start_time": "2023-03-05T15:16:57.327709Z"
        },
        "id": "61d0bae3"
      },
      "outputs": [],
      "source": []
    },
    {
      "cell_type": "markdown",
      "id": "95b21df0",
      "metadata": {
        "id": "95b21df0"
      },
      "source": [
        "Como o valor p não é tão pequeno, podemos dizer que há poucas evidências para rejeitar $H_{0}$."
      ]
    },
    {
      "cell_type": "markdown",
      "id": "3eea09da",
      "metadata": {
        "id": "3eea09da"
      },
      "source": [
        "## Comparação entre duas médias"
      ]
    },
    {
      "cell_type": "markdown",
      "id": "1f18b159",
      "metadata": {
        "id": "1f18b159"
      },
      "source": [
        "Uma das principais aplicações do teste de hipóteses é na seleção de atributos. Vamos comparar duas distribuições e verificar se elas possuem a mesma média. Vamos formular as hipóteses:\n",
        "$$\n",
        "H_0: \\mu_1 = \\mu_2\n",
        "$$\n",
        "$$\n",
        "H_a: \\mu_1 \\neq \\mu_2\n",
        "$$"
      ]
    },
    {
      "cell_type": "code",
      "execution_count": null,
      "id": "cb15ad30",
      "metadata": {
        "id": "cb15ad30"
      },
      "outputs": [],
      "source": []
    },
    {
      "cell_type": "markdown",
      "id": "ec4a05e2",
      "metadata": {
        "id": "ec4a05e2"
      },
      "source": [
        "Para resolver a comparação entre médias, a forma que vamos utilizar para fazer será com o teste [T de Student](https://pt.wikipedia.org/wiki/Teste_t_de_Student):"
      ]
    },
    {
      "cell_type": "code",
      "execution_count": null,
      "id": "70530fbd",
      "metadata": {
        "id": "70530fbd"
      },
      "outputs": [],
      "source": []
    },
    {
      "cell_type": "markdown",
      "id": "c59561e9",
      "metadata": {
        "id": "c59561e9"
      },
      "source": [
        "Ou seja, como o valor p é alto, podemos concluir que as distribuições possuem a mesma média (aceitamos $H_0$)"
      ]
    },
    {
      "cell_type": "markdown",
      "id": "903f4729",
      "metadata": {
        "id": "903f4729"
      },
      "source": [
        "Vamos agora considerar duas distribuições com médias distintas."
      ]
    },
    {
      "cell_type": "code",
      "execution_count": null,
      "id": "4cb7433f",
      "metadata": {
        "id": "4cb7433f"
      },
      "outputs": [],
      "source": []
    },
    {
      "cell_type": "markdown",
      "id": "6fbe0fed",
      "metadata": {
        "id": "6fbe0fed"
      },
      "source": [
        "Nesse segundo caso, vemos que o valor p é igual a zero, o que nos permite rejeitar $H_0$"
      ]
    },
    {
      "cell_type": "markdown",
      "id": "b72dfd44",
      "metadata": {
        "id": "b72dfd44"
      },
      "source": [
        "Portanto, podemos usar o teste de hipóteses para realizar uma seleção de atributos, onde atributos que não conseguem discriminar duas classes, devem ser removidos do conjunto de dados."
      ]
    },
    {
      "cell_type": "markdown",
      "id": "f6a55c4b",
      "metadata": {
        "id": "f6a55c4b"
      },
      "source": [
        "## Exercícios"
      ]
    },
    {
      "cell_type": "markdown",
      "id": "52bace06",
      "metadata": {
        "id": "52bace06"
      },
      "source": [
        "__1)__ Suponha que os pesos das sacas de soja de uma indústria alimentícia se distribuem aproximadamente como uma normal de desvio padrão populacional igual a 570 g. Selecionada uma amostra aleatória de 25 sacas de um lote específico, obteve-se um peso médio de 27.215 g. Construa um intervalo de confiança para a **média populacional** assumindo um **nível de significância de 10%**."
      ]
    },
    {
      "cell_type": "code",
      "execution_count": null,
      "id": "eec94665",
      "metadata": {
        "id": "eec94665"
      },
      "outputs": [],
      "source": []
    },
    {
      "cell_type": "markdown",
      "id": "61274931",
      "metadata": {
        "id": "61274931"
      },
      "source": [
        "__2)__ Um estudo a respeito do rendimento mensal dos chefes de domicílios no Brasil, determinou que o __erro máximo em relação a média seja de R$\\$$ 370,00__. Sabendo que o desvio padrão populacional deste grupo de trabalhadores é de **R$\\$$ 2.516,28**. Para um __nível de confiança de 99%__, qual deve ser o tamanho da amostra de nosso estudo?"
      ]
    },
    {
      "cell_type": "code",
      "execution_count": null,
      "id": "dde2e87a",
      "metadata": {
        "id": "dde2e87a"
      },
      "outputs": [],
      "source": []
    },
    {
      "cell_type": "markdown",
      "id": "45b69a93",
      "metadata": {
        "id": "45b69a93"
      },
      "source": [
        "__3)__ Um fabricante de lajotas de cerâmica introduz um novo material em sua fabricação e acredita que aumentará a resistência média, que é de 206 kg. A resistência das lajotas tem distribuição normal com desvio padrão de 12 kg. Retira-se uma amostra de 30 lajotas, obtendo $\\overline{X}_{obs}$ = 210 kg. Ao nível de 10%, pode o fabricante aceitar que a resistência média de suas lajotas tenha aumentado?"
      ]
    },
    {
      "cell_type": "code",
      "execution_count": null,
      "id": "0ea56a5a",
      "metadata": {
        "id": "0ea56a5a"
      },
      "outputs": [],
      "source": []
    },
    {
      "cell_type": "markdown",
      "id": "0b270298",
      "metadata": {
        "id": "0b270298"
      },
      "source": [
        "__4)__ Uma fábrica de automóveis anuncia que seus carros consomem, em média, 11 litros por 100 km, com desvio padrão de 0,8 litro. Uma revista decide testar essa afirmação e analisa 35 carros dessa marca, obtendo 11,4 litros por 100 km, como consumo médio. Admitindo que o consumo tenha distribuição normal, ao nível de 5%, o que a revista concluirá sobre o anúncio da fábrica?"
      ]
    },
    {
      "cell_type": "code",
      "execution_count": null,
      "id": "7eddfbf6",
      "metadata": {
        "id": "7eddfbf6"
      },
      "outputs": [],
      "source": []
    },
    {
      "cell_type": "markdown",
      "id": "8a4b22f8",
      "metadata": {
        "id": "8a4b22f8"
      },
      "source": [
        "__5)__ Os novos operários de uma empresa são treinados a operarem uma máquina, cujo tempo X (em horas) de aprendizado é anotado. Observou-se que X segue de perto a distribuição normal N(25; 100). Uma nova técnica de ensino, que deve melhorar o tempo de aprendizado, foi testada em 16 novos empregados, os quais apresentaram 20.5 horas como tempo médio de aprendizado. Usando o p-valor, você diria que a nova técnica é melhor que a anterior?"
      ]
    },
    {
      "cell_type": "code",
      "execution_count": null,
      "id": "90628da7",
      "metadata": {
        "id": "90628da7"
      },
      "outputs": [],
      "source": []
    }
  ],
  "metadata": {
    "kernelspec": {
      "display_name": "Python 3 (ipykernel)",
      "language": "python",
      "name": "python3"
    },
    "language_info": {
      "codemirror_mode": {
        "name": "ipython",
        "version": 3
      },
      "file_extension": ".py",
      "mimetype": "text/x-python",
      "name": "python",
      "nbconvert_exporter": "python",
      "pygments_lexer": "ipython3",
      "version": "3.10.9"
    },
    "varInspector": {
      "cols": {
        "lenName": 16,
        "lenType": 16,
        "lenVar": 40
      },
      "kernels_config": {
        "python": {
          "delete_cmd_postfix": "",
          "delete_cmd_prefix": "del ",
          "library": "var_list.py",
          "varRefreshCmd": "print(var_dic_list())"
        },
        "r": {
          "delete_cmd_postfix": ") ",
          "delete_cmd_prefix": "rm(",
          "library": "var_list.r",
          "varRefreshCmd": "cat(var_dic_list()) "
        }
      },
      "types_to_exclude": [
        "module",
        "function",
        "builtin_function_or_method",
        "instance",
        "_Feature"
      ],
      "window_display": false
    },
    "colab": {
      "provenance": []
    }
  },
  "nbformat": 4,
  "nbformat_minor": 5
}