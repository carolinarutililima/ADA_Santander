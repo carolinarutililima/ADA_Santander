{
  "cells": [
    {
      "cell_type": "markdown",
      "id": "ae3011b8",
      "metadata": {
        "id": "ae3011b8"
      },
      "source": [
        "# 04 - Distribuição Normal e Teorema Central do Limite\n",
        "\n",
        "Nessa aula, iremos tratar dos seguintes conteúdos:\n",
        "- Distribuição Normal\n",
        "- Teorema Central do Limite"
      ]
    },
    {
      "cell_type": "markdown",
      "id": "a03399f7",
      "metadata": {
        "id": "a03399f7"
      },
      "source": [
        "<img src = \"https://miro.medium.com/max/1200/1*IdGgdrY_n_9_YfkaCh-dag.png\" width=800>"
      ]
    },
    {
      "cell_type": "markdown",
      "id": "8d3345d1",
      "metadata": {
        "id": "8d3345d1"
      },
      "source": [
        "## Distribuição Normal"
      ]
    },
    {
      "cell_type": "markdown",
      "id": "b2e195c1",
      "metadata": {
        "id": "b2e195c1"
      },
      "source": [
        "A distribuição normal é uma das distribuições mais conhecidas da estatística/probabilidade! Ela é representada por uma **curva simétrica em torno do seu ponto médio**, apresentando assim seu famoso formato de **sino** (bell shape).  \n",
        "\n",
        "A curva de distribuição normal representa o comportamento de **diversos processos e fenômenos comuns**, como por exemplo: altura ou peso de uma população, a pressão sanguínea de um grupo de pessoas, o tempo que um grupo de estudantes gasta para realizar uma prova, etc.\n",
        "\n",
        "A distribuição normal serve também como base para a inferência estatística clássica, sendo a premissa em diversos modelos e métodos.\n",
        "\n",
        "<br><br>\n",
        "\n",
        "### Definição Matemática\n",
        "\n",
        "A Variável aleatória contínua $X$ que tome todos os valores na reta real $-\\infty < X < \\infty$ segue uma distribuição normal (ou Gaussiana) se sua função de densidade de probabilidade é dada por:\n",
        "\n",
        "$$ f(x) = \\frac{1}{\\sigma\\sqrt{2\\pi}}e^{\\frac{-(x - \\mu)^2}{2\\sigma^2}} $$\n",
        "\n",
        "Onde respectivamente temos como __valor esperado__ e __variância__ da distribuição normal:\n",
        "\n",
        "- __Valor esperado:__ $E[X] = \\mu$\n",
        "\n",
        "- __Variância:__ $V[X] = \\sigma^2$\n",
        "\n",
        "\n",
        "<br>\n",
        "\n",
        "Usualmente aplicamos a notação X ~ N($\\mu$,$\\sigma^2$) para representar uma variável aleatória **com distribuição normal** de valor esperado/média $\\mu$ e variância $\\sigma^2$.\n",
        "\n",
        "<img src=\"https://upload.wikimedia.org/wikipedia/commons/thumb/7/74/Normal_Distribution_PDF.svg/1280px-Normal_Distribution_PDF.svg.png\" width=500>\n",
        "\n",
        "\n",
        "Em uma distribuição normal a média, mediana e moda dos dados possuem o mesmo valor.\n",
        "\n",
        "<img src=\"https://dietassessmentprimer.cancer.gov/images/learn/distribution1.jpg\">\n"
      ]
    },
    {
      "cell_type": "markdown",
      "id": "8ec34fc6",
      "metadata": {
        "id": "8ec34fc6"
      },
      "source": [
        "Vamos ver algumas formas de gerarmos valores de acordo com uma distribuição Normal:"
      ]
    },
    {
      "cell_type": "markdown",
      "source": [
        "https://docs.scipy.org/doc/scipy/reference/generated/scipy.stats.norm.html"
      ],
      "metadata": {
        "id": "SI-xhDmuGgr-"
      },
      "id": "SI-xhDmuGgr-"
    },
    {
      "cell_type": "code",
      "execution_count": null,
      "id": "49561226",
      "metadata": {
        "ExecuteTime": {
          "end_time": "2023-05-12T22:37:33.143447Z",
          "start_time": "2023-05-12T22:37:23.125312Z"
        },
        "id": "49561226"
      },
      "outputs": [],
      "source": [
        "import matplotlib.pyplot as plt\n",
        "import numpy as np\n",
        "from scipy import stats"
      ]
    },
    {
      "cell_type": "code",
      "source": [
        "media = 70\n",
        "variancia = 2"
      ],
      "metadata": {
        "id": "rRotGRKwGVrC"
      },
      "id": "rRotGRKwGVrC",
      "execution_count": null,
      "outputs": []
    },
    {
      "cell_type": "code",
      "source": [
        "desvio_padrao = np.sqrt(variancia)\n",
        "\n",
        "rv = stats.norm(media, desvio_padrao)\n",
        "\n",
        "print('P(X = 69) = ', rv.pdf(69))\n",
        "print('P(X = 70) = ', rv.pdf(70))\n",
        "print('P(X = 71) = ', rv.pdf(71))"
      ],
      "metadata": {
        "colab": {
          "base_uri": "https://localhost:8080/"
        },
        "id": "uMjvuJ5gGVwT",
        "outputId": "eeb7affd-51b6-4999-af0d-6b8e74a0ca40"
      },
      "id": "uMjvuJ5gGVwT",
      "execution_count": null,
      "outputs": [
        {
          "output_type": "stream",
          "name": "stdout",
          "text": [
            "P(X = 69) =  0.21969564473386122\n",
            "P(X = 70) =  0.28209479177387814\n",
            "P(X = 71) =  0.21969564473386122\n"
          ]
        }
      ]
    },
    {
      "cell_type": "code",
      "source": [
        "np.sqrt(2)"
      ],
      "metadata": {
        "colab": {
          "base_uri": "https://localhost:8080/"
        },
        "id": "xUZMdzyHIHWs",
        "outputId": "b9b88314-bb92-4255-ad69-6e7321842f00"
      },
      "id": "xUZMdzyHIHWs",
      "execution_count": null,
      "outputs": [
        {
          "output_type": "execute_result",
          "data": {
            "text/plain": [
              "1.4142135623730951"
            ]
          },
          "metadata": {},
          "execution_count": 12
        }
      ]
    },
    {
      "cell_type": "code",
      "source": [
        "desvio_padrao = 5\n",
        "\n",
        "x = range(30, 91)\n",
        "y = stats.norm(media, desvio_padrao).pdf(x)\n",
        "\n",
        "plt.plot(x, y)\n",
        "plt.axvline(70, color='green')\n",
        "plt.axvline(75, color='red')\n",
        "plt.show()"
      ],
      "metadata": {
        "colab": {
          "base_uri": "https://localhost:8080/",
          "height": 430
        },
        "id": "3MMQDpdSHfp4",
        "outputId": "c39973bb-5ee8-4fbe-befd-10076d48496a"
      },
      "id": "3MMQDpdSHfp4",
      "execution_count": null,
      "outputs": [
        {
          "output_type": "display_data",
          "data": {
            "text/plain": [
              "<Figure size 640x480 with 1 Axes>"
            ],
            "image/png": "[encoded data removed]"
          },
          "metadata": {}
        }
      ]
    },
    {
      "cell_type": "code",
      "source": [
        "import seaborn as sns"
      ],
      "metadata": {
        "id": "ehSM3djkIPXZ"
      },
      "id": "ehSM3djkIPXZ",
      "execution_count": null,
      "outputs": []
    },
    {
      "cell_type": "code",
      "source": [
        "df_tips = sns.load_dataset('tips')"
      ],
      "metadata": {
        "id": "1kr4-_UlISig"
      },
      "id": "1kr4-_UlISig",
      "execution_count": null,
      "outputs": []
    },
    {
      "cell_type": "code",
      "source": [
        "df_tips.describe()"
      ],
      "metadata": {
        "colab": {
          "base_uri": "https://localhost:8080/",
          "height": 300
        },
        "id": "0eoKdp-tISsC",
        "outputId": "f1c73362-13af-41a8-9cd9-ab21c13c30bc"
      },
      "id": "0eoKdp-tISsC",
      "execution_count": null,
      "outputs": [
        {
          "output_type": "execute_result",
          "data": {
            "text/plain": [
              "       total_bill         tip        size\n",
              "count  244.000000  244.000000  244.000000\n",
              "mean    19.785943    2.998279    2.569672\n",
              "std      8.902412    1.383638    0.951100\n",
              "min      3.070000    1.000000    1.000000\n",
              "25%     13.347500    2.000000    2.000000\n",
              "50%     17.795000    2.900000    2.000000\n",
              "75%     24.127500    3.562500    3.000000\n",
              "max     50.810000   10.000000    6.000000"
            ],
            "text/html": [
              "\n",
              "  <div id=\"df-4174ba25-60bb-48da-bd21-b3f19b075d0b\" class=\"colab-df-container\">\n",
              "    <div>\n",
              "<style scoped>\n",
              "    .dataframe tbody tr th:only-of-type {\n",
              "        vertical-align: middle;\n",
              "    }\n",
              "\n",
              "    .dataframe tbody tr th {\n",
              "        vertical-align: top;\n",
              "    }\n",
              "\n",
              "    .dataframe thead th {\n",
              "        text-align: right;\n",
              "    }\n",
              "</style>\n",
              "<table border=\"1\" class=\"dataframe\">\n",
              "  <thead>\n",
              "    <tr style=\"text-align: right;\">\n",
              "      <th></th>\n",
              "      <th>total_bill</th>\n",
              "      <th>tip</th>\n",
              "      <th>size</th>\n",
              "    </tr>\n",
              "  </thead>\n",
              "  <tbody>\n",
              "    <tr>\n",
              "      <th>count</th>\n",
              "      <td>244.000000</td>\n",
              "      <td>244.000000</td>\n",
              "      <td>244.000000</td>\n",
              "    </tr>\n",
              "    <tr>\n",
              "      <th>mean</th>\n",
              "      <td>19.785943</td>\n",
              "      <td>2.998279</td>\n",
              "      <td>2.569672</td>\n",
              "    </tr>\n",
              "    <tr>\n",
              "      <th>std</th>\n",
              "      <td>8.902412</td>\n",
              "      <td>1.383638</td>\n",
              "      <td>0.951100</td>\n",
              "    </tr>\n",
              "    <tr>\n",
              "      <th>min</th>\n",
              "      <td>3.070000</td>\n",
              "      <td>1.000000</td>\n",
              "      <td>1.000000</td>\n",
              "    </tr>\n",
              "    <tr>\n",
              "      <th>25%</th>\n",
              "      <td>13.347500</td>\n",
              "      <td>2.000000</td>\n",
              "      <td>2.000000</td>\n",
              "    </tr>\n",
              "    <tr>\n",
              "      <th>50%</th>\n",
              "      <td>17.795000</td>\n",
              "      <td>2.900000</td>\n",
              "      <td>2.000000</td>\n",
              "    </tr>\n",
              "    <tr>\n",
              "      <th>75%</th>\n",
              "      <td>24.127500</td>\n",
              "      <td>3.562500</td>\n",
              "      <td>3.000000</td>\n",
              "    </tr>\n",
              "    <tr>\n",
              "      <th>max</th>\n",
              "      <td>50.810000</td>\n",
              "      <td>10.000000</td>\n",
              "      <td>6.000000</td>\n",
              "    </tr>\n",
              "  </tbody>\n",
              "</table>\n",
              "</div>\n",
              "    <div class=\"colab-df-buttons\">\n",
              "\n",
              "  <div class=\"colab-df-container\">\n",
              "    <button class=\"colab-df-convert\" onclick=\"convertToInteractive('df-4174ba25-60bb-48da-bd21-b3f19b075d0b')\"\n",
              "            title=\"Convert this dataframe to an interactive table.\"\n",
              "            style=\"display:none;\">\n",
              "\n",
              "  <svg xmlns=\"http://www.w3.org/2000/svg\" height=\"24px\" viewBox=\"0 -960 960 960\">\n",
              "    <path d=\"M120-120v-720h720v720H120Zm60-500h600v-160H180v160Zm220 220h160v-160H400v160Zm0 220h160v-160H400v160ZM180-400h160v-160H180v160Zm440 0h160v-160H620v160ZM180-180h160v-160H180v160Zm440 0h160v-160H620v160Z\"/>\n",
              "  </svg>\n",
              "    </button>\n",
              "\n",
              "  <style>\n",
              "    .colab-df-container {\n",
              "      display:flex;\n",
              "      gap: 12px;\n",
              "    }\n",
              "\n",
              "    .colab-df-convert {\n",
              "      background-color: #E8F0FE;\n",
              "      border: none;\n",
              "      border-radius: 50%;\n",
              "      cursor: pointer;\n",
              "      display: none;\n",
              "      fill: #1967D2;\n",
              "      height: 32px;\n",
              "      padding: 0 0 0 0;\n",
              "      width: 32px;\n",
              "    }\n",
              "\n",
              "    .colab-df-convert:hover {\n",
              "      background-color: #E2EBFA;\n",
              "      box-shadow: 0px 1px 2px rgba(60, 64, 67, 0.3), 0px 1px 3px 1px rgba(60, 64, 67, 0.15);\n",
              "      fill: #174EA6;\n",
              "    }\n",
              "\n",
              "    .colab-df-buttons div {\n",
              "      margin-bottom: 4px;\n",
              "    }\n",
              "\n",
              "    [theme=dark] .colab-df-convert {\n",
              "      background-color: #3B4455;\n",
              "      fill: #D2E3FC;\n",
              "    }\n",
              "\n",
              "    [theme=dark] .colab-df-convert:hover {\n",
              "      background-color: #434B5C;\n",
              "      box-shadow: 0px 1px 3px 1px rgba(0, 0, 0, 0.15);\n",
              "      filter: drop-shadow(0px 1px 2px rgba(0, 0, 0, 0.3));\n",
              "      fill: #FFFFFF;\n",
              "    }\n",
              "  </style>\n",
              "\n",
              "    <script>\n",
              "      const buttonEl =\n",
              "        document.querySelector('#df-4174ba25-60bb-48da-bd21-b3f19b075d0b button.colab-df-convert');\n",
              "      buttonEl.style.display =\n",
              "        google.colab.kernel.accessAllowed ? 'block' : 'none';\n",
              "\n",
              "      async function convertToInteractive(key) {\n",
              "        const element = document.querySelector('#df-4174ba25-60bb-48da-bd21-b3f19b075d0b');\n",
              "        const dataTable =\n",
              "          await google.colab.kernel.invokeFunction('convertToInteractive',\n",
              "                                                    [key], {});\n",
              "        if (!dataTable) return;\n",
              "\n",
              "        const docLinkHtml = 'Like what you see? Visit the ' +\n",
              "          '<a target=\"_blank\" href=https://colab.research.google.com/notebooks/data_table.ipynb>data table notebook</a>'\n",
              "          + ' to learn more about interactive tables.';\n",
              "        element.innerHTML = '';\n",
              "        dataTable['output_type'] = 'display_data';\n",
              "        await google.colab.output.renderOutput(dataTable, element);\n",
              "        const docLink = document.createElement('div');\n",
              "        docLink.innerHTML = docLinkHtml;\n",
              "        element.appendChild(docLink);\n",
              "      }\n",
              "    </script>\n",
              "  </div>\n",
              "\n",
              "\n",
              "<div id=\"df-ce9b0584-8a03-47da-89a0-94f058508d2a\">\n",
              "  <button class=\"colab-df-quickchart\" onclick=\"quickchart('df-ce9b0584-8a03-47da-89a0-94f058508d2a')\"\n",
              "            title=\"Suggest charts\"\n",
              "            style=\"display:none;\">\n",
              "\n",
              "<svg xmlns=\"http://www.w3.org/2000/svg\" height=\"24px\"viewBox=\"0 0 24 24\"\n",
              "     width=\"24px\">\n",
              "    <g>\n",
              "        <path d=\"M19 3H5c-1.1 0-2 .9-2 2v14c0 1.1.9 2 2 2h14c1.1 0 2-.9 2-2V5c0-1.1-.9-2-2-2zM9 17H7v-7h2v7zm4 0h-2V7h2v10zm4 0h-2v-4h2v4z\"/>\n",
              "    </g>\n",
              "</svg>\n",
              "  </button>\n",
              "\n",
              "<style>\n",
              "  .colab-df-quickchart {\n",
              "      --bg-color: #E8F0FE;\n",
              "      --fill-color: #1967D2;\n",
              "      --hover-bg-color: #E2EBFA;\n",
              "      --hover-fill-color: #174EA6;\n",
              "      --disabled-fill-color: #AAA;\n",
              "      --disabled-bg-color: #DDD;\n",
              "  }\n",
              "\n",
              "  [theme=dark] .colab-df-quickchart {\n",
              "      --bg-color: #3B4455;\n",
              "      --fill-color: #D2E3FC;\n",
              "      --hover-bg-color: #434B5C;\n",
              "      --hover-fill-color: #FFFFFF;\n",
              "      --disabled-bg-color: #3B4455;\n",
              "      --disabled-fill-color: #666;\n",
              "  }\n",
              "\n",
              "  .colab-df-quickchart {\n",
              "    background-color: var(--bg-color);\n",
              "    border: none;\n",
              "    border-radius: 50%;\n",
              "    cursor: pointer;\n",
              "    display: none;\n",
              "    fill: var(--fill-color);\n",
              "    height: 32px;\n",
              "    padding: 0;\n",
              "    width: 32px;\n",
              "  }\n",
              "\n",
              "  .colab-df-quickchart:hover {\n",
              "    background-color: var(--hover-bg-color);\n",
              "    box-shadow: 0 1px 2px rgba(60, 64, 67, 0.3), 0 1px 3px 1px rgba(60, 64, 67, 0.15);\n",
              "    fill: var(--button-hover-fill-color);\n",
              "  }\n",
              "\n",
              "  .colab-df-quickchart-complete:disabled,\n",
              "  .colab-df-quickchart-complete:disabled:hover {\n",
              "    background-color: var(--disabled-bg-color);\n",
              "    fill: var(--disabled-fill-color);\n",
              "    box-shadow: none;\n",
              "  }\n",
              "\n",
              "  .colab-df-spinner {\n",
              "    border: 2px solid var(--fill-color);\n",
              "    border-color: transparent;\n",
              "    border-bottom-color: var(--fill-color);\n",
              "    animation:\n",
              "      spin 1s steps(1) infinite;\n",
              "  }\n",
              "\n",
              "  @keyframes spin {\n",
              "    0% {\n",
              "      border-color: transparent;\n",
              "      border-bottom-color: var(--fill-color);\n",
              "      border-left-color: var(--fill-color);\n",
              "    }\n",
              "    20% {\n",
              "      border-color: transparent;\n",
              "      border-left-color: var(--fill-color);\n",
              "      border-top-color: var(--fill-color);\n",
              "    }\n",
              "    30% {\n",
              "      border-color: transparent;\n",
              "      border-left-color: var(--fill-color);\n",
              "      border-top-color: var(--fill-color);\n",
              "      border-right-color: var(--fill-color);\n",
              "    }\n",
              "    40% {\n",
              "      border-color: transparent;\n",
              "      border-right-color: var(--fill-color);\n",
              "      border-top-color: var(--fill-color);\n",
              "    }\n",
              "    60% {\n",
              "      border-color: transparent;\n",
              "      border-right-color: var(--fill-color);\n",
              "    }\n",
              "    80% {\n",
              "      border-color: transparent;\n",
              "      border-right-color: var(--fill-color);\n",
              "      border-bottom-color: var(--fill-color);\n",
              "    }\n",
              "    90% {\n",
              "      border-color: transparent;\n",
              "      border-bottom-color: var(--fill-color);\n",
              "    }\n",
              "  }\n",
              "</style>\n",
              "\n",
              "  <script>\n",
              "    async function quickchart(key) {\n",
              "      const quickchartButtonEl =\n",
              "        document.querySelector('#' + key + ' button');\n",
              "      quickchartButtonEl.disabled = true;  // To prevent multiple clicks.\n",
              "      quickchartButtonEl.classList.add('colab-df-spinner');\n",
              "      try {\n",
              "        const charts = await google.colab.kernel.invokeFunction(\n",
              "            'suggestCharts', [key], {});\n",
              "      } catch (error) {\n",
              "        console.error('Error during call to suggestCharts:', error);\n",
              "      }\n",
              "      quickchartButtonEl.classList.remove('colab-df-spinner');\n",
              "      quickchartButtonEl.classList.add('colab-df-quickchart-complete');\n",
              "    }\n",
              "    (() => {\n",
              "      let quickchartButtonEl =\n",
              "        document.querySelector('#df-ce9b0584-8a03-47da-89a0-94f058508d2a button');\n",
              "      quickchartButtonEl.style.display =\n",
              "        google.colab.kernel.accessAllowed ? 'block' : 'none';\n",
              "    })();\n",
              "  </script>\n",
              "</div>\n",
              "\n",
              "    </div>\n",
              "  </div>\n"
            ],
            "application/vnd.google.colaboratory.intrinsic+json": {
              "type": "dataframe",
              "summary": "{\n  \"name\": \"df_tips\",\n  \"rows\": 8,\n  \"fields\": [\n    {\n      \"column\": \"total_bill\",\n      \"properties\": {\n        \"dtype\": \"number\",\n        \"std\": 80.57800601480773,\n        \"min\": 3.07,\n        \"max\": 244.0,\n        \"num_unique_values\": 8,\n        \"samples\": [\n          19.78594262295082,\n          17.795,\n          244.0\n        ],\n        \"semantic_type\": \"\",\n        \"description\": \"\"\n      }\n    },\n    {\n      \"column\": \"tip\",\n      \"properties\": {\n        \"dtype\": \"number\",\n        \"std\": 85.10953159599222,\n        \"min\": 1.0,\n        \"max\": 244.0,\n        \"num_unique_values\": 8,\n        \"samples\": [\n          2.99827868852459,\n          2.9,\n          244.0\n        ],\n        \"semantic_type\": \"\",\n        \"description\": \"\"\n      }\n    },\n    {\n      \"column\": \"size\",\n      \"properties\": {\n        \"dtype\": \"number\",\n        \"std\": 85.39686221774683,\n        \"min\": 0.9510998047322344,\n        \"max\": 244.0,\n        \"num_unique_values\": 7,\n        \"samples\": [\n          244.0,\n          2.569672131147541,\n          3.0\n        ],\n        \"semantic_type\": \"\",\n        \"description\": \"\"\n      }\n    }\n  ]\n}"
            }
          },
          "metadata": {},
          "execution_count": 16
        }
      ]
    },
    {
      "cell_type": "code",
      "source": [
        "df_tips['tip'].hist()"
      ],
      "metadata": {
        "colab": {
          "base_uri": "https://localhost:8080/",
          "height": 447
        },
        "id": "E8I8NoYeIXv2",
        "outputId": "abec22d1-7550-4cfb-9ea6-d0aaea8847ae"
      },
      "id": "E8I8NoYeIXv2",
      "execution_count": null,
      "outputs": [
        {
          "output_type": "execute_result",
          "data": {
            "text/plain": [
              "<Axes: >"
            ]
          },
          "metadata": {},
          "execution_count": 17
        },
        {
          "output_type": "display_data",
          "data": {
            "text/plain": [
              "<Figure size 640x480 with 1 Axes>"
            ],
            "image/png": "[encoded data removed]"
          },
          "metadata": {}
        }
      ]
    },
    {
      "cell_type": "code",
      "source": [
        "df_tips['size'].hist()"
      ],
      "metadata": {
        "colab": {
          "base_uri": "https://localhost:8080/",
          "height": 447
        },
        "id": "P-EtQu_AIvjd",
        "outputId": "e00585f1-0117-4b00-c5d8-84c607c0b747"
      },
      "id": "P-EtQu_AIvjd",
      "execution_count": null,
      "outputs": [
        {
          "output_type": "execute_result",
          "data": {
            "text/plain": [
              "<Axes: >"
            ]
          },
          "metadata": {},
          "execution_count": 18
        },
        {
          "output_type": "display_data",
          "data": {
            "text/plain": [
              "<Figure size 640x480 with 1 Axes>"
            ],
            "image/png": "[encoded data removed]"
          },
          "metadata": {}
        }
      ]
    },
    {
      "cell_type": "code",
      "source": [
        "df_tips['total_bill'].hist()"
      ],
      "metadata": {
        "colab": {
          "base_uri": "https://localhost:8080/",
          "height": 447
        },
        "id": "4ixC97DtI22j",
        "outputId": "196a18a1-fdf8-48bb-8a11-ca8d7dca44b6"
      },
      "id": "4ixC97DtI22j",
      "execution_count": null,
      "outputs": [
        {
          "output_type": "execute_result",
          "data": {
            "text/plain": [
              "<Axes: >"
            ]
          },
          "metadata": {},
          "execution_count": 19
        },
        {
          "output_type": "display_data",
          "data": {
            "text/plain": [
              "<Figure size 640x480 with 1 Axes>"
            ],
            "image/png": "[encoded data removed]"
          },
          "metadata": {}
        }
      ]
    },
    {
      "cell_type": "markdown",
      "id": "feaf2968",
      "metadata": {
        "id": "feaf2968"
      },
      "source": [
        "## Normalização ou Z-Score\n",
        "<br>\n",
        "\n",
        "Imagine ter que calcular a probabilidade de uma distribuição normal de um determinado evento, utilizando a função de densidade de probabilidade. Seria bastante trabalho e nem um pouco usual!\n",
        "\n",
        "Para isso então que existe uma relação conhecida como normalização ou __Z-Score__, onde este parâmetro nada mais é que __o número de desvios padrões que a observação está com relação à média__:\n",
        "\n",
        "$$ z = \\frac{x - \\mu}{\\sigma} $$\n",
        "\n",
        "$$ z \\sigma = x - \\mu $$\n",
        "\n",
        "\n",
        "<img src = \"https://miro.medium.com/max/1200/1*IdGgdrY_n_9_YfkaCh-dag.png\" width=800>\n",
        "<br>\n",
        "\n",
        "Como vimos acima, em uma distribuição normal, 99.73% das observações são esperadas de estar entre 3 desvios-padrão da média. Assim, obervações para além desta faixa são muito improváveis de ocorrer (0.27% de chance), de forma que podem ser consideradas outliers. Assim, é comum considerar outliers os pontos tais que $|z| > 3$ (embora seja comum também variar este z-score limite, para 2.5 o, 3.5, etc.)\n",
        "\n",
        "<br>\n",
        "\n",
        "**OBS.: naturalmente, este método é altamente dependente da hipótese de que seus dados são normalmente distribuídos! Por isso, funciona apenas aproximadamente para outros casos. Mas é uma boa aproximação, em geral.**\n",
        "\n",
        "\n",
        "\n",
        "onde o objetivo é convertermos os dados para uma distribuição normal na forma X ~ N($\\mu$, $\\sigma^2$)"
      ]
    },
    {
      "cell_type": "markdown",
      "id": "af1bebd1",
      "metadata": {
        "id": "af1bebd1"
      },
      "source": [
        "**Exemplo**:\n",
        "\n",
        "Se $X \\sim  \\mathcal{N}(\\mu=165,\\,\\sigma^{2}=9)$, calcule $P(X<162)$.\n",
        "\n",
        "$$\\mu=165$$\n",
        "$$\\sigmaˆ{2}=9$$\n",
        "$$P(X < 163) => z = \\frac{162 - 165}{3}$$\n",
        "$$P(X < 163) => z = -1$$\n",
        "$$P(X < 163) = 0.1586$$\n"
      ]
    },
    {
      "cell_type": "code",
      "execution_count": null,
      "id": "b2ef59b5",
      "metadata": {
        "id": "b2ef59b5",
        "colab": {
          "base_uri": "https://localhost:8080/"
        },
        "outputId": "2c5eba89-7e11-4ae9-b3cb-bcbe68fe5009"
      },
      "outputs": [
        {
          "output_type": "stream",
          "name": "stdout",
          "text": [
            "Probabilidade é: 0.15865525393145707\n"
          ]
        }
      ],
      "source": [
        "import numpy as np\n",
        "\n",
        "\n",
        "x = 162\n",
        "media = 165\n",
        "desvio_padrao = np.sqrt(9)\n",
        "\n",
        "z = (x - media) / desvio_padrao\n",
        "\n",
        "print('Probabilidade é:', stats.norm.cdf(z))"
      ]
    },
    {
      "cell_type": "markdown",
      "id": "2cb1b68b",
      "metadata": {
        "id": "2cb1b68b"
      },
      "source": [
        "**Exemplo**: Se $X \\sim  \\mathcal{N}(\\mu=10,\\,\\sigma^{2}=4)$, calcule $P(X>13)$.\n",
        "\n",
        "Obs.: Lembrando que para calcular essa probabilidade temos que fazer da seguinte forma:\n",
        "\n",
        "$$ P(X > 13) = 1 - P( X \\leq 13) $$"
      ]
    },
    {
      "cell_type": "code",
      "execution_count": null,
      "id": "72b80649",
      "metadata": {
        "ExecuteTime": {
          "end_time": "2023-05-12T23:30:41.896553Z",
          "start_time": "2023-05-12T23:30:41.889097Z"
        },
        "id": "72b80649"
      },
      "outputs": [],
      "source": []
    },
    {
      "cell_type": "markdown",
      "id": "2384dbec",
      "metadata": {
        "id": "2384dbec"
      },
      "source": [
        "**Exemplo:** O peso médio de 500 estudantes do sexo masculino de uma determinada universidade é 75,5 Kg e o desvio padrão é 7,5 Kg. Admitindo que os pesos são normalmente distribuídos, determine a percentagem de estudantes que pesam:"
      ]
    },
    {
      "cell_type": "markdown",
      "id": "002108a9",
      "metadata": {
        "id": "002108a9"
      },
      "source": [
        "a) entre 60 e 77,5 Kg.\n",
        "\n",
        "$$\n",
        "P(60 \\leq X \\leq 77,5) = P\\left(\\frac{60-\\mu}{\\sigma} \\leq \\frac{X-\\mu}{\\sigma} \\leq \\frac{77,5-\\mu}{\\sigma}\\right)=P\\left(\\frac{60-\\mu}{\\sigma} \\leq Z \\leq \\frac{77,5-\\mu}{\\sigma}\\right) =\n",
        "$$\n",
        "$$\n",
        "= P\\left(Z \\leq \\frac{77,5-\\mu}{\\sigma}\\right)-P\\left( Z \\leq \\frac{60-\\mu}{\\sigma}\\right)\n",
        "$$\n"
      ]
    },
    {
      "cell_type": "code",
      "execution_count": null,
      "id": "7dbed2ab",
      "metadata": {
        "ExecuteTime": {
          "end_time": "2023-05-15T23:12:52.498300Z",
          "start_time": "2023-05-15T23:12:48.028941Z"
        },
        "id": "7dbed2ab"
      },
      "outputs": [],
      "source": []
    },
    {
      "cell_type": "markdown",
      "id": "45d62dc9",
      "metadata": {
        "id": "45d62dc9"
      },
      "source": [
        "b) mais do que 92,5 Kg.\n",
        "$$\n",
        "P(X \\geq 92,5) = P\\left( \\frac{X-\\mu}{\\sigma}\\geq \\frac{92,5-\\mu}{\\sigma}\\right) = P\\left( Z \\geq \\frac{92,5-\\mu}{\\sigma}\\right) = 1 - P\\left( Z < \\frac{92,5-\\mu}{\\sigma}\\right)\n",
        "$$"
      ]
    },
    {
      "cell_type": "code",
      "execution_count": null,
      "id": "abc340e5",
      "metadata": {
        "ExecuteTime": {
          "end_time": "2023-05-15T23:22:16.855035Z",
          "start_time": "2023-05-15T23:22:16.843387Z"
        },
        "id": "abc340e5"
      },
      "outputs": [],
      "source": []
    },
    {
      "cell_type": "markdown",
      "id": "777e6bc7",
      "metadata": {
        "id": "777e6bc7"
      },
      "source": [
        "Uma forma mais tradicional também para calcular a probabilidade a partir de uma distribuição normal seria justamente utilizar de valores tabelados para o __Z-Score__:"
      ]
    },
    {
      "cell_type": "markdown",
      "id": "3c9e5ed7",
      "metadata": {
        "id": "3c9e5ed7"
      },
      "source": [
        "<img src = \"https://media.cheggcdn.com/media/70e/70ea2b20-f693-43d1-aa34-33289a97d606/phpqH8k6j\" width = 800>"
      ]
    },
    {
      "cell_type": "code",
      "source": [
        "media = df_tips['total_bill'].mean()\n",
        "desvio_padrao = df_tips['total_bill'].std()\n",
        "\n",
        "rv = stats.norm(media, desvio_padrao)\n",
        "\n",
        "# df_tips['total_bill_z'] = df_tips['total_bill'].apply(lambda x: (x - media)/desvio_padrao)\n",
        "df_tips['total_bill_z'] = (df_tips['total_bill'] - media) / desvio_padrao\n",
        "df_tips['total_bill_prob'] = rv.pdf(df_tips['total_bill_z'])\n",
        "# df_tips = df_tips.assign(total_bill_z = lambda x: (x.total_bill - media)/desvio_padrao)\n",
        "\n",
        "# df_tips.drop(columns='total_bill_z', inplace=True)"
      ],
      "metadata": {
        "id": "tnsuj_FTLb90"
      },
      "id": "tnsuj_FTLb90",
      "execution_count": null,
      "outputs": []
    },
    {
      "cell_type": "code",
      "source": [
        "df_tips[['total_bill_z']].hist()"
      ],
      "metadata": {
        "colab": {
          "base_uri": "https://localhost:8080/",
          "height": 469
        },
        "id": "oEjAlHHIMjUk",
        "outputId": "e1e72790-7af7-4712-ecf7-87d8c236d6a9"
      },
      "id": "oEjAlHHIMjUk",
      "execution_count": null,
      "outputs": [
        {
          "output_type": "execute_result",
          "data": {
            "text/plain": [
              "array([[<Axes: title={'center': 'total_bill_z'}>]], dtype=object)"
            ]
          },
          "metadata": {},
          "execution_count": 55
        },
        {
          "output_type": "display_data",
          "data": {
            "text/plain": [
              "<Figure size 640x480 with 1 Axes>"
            ],
            "image/png": "[encoded data removed]"
          },
          "metadata": {}
        }
      ]
    },
    {
      "cell_type": "code",
      "source": [
        "# Calcular a probabilidade da minha próxima receita ser maior do que 16.99\n",
        "receita_maior = 16.99\n",
        "\n",
        "display(df_tips[['total_bill', 'total_bill_prob']].head(3))\n",
        "print('P(X > 16.99) = ', df_tips[df_tips['total_bill'] > receita_maior]['total_bill_prob'].sum())"
      ],
      "metadata": {
        "colab": {
          "base_uri": "https://localhost:8080/",
          "height": 161
        },
        "id": "D8i9PLh1QTBN",
        "outputId": "3dc83592-92e7-43fe-f7c6-66efbd4300ce"
      },
      "id": "D8i9PLh1QTBN",
      "execution_count": null,
      "outputs": [
        {
          "output_type": "display_data",
          "data": {
            "text/plain": [
              "   total_bill  total_bill_prob\n",
              "0       16.99         0.003503\n",
              "1       10.34         0.002888\n",
              "2       21.01         0.003923"
            ],
            "text/html": [
              "\n",
              "  <div id=\"df-55e8550e-9f00-4563-9de6-2b5b035389aa\" class=\"colab-df-container\">\n",
              "    <div>\n",
              "<style scoped>\n",
              "    .dataframe tbody tr th:only-of-type {\n",
              "        vertical-align: middle;\n",
              "    }\n",
              "\n",
              "    .dataframe tbody tr th {\n",
              "        vertical-align: top;\n",
              "    }\n",
              "\n",
              "    .dataframe thead th {\n",
              "        text-align: right;\n",
              "    }\n",
              "</style>\n",
              "<table border=\"1\" class=\"dataframe\">\n",
              "  <thead>\n",
              "    <tr style=\"text-align: right;\">\n",
              "      <th></th>\n",
              "      <th>total_bill</th>\n",
              "      <th>total_bill_prob</th>\n",
              "    </tr>\n",
              "  </thead>\n",
              "  <tbody>\n",
              "    <tr>\n",
              "      <th>0</th>\n",
              "      <td>16.99</td>\n",
              "      <td>0.003503</td>\n",
              "    </tr>\n",
              "    <tr>\n",
              "      <th>1</th>\n",
              "      <td>10.34</td>\n",
              "      <td>0.002888</td>\n",
              "    </tr>\n",
              "    <tr>\n",
              "      <th>2</th>\n",
              "      <td>21.01</td>\n",
              "      <td>0.003923</td>\n",
              "    </tr>\n",
              "  </tbody>\n",
              "</table>\n",
              "</div>\n",
              "    <div class=\"colab-df-buttons\">\n",
              "\n",
              "  <div class=\"colab-df-container\">\n",
              "    <button class=\"colab-df-convert\" onclick=\"convertToInteractive('df-55e8550e-9f00-4563-9de6-2b5b035389aa')\"\n",
              "            title=\"Convert this dataframe to an interactive table.\"\n",
              "            style=\"display:none;\">\n",
              "\n",
              "  <svg xmlns=\"http://www.w3.org/2000/svg\" height=\"24px\" viewBox=\"0 -960 960 960\">\n",
              "    <path d=\"M120-120v-720h720v720H120Zm60-500h600v-160H180v160Zm220 220h160v-160H400v160Zm0 220h160v-160H400v160ZM180-400h160v-160H180v160Zm440 0h160v-160H620v160ZM180-180h160v-160H180v160Zm440 0h160v-160H620v160Z\"/>\n",
              "  </svg>\n",
              "    </button>\n",
              "\n",
              "  <style>\n",
              "    .colab-df-container {\n",
              "      display:flex;\n",
              "      gap: 12px;\n",
              "    }\n",
              "\n",
              "    .colab-df-convert {\n",
              "      background-color: #E8F0FE;\n",
              "      border: none;\n",
              "      border-radius: 50%;\n",
              "      cursor: pointer;\n",
              "      display: none;\n",
              "      fill: #1967D2;\n",
              "      height: 32px;\n",
              "      padding: 0 0 0 0;\n",
              "      width: 32px;\n",
              "    }\n",
              "\n",
              "    .colab-df-convert:hover {\n",
              "      background-color: #E2EBFA;\n",
              "      box-shadow: 0px 1px 2px rgba(60, 64, 67, 0.3), 0px 1px 3px 1px rgba(60, 64, 67, 0.15);\n",
              "      fill: #174EA6;\n",
              "    }\n",
              "\n",
              "    .colab-df-buttons div {\n",
              "      margin-bottom: 4px;\n",
              "    }\n",
              "\n",
              "    [theme=dark] .colab-df-convert {\n",
              "      background-color: #3B4455;\n",
              "      fill: #D2E3FC;\n",
              "    }\n",
              "\n",
              "    [theme=dark] .colab-df-convert:hover {\n",
              "      background-color: #434B5C;\n",
              "      box-shadow: 0px 1px 3px 1px rgba(0, 0, 0, 0.15);\n",
              "      filter: drop-shadow(0px 1px 2px rgba(0, 0, 0, 0.3));\n",
              "      fill: #FFFFFF;\n",
              "    }\n",
              "  </style>\n",
              "\n",
              "    <script>\n",
              "      const buttonEl =\n",
              "        document.querySelector('#df-55e8550e-9f00-4563-9de6-2b5b035389aa button.colab-df-convert');\n",
              "      buttonEl.style.display =\n",
              "        google.colab.kernel.accessAllowed ? 'block' : 'none';\n",
              "\n",
              "      async function convertToInteractive(key) {\n",
              "        const element = document.querySelector('#df-55e8550e-9f00-4563-9de6-2b5b035389aa');\n",
              "        const dataTable =\n",
              "          await google.colab.kernel.invokeFunction('convertToInteractive',\n",
              "                                                    [key], {});\n",
              "        if (!dataTable) return;\n",
              "\n",
              "        const docLinkHtml = 'Like what you see? Visit the ' +\n",
              "          '<a target=\"_blank\" href=https://colab.research.google.com/notebooks/data_table.ipynb>data table notebook</a>'\n",
              "          + ' to learn more about interactive tables.';\n",
              "        element.innerHTML = '';\n",
              "        dataTable['output_type'] = 'display_data';\n",
              "        await google.colab.output.renderOutput(dataTable, element);\n",
              "        const docLink = document.createElement('div');\n",
              "        docLink.innerHTML = docLinkHtml;\n",
              "        element.appendChild(docLink);\n",
              "      }\n",
              "    </script>\n",
              "  </div>\n",
              "\n",
              "\n",
              "<div id=\"df-5b74b37b-7353-4c98-8027-fbdd41804e4d\">\n",
              "  <button class=\"colab-df-quickchart\" onclick=\"quickchart('df-5b74b37b-7353-4c98-8027-fbdd41804e4d')\"\n",
              "            title=\"Suggest charts\"\n",
              "            style=\"display:none;\">\n",
              "\n",
              "<svg xmlns=\"http://www.w3.org/2000/svg\" height=\"24px\"viewBox=\"0 0 24 24\"\n",
              "     width=\"24px\">\n",
              "    <g>\n",
              "        <path d=\"M19 3H5c-1.1 0-2 .9-2 2v14c0 1.1.9 2 2 2h14c1.1 0 2-.9 2-2V5c0-1.1-.9-2-2-2zM9 17H7v-7h2v7zm4 0h-2V7h2v10zm4 0h-2v-4h2v4z\"/>\n",
              "    </g>\n",
              "</svg>\n",
              "  </button>\n",
              "\n",
              "<style>\n",
              "  .colab-df-quickchart {\n",
              "      --bg-color: #E8F0FE;\n",
              "      --fill-color: #1967D2;\n",
              "      --hover-bg-color: #E2EBFA;\n",
              "      --hover-fill-color: #174EA6;\n",
              "      --disabled-fill-color: #AAA;\n",
              "      --disabled-bg-color: #DDD;\n",
              "  }\n",
              "\n",
              "  [theme=dark] .colab-df-quickchart {\n",
              "      --bg-color: #3B4455;\n",
              "      --fill-color: #D2E3FC;\n",
              "      --hover-bg-color: #434B5C;\n",
              "      --hover-fill-color: #FFFFFF;\n",
              "      --disabled-bg-color: #3B4455;\n",
              "      --disabled-fill-color: #666;\n",
              "  }\n",
              "\n",
              "  .colab-df-quickchart {\n",
              "    background-color: var(--bg-color);\n",
              "    border: none;\n",
              "    border-radius: 50%;\n",
              "    cursor: pointer;\n",
              "    display: none;\n",
              "    fill: var(--fill-color);\n",
              "    height: 32px;\n",
              "    padding: 0;\n",
              "    width: 32px;\n",
              "  }\n",
              "\n",
              "  .colab-df-quickchart:hover {\n",
              "    background-color: var(--hover-bg-color);\n",
              "    box-shadow: 0 1px 2px rgba(60, 64, 67, 0.3), 0 1px 3px 1px rgba(60, 64, 67, 0.15);\n",
              "    fill: var(--button-hover-fill-color);\n",
              "  }\n",
              "\n",
              "  .colab-df-quickchart-complete:disabled,\n",
              "  .colab-df-quickchart-complete:disabled:hover {\n",
              "    background-color: var(--disabled-bg-color);\n",
              "    fill: var(--disabled-fill-color);\n",
              "    box-shadow: none;\n",
              "  }\n",
              "\n",
              "  .colab-df-spinner {\n",
              "    border: 2px solid var(--fill-color);\n",
              "    border-color: transparent;\n",
              "    border-bottom-color: var(--fill-color);\n",
              "    animation:\n",
              "      spin 1s steps(1) infinite;\n",
              "  }\n",
              "\n",
              "  @keyframes spin {\n",
              "    0% {\n",
              "      border-color: transparent;\n",
              "      border-bottom-color: var(--fill-color);\n",
              "      border-left-color: var(--fill-color);\n",
              "    }\n",
              "    20% {\n",
              "      border-color: transparent;\n",
              "      border-left-color: var(--fill-color);\n",
              "      border-top-color: var(--fill-color);\n",
              "    }\n",
              "    30% {\n",
              "      border-color: transparent;\n",
              "      border-left-color: var(--fill-color);\n",
              "      border-top-color: var(--fill-color);\n",
              "      border-right-color: var(--fill-color);\n",
              "    }\n",
              "    40% {\n",
              "      border-color: transparent;\n",
              "      border-right-color: var(--fill-color);\n",
              "      border-top-color: var(--fill-color);\n",
              "    }\n",
              "    60% {\n",
              "      border-color: transparent;\n",
              "      border-right-color: var(--fill-color);\n",
              "    }\n",
              "    80% {\n",
              "      border-color: transparent;\n",
              "      border-right-color: var(--fill-color);\n",
              "      border-bottom-color: var(--fill-color);\n",
              "    }\n",
              "    90% {\n",
              "      border-color: transparent;\n",
              "      border-bottom-color: var(--fill-color);\n",
              "    }\n",
              "  }\n",
              "</style>\n",
              "\n",
              "  <script>\n",
              "    async function quickchart(key) {\n",
              "      const quickchartButtonEl =\n",
              "        document.querySelector('#' + key + ' button');\n",
              "      quickchartButtonEl.disabled = true;  // To prevent multiple clicks.\n",
              "      quickchartButtonEl.classList.add('colab-df-spinner');\n",
              "      try {\n",
              "        const charts = await google.colab.kernel.invokeFunction(\n",
              "            'suggestCharts', [key], {});\n",
              "      } catch (error) {\n",
              "        console.error('Error during call to suggestCharts:', error);\n",
              "      }\n",
              "      quickchartButtonEl.classList.remove('colab-df-spinner');\n",
              "      quickchartButtonEl.classList.add('colab-df-quickchart-complete');\n",
              "    }\n",
              "    (() => {\n",
              "      let quickchartButtonEl =\n",
              "        document.querySelector('#df-5b74b37b-7353-4c98-8027-fbdd41804e4d button');\n",
              "      quickchartButtonEl.style.display =\n",
              "        google.colab.kernel.accessAllowed ? 'block' : 'none';\n",
              "    })();\n",
              "  </script>\n",
              "</div>\n",
              "\n",
              "    </div>\n",
              "  </div>\n"
            ],
            "application/vnd.google.colaboratory.intrinsic+json": {
              "type": "dataframe",
              "summary": "{\n  \"name\": \"print('P(X > 16\",\n  \"rows\": 3,\n  \"fields\": [\n    {\n      \"column\": \"total_bill\",\n      \"properties\": {\n        \"dtype\": \"number\",\n        \"std\": 5.388750628237806,\n        \"min\": 10.34,\n        \"max\": 21.01,\n        \"num_unique_values\": 3,\n        \"samples\": [\n          16.99,\n          10.34,\n          21.01\n        ],\n        \"semantic_type\": \"\",\n        \"description\": \"\"\n      }\n    },\n    {\n      \"column\": \"total_bill_prob\",\n      \"properties\": {\n        \"dtype\": \"number\",\n        \"std\": 0.0005204294520439279,\n        \"min\": 0.0028882693564004406,\n        \"max\": 0.003923037288410713,\n        \"num_unique_values\": 3,\n        \"samples\": [\n          0.0035030285699103585,\n          0.0028882693564004406,\n          0.003923037288410713\n        ],\n        \"semantic_type\": \"\",\n        \"description\": \"\"\n      }\n    }\n  ]\n}"
            }
          },
          "metadata": {}
        },
        {
          "output_type": "stream",
          "name": "stdout",
          "text": [
            "P(X > 16.99) =  0.596937452162548\n"
          ]
        }
      ]
    },
    {
      "cell_type": "code",
      "source": [
        "media = df_tips['total_bill'].mean()\n",
        "desvio_padrao = df_tips['total_bill'].std()\n",
        "\n",
        "(16.99 - media) / desvio_padrao"
      ],
      "metadata": {
        "colab": {
          "base_uri": "https://localhost:8080/"
        },
        "id": "kCbylFktSV5P",
        "outputId": "9844405e-a275-48bc-8a77-e293a8a57c80"
      },
      "id": "kCbylFktSV5P",
      "execution_count": null,
      "outputs": [
        {
          "output_type": "execute_result",
          "data": {
            "text/plain": [
              "-0.31406574275923616"
            ]
          },
          "metadata": {},
          "execution_count": 75
        }
      ]
    },
    {
      "cell_type": "code",
      "source": [
        "media = df_tips['total_bill'].mean()\n",
        "desvio_padrao = df_tips['total_bill'].std()\n",
        "\n",
        "\n",
        "z = (receita_maior - media)/desvio_padrao\n",
        "\n",
        "stats.norm(media, desvio_padrao).pdf(z)"
      ],
      "metadata": {
        "colab": {
          "base_uri": "https://localhost:8080/"
        },
        "id": "1UHI-RtaQ6Dw",
        "outputId": "01d1baba-7885-431b-82b3-e90a7aedc483"
      },
      "id": "1UHI-RtaQ6Dw",
      "execution_count": null,
      "outputs": [
        {
          "output_type": "execute_result",
          "data": {
            "text/plain": [
              "0.0035030285699103585"
            ]
          },
          "metadata": {},
          "execution_count": 74
        }
      ]
    },
    {
      "cell_type": "code",
      "source": [
        "# Distribuição teorica\n",
        "media = df_tips['total_bill_z'].mean()\n",
        "desvio_padrao = df_tips['total_bill_z'].std()\n",
        "\n",
        "rv = stats.norm(media, desvio_padrao)\n",
        "\n",
        "x = range(-5, 6)\n",
        "y = rv.pdf(x)\n",
        "\n",
        "plt.plot(x, y)\n",
        "plt.show()"
      ],
      "metadata": {
        "colab": {
          "base_uri": "https://localhost:8080/",
          "height": 430
        },
        "id": "AgO8IJgtRkHN",
        "outputId": "f4bf1fcc-856c-4c65-d9ca-6ce362df3a5f"
      },
      "id": "AgO8IJgtRkHN",
      "execution_count": null,
      "outputs": [
        {
          "output_type": "display_data",
          "data": {
            "text/plain": [
              "<Figure size 640x480 with 1 Axes>"
            ],
            "image/png": "[encoded data removed]"
          },
          "metadata": {}
        }
      ]
    },
    {
      "cell_type": "code",
      "source": [
        "df_tips['total_bill'].hist()"
      ],
      "metadata": {
        "colab": {
          "base_uri": "https://localhost:8080/",
          "height": 447
        },
        "id": "zePZqePWNRav",
        "outputId": "3156a080-09d1-455b-e36d-bcdfd8b63d7e"
      },
      "id": "zePZqePWNRav",
      "execution_count": null,
      "outputs": [
        {
          "output_type": "execute_result",
          "data": {
            "text/plain": [
              "<Axes: >"
            ]
          },
          "metadata": {},
          "execution_count": 47
        },
        {
          "output_type": "display_data",
          "data": {
            "text/plain": [
              "<Figure size 640x480 with 1 Axes>"
            ],
            "image/png": "[encoded data removed]"
          },
          "metadata": {}
        }
      ]
    },
    {
      "cell_type": "code",
      "source": [
        "# Voltar o z-score para o x anterior\n",
        "# z = (x - media) / desvio_padrao\n",
        "# z * desvio_padrao = x - media\n",
        "# x = z * desvio_padrao + media"
      ],
      "metadata": {
        "id": "_Hx1vvuCOdIW"
      },
      "id": "_Hx1vvuCOdIW",
      "execution_count": null,
      "outputs": []
    },
    {
      "cell_type": "code",
      "source": [
        "media = df_tips['tip'].mean()\n",
        "desvio_padrao = df_tips['tip'].std()\n",
        "\n",
        "rv = stats.norm(media, desvio_padrao)\n",
        "\n",
        "# df_tips['tip_z'] = df_tips['tip'].apply(lambda x: (x - media)/desvio_padrao)\n",
        "df_tips['tip_z'] = (df_tips['tip'] - media) / desvio_padrao\n",
        "df_tips['tip_prob'] = rv.pdf(df_tips['tip_z'])\n",
        "# df_tips = df_tips.assign(tip_z = lambda x: (x.tip - media)/desvio_padrao)\n",
        "# df_tips.drop(columns='tip_z', inplace=True)\n",
        "\n",
        "df_tips['tip_z'].hist()\n",
        "plt.show()\n",
        "df_tips['tip'].hist()\n",
        "plt.show()"
      ],
      "metadata": {
        "colab": {
          "base_uri": "https://localhost:8080/",
          "height": 843
        },
        "id": "zg5Pb6m4Ow9s",
        "outputId": "01f0c99d-9ec2-4ff3-d59f-3002d7b8dce5"
      },
      "id": "zg5Pb6m4Ow9s",
      "execution_count": null,
      "outputs": [
        {
          "output_type": "display_data",
          "data": {
            "text/plain": [
              "<Figure size 640x480 with 1 Axes>"
            ],
            "image/png": "[encoded data removed]"
          },
          "metadata": {}
        },
        {
          "output_type": "display_data",
          "data": {
            "text/plain": [
              "<Figure size 640x480 with 1 Axes>"
            ],
            "image/png": "[encoded data removed]"
          },
          "metadata": {}
        }
      ]
    },
    {
      "cell_type": "code",
      "source": [
        "df_tips.describe()"
      ],
      "metadata": {
        "colab": {
          "base_uri": "https://localhost:8080/",
          "height": 300
        },
        "id": "gCBReD95PSBK",
        "outputId": "69ccf661-dda6-485f-c5de-c389f4faf94d"
      },
      "id": "gCBReD95PSBK",
      "execution_count": null,
      "outputs": [
        {
          "output_type": "execute_result",
          "data": {
            "text/plain": [
              "       total_bill         tip        size  total_bill_z  total_bill_prob  \\\n",
              "count  244.000000  244.000000  244.000000  2.440000e+02       244.000000   \n",
              "mean    19.785943    2.998279    2.569672 -6.028875e-17         0.003889   \n",
              "std      8.902412    1.383638    0.951100  1.000000e+00         0.001077   \n",
              "min      3.070000    1.000000    1.000000 -1.877687e+00         0.002320   \n",
              "25%     13.347500    2.000000    2.000000 -7.232245e-01         0.003154   \n",
              "50%     17.795000    2.900000    2.000000 -2.236408e-01         0.003584   \n",
              "75%     24.127500    3.562500    3.000000  4.876833e-01         0.004276   \n",
              "max     50.810000   10.000000    6.000000  3.484905e+00         0.008382   \n",
              "\n",
              "              tip_z    tip_prob  \n",
              "count  2.440000e+02  244.000000  \n",
              "mean   2.839259e-16    0.045743  \n",
              "std    1.000000e+00    0.060565  \n",
              "min   -1.444221e+00    0.001665  \n",
              "25%   -7.214882e-01    0.007771  \n",
              "50%   -7.102918e-02    0.024629  \n",
              "75%    4.077810e-01    0.049980  \n",
              "max    5.060370e+00    0.281575  "
            ],
            "text/html": [
              "\n",
              "  <div id=\"df-89d38edd-8b8a-4d4b-97cb-2f98eca86b29\" class=\"colab-df-container\">\n",
              "    <div>\n",
              "<style scoped>\n",
              "    .dataframe tbody tr th:only-of-type {\n",
              "        vertical-align: middle;\n",
              "    }\n",
              "\n",
              "    .dataframe tbody tr th {\n",
              "        vertical-align: top;\n",
              "    }\n",
              "\n",
              "    .dataframe thead th {\n",
              "        text-align: right;\n",
              "    }\n",
              "</style>\n",
              "<table border=\"1\" class=\"dataframe\">\n",
              "  <thead>\n",
              "    <tr style=\"text-align: right;\">\n",
              "      <th></th>\n",
              "      <th>total_bill</th>\n",
              "      <th>tip</th>\n",
              "      <th>size</th>\n",
              "      <th>total_bill_z</th>\n",
              "      <th>total_bill_prob</th>\n",
              "      <th>tip_z</th>\n",
              "      <th>tip_prob</th>\n",
              "    </tr>\n",
              "  </thead>\n",
              "  <tbody>\n",
              "    <tr>\n",
              "      <th>count</th>\n",
              "      <td>244.000000</td>\n",
              "      <td>244.000000</td>\n",
              "      <td>244.000000</td>\n",
              "      <td>2.440000e+02</td>\n",
              "      <td>244.000000</td>\n",
              "      <td>2.440000e+02</td>\n",
              "      <td>244.000000</td>\n",
              "    </tr>\n",
              "    <tr>\n",
              "      <th>mean</th>\n",
              "      <td>19.785943</td>\n",
              "      <td>2.998279</td>\n",
              "      <td>2.569672</td>\n",
              "      <td>-6.028875e-17</td>\n",
              "      <td>0.003889</td>\n",
              "      <td>2.839259e-16</td>\n",
              "      <td>0.045743</td>\n",
              "    </tr>\n",
              "    <tr>\n",
              "      <th>std</th>\n",
              "      <td>8.902412</td>\n",
              "      <td>1.383638</td>\n",
              "      <td>0.951100</td>\n",
              "      <td>1.000000e+00</td>\n",
              "      <td>0.001077</td>\n",
              "      <td>1.000000e+00</td>\n",
              "      <td>0.060565</td>\n",
              "    </tr>\n",
              "    <tr>\n",
              "      <th>min</th>\n",
              "      <td>3.070000</td>\n",
              "      <td>1.000000</td>\n",
              "      <td>1.000000</td>\n",
              "      <td>-1.877687e+00</td>\n",
              "      <td>0.002320</td>\n",
              "      <td>-1.444221e+00</td>\n",
              "      <td>0.001665</td>\n",
              "    </tr>\n",
              "    <tr>\n",
              "      <th>25%</th>\n",
              "      <td>13.347500</td>\n",
              "      <td>2.000000</td>\n",
              "      <td>2.000000</td>\n",
              "      <td>-7.232245e-01</td>\n",
              "      <td>0.003154</td>\n",
              "      <td>-7.214882e-01</td>\n",
              "      <td>0.007771</td>\n",
              "    </tr>\n",
              "    <tr>\n",
              "      <th>50%</th>\n",
              "      <td>17.795000</td>\n",
              "      <td>2.900000</td>\n",
              "      <td>2.000000</td>\n",
              "      <td>-2.236408e-01</td>\n",
              "      <td>0.003584</td>\n",
              "      <td>-7.102918e-02</td>\n",
              "      <td>0.024629</td>\n",
              "    </tr>\n",
              "    <tr>\n",
              "      <th>75%</th>\n",
              "      <td>24.127500</td>\n",
              "      <td>3.562500</td>\n",
              "      <td>3.000000</td>\n",
              "      <td>4.876833e-01</td>\n",
              "      <td>0.004276</td>\n",
              "      <td>4.077810e-01</td>\n",
              "      <td>0.049980</td>\n",
              "    </tr>\n",
              "    <tr>\n",
              "      <th>max</th>\n",
              "      <td>50.810000</td>\n",
              "      <td>10.000000</td>\n",
              "      <td>6.000000</td>\n",
              "      <td>3.484905e+00</td>\n",
              "      <td>0.008382</td>\n",
              "      <td>5.060370e+00</td>\n",
              "      <td>0.281575</td>\n",
              "    </tr>\n",
              "  </tbody>\n",
              "</table>\n",
              "</div>\n",
              "    <div class=\"colab-df-buttons\">\n",
              "\n",
              "  <div class=\"colab-df-container\">\n",
              "    <button class=\"colab-df-convert\" onclick=\"convertToInteractive('df-89d38edd-8b8a-4d4b-97cb-2f98eca86b29')\"\n",
              "            title=\"Convert this dataframe to an interactive table.\"\n",
              "            style=\"display:none;\">\n",
              "\n",
              "  <svg xmlns=\"http://www.w3.org/2000/svg\" height=\"24px\" viewBox=\"0 -960 960 960\">\n",
              "    <path d=\"M120-120v-720h720v720H120Zm60-500h600v-160H180v160Zm220 220h160v-160H400v160Zm0 220h160v-160H400v160ZM180-400h160v-160H180v160Zm440 0h160v-160H620v160ZM180-180h160v-160H180v160Zm440 0h160v-160H620v160Z\"/>\n",
              "  </svg>\n",
              "    </button>\n",
              "\n",
              "  <style>\n",
              "    .colab-df-container {\n",
              "      display:flex;\n",
              "      gap: 12px;\n",
              "    }\n",
              "\n",
              "    .colab-df-convert {\n",
              "      background-color: #E8F0FE;\n",
              "      border: none;\n",
              "      border-radius: 50%;\n",
              "      cursor: pointer;\n",
              "      display: none;\n",
              "      fill: #1967D2;\n",
              "      height: 32px;\n",
              "      padding: 0 0 0 0;\n",
              "      width: 32px;\n",
              "    }\n",
              "\n",
              "    .colab-df-convert:hover {\n",
              "      background-color: #E2EBFA;\n",
              "      box-shadow: 0px 1px 2px rgba(60, 64, 67, 0.3), 0px 1px 3px 1px rgba(60, 64, 67, 0.15);\n",
              "      fill: #174EA6;\n",
              "    }\n",
              "\n",
              "    .colab-df-buttons div {\n",
              "      margin-bottom: 4px;\n",
              "    }\n",
              "\n",
              "    [theme=dark] .colab-df-convert {\n",
              "      background-color: #3B4455;\n",
              "      fill: #D2E3FC;\n",
              "    }\n",
              "\n",
              "    [theme=dark] .colab-df-convert:hover {\n",
              "      background-color: #434B5C;\n",
              "      box-shadow: 0px 1px 3px 1px rgba(0, 0, 0, 0.15);\n",
              "      filter: drop-shadow(0px 1px 2px rgba(0, 0, 0, 0.3));\n",
              "      fill: #FFFFFF;\n",
              "    }\n",
              "  </style>\n",
              "\n",
              "    <script>\n",
              "      const buttonEl =\n",
              "        document.querySelector('#df-89d38edd-8b8a-4d4b-97cb-2f98eca86b29 button.colab-df-convert');\n",
              "      buttonEl.style.display =\n",
              "        google.colab.kernel.accessAllowed ? 'block' : 'none';\n",
              "\n",
              "      async function convertToInteractive(key) {\n",
              "        const element = document.querySelector('#df-89d38edd-8b8a-4d4b-97cb-2f98eca86b29');\n",
              "        const dataTable =\n",
              "          await google.colab.kernel.invokeFunction('convertToInteractive',\n",
              "                                                    [key], {});\n",
              "        if (!dataTable) return;\n",
              "\n",
              "        const docLinkHtml = 'Like what you see? Visit the ' +\n",
              "          '<a target=\"_blank\" href=https://colab.research.google.com/notebooks/data_table.ipynb>data table notebook</a>'\n",
              "          + ' to learn more about interactive tables.';\n",
              "        element.innerHTML = '';\n",
              "        dataTable['output_type'] = 'display_data';\n",
              "        await google.colab.output.renderOutput(dataTable, element);\n",
              "        const docLink = document.createElement('div');\n",
              "        docLink.innerHTML = docLinkHtml;\n",
              "        element.appendChild(docLink);\n",
              "      }\n",
              "    </script>\n",
              "  </div>\n",
              "\n",
              "\n",
              "<div id=\"df-e02afbb0-6f54-4d2d-9d77-d60cb67ffe56\">\n",
              "  <button class=\"colab-df-quickchart\" onclick=\"quickchart('df-e02afbb0-6f54-4d2d-9d77-d60cb67ffe56')\"\n",
              "            title=\"Suggest charts\"\n",
              "            style=\"display:none;\">\n",
              "\n",
              "<svg xmlns=\"http://www.w3.org/2000/svg\" height=\"24px\"viewBox=\"0 0 24 24\"\n",
              "     width=\"24px\">\n",
              "    <g>\n",
              "        <path d=\"M19 3H5c-1.1 0-2 .9-2 2v14c0 1.1.9 2 2 2h14c1.1 0 2-.9 2-2V5c0-1.1-.9-2-2-2zM9 17H7v-7h2v7zm4 0h-2V7h2v10zm4 0h-2v-4h2v4z\"/>\n",
              "    </g>\n",
              "</svg>\n",
              "  </button>\n",
              "\n",
              "<style>\n",
              "  .colab-df-quickchart {\n",
              "      --bg-color: #E8F0FE;\n",
              "      --fill-color: #1967D2;\n",
              "      --hover-bg-color: #E2EBFA;\n",
              "      --hover-fill-color: #174EA6;\n",
              "      --disabled-fill-color: #AAA;\n",
              "      --disabled-bg-color: #DDD;\n",
              "  }\n",
              "\n",
              "  [theme=dark] .colab-df-quickchart {\n",
              "      --bg-color: #3B4455;\n",
              "      --fill-color: #D2E3FC;\n",
              "      --hover-bg-color: #434B5C;\n",
              "      --hover-fill-color: #FFFFFF;\n",
              "      --disabled-bg-color: #3B4455;\n",
              "      --disabled-fill-color: #666;\n",
              "  }\n",
              "\n",
              "  .colab-df-quickchart {\n",
              "    background-color: var(--bg-color);\n",
              "    border: none;\n",
              "    border-radius: 50%;\n",
              "    cursor: pointer;\n",
              "    display: none;\n",
              "    fill: var(--fill-color);\n",
              "    height: 32px;\n",
              "    padding: 0;\n",
              "    width: 32px;\n",
              "  }\n",
              "\n",
              "  .colab-df-quickchart:hover {\n",
              "    background-color: var(--hover-bg-color);\n",
              "    box-shadow: 0 1px 2px rgba(60, 64, 67, 0.3), 0 1px 3px 1px rgba(60, 64, 67, 0.15);\n",
              "    fill: var(--button-hover-fill-color);\n",
              "  }\n",
              "\n",
              "  .colab-df-quickchart-complete:disabled,\n",
              "  .colab-df-quickchart-complete:disabled:hover {\n",
              "    background-color: var(--disabled-bg-color);\n",
              "    fill: var(--disabled-fill-color);\n",
              "    box-shadow: none;\n",
              "  }\n",
              "\n",
              "  .colab-df-spinner {\n",
              "    border: 2px solid var(--fill-color);\n",
              "    border-color: transparent;\n",
              "    border-bottom-color: var(--fill-color);\n",
              "    animation:\n",
              "      spin 1s steps(1) infinite;\n",
              "  }\n",
              "\n",
              "  @keyframes spin {\n",
              "    0% {\n",
              "      border-color: transparent;\n",
              "      border-bottom-color: var(--fill-color);\n",
              "      border-left-color: var(--fill-color);\n",
              "    }\n",
              "    20% {\n",
              "      border-color: transparent;\n",
              "      border-left-color: var(--fill-color);\n",
              "      border-top-color: var(--fill-color);\n",
              "    }\n",
              "    30% {\n",
              "      border-color: transparent;\n",
              "      border-left-color: var(--fill-color);\n",
              "      border-top-color: var(--fill-color);\n",
              "      border-right-color: var(--fill-color);\n",
              "    }\n",
              "    40% {\n",
              "      border-color: transparent;\n",
              "      border-right-color: var(--fill-color);\n",
              "      border-top-color: var(--fill-color);\n",
              "    }\n",
              "    60% {\n",
              "      border-color: transparent;\n",
              "      border-right-color: var(--fill-color);\n",
              "    }\n",
              "    80% {\n",
              "      border-color: transparent;\n",
              "      border-right-color: var(--fill-color);\n",
              "      border-bottom-color: var(--fill-color);\n",
              "    }\n",
              "    90% {\n",
              "      border-color: transparent;\n",
              "      border-bottom-color: var(--fill-color);\n",
              "    }\n",
              "  }\n",
              "</style>\n",
              "\n",
              "  <script>\n",
              "    async function quickchart(key) {\n",
              "      const quickchartButtonEl =\n",
              "        document.querySelector('#' + key + ' button');\n",
              "      quickchartButtonEl.disabled = true;  // To prevent multiple clicks.\n",
              "      quickchartButtonEl.classList.add('colab-df-spinner');\n",
              "      try {\n",
              "        const charts = await google.colab.kernel.invokeFunction(\n",
              "            'suggestCharts', [key], {});\n",
              "      } catch (error) {\n",
              "        console.error('Error during call to suggestCharts:', error);\n",
              "      }\n",
              "      quickchartButtonEl.classList.remove('colab-df-spinner');\n",
              "      quickchartButtonEl.classList.add('colab-df-quickchart-complete');\n",
              "    }\n",
              "    (() => {\n",
              "      let quickchartButtonEl =\n",
              "        document.querySelector('#df-e02afbb0-6f54-4d2d-9d77-d60cb67ffe56 button');\n",
              "      quickchartButtonEl.style.display =\n",
              "        google.colab.kernel.accessAllowed ? 'block' : 'none';\n",
              "    })();\n",
              "  </script>\n",
              "</div>\n",
              "\n",
              "    </div>\n",
              "  </div>\n"
            ],
            "application/vnd.google.colaboratory.intrinsic+json": {
              "type": "dataframe",
              "summary": "{\n  \"name\": \"df_tips\",\n  \"rows\": 8,\n  \"fields\": [\n    {\n      \"column\": \"total_bill\",\n      \"properties\": {\n        \"dtype\": \"number\",\n        \"std\": 80.57800601480773,\n        \"min\": 3.07,\n        \"max\": 244.0,\n        \"num_unique_values\": 8,\n        \"samples\": [\n          19.78594262295082,\n          17.795,\n          244.0\n        ],\n        \"semantic_type\": \"\",\n        \"description\": \"\"\n      }\n    },\n    {\n      \"column\": \"tip\",\n      \"properties\": {\n        \"dtype\": \"number\",\n        \"std\": 85.10953159599222,\n        \"min\": 1.0,\n        \"max\": 244.0,\n        \"num_unique_values\": 8,\n        \"samples\": [\n          2.99827868852459,\n          2.9,\n          244.0\n        ],\n        \"semantic_type\": \"\",\n        \"description\": \"\"\n      }\n    },\n    {\n      \"column\": \"size\",\n      \"properties\": {\n        \"dtype\": \"number\",\n        \"std\": 85.39686221774683,\n        \"min\": 0.9510998047322344,\n        \"max\": 244.0,\n        \"num_unique_values\": 7,\n        \"samples\": [\n          244.0,\n          2.569672131147541,\n          3.0\n        ],\n        \"semantic_type\": \"\",\n        \"description\": \"\"\n      }\n    },\n    {\n      \"column\": \"total_bill_z\",\n      \"properties\": {\n        \"dtype\": \"number\",\n        \"std\": 86.17248005939251,\n        \"min\": -1.8776869355985224,\n        \"max\": 244.0,\n        \"num_unique_values\": 8,\n        \"samples\": [\n          -6.028875031263658e-17,\n          -0.2236408102710445,\n          244.0\n        ],\n        \"semantic_type\": \"\",\n        \"description\": \"\"\n      }\n    },\n    {\n      \"column\": \"total_bill_prob\",\n      \"properties\": {\n        \"dtype\": \"number\",\n        \"std\": 86.26567970740291,\n        \"min\": 0.0010766121799919788,\n        \"max\": 244.0,\n        \"num_unique_values\": 8,\n        \"samples\": [\n          0.0038889033194552053,\n          0.003584108682324541,\n          244.0\n        ],\n        \"semantic_type\": \"\",\n        \"description\": \"\"\n      }\n    },\n    {\n      \"column\": \"tip_z\",\n      \"properties\": {\n        \"dtype\": \"number\",\n        \"std\": 86.07557367845888,\n        \"min\": -1.4442205371384718,\n        \"max\": 244.0,\n        \"num_unique_values\": 8,\n        \"samples\": [\n          2.8392588826479415e-16,\n          -0.07102918183801726,\n          244.0\n        ],\n        \"semantic_type\": \"\",\n        \"description\": \"\"\n      }\n    },\n    {\n      \"column\": \"tip_prob\",\n      \"properties\": {\n        \"dtype\": \"number\",\n        \"std\": 86.24323804547862,\n        \"min\": 0.0016647620867258882,\n        \"max\": 244.0,\n        \"num_unique_values\": 8,\n        \"samples\": [\n          0.04574323805566088,\n          0.024628729859699265,\n          244.0\n        ],\n        \"semantic_type\": \"\",\n        \"description\": \"\"\n      }\n    }\n  ]\n}"
            }
          },
          "metadata": {},
          "execution_count": 60
        }
      ]
    },
    {
      "cell_type": "markdown",
      "id": "0c886806",
      "metadata": {
        "id": "0c886806"
      },
      "source": [
        "## Teorema Central do Limite"
      ]
    },
    {
      "cell_type": "markdown",
      "id": "7ad0bfd6",
      "metadata": {
        "id": "7ad0bfd6"
      },
      "source": [
        "Esse é um dos teoremas mais poderosos e fundamentais da estatística, porque ele é usado **como base para muitos outros resultados**.\n",
        "\n",
        "A ideia é que muitos dos resultados de inferência estatística são válidos assumindo como hipótese que os dados sob análise (**mais precisamente, os estimadores pontuais**) seguem uma distribuição normal.\n",
        "\n",
        "No entanto, há muitos casos de interesse em que a **distribuição populacional não é normal** -- e, na verdade, não temos como saber com segurança qual é a distribuição populacional, dado que temos apenas acesso às amostras!\n",
        "\n",
        "Assim, a priori, muitos dos resultados e métodos da inferência estatística seriam invalidados, dado que não podemos assegurar qual é a distribuição populacional dos dados que estamos analisando.\n",
        "\n",
        "E é neste contexto que o TLC mostra seu poder e importância, pois ele mostra que **estimadores pontuais de parâmetros populacionais serão normalmente distribuídos, INDEPENDENTE DA DISTRIBUIÇÃO POPULACIONAL!**\n",
        "\n",
        "Vamos enunciá-lo, como:\n"
      ]
    },
    {
      "cell_type": "markdown",
      "id": "eb8fa0be",
      "metadata": {
        "id": "eb8fa0be"
      },
      "source": [
        "Seja uma amostra aleatória $(X_1,X_2,\\ldots,X_n)$ retiradas de uma população com média $\\mu$ e desvio padrão $\\sigma$. A distribuição amostral de $\\bar{X}$ aproxima-se, para n grande ($n > 30$), de uma distribuição normal com média $E[\\bar{X}]=\\mu$ e variância $\\sigma^2/n$.<br>."
      ]
    },
    {
      "cell_type": "markdown",
      "source": [
        "![](https://upload.wikimedia.org/wikipedia/commons/thumb/7/7a/Teorema_central_do_limite.svg/1920px-Teorema_central_do_limite.svg.png)"
      ],
      "metadata": {
        "id": "i33IE1sDTY6X"
      },
      "id": "i33IE1sDTY6X"
    },
    {
      "cell_type": "code",
      "execution_count": null,
      "id": "6edc7081",
      "metadata": {
        "ExecuteTime": {
          "end_time": "2023-05-13T00:03:02.898632Z",
          "start_time": "2023-05-13T00:03:02.507193Z"
        },
        "id": "6edc7081"
      },
      "outputs": [],
      "source": []
    },
    {
      "cell_type": "markdown",
      "id": "d9282deb",
      "metadata": {
        "id": "d9282deb"
      },
      "source": [
        "**Exemplo:** Seja a variável aleatória com distribuição de probabilidade: P(X=3)=0,4; P(X=6)=0,3; P(X=8)=0,3. Uma amostra com 40 observações é sorteada. Qual é a probabilidade de que a média amostral ser maior do que 5?"
      ]
    },
    {
      "cell_type": "code",
      "execution_count": null,
      "id": "1f09f221",
      "metadata": {
        "ExecuteTime": {
          "end_time": "2023-05-15T23:29:30.075203Z",
          "start_time": "2023-05-15T23:29:30.067266Z"
        },
        "id": "1f09f221"
      },
      "outputs": [],
      "source": []
    },
    {
      "cell_type": "markdown",
      "id": "e21f417c",
      "metadata": {
        "id": "e21f417c"
      },
      "source": [
        "## Exercícios"
      ]
    },
    {
      "cell_type": "markdown",
      "id": "8a9f5a35",
      "metadata": {
        "id": "8a9f5a35"
      },
      "source": [
        "**1)** Uma máquina de bebidas está regulada de modo a servir uma média de 150ml por copo. Se a quantidade servida por copo seguir uma distribuição normal com desvio padrão de 20 ml, determine a percentagem de copos que conterão mais de 175ml de bebida."
      ]
    },
    {
      "cell_type": "code",
      "source": [],
      "metadata": {
        "id": "xbmQwXU-WNqb"
      },
      "id": "xbmQwXU-WNqb",
      "execution_count": null,
      "outputs": []
    },
    {
      "cell_type": "markdown",
      "id": "79f701bd",
      "metadata": {
        "id": "79f701bd"
      },
      "source": [
        "__2)__ O tempo para desenvolver um servidor web em uma empresa é descrito por uma variável aleatória X, medida em dias, com distribuição normal de média $\\mu$ = 45 e variância $\\sigma^2$ = 400. Calcule a probabilidade de que um novo servidor web será finalizado entre 30 e 40 dias."
      ]
    },
    {
      "cell_type": "code",
      "source": [],
      "metadata": {
        "id": "dOD2zA_5WOBb"
      },
      "id": "dOD2zA_5WOBb",
      "execution_count": null,
      "outputs": []
    },
    {
      "cell_type": "markdown",
      "id": "8654430b",
      "metadata": {
        "id": "8654430b"
      },
      "source": [
        "__3)__ Uma população é descrita pela seguinte distribuição de probabilidades:\n",
        "    \n",
        "- 𝑃(𝑋 = 2) = 0,2;\n",
        "- 𝑃(𝑋 = 4) = 0,4;\n",
        "- 𝑃(𝑋 = 6) = 0,4\n",
        "\n",
        "Uma amostra com 50 observações é sorteada. Calcule a probabilidade de que a média dessa amostra seja maior do que 4.5"
      ]
    },
    {
      "cell_type": "code",
      "source": [],
      "metadata": {
        "id": "oLgzvE_4WOb7"
      },
      "id": "oLgzvE_4WOb7",
      "execution_count": null,
      "outputs": []
    },
    {
      "cell_type": "markdown",
      "id": "acfcc8f1",
      "metadata": {
        "id": "acfcc8f1"
      },
      "source": [
        "__4)__ Em uma empresa de vendas planos de internet, a duração de conversas telefônicas (em minutos), segue o modelo de uma distribuição exponencial com parâmetro $\\lambda = \\frac{1}{5}$. Observando-se uma amostra aleatória de 50 dessas chamadas, qual será a probabilidade de que tais amostras em média não ultrapassem 6 minutos?"
      ]
    },
    {
      "cell_type": "code",
      "source": [],
      "metadata": {
        "id": "Nu68ZSlyWOwu"
      },
      "id": "Nu68ZSlyWOwu",
      "execution_count": null,
      "outputs": []
    }
  ],
  "metadata": {
    "kernelspec": {
      "display_name": "Python 3 (ipykernel)",
      "language": "python",
      "name": "python3"
    },
    "language_info": {
      "codemirror_mode": {
        "name": "ipython",
        "version": 3
      },
      "file_extension": ".py",
      "mimetype": "text/x-python",
      "name": "python",
      "nbconvert_exporter": "python",
      "pygments_lexer": "ipython3",
      "version": "3.10.12"
    },
    "varInspector": {
      "cols": {
        "lenName": 16,
        "lenType": 16,
        "lenVar": 40
      },
      "kernels_config": {
        "python": {
          "delete_cmd_postfix": "",
          "delete_cmd_prefix": "del ",
          "library": "var_list.py",
          "varRefreshCmd": "print(var_dic_list())"
        },
        "r": {
          "delete_cmd_postfix": ") ",
          "delete_cmd_prefix": "rm(",
          "library": "var_list.r",
          "varRefreshCmd": "cat(var_dic_list()) "
        }
      },
      "types_to_exclude": [
        "module",
        "function",
        "builtin_function_or_method",
        "instance",
        "_Feature"
      ],
      "window_display": false
    },
    "colab": {
      "provenance": []
    }
  },
  "nbformat": 4,
  "nbformat_minor": 5
}