{
  "cells": [
    {
      "cell_type": "markdown",
      "id": "948dcd6e",
      "metadata": {
        "id": "948dcd6e"
      },
      "source": [
        "# 02 - Probabilidade\n",
        "\n",
        "Nessa aula, iremos tratar dos seguintes conteúdos:\n",
        "- Probabilidade\n",
        "- Variável Aleatória\n",
        "- Espaço Amostral\n",
        "- Probabilidade - Definição\n",
        "- Probabilidade da Uniâo de Eventos\n",
        "- Eventos Independentes\n",
        "- Teorema de Bayes"
      ]
    },
    {
      "cell_type": "code",
      "execution_count": 1,
      "id": "EcuxCILRCEFc",
      "metadata": {
        "id": "EcuxCILRCEFc"
      },
      "outputs": [],
      "source": [
        "import seaborn as sns"
      ]
    },
    {
      "cell_type": "code",
      "execution_count": 4,
      "id": "KZCG_4Z9CGfu",
      "metadata": {
        "id": "KZCG_4Z9CGfu"
      },
      "outputs": [
        {
          "data": {
            "text/html": [
              "<div>\n",
              "<style scoped>\n",
              "    .dataframe tbody tr th:only-of-type {\n",
              "        vertical-align: middle;\n",
              "    }\n",
              "\n",
              "    .dataframe tbody tr th {\n",
              "        vertical-align: top;\n",
              "    }\n",
              "\n",
              "    .dataframe thead th {\n",
              "        text-align: right;\n",
              "    }\n",
              "</style>\n",
              "<table border=\"1\" class=\"dataframe\">\n",
              "  <thead>\n",
              "    <tr style=\"text-align: right;\">\n",
              "      <th></th>\n",
              "      <th>total_bill</th>\n",
              "      <th>tip</th>\n",
              "      <th>sex</th>\n",
              "      <th>smoker</th>\n",
              "      <th>day</th>\n",
              "      <th>time</th>\n",
              "      <th>size</th>\n",
              "    </tr>\n",
              "  </thead>\n",
              "  <tbody>\n",
              "    <tr>\n",
              "      <th>0</th>\n",
              "      <td>16.99</td>\n",
              "      <td>1.01</td>\n",
              "      <td>Female</td>\n",
              "      <td>No</td>\n",
              "      <td>Sun</td>\n",
              "      <td>Dinner</td>\n",
              "      <td>2</td>\n",
              "    </tr>\n",
              "    <tr>\n",
              "      <th>1</th>\n",
              "      <td>10.34</td>\n",
              "      <td>1.66</td>\n",
              "      <td>Male</td>\n",
              "      <td>No</td>\n",
              "      <td>Sun</td>\n",
              "      <td>Dinner</td>\n",
              "      <td>3</td>\n",
              "    </tr>\n",
              "    <tr>\n",
              "      <th>2</th>\n",
              "      <td>21.01</td>\n",
              "      <td>3.50</td>\n",
              "      <td>Male</td>\n",
              "      <td>No</td>\n",
              "      <td>Sun</td>\n",
              "      <td>Dinner</td>\n",
              "      <td>3</td>\n",
              "    </tr>\n",
              "    <tr>\n",
              "      <th>3</th>\n",
              "      <td>23.68</td>\n",
              "      <td>3.31</td>\n",
              "      <td>Male</td>\n",
              "      <td>No</td>\n",
              "      <td>Sun</td>\n",
              "      <td>Dinner</td>\n",
              "      <td>2</td>\n",
              "    </tr>\n",
              "    <tr>\n",
              "      <th>4</th>\n",
              "      <td>24.59</td>\n",
              "      <td>3.61</td>\n",
              "      <td>Female</td>\n",
              "      <td>No</td>\n",
              "      <td>Sun</td>\n",
              "      <td>Dinner</td>\n",
              "      <td>4</td>\n",
              "    </tr>\n",
              "    <tr>\n",
              "      <th>...</th>\n",
              "      <td>...</td>\n",
              "      <td>...</td>\n",
              "      <td>...</td>\n",
              "      <td>...</td>\n",
              "      <td>...</td>\n",
              "      <td>...</td>\n",
              "      <td>...</td>\n",
              "    </tr>\n",
              "    <tr>\n",
              "      <th>239</th>\n",
              "      <td>29.03</td>\n",
              "      <td>5.92</td>\n",
              "      <td>Male</td>\n",
              "      <td>No</td>\n",
              "      <td>Sat</td>\n",
              "      <td>Dinner</td>\n",
              "      <td>3</td>\n",
              "    </tr>\n",
              "    <tr>\n",
              "      <th>240</th>\n",
              "      <td>27.18</td>\n",
              "      <td>2.00</td>\n",
              "      <td>Female</td>\n",
              "      <td>Yes</td>\n",
              "      <td>Sat</td>\n",
              "      <td>Dinner</td>\n",
              "      <td>2</td>\n",
              "    </tr>\n",
              "    <tr>\n",
              "      <th>241</th>\n",
              "      <td>22.67</td>\n",
              "      <td>2.00</td>\n",
              "      <td>Male</td>\n",
              "      <td>Yes</td>\n",
              "      <td>Sat</td>\n",
              "      <td>Dinner</td>\n",
              "      <td>2</td>\n",
              "    </tr>\n",
              "    <tr>\n",
              "      <th>242</th>\n",
              "      <td>17.82</td>\n",
              "      <td>1.75</td>\n",
              "      <td>Male</td>\n",
              "      <td>No</td>\n",
              "      <td>Sat</td>\n",
              "      <td>Dinner</td>\n",
              "      <td>2</td>\n",
              "    </tr>\n",
              "    <tr>\n",
              "      <th>243</th>\n",
              "      <td>18.78</td>\n",
              "      <td>3.00</td>\n",
              "      <td>Female</td>\n",
              "      <td>No</td>\n",
              "      <td>Thur</td>\n",
              "      <td>Dinner</td>\n",
              "      <td>2</td>\n",
              "    </tr>\n",
              "  </tbody>\n",
              "</table>\n",
              "<p>244 rows × 7 columns</p>\n",
              "</div>"
            ],
            "text/plain": [
              "     total_bill   tip     sex smoker   day    time  size\n",
              "0         16.99  1.01  Female     No   Sun  Dinner     2\n",
              "1         10.34  1.66    Male     No   Sun  Dinner     3\n",
              "2         21.01  3.50    Male     No   Sun  Dinner     3\n",
              "3         23.68  3.31    Male     No   Sun  Dinner     2\n",
              "4         24.59  3.61  Female     No   Sun  Dinner     4\n",
              "..          ...   ...     ...    ...   ...     ...   ...\n",
              "239       29.03  5.92    Male     No   Sat  Dinner     3\n",
              "240       27.18  2.00  Female    Yes   Sat  Dinner     2\n",
              "241       22.67  2.00    Male    Yes   Sat  Dinner     2\n",
              "242       17.82  1.75    Male     No   Sat  Dinner     2\n",
              "243       18.78  3.00  Female     No  Thur  Dinner     2\n",
              "\n",
              "[244 rows x 7 columns]"
            ]
          },
          "execution_count": 4,
          "metadata": {},
          "output_type": "execute_result"
        }
      ],
      "source": [
        "df_tips = sns.load_dataset('tips')\n",
        "df_tips"
      ]
    },
    {
      "cell_type": "code",
      "execution_count": 3,
      "id": "-R0YkGTTCZ1q",
      "metadata": {
        "colab": {
          "base_uri": "https://localhost:8080/"
        },
        "id": "-R0YkGTTCZ1q",
        "outputId": "2b195ade-a7a8-48a2-d312-de55ac22a116"
      },
      "outputs": [
        {
          "name": "stdout",
          "output_type": "stream",
          "text": [
            "244\n",
            "time\n",
            "Dinner    176\n",
            "Lunch      68\n",
            "Name: count, dtype: int64\n"
          ]
        }
      ],
      "source": [
        "print(df_tips['time'].count())\n",
        "print(df_tips['time'].value_counts())"
      ]
    },
    {
      "cell_type": "code",
      "execution_count": 4,
      "id": "Lz1SRUuICKW9",
      "metadata": {
        "colab": {
          "base_uri": "https://localhost:8080/"
        },
        "id": "Lz1SRUuICKW9",
        "outputId": "b4a70e02-e08f-4d45-88e7-99a340cd212d"
      },
      "outputs": [
        {
          "data": {
            "text/plain": [
              "Dinner    0.721311\n",
              "Lunch     0.278689\n",
              "Name: time, dtype: float64"
            ]
          },
          "execution_count": 4,
          "metadata": {},
          "output_type": "execute_result"
        }
      ],
      "source": [
        "df_tips['time'].value_counts(normalize=True)"
      ]
    },
    {
      "cell_type": "code",
      "execution_count": null,
      "id": "iJUDWufeCpDW",
      "metadata": {
        "colab": {
          "base_uri": "https://localhost:8080/"
        },
        "id": "iJUDWufeCpDW",
        "outputId": "3918e3f1-c306-437f-dbaa-d690d68b49a9"
      },
      "outputs": [
        {
          "data": {
            "text/plain": [
              "0.7213114754098361"
            ]
          },
          "execution_count": 10,
          "metadata": {},
          "output_type": "execute_result"
        }
      ],
      "source": [
        "176/244"
      ]
    },
    {
      "cell_type": "code",
      "execution_count": null,
      "id": "6r_D0U1PCQ5x",
      "metadata": {
        "id": "6r_D0U1PCQ5x"
      },
      "outputs": [],
      "source": [
        "# Variavel Aleatória A: Jantar\n",
        "# P(A) = 0.72\n",
        "# P(A) = 176/244\n",
        "# P(A) = qtd_jantar/qtd_dados\n",
        "# P(A) = S(A)/w"
      ]
    },
    {
      "cell_type": "markdown",
      "id": "c037c5b5",
      "metadata": {
        "id": "c037c5b5"
      },
      "source": [
        "<img src = \"https://www.estudopratico.com.br/wp-content/uploads/2014/06/probabilidade-calcular-e1586431045913-1200x675.jpg\" width=800>"
      ]
    },
    {
      "cell_type": "markdown",
      "id": "5ad7fe78",
      "metadata": {
        "id": "5ad7fe78"
      },
      "source": [
        "## Probabilidade\n",
        "\n",
        "Probabilidade é a área da matemática que estuda **eventos aleatórios**, cujos resultados são **probabilísticos** ou **estocásticos**.\n",
        "\n",
        "Existem poucos sistemas na natureza que são de fato inerentemente aleatórias e não-determinísticas. No entanto, uma descrição determinística pode ser muito complicada, de modo que **se torna conveniente** tratar o sistema como um sistema estocástico.\n",
        "\n",
        "Ex.: lançamento de moeda, lançamento de dados, etc.\n",
        "\n",
        "O objetivo da estatística é similar: analisar dados ou criar modelos que **generalizem relações** que não podem ser determinadas diretamente uma vez que não temos acesso à população. Neste sentido, há muita probabilidade envolvida em estatística, e é por isso que vamos olhar para os principais conceitos de probabilidade."
      ]
    },
    {
      "cell_type": "markdown",
      "id": "b2265f1a",
      "metadata": {
        "id": "b2265f1a"
      },
      "source": [
        "## Variável aleatória\n",
        "\n",
        "Uma **variável aleatória** é uma variável cujo valor depende de fatores **não-deterministícos**, isto é, **probabilísticos**.\n",
        "\n",
        "**Exemplo**: resultado do lançamento de um dado.\n",
        "\n",
        "<img src=\"data:image/png;base64,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\" width=300>"
      ]
    },
    {
      "cell_type": "code",
      "execution_count": null,
      "id": "QKsVj-VmDbHZ",
      "metadata": {
        "id": "QKsVj-VmDbHZ"
      },
      "outputs": [],
      "source": [
        "# Faces do Dado = 6\n",
        "# Variavel aleatoria A: Sair 1 no dado\n",
        "# P(A) = 1/6"
      ]
    },
    {
      "cell_type": "code",
      "execution_count": null,
      "id": "eMpsEq1sFcOV",
      "metadata": {
        "id": "eMpsEq1sFcOV"
      },
      "outputs": [],
      "source": [
        "# w = {1, 2, 3, 4, 5, 6, 1} # Espaço amostral (lançamentos de um dado)\n",
        "# Variavel aleatoria A: Sair 1 no dado\n",
        "# P(A) = 2/7"
      ]
    },
    {
      "cell_type": "markdown",
      "id": "3cd8cdac",
      "metadata": {
        "id": "3cd8cdac"
      },
      "source": [
        "## Espaço amostral\n",
        "\n",
        "Chamamos de **espaço amostral** o conjunto de **todos os resultados possíveis de um certo fenômeno aleatório**, ou seja, **os valores possíveis que a variável aleatória de interesse pode assumir**. Representamos o espaço amostral pela letra grega $\\omega$.\n",
        "\n",
        "Os subconjuntos de $\\omega$ são denominados **eventos** e representados pelas letras latinas maiúsculas A, B, etc.\n",
        "\n",
        "**Exemplo**: o espaço amostral dos resultados do lançamento de um dado é:\n",
        "\n",
        "$$ \\omega = \\{1, 2, 3, 4, 5, 6\\} $$\n",
        "\n",
        "Alguns eventos possíveis são:\n",
        "\n",
        "- Evento A = {3} : o resultado do lançamento do dado foi 3;\n",
        "- Evento B = {5} : o resultado do lançamento do dado foi 5.\n",
        "\n",
        "**Exemplo 2**: considere o lançamento de uma moeda:\n",
        "\n",
        "<img src=\"https://www.vertica.com/wp-content/uploads/2019/07/Coin_Flip_183981489-2160.jpg\" width=300>\n",
        "\n",
        "- Se lançarmos uma única moeda:\n",
        "    - A variável aleatória será **o resultado do lançamento da moeda**\n",
        "    - Portanto, o espaço amostral é: $$ \\omega = \\{ K, C \\} $$\n",
        "    \n",
        "- Se lançarmos duas moedas:\n",
        "    - A variável aleatória será **o resultado do lançamento de cada moeda**\n",
        "    - Portanto, o espaço amostral é: $$ \\omega = \\{ (K, K), (K, C), (C, K), (C, C) \\} $$"
      ]
    },
    {
      "cell_type": "markdown",
      "id": "cc58543e",
      "metadata": {
        "id": "cc58543e"
      },
      "source": [
        "## Definição de probabilidade\n",
        "\n",
        "Definimos uma função $P(.)$ denominada **probabilidade** que deve satisfazer as seguintes propriedades:\n",
        "    \n",
        "- $0\\leq P(A) \\leq 1$\n",
        "\n",
        "- $ P(\\omega)=1$\n",
        "\n",
        "- $ P(\\cup A_{j})= \\sum_{j=1}^{n}P(A_{j})$"
      ]
    },
    {
      "cell_type": "markdown",
      "id": "6c7d3e60",
      "metadata": {
        "id": "6c7d3e60"
      },
      "source": [
        "## Atribuindo probabilidades aos elementos do espaço amostral\n",
        "\n",
        "Há, essencialmente, duas formas de se **atribuir a probabilidade de cada evento**:\n",
        "\n",
        "1. Baseando-se em características teóricas acerca do experimento.\n",
        "\n",
        "**Exemplo**: ao lançarmos um dado, temos o espaço amostral $\\omega=\\{1,2,3,4,5,6\\}$.\n",
        "\n",
        "Admitindo que o dado foi construído de forma homogênea e com medidas rigorosamente simétricas, não temos nenhuma razão para **privilegiar uma face em detrimento das demais**.\n",
        "\n",
        "Assim, consideramos: $p(1) = p(2) = p(3) = p(4) = p(5) = p(6) = \\frac{1}{6}$\n",
        "\n",
        "**Exemplo**: Desejamos fazer uma pesquisa de mercado para tirar conclusões sobre uma mudança no nosso produto.\n",
        "\n",
        "Para isso, precisamos inferer se as respostas que temos podem tirar conclusões mais claras.\n",
        "\n",
        "Assim, temos que a distribuição de probabilidade de acontecer cada uma das respostas é conhecida. Espaço amostral para a questão 1: $\\omega=\\{1, 2, 3, 4, 5, 6\\}$\n",
        "\n",
        "E considerando: $p(1) = 1/12, p(2) = 1/8, p(3) = 1/4, p(4) = 1/6, p(5) = 1/4, p(5) = 1/8$.\n",
        "\n",
        "2. Fazendo muitos experimentos.\n",
        "\n",
        "**Exemplo**: Imagine que temos uma moeda não-honesta, que tende cair mais vezes cara do que coroa. Para descobrirmos qual é a probabilidade de cada um dos eventos ($\\omega = \\{K, C\\}$), podemos lançar a moeda muitas vezes, e anotar os resultados:"
      ]
    },
    {
      "cell_type": "code",
      "execution_count": 5,
      "id": "be90d65a",
      "metadata": {
        "ExecuteTime": {
          "end_time": "2023-05-05T23:21:08.385558Z",
          "start_time": "2023-05-05T23:21:08.379909Z"
        },
        "id": "be90d65a"
      },
      "outputs": [],
      "source": [
        "import numpy as np\n",
        "import pandas as pd\n",
        "import seaborn as sns"
      ]
    },
    {
      "cell_type": "code",
      "execution_count": 6,
      "id": "VUZewjDGGSp7",
      "metadata": {
        "colab": {
          "base_uri": "https://localhost:8080/"
        },
        "id": "VUZewjDGGSp7",
        "outputId": "8fbc0c4c-cca2-4c25-ddc3-51ffac030b33"
      },
      "outputs": [
        {
          "data": {
            "text/plain": [
              "Moeda\n",
              "K        0.528\n",
              "C        0.472\n",
              "Name: proportion, dtype: float64"
            ]
          },
          "execution_count": 6,
          "metadata": {},
          "output_type": "execute_result"
        }
      ],
      "source": [
        "N = 1000\n",
        "\n",
        "todas_amostras = np.random.uniform(size=N)\n",
        "resultados = np.where(todas_amostras <= 0.5, 'K', 'C')\n",
        "# resultados = []\n",
        "# for amostra in todas_amostras:\n",
        "#   if amostra <= 0.5:\n",
        "#     resultados.append('K')\n",
        "#   else:\n",
        "#     resultados.append('C')\n",
        "\n",
        "pd.DataFrame({'Moeda': resultados}).value_counts(normalize=True)"
      ]
    },
    {
      "cell_type": "code",
      "execution_count": 7,
      "id": "Fja-QD51Hzns",
      "metadata": {
        "colab": {
          "base_uri": "https://localhost:8080/"
        },
        "id": "Fja-QD51Hzns",
        "outputId": "1ae184e2-c5e8-4b93-f486-0f70745c6e34"
      },
      "outputs": [
        {
          "data": {
            "text/plain": [
              "Moeda\n",
              "C        0.693\n",
              "K        0.307\n",
              "Name: proportion, dtype: float64"
            ]
          },
          "execution_count": 7,
          "metadata": {},
          "output_type": "execute_result"
        }
      ],
      "source": [
        "N = 1000\n",
        "\n",
        "todas_amostras = np.random.uniform(size=N)\n",
        "resultados = np.where(todas_amostras <= 0.3, 'K', 'C')\n",
        "# resultados = []\n",
        "# for amostra in todas_amostras:\n",
        "#   if amostra <= 0.5:\n",
        "#     resultados.append('K')\n",
        "#   else:\n",
        "#     resultados.append('C')\n",
        "\n",
        "pd.DataFrame({'Moeda': resultados}).value_counts(normalize=True)"
      ]
    },
    {
      "cell_type": "code",
      "execution_count": 8,
      "id": "ZNnRT57WH7U7",
      "metadata": {
        "colab": {
          "base_uri": "https://localhost:8080/",
          "height": 447
        },
        "id": "ZNnRT57WH7U7",
        "outputId": "3ca5913b-3410-4d11-8098-83d677aef18a"
      },
      "outputs": [
        {
          "data": {
            "text/plain": [
              "<Axes: ylabel='Count'>"
            ]
          },
          "execution_count": 8,
          "metadata": {},
          "output_type": "execute_result"
        },
        {
          "data": {
            "image/png": "[encoded data removed]",
            "text/plain": [
              "<Figure size 640x480 with 1 Axes>"
            ]
          },
          "metadata": {},
          "output_type": "display_data"
        }
      ],
      "source": [
        "sns.histplot(np.random.normal(1, 0.1, size=1000))"
      ]
    },
    {
      "cell_type": "code",
      "execution_count": 9,
      "id": "UuIanP09IY5i",
      "metadata": {
        "colab": {
          "base_uri": "https://localhost:8080/",
          "height": 428
        },
        "id": "UuIanP09IY5i",
        "outputId": "3e48a206-c64b-4913-c303-2552dbb3c909"
      },
      "outputs": [
        {
          "data": {
            "text/plain": [
              "<Axes: >"
            ]
          },
          "execution_count": 9,
          "metadata": {},
          "output_type": "execute_result"
        },
        {
          "data": {
            "image/png": "[encoded data removed]",
            "text/plain": [
              "<Figure size 640x480 with 1 Axes>"
            ]
          },
          "metadata": {},
          "output_type": "display_data"
        }
      ],
      "source": [
        "sns.boxplot(np.random.normal(1, 0.1, size=1000))"
      ]
    },
    {
      "cell_type": "markdown",
      "id": "xG28shWnIgpC",
      "metadata": {
        "id": "xG28shWnIgpC"
      },
      "source": [
        "**Cuidado com a probabilidade teórica e experimental**"
      ]
    },
    {
      "cell_type": "code",
      "execution_count": null,
      "id": "vzNbGezTIoPW",
      "metadata": {
        "id": "vzNbGezTIoPW"
      },
      "outputs": [],
      "source": [
        "# w = (K, C)\n",
        "# A: sair K na moeda\n",
        "# P(A) = S(A)/S(w)\n",
        "# P(A) = 1/2 = 0.5"
      ]
    },
    {
      "cell_type": "markdown",
      "id": "7720d627",
      "metadata": {
        "id": "7720d627"
      },
      "source": [
        "## Probabilidade da União de Eventos (Dependentes)"
      ]
    },
    {
      "cell_type": "markdown",
      "id": "e9a8f07c",
      "metadata": {
        "id": "e9a8f07c"
      },
      "source": [
        "Dados dois elementos $A$ e $B$, o cálculo da união desses eventos é determinada da seguinte forma:\n",
        "    \n",
        "$$ P(A ∪ B) = P(A) + P(B) - P(A ∩ B) $$\n",
        "\n",
        "\"A probabilidade da união de dois eventos é a probabilidade de um primeiro ou de um segundo evento ocorrer.\"\n",
        "\n",
        "\"A probabilidade da união de dois eventos é a chance do primeiro ou do segundo evento ocorrer.\"\n"
      ]
    },
    {
      "cell_type": "markdown",
      "id": "taPo1g5zJzw7",
      "metadata": {
        "id": "taPo1g5zJzw7"
      },
      "source": [
        "![https://static.mundoeducacao.uol.com.br/mundoeducacao/2020/05/1-dois-conjuntos.jpg](https://static.mundoeducacao.uol.com.br/mundoeducacao/2020/05/1-dois-conjuntos.jpg)\n",
        "\n",
        "![https://static.todamateria.com.br/upload/su/bc/subconjunto1.jpg?auto_optimize=low](https://static.todamateria.com.br/upload/su/bc/subconjunto1.jpg?auto_optimize=low)"
      ]
    },
    {
      "cell_type": "markdown",
      "id": "00efb4e7",
      "metadata": {
        "id": "00efb4e7"
      },
      "source": [
        "__Exemplo:__   Qual é a probabilidade de que em um lançamento de um dado saia um número par ou maior do que três?"
      ]
    },
    {
      "cell_type": "code",
      "execution_count": null,
      "id": "becd9bac",
      "metadata": {
        "ExecuteTime": {
          "end_time": "2023-02-24T19:04:19.781911Z",
          "start_time": "2023-02-24T19:04:19.769945Z"
        },
        "id": "becd9bac"
      },
      "outputs": [],
      "source": [
        "# w = {1, 2, 3, 4, 5, 6}\n",
        "\n",
        "# A = 'obter um numero par'\n",
        "# B = 'obter um numero maior que 3'\n",
        "\n",
        "# S(A) = S({2, 4, 6}) = 3\n",
        "# S(B) = S({4, 5, 6}) = 3\n",
        "\n",
        "# S(A e B) = S({4, 6}) = 2\n",
        "\n",
        "# P(A união B) = P(A) + P(B) - P(A e B)\n",
        "# P(A união B) = S(A)/S(w) + S(B)/S(w) - S(A e B)/S(w)\n",
        "# P(A união B) = 3/6 + 3/6 - 2/6 = 2/3"
      ]
    },
    {
      "cell_type": "markdown",
      "id": "wFMnNlw2KzHr",
      "metadata": {
        "id": "wFMnNlw2KzHr"
      },
      "source": [
        "**Exemplo restaurante (Eventos Independentes)**\n",
        "\n",
        "$P(A ∩ B) = 0$ ,  olhando o espaço amostral\n",
        "\n",
        "$P(A ∩ B) = P(A) * P(B)$"
      ]
    },
    {
      "cell_type": "code",
      "execution_count": 10,
      "id": "N6B_Nh1OAQ11",
      "metadata": {
        "id": "N6B_Nh1OAQ11"
      },
      "outputs": [],
      "source": [
        "# Dependentes\n",
        "# A = {2, 4, 6}\n",
        "# B = {4, 5, 6}\n",
        "# Eventos A e B: {4, 6}\n",
        "# P(A e B) = S(4, 6)/S(w) = 1/3\n",
        "\n",
        "# Independentes:\n",
        "# P(A e B) = P(A) * P(B)"
      ]
    },
    {
      "cell_type": "code",
      "execution_count": 11,
      "id": "6oBfB0gbOiAj",
      "metadata": {
        "id": "6oBfB0gbOiAj"
      },
      "outputs": [],
      "source": [
        "# Mulher + Dinner\n",
        "# possibilidades teóricas:\n",
        "# 1: female + dinner\n",
        "# 2: male + dinner\n",
        "# 3: female + lunch\n",
        "# 4: male + lunch\n",
        "\n",
        "# 2/4 * 2/4 = 1/4\n",
        "\n",
        "# P(caso 1) = 1/4 = 0.25"
      ]
    },
    {
      "cell_type": "markdown",
      "id": "17794850",
      "metadata": {},
      "source": [
        "## Pedir o que ele fez aqui "
      ]
    },
    {
      "cell_type": "code",
      "execution_count": 19,
      "id": "aJtfha28Kw4I",
      "metadata": {
        "colab": {
          "base_uri": "https://localhost:8080/"
        },
        "id": "aJtfha28Kw4I",
        "outputId": "065b0578-7662-4cf6-a820-1ce3f1876e63"
      },
      "outputs": [
        {
          "name": "stdout",
          "output_type": "stream",
          "text": [
            "total: 244\n",
            "female: 87\n",
            "dinner: 176\n",
            "0.8206799247514108 dos casos nas minhas observações temos Female pagante no Dinner\n"
          ]
        }
      ],
      "source": [
        "# Qual é a probabilidade de ser feminino ou ser dinner\n",
        "\n",
        "# w = todas observações\n",
        "total = df_tips['sex'].count()\n",
        "print('total:', total)\n",
        "\n",
        "# A = 'obter um sex Female'\n",
        "ser_feminino = df_tips[df_tips['sex'] == 'Female']['sex'].count()\n",
        "print('female:', ser_feminino)\n",
        "\n",
        "# B = 'obter um time Dinner'\n",
        "ser_jantar = df_tips[df_tips['time'] == 'Dinner']['time'].count()\n",
        "print('dinner:', ser_jantar)\n",
        "\n",
        "# P(A união (ou) B) = P(A) + P(B) - P(A e B): CUIDADO!!! Não é união\n",
        "# P(A união B) = P(A) + P(B) - (P(A) * P(B)) -> Utilizar essa probabilidade\n",
        "\n",
        "probabilidade_interseccao = (ser_feminino/total) * (ser_jantar/total)\n",
        "\n",
        "probabilidade_uniao = (ser_feminino/total) + (ser_jantar/total) - probabilidade_interseccao\n",
        "print(f'{probabilidade_uniao} dos casos nas minhas observações temos Female pagante no Dinner')"
      ]
    },
    {
      "cell_type": "code",
      "execution_count": 18,
      "id": "wMrIHGZ1LmEf",
      "metadata": {
        "colab": {
          "base_uri": "https://localhost:8080/",
          "height": 423
        },
        "id": "wMrIHGZ1LmEf",
        "outputId": "10b6429b-7cce-4a56-ca8f-82fe7bd67f97"
      },
      "outputs": [
        {
          "data": {
            "text/html": [
              "<div>\n",
              "<style scoped>\n",
              "    .dataframe tbody tr th:only-of-type {\n",
              "        vertical-align: middle;\n",
              "    }\n",
              "\n",
              "    .dataframe tbody tr th {\n",
              "        vertical-align: top;\n",
              "    }\n",
              "\n",
              "    .dataframe thead th {\n",
              "        text-align: right;\n",
              "    }\n",
              "</style>\n",
              "<table border=\"1\" class=\"dataframe\">\n",
              "  <thead>\n",
              "    <tr style=\"text-align: right;\">\n",
              "      <th></th>\n",
              "      <th>total_bill</th>\n",
              "      <th>tip</th>\n",
              "      <th>sex</th>\n",
              "      <th>smoker</th>\n",
              "      <th>day</th>\n",
              "      <th>time</th>\n",
              "      <th>size</th>\n",
              "    </tr>\n",
              "  </thead>\n",
              "  <tbody>\n",
              "    <tr>\n",
              "      <th>0</th>\n",
              "      <td>16.99</td>\n",
              "      <td>1.01</td>\n",
              "      <td>Female</td>\n",
              "      <td>No</td>\n",
              "      <td>Sun</td>\n",
              "      <td>Dinner</td>\n",
              "      <td>2</td>\n",
              "    </tr>\n",
              "    <tr>\n",
              "      <th>1</th>\n",
              "      <td>10.34</td>\n",
              "      <td>1.66</td>\n",
              "      <td>Male</td>\n",
              "      <td>No</td>\n",
              "      <td>Sun</td>\n",
              "      <td>Dinner</td>\n",
              "      <td>3</td>\n",
              "    </tr>\n",
              "    <tr>\n",
              "      <th>2</th>\n",
              "      <td>21.01</td>\n",
              "      <td>3.50</td>\n",
              "      <td>Male</td>\n",
              "      <td>No</td>\n",
              "      <td>Sun</td>\n",
              "      <td>Dinner</td>\n",
              "      <td>3</td>\n",
              "    </tr>\n",
              "    <tr>\n",
              "      <th>3</th>\n",
              "      <td>23.68</td>\n",
              "      <td>3.31</td>\n",
              "      <td>Male</td>\n",
              "      <td>No</td>\n",
              "      <td>Sun</td>\n",
              "      <td>Dinner</td>\n",
              "      <td>2</td>\n",
              "    </tr>\n",
              "    <tr>\n",
              "      <th>4</th>\n",
              "      <td>24.59</td>\n",
              "      <td>3.61</td>\n",
              "      <td>Female</td>\n",
              "      <td>No</td>\n",
              "      <td>Sun</td>\n",
              "      <td>Dinner</td>\n",
              "      <td>4</td>\n",
              "    </tr>\n",
              "    <tr>\n",
              "      <th>...</th>\n",
              "      <td>...</td>\n",
              "      <td>...</td>\n",
              "      <td>...</td>\n",
              "      <td>...</td>\n",
              "      <td>...</td>\n",
              "      <td>...</td>\n",
              "      <td>...</td>\n",
              "    </tr>\n",
              "    <tr>\n",
              "      <th>239</th>\n",
              "      <td>29.03</td>\n",
              "      <td>5.92</td>\n",
              "      <td>Male</td>\n",
              "      <td>No</td>\n",
              "      <td>Sat</td>\n",
              "      <td>Dinner</td>\n",
              "      <td>3</td>\n",
              "    </tr>\n",
              "    <tr>\n",
              "      <th>240</th>\n",
              "      <td>27.18</td>\n",
              "      <td>2.00</td>\n",
              "      <td>Female</td>\n",
              "      <td>Yes</td>\n",
              "      <td>Sat</td>\n",
              "      <td>Dinner</td>\n",
              "      <td>2</td>\n",
              "    </tr>\n",
              "    <tr>\n",
              "      <th>241</th>\n",
              "      <td>22.67</td>\n",
              "      <td>2.00</td>\n",
              "      <td>Male</td>\n",
              "      <td>Yes</td>\n",
              "      <td>Sat</td>\n",
              "      <td>Dinner</td>\n",
              "      <td>2</td>\n",
              "    </tr>\n",
              "    <tr>\n",
              "      <th>242</th>\n",
              "      <td>17.82</td>\n",
              "      <td>1.75</td>\n",
              "      <td>Male</td>\n",
              "      <td>No</td>\n",
              "      <td>Sat</td>\n",
              "      <td>Dinner</td>\n",
              "      <td>2</td>\n",
              "    </tr>\n",
              "    <tr>\n",
              "      <th>243</th>\n",
              "      <td>18.78</td>\n",
              "      <td>3.00</td>\n",
              "      <td>Female</td>\n",
              "      <td>No</td>\n",
              "      <td>Thur</td>\n",
              "      <td>Dinner</td>\n",
              "      <td>2</td>\n",
              "    </tr>\n",
              "  </tbody>\n",
              "</table>\n",
              "<p>244 rows × 7 columns</p>\n",
              "</div>"
            ],
            "text/plain": [
              "     total_bill   tip     sex smoker   day    time  size\n",
              "0         16.99  1.01  Female     No   Sun  Dinner     2\n",
              "1         10.34  1.66    Male     No   Sun  Dinner     3\n",
              "2         21.01  3.50    Male     No   Sun  Dinner     3\n",
              "3         23.68  3.31    Male     No   Sun  Dinner     2\n",
              "4         24.59  3.61  Female     No   Sun  Dinner     4\n",
              "..          ...   ...     ...    ...   ...     ...   ...\n",
              "239       29.03  5.92    Male     No   Sat  Dinner     3\n",
              "240       27.18  2.00  Female    Yes   Sat  Dinner     2\n",
              "241       22.67  2.00    Male    Yes   Sat  Dinner     2\n",
              "242       17.82  1.75    Male     No   Sat  Dinner     2\n",
              "243       18.78  3.00  Female     No  Thur  Dinner     2\n",
              "\n",
              "[244 rows x 7 columns]"
            ]
          },
          "execution_count": 18,
          "metadata": {},
          "output_type": "execute_result"
        }
      ],
      "source": [
        "# Teorico: S(A) = S({Male, Female})\n",
        "# Teorico: S(B) = S({Dinner, Lunch})\n",
        "# Teorico: S(C) = C({Lunch, Female})\n",
        "df_tips"
      ]
    },
    {
      "cell_type": "code",
      "execution_count": null,
      "id": "54axrMQPOxln",
      "metadata": {
        "colab": {
          "base_uri": "https://localhost:8080/"
        },
        "id": "54axrMQPOxln",
        "outputId": "a75a97cd-6ac1-41f9-d918-8993a49f7707"
      },
      "outputs": [
        {
          "data": {
            "text/plain": [
              "Male      0.643443\n",
              "Female    0.356557\n",
              "Name: sex, dtype: float64"
            ]
          },
          "execution_count": 41,
          "metadata": {},
          "output_type": "execute_result"
        }
      ],
      "source": [
        "df_tips['sex'].value_counts(normalize=True)"
      ]
    },
    {
      "cell_type": "code",
      "execution_count": null,
      "id": "nVg3raItO0sV",
      "metadata": {
        "colab": {
          "base_uri": "https://localhost:8080/"
        },
        "id": "nVg3raItO0sV",
        "outputId": "d823bb56-7138-4caf-f698-bf00f70b3e86"
      },
      "outputs": [
        {
          "data": {
            "text/plain": [
              "Dinner    0.721311\n",
              "Lunch     0.278689\n",
              "Name: time, dtype: float64"
            ]
          },
          "execution_count": 42,
          "metadata": {},
          "output_type": "execute_result"
        }
      ],
      "source": [
        "df_tips['time'].value_counts(normalize=True)"
      ]
    },
    {
      "cell_type": "code",
      "execution_count": 21,
      "id": "uGgeMs1iPRc-",
      "metadata": {
        "colab": {
          "base_uri": "https://localhost:8080/"
        },
        "id": "uGgeMs1iPRc-",
        "outputId": "ce6656de-858d-407c-dcd6-006f18a1e4bf"
      },
      "outputs": [
        {
          "data": {
            "text/plain": [
              "0.257188486227"
            ]
          },
          "execution_count": 21,
          "metadata": {},
          "output_type": "execute_result"
        }
      ],
      "source": [
        "# A probabilidade de ser femino e ser dinner\n",
        "\n",
        "0.356557 * 0.721311"
      ]
    },
    {
      "cell_type": "markdown",
      "id": "tBAurjWQB21I",
      "metadata": {
        "id": "tBAurjWQB21I"
      },
      "source": [
        "![https://static.mundoeducacao.uol.com.br/mundoeducacao/2020/05/1-dois-conjuntos.jpg](https://static.mundoeducacao.uol.com.br/mundoeducacao/2020/05/1-dois-conjuntos.jpg)"
      ]
    },
    {
      "cell_type": "code",
      "execution_count": 22,
      "id": "hizvO-4XBlE8",
      "metadata": {
        "id": "hizvO-4XBlE8"
      },
      "outputs": [],
      "source": [
        "# P(A) = S(A) / S(w)\n",
        "\n",
        "# S(w) -> S(A) e S(B)"
      ]
    },
    {
      "cell_type": "markdown",
      "id": "8e1dc332",
      "metadata": {
        "id": "8e1dc332"
      },
      "source": [
        "## Probabilidade Condicional - Mesmo espaço amostral\n",
        "\n",
        "Seja dois eventos A e B, a probabilidade condicional entre esses eventos é definada como:\n",
        "    \n",
        "$$ P(A | B) = \\frac{P(A ∩ B)}{P(B)} $$\n",
        "\n",
        "Lembrando que isso é possível se e somente se $ P(B) > 0$.\n",
        "\n",
        "A forma mais comum de ler um problema de probabilidade condicional seria __\"qual a probabilidade de ocorrer o evento A, dado que ocorreu o evento B\"__.\n",
        "\n",
        "__Exemplo:__  Qual a probabilidade de ao lançar um dado sair um número par, dado que o número que saiu é maior do que 1?\n",
        "\n",
        "$$ P(A | B) = \\frac{\\frac{S(A ∩ B)}{S(w)}}{\\frac{S(B)}{S(w)}} $$\n",
        "$$ P(A | B) = \\frac{S(A ∩ B)}{S(w)}*\\frac{S(w)}{S(B)} $$\n",
        "$$ P(A | B) = \\frac{S(A ∩ B)}{S(B)}$$"
      ]
    },
    {
      "cell_type": "code",
      "execution_count": null,
      "id": "56b677d7",
      "metadata": {},
      "outputs": [],
      "source": [
        "# B - 2,3,4,5,6\n",
        "# A 2,4,6\n",
        "# P(A|B)=  3/6*5/6= 15/36 - 5/12\n",
        "# 5/6\n",
        "# 5/12 / 5/6 =  5/12 *6/5 = 30/60 1/2\n",
        " "
      ]
    },
    {
      "cell_type": "code",
      "execution_count": null,
      "id": "94ql9DleDU9-",
      "metadata": {
        "id": "94ql9DleDU9-"
      },
      "outputs": [],
      "source": [
        "# w = {1, 2, 3, 4, 5, 6}\n",
        "\n",
        "# A = sair numero par ({2, 4, 6})\n",
        "# B = saiu numero maior do que 1 ({2, 3, 4, 5, 6})\n",
        "\n",
        "# P(A|B) = P(A e B) / P(B)\n",
        "# P(A|B) = (S(A e B)/S(w)) / (S(B)/S(w))\n",
        "# P(A|B) = S(A e B) / S(B) = 3/5"
      ]
    },
    {
      "cell_type": "code",
      "execution_count": 23,
      "id": "2cdfd2a8",
      "metadata": {
        "colab": {
          "base_uri": "https://localhost:8080/"
        },
        "id": "2cdfd2a8",
        "outputId": "962040a9-8857-4fa6-a51c-7a171f11199b"
      },
      "outputs": [
        {
          "data": {
            "text/plain": [
              "['Sun', 'Sat', 'Thur', 'Fri']\n",
              "Categories (4, object): ['Thur', 'Fri', 'Sat', 'Sun']"
            ]
          },
          "execution_count": 23,
          "metadata": {},
          "output_type": "execute_result"
        }
      ],
      "source": [
        "df_tips['day'].unique()"
      ]
    },
    {
      "cell_type": "code",
      "execution_count": 24,
      "id": "Ae9qU6tCC0zM",
      "metadata": {
        "colab": {
          "base_uri": "https://localhost:8080/"
        },
        "id": "Ae9qU6tCC0zM",
        "outputId": "8934daa8-07fa-48a2-a9d2-11c1ec7710a1"
      },
      "outputs": [
        {
          "data": {
            "text/plain": [
              "sex\n",
              "Male      0.526316\n",
              "Female    0.473684\n",
              "Name: proportion, dtype: float64"
            ]
          },
          "execution_count": 24,
          "metadata": {},
          "output_type": "execute_result"
        }
      ],
      "source": [
        "df_tips_fri = df_tips[df_tips['day'] == 'Fri']\n",
        "\n",
        "df_tips_fri['sex'].value_counts(normalize=True)"
      ]
    },
    {
      "cell_type": "code",
      "execution_count": 25,
      "id": "Zd7rRksRDBxA",
      "metadata": {
        "colab": {
          "base_uri": "https://localhost:8080/"
        },
        "id": "Zd7rRksRDBxA",
        "outputId": "83e80a49-98df-4c4a-fa42-e8f5f8fb38b4"
      },
      "outputs": [
        {
          "data": {
            "text/plain": [
              "sex\n",
              "Male      0.643443\n",
              "Female    0.356557\n",
              "Name: proportion, dtype: float64"
            ]
          },
          "execution_count": 25,
          "metadata": {},
          "output_type": "execute_result"
        }
      ],
      "source": [
        "df_tips['sex'].value_counts(normalize=True)"
      ]
    },
    {
      "cell_type": "markdown",
      "id": "90f51011",
      "metadata": {
        "id": "90f51011"
      },
      "source": [
        "## Eventos Independentes"
      ]
    },
    {
      "cell_type": "markdown",
      "id": "65f11bcd",
      "metadata": {
        "id": "65f11bcd"
      },
      "source": [
        "Dois eventos $A$ e $B$ são independentes, se e somente se acontecer a seguinte condição:\n",
        "    \n",
        "$$ P(A ∩ B) = P(A)P(B) $$"
      ]
    },
    {
      "cell_type": "markdown",
      "id": "a6cd54c0",
      "metadata": {
        "id": "a6cd54c0"
      },
      "source": [
        "__Exemplo 1:__   Foi lançado um dado e uma moeda, qual é a probabilidade de ocorrer um número ímpar e sair cara na moeda?"
      ]
    },
    {
      "cell_type": "code",
      "execution_count": 27,
      "id": "d8882c85",
      "metadata": {
        "id": "d8882c85"
      },
      "outputs": [
        {
          "data": {
            "text/plain": [
              "0.25"
            ]
          },
          "execution_count": 27,
          "metadata": {},
          "output_type": "execute_result"
        }
      ],
      "source": [
        "impar = 3/6 \n",
        "cara = 1/2\n",
        "prob = impar * cara\n",
        "prob"
      ]
    },
    {
      "cell_type": "markdown",
      "id": "0dafbb0b",
      "metadata": {
        "id": "0dafbb0b"
      },
      "source": [
        "__Exemplo 2:__ Em uma caixa temos 8 bolas pretas e 12 brancas. Vamos calcular a probabilidade de alguns casos:\n",
        "\n",
        "__A)__ A primeira bola sorteada foi uma bola branca, qual a probabilidade disso ocorrer?"
      ]
    },
    {
      "cell_type": "code",
      "execution_count": 34,
      "id": "4963b8b1",
      "metadata": {
        "id": "4963b8b1"
      },
      "outputs": [
        {
          "data": {
            "text/plain": [
              "60.0"
            ]
          },
          "execution_count": 34,
          "metadata": {},
          "output_type": "execute_result"
        }
      ],
      "source": [
        "pretas = 8 \n",
        "brancas = 12\n",
        "espaco_amostral = pretas + brancas\n",
        "\n",
        "prob_a = brancas/espaco_amostral\n",
        "prob_a*100"
      ]
    },
    {
      "cell_type": "markdown",
      "id": "2948939e",
      "metadata": {
        "id": "2948939e"
      },
      "source": [
        "__B)__ Depois do primeiro sorteio qual a probabilidade de sair uma bola preta, no caso que foi devolvida a bola do primeiro sorteio para a caixa"
      ]
    },
    {
      "cell_type": "code",
      "execution_count": 35,
      "id": "eef2394b",
      "metadata": {
        "id": "eef2394b"
      },
      "outputs": [
        {
          "data": {
            "text/plain": [
              "40.0"
            ]
          },
          "execution_count": 35,
          "metadata": {},
          "output_type": "execute_result"
        }
      ],
      "source": [
        "prob_b = pretas/espaco_amostral\n",
        "prob_b*100"
      ]
    },
    {
      "cell_type": "markdown",
      "id": "269d42cc",
      "metadata": {
        "id": "269d42cc"
      },
      "source": [
        "__C)__ Como ficaria essa probabilidade da bola preta caso a bola branca não seja devolvida a caixa?"
      ]
    },
    {
      "cell_type": "code",
      "execution_count": 41,
      "id": "ca7ff24c",
      "metadata": {
        "id": "ca7ff24c"
      },
      "outputs": [
        {
          "data": {
            "text/plain": [
              "42.10526315789473"
            ]
          },
          "execution_count": 41,
          "metadata": {},
          "output_type": "execute_result"
        }
      ],
      "source": [
        "prob_c = pretas/(espaco_amostral-1)\n",
        "prob_c*100"
      ]
    },
    {
      "cell_type": "markdown",
      "id": "02c00271",
      "metadata": {
        "id": "02c00271"
      },
      "source": [
        "__D)__ Qual a probabilidade de sortear primeiro uma bola preta e depois uma branca, com reposição neste caso?"
      ]
    },
    {
      "cell_type": "code",
      "execution_count": 42,
      "id": "f2993ad5",
      "metadata": {
        "id": "f2993ad5"
      },
      "outputs": [
        {
          "data": {
            "text/plain": [
              "24.0"
            ]
          },
          "execution_count": 42,
          "metadata": {},
          "output_type": "execute_result"
        }
      ],
      "source": [
        "prob_d = prob_a * prob_b\n",
        "prob_d*100"
      ]
    },
    {
      "cell_type": "markdown",
      "id": "ec075025",
      "metadata": {
        "id": "ec075025"
      },
      "source": [
        "__E)__ Repita o item __D__ agora aplicando para o caso sem reposição."
      ]
    },
    {
      "cell_type": "code",
      "execution_count": 44,
      "id": "84848e5c",
      "metadata": {
        "id": "84848e5c"
      },
      "outputs": [
        {
          "data": {
            "text/plain": [
              "25.263157894736842"
            ]
          },
          "execution_count": 44,
          "metadata": {},
          "output_type": "execute_result"
        }
      ],
      "source": [
        "prob_e = prob_b * (brancas/(espaco_amostral-1))\n",
        "prob_e*100"
      ]
    },
    {
      "cell_type": "markdown",
      "id": "jlAYYlcc9TG_",
      "metadata": {
        "id": "jlAYYlcc9TG_"
      },
      "source": [
        "### Nesse caso mudamos o espaço amostral de uma probabilidade para outra\n",
        "\n",
        "\n",
        "**Assim, não podemos utilizar a probabilidade de eventos independentes**\n",
        "\n",
        "$A$ = Sair uma bola preta\n",
        "\n",
        "$B$ = sair uma bola branca\n",
        "\n",
        "\n",
        "$P(A ∩ B)$ - Não queremos saber as probabilidade de forma separada, mas sim dependentes\n",
        "\n",
        "Dado que bola preta foi sorteada primeiro\n",
        "\n",
        "$$P(B|A) = \\frac{P(B ∩ A)}{P(A)}$$\n",
        "\n",
        "$$P(B ∩ A) = P(B|A)P(A)$$"
      ]
    },
    {
      "cell_type": "markdown",
      "id": "35440a4f",
      "metadata": {
        "id": "35440a4f"
      },
      "source": [
        "Propriedade importante sobre a probabilidade condicional! Seja os eventos A e B e a definição da probabilidade condicional:\n",
        "\n",
        "$$ P(A | B) = \\frac{P(A ∩ B)}{P(B)} $$\n",
        "\n",
        "Se pegarmos a probabilidade condicional agora do evento B dado que ocorreu o A:\n",
        "\n",
        "$$ P(B | A) = \\frac{P(A ∩ B)}{P(A)} $$\n",
        "\n",
        "Dessa forma conseguimos tirar a seguinte relação:\n",
        "\n",
        "$$ P(A | B)P(B) = P(B | A)P(A) $$\n",
        "$$ P(A | B) = \\frac{P(B | A)P(A)}{P(B)} $$\n",
        "    \n"
      ]
    },
    {
      "cell_type": "markdown",
      "id": "7bdca32b",
      "metadata": {
        "id": "7bdca32b"
      },
      "source": [
        "## Teorema de Bayes\n",
        "\n",
        "O **Teorema de Bayes** é um conceito importantíssimo da probabilidade e uma das ferramentas mais importantes de serem aprendidas para um Cientista de Dados, pois é a base de uma área com muitas aplicações práticas chamada [inferência bayesiana](https://en.wikipedia.org/wiki/Bayesian_inference).\n",
        "\n",
        "O Teorema de Bayes é uma forma **calcular probabilidades condicionais de forma reversa**.\n",
        "\n",
        "Vamos considerar o clássico exemplo para explicar o teorema.\n",
        "\n",
        "Temos uma determinada doença C, e um teste T utilizado para detectar esta doença.\n",
        "\n",
        "O teste não é 100% confiável, indicando pessoas que **não têm a doença como doentes (falsos positivos)** e **não detectando a doença em pessoas que a possuem (falsos negativos)**\n",
        "\n",
        "> Consideremos que 1% das pessoas possui a doença: $P(C) = 0.01$\n",
        "\n",
        "> Logo, 99% das pessoas não a possui: $P(¬C) = 0.99$\n",
        "\n",
        "O teste detecta a doença em pessoas efetivamente doentes 90% das vezes e, consequentemente, não detecta a doença em pessoas doentes em 10% dos casos.\n",
        "\n",
        "Em pessoas não doentes, o teste detecta a doença (erradamente) em 5% dos casos e não detecta em 95% dos casos. Podemos resumir desta forma:\n",
        "\n",
        "|                | Pessoa Doente | Pessoa Não Doente |\n",
        "|----------------|---------------|-------------------|\n",
        "| Teste positivo | 90 %          | 5 %               |\n",
        "| Teste Negativo | 10 %          | 95 %              |\n",
        "\n",
        "A tabela acima é chamada de **matriz de confusão**, indicando fora da diagonal os caos confusos (errados), e na diagonal os casos corretos\n",
        "\n",
        "<img src=\"https://miro.medium.com/max/2102/1*fxiTNIgOyvAombPJx5KGeA.png\" width=300>\n",
        "\n",
        "Agora, a chance de você **ter a doença e o teste detecta-la (verdadeiro positivo)** é igual **a chance de você ter a doença multiplicado pela chance do teste ter dado positivo corretamente**;\n",
        "\n",
        "Analogamente, a chance de você **não ter a doença e o teste detecta-la mesmo assim (falso positivo)** é igual **a chance de você não ter a doença multiplicado pela chance do teste ter dado positivo incorretamente**;\n",
        "\n",
        "E assim por diante, para todos os resultados. Atualizamos então a tabela, que fica assim:\n",
        "\n",
        "|                | Pessoa Doente                            | Pessoa Não Doente                               | Soma\n",
        "|----------------|------------------------------------------|-------------------------------------------------|-------|\n",
        "| **Teste positivo** | Prob Doente e teste pos: 1% × 90% = 0,9% | Prob Não Doente e teste pos: 99% × 5% = 4,95%   | 5,85%\n",
        "| **Teste Negativo** | Prob Doente e teste neg: 1% × 10% = 0,1% | Prob Não Doente e teste neg: 99% × 95% = 94,05% | 94,15%\n",
        "| **Soma** | 1% | 99% | 100%\n",
        "\n",
        "Estas então são nossas probabilidades para cada evento. Note que, se somadas, o resultado é 1, ou 100%.\n",
        "\n",
        "Agora, vamos supor que você fez o teste e o **resultado deu positivo**.\n",
        "\n",
        "Como devemos interpretar este resultado? Qual a chance de você de fato ter a doença?\n",
        "\n",
        "Considerando o cálculo básico de probabilidade, temos que a chance de ter a doença é igual à **chance do evento desejado dividido por todas as possibilidades**.\n",
        "\n",
        "O evento desejado é um positivo verdadeiro, ou seja, **teste positivo e a pessoa com doença**. Para este caso, a probabilidade é de 0,9% (olhe na tabela!)\n",
        "\n",
        "O **total de possibilidades com relação ao teste positivo** seria a **soma da probabilidade de “doente e teste pos”** (verdadeiro positivo) com **“não doente e teste pos” (falso positivo)**, que resultará em 0,9% + 4,95%, igual a 5,85%.\n",
        "\n",
        "Fazendo toda a conta, nossa chance de ter a doença se temos um teste positivo é de **0,9%/5,85% = 0.1538**, ou **15,38%**.\n",
        "\n",
        "É uma chance bem mais baixa do que imaginamos apenas ao olhar para o problema e para a suposta precisão do teste!\n",
        "\n",
        "#### Em equações, temos:\n",
        "\n",
        "* P(C|+) = Probabilidade de ter a doença dado um teste positivo (este é a probabilidade que desejamos saber)\n",
        "\n",
        "* P(C) = Probabilidade da pessoa ter a doença = 1%\n",
        "\n",
        "* P(+|C) = Probabilidade de um teste positivo se a pessoa tem a doença = 0,9%\n",
        "\n",
        "* P(+|¬C) = Probabilidade de um teste positivo se a pessoa não tem a doença = 4,95%\n",
        "\n",
        "    **O Teorema de bayes diz que :**\n",
        "    \n",
        "    \n",
        "$$ P(C|+) = \\frac{P(+|C) \\ P(C)}{P(+|C) \\ P(C)  + P(+|¬ C) \\ P(¬ C)}    $$\n",
        "$$ P(C|+) = \\frac{P(+|C) \\ P(C)}{P(+)}    $$\n",
        "\n",
        "<img src='https://ibpad.com.br/wp-content/uploads/2020/05/estatistica-bayesiana-22-1024x320.png' width = 500>"
      ]
    },
    {
      "cell_type": "markdown",
      "id": "ISmIVwbwLxB4",
      "metadata": {
        "id": "ISmIVwbwLxB4"
      },
      "source": [
        "<img src=\"https://miro.medium.com/max/2102/1*fxiTNIgOyvAombPJx5KGeA.png\" width=300>"
      ]
    },
    {
      "cell_type": "code",
      "execution_count": null,
      "id": "FFwActeHLwWo",
      "metadata": {
        "id": "FFwActeHLwWo"
      },
      "outputs": [],
      "source": [
        "# Detecção de Fraude:\n",
        "# TP: De fato foi uma fraude\n",
        "# FN: Foi uma fraude, mas falou que não foi - Cliente fica p da vida\n",
        "# TN: De fato não foi uma fraude\n",
        "# FP: Não foi uma fraude, mas falou que foi - Cliente ficar p da vida"
      ]
    },
    {
      "cell_type": "markdown",
      "id": "cd6fe91e",
      "metadata": {
        "id": "cd6fe91e"
      },
      "source": [
        "## Exercícios"
      ]
    },
    {
      "cell_type": "markdown",
      "id": "cbfe3b3c",
      "metadata": {
        "id": "cbfe3b3c"
      },
      "source": [
        "__1)__ Um teste para identificação de malária na população amazônica possui uma taxa de 8% de falso positivo e 2% de falso negativo, ou seja, em 8% dos não-infectados acusa como infectados, e em 2% dos infectados acusa como não infectados. Sabendo que atualmente 0,4% da população amazônica está infectada, calcule a probabilidade de um paciente cujo teste apontou positivo estar realmente não infectado."
      ]
    },
    {
      "cell_type": "code",
      "execution_count": 45,
      "id": "daad9080",
      "metadata": {
        "id": "daad9080"
      },
      "outputs": [],
      "source": [
        "# Teste de malaria\n",
        "# FP = 8% -> não infectados acusa como infectados\n",
        "# FN = 2% -> infectados acusa como não infectados\n",
        "\n",
        "# Espaço amostral: População amazônica\n",
        "\n",
        "# I = Pessoa infectada\n",
        "# P(I) = 0.4%\n",
        "# P(¬I) = 1 - P(I) = 99.6%\n",
        "\n",
        "# P(¬I|+)"
      ]
    },
    {
      "cell_type": "markdown",
      "id": "XHlMHcsXVo3i",
      "metadata": {
        "id": "XHlMHcsXVo3i"
      },
      "source": [
        "$$ P(C|+) = \\frac{P(+|C) \\ P(C)}{P(+)}    $$\n",
        "\n",
        "\n",
        "similarment ...\n",
        "\n",
        "\n",
        " $$(1): P(¬I|+) = \\frac{P(+|¬I) P(¬I)}{P(+)}$$\n",
        "\n",
        "$$P(I) = 0.4\\% = 0.004$$\n",
        "\n",
        "$$P(¬I) = 99.6\\% = 0.996$$\n",
        "\n",
        "$$FP = P(+|¬I) = 8\\% = 0.08$$\n",
        "$$FN = P(-|I) = 2\\% = 0.02$$\n",
        "$$TP = P(+|I) = 1 - FN = 98\\% = 0.98$$\n",
        "\n",
        "$$P(+) = ?$$\n",
        "Temos que:\n",
        "$$P(+|¬I) = \\frac{P(+)P(¬I|+)}{P(¬I)}$$\n",
        "$$P(+) = \\frac{P(+|¬I)P(¬I)}{P(¬I|+)}$$\n",
        "\n",
        "Substituindo em I:\n",
        "$$P(¬I|+) = \\frac{\\frac{P(+|¬I) P(¬I)}{1}}{\\frac{P(+|¬I)P(¬I)}{P(¬I|+)}} = P(¬I|+)$$\n",
        "\n",
        "Não chegamos na solução.\n",
        "$$ P(I|+) = \\frac{P(+|I) \\ P(I)}{P(+|I) \\ P(I)  + P(+|¬ I) \\ P(¬ I)}    $$ \n",
        "\n",
        "Não dá certo deste jeito\n",
        "\n",
        "Temos que fazer:\n",
        "\n",
        "Mas sabemos que:\n",
        "\n",
        "$$P(+) = 𝑃(+|I) 𝑃(I) + 𝑃(+|¬I) 𝑃(¬I)$$\n",
        "$$P(+) = 0.98*0.004 + 0.08*0.996 = 0.0836$$\n",
        "\n",
        "Substituindo os valores:\n",
        "$$P(¬I|+) = \\frac{0.08*0.996}{0.08336}$$\n",
        "$$P(¬I|+) = 0.95 = 95\\%$$\n"
      ]
    },
    {
      "cell_type": "code",
      "execution_count": 46,
      "id": "bbfcKCTCZpGj",
      "metadata": {
        "colab": {
          "base_uri": "https://localhost:8080/"
        },
        "id": "bbfcKCTCZpGj",
        "outputId": "5682af62-612f-41f7-f60b-fa2e4b725f74"
      },
      "outputs": [
        {
          "name": "stdout",
          "output_type": "stream",
          "text": [
            "Probabilidade: 0.9531100478468899\n"
          ]
        }
      ],
      "source": [
        "# FP = 8% -> não infectados acusa como infectados\n",
        "# FN = 2% -> infectados acusa como não infectados\n",
        "FP = 0.08\n",
        "FN = 0.02\n",
        "\n",
        "p_positivo = (1 - FN)*0.004 + FP*0.996\n",
        "probabilidade = (FP * 0.996)/p_positivo\n",
        "print('Probabilidade:', probabilidade)"
      ]
    },
    {
      "cell_type": "markdown",
      "id": "45ea2806",
      "metadata": {
        "id": "45ea2806"
      },
      "source": [
        "__2)__ Luiza tem um pote de cápsulas de café onde têm cápsulas de diversas cores. Então Luiza decidiu contar quantas cápsulas de cada ela tem:\n",
        "\n",
        "- Azul: 10 cápsulas\n",
        "- Roxo: 7 cápsulas\n",
        "- Preto: 8 cápsulas\n",
        "- Vermelho: 5 cápsulas\n",
        "\n",
        "Colocando todas as cápsulas de volta e escolhendo duas quaisquer para tomar, qual a probabilidade de Luiza pegar aleatoriamente primeiro uma cápsula azul e depois uma vermelha, dado que são eventos independentes?"
      ]
    },
    {
      "cell_type": "code",
      "execution_count": 1,
      "id": "256dcbab",
      "metadata": {
        "id": "256dcbab"
      },
      "outputs": [
        {
          "data": {
            "text/plain": [
              "0.05747126436781609"
            ]
          },
          "execution_count": 1,
          "metadata": {},
          "output_type": "execute_result"
        }
      ],
      "source": [
        "total = 10+7+8+5\n",
        "P_A = 10/total\n",
        "P_B = 5/total\n",
        "prob_2 = P_A * (5/(total-1))\n",
        "prob_2"
      ]
    },
    {
      "cell_type": "markdown",
      "id": "bc6beed4",
      "metadata": {
        "id": "bc6beed4"
      },
      "source": [
        "# Por que isso está aqui?\n",
        "\n",
        "__3)__ Se uma moeda for lançada 5 vezes, qual é a probabilidade de sair pelo menos 4 caras?"
      ]
    },
    {
      "cell_type": "markdown",
      "id": "fd015652",
      "metadata": {},
      "source": [
        "ara calcular a probabilidade de obter exatamente \\(k\\) caras em \\(n\\) lançamentos, usamos a fórmula da distribuição binomial:\n",
        "\n",
        "\\[ P(k; n, p) = \\binom{n}{k} p^k (1-p)^{n-k} \\]\n",
        "\n",
        "Onde:\n",
        "- \\( \\binom{n}{k} \\) representa o coeficiente binomial, que é o número de maneiras de escolher \\(k\\) sucessos de \\(n\\) tentativas.\n",
        "- \\( p \\) é a probabilidade de sucesso em cada tentativa (para uma moeda justa, \\( p = \\frac{1}{2} \\)).\n",
        "- \\( n \\) é o número total de tentativas (neste caso, 5 lançamentos).\n",
        "- \\( k \\) é o número de sucessos desejado (neste caso, estamos interessados em \\( k = 4 \\) e \\( k = 5 \\)).\n",
        "\n",
        "Assim, para calcular a probabilidade de obter exatamente 4 caras (\\( P(4; 5, \\frac{1}{2}) \\)) e a probabilidade de obter exatamente 5 caras (\\( P(5; 5, \\frac{1}{2}) \\)), aplicamos a fórmula para cada caso e somamos os resultados para encontrar a probabilidade total de obter pelo menos 4 caras."
      ]
    },
    {
      "cell_type": "code",
      "execution_count": 2,
      "id": "b7011bcd",
      "metadata": {
        "id": "b7011bcd"
      },
      "outputs": [
        {
          "name": "stdout",
          "output_type": "stream",
          "text": [
            "A probabilidade de obter pelo menos 4 caras em 5 lançamentos é: 0.1875\n"
          ]
        }
      ],
      "source": [
        "from math import comb\n",
        "\n",
        "# Definindo a probabilidade de sucesso (cara) e o número de lançamentos\n",
        "p_cara = 1/2\n",
        "n_lancamentos = 5\n",
        "\n",
        "# Calculando a probabilidade de obter exatamente 4 caras\n",
        "k_caras_4 = 4\n",
        "probabilidade_4_caras = comb(n_lancamentos, k_caras_4) * (p_cara ** k_caras_4) * ((1-p_cara) ** (n_lancamentos-k_caras_4))\n",
        "\n",
        "# Calculando a probabilidade de obter exatamente 5 caras\n",
        "k_caras_5 = 5\n",
        "probabilidade_5_caras = comb(n_lancamentos, k_caras_5) * (p_cara ** k_caras_5) * ((1-p_cara) ** (n_lancamentos-k_caras_5))\n",
        "\n",
        "# Calculando a probabilidade total de obter pelo menos 4 caras\n",
        "probabilidade_pelo_menos_4_caras = probabilidade_4_caras + probabilidade_5_caras\n",
        "\n",
        "# Exibindo o resultado\n",
        "print(f\"A probabilidade de obter pelo menos 4 caras em 5 lançamentos é: {probabilidade_pelo_menos_4_caras}\")\n"
      ]
    },
    {
      "cell_type": "markdown",
      "id": "1d1274c6",
      "metadata": {
        "id": "1d1274c6"
      },
      "source": [
        "__4)__ Dois dados são lançados e vamos definir os eventos A e B como:\n",
        "    \n",
        "- __A__: a soma dos dados é igual a 6;\n",
        "    \n",
        "- __B__: saiu o valor 4 no primeiro dado.\n",
        "    \n",
        "Esses eventos são independentes?"
      ]
    },
    {
      "cell_type": "code",
      "execution_count": 3,
      "id": "0c9b3b2e",
      "metadata": {
        "id": "0c9b3b2e"
      },
      "outputs": [
        {
          "data": {
            "text/plain": [
              "(False, 0.023148148148148147)"
            ]
          },
          "execution_count": 3,
          "metadata": {},
          "output_type": "execute_result"
        }
      ],
      "source": [
        "# Probabilidades calculadas\n",
        "P_A = 5 / 36\n",
        "P_B = 1 / 6\n",
        "P_A_intersecao_B = 1 / 36\n",
        "\n",
        "# Verificando a independência\n",
        "independencia = P_A_intersecao_B == (P_A * P_B)\n",
        "independencia, P_A * P_B\n"
      ]
    }
  ],
  "metadata": {
    "colab": {
      "provenance": []
    },
    "kernelspec": {
      "display_name": "Python 3 (ipykernel)",
      "language": "python",
      "name": "python3"
    },
    "language_info": {
      "codemirror_mode": {
        "name": "ipython",
        "version": 3
      },
      "file_extension": ".py",
      "mimetype": "text/x-python",
      "name": "python",
      "nbconvert_exporter": "python",
      "pygments_lexer": "ipython3",
      "version": "3.11.8"
    },
    "varInspector": {
      "cols": {
        "lenName": 16,
        "lenType": 16,
        "lenVar": 40
      },
      "kernels_config": {
        "python": {
          "delete_cmd_postfix": "",
          "delete_cmd_prefix": "del ",
          "library": "var_list.py",
          "varRefreshCmd": "print(var_dic_list())"
        },
        "r": {
          "delete_cmd_postfix": ") ",
          "delete_cmd_prefix": "rm(",
          "library": "var_list.r",
          "varRefreshCmd": "cat(var_dic_list()) "
        }
      },
      "types_to_exclude": [
        "module",
        "function",
        "builtin_function_or_method",
        "instance",
        "_Feature"
      ],
      "window_display": false
    }
  },
  "nbformat": 4,
  "nbformat_minor": 5
}
