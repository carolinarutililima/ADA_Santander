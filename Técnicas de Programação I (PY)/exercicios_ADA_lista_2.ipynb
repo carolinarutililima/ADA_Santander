{
 "cells": [
  {
   "cell_type": "markdown",
   "metadata": {},
   "source": [
    "Restaurantes Mais Próximos\n",
    "Perto da casa de João existem vários restaurantes que entregam comida e João deseja fazer um pedido, mas ele tem um compromisso marcado e não pode esperar muito tempo. Então João quer saber qual é o restaurante mais próximo da residência dele, utilizando a distância Euclidiana, cuja a fórmula é dado pela equação a seguir:\n",
    "\n",
    " d(A, B) = \\sqrt{(x_{A, 1} - x_{B, 1})^{2} + (x_{A, 2} - x_{B, 2})^{2} + ... + (x_{A, n} - x_{B, n})^{2}}\n",
    "Desenvolva uma função chamada restaurante_mais_proximo que irá receber como parâmetros respectivamente uma lista de coordenadas da casa do João e uma lista de 4 listas com as coordenadas dos restaurantes a verificar e o retorno da função deve ser o número referente ao restaurante mais próximo. Importante ressaltar que o número do restaurante começa pelo 1 e que em caso de empate, deve-se indicar o primeiro restaurante a apresentar a menor distância.\n",
    "\n",
    "Obs.: Importante explicitar a saída como um valor inteiro, ou seja, utilize o int() para converter o retorno."
   ]
  },
  {
   "cell_type": "code",
   "execution_count": 13,
   "metadata": {},
   "outputs": [
    {
     "data": {
      "text/plain": [
       "2"
      ]
     },
     "execution_count": 13,
     "metadata": {},
     "output_type": "execute_result"
    }
   ],
   "source": [
    "import math \n",
    "\n",
    "def restaurante_mais_proximo(casa, restaurantes):\n",
    "\tdisntacias = []\n",
    "\tfor i in restaurantes:\n",
    "\t\tdistancia = math.sqrt((i[0] - casa[0])**2 + (i[1] - casa[1])**2 + + (i[2] - casa[2])**2)\n",
    "\t\tdisntacias.append(distancia)\n",
    "\tminimo = min(disntacias)\n",
    "\tindice = disntacias.index(minimo)\n",
    "\treturn int(indice)\n",
    "\n",
    "dados = {\n",
    "  \"casa\": [\n",
    "    0.42103931,\n",
    "    0.092845,\n",
    "    0.64838459\n",
    "  ],\n",
    "  \"restaurantes\": [\n",
    "    [\n",
    "      0.54884213,\n",
    "      0.25634315,\n",
    "      0.52710366\n",
    "    ],\n",
    "    [\n",
    "      0.39814683,\n",
    "      0.53127311,\n",
    "      0.30449767\n",
    "    ],\n",
    "    [\n",
    "      0.36531785,\n",
    "      0.10544186,\n",
    "      0.65775578\n",
    "    ],\n",
    "    [\n",
    "      0.14256171,\n",
    "      0.61038363,\n",
    "      0.57625647\n",
    "    ]\n",
    "  ]\n",
    "}\n",
    "\n",
    "# Acessando os itens 'casa' e 'restaurantes'\n",
    "casa = dados['casa']\n",
    "restaurantes = dados['restaurantes']\n",
    "\n",
    "restaurante_mais_proximo(casa, restaurantes)"
   ]
  },
  {
   "cell_type": "code",
   "execution_count": 14,
   "metadata": {},
   "outputs": [
    {
     "data": {
      "text/plain": [
       "2"
      ]
     },
     "execution_count": 14,
     "metadata": {},
     "output_type": "execute_result"
    }
   ],
   "source": [
    "dados = {\n",
    "  \"casa\": [\n",
    "    0.42103931,\n",
    "    0.092845,\n",
    "    0.64838459\n",
    "  ],\n",
    "  \"restaurantes\": [\n",
    "    [\n",
    "      0.54884213,\n",
    "      0.25634315,\n",
    "      0.52710366\n",
    "    ],\n",
    "    [\n",
    "      0.39814683,\n",
    "      0.53127311,\n",
    "      0.30449767\n",
    "    ],\n",
    "    [\n",
    "      0.36531785,\n",
    "      0.10544186,\n",
    "      0.65775578\n",
    "    ],\n",
    "    [\n",
    "      0.14256171,\n",
    "      0.61038363,\n",
    "      0.57625647\n",
    "    ]\n",
    "  ]\n",
    "}\n",
    "# Acessando os itens 'casa' e 'restaurantes'\n",
    "casa = dados['casa']\n",
    "restaurantes = dados['restaurantes']\n",
    "\n",
    "restaurante_mais_proximo(casa, restaurantes)"
   ]
  },
  {
   "cell_type": "markdown",
   "metadata": {},
   "source": [
    "Calculadora de Horas\n",
    "Amanda trabalha como desenvolvedora Python em uma Consultoria em TI e recebe o valor de 25 reais por hora, sendo que em média ela trabalha em torno de 8 horas por dia. Para facilitar o acompanhamento de Amanda, desenvolva uma função chamada calculadora_horas que irá receber como entrada respectivamente duas marcações de tempo (com data e hora no formato string) time1 e time2, sendo time2 sempre posterior ao time1. A saída da função será respectivamente uma lista com dois valores float: o primeiro é o total de horas trabalhadas; e o segundo é o valor total que será recebido por Amanda.\n",
    "\n",
    "Observação: A resposta de saída da função deve ser uma lista com os respectivos valores indicados no enunciado, arredondados em 2 casas decimais."
   ]
  },
  {
   "cell_type": "code",
   "execution_count": 23,
   "metadata": {},
   "outputs": [
    {
     "data": {
      "text/plain": [
       "(8.27, 206.75)"
      ]
     },
     "execution_count": 23,
     "metadata": {},
     "output_type": "execute_result"
    }
   ],
   "source": [
    "from datetime import datetime\n",
    "\n",
    "def calculadora_horas(time1, time2):\n",
    "  # Convertendo as strings para datetime\n",
    "  formato = \"%Y-%m-%d %H:%M\"\n",
    "  time1_datetime = datetime.strptime(time1, formato)\n",
    "  time2_datetime = datetime.strptime(time2, formato)\n",
    "\n",
    "  # Calculando a diferença\n",
    "  diferenca = time2_datetime - time1_datetime\n",
    "\n",
    "  # Convertendo a diferença para horas e minutos\n",
    "  horas = diferenca.seconds // 3600\n",
    "  minutos = (diferenca.seconds // 60) % 60\n",
    "  tempo_total = horas + minutos/100\n",
    "  dinheiro = tempo_total * 25\n",
    "  return tempo_total, dinheiro\n",
    "\n",
    "\n",
    "\n",
    "time = {\n",
    "  \"time1\": \"2022-11-14 8:37\",\n",
    "  \"time2\": \"2022-11-15 17:04\"\n",
    "}\n",
    "\n",
    "time1 = time['time1']\n",
    "time2 = time['time2']\n",
    "\n",
    "calculadora_horas(time1, time2)"
   ]
  },
  {
   "cell_type": "markdown",
   "metadata": {},
   "source": [
    "Palíndromo\n",
    "Palíndromo é a característica de uma palavra ser igualmente escrita na ordem normal e reversa, como por exemplo ana e arara. O objetivo deste exercício é criar uma função nomeada palindromo, onde a função recebe uma lista de palavras e a saída será a quantidade de palindromos dentro da lista. Lembre-se de avaliar as palavras independentemente da forma como estiver grafada."
   ]
  },
  {
   "cell_type": "code",
   "execution_count": 30,
   "metadata": {},
   "outputs": [
    {
     "data": {
      "text/plain": [
       "4"
      ]
     },
     "execution_count": 30,
     "metadata": {},
     "output_type": "execute_result"
    }
   ],
   "source": [
    "def palindromo(lista):\n",
    "  count = 0\n",
    "  for i in lista:\n",
    "    if (i[::-1]).upper() == i.upper():\n",
    "      count += 1\n",
    "  return count\n",
    "\n",
    "\n",
    "dados = {\n",
    "  \"lista\": [\n",
    "    \"aboloba\",\n",
    "    \"ana\",\n",
    "    \"arara\",\n",
    "    \"bolo\",\n",
    "    \"osso\"\n",
    "  ]\n",
    "}\n",
    "lista = dados['lista']\n",
    "palindromo(lista)"
   ]
  },
  {
   "cell_type": "markdown",
   "metadata": {},
   "source": [
    "Máximo Divisor Comum\n",
    "O máximo divisor comum entre dois números representa o maior valor que pode dividir estes números e ter como resultado um número inteiro. Para este exercício, você deve implementar uma função nomeada mdc, que irá receber dois números inteiros quaisquer como entrada e deve devolver como saída, o maior divisor comum destes números e os respectivos resultados das divisões inteiras dos números de entrada pelo MDC. Atenção: o retorno da função deve ser uma lista com os respectivos valores."
   ]
  },
  {
   "cell_type": "code",
   "execution_count": null,
   "metadata": {},
   "outputs": [],
   "source": [
    "def mdc(num1, num2):\n",
    "\tpass"
   ]
  },
  {
   "cell_type": "markdown",
   "metadata": {},
   "source": [
    "Frequência de Notas\n",
    "Após aplicar a prova para 40 alunos do módulo de técnicas de programação, o professor gostaria de avaliar qual foi a nota mais frequente e quantos alunos tiraram essa nota. Para isso, você deve desenvolver uma função nomeada nota_mais_frequente, onde será recebida uma lista com 40 notas de alunos e a função deve retornar uma lista com respectivamente a indicação de qual é a nota mais frequente e o valor de quantas vezes ocorreu esta nota.\n",
    "\n",
    "Importante destacar que as notas são valores positivos e inteiros que variam entre 0 e 10. Além disso, caso 2 ou mais notas sejam a mais frequente, o retorno da função deve ser a menor nota."
   ]
  },
  {
   "cell_type": "code",
   "execution_count": 3,
   "metadata": {},
   "outputs": [],
   "source": [
    "def nota_mais_frequente(lista):\n",
    "\tpass"
   ]
  },
  {
   "cell_type": "markdown",
   "metadata": {},
   "source": [
    "Cálculo de IMC\n",
    "O Índice de Massa Corporal (IMC) é um coeficiente de referência para avaliar a saúde das pessoas de acordo com seu peso e altura, onde o IMC segue as seguintes faixas:\n",
    "\n",
    "| IMC | Classificação | |-------------------|------------------------| | <= 18,5 | 1 - Abaixo do Peso | | entre 18,6 e 24,9 | 2 - Peso Ideal | | entre 25,0 e 29,9 | 3 - Sobrepeso | | entre 30,0 e 34,9 | 4 - Obesidade Grau I | | entre 35,0 e 39,9 | 5 - Obesidade Grau II | | >= 40,0 | 6 - Obesidade Grau III |\n",
    "\n",
    "Dadas as faixas e respectivas classificações, desenvolva a função calculo_imc que terá como entrada respectivamente uma lista de pesos em kg e uma lista de alturas em cm de 20 pessoas; e deve calcular o IMC de cada uma delas de acordo com a fórmula IMC = peso(kg)/altura**2 (m). Por fim, calcular qual é a quantidade de pessoas em cada uma das faixas e devolver isto como resposta na forma de uma lista, onde os elementos são ordenados respectivamente segundo a ordem de classificação: isto é, o primeiro elemento será o número de pessoas na classificação 1 - Abaixo do Peso, e assim por diante."
   ]
  },
  {
   "cell_type": "code",
   "execution_count": 4,
   "metadata": {},
   "outputs": [],
   "source": [
    "def calculo_imc(pesos, alturas):\n",
    "\tpass"
   ]
  },
  {
   "cell_type": "markdown",
   "metadata": {},
   "source": [
    "Ordenando pelo MMC\n",
    "O Mínimo Múltiplo Comum (MMC) de dois ou mais números é definido pelo múltiplo comum corresponde a todos os números observados. Por exemplo, o MMC entre 6 e 10 é o 30 devido aos número 2, 3 e 5. O objetivo deste exercício, além de calcular o MMC será ordenar uma lista utilizando o MMC. Assim, desenvolva a função ordenar_mmc, que como entrada irá receber uma lista de números e um número a parte de referência. A função deve calcular O MMC de cada um dos números da lista em relação ao de referência e em seguida ordenar os números originais de acordo com o MMC do menor valor para o maior, como o exemplo a seguir:\n",
    "\n",
    "# lista de entrada\n",
    "lista = [12, 8, 10]\n",
    "\n",
    "# numero de referência\n",
    "ref = 4\n",
    "\n",
    "# utilizando a função\n",
    "print(ordenar_mmc(lista, ref))\n",
    "\n",
    "# Resultado da função, pois o mmcs = [12, 8, 20] \n",
    "[8, 12, 10]"
   ]
  },
  {
   "cell_type": "code",
   "execution_count": 5,
   "metadata": {},
   "outputs": [],
   "source": [
    "def ordenar_mmc(lista, ref):\n",
    "\tpass"
   ]
  },
  {
   "cell_type": "markdown",
   "metadata": {},
   "source": [
    "Conversão de Binário para Decimal\n",
    "O Sistema binário é uma representação da matemática onde a base de referência para a construção dos números é o 2 ao invés do 10 comum na base decimal. Por exemplo, o binário 1001 na base decimal será igual a: 1001 = 1*2^3 + 0*2^2 + 0*2^1 + 1*2^0 = 9. O objetivo deste exercício é desenvolver uma função nomeada como conversor_binario, onde irá receber uma string com o número binário correspondente e a função deve devolver o respectivo número na base decimal."
   ]
  },
  {
   "cell_type": "code",
   "execution_count": 6,
   "metadata": {},
   "outputs": [],
   "source": [
    "def conversor_binario(binario):\n",
    "\tpass"
   ]
  },
  {
   "cell_type": "code",
   "execution_count": null,
   "metadata": {},
   "outputs": [],
   "source": []
  }
 ],
 "metadata": {
  "kernelspec": {
   "display_name": "Python 3",
   "language": "python",
   "name": "python3"
  },
  "language_info": {
   "codemirror_mode": {
    "name": "ipython",
    "version": 3
   },
   "file_extension": ".py",
   "mimetype": "text/x-python",
   "name": "python",
   "nbconvert_exporter": "python",
   "pygments_lexer": "ipython3",
   "version": "3.11.8"
  }
 },
 "nbformat": 4,
 "nbformat_minor": 2
}
