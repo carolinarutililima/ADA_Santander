{
  "cells": [
    {
      "cell_type": "markdown",
      "metadata": {
        "id": "F3P-fNPZLdw3"
      },
      "source": [
        "# **Técnicas de Programação 1 - NumPy**"
      ]
    },
    {
      "cell_type": "markdown",
      "metadata": {
        "id": "lU005PI97BY6"
      },
      "source": [
        "---"
      ]
    },
    {
      "cell_type": "markdown",
      "metadata": {
        "id": "q17dUouw68SO"
      },
      "source": [
        "**1. Introdução**<br>\n",
        "- 1a. Motivação<br>\n",
        "- 1b. Instalação e importação<br>\n",
        "\n",
        "**2. Ndarrays**<br>\n",
        "- 2a. Definição<br>\n",
        "- 2b. Cuidados especiais ao copiar e modificar ndarrays<br>\n",
        "- 2c. Propriedades básicas de ndarrays<br>\n",
        "- 2d. Empilhando ndarrays<br>\n",
        "- 2e. Tipos de dados e tamanho em memória<br>\n",
        "- 2f. Convertendo dypes de ndarrays<br>\n",
        "- 2g. Indexing & slicing<br>\n",
        "- 2h. Máscara booleana e seleção avançada<br>\n",
        "- 2i. Aritmética báscia de ndarrays<br>\n",
        "- 2j. Any, all e múltiplas condições\n",
        "- 2k. Métodos built-in de criação de arrays\n",
        "- 2l. Exercícios I\n",
        "\n",
        "**3. Principais funções matemáticas do NumPy**<br>\n",
        "- 3a. Revisão de aritmética básica de ndarrays<br>\n",
        "- 3b. Broadcasting<br>\n",
        "- 3c. Funções matemáticas do NumPy <br>\n",
        "\n",
        "**4. Álgebra linear com NumPy**<br>\n",
        "- 4a. Álgebra Linear<br>\n",
        "- 4b. Estatísica<br>"
      ]
    },
    {
      "cell_type": "markdown",
      "metadata": {
        "id": "PVXY5CyY6_iv"
      },
      "source": [
        "---"
      ]
    },
    {
      "cell_type": "markdown",
      "metadata": {
        "id": "U-OUDLEHLLIj"
      },
      "source": [
        "## **1. Introdução**"
      ]
    },
    {
      "cell_type": "markdown",
      "metadata": {
        "id": "kxdkrc6kLQrn"
      },
      "source": [
        "O **NumPy** é uma biblioteca fundamental para computação numérica em Python, oferecendo estruturas de dados eficientes, como arrays multidimensionais, e operações matemáticas otimizadas, sendo essencial para análise e manipulação eficaz de dados numéricos."
      ]
    },
    {
      "cell_type": "markdown",
      "metadata": {
        "id": "xSXCYt2g4olv"
      },
      "source": [
        "#### **1a. Motivação**\n",
        "\n",
        "Uma introdução motivacional a alguns fatos fundamentais:\n",
        "\n",
        "* Muitos trabalhos empresariais envolvem cálculos matemáticos avançados e dependem de bibliotecas especializadas.\n",
        "* O NumPy realiza cálculos com Arrays Multidimensionais (em matemática, chamamos de vetores, matrizes ou tensores). Esses objetos fundamentais da biblioteca são basicamente \"listas de listas de listas de ...\", e atualmente são essenciais para estatística, aprendizado de máquina, processamento de imagem, texto, áudio, otimização e simulação de sistemas reais.\n",
        "* Estratégias de otimização de armazenamento e processameto, como o uso de linguagens de mais baixo nível (C e Fortran), a tipagem estática e o armazenamento contíguo em memória, dentre outras, tornam as operações do NumPy muito mais eficientes do que operações baseadas em listas nativas no Python.\n",
        "* Quando organizamos um código para aproveitar as operações do NumPy, é comum dizermos que nós estamos \"vetorizando\" o nosso código. Isso significa que evitamos loops explícitos no código Python, e no lugar deles aproveitamos ao máximo as operações de arrays do NumPy.\n",
        "* Bibliotecas populares, como SciPy, pandas, scikit-learn e statsmodels, dependem das funcionalidades do NumPy para computação científica e ciência de dados."
      ]
    },
    {
      "cell_type": "markdown",
      "metadata": {
        "id": "nsSxWC216phK"
      },
      "source": [
        "\n",
        "\n",
        "> A vetorização no NumPy é a prática de aplicar operações diretamente a arrays multidimensionais, evitando a necessidade de loops explícitos em Python. Essa abordagem aproveita a eficiência das operações vetorizadas implementadas em C, resultando em códigos mais concisos e eficientes. Em vez de iterar manualmente sobre cada elemento, as operações são executadas de forma simultânea em todo o array, proporcionando ganhos significativos de desempenho.\n",
        "\n"
      ]
    },
    {
      "cell_type": "markdown",
      "metadata": {
        "id": "EjqSJVi36xC_"
      },
      "source": [
        "Vamos ver um pequeno exemplo?"
      ]
    },
    {
      "cell_type": "code",
      "execution_count": null,
      "metadata": {
        "id": "3fCLAH3s8Qzc"
      },
      "outputs": [],
      "source": [
        "import numpy as np\n",
        "import time\n",
        "import matplotlib.pyplot as plt\n",
        "\n",
        "# Tamanhos dos conjuntos de dados\n",
        "tamanhos = [10**i for i in range(2, 9)]  # De 100 a 1 bilhão de elementos\n",
        "\n",
        "tempos_nao_vetorizados = []\n",
        "tempos_vetorizados = []\n",
        "\n",
        "for tamanho in tamanhos:\n",
        "    # Criar conjunto de dados\n",
        "    dados = np.random.rand(tamanho)\n",
        "\n",
        "    # Operação Não Vetorizada: Usando loop\n",
        "    start_time = time.time()\n",
        "    resultado_nao_vetorizado = []\n",
        "    for elemento in dados:\n",
        "        resultado_nao_vetorizado.append(elemento ** 2)\n",
        "    tempo_nao_vetorizado = time.time() - start_time\n",
        "    tempos_nao_vetorizados.append(tempo_nao_vetorizado)\n",
        "\n",
        "    # Operação Vetorizada: Usando NumPy\n",
        "    start_time = time.time()\n",
        "    resultado_vetorizado = dados ** 2\n",
        "    tempo_vetorizado = time.time() - start_time\n",
        "    tempos_vetorizados.append(tempo_vetorizado)\n",
        "\n",
        "# Plotar os tempos em um único gráfico de linha\n",
        "plt.figure(figsize=(10, 5))\n",
        "\n",
        "# Tempos Não Vetorizados\n",
        "plt.plot(tamanhos, tempos_nao_vetorizados, marker='o', linestyle='-', color='blue', label='Não Vetorizado')\n",
        "\n",
        "# Tempos Vetorizados\n",
        "plt.plot(tamanhos, tempos_vetorizados, marker='o', linestyle='-', color='green', label='Vetorizado')\n",
        "\n",
        "plt.xscale('log')  # Escala logarítmica para melhor visualização\n",
        "plt.title('Comparação de Tempo entre Operações Vetorizadas e Não Vetorizadas')\n",
        "plt.xlabel('Tamanho do Conjunto de Dados')\n",
        "plt.ylabel('Tempo (s)')\n",
        "plt.legend()\n",
        "\n",
        "plt.show()"
      ]
    },
    {
      "cell_type": "code",
      "execution_count": null,
      "metadata": {
        "id": "JUOaRk2a9Cjy"
      },
      "outputs": [],
      "source": [
        "# Vamos comparar mais de perto os tempos do código não-vetorizado vs vetorizado?\n",
        "print([f'{_:.03f}s' for _ in tempos_nao_vetorizados])\n",
        "print([f'{_:.03f}s' for _ in tempos_vetorizados])\n",
        "print(f'A execução mais custosa é {tempos_nao_vetorizados[-1]/tempos_vetorizados[-1]:.2f} vezes mais demorada na versão não vetorizada.')"
      ]
    },
    {
      "cell_type": "markdown",
      "metadata": {
        "id": "-F0H7VoRCli_"
      },
      "source": [
        "Você notou que a complexidade da operação do exemplo acima é linear?<br>\n",
        "E se estivéssesos trabalhando com um problema de complexidade quadrática?"
      ]
    },
    {
      "cell_type": "code",
      "execution_count": null,
      "metadata": {
        "id": "CKENF9sACmNl"
      },
      "outputs": [],
      "source": [
        "import numpy as np\n",
        "import time\n",
        "import matplotlib.pyplot as plt\n",
        "\n",
        "# Tamanhos dos conjuntos de dados\n",
        "tamanhos = [10**i for i in range(2, 5)]  # De 100 a 100 mil elementos\n",
        "\n",
        "tempos_nao_vetorizados = []\n",
        "tempos_vetorizados = []\n",
        "\n",
        "for tamanho in tamanhos:\n",
        "    # Criar conjunto de dados\n",
        "    dados = np.random.rand(tamanho)\n",
        "\n",
        "    # Operação Não Vetorizada: Usando loops aninhados\n",
        "    start_time = time.time()\n",
        "    resultado_nao_vetorizado = []\n",
        "    for i in range(len(dados)):\n",
        "        for j in range(len(dados)):\n",
        "            resultado_nao_vetorizado.append(dados[i] * dados[j])\n",
        "    soma_produto_pares_nao_vetorizada = sum(resultado_nao_vetorizado)\n",
        "    tempo_nao_vetorizado = time.time() - start_time\n",
        "    tempos_nao_vetorizados.append(tempo_nao_vetorizado)\n",
        "\n",
        "    # Operação Vetorizada: Usando NumPy\n",
        "    start_time = time.time()\n",
        "    soma_produto_pares_vetorizada = np.sum(np.outer(dados, dados))\n",
        "    tempo_vetorizado = time.time() - start_time\n",
        "    tempos_vetorizados.append(tempo_vetorizado)\n",
        "\n",
        "# Plotar os tempos em um único gráfico de linha\n",
        "plt.figure(figsize=(10, 5))\n",
        "\n",
        "# Tempos Não Vetorizados\n",
        "plt.plot(tamanhos, tempos_nao_vetorizados, marker='o', linestyle='-', color='blue', label='Não Vetorizado')\n",
        "\n",
        "# Tempos Vetorizados\n",
        "plt.plot(tamanhos, tempos_vetorizados, marker='o', linestyle='-', color='green', label='Vetorizado')\n",
        "\n",
        "# plt.xscale('log')  # Escala logarítmica para melhor visualização\n",
        "plt.title('Comparação de Tempo entre Operações Vetorizadas e Não Vetorizadas (Complexidade Quadrática)')\n",
        "plt.xlabel('Tamanho do Conjunto de Dados')\n",
        "plt.ylabel('Tempo (s)')\n",
        "plt.legend()\n",
        "\n",
        "plt.show()"
      ]
    },
    {
      "cell_type": "code",
      "execution_count": null,
      "metadata": {
        "id": "tq5owPe9FkbH"
      },
      "outputs": [],
      "source": [
        "# Vamos comparar mais de perto os tempos do código não-vetorizado vs vetorizado?\n",
        "print([f'{_:.03f}s' for _ in tempos_nao_vetorizados])\n",
        "print([f'{_:.03f}s' for _ in tempos_vetorizados])\n",
        "print(f'A execução mais custosa é {tempos_nao_vetorizados[-1]/tempos_vetorizados[-1]:.2f} vezes mais demorada na versão não vetorizada.')"
      ]
    },
    {
      "cell_type": "markdown",
      "metadata": {
        "id": "h5rB_PDcD-uy"
      },
      "source": [
        "É impressionante como a eficiência computacional pode virar um problema rapidamente, se estivermos lidando com operações de complexidade mais elevada!"
      ]
    },
    {
      "cell_type": "markdown",
      "metadata": {
        "id": "sIGulJqM-WlS"
      },
      "source": [
        "> \"*Se você está escrevendo um loop, você está fazendo errado.*\"<br>\n",
        "Kreischer, V. A., 2020: reclamando da qualidade duvidosa do meu código.\n",
        "\n",
        "O excesso de loops é um hábito comum em programadores habituados com linguagens de progarmação de mais baixo nível.\n",
        "\n",
        "Vale mencionar: um bom guia para quem deseja se aprofundar no \"jeito Python\" de fazer as coisas, é o livro [The Pythonic Way](https://www.amazon.com.br/Pythonic-Way-Architects-Conventions-Development/dp/9391030122).\n",
        "\n",
        "Mas, ainda que de maneira não tão formal e aprofundada, nesta seção discutiremos (e experimentaremos) bastante as potencialidades do NumPy e do \"jeito Python\" de resolver problemas intrinsicamente iterativos.\n",
        "\n",
        "E será na seção seguinte, sobre Pandas, que vamos perceber o quanto os conceitos que serão apresentados aqui permeiam muito mais do dia-a-dia de um profissional de dados do que muitas vezes imaginamos."
      ]
    },
    {
      "cell_type": "markdown",
      "metadata": {
        "id": "75efc9VAMYQy"
      },
      "source": [
        "#### **1b. Instalação e importação**"
      ]
    },
    {
      "cell_type": "markdown",
      "metadata": {
        "id": "tPufhS-tMjG-"
      },
      "source": [
        "Assim, para que possamos dar nosso primeiros pasos com o NumPy, vamos falar rapidamente sobre instalação e importação.\n",
        "\n",
        "É extremamente provável que sua instalação Python já inclua por padrão a instalação do pacote NumPy.\n",
        "\n",
        "Caso não, você pode:\n",
        "- Simplesmente instalar o pacote Anaconda com a configuração padrão (https://www.anaconda.com/distribution/), que já inclúi por padrão a biblioteca NumPy e diversas bibliotecas científicas e ligadas a Machine Learning e Data Science.\n",
        "- Utilizar o gerenciador de pacotes de sua preferência para instalar a bibliteca via linha de comando. Abra um terminal e digite `conda install numpy` ou `pip install numpy`, por exemplo.\n",
        "\n",
        "Por fim, para checar a sua intalação e também para fazer uso do pacote, basta importar o NumPy como outra biblioteca qualquer, fazendo"
      ]
    },
    {
      "cell_type": "code",
      "execution_count": null,
      "metadata": {
        "id": "9u3fQfSiN1M2"
      },
      "outputs": [],
      "source": [
        "import numpy as np"
      ]
    },
    {
      "cell_type": "markdown",
      "metadata": {
        "id": "Hf3o0biZN2F-"
      },
      "source": [
        "Notas:\n",
        "- Note que no Google Colab o NumPy já está instalado por padrão.\n",
        "- É uma prática comum apelidar o pacote de *np*"
      ]
    },
    {
      "cell_type": "markdown",
      "metadata": {
        "id": "0XiasWUKMC5L"
      },
      "source": [
        "## **2. Ndarrays**"
      ]
    },
    {
      "cell_type": "markdown",
      "metadata": {
        "id": "uNzzoSelqVYm"
      },
      "source": [
        "#### **2a. Definição**"
      ]
    },
    {
      "cell_type": "markdown",
      "metadata": {
        "id": "TBGGGNSOMljR"
      },
      "source": [
        "Na introdução, comentamos que a estrutura de dados básica do NumPy é um \"array multidimensional\". Esse objeto do NumPy se chama ndarray. Um mnemônico para ajudar a lembrar é lembrar pensar em \"N Dimensões ARRAY\", ou \"NDARRAY\". Basta lembrar que o \"nd\" significa \"n-dimensional\", pois também podemos ter tabelas multidimensionais.\n",
        "\n",
        "Essa estrutura é semelhante aos arrays de outras linguagens de programação. Pode ser uma lista de valores, uma tabela, ou uma tabela de tabelas.\n",
        "\n",
        "O mais comum é usarmos ndarrays como listas ou tabelas de valores.\n",
        "\n",
        "No caso de uma lista, nós temos um ndarray de uma dimensão. Matematicamente, esse objeto é equivalente a um **vetor**.\n",
        "\n",
        "O método mais comum para criar um ndarray é através da função `np.array`.<br>Assim, para criar nosso primeiro \"vetor\" com NumPy, podemos fazer:"
      ]
    },
    {
      "cell_type": "code",
      "execution_count": null,
      "metadata": {
        "id": "qF_hbNiAMkMG"
      },
      "outputs": [],
      "source": [
        "vetor = np.array([1, 2, 3])\n",
        "print(vetor)"
      ]
    },
    {
      "cell_type": "markdown",
      "metadata": {
        "id": "PoeSeyKmMw-N"
      },
      "source": [
        "Se olharmos o tipo da variável vetor, veremos que ela é do tipo NumPy.ndarray."
      ]
    },
    {
      "cell_type": "code",
      "execution_count": null,
      "metadata": {
        "id": "RiIipYjCMuwp"
      },
      "outputs": [],
      "source": [
        "print(type(vetor))"
      ]
    },
    {
      "cell_type": "markdown",
      "metadata": {
        "id": "1RACWNc4QC90"
      },
      "source": [
        "Neste ponto, a diferença mais marcante dos ndarrays para as listas do python nativo, é a **tipagem estática**, sobre a qual tambpem falamos na introdução. No contexto de ndarrays, todos os elementos de um array precisam ter o mesmo tipo de dados."
      ]
    },
    {
      "cell_type": "code",
      "execution_count": null,
      "metadata": {
        "id": "RCFgKdDmQSUQ"
      },
      "outputs": [],
      "source": [
        "vetor = np.array(['Palavra', 3.14, False])"
      ]
    },
    {
      "cell_type": "code",
      "execution_count": null,
      "metadata": {
        "id": "eI6_EBOrQVLQ"
      },
      "outputs": [],
      "source": [
        "print(type(vetor[0]))\n",
        "print(type(vetor[1]))\n",
        "print(type(vetor[2]))\n",
        "print(type(vetor[3]))"
      ]
    },
    {
      "cell_type": "markdown",
      "metadata": {
        "id": "8s5w0ikDQoPQ"
      },
      "source": [
        "Ou seja, o NumPy fará uma coerção automática para garantir que todos os elementos tenham o mesmo tipo. Neste caso, todos os elementos serão convertidos para strings, resultando em um ndarray do tipo string. Você pode ver o tipo geral dos dados que fazem parte de um array da segunte forma:"
      ]
    },
    {
      "cell_type": "code",
      "execution_count": null,
      "metadata": {
        "id": "yD1IHOebQ0PW"
      },
      "outputs": [],
      "source": [
        "vetor.dtype"
      ]
    },
    {
      "cell_type": "markdown",
      "metadata": {
        "id": "E9hAHR_lQ0df"
      },
      "source": [
        "Você que já teve experiência com Pandas:<br>\n",
        "Já se atrapalhou com coerções de tipo automáticas acontecendo nas colunas de um dataframe?"
      ]
    },
    {
      "cell_type": "markdown",
      "metadata": {
        "id": "bDUmuYf6M1fG"
      },
      "source": [
        "Continuando:<br>\n",
        "Além de um vetor, podemos criar também uma tabela com duas dimensões. Nesse caso, temos uma **matriz**."
      ]
    },
    {
      "cell_type": "code",
      "execution_count": null,
      "metadata": {
        "id": "Xhu3_0nWOiCC"
      },
      "outputs": [],
      "source": [
        "matriz = np.array([[1, 2], [3, 4]])\n",
        "print(matriz)"
      ]
    },
    {
      "cell_type": "markdown",
      "metadata": {
        "id": "WXe5d_36OiVf"
      },
      "source": [
        "É possível, também, aumentar o número de dimensões.<br>\n",
        "Nesse caso, se temos 3 dimensões, por exemplo, podemos considerar que temos uma lista de tabelas. Se temos 4 dimensões, então podemos dzer que temos uma tabela cujos elementos são outras tabelas. Assim, quanto mais dimensões, nós vamos empilhando em uma lista objetos com menos dimensões. Se forem 5 dimensões, temos uma lista de ndarrays de 4 dimensões (ou uma lista de tabelas de tabelas). E assim por diante.\n",
        "\n",
        "Matematicamente, sempre que estamos diante de um objeto de 3 ou mais dimensões, nós chamamos este objeto de **tensor**."
      ]
    },
    {
      "cell_type": "code",
      "execution_count": null,
      "metadata": {
        "id": "54sRGeaJMzVs"
      },
      "outputs": [],
      "source": [
        "tensor = np.array([[[1, 2], [3, 4]], [[1, 0],[0, 1]]])\n",
        "print(tensor)"
      ]
    },
    {
      "cell_type": "markdown",
      "metadata": {
        "id": "S5RxZo7iM-tL"
      },
      "source": [
        "Note que a variável tensor nada mais é que duas tabelas.\n",
        "\n",
        "Uma representação visual de ndarrays podem ajudar a entender melhor o que está acontecendo.\n",
        "\n",
        "<img src=https://s3-sa-east-1.amazonaws.com/lcpi/b50bd331-732b-48a4-9d46-01f20c15ab29.png width=500>\n",
        "\n",
        "Ainda, é comum falarmos de cada dimensão de um ndarray como um \"eixo\".<br>Assim, se um ndarray tem 3 dimensões, nós podemos falar da \"1ª dimensão do array\" (o eixo 0 do array), da \"2ª dimensão do array\" (o eixo 1 do array) e da \"3ª dimensão do array\" (eixo 2 do array).<br>Trazendo alguma abstração para a nossa forma de ver a estrutura, um ndarray com formato (3, 3, 2) poderia ser entendido como uma lista ao longo do seu primeiro eixo (eixo 0), por exemplo. Essa lista seria composta por 3 matrizes de tamanho 3 x 2. De forma totalmente equivalente, a gente poderia pensar que ele é uma lista com 2 matrizes 3 x 3 ao longo do seu terceiro eixo (eixo 2).\n",
        "\n",
        "<img src=https://s3-sa-east-1.amazonaws.com/lcpi/1e527c6a-ea64-46e3-bd31-ffba06749000.png width=600>\n",
        "\n",
        "O ndarray é a estrutura de dados básica do NumPy, e é a estrutura que usaremos sempre. Todo o poder do NumPy vem da implementação desta estrutura de dados e das operações a ela relacionadas, que são bem mais eficientes do que as operações nativas que poderiam incindir sobre listas comuns do Python.\n",
        "\n",
        "Esses objetos também são muito comuns em matemática, pois representam basicamente vetores e matrizes. Assim, é bem direto \"vetorizar\" nosso código escrevendo-o de forma bem parecida com o que faríamos em notação matemática.\n",
        "\n",
        "Obs: Falamos antes também de tensores. Não é importante entender o que eles são para poder usar o NumPy. Apenas cálculos muito específicos se utilizam da matemática de tensores. Para a maioria dos casos, basta ter a visão que demos anteriormente, sobre como eles são basicamente \"matrizes com 3 ou mais dimensões\". Isso significa que eles podem ser uma lista de tabelas, uma tabela de tabelas, uma lista de tabelas de tabelas, uma tabela de tabelas de tabelas, e assim por diante."
      ]
    },
    {
      "cell_type": "markdown",
      "metadata": {
        "id": "ZXZJT-UjSnrW"
      },
      "source": [
        "#### **2b. Cuidados especiais ao copiar e modificar ndarrays**"
      ]
    },
    {
      "cell_type": "markdown",
      "metadata": {
        "id": "GNmg32iVNM-_"
      },
      "source": [
        "Antes de começar a ver as propriedades básicas de um ndarray, é importante ter uma questão muito importante em mente. Assim como os arrays nativos do Python, devido à forma como o NumPy trabalha com ndarrays na memória do computador, eles se comportam da forma mostrada abaixo."
      ]
    },
    {
      "cell_type": "code",
      "execution_count": null,
      "metadata": {
        "id": "JG4IxfaBNJ-S"
      },
      "outputs": [],
      "source": [
        "a = np.array([1, 2, 3])\n",
        "b = a\n",
        "b"
      ]
    },
    {
      "cell_type": "code",
      "execution_count": null,
      "metadata": {
        "id": "Zl9L1cB3NTm3"
      },
      "outputs": [],
      "source": [
        "b[0] = 100\n",
        "b"
      ]
    },
    {
      "cell_type": "code",
      "execution_count": null,
      "metadata": {
        "id": "Jk9iOVcUNVVk"
      },
      "outputs": [],
      "source": [
        "a"
      ]
    },
    {
      "cell_type": "markdown",
      "metadata": {
        "id": "yDD9K3VUTVll"
      },
      "source": [
        "#### **2c. Propriedades básicas de ndarrays**"
      ]
    },
    {
      "cell_type": "markdown",
      "metadata": {
        "id": "2ntMdHMWOLMI"
      },
      "source": [
        "##### Dimensão e formato\n",
        "\n",
        "Como vimos antes, é possível criar um ndarray com diferentes dimensões e formatos.<br>Cada ndarray tem os atributos **ndim** e **shape**, que guardam estas informações. Logo, para sabermos como é o nosso ndarray, basta acessarmos estes atributos."
      ]
    },
    {
      "cell_type": "code",
      "execution_count": null,
      "metadata": {
        "id": "PNx7jSx_NWVJ"
      },
      "outputs": [],
      "source": [
        "print(vetor.ndim)\n",
        "print(vetor.shape)"
      ]
    },
    {
      "cell_type": "code",
      "execution_count": null,
      "metadata": {
        "id": "6_t5sJCaOP_e"
      },
      "outputs": [],
      "source": [
        "print(matriz.ndim)\n",
        "print(matriz.shape)"
      ]
    },
    {
      "cell_type": "code",
      "execution_count": null,
      "metadata": {
        "id": "geZ2ZCAKOS-A"
      },
      "outputs": [],
      "source": [
        "print(tensor.ndim)\n",
        "print(tensor.shape)"
      ]
    },
    {
      "cell_type": "markdown",
      "metadata": {
        "id": "Y6bOck0TPsYN"
      },
      "source": [
        "Isso é extremamente importante para nos ajudar quando temos um ndarray muito grande e precisamos ter uma ideia de seu tamanho e dimensionalidade. Além disso, esses atributos também nos ajudam quando queremos criar funções genéricas que atuem em ndarrays.\n",
        "\n",
        "A partir do formato do array, nós poderíamos obter também o número de elementos do array. Porém, objetos ndarray já têm o atributo `size`, para facilitar nosso trabalho.\n"
      ]
    },
    {
      "cell_type": "code",
      "execution_count": null,
      "metadata": {
        "id": "2-_Wjg10Oo2c"
      },
      "outputs": [],
      "source": [
        "print(vetor.size)"
      ]
    },
    {
      "cell_type": "code",
      "execution_count": null,
      "metadata": {
        "id": "6ZZ-z_RNPxiu"
      },
      "outputs": [],
      "source": [
        "print(matriz.size)"
      ]
    },
    {
      "cell_type": "code",
      "execution_count": null,
      "metadata": {
        "id": "1ScWl-AjPyyd"
      },
      "outputs": [],
      "source": [
        "print(tensor.size)"
      ]
    },
    {
      "cell_type": "markdown",
      "metadata": {
        "id": "JKNEruFLQGkS"
      },
      "source": [
        "#### **2d. Empilhando ndarrays**\n",
        "\n",
        "Outra forma de obter arrays com dimensões ou formatos diferentes é juntar e empilhar arrays. Podemos tanto empilhar um array em cima do outro (um \"empilhamento vertical\") usando a função `np.vstack`, quanto tentar colocar um ao lado do outro (um \"empilhamento horizontal\") usando a função `np.hstack`."
      ]
    },
    {
      "cell_type": "code",
      "execution_count": null,
      "metadata": {
        "id": "-3EEy3cPQE9m"
      },
      "outputs": [],
      "source": [
        "v1 = np.array([1,2,3,4])\n",
        "v2 = np.array([5,6,7,8])\n",
        "np.vstack([v1, v2])"
      ]
    },
    {
      "cell_type": "code",
      "execution_count": null,
      "metadata": {
        "id": "8qPvshojQO6q"
      },
      "outputs": [],
      "source": [
        "np.vstack([v1, v2, v2, v2])"
      ]
    },
    {
      "cell_type": "code",
      "execution_count": null,
      "metadata": {
        "id": "ht0DiIEUQPTC"
      },
      "outputs": [],
      "source": [
        "h1 = np.array([\n",
        "  [1, 1, 1, 1],\n",
        "  [1, 1, 1, 1]\n",
        "])\n",
        "\n",
        "h2 = np.array([\n",
        "  [0,0],\n",
        "  [0,0]\n",
        "])\n",
        "\n",
        "np.hstack((h1, h2))"
      ]
    },
    {
      "cell_type": "markdown",
      "metadata": {
        "id": "vt0MnmZ5T3Vp"
      },
      "source": [
        "#### **2e. Tipos de dados e tamanho em memória**\n",
        "\n",
        "Conforme mencionamos rapidamente na introdução da aula, um array do NumPy tem a propriedade `dtype`, que nos dá o tipo dos elementos que o compõem.\n",
        "> Note que usei \"o tipo\", no singular.Vale relembrar, conforme dito na introdução:<br>Todos os elementos de um ndarray tem o mesmo tipo de dados. Você pode até tentar guardar dados de tipos diferentes, mas o NumPy forçará uma coerção de tipos para garantir esta propriedade.\n",
        "\n"
      ]
    },
    {
      "cell_type": "code",
      "execution_count": null,
      "metadata": {
        "id": "AzFso1NGTpf8"
      },
      "outputs": [],
      "source": [
        "vetor = np.array([1, 2, 3, 4, 5, 6, 7])\n",
        "vetor.dtype"
      ]
    },
    {
      "cell_type": "markdown",
      "metadata": {
        "id": "EJXlSZmJUC6h"
      },
      "source": [
        "Quando nós construímos o ndarray, se não passarmos explicitamente qual é o `dtype`, ele infere a partir dos valores que passamos."
      ]
    },
    {
      "cell_type": "code",
      "execution_count": null,
      "metadata": {
        "id": "cccuEerOUBaq"
      },
      "outputs": [],
      "source": [
        "vetor = np.array([1.0, 2.0, 3.0, 4.0, 5.0, 6.0, 7.0])\n",
        "vetor.dtype"
      ]
    },
    {
      "cell_type": "markdown",
      "metadata": {
        "id": "F7olnvoKUHp0"
      },
      "source": [
        "Para passar esse parâmetro explicitamente, basta utilizar um segundo argumento na função `np.array`. Para esses arrays, nós dizemos que a consistência dos dados é **forte**. Isso significa que, se criarmos um vetor de números inteiros, por exemplo, então todos os elementos que colocarmos no nosso vetor serão necessariamente transformados em inteiros, conforme o exemplo a seguir:"
      ]
    },
    {
      "cell_type": "code",
      "execution_count": null,
      "metadata": {
        "id": "4OisvvG0UFlC"
      },
      "outputs": [],
      "source": [
        "vetor = np.array([1.0, 2.0, 3.0, 4.0, 5.0, 6.0, 7.0], dtype=np.int32)\n",
        "vetor.dtype"
      ]
    },
    {
      "cell_type": "markdown",
      "metadata": {
        "id": "S8oWxTGzULeM"
      },
      "source": [
        "Por outro lado, se tentarmos criar um vetor passando um tipo explicitamente, e em seguida tentando inserir no vetor um item que não possa ser convertido para o tipo explicitado, teremos uma mensagem de erro."
      ]
    },
    {
      "cell_type": "code",
      "execution_count": null,
      "metadata": {
        "id": "2gWMfV2r3uqn"
      },
      "outputs": [],
      "source": [
        "vetor = np.array([1.0, 2.0, 3.0, \"Teste\"], dtype=np.int32)\n",
        "vetor.dtype"
      ]
    },
    {
      "cell_type": "markdown",
      "metadata": {
        "id": "NmH3364N4KHn"
      },
      "source": [
        "No entanto, precisamos ficar atentos: a conversão de tipos pode acontecer de forma indesejada mesmo em nos quais não explicitamos o dtype desejado na criação do ndarray:"
      ]
    },
    {
      "cell_type": "code",
      "execution_count": null,
      "metadata": {
        "id": "oYJ8TtVmUKAm"
      },
      "outputs": [],
      "source": [
        "a = np.array([1, 2, 3])\n",
        "a[0] = 10\n",
        "a"
      ]
    },
    {
      "cell_type": "code",
      "execution_count": null,
      "metadata": {
        "id": "lRaQr_SfUUC3"
      },
      "outputs": [],
      "source": [
        "a[0] = 1.23\n",
        "a"
      ]
    },
    {
      "cell_type": "markdown",
      "metadata": {
        "id": "Y6exeHvEUZLY"
      },
      "source": [
        "Vale comentar: o valor padrão de *dtype* depende do Python instalado. Se o Python instalado for de 64 bits, o padrão será tipos `int` ou `float` de 64 bits de memória (`int64` ou `float64`). Caso seu Python seja 32 bits, o padrão será `int32` e `float32`.\n",
        "\n",
        "Essa diferença afeta a precisão dos cálculos. Quanto mais espaço em memória utilizado (maior o número de bits), maior a precisão.\n",
        "\n",
        "Como o NumPy é feito para cálculos numéricos, há uma grande preocupação quanto a esta precisão. E é por isso que os tipos de dados numéricos básicos do NumPy são análogos aos tipos de dados nativos do Python, mas em geral com um número à direita. Esse número representa o seu nível de precisão computacional.\n",
        "\n",
        "Alguns exemplos de tipos de dados do NumPy (e provavelmente os mais comuns) são:\n",
        "\n",
        "* `np.int32`\n",
        "* `np.int64`\n",
        "* `np.float32`\n",
        "* `np.float64`\n",
        "\n",
        "Como exemplo, podemos criar uma outra array, `a16`, com o tipo inteiro de 16 bits."
      ]
    },
    {
      "cell_type": "code",
      "execution_count": null,
      "metadata": {
        "id": "E3ECowgdUVdx"
      },
      "outputs": [],
      "source": [
        "a16 = np.array([1, 2, 3], dtype=np.int16)\n",
        "a16"
      ]
    },
    {
      "cell_type": "markdown",
      "metadata": {
        "id": "ZPIhWvkLUeDJ"
      },
      "source": [
        "Note que por ser um tipo diferente do padrão, ele ressalta ao mostrar o array na tela.\n",
        "\n",
        "Para descobrir o espaço que cada elemento ocupa individualmente na memória podemos acessar o atributo `itemsize`."
      ]
    },
    {
      "cell_type": "code",
      "execution_count": null,
      "metadata": {
        "id": "XXFZo_WkUbsQ"
      },
      "outputs": [],
      "source": [
        "a16.itemsize"
      ]
    },
    {
      "cell_type": "markdown",
      "metadata": {
        "id": "46zZaJyCUi4x"
      },
      "source": [
        "\n",
        "O retorno foi igual a 2.<br>\n",
        "Mas não havíamos dito que se tratava de um tipo inteiro de \"16 bits\"?\n",
        "\n",
        "O NumPy nos mostra o espaço em memória em bytes, e não em bits. Cada byte equivale a 8 bits. Logo, 16 bits são o mesmo que 2 bytes.\n",
        "\n",
        "$$\\frac{16}{8} = 2$$\n",
        "\n",
        "Da mesma forma, se fizermos um array padrão em um Python de 64 bits, temos um `itemsize` de 8."
      ]
    },
    {
      "cell_type": "code",
      "execution_count": null,
      "metadata": {
        "id": "cqQ16_uGUfz2"
      },
      "outputs": [],
      "source": [
        "a = np.array([1, 2, 3])\n",
        "a.dtype"
      ]
    },
    {
      "cell_type": "code",
      "execution_count": null,
      "metadata": {
        "id": "KW0RxqT8UmQR"
      },
      "outputs": [],
      "source": [
        "a.itemsize"
      ]
    },
    {
      "cell_type": "markdown",
      "metadata": {
        "id": "lgRCfuFiU8hK"
      },
      "source": [
        "\n",
        "Isso acontece porque o padrão de 64 bits equivale a 8 bytes.\n",
        "$$\\frac{64}{8} = 8$$\n",
        "\n",
        "A quantidade de elementos multiplicado pelo tamanho de cada elemento em memória nos dará o tamanho total de bytes que o array inteiro ocupa na memória do computador."
      ]
    },
    {
      "cell_type": "code",
      "execution_count": null,
      "metadata": {
        "id": "r2xbieGGUnjJ"
      },
      "outputs": [],
      "source": [
        "# quantidade de elementos total\n",
        "a.size"
      ]
    },
    {
      "cell_type": "code",
      "execution_count": null,
      "metadata": {
        "id": "2uOoHLsEVAjC"
      },
      "outputs": [],
      "source": [
        "# tamanho em memória do vetor \"a\"\n",
        "a.size * a.itemsize"
      ]
    },
    {
      "cell_type": "markdown",
      "metadata": {
        "id": "nt60FmmjVFcu"
      },
      "source": [
        "Não precisamos, porém, ficar calculando esse valor se quisermos saber essa informação. Podemos simplesmente acessar o atributo `nbytes`, que representa o tamanho total em bytes ocupado pelo array."
      ]
    },
    {
      "cell_type": "code",
      "execution_count": null,
      "metadata": {
        "id": "Ys6oDExFVC2h"
      },
      "outputs": [],
      "source": [
        "a.nbytes"
      ]
    },
    {
      "cell_type": "markdown",
      "metadata": {
        "id": "9lToCFRVVJcc"
      },
      "source": [
        "> Nota: Geralmente não é necessário reduzir o número de bits a não ser que você tenha certeza que um tamanho reduzido vai atender sua necessidade e você quer ser **extremamente** eficiente."
      ]
    },
    {
      "cell_type": "markdown",
      "metadata": {
        "id": "uvzIlRaffNEy"
      },
      "source": [
        "#### **2f.Convertendo dypes de ndarrays**"
      ]
    },
    {
      "cell_type": "markdown",
      "metadata": {
        "id": "YWwwL_tdVMQr"
      },
      "source": [
        "Podemos converter os tipos de dados do array do NumPy depois da sua criação de forma manual, usando a função `astype`."
      ]
    },
    {
      "cell_type": "code",
      "execution_count": null,
      "metadata": {
        "id": "DihN8zwTVHM_"
      },
      "outputs": [],
      "source": [
        "a = np.array([1., 2., 3.])\n",
        "a.dtype\n"
      ]
    },
    {
      "cell_type": "code",
      "execution_count": null,
      "metadata": {
        "id": "Ksbk9iOdVTdQ"
      },
      "outputs": [],
      "source": [
        "b = a.astype('int32').copy()\n",
        "b"
      ]
    },
    {
      "cell_type": "code",
      "execution_count": null,
      "metadata": {
        "id": "4a4qz2inVUoR"
      },
      "outputs": [],
      "source": [
        "b.dtype"
      ]
    },
    {
      "cell_type": "code",
      "execution_count": null,
      "metadata": {
        "id": "qD6Ev3HRft0l"
      },
      "outputs": [],
      "source": [
        "a = np.array([1.5, 2.5, 3.5])\n",
        "a\n",
        "a.dtype"
      ]
    },
    {
      "cell_type": "code",
      "execution_count": null,
      "metadata": {
        "id": "0ZYcIlskgV4N"
      },
      "outputs": [],
      "source": [
        "a.astype('int32')"
      ]
    },
    {
      "cell_type": "code",
      "execution_count": null,
      "metadata": {
        "id": "ldds-618hQ8H"
      },
      "outputs": [],
      "source": [
        "a = np.array([\"A\", \"B\", \"C\"])\n",
        "a\n",
        "a.dtype"
      ]
    },
    {
      "cell_type": "code",
      "execution_count": null,
      "metadata": {
        "id": "P-qSkrI2fxGW"
      },
      "outputs": [],
      "source": [
        "a.astype('int32')"
      ]
    },
    {
      "cell_type": "markdown",
      "metadata": {
        "id": "hsKFEI5RVYP8"
      },
      "source": [
        "#### **2g.Indexing & slicing**\n",
        "\n",
        "Vamos montar duas matrizes, uma usando Python nativo e outra usando NumPy, para podermos comparar como nós acessamos os elementos de cada uma."
      ]
    },
    {
      "cell_type": "code",
      "execution_count": null,
      "metadata": {
        "id": "sky5N3niVU9K"
      },
      "outputs": [],
      "source": [
        "np_mat = np.array([\n",
        "  [1, 2,  3,  4,  5,  6,  7],\n",
        "  [8, 9, 10, 11, 12, 13, 14]\n",
        "])\n",
        "\n",
        "print(np_mat)"
      ]
    },
    {
      "cell_type": "code",
      "execution_count": null,
      "metadata": {
        "id": "ww7HoGy6zXAw"
      },
      "outputs": [],
      "source": [
        "py_mat = [\n",
        "  [1, 2,  3,  4,  5,  6,  7],\n",
        "  [8, 9, 10, 11, 12, 13, 14]\n",
        "]\n",
        "\n",
        "print(py_mat)"
      ]
    },
    {
      "cell_type": "markdown",
      "metadata": {
        "id": "zOEohxjdzlVF"
      },
      "source": [
        "Podemos acessar um elemento específico de forma similar a uma lista nativa do Python, utilizando a sintaxe de colchetes. Porém, no NumPy, quando temos 2 ou mais dimensões, nós podemos passar a posição que queremos buscar atráves de números separados por vírgulas.\n",
        "\n",
        "Se quisermos, então, pegar o número 13 nos arrays acima, que está na posição \\[1,5\\] (linha 1, coluna 5, lembrando que o Python começa os índices sempre pelo 0), no Python teríamos que usar a sintaxe abaixo."
      ]
    },
    {
      "cell_type": "code",
      "execution_count": null,
      "metadata": {
        "id": "1EIhdUV6zjI1"
      },
      "outputs": [],
      "source": [
        "py_mat[1][5]"
      ]
    },
    {
      "cell_type": "markdown",
      "metadata": {
        "id": "ofTyy34ozp9h"
      },
      "source": [
        "Já para um ndarray com duas dimensões (2D), podemos usar tanto a sintaxe nativa quanto a sintaxe mais simples, com uma vírgula separando os eixos."
      ]
    },
    {
      "cell_type": "code",
      "execution_count": null,
      "metadata": {
        "id": "0quoq7NIznno"
      },
      "outputs": [],
      "source": [
        "np_mat[1][5]"
      ]
    },
    {
      "cell_type": "code",
      "execution_count": null,
      "metadata": {
        "id": "3o7fH2pUjELL"
      },
      "outputs": [],
      "source": [
        "np_mat[1, 5]"
      ]
    },
    {
      "cell_type": "markdown",
      "metadata": {
        "id": "GrSfeek5ztl1"
      },
      "source": [
        "E assim, todas as demais funcionalidades de sintaxe do Python nativo também são herdadas pelos objetos NumPy. Usar números negativos, por exemplo, funciona como uma indexação de trás para frente."
      ]
    },
    {
      "cell_type": "code",
      "execution_count": null,
      "metadata": {
        "id": "H-cJ5xohzrsi"
      },
      "outputs": [],
      "source": [
        "np_mat[1, -2]"
      ]
    },
    {
      "cell_type": "markdown",
      "metadata": {
        "id": "A72qjxmGzxeu"
      },
      "source": [
        "Para pegar uma linha inteira, podemos utilizar a sintaxe de `:` na coluna. Essa sintaxe pode ser lida como \"todos os elementos deste eixo\". Podemos ler então a sintaxe abaixo como \"linha zero, todas as colunas\"."
      ]
    },
    {
      "cell_type": "code",
      "execution_count": null,
      "metadata": {
        "id": "RAMcLyIEzvx2"
      },
      "outputs": [],
      "source": [
        "np_mat[0, :]"
      ]
    },
    {
      "cell_type": "markdown",
      "metadata": {
        "id": "4z0tyHW2z1VV"
      },
      "source": [
        "Embora também poderíamos fazer de forma mais fácil essa indexação, assim como faríamos com uma lista nativa do Python."
      ]
    },
    {
      "cell_type": "code",
      "execution_count": null,
      "metadata": {
        "id": "eWrgZVF4zzGR"
      },
      "outputs": [],
      "source": [
        "np_mat[0]"
      ]
    },
    {
      "cell_type": "markdown",
      "metadata": {
        "id": "mlAIus_r0HIQ"
      },
      "source": [
        "Analogamente, poderíamos fazer o oposto para selecionarmos todas as linhas para uma coluna específica."
      ]
    },
    {
      "cell_type": "code",
      "execution_count": null,
      "metadata": {
        "id": "zfKDQfjxz3MT"
      },
      "outputs": [],
      "source": [
        "np_mat[:, 2]"
      ]
    },
    {
      "cell_type": "markdown",
      "metadata": {
        "id": "8iDpXzKFjniG"
      },
      "source": [
        "E neste caso, não teríamos um análogo no objeto lista nativo do Python."
      ]
    },
    {
      "cell_type": "markdown",
      "metadata": {
        "id": "bFrbbD8F0KtS"
      },
      "source": [
        "É importante saber que o operador `:` é também conhecido como slicing (ou \"fatiamento\", em português) e que ele pode ser usado para o acesso de  intervalos de índices. Para isso, ele precisa de três parâmetros:\n",
        "- start, o índice inicial do intervalo\n",
        "- end, o índice final do intervalo\n",
        "- step, quantos índices nós pulamos em cada passo dado para ir do *start* até o *end*.\n",
        "\n",
        "Isso é feito no formato `[start:end:step]`. Neste caso, `step` é o tamanho do passo que vamos dar. Basicamente, ele diz quantos elementos devemos pular de cada vez. Como exemplo, podemos querer\n",
        "- acessar do elemento de índice 1 ao elemento de índice 6,\n",
        "- pulando de 2 em 2,\n",
        "- na linha 0."
      ]
    },
    {
      "cell_type": "code",
      "execution_count": null,
      "metadata": {
        "id": "tLZWoqWF0JDg"
      },
      "outputs": [],
      "source": [
        "np_mat[0, 1:6:2]"
      ]
    },
    {
      "cell_type": "markdown",
      "metadata": {
        "id": "Iz0QcPYp0PBz"
      },
      "source": [
        "Novamente, ele também funciona com índice negativo."
      ]
    },
    {
      "cell_type": "code",
      "execution_count": null,
      "metadata": {
        "id": "5Y5-pv390NEI"
      },
      "outputs": [],
      "source": [
        "np_mat[0, 1:-1:2]"
      ]
    },
    {
      "cell_type": "markdown",
      "metadata": {
        "id": "qgSu7dwI0SRX"
      },
      "source": [
        "Essas indexações também podem ser usadas para a alteração de elementos dos ndarrays. Basta usar o operador `=` para atribuir um novo valor ao elemento daquela posição."
      ]
    },
    {
      "cell_type": "code",
      "execution_count": null,
      "metadata": {
        "id": "RFxWmNs40QYp"
      },
      "outputs": [],
      "source": [
        "np_mat[1,5] = 20\n",
        "print(np_mat)"
      ]
    },
    {
      "cell_type": "markdown",
      "metadata": {
        "id": "HOLtsZXQ0WaC"
      },
      "source": [
        "Isso vale até para colunas ou linhas inteiras."
      ]
    },
    {
      "cell_type": "code",
      "execution_count": null,
      "metadata": {
        "id": "BeBwgUaZ0Uxo"
      },
      "outputs": [],
      "source": [
        "np_mat[:, 2] = 99\n",
        "print(np_mat)"
      ]
    },
    {
      "cell_type": "markdown",
      "metadata": {
        "id": "vQhzgHAs0bYw"
      },
      "source": [
        "Isso acontece por uma característica fundamental do array do NumPy:\n",
        "\n",
        "> Ao alterar o pedaço recortado da matriz (o \"slice\" da matriz), você altera a matriz original.\n",
        "\n",
        "Juntando com o problema que vimos antes, de cópia de array, quando queremos copiar um slice de um array, temos que explicitamente usar o método `copy`."
      ]
    },
    {
      "cell_type": "code",
      "execution_count": null,
      "metadata": {
        "id": "t3IW7buO0Yyl"
      },
      "outputs": [],
      "source": [
        "a = np.array([1, 2, 3])\n",
        "b = a[1:].copy()\n",
        "b"
      ]
    },
    {
      "cell_type": "code",
      "execution_count": null,
      "metadata": {
        "id": "rdB_2q970nUv"
      },
      "outputs": [],
      "source": [
        "c = a[1:]\n",
        "c"
      ]
    },
    {
      "cell_type": "code",
      "execution_count": null,
      "metadata": {
        "id": "Mp8PxaeM0pFq"
      },
      "outputs": [],
      "source": [
        "c[0] = 5\n",
        "c"
      ]
    },
    {
      "cell_type": "code",
      "execution_count": null,
      "metadata": {
        "id": "aIL7NFu00q6e"
      },
      "outputs": [],
      "source": [
        "a"
      ]
    },
    {
      "cell_type": "code",
      "execution_count": null,
      "metadata": {
        "id": "JPO4OkMs0rwg"
      },
      "outputs": [],
      "source": [
        "b"
      ]
    },
    {
      "cell_type": "markdown",
      "metadata": {
        "id": "DOlQgHLo0yxr"
      },
      "source": [
        "#### **2h. Máscara booleana e seleção avançada**"
      ]
    },
    {
      "cell_type": "markdown",
      "metadata": {
        "id": "yMvqm9Sv00Oz"
      },
      "source": [
        "Uma outra forma de seleção é por meio de uma lista de posições."
      ]
    },
    {
      "cell_type": "code",
      "execution_count": null,
      "metadata": {
        "id": "1qcJMEoX0sV7"
      },
      "outputs": [],
      "source": [
        "a = np.array([1, 2, 3, 4, 5, 6, 7, 8, 9])\n",
        "a[[1, 2, -1]]"
      ]
    },
    {
      "cell_type": "markdown",
      "metadata": {
        "id": "ZeTaF5g604kA"
      },
      "source": [
        "No caso de arrays multidimensionais, vamos ter que passar uma lista para cada dimensão. O NumPy nos retornará os elementos formados pelos pares dessas listas."
      ]
    },
    {
      "cell_type": "code",
      "execution_count": null,
      "metadata": {
        "id": "xFbUEeth021W"
      },
      "outputs": [],
      "source": [
        "a = np.array([1, 2, 3, 4, 5, 6, 7, 8, 9]).reshape(3,3)\n",
        "a\n"
      ]
    },
    {
      "cell_type": "code",
      "execution_count": null,
      "metadata": {
        "id": "8olxGpIZ07t3"
      },
      "outputs": [],
      "source": [
        "a[[0, 0, 2],[1, 2, 2]]"
      ]
    },
    {
      "cell_type": "markdown",
      "metadata": {
        "id": "f-n5PJdU0-9a"
      },
      "source": [
        "Uma outra forma muito comum de selecionar elementos de um ndarray é usando o que chamamos de \"máscara booleana\". Ela nada mais é do que um array (aqui podemos usar uma lista do Python nativo também) de elementos booleanos (\"True\" ou \"False\").\n",
        "\n",
        "Assim, quando passamos essa máscara para um array do NumPy, ele nos retorna apenas as posições onde temos o valor \"True\"."
      ]
    },
    {
      "cell_type": "code",
      "execution_count": null,
      "metadata": {
        "id": "B0bv8pid08sM"
      },
      "outputs": [],
      "source": [
        "a = np.array([1, 2, 3, 4, 5, 6, 7, 8, 9]).reshape(3,3)\n",
        "a"
      ]
    },
    {
      "cell_type": "code",
      "execution_count": null,
      "metadata": {
        "id": "xVcJART113wK"
      },
      "outputs": [],
      "source": [
        "a[[True, True, False]]"
      ]
    },
    {
      "cell_type": "code",
      "execution_count": null,
      "metadata": {
        "id": "ySRvRO5Y1A3V"
      },
      "outputs": [],
      "source": [
        "a.flatten()[np.array([True, True, False, False, False, False, False, True, False])]"
      ]
    },
    {
      "cell_type": "markdown",
      "metadata": {
        "id": "cQSRbrio2L3r"
      },
      "source": [
        "Note, no exemplo acima, que temos 3 posições onde nossa máscara possui valor \"True\". A posição 0, a posição 1, e a posição 7, que correspondem aos valores 1, 2, e 8, respectivamente.\n",
        "\n",
        "Nós podemos gerar essa máscara a partir de comparações elemento a elemento de um ndarray. De fato, ao aplicar qualquer operador booleano, como\n",
        "\n",
        "- `>`,\n",
        "- `<`,\n",
        "- `<=`,\n",
        "- `>=`,\n",
        "- `==`,\n",
        "\n",
        "para comparar um ndarray com algum valor, o NumPy retorna um ndarray de valores booleanos. Esse novo ndarray vai ter o valor `True` nas posições onde a comparação do elemento original e esse valor separado for verdadeira. Teremos o valor `False` caso contrário.\n",
        "\n",
        "Vamos ver um exemplo."
      ]
    },
    {
      "cell_type": "code",
      "execution_count": null,
      "metadata": {
        "id": "JkaeRNH01CCb"
      },
      "outputs": [],
      "source": [
        "mat = np.array([1, 10, 20, 30]).reshape(2, 2)\n",
        "mat"
      ]
    },
    {
      "cell_type": "code",
      "execution_count": null,
      "metadata": {
        "id": "GRMhG-nL2N-X"
      },
      "outputs": [],
      "source": [
        "mat > 10 # retorna um ndarray com valor True onde o elemento original é maior que 10"
      ]
    },
    {
      "cell_type": "markdown",
      "metadata": {
        "id": "OoxAqjRv2Sw8"
      },
      "source": [
        "Podemos juntar os dois exemplos anteriores, de uso da máscara booleana como indexação e da criação de uma máscara, em uma única linha."
      ]
    },
    {
      "cell_type": "code",
      "execution_count": null,
      "metadata": {
        "id": "DClRY1JC2P8a"
      },
      "outputs": [],
      "source": [
        "mat[mat > 10]"
      ]
    },
    {
      "cell_type": "markdown",
      "metadata": {
        "id": "u0mu_oXKkaqJ"
      },
      "source": [
        "#### **2i. Aritmética básica de ndarrays**"
      ]
    },
    {
      "cell_type": "markdown",
      "metadata": {
        "id": "2211eXlymOf1"
      },
      "source": [
        "Sem adentrar ainda em aspectos aritméticos mais avançados dos ndarrays, vamos usar como exemplo dois ndarrays para falarmos das operações aritméticas mais básicas de ndarrays."
      ]
    },
    {
      "cell_type": "code",
      "execution_count": null,
      "metadata": {
        "id": "w6kmrZl_kj16"
      },
      "outputs": [],
      "source": [
        "array1 = np.array([1, 2, 3])\n",
        "array2 = np.array([4, 5, 6])"
      ]
    },
    {
      "cell_type": "markdown",
      "metadata": {
        "id": "tbOAD3jjmaKA"
      },
      "source": [
        "Adição e Subtração de ndarrays"
      ]
    },
    {
      "cell_type": "code",
      "execution_count": null,
      "metadata": {
        "id": "6WKJ1cuwmZ4K"
      },
      "outputs": [],
      "source": [
        "# Adição e Subtração\n",
        "soma = array1 + array2\n",
        "subtracao = array1 - array2\n",
        "\n",
        "print(\"Array 1:\", array1)\n",
        "print(\"Array 2:\", array2)\n",
        "print(\"Soma:\", soma)\n",
        "print(\"Subtração:\", subtracao)"
      ]
    },
    {
      "cell_type": "markdown",
      "metadata": {
        "id": "BpDymSxamc6-"
      },
      "source": [
        "Multiplicação, Divisão e Potenciação de ndarrays"
      ]
    },
    {
      "cell_type": "code",
      "execution_count": null,
      "metadata": {
        "id": "xdfavrbEmds2"
      },
      "outputs": [],
      "source": [
        "# Multiplicação, Divisão e Potenciação\n",
        "multiplicacao = array1 * array2\n",
        "divisao = array1 / array2\n",
        "potenciacao = array1 ** 2\n",
        "\n",
        "print(\"Multiplicação:\", multiplicacao)\n",
        "print(\"Divisão:\", divisao)\n",
        "print(\"Potenciação:\", potenciacao)"
      ]
    },
    {
      "cell_type": "markdown",
      "metadata": {
        "id": "PINumuhamymI"
      },
      "source": [
        "Divisão Residual de ndarrays"
      ]
    },
    {
      "cell_type": "code",
      "execution_count": null,
      "metadata": {
        "id": "OMGEMMqEnCSx"
      },
      "outputs": [],
      "source": [
        "print(array1)\n",
        "print(array2)"
      ]
    },
    {
      "cell_type": "code",
      "execution_count": null,
      "metadata": {
        "id": "4ULVapTgmzc3"
      },
      "outputs": [],
      "source": [
        "# Divisão Residual\n",
        "divisao_residual = array2 % array1\n",
        "\n",
        "print(\"Divisão Residual:\", divisao_residual)"
      ]
    },
    {
      "cell_type": "markdown",
      "metadata": {
        "id": "okZ2fcdNm8qE"
      },
      "source": [
        "Interações com Escalares<br>\n",
        "As interações com escalares permitem operações eficientes em todos os elementos do ndarray. Vamos explorar exemplos de cada operação:"
      ]
    },
    {
      "cell_type": "code",
      "execution_count": null,
      "metadata": {
        "id": "tP5rGpHlnAJi"
      },
      "outputs": [],
      "source": [
        "# Interação com Escalares\n",
        "interacao_adicao = array1 + 2\n",
        "interacao_subtracao = array1 - 2\n",
        "interacao_multiplicacao = array1 * 2\n",
        "interacao_divisao = array1 / 2\n",
        "\n",
        "print(\"Interação Adição:\", interacao_adicao)\n",
        "print(\"Interação Subtração:\", interacao_subtracao)\n",
        "print(\"Interação Multiplicação:\", interacao_multiplicacao)\n",
        "print(\"Interação Divisão:\", interacao_divisao)"
      ]
    },
    {
      "cell_type": "markdown",
      "metadata": {
        "id": "hezFYXEH2qaA"
      },
      "source": [
        "#### **2j. Any, all e múltiplas condições**"
      ]
    },
    {
      "cell_type": "markdown",
      "metadata": {
        "id": "QND5t5cBcUG5"
      },
      "source": [
        "Vamos voltar ao último exemplo que usamos sobre máscara booleana:"
      ]
    },
    {
      "cell_type": "code",
      "execution_count": null,
      "metadata": {
        "colab": {
          "base_uri": "https://localhost:8080/"
        },
        "id": "QIT2REz0cT0K",
        "outputId": "e51de0c3-a061-492a-b11d-842ff0be53bb"
      },
      "outputs": [
        {
          "data": {
            "text/plain": [
              "array([[ 1, 10],\n",
              "       [20, 30]])"
            ]
          },
          "execution_count": 122,
          "metadata": {},
          "output_type": "execute_result"
        }
      ],
      "source": [
        "mat = np.array([1, 10, 20, 30]).reshape(2, 2)\n",
        "mat"
      ]
    },
    {
      "cell_type": "code",
      "execution_count": null,
      "metadata": {
        "colab": {
          "base_uri": "https://localhost:8080/"
        },
        "id": "VunGw1XRcYpM",
        "outputId": "7f06afa2-9293-471d-821d-3cf3f02e3464"
      },
      "outputs": [
        {
          "data": {
            "text/plain": [
              "array([20, 30])"
            ]
          },
          "execution_count": 103,
          "metadata": {},
          "output_type": "execute_result"
        }
      ],
      "source": [
        "mat[mat > 10]"
      ]
    },
    {
      "cell_type": "markdown",
      "metadata": {
        "id": "5b9CevLF2YoB"
      },
      "source": [
        "Neste exemplo, temos como retorno um array com os elementos 20 e 30, como era esperado.\n",
        "\n",
        "Podemos fazer operações semelhantes, mas restritos a seguir \"linha a linha\" ou \"coluna a coluna\". Por exemplo, tomando como base a matriz anterior, poderíamos querer:\n",
        "> todas as linhas que contenham pelo menos um elemento com valor `10` ou <br>\n",
        "todas as colunas que contenham pelo menos 1 elemento abaixo do valor `10`.\n",
        "\n",
        "Para isso, usamos os métodos auxiliares `any` e `all`.\n",
        "\n",
        "* any: se qualquer elemento do meu eixo for `True`, retorna um valor `True`\n",
        "* all: se, e somente se, todos os elementos do meu eixo forem `True`, retorna `True`\n",
        "\n",
        "Nas explicações, o \"eixo\" são as dimensões do ndarray, como discutimos algumas seções atrás.\n",
        "\n",
        "Vamos ver alguns exemplos.\n",
        "\n",
        "O exemplo abaixo retorna todas as linhas onde existe pelo menos um elemento com valor `10`.\n"
      ]
    },
    {
      "cell_type": "code",
      "execution_count": null,
      "metadata": {
        "colab": {
          "base_uri": "https://localhost:8080/"
        },
        "id": "cjzjQgziIdh0",
        "outputId": "d5f489cb-3997-4f58-f31b-c147cefe228a"
      },
      "outputs": [
        {
          "data": {
            "text/plain": [
              "array([[ 1, 10],\n",
              "       [20, 30]])"
            ]
          },
          "execution_count": 123,
          "metadata": {},
          "output_type": "execute_result"
        }
      ],
      "source": [
        "mat"
      ]
    },
    {
      "cell_type": "code",
      "execution_count": null,
      "metadata": {
        "colab": {
          "base_uri": "https://localhost:8080/"
        },
        "id": "PaX8jvGaIjy-",
        "outputId": "4b35d92b-2781-461f-8221-847072eeddc3"
      },
      "outputs": [
        {
          "data": {
            "text/plain": [
              "array([False,  True])"
            ]
          },
          "execution_count": 124,
          "metadata": {},
          "output_type": "execute_result"
        }
      ],
      "source": [
        "(mat == 10).any(axis = 0)"
      ]
    },
    {
      "cell_type": "code",
      "execution_count": null,
      "metadata": {
        "colab": {
          "base_uri": "https://localhost:8080/"
        },
        "id": "h9e5FqEZ2Vym",
        "outputId": "4db095f9-feda-4f21-a0df-5e292a025bde"
      },
      "outputs": [
        {
          "data": {
            "text/plain": [
              "array([[20, 30]])"
            ]
          },
          "execution_count": 125,
          "metadata": {},
          "output_type": "execute_result"
        }
      ],
      "source": [
        "mat[[False, True]]"
      ]
    },
    {
      "cell_type": "code",
      "execution_count": null,
      "metadata": {
        "colab": {
          "base_uri": "https://localhost:8080/"
        },
        "id": "n8ukgZpkFyu_",
        "outputId": "e6375e99-7c7f-4b93-d87a-196bdef31ba6"
      },
      "outputs": [
        {
          "data": {
            "text/plain": [
              "array([[ 1, 10],\n",
              "       [20, 30]])"
            ]
          },
          "execution_count": 107,
          "metadata": {},
          "output_type": "execute_result"
        }
      ],
      "source": [
        "mat"
      ]
    },
    {
      "cell_type": "markdown",
      "metadata": {
        "id": "K9gKIRSu2d-d"
      },
      "source": [
        "Por que usamos o eixo 1 nesse caso? Porque aqui, o eixo define por onde o NumPy vai \"traversar\" para avaliar o nosso ndarray.\n",
        "\n",
        "O eixo 0 são as linhas. Assim, quando olhamos *ao longo do eixo 0*, nós estamos caminhando através das linhas. Se usássemos `(mat == 10).any(axis=0)`, o NumPy checaria a existência de elementos iguais a 10 **ao longo do eixo 0**.\n",
        "\n",
        "O processo, nesse caso, seria o seguinte:\n",
        "- Checaríamos se `1 == 10`. Nesse caso, teríamos `False`.\n",
        "- o próximo elemento ao longo do eixo 0 (i.e., primeiro elemento da próxima linha) seria o `20`. `20 == 10` também retornaria `False`.\n",
        "- Logo, nessa coluna, a resposta seria `False`.\n",
        "- Seguiríamos para a próxima coluna.\n",
        "\n",
        "Já quando usamos `(mat == 10).any(axis=1)`, o numpy checa **ao longo do eixo 1**, ou seja, ao longo das colunas. O processo fica:\n",
        "- checa se `1 == 10`. Nesse caso, temos `False`.\n",
        "- o próximo elemento ao longo do eixo 1 (i.e., primeiro elemento da próxima coluna) seria o `10`. `10 == 10` retornaria `True`.\n",
        "- Logo, nessa linha, a resposta seria `True`.\n",
        "- Seguimos para a próxima linha.\n",
        "\n",
        "Como um outro exemplo, se quisermos trazer as colunas onde todos os elementos sejam maiores que `5`, podemos usar o `all`. A regra de qual eixo usar permanece igual."
      ]
    },
    {
      "cell_type": "code",
      "execution_count": null,
      "metadata": {
        "colab": {
          "base_uri": "https://localhost:8080/"
        },
        "id": "GVu68HQo2a_J",
        "outputId": "074f367a-9990-421f-efe8-1f5323babcd9"
      },
      "outputs": [
        {
          "data": {
            "text/plain": [
              "array([[10],\n",
              "       [30]])"
            ]
          },
          "execution_count": 108,
          "metadata": {},
          "output_type": "execute_result"
        }
      ],
      "source": [
        "mat[:, (mat > 5).all(axis=0)]"
      ]
    },
    {
      "cell_type": "markdown",
      "metadata": {
        "id": "h-t4bU3X2ioa"
      },
      "source": [
        "Perceba que neste exemplo, nós colocamos dois pontos na primeira posição. Isso garante que pegamos todas as linhas, e olhamos a nossa máscara booleana apenas ao longo das colunas. Além disso, colocamos `axis=0`, para olhar ao longo do eixo 0.\n",
        "\n",
        "Para nos ajudar a lembrar essa questão do parâmetro `axis`, podemos pensar que esse parâmetro define ao longo de qual eixo a função irá \"esmagar\" o nosso array.\n"
      ]
    },
    {
      "cell_type": "code",
      "execution_count": null,
      "metadata": {
        "colab": {
          "base_uri": "https://localhost:8080/"
        },
        "id": "hrxvnihs2gSQ",
        "outputId": "e17b25db-45b4-405f-d07e-745d968d9fa2"
      },
      "outputs": [
        {
          "data": {
            "text/plain": [
              "array([[1, 2],\n",
              "       [4, 5],\n",
              "       [7, 8]])"
            ]
          },
          "execution_count": 117,
          "metadata": {},
          "output_type": "execute_result"
        }
      ],
      "source": [
        "new_mat = np.array([1, 2, 4, 5, 7, 8]).reshape(3, 2)\n",
        "new_mat"
      ]
    },
    {
      "cell_type": "code",
      "execution_count": null,
      "metadata": {
        "colab": {
          "base_uri": "https://localhost:8080/"
        },
        "id": "AMk20Xmb2lro",
        "outputId": "222079e1-1d58-47fa-b264-510b6f10f36c"
      },
      "outputs": [
        {
          "data": {
            "text/plain": [
              "array([ True,  True, False])"
            ]
          },
          "execution_count": 118,
          "metadata": {},
          "output_type": "execute_result"
        }
      ],
      "source": [
        "(new_mat < 8).all(axis=1) # Apenas as 2 primeiras linhas têm todos os elementos < 8"
      ]
    },
    {
      "cell_type": "code",
      "execution_count": null,
      "metadata": {
        "colab": {
          "base_uri": "https://localhost:8080/"
        },
        "id": "4rrKy-Mn2nLs",
        "outputId": "29bbbb7d-e9de-428e-8297-5c9696db8ff5"
      },
      "outputs": [
        {
          "data": {
            "text/plain": [
              "array([False,  True])"
            ]
          },
          "execution_count": 119,
          "metadata": {},
          "output_type": "execute_result"
        }
      ],
      "source": [
        "(new_mat == 5).any(axis=0) # Apenas a segunda coluna tem um elemento com valor 5"
      ]
    },
    {
      "cell_type": "markdown",
      "metadata": {
        "id": "8dE9jovQ2sIL"
      },
      "source": [
        "Similar ao `and` do python, nós podemos usar múltiplas condições para filtrar dados da nossa matriz com o operador `&`."
      ]
    },
    {
      "cell_type": "code",
      "execution_count": null,
      "metadata": {
        "colab": {
          "base_uri": "https://localhost:8080/"
        },
        "id": "NmjJqPRD2ooW",
        "outputId": "eb055f73-68c2-41d9-a911-842178d96b07"
      },
      "outputs": [
        {
          "data": {
            "text/plain": [
              "array([20])"
            ]
          },
          "execution_count": 126,
          "metadata": {},
          "output_type": "execute_result"
        }
      ],
      "source": [
        "mask = (mat > 10) & (mat <= 20)\n",
        "mat[mask]"
      ]
    },
    {
      "cell_type": "markdown",
      "metadata": {
        "id": "CIHLPXCv2wXv"
      },
      "source": [
        "No caso do `or`, nós temos o operador `|`.\n"
      ]
    },
    {
      "cell_type": "code",
      "execution_count": null,
      "metadata": {
        "colab": {
          "base_uri": "https://localhost:8080/"
        },
        "id": "5lSqPi_l2uWY",
        "outputId": "acfcc874-8dd7-4f73-aba5-499b99736547"
      },
      "outputs": [
        {
          "data": {
            "text/plain": [
              "array([ 1, 20, 30])"
            ]
          },
          "execution_count": 127,
          "metadata": {},
          "output_type": "execute_result"
        }
      ],
      "source": [
        "mask = (mat == 1) | (mat >= 20)\n",
        "mat[mask]"
      ]
    },
    {
      "cell_type": "markdown",
      "metadata": {
        "id": "g0j-TwmU20Iw"
      },
      "source": [
        "No caso do `not`, nós temos o operador `~`."
      ]
    },
    {
      "cell_type": "code",
      "execution_count": null,
      "metadata": {
        "colab": {
          "base_uri": "https://localhost:8080/"
        },
        "id": "tYIOl-IJJsdz",
        "outputId": "3e23e029-2578-4ac3-c165-2e5f55a379dc"
      },
      "outputs": [
        {
          "data": {
            "text/plain": [
              "array([[ 1, 10],\n",
              "       [20, 30]])"
            ]
          },
          "execution_count": 129,
          "metadata": {},
          "output_type": "execute_result"
        }
      ],
      "source": [
        "mat"
      ]
    },
    {
      "cell_type": "code",
      "execution_count": null,
      "metadata": {
        "colab": {
          "base_uri": "https://localhost:8080/"
        },
        "id": "6B0C1iv-2y2f",
        "outputId": "16a29bb2-0601-4d59-991d-eff324996b72"
      },
      "outputs": [
        {
          "data": {
            "text/plain": [
              "array([10])"
            ]
          },
          "execution_count": 130,
          "metadata": {},
          "output_type": "execute_result"
        }
      ],
      "source": [
        "mask = (mat == 1) | (mat >= 20)\n",
        "mat[~mask]"
      ]
    },
    {
      "cell_type": "markdown",
      "metadata": {
        "id": "nhcw0ibH24b9"
      },
      "source": [
        "#### **2k. Métodos built-in de criação de arrays**"
      ]
    },
    {
      "cell_type": "markdown",
      "metadata": {
        "id": "M80SD7yx259Y"
      },
      "source": [
        "O NumPy já possui diversos métodos para gerar alguns arrays comuns mais conhecidos.\n",
        "Isso nos ajuda imensamente a criar algumas matrizes padrões para fazer contas.\n",
        "\n",
        "Primeiro, é possível gerar um array de zeros com qualquer formato."
      ]
    },
    {
      "cell_type": "code",
      "execution_count": null,
      "metadata": {
        "colab": {
          "base_uri": "https://localhost:8080/"
        },
        "id": "PJxx8eFF23KC",
        "outputId": "bc0b63a6-4021-4eb6-e9ff-72e63cd7ba36"
      },
      "outputs": [
        {
          "data": {
            "text/plain": [
              "array([[0., 0., 0.],\n",
              "       [0., 0., 0.]])"
            ]
          },
          "execution_count": 131,
          "metadata": {},
          "output_type": "execute_result"
        }
      ],
      "source": [
        "np.zeros((2, 3))"
      ]
    },
    {
      "cell_type": "code",
      "execution_count": null,
      "metadata": {
        "colab": {
          "base_uri": "https://localhost:8080/"
        },
        "id": "RDvI-cIL27br",
        "outputId": "56788119-19ad-42f6-ae7b-07cf416e9ed3"
      },
      "outputs": [
        {
          "data": {
            "text/plain": [
              "array([[[0., 0., 0., 0., 0.],\n",
              "        [0., 0., 0., 0., 0.]],\n",
              "\n",
              "       [[0., 0., 0., 0., 0.],\n",
              "        [0., 0., 0., 0., 0.]],\n",
              "\n",
              "       [[0., 0., 0., 0., 0.],\n",
              "        [0., 0., 0., 0., 0.]]])"
            ]
          },
          "execution_count": 137,
          "metadata": {},
          "output_type": "execute_result"
        }
      ],
      "source": [
        "np.zeros((3, 2, 5))"
      ]
    },
    {
      "cell_type": "markdown",
      "metadata": {
        "id": "UO36Zrmb3B4H"
      },
      "source": [
        "Para criar um array de uns, a sintaxe é semelhante."
      ]
    },
    {
      "cell_type": "code",
      "execution_count": null,
      "metadata": {
        "colab": {
          "base_uri": "https://localhost:8080/"
        },
        "id": "l3FfYkR22-ZY",
        "outputId": "4bb1e4aa-fbf7-42b8-cbcb-446fa2c30566"
      },
      "outputs": [
        {
          "data": {
            "text/plain": [
              "array([[1., 1., 1.],\n",
              "       [1., 1., 1.]])"
            ]
          },
          "execution_count": 135,
          "metadata": {},
          "output_type": "execute_result"
        }
      ],
      "source": [
        "np.ones((2, 3))"
      ]
    },
    {
      "cell_type": "markdown",
      "metadata": {
        "id": "Mk9eFNrj3FPx"
      },
      "source": [
        "Se invés de uma matriz apenas de uns, nós quisermos usar outro número, podemos fazer isso aproveitando o `np.ones`. Basta multiplicarmos a matriz pelo número que desejamos."
      ]
    },
    {
      "cell_type": "code",
      "execution_count": null,
      "metadata": {
        "colab": {
          "base_uri": "https://localhost:8080/"
        },
        "id": "qo6euAZE3C_2",
        "outputId": "5bfac836-db19-4904-bd45-f7b96586ec6a"
      },
      "outputs": [
        {
          "data": {
            "text/plain": [
              "array([[10., 10., 10.],\n",
              "       [10., 10., 10.]])"
            ]
          },
          "execution_count": 136,
          "metadata": {},
          "output_type": "execute_result"
        }
      ],
      "source": [
        "np.ones((2, 3)) * 10"
      ]
    },
    {
      "cell_type": "markdown",
      "metadata": {
        "id": "zYll6SLr3IE0"
      },
      "source": [
        "Mas o NumPy já tem uma opção mais direta, o `full`."
      ]
    },
    {
      "cell_type": "code",
      "execution_count": null,
      "metadata": {
        "colab": {
          "base_uri": "https://localhost:8080/"
        },
        "id": "UPH4rjvu3GYJ",
        "outputId": "3be35407-6060-493e-be20-0784284be64f"
      },
      "outputs": [
        {
          "data": {
            "text/plain": [
              "array([[99, 99, 99],\n",
              "       [99, 99, 99]])"
            ]
          },
          "execution_count": 138,
          "metadata": {},
          "output_type": "execute_result"
        }
      ],
      "source": [
        "np.full((2, 3), 99)"
      ]
    },
    {
      "cell_type": "markdown",
      "metadata": {
        "id": "ECDLSlIH3PLS"
      },
      "source": [
        "Também temos o `full_like`, que copia o formato de uma matriz que já tenha sido declarada antes."
      ]
    },
    {
      "cell_type": "code",
      "execution_count": null,
      "metadata": {
        "colab": {
          "base_uri": "https://localhost:8080/"
        },
        "id": "4n8E7BfR3KjR",
        "outputId": "919a892e-0701-4d8a-e005-a97e8663f2ed"
      },
      "outputs": [
        {
          "data": {
            "text/plain": [
              "array([[ 1,  2,  3,  4,  5,  6,  7],\n",
              "       [ 8,  9, 10, 11, 12, 13, 14]])"
            ]
          },
          "execution_count": 140,
          "metadata": {},
          "output_type": "execute_result"
        }
      ],
      "source": [
        "np_mat = np.array([\n",
        "  [1, 2,  3,  4,  5,  6,  7],\n",
        "  [8, 9, 10, 11, 12, 13, 14]\n",
        "])\n",
        "np_mat"
      ]
    },
    {
      "cell_type": "code",
      "execution_count": null,
      "metadata": {
        "colab": {
          "base_uri": "https://localhost:8080/"
        },
        "id": "gAx-PkRY3T9a",
        "outputId": "9eb67701-c8f7-4638-ceeb-4bf5b822fbb3"
      },
      "outputs": [
        {
          "data": {
            "text/plain": [
              "array([[999, 999, 999, 999, 999, 999, 999],\n",
              "       [999, 999, 999, 999, 999, 999, 999]])"
            ]
          },
          "execution_count": 145,
          "metadata": {},
          "output_type": "execute_result"
        }
      ],
      "source": [
        "np.full_like(np_mat, 999)"
      ]
    },
    {
      "cell_type": "markdown",
      "metadata": {
        "id": "7GEzpbT53ZD9"
      },
      "source": [
        "Outra função para criação de arrays é `np.repeat`. Ela repete um determinado array na direção do eixo escolhido.\n",
        "\n",
        "Para um vetor de 1D, temos apenas 1 eixo, mas para matrizes, tempos dois. O eixo 0 é linha, o eixo 1 é coluna."
      ]
    },
    {
      "cell_type": "code",
      "execution_count": null,
      "metadata": {
        "colab": {
          "base_uri": "https://localhost:8080/"
        },
        "id": "WFn-34GY3VQT",
        "outputId": "93fe04b1-139d-4513-d136-46f9a7feb0b2"
      },
      "outputs": [
        {
          "data": {
            "text/plain": [
              "array([1, 2, 3])"
            ]
          },
          "execution_count": 147,
          "metadata": {},
          "output_type": "execute_result"
        }
      ],
      "source": [
        "arr = np.array([1, 2, 3])\n",
        "arr"
      ]
    },
    {
      "cell_type": "code",
      "execution_count": null,
      "metadata": {
        "colab": {
          "base_uri": "https://localhost:8080/"
        },
        "id": "wtoBwl-1MMJ7",
        "outputId": "a607724d-276d-48de-a0ed-1d52811dbc9b"
      },
      "outputs": [
        {
          "data": {
            "text/plain": [
              "array([1, 1, 1, 2, 2, 2, 3, 3, 3])"
            ]
          },
          "execution_count": 148,
          "metadata": {},
          "output_type": "execute_result"
        }
      ],
      "source": [
        "r1 = np.repeat(arr, 3)\n",
        "r1"
      ]
    },
    {
      "cell_type": "markdown",
      "metadata": {
        "id": "aq6xKu4y3sng"
      },
      "source": [
        "Para fazermos uma matriz, mudamos o formato da variável `arr` de (3,) para (1,3)."
      ]
    },
    {
      "cell_type": "code",
      "execution_count": null,
      "metadata": {
        "colab": {
          "base_uri": "https://localhost:8080/"
        },
        "id": "9qWBaCc_3dpf",
        "outputId": "c5a21078-d7b6-4fef-bb3a-e777af852ac8"
      },
      "outputs": [
        {
          "name": "stdout",
          "output_type": "stream",
          "text": [
            "[[1 2 3]\n",
            " [1 2 3]\n",
            " [1 2 3]]\n"
          ]
        }
      ],
      "source": [
        "arr = np.array([[1, 2, 3]])\n",
        "r1 = np.repeat(arr, 3, axis=0)\n",
        "print(r1)"
      ]
    },
    {
      "cell_type": "markdown",
      "metadata": {
        "id": "h52wo-ZE3zcC"
      },
      "source": [
        "Ainda, um caso específico de criação de arrays é quando queremos gerar uma lista sequencial de números. Isso é muito comum, por exemplo, quando queremos calcular uma função matemática em vários pontos de uma única vez.\n",
        "\n",
        "A primeira função do NumPy para criar essa sequência numérica é `np.arange`. Esta função retorna elementos igualmente espaçados por um step (que por padrão é 1) dentro de um certo intervalo."
      ]
    },
    {
      "cell_type": "code",
      "execution_count": null,
      "metadata": {
        "colab": {
          "base_uri": "https://localhost:8080/"
        },
        "id": "jjlNfpTj3zvC",
        "outputId": "df24d585-9dad-4203-a4fa-85133afc07b6"
      },
      "outputs": [
        {
          "data": {
            "text/plain": [
              "array([ 0,  1,  2,  3,  4,  5,  6,  7,  8,  9, 10])"
            ]
          },
          "execution_count": 151,
          "metadata": {},
          "output_type": "execute_result"
        }
      ],
      "source": [
        "np.arange(0, 11)"
      ]
    },
    {
      "cell_type": "code",
      "execution_count": null,
      "metadata": {
        "colab": {
          "base_uri": "https://localhost:8080/"
        },
        "id": "i9IR3aBLNE4b",
        "outputId": "dc762ae5-bb8b-4eb5-f7a9-5b7ed7bf5fe8"
      },
      "outputs": [
        {
          "data": {
            "text/plain": [
              "array([ 5,  6,  7,  8,  9, 10])"
            ]
          },
          "execution_count": 152,
          "metadata": {},
          "output_type": "execute_result"
        }
      ],
      "source": [
        "np.arange(5, 11)"
      ]
    },
    {
      "cell_type": "markdown",
      "metadata": {
        "id": "gaI_zY2N33ar"
      },
      "source": [
        "A função `np.arange` é semelhante à função `range` do Python, porém permite que peguemos valores de ponto flutuante (números com decimal) dentro do nosso intervalo."
      ]
    },
    {
      "cell_type": "code",
      "execution_count": null,
      "metadata": {
        "colab": {
          "base_uri": "https://localhost:8080/"
        },
        "id": "eMipuRXq31o3",
        "outputId": "5b961635-48f9-47f3-8f5f-fb35317dfc54"
      },
      "outputs": [
        {
          "data": {
            "text/plain": [
              "array([0. , 0.1, 0.2, 0.3, 0.4, 0.5, 0.6, 0.7, 0.8, 0.9, 1. , 1.1, 1.2,\n",
              "       1.3, 1.4, 1.5, 1.6, 1.7, 1.8, 1.9, 2. , 2.1, 2.2, 2.3, 2.4, 2.5,\n",
              "       2.6, 2.7, 2.8, 2.9, 3. , 3.1, 3.2, 3.3, 3.4, 3.5, 3.6, 3.7, 3.8,\n",
              "       3.9, 4. , 4.1, 4.2, 4.3, 4.4, 4.5, 4.6, 4.7, 4.8, 4.9, 5. , 5.1,\n",
              "       5.2, 5.3, 5.4, 5.5, 5.6, 5.7, 5.8, 5.9, 6. , 6.1, 6.2, 6.3, 6.4,\n",
              "       6.5, 6.6, 6.7, 6.8, 6.9, 7. , 7.1, 7.2, 7.3, 7.4, 7.5, 7.6, 7.7,\n",
              "       7.8, 7.9, 8. , 8.1, 8.2, 8.3, 8.4, 8.5, 8.6, 8.7, 8.8, 8.9, 9. ,\n",
              "       9.1, 9.2, 9.3, 9.4, 9.5, 9.6, 9.7, 9.8, 9.9])"
            ]
          },
          "execution_count": 155,
          "metadata": {},
          "output_type": "execute_result"
        }
      ],
      "source": [
        "np.arange(0, 10, 0.1)"
      ]
    },
    {
      "cell_type": "markdown",
      "metadata": {
        "id": "cKUaaSdj37R-"
      },
      "source": [
        "Outro caso comum que esbarramos para criar uma lista sequencial é quando queremos escolher uma grande quantidade de pontos entre dois números. Por exemplo, pode ser que nós queiramos fazer um mesmo cálculo para 10 valores entre 3 e 7.\n",
        "\n",
        "Neste caso, usamos a função `np.linspace`."
      ]
    },
    {
      "cell_type": "code",
      "execution_count": null,
      "metadata": {
        "colab": {
          "base_uri": "https://localhost:8080/"
        },
        "id": "y0oIigwS341N",
        "outputId": "1149c25f-4122-4f54-bc31-d81e301875db"
      },
      "outputs": [
        {
          "data": {
            "text/plain": [
              "array([3.        , 3.13793103, 3.27586207, 3.4137931 , 3.55172414,\n",
              "       3.68965517, 3.82758621, 3.96551724, 4.10344828, 4.24137931,\n",
              "       4.37931034, 4.51724138, 4.65517241, 4.79310345, 4.93103448,\n",
              "       5.06896552, 5.20689655, 5.34482759, 5.48275862, 5.62068966,\n",
              "       5.75862069, 5.89655172, 6.03448276, 6.17241379, 6.31034483,\n",
              "       6.44827586, 6.5862069 , 6.72413793, 6.86206897, 7.        ])"
            ]
          },
          "execution_count": 157,
          "metadata": {},
          "output_type": "execute_result"
        }
      ],
      "source": [
        "np.linspace(3, 7, num=30)"
      ]
    },
    {
      "cell_type": "markdown",
      "metadata": {
        "id": "Z2kFsInM3_ui"
      },
      "source": [
        "Por fim, vale mencionar que o NumPy tem um sub-módulo chamado `random` (cujas funções são acessadas usando o preâmbulo `np.random`). Nele, existe um conjunto de funções focadas em gerar arrays com números aleatórios.\n",
        "\n",
        "Por exemplo, a função `np.random.random_sample` retorna valores aleatórios entre 0 e 1."
      ]
    },
    {
      "cell_type": "code",
      "execution_count": null,
      "metadata": {
        "colab": {
          "base_uri": "https://localhost:8080/"
        },
        "id": "vFYkviCa383m",
        "outputId": "7ca2360a-6d30-4b58-be10-6dd009bdab57"
      },
      "outputs": [
        {
          "data": {
            "text/plain": [
              "array([[0.67288908, 0.83078212, 0.0406322 ],\n",
              "       [0.95050633, 0.72175361, 0.01107082],\n",
              "       [0.00387044, 0.75424507, 0.59872557],\n",
              "       [0.27877084, 0.25496013, 0.10994316]])"
            ]
          },
          "execution_count": 158,
          "metadata": {},
          "output_type": "execute_result"
        }
      ],
      "source": [
        "np.random.random_sample((4,3))"
      ]
    },
    {
      "cell_type": "markdown",
      "metadata": {
        "id": "K77PEHdz4EzJ"
      },
      "source": [
        "\n",
        "A função `np.random.rand` é um \"alias\" da função de cima. Isso significa que, por trás dos panos, ela literalmente só executa a função `np.random.random_sample`.\n",
        "\n",
        "Essa função existe para facilitar a migração de códigos de outras linguagens de computação numérica (especificamente, códigos de uma linguagem chamada MATLAB)."
      ]
    },
    {
      "cell_type": "code",
      "execution_count": null,
      "metadata": {
        "colab": {
          "base_uri": "https://localhost:8080/"
        },
        "id": "V9gZBRRu4B03",
        "outputId": "9700d169-3c6f-4d7f-92fa-6756fb54d1e5"
      },
      "outputs": [
        {
          "data": {
            "text/plain": [
              "array([[0.53373096, 0.96714558, 0.34372846],\n",
              "       [0.0717346 , 0.81056617, 0.34973524],\n",
              "       [0.80965905, 0.69313191, 0.74621217],\n",
              "       [0.9918702 , 0.75779018, 0.77978666]])"
            ]
          },
          "execution_count": 161,
          "metadata": {},
          "output_type": "execute_result"
        }
      ],
      "source": [
        "np.random.rand(4,3)"
      ]
    },
    {
      "cell_type": "markdown",
      "metadata": {
        "id": "U50gqQR64IAA"
      },
      "source": [
        "Se quisermos criar um array de números inteiros abaixo de um certo valor, escolhidos ao acaso, usamos a função `np.random.randint`."
      ]
    },
    {
      "cell_type": "code",
      "execution_count": null,
      "metadata": {
        "colab": {
          "base_uri": "https://localhost:8080/"
        },
        "id": "zgZQpFfs4GDS",
        "outputId": "b0e42d51-3158-4e71-c188-93f360ccd207"
      },
      "outputs": [
        {
          "data": {
            "text/plain": [
              "array([[94, 94, 46],\n",
              "       [91, 62, 46],\n",
              "       [20, 59, 35],\n",
              "       [92, 46,  8]])"
            ]
          },
          "execution_count": 162,
          "metadata": {},
          "output_type": "execute_result"
        }
      ],
      "source": [
        "np.random.randint(100, size=(4,3))"
      ]
    },
    {
      "cell_type": "markdown",
      "metadata": {
        "id": "0XAtkaIj4LG1"
      },
      "source": [
        "Os argumentos principais da função `np.random.randint` são `low`, `high` e `size`, que definem o menor inteiro possível, o maior inteiro possível, e o tamanho do array resultante."
      ]
    },
    {
      "cell_type": "code",
      "execution_count": null,
      "metadata": {
        "colab": {
          "base_uri": "https://localhost:8080/"
        },
        "id": "KE9yaoa-4JVe",
        "outputId": "a4f3c0b9-595f-4a6c-b20a-cc8ea1ffb6b4"
      },
      "outputs": [
        {
          "data": {
            "text/plain": [
              "array([[95, 98, 94],\n",
              "       [93, 97, 96],\n",
              "       [98, 96, 99],\n",
              "       [90, 98, 90]])"
            ]
          },
          "execution_count": 164,
          "metadata": {},
          "output_type": "execute_result"
        }
      ],
      "source": [
        "np.random.randint(low = 90, high = 100, size=(4,3))"
      ]
    },
    {
      "cell_type": "markdown",
      "metadata": {
        "id": "SqfttzRzdGAv"
      },
      "source": [
        "#### **2j. Exercícios I**\n",
        "Vamos exercitar o conteúdo visto até aqui?"
      ]
    },
    {
      "cell_type": "markdown",
      "metadata": {
        "id": "irFW_M47435H"
      },
      "source": [
        "**Ex1:** Imagine que você é um cientista de dados analisando o desempenho de duas equipes de vendas ao longo de um ano. Para cada equipe, utilize um ndarray com 6 posições para representar as vendas totais ao longo de cada um dos 6 bimestres de um ano. Preencha ambos os arrays com os valores que desejar.\n",
        "Em seguida, calcule a média de vendas por bimestre, e indique, para cada equipe, em quais bimestres a venda média foi ultrapassada."
      ]
    },
    {
      "cell_type": "code",
      "execution_count": null,
      "metadata": {
        "colab": {
          "base_uri": "https://localhost:8080/"
        },
        "id": "sHQ3af1R1QAV",
        "outputId": "90b730dd-e866-416f-fe1e-2ea7bbab5ba4"
      },
      "outputs": [
        {
          "name": "stdout",
          "output_type": "stream",
          "text": [
            "[52.5 59.  52.5 53.5 69. ]\n",
            "[60 55 70]\n",
            "[55 60]\n"
          ]
        }
      ],
      "source": [
        "import numpy as np\n",
        "\n",
        "team_a = np.array([50, 60, 45, 55, 70])\n",
        "team_b = np.array([55, 58, 60, 52, 68])\n",
        "\n",
        "bimonthly_mean = (team_a + team_b) / 2\n",
        "print(bimonthly_mean)\n",
        "\n",
        "team_a_gt_bim_mean = team_a[team_a > bimonthly_mean]\n",
        "team_b_gt_bim_mean = team_b[team_b > bimonthly_mean]\n",
        "print(team_a_gt_bim_mean)\n",
        "print(team_b_gt_bim_mean)"
      ]
    },
    {
      "cell_type": "markdown",
      "metadata": {
        "id": "L4HFzLdveUI3"
      },
      "source": [
        "**Ex2:** Você trabalha em uma empresa e recebeu relatórios de despesas separados por trimestre. Considere 3 tipos de despesas: `pessoal`, `insumos` e `diversos`.\n",
        "Para cada tipo, use um ndarray para armazenar os 4 valores trimestrais de despesa que foram registrados ao longo do último ano. Depois disso, use ndarrays para descobrir as despesas totais de cada trimestre e, em seguida, organize todas as despesas em uma única estrutura de dados, empilhando os ndarrays."
      ]
    },
    {
      "cell_type": "code",
      "execution_count": null,
      "metadata": {
        "colab": {
          "base_uri": "https://localhost:8080/"
        },
        "id": "aDdipTdGebx3",
        "outputId": "5021800b-2706-403a-e131-87f999a30424"
      },
      "outputs": [
        {
          "name": "stdout",
          "output_type": "stream",
          "text": [
            "[16 24 17 25]\n",
            "[[10 20 10 15]\n",
            " [ 5  2  6  7]\n",
            " [ 1  2  1  3]]\n"
          ]
        }
      ],
      "source": [
        "pessoal = np.array([10, 20, 10, 15])\n",
        "insumos = np.array([5, 2, 6, 7])\n",
        "diversos = np.array([1, 2, 1, 3])\n",
        "\n",
        "totais = pessoal + insumos + diversos\n",
        "print(totais)\n",
        "\n",
        "resultante = np.vstack([pessoal, insumos, diversos])\n",
        "print(resultante)"
      ]
    },
    {
      "cell_type": "markdown",
      "metadata": {
        "id": "dZxpbJJiQnUO"
      },
      "source": [
        "**Ex3:** Usando as despesas salvas em ndarrays no exercício anterior, use os ndarrays para descobrir as despesas totais de cada semestre, e não de cada trimestre."
      ]
    },
    {
      "cell_type": "code",
      "execution_count": null,
      "metadata": {
        "colab": {
          "base_uri": "https://localhost:8080/"
        },
        "id": "Qnd5AVc87MU_",
        "outputId": "9ce2b122-1e80-4274-e25d-e764f8b09b60"
      },
      "outputs": [
        {
          "name": "stdout",
          "output_type": "stream",
          "text": [
            "[55 55]\n",
            "[ 7 13]\n",
            "[3 4]\n"
          ]
        }
      ],
      "source": [
        "pessoal = np.array([pessoal[:2].sum(), pessoal[-2:].sum()])\n",
        "insumos = np.array([insumos[:2].sum(), insumos[-2:].sum()])\n",
        "diversos = np.array([diversos[:2].sum(), diversos[-2:].sum()])\n",
        "\n",
        "print(pessoal)\n",
        "print(insumos)\n",
        "print(diversos)"
      ]
    },
    {
      "cell_type": "code",
      "execution_count": null,
      "metadata": {
        "colab": {
          "base_uri": "https://localhost:8080/"
        },
        "id": "x2a0wT3WQmwy",
        "outputId": "4186f13b-b1ae-4841-d1c1-72b8b9dcfec8"
      },
      "outputs": [
        {
          "name": "stdout",
          "output_type": "stream",
          "text": [
            "[30 25]\n",
            "[ 7 13]\n",
            "[3 4]\n"
          ]
        }
      ],
      "source": [
        "pessoal = np.array([pessoal[0] + pessoal[1], pessoal[-2] + pessoal[-1]])\n",
        "insumos = np.array([insumos[0] + insumos[1], insumos[-2] + insumos[-1]])\n",
        "diversos = np.array([diversos[0] + diversos[1], diversos[-2] + diversos[-1]])\n",
        "\n",
        "print(pessoal)\n",
        "print(insumos)\n",
        "print(diversos)"
      ]
    },
    {
      "cell_type": "code",
      "execution_count": null,
      "metadata": {
        "id": "ewGckz1Z7Aue"
      },
      "outputs": [],
      "source": [
        "a = np.array([1,2,3,4,5])"
      ]
    },
    {
      "cell_type": "code",
      "execution_count": null,
      "metadata": {
        "colab": {
          "base_uri": "https://localhost:8080/"
        },
        "id": "a-IOs2cy7DkA",
        "outputId": "5946aa1c-8f4b-4297-d905-8cdd43599ac9"
      },
      "outputs": [
        {
          "data": {
            "text/plain": [
              "15"
            ]
          },
          "execution_count": 86,
          "metadata": {},
          "output_type": "execute_result"
        }
      ],
      "source": [
        "a.sum()"
      ]
    },
    {
      "cell_type": "markdown",
      "metadata": {
        "id": "SX_oSWOiQ_zJ"
      },
      "source": [
        "**Ex4:** Considere a seguinte matriz NumPy arr:\n",
        "\n",
        "```\n",
        "arr = np.array([[1, 2, 3, 4],\n",
        "                [5, 6, 7, 8],\n",
        "                [9, 10, 11, 12]])\n",
        "```\n",
        "\n",
        "Realize as seguintes operações de slicing:\n",
        "\n",
        "- Extraia a segunda linha da matriz arr.\n",
        "- Obtenha a última coluna da matriz arr.\n",
        "- Crie uma submatriz composta pelas duas primeiras linhas e pelas duas primeiras colunas de arr.\n",
        "- Selecione os elementos 6, 7, 10 e 11 de arr."
      ]
    },
    {
      "cell_type": "code",
      "execution_count": null,
      "metadata": {
        "colab": {
          "base_uri": "https://localhost:8080/"
        },
        "id": "zLmsl_cA7ynX",
        "outputId": "3e664ae9-8b1f-4bba-e65a-5d29b65d6fed"
      },
      "outputs": [
        {
          "data": {
            "text/plain": [
              "array([ True,  True])"
            ]
          },
          "execution_count": 99,
          "metadata": {},
          "output_type": "execute_result"
        }
      ],
      "source": [
        "a = np.array([1,2,3,4])\n",
        "b = np.array([2,3])\n",
        "np.isin(b, a)"
      ]
    },
    {
      "cell_type": "code",
      "execution_count": null,
      "metadata": {
        "colab": {
          "base_uri": "https://localhost:8080/"
        },
        "id": "aAYJwvwS820q",
        "outputId": "53f2c898-2b96-4769-9dfe-748839cd377f"
      },
      "outputs": [
        {
          "data": {
            "text/plain": [
              "True"
            ]
          },
          "execution_count": 101,
          "metadata": {},
          "output_type": "execute_result"
        }
      ],
      "source": [
        "'AB' in 'ABACATE'"
      ]
    },
    {
      "cell_type": "code",
      "execution_count": null,
      "metadata": {
        "colab": {
          "base_uri": "https://localhost:8080/"
        },
        "id": "Boxd6MSD74nb",
        "outputId": "173a6951-a24e-488f-9696-ff6ec790923c"
      },
      "outputs": [
        {
          "data": {
            "text/plain": [
              "True"
            ]
          },
          "execution_count": 100,
          "metadata": {},
          "output_type": "execute_result"
        }
      ],
      "source": [
        "a = [1, 2, 3, 4]\n",
        "b = [2, 3]\n",
        "b in a"
      ]
    },
    {
      "cell_type": "code",
      "execution_count": null,
      "metadata": {
        "colab": {
          "base_uri": "https://localhost:8080/"
        },
        "id": "WZ30-j2QRAGH",
        "outputId": "359e2ea5-61f0-48a4-d0d5-748cbf464ae4"
      },
      "outputs": [
        {
          "data": {
            "text/plain": [
              "array([[ 1,  2,  3,  4],\n",
              "       [ 5,  6,  7,  8],\n",
              "       [ 9, 10, 11, 12]])"
            ]
          },
          "execution_count": 51,
          "metadata": {},
          "output_type": "execute_result"
        }
      ],
      "source": [
        "arr = np.array([[1, 2, 3, 4],\n",
        "                [5, 6, 7, 8],\n",
        "                [9, 10, 11, 12]])\n",
        "arr"
      ]
    },
    {
      "cell_type": "code",
      "execution_count": null,
      "metadata": {
        "colab": {
          "base_uri": "https://localhost:8080/"
        },
        "id": "IvGSa3Vk1b-B",
        "outputId": "06651f9e-80e3-485e-efe4-e37c0dcfd3e8"
      },
      "outputs": [
        {
          "data": {
            "text/plain": [
              "array([5, 6, 7, 8])"
            ]
          },
          "execution_count": 52,
          "metadata": {},
          "output_type": "execute_result"
        }
      ],
      "source": [
        "arr[1]"
      ]
    },
    {
      "cell_type": "code",
      "execution_count": null,
      "metadata": {
        "colab": {
          "base_uri": "https://localhost:8080/"
        },
        "id": "84n4xIv51qzz",
        "outputId": "4b8a59c6-d5ad-4597-f3ed-715ef1b539f8"
      },
      "outputs": [
        {
          "data": {
            "text/plain": [
              "array([ 4,  8, 12])"
            ]
          },
          "execution_count": 55,
          "metadata": {},
          "output_type": "execute_result"
        }
      ],
      "source": [
        "arr[:, -1]"
      ]
    },
    {
      "cell_type": "code",
      "execution_count": null,
      "metadata": {
        "colab": {
          "base_uri": "https://localhost:8080/"
        },
        "id": "LNpgqcWM2I6T",
        "outputId": "930ae26c-b800-4816-cb5d-4ee4a9e48c5a"
      },
      "outputs": [
        {
          "data": {
            "text/plain": [
              "array([[1, 2],\n",
              "       [5, 6]])"
            ]
          },
          "execution_count": 57,
          "metadata": {},
          "output_type": "execute_result"
        }
      ],
      "source": [
        "arr[:2, :2]"
      ]
    },
    {
      "cell_type": "code",
      "execution_count": null,
      "metadata": {
        "colab": {
          "base_uri": "https://localhost:8080/"
        },
        "id": "_A-jKnsi24Oq",
        "outputId": "9ddb17e5-6f1d-4ff8-be97-53eb031a1814"
      },
      "outputs": [
        {
          "data": {
            "text/plain": [
              "array([[ 6,  7],\n",
              "       [10, 11]])"
            ]
          },
          "execution_count": 59,
          "metadata": {},
          "output_type": "execute_result"
        }
      ],
      "source": [
        "arr[1:3, 1:3]"
      ]
    },
    {
      "cell_type": "code",
      "execution_count": null,
      "metadata": {
        "colab": {
          "base_uri": "https://localhost:8080/"
        },
        "id": "GgQKZ9Ue4EJm",
        "outputId": "c0244eb3-8c04-42b5-f58e-ba0cb1eabdf5"
      },
      "outputs": [
        {
          "data": {
            "text/plain": [
              "array([ 6,  7, 10, 11])"
            ]
          },
          "execution_count": 75,
          "metadata": {},
          "output_type": "execute_result"
        }
      ],
      "source": [
        "arr[[1, 1, 2, 2], [1, 2, 1, 2]]"
      ]
    },
    {
      "cell_type": "code",
      "execution_count": null,
      "metadata": {
        "colab": {
          "base_uri": "https://localhost:8080/"
        },
        "id": "f_wkAHuA3XsU",
        "outputId": "c9d78e74-2652-4524-ce58-53c23d9c1d26"
      },
      "outputs": [
        {
          "data": {
            "text/plain": [
              "array([ 6,  7, 10, 11])"
            ]
          },
          "execution_count": 78,
          "metadata": {},
          "output_type": "execute_result"
        }
      ],
      "source": [
        "mask = ((arr >= 6) & (arr <= 7)) | ((arr >= 10) & (arr <= 11))\n",
        "arr[mask]"
      ]
    },
    {
      "cell_type": "code",
      "execution_count": null,
      "metadata": {
        "colab": {
          "base_uri": "https://localhost:8080/"
        },
        "id": "e44dfBq631Yd",
        "outputId": "e0bfc1cd-0742-4ef8-9c8a-17b5ba5eceb1"
      },
      "outputs": [
        {
          "data": {
            "text/plain": [
              "array([ 6,  7,  8,  9, 10, 11])"
            ]
          },
          "execution_count": 72,
          "metadata": {},
          "output_type": "execute_result"
        }
      ],
      "source": []
    },
    {
      "cell_type": "code",
      "execution_count": null,
      "metadata": {
        "colab": {
          "base_uri": "https://localhost:8080/"
        },
        "id": "KDYcU8TX5lM8",
        "outputId": "d10d79ad-096d-492f-df09-8af89eb6c32e"
      },
      "outputs": [
        {
          "data": {
            "text/plain": [
              "array([[ 1,  2,  3,  4],\n",
              "       [ 5,  6,  7,  8],\n",
              "       [ 9, 10, 11, 12]])"
            ]
          },
          "execution_count": 79,
          "metadata": {},
          "output_type": "execute_result"
        }
      ],
      "source": [
        "arr"
      ]
    },
    {
      "cell_type": "markdown",
      "metadata": {
        "id": "vRCnW6BnR-6E"
      },
      "source": [
        "**Ex5:** Para a mesma matriz `arr` do exercício anterior, crie uma matriz booleana com o mesmo shape de `arr` onde True representa valores maiores que 6. E depois disso, use a matriz booleana para criar um novo ndarray contendo apenas os valores maiores que 6."
      ]
    },
    {
      "cell_type": "code",
      "execution_count": null,
      "metadata": {
        "colab": {
          "base_uri": "https://localhost:8080/"
        },
        "id": "9qC19DshlQ5Y",
        "outputId": "a0fef1bf-c884-449b-b376-63609d48d69e"
      },
      "outputs": [
        {
          "data": {
            "text/plain": [
              "array([[ 1,  2,  3,  4],\n",
              "       [ 5,  6,  7,  8],\n",
              "       [ 9, 10, 11, 12]])"
            ]
          },
          "execution_count": 60,
          "metadata": {},
          "output_type": "execute_result"
        }
      ],
      "source": [
        "arr"
      ]
    },
    {
      "cell_type": "code",
      "execution_count": null,
      "metadata": {
        "colab": {
          "base_uri": "https://localhost:8080/"
        },
        "id": "xZ0bmg5o3BN7",
        "outputId": "0f704106-f32d-4151-f192-b8c9bc4f2e98"
      },
      "outputs": [
        {
          "data": {
            "text/plain": [
              "array([[False, False, False, False],\n",
              "       [False, False,  True,  True],\n",
              "       [ True,  True,  True,  True]])"
            ]
          },
          "execution_count": 65,
          "metadata": {},
          "output_type": "execute_result"
        }
      ],
      "source": [
        "mask = arr > 6\n",
        "mask"
      ]
    },
    {
      "cell_type": "code",
      "execution_count": null,
      "metadata": {
        "colab": {
          "base_uri": "https://localhost:8080/"
        },
        "id": "baTpgzwi3Q9w",
        "outputId": "bb38f4f9-1a18-4693-a3f1-414b3f1e58ee"
      },
      "outputs": [
        {
          "data": {
            "text/plain": [
              "array([ 7,  8,  9, 10, 11, 12])"
            ]
          },
          "execution_count": 66,
          "metadata": {},
          "output_type": "execute_result"
        }
      ],
      "source": [
        "arr[mask]"
      ]
    },
    {
      "cell_type": "markdown",
      "metadata": {
        "id": "mRpykTFh4RTI"
      },
      "source": [
        "## **3. Principais funções matemáticas do NumPy**<br>\n",
        "\n",
        "No início deste texto, nós introduzimos o NumPy como uma biblioteca muito utilizada para fazer cálculos numéricos. Vamos ver então as operações matemáticas disponíveis no NumPy."
      ]
    },
    {
      "cell_type": "markdown",
      "metadata": {
        "id": "uLXaE92Iib_T"
      },
      "source": [
        "#### **3a. Revisão de aritmética básica de ndarrays**\n",
        "\n",
        "A primeira coisa a se observar é que as operações matemáticas básicas, como usadas no Python, podem ser usadas também para ndarrays. Só temos que lembrar sempre que elas são aplicadas elemento a elemento."
      ]
    },
    {
      "cell_type": "code",
      "execution_count": null,
      "metadata": {
        "id": "EgCz5aja4Mg1"
      },
      "outputs": [],
      "source": [
        "vec1 = np.array([2., 4., 6., 8.])\n",
        "vec2 = np.array([1., 2., 3., 4.])\n",
        "vec1 + vec2 # Soma"
      ]
    },
    {
      "cell_type": "code",
      "execution_count": null,
      "metadata": {
        "id": "mGBY3LNF4XSq"
      },
      "outputs": [],
      "source": [
        "vec1 - vec2 # subtração"
      ]
    },
    {
      "cell_type": "code",
      "execution_count": null,
      "metadata": {
        "id": "DK8HPDB44aTX"
      },
      "outputs": [],
      "source": [
        "vec1 * vec2 # Multiplicação"
      ]
    },
    {
      "cell_type": "code",
      "execution_count": null,
      "metadata": {
        "id": "5Y7H_pgp4e6d"
      },
      "outputs": [],
      "source": [
        "vec1 / vec2 # Divisão"
      ]
    },
    {
      "cell_type": "code",
      "execution_count": null,
      "metadata": {
        "id": "B56vJgME4iCe"
      },
      "outputs": [],
      "source": [
        "vec1 ** vec2 # Exponenciação"
      ]
    },
    {
      "cell_type": "markdown",
      "metadata": {
        "id": "6G2vELgt4ms1"
      },
      "source": [
        "A notação com este \"e\" minúsculo significa que o número está escrito em notação científica, isto é, em potências de 10. Assim, `4.096e+03` significa `4096` (pois multiplicamos o número por 1000, que é dez elevado a 3). Ainda nesta linha, `2.160e+02` significa `216`.\n",
        "\n",
        "O NumPy também consegue fazer operações entre arrays e números (chamadas operações com escalares)."
      ]
    },
    {
      "cell_type": "code",
      "execution_count": null,
      "metadata": {
        "id": "7gVE12Kf4jXu"
      },
      "outputs": [],
      "source": [
        "vec2 + 2 # Somar"
      ]
    },
    {
      "cell_type": "code",
      "execution_count": null,
      "metadata": {
        "id": "CNkentVs4o8T"
      },
      "outputs": [],
      "source": [
        "vec2 - 2 # Subtrair"
      ]
    },
    {
      "cell_type": "code",
      "execution_count": null,
      "metadata": {
        "id": "1J4rHFzz4qzx"
      },
      "outputs": [],
      "source": [
        "vec2 * 2 # Multiplicar"
      ]
    },
    {
      "cell_type": "code",
      "execution_count": null,
      "metadata": {
        "id": "UqdXStdt4suT"
      },
      "outputs": [],
      "source": [
        "vec2 / 2 # Dividir"
      ]
    },
    {
      "cell_type": "code",
      "execution_count": null,
      "metadata": {
        "id": "o5nz4gJS4umN"
      },
      "outputs": [],
      "source": [
        "a ** 2 # Potência (elevar a um número)"
      ]
    },
    {
      "cell_type": "code",
      "execution_count": null,
      "metadata": {
        "id": "Rm1wICp64wuL"
      },
      "outputs": [],
      "source": [
        "vec2 += 2 # Incrementar\n",
        "vec2"
      ]
    },
    {
      "cell_type": "markdown",
      "metadata": {
        "id": "J6UF9fV141TP"
      },
      "source": [
        "Agora uma dúvida é: se os nossos ndarrays tiverem formatos diferentes, então o NumPy apenas retorna um erro?\n",
        "\n",
        "Depende do caso. Ele consegue fazer a operação se a diferença entre os formatos seguirem algumas regras que veremos abaixo. Nestes casos, ele faz o que chamamos de **Broadcasting**.\n",
        "\n",
        "Se a diferença entre os formatos não seguirem as regrinhas necessárias para realizar broadcasting, então o NumPy retorna de fato um erro.\n"
      ]
    },
    {
      "cell_type": "code",
      "execution_count": null,
      "metadata": {
        "id": "8VqdM9WO8NoQ"
      },
      "outputs": [],
      "source": [
        "import numpy as np"
      ]
    },
    {
      "cell_type": "code",
      "execution_count": null,
      "metadata": {
        "colab": {
          "base_uri": "https://localhost:8080/"
        },
        "id": "7LTk_YI44zL5",
        "outputId": "50f3e4a0-b002-416a-a30f-6bf5174532d1"
      },
      "outputs": [
        {
          "ename": "ValueError",
          "evalue": "operands could not be broadcast together with shapes (3,) (2,) ",
          "output_type": "error",
          "traceback": [
            "\u001b[0;31m---------------------------------------------------------------------------\u001b[0m",
            "\u001b[0;31mValueError\u001b[0m                                Traceback (most recent call last)",
            "\u001b[0;32m<ipython-input-5-7ad7eaa5672c>\u001b[0m in \u001b[0;36m<cell line: 3>\u001b[0;34m()\u001b[0m\n\u001b[1;32m      1\u001b[0m \u001b[0ma\u001b[0m \u001b[0;34m=\u001b[0m \u001b[0mnp\u001b[0m\u001b[0;34m.\u001b[0m\u001b[0marray\u001b[0m\u001b[0;34m(\u001b[0m\u001b[0;34m[\u001b[0m\u001b[0;36m1\u001b[0m\u001b[0;34m,\u001b[0m \u001b[0;36m2\u001b[0m\u001b[0;34m,\u001b[0m \u001b[0;36m3\u001b[0m\u001b[0;34m]\u001b[0m\u001b[0;34m)\u001b[0m\u001b[0;34m\u001b[0m\u001b[0;34m\u001b[0m\u001b[0m\n\u001b[1;32m      2\u001b[0m \u001b[0mb\u001b[0m \u001b[0;34m=\u001b[0m \u001b[0mnp\u001b[0m\u001b[0;34m.\u001b[0m\u001b[0marray\u001b[0m\u001b[0;34m(\u001b[0m\u001b[0;34m[\u001b[0m\u001b[0;36m2\u001b[0m\u001b[0;34m,\u001b[0m \u001b[0;36m2\u001b[0m\u001b[0;34m]\u001b[0m\u001b[0;34m)\u001b[0m\u001b[0;34m\u001b[0m\u001b[0;34m\u001b[0m\u001b[0m\n\u001b[0;32m----> 3\u001b[0;31m \u001b[0ma\u001b[0m \u001b[0;34m*\u001b[0m \u001b[0mb\u001b[0m\u001b[0;34m\u001b[0m\u001b[0;34m\u001b[0m\u001b[0m\n\u001b[0m",
            "\u001b[0;31mValueError\u001b[0m: operands could not be broadcast together with shapes (3,) (2,) "
          ]
        }
      ],
      "source": [
        "a = np.array([1, 2, 3])\n",
        "b = np.array([2, 2])\n",
        "a * b"
      ]
    },
    {
      "cell_type": "markdown",
      "metadata": {
        "id": "UXj5G3im49Ba"
      },
      "source": [
        "#### **3b. Broadcasting**\n",
        "\n",
        "O que fizemos, nas operações com escalar, é um tipo de broadcasting. Você pode imaginar que o que está acontecendo é o seguinte:\n",
        "- pegue o seu número,\n",
        "- crie um ndarray, de mesmo formato que o primeiro, mas cujos valores são o seu número.\n",
        "\n",
        "![broadcasting01](https://s3-sa-east-1.amazonaws.com/lcpi/dec6164e-6fc2-4e13-8e83-047617a2f89b.png \"broadcasting escalar\")\n",
        "\n",
        "Na imagem acima (que foi tirada dos tutoriais oficiais do NumPy), nota que o valor 2 é \"esticado\". Ele é repetido ao longo do eixo 0 até ter um ndarray de formato (3,).\n",
        "\n",
        "Essa ideia pode ser generalizada. Sempre que fizer sentido \"esticar\" (ou repetir) o array menor até ele ficar com o mesmo formato do maior, então o NumPy consegue realizar uma operação de broadcasting."
      ]
    },
    {
      "cell_type": "code",
      "execution_count": null,
      "metadata": {
        "colab": {
          "base_uri": "https://localhost:8080/"
        },
        "id": "fT-LPvmi45sG",
        "outputId": "e46ef6c1-4271-4f6b-efbd-85bca834e5ac"
      },
      "outputs": [
        {
          "data": {
            "text/plain": [
              "array([[  0,   0,   0],\n",
              "       [ 50,  50,  50],\n",
              "       [100, 100, 100],\n",
              "       [150, 150, 150]])"
            ]
          },
          "execution_count": 11,
          "metadata": {},
          "output_type": "execute_result"
        }
      ],
      "source": [
        "matrix = np.array([\n",
        "  [0, 0, 0],\n",
        "  [10, 10, 10],\n",
        "  [20, 20, 20],\n",
        "  [30, 30, 30]\n",
        "])\n",
        "matrix\n",
        "\n",
        "matrix + np.array([1, 2, 3])"
      ]
    },
    {
      "cell_type": "markdown",
      "metadata": {
        "id": "OKrCIS5l5LRz"
      },
      "source": [
        "![broadcasting02](https://s3-sa-east-1.amazonaws.com/lcpi/ab17651c-1154-4ea1-a716-09e203f49060.png \"broadcasting array\")\n",
        "\n",
        "(**Fonte:** Tutoriais oficiais do NumPy [\\[2\\]](#2))\n",
        "\n",
        "A imagem acima mostra o que está acontecendo no código de exemplo que demos.\n",
        "\n",
        "Mas por que colocamos a expressão \"sempre que fizer sentido\"? O motivo é que a única coisa que o NumPy aceita fazer é repetir o array menor diversas vezes na direção de uma dimensão. Ele não reajusta o seu array!\n",
        "\n",
        "![not_broadcasting](https://s3-sa-east-1.amazonaws.com/lcpi/862c983a-f9b3-4474-80e2-b807f15d5a7b.png \"not broadcasting\")\n"
      ]
    },
    {
      "cell_type": "code",
      "execution_count": null,
      "metadata": {
        "colab": {
          "base_uri": "https://localhost:8080/"
        },
        "id": "4L3A5uHk5GIe",
        "outputId": "83a33bf6-b4e7-4a5e-8dba-ded310375e5c"
      },
      "outputs": [
        {
          "ename": "ValueError",
          "evalue": "operands could not be broadcast together with shapes (4,3) (4,) ",
          "output_type": "error",
          "traceback": [
            "\u001b[0;31m---------------------------------------------------------------------------\u001b[0m",
            "\u001b[0;31mValueError\u001b[0m                                Traceback (most recent call last)",
            "\u001b[0;32m<ipython-input-12-f2dd89925d08>\u001b[0m in \u001b[0;36m<cell line: 8>\u001b[0;34m()\u001b[0m\n\u001b[1;32m      6\u001b[0m ])\n\u001b[1;32m      7\u001b[0m \u001b[0mvec\u001b[0m \u001b[0;34m=\u001b[0m \u001b[0mnp\u001b[0m\u001b[0;34m.\u001b[0m\u001b[0marray\u001b[0m\u001b[0;34m(\u001b[0m\u001b[0;34m[\u001b[0m\u001b[0;36m1\u001b[0m\u001b[0;34m,\u001b[0m \u001b[0;36m2\u001b[0m\u001b[0;34m,\u001b[0m \u001b[0;36m3\u001b[0m\u001b[0;34m,\u001b[0m \u001b[0;36m4\u001b[0m\u001b[0;34m]\u001b[0m\u001b[0;34m)\u001b[0m\u001b[0;34m\u001b[0m\u001b[0;34m\u001b[0m\u001b[0m\n\u001b[0;32m----> 8\u001b[0;31m \u001b[0mmatrix\u001b[0m \u001b[0;34m+\u001b[0m \u001b[0mvec\u001b[0m\u001b[0;34m\u001b[0m\u001b[0;34m\u001b[0m\u001b[0m\n\u001b[0m",
            "\u001b[0;31mValueError\u001b[0m: operands could not be broadcast together with shapes (4,3) (4,) "
          ]
        }
      ],
      "source": [
        "matrix = np.array([\n",
        "  [0, 0, 0],\n",
        "  [10, 10, 10],\n",
        "  [20, 20, 20],\n",
        "  [30, 30, 30]\n",
        "])\n",
        "vec = np.array([1, 2, 3, 4])\n",
        "matrix + vec"
      ]
    },
    {
      "cell_type": "markdown",
      "metadata": {
        "id": "qwJzfeBz5Xl8"
      },
      "source": [
        "É interessante notar que essa \"esticada\" para realizar o broadcast só pode ser feita em 1 eixo. Mesmo que fosse possível copiar o array menor até ele ter o mesmo formato do array maior, se para isso precisarmos fazer cópias ao longo de 2 eixos, então o NumPy retorna um erro.\n"
      ]
    },
    {
      "cell_type": "code",
      "execution_count": null,
      "metadata": {
        "colab": {
          "base_uri": "https://localhost:8080/"
        },
        "id": "o3-ycSAa5VoS",
        "outputId": "1c74de14-31d3-427a-d21d-3f23e95b001d"
      },
      "outputs": [
        {
          "data": {
            "text/plain": [
              "array([[ 1,  2,  3,  4],\n",
              "       [ 3,  4,  5,  6],\n",
              "       [ 7,  8,  9, 10]])"
            ]
          },
          "execution_count": 13,
          "metadata": {},
          "output_type": "execute_result"
        }
      ],
      "source": [
        "a = np.array([\n",
        "  [1, 2, 3, 4],\n",
        "  [3, 4, 5, 6],\n",
        "  [7, 8, 9, 10]\n",
        "])\n",
        "a"
      ]
    },
    {
      "cell_type": "code",
      "execution_count": null,
      "metadata": {
        "colab": {
          "base_uri": "https://localhost:8080/"
        },
        "id": "KAlPfPm0-kWR",
        "outputId": "9fb74060-7786-4740-b4b9-b78363d3be75"
      },
      "outputs": [
        {
          "ename": "ValueError",
          "evalue": "operands could not be broadcast together with shapes (3,4) (2,) ",
          "output_type": "error",
          "traceback": [
            "\u001b[0;31m---------------------------------------------------------------------------\u001b[0m",
            "\u001b[0;31mValueError\u001b[0m                                Traceback (most recent call last)",
            "\u001b[0;32m<ipython-input-14-50e10479f21c>\u001b[0m in \u001b[0;36m<cell line: 2>\u001b[0;34m()\u001b[0m\n\u001b[1;32m      1\u001b[0m \u001b[0mb\u001b[0m \u001b[0;34m=\u001b[0m \u001b[0mnp\u001b[0m\u001b[0;34m.\u001b[0m\u001b[0marray\u001b[0m\u001b[0;34m(\u001b[0m\u001b[0;34m[\u001b[0m\u001b[0;36m2\u001b[0m\u001b[0;34m,\u001b[0m \u001b[0;36m2\u001b[0m\u001b[0;34m]\u001b[0m\u001b[0;34m)\u001b[0m\u001b[0;34m\u001b[0m\u001b[0;34m\u001b[0m\u001b[0m\n\u001b[0;32m----> 2\u001b[0;31m \u001b[0ma\u001b[0m \u001b[0;34m*\u001b[0m \u001b[0mb\u001b[0m\u001b[0;34m\u001b[0m\u001b[0;34m\u001b[0m\u001b[0m\n\u001b[0m",
            "\u001b[0;31mValueError\u001b[0m: operands could not be broadcast together with shapes (3,4) (2,) "
          ]
        }
      ],
      "source": [
        "b = np.array([2, 2])\n",
        "a * b"
      ]
    },
    {
      "cell_type": "code",
      "execution_count": null,
      "metadata": {
        "colab": {
          "base_uri": "https://localhost:8080/"
        },
        "id": "xnjPLilY5c7B",
        "outputId": "dfeada3d-fcd3-4d17-9903-bf1453bb752f"
      },
      "outputs": [
        {
          "data": {
            "text/plain": [
              "array([[ 1,  2,  3,  4],\n",
              "       [ 3,  4,  5,  6],\n",
              "       [ 7,  8,  9, 10]])"
            ]
          },
          "execution_count": 15,
          "metadata": {},
          "output_type": "execute_result"
        }
      ],
      "source": [
        "a"
      ]
    },
    {
      "cell_type": "code",
      "execution_count": null,
      "metadata": {
        "colab": {
          "base_uri": "https://localhost:8080/"
        },
        "id": "i-t5hrzn-4Zm",
        "outputId": "7847e6fc-bffe-413e-a4ae-1d20af9e1ebc"
      },
      "outputs": [
        {
          "data": {
            "text/plain": [
              "array([10, 20, 30, 40])"
            ]
          },
          "execution_count": 19,
          "metadata": {},
          "output_type": "execute_result"
        }
      ],
      "source": [
        "b = np.array([10, 20, 30, 40])\n",
        "b"
      ]
    },
    {
      "cell_type": "code",
      "execution_count": null,
      "metadata": {
        "colab": {
          "base_uri": "https://localhost:8080/"
        },
        "id": "qgwswCVB_Inh",
        "outputId": "884c2483-06ab-4940-f217-4350d3972e8d"
      },
      "outputs": [
        {
          "data": {
            "text/plain": [
              "array([[ 10,  40,  90, 160],\n",
              "       [ 30,  80, 150, 240],\n",
              "       [ 70, 160, 270, 400]])"
            ]
          },
          "execution_count": 20,
          "metadata": {},
          "output_type": "execute_result"
        }
      ],
      "source": [
        "a * b"
      ]
    },
    {
      "cell_type": "code",
      "execution_count": null,
      "metadata": {
        "colab": {
          "base_uri": "https://localhost:8080/"
        },
        "id": "XKqQRqvm-9K5",
        "outputId": "18dfde81-a587-4d66-dd2b-9c331d9209ef"
      },
      "outputs": [
        {
          "data": {
            "text/plain": [
              "array([[10],\n",
              "       [20],\n",
              "       [30]])"
            ]
          },
          "execution_count": 18,
          "metadata": {},
          "output_type": "execute_result"
        }
      ],
      "source": [
        "c = np.array([10, 20, 30]).reshape(3,1)\n",
        "c"
      ]
    },
    {
      "cell_type": "code",
      "execution_count": null,
      "metadata": {
        "colab": {
          "base_uri": "https://localhost:8080/"
        },
        "id": "pO1NyhwL_NRa",
        "outputId": "63a77a2f-9680-4b2b-cf3a-a89384f7b58a"
      },
      "outputs": [
        {
          "data": {
            "text/plain": [
              "array([[ 10,  20,  30,  40],\n",
              "       [ 60,  80, 100, 120],\n",
              "       [210, 240, 270, 300]])"
            ]
          },
          "execution_count": 21,
          "metadata": {},
          "output_type": "execute_result"
        }
      ],
      "source": [
        "a * c"
      ]
    },
    {
      "cell_type": "markdown",
      "metadata": {
        "id": "hrcFEUj85lit"
      },
      "source": [
        "#### **3c. Funções matemáticas do NumPy**\n",
        "\n",
        "Além de fazer operações matemáticas entre arrays, também podemos usar funções matemáticas conhecidas. O NumPy possui milhares de funções já implementadas. Por exemplo, ele possui as funções trigonométricas.\n",
        "\n",
        "Função seno:"
      ]
    },
    {
      "cell_type": "code",
      "execution_count": null,
      "metadata": {
        "id": "b_3X02275iuT"
      },
      "outputs": [],
      "source": [
        "x = np.array([1.24,2,3.89,4])"
      ]
    },
    {
      "cell_type": "code",
      "execution_count": null,
      "metadata": {
        "colab": {
          "base_uri": "https://localhost:8080/"
        },
        "id": "h8oRtbgfAM2x",
        "outputId": "2249173f-891c-48d4-c2ac-4ec2107381d4"
      },
      "outputs": [
        {
          "data": {
            "text/plain": [
              "array([ 0.945784  ,  0.90929743, -0.68047257, -0.7568025 ])"
            ]
          },
          "execution_count": 31,
          "metadata": {},
          "output_type": "execute_result"
        }
      ],
      "source": [
        "np.sin(x)"
      ]
    },
    {
      "cell_type": "markdown",
      "metadata": {
        "id": "tN-63WQq5q38"
      },
      "source": [
        "Função cosseno:"
      ]
    },
    {
      "cell_type": "code",
      "execution_count": null,
      "metadata": {
        "colab": {
          "base_uri": "https://localhost:8080/"
        },
        "id": "_C3XdcXI5omd",
        "outputId": "1065ca2b-7bba-416a-acdf-4327178a2bd8"
      },
      "outputs": [
        {
          "data": {
            "text/plain": [
              "array([ 0.32479628, -0.41614684, -0.73277355, -0.65364362])"
            ]
          },
          "execution_count": 32,
          "metadata": {},
          "output_type": "execute_result"
        }
      ],
      "source": [
        "np.cos(x)"
      ]
    },
    {
      "cell_type": "markdown",
      "metadata": {
        "id": "_SZdx08S5v8f"
      },
      "source": [
        "O NumPy também possui o valor de constantes matemáticas comuns, como o π (\"pi\")."
      ]
    },
    {
      "cell_type": "code",
      "execution_count": null,
      "metadata": {
        "colab": {
          "base_uri": "https://localhost:8080/"
        },
        "id": "cLrSgy-i5tza",
        "outputId": "07f2a59b-8bd1-46e7-d914-763c6c217bed"
      },
      "outputs": [
        {
          "data": {
            "text/plain": [
              "3.141592653589793"
            ]
          },
          "execution_count": 33,
          "metadata": {},
          "output_type": "execute_result"
        }
      ],
      "source": [
        "np.pi"
      ]
    },
    {
      "cell_type": "code",
      "execution_count": null,
      "metadata": {
        "colab": {
          "base_uri": "https://localhost:8080/"
        },
        "id": "LMsGFtpSAtHi",
        "outputId": "07f96e89-ee96-41a9-daf7-ed74f38f19ab"
      },
      "outputs": [
        {
          "data": {
            "text/plain": [
              "array([ 0.0000000e+00,  1.0000000e+00,  1.2246468e-16, -1.0000000e+00,\n",
              "       -2.4492936e-16])"
            ]
          },
          "execution_count": 34,
          "metadata": {},
          "output_type": "execute_result"
        }
      ],
      "source": [
        "x = np.array([0, np.pi / 2 , np.pi, 3 * np.pi / 2, 2 * np.pi])\n",
        "np.sin(x)"
      ]
    },
    {
      "cell_type": "markdown",
      "metadata": {
        "id": "LJevHLxr503q"
      },
      "source": [
        "Os valores `1.2246468e-16` e `-2.4492936e-16` representam o número zero. O motivo de não estar zerado é que nem todas as operações com números de ponto flutuante (números reais com decimal) conseguem ser perfeitamente representadas pelo computador. Números de ponto flutuante sempre tem um grau de imprecisão. Então dentro da precisão do nosso cálculo, esses valores são basicamente o mesmo que zero.\n",
        "\n",
        "Depois das funções trigonométricas, vamos ver a função exponencial."
      ]
    },
    {
      "cell_type": "code",
      "execution_count": null,
      "metadata": {
        "colab": {
          "base_uri": "https://localhost:8080/"
        },
        "id": "uL68Oeom5ykv",
        "outputId": "a9b4e344-2761-491e-9f93-25c8d317e554"
      },
      "outputs": [
        {
          "data": {
            "text/plain": [
              "array([ 2.71828183,  7.3890561 , 20.08553692, 54.59815003])"
            ]
          },
          "execution_count": 35,
          "metadata": {},
          "output_type": "execute_result"
        }
      ],
      "source": [
        "x = np.array([1, 2, 3, 4])\n",
        "np.exp(x)"
      ]
    },
    {
      "cell_type": "markdown",
      "metadata": {
        "id": "HbydHxO3547E"
      },
      "source": [
        "Também existe a constante \"e\" (número euleriano) no NumPy. De fato, a função exponencial `np.exp(x)` nada mais é do que o número euleriano elevado a x.\n",
        "$$e^{x}$$\n",
        "\n",
        "Assim, também podemos fazer a mesma conta abaixo."
      ]
    },
    {
      "cell_type": "code",
      "execution_count": null,
      "metadata": {
        "colab": {
          "base_uri": "https://localhost:8080/"
        },
        "id": "QyWOjeXx524G",
        "outputId": "729a4202-a821-489b-f94b-6c2f53bd389c"
      },
      "outputs": [
        {
          "data": {
            "text/plain": [
              "2.718281828459045"
            ]
          },
          "execution_count": 36,
          "metadata": {},
          "output_type": "execute_result"
        }
      ],
      "source": [
        "np.e"
      ]
    },
    {
      "cell_type": "code",
      "execution_count": null,
      "metadata": {
        "colab": {
          "base_uri": "https://localhost:8080/"
        },
        "id": "OATYM4hqByCR",
        "outputId": "c67e1e5d-74cf-4b14-9a06-39557a948cd3"
      },
      "outputs": [
        {
          "data": {
            "text/plain": [
              "array([ 2.71828183,  7.3890561 , 20.08553692, 54.59815003])"
            ]
          },
          "execution_count": 37,
          "metadata": {},
          "output_type": "execute_result"
        }
      ],
      "source": [
        "x = np.array([1, 2, 3, 4])\n",
        "np.e ** x"
      ]
    },
    {
      "cell_type": "markdown",
      "metadata": {
        "id": "OEhl2R2259sh"
      },
      "source": [
        "Como falamos, existem milhares de funções matemáticas nativamente no NumPy, e todas são muito úteis para fazermos cálculos matemáticos computacionais. Porém, se tentarmos listar todas, precisaríamos de um texto insanamente maior. Então melhor ficarmos só com uma ou outra mesmo.\n",
        "\n",
        "Temos falado, ao longo do texto, sobre o poder e eficiência do NumPy. Do ponto de vista de escrever código, uma enorme vantagem do NumPy é que podemos escrever equações matemáticas complicadas para todos os elementos do nosso array da mesma forma que escreveríamos no papel.\n",
        "\n",
        "Aqui entra em foco a ideia de \"operações vetorizadas\", que encontramos antes. No fim das contas, conseguimos escrever tudo de forma vetorizada no NumPy.\n",
        "\n",
        "Imagine a equação abaixo:\n",
        "$$ e^{x} + sin(x) $$\n",
        "\n",
        "Se quisermos achar o valor dela para diversos valores de \"x\" entre -1 e 2 no Python, teríamos que fazer um loop iterativo. No NumPy, a operação é mais clara e direta.\n"
      ]
    },
    {
      "cell_type": "code",
      "execution_count": null,
      "metadata": {
        "colab": {
          "base_uri": "https://localhost:8080/"
        },
        "id": "6tda2C4K57w7",
        "outputId": "61a34ef2-e88a-454a-c3db-2332da9856d1"
      },
      "outputs": [
        {
          "data": {
            "text/plain": [
              "array([-1.        , -0.66666667, -0.33333333,  0.        ,  0.33333333,\n",
              "        0.66666667,  1.        ,  1.33333333,  1.66666667,  2.        ])"
            ]
          },
          "execution_count": 38,
          "metadata": {},
          "output_type": "execute_result"
        }
      ],
      "source": [
        "x = np.linspace(-1, 2, 10)\n",
        "x"
      ]
    },
    {
      "cell_type": "code",
      "execution_count": null,
      "metadata": {
        "colab": {
          "base_uri": "https://localhost:8080/"
        },
        "id": "XDNHdjFwCrfn",
        "outputId": "3db27cfa-2935-4bc5-d23a-9ff9dc6b7c28"
      },
      "outputs": [
        {
          "data": {
            "text/plain": [
              "array([-0.47359154, -0.10495268,  0.38933661,  1.        ,  1.72280712,\n",
              "        2.56610384,  3.55975281,  4.7656058 ,  6.28989801,  8.29835353])"
            ]
          },
          "execution_count": 39,
          "metadata": {},
          "output_type": "execute_result"
        }
      ],
      "source": [
        "np.exp(x) + np.sin(x)"
      ]
    },
    {
      "cell_type": "markdown",
      "metadata": {
        "id": "4lPU_ziD6B_n"
      },
      "source": [
        "Por fim, o último conceito essencial de se conhecer quanto a operações matemáticas no NumPy é o de número infinito e de NaN (not a number).\n",
        "\n",
        "O NumPy possui duas constantes, `np.inf` e `np.NaN` que representam um \"número infinito\" e um erro, respectivamente.\n",
        "\n",
        "O \"número infinito\" é um valor de ponto flutuante que é maior que qualquer outro número. Se colocarmos um sinal negativo, ele vira \"menos infinito\", e passa a ser menor que qualquer outro número."
      ]
    },
    {
      "cell_type": "code",
      "execution_count": null,
      "metadata": {
        "colab": {
          "base_uri": "https://localhost:8080/"
        },
        "id": "uyqaYCSbHKuM",
        "outputId": "eeb9f4ad-b9dd-461a-89d4-cd698536ff67"
      },
      "outputs": [
        {
          "data": {
            "text/plain": [
              "True"
            ]
          },
          "execution_count": 57,
          "metadata": {},
          "output_type": "execute_result"
        }
      ],
      "source": [
        "np.inf > 999999999999999999999999"
      ]
    },
    {
      "cell_type": "code",
      "execution_count": null,
      "metadata": {
        "colab": {
          "base_uri": "https://localhost:8080/"
        },
        "id": "rl5FFePgHMnG",
        "outputId": "bcd645a4-b1a7-40c5-8774-d3a04f2f1dd6"
      },
      "outputs": [
        {
          "data": {
            "text/plain": [
              "True"
            ]
          },
          "execution_count": 58,
          "metadata": {},
          "output_type": "execute_result"
        }
      ],
      "source": [
        "-np.inf < -999999999999999999999999"
      ]
    },
    {
      "cell_type": "code",
      "execution_count": null,
      "metadata": {
        "colab": {
          "base_uri": "https://localhost:8080/"
        },
        "id": "7eD41rMUHl7j",
        "outputId": "5491f355-22aa-4933-ba57-efec7f53f65f"
      },
      "outputs": [
        {
          "data": {
            "text/plain": [
              "True"
            ]
          },
          "execution_count": 62,
          "metadata": {},
          "output_type": "execute_result"
        }
      ],
      "source": [
        "(np.inf + 1) == np.inf"
      ]
    },
    {
      "cell_type": "code",
      "execution_count": null,
      "metadata": {
        "colab": {
          "base_uri": "https://localhost:8080/"
        },
        "id": "UIOGBFqoISxv",
        "outputId": "f6127d58-5163-4d53-e473-7fb15c98f119"
      },
      "outputs": [
        {
          "data": {
            "text/plain": [
              "nan"
            ]
          },
          "execution_count": 64,
          "metadata": {},
          "output_type": "execute_result"
        }
      ],
      "source": [
        "np.inf - np.inf"
      ]
    },
    {
      "cell_type": "code",
      "execution_count": null,
      "metadata": {
        "colab": {
          "base_uri": "https://localhost:8080/"
        },
        "id": "XobOrWXoIfJ-",
        "outputId": "72785dbe-d595-4065-fe9e-4f37b556ae00"
      },
      "outputs": [
        {
          "data": {
            "text/plain": [
              "True"
            ]
          },
          "execution_count": 66,
          "metadata": {},
          "output_type": "execute_result"
        }
      ],
      "source": [
        "np.nan != np.nan"
      ]
    },
    {
      "cell_type": "code",
      "execution_count": null,
      "metadata": {
        "colab": {
          "base_uri": "https://localhost:8080/"
        },
        "id": "-n9BzyWEIz1e",
        "outputId": "0d4c3171-5d97-4f3e-e46b-8994cc277227"
      },
      "outputs": [
        {
          "name": "stderr",
          "output_type": "stream",
          "text": [
            "<ipython-input-67-025c907bf4fb>:1: RuntimeWarning: divide by zero encountered in divide\n",
            "  np.array([1]) / np.array([0])\n"
          ]
        },
        {
          "data": {
            "text/plain": [
              "array([inf])"
            ]
          },
          "execution_count": 67,
          "metadata": {},
          "output_type": "execute_result"
        }
      ],
      "source": [
        "np.array([1]) / np.array([0])"
      ]
    },
    {
      "cell_type": "code",
      "execution_count": null,
      "metadata": {
        "id": "DqEHb_MLGJu0"
      },
      "outputs": [],
      "source": [
        "a = np.array([1,2,3,4,5])"
      ]
    },
    {
      "cell_type": "code",
      "execution_count": null,
      "metadata": {
        "colab": {
          "base_uri": "https://localhost:8080/"
        },
        "id": "7Xfsy8Vx6Dbz",
        "outputId": "731fe4df-f1d5-44cb-90e6-fcbe3c0be493"
      },
      "outputs": [
        {
          "data": {
            "text/plain": [
              "dtype('int64')"
            ]
          },
          "execution_count": 42,
          "metadata": {},
          "output_type": "execute_result"
        }
      ],
      "source": [
        "a.dtype"
      ]
    },
    {
      "cell_type": "code",
      "execution_count": null,
      "metadata": {
        "colab": {
          "base_uri": "https://localhost:8080/",
          "height": 176
        },
        "id": "dyupieXHGQN7",
        "outputId": "804dc3ad-1aa6-4da4-9888-ac5607239487"
      },
      "outputs": [
        {
          "ename": "ValueError",
          "evalue": "cannot convert float NaN to integer",
          "output_type": "error",
          "traceback": [
            "\u001b[0;31m---------------------------------------------------------------------------\u001b[0m",
            "\u001b[0;31mValueError\u001b[0m                                Traceback (most recent call last)",
            "\u001b[0;32m<ipython-input-43-75f36f8e754e>\u001b[0m in \u001b[0;36m<cell line: 1>\u001b[0;34m()\u001b[0m\n\u001b[0;32m----> 1\u001b[0;31m \u001b[0ma\u001b[0m\u001b[0;34m[\u001b[0m\u001b[0;36m0\u001b[0m\u001b[0;34m]\u001b[0m \u001b[0;34m=\u001b[0m \u001b[0mnp\u001b[0m\u001b[0;34m.\u001b[0m\u001b[0mnan\u001b[0m\u001b[0;34m\u001b[0m\u001b[0;34m\u001b[0m\u001b[0m\n\u001b[0m",
            "\u001b[0;31mValueError\u001b[0m: cannot convert float NaN to integer"
          ]
        }
      ],
      "source": [
        "a[0] = np.nan"
      ]
    },
    {
      "cell_type": "code",
      "execution_count": null,
      "metadata": {
        "id": "OJHASQryGej3"
      },
      "outputs": [],
      "source": [
        "a = np.array([np.nan,2,3,4,5])"
      ]
    },
    {
      "cell_type": "code",
      "execution_count": null,
      "metadata": {
        "colab": {
          "base_uri": "https://localhost:8080/"
        },
        "id": "SwEZyYEjGiA_",
        "outputId": "f6e38512-3802-4f4d-93be-0331993f1c2b"
      },
      "outputs": [
        {
          "data": {
            "text/plain": [
              "dtype('float64')"
            ]
          },
          "execution_count": 45,
          "metadata": {},
          "output_type": "execute_result"
        }
      ],
      "source": [
        "a.dtype"
      ]
    },
    {
      "cell_type": "code",
      "execution_count": null,
      "metadata": {
        "id": "TgT3QfLdGtEJ"
      },
      "outputs": [],
      "source": [
        "None"
      ]
    },
    {
      "cell_type": "code",
      "execution_count": null,
      "metadata": {
        "colab": {
          "base_uri": "https://localhost:8080/"
        },
        "id": "MhsJXWpXGul5",
        "outputId": "a00f3941-b115-46d5-88d2-96e8ac438ae2"
      },
      "outputs": [
        {
          "data": {
            "text/plain": [
              "nan"
            ]
          },
          "execution_count": 47,
          "metadata": {},
          "output_type": "execute_result"
        }
      ],
      "source": [
        "np.nan"
      ]
    },
    {
      "cell_type": "code",
      "execution_count": null,
      "metadata": {
        "colab": {
          "base_uri": "https://localhost:8080/"
        },
        "id": "PjFIOr-iGx_T",
        "outputId": "3641d44c-3f3a-4552-b598-8db2b2d556cb"
      },
      "outputs": [
        {
          "name": "stderr",
          "output_type": "stream",
          "text": [
            "<ipython-input-53-796728115601>:1: RuntimeWarning: invalid value encountered in double_scalars\n",
            "  np.float64(0)/np.float64(0)\n"
          ]
        },
        {
          "data": {
            "text/plain": [
              "nan"
            ]
          },
          "execution_count": 53,
          "metadata": {},
          "output_type": "execute_result"
        }
      ],
      "source": [
        "np.float64(0)/np.float64(0)"
      ]
    },
    {
      "cell_type": "markdown",
      "metadata": {
        "id": "mVt280BH6G5I"
      },
      "source": [
        "Já o NaN é um valor indefinido. Sempre que nossa operação não fizer sentido, o numpy retorna um NaN."
      ]
    },
    {
      "cell_type": "code",
      "execution_count": null,
      "metadata": {
        "colab": {
          "base_uri": "https://localhost:8080/"
        },
        "id": "NTmXfzsZ6FOQ",
        "outputId": "14ef1aa9-1378-4e8b-de2d-28dd685a4d42"
      },
      "outputs": [
        {
          "name": "stderr",
          "output_type": "stream",
          "text": [
            "<ipython-input-68-d2d8f9f9511e>:1: RuntimeWarning: invalid value encountered in double_scalars\n",
            "  np.float64(0) / np.float64(0)\n"
          ]
        },
        {
          "data": {
            "text/plain": [
              "nan"
            ]
          },
          "execution_count": 68,
          "metadata": {},
          "output_type": "execute_result"
        }
      ],
      "source": [
        "np.float64(0) / np.float64(0)"
      ]
    },
    {
      "cell_type": "markdown",
      "metadata": {
        "id": "qvjktUdr6JSA"
      },
      "source": [
        "O cuidado que devemos tomar com o NaN é que todas as operações entre um número e um NaN passam a ser NaN."
      ]
    },
    {
      "cell_type": "code",
      "execution_count": null,
      "metadata": {
        "colab": {
          "base_uri": "https://localhost:8080/"
        },
        "id": "D33bXZmP6IGZ",
        "outputId": "92a2a1e4-38fd-47bc-c4c2-be690196057b"
      },
      "outputs": [
        {
          "data": {
            "text/plain": [
              "nan"
            ]
          },
          "execution_count": 69,
          "metadata": {},
          "output_type": "execute_result"
        }
      ],
      "source": [
        "np.NaN + 44"
      ]
    },
    {
      "cell_type": "markdown",
      "metadata": {
        "id": "bEGvI_8UkSom"
      },
      "source": [
        "## **4. Álgebra Linear e Estatística básica**"
      ]
    },
    {
      "cell_type": "markdown",
      "metadata": {
        "id": "it8hgDKj6aoY"
      },
      "source": [
        "#### **4a. Álgebra Linear**\n",
        "\n",
        "Da definição do Wikipédia:\n",
        "\n",
        "Álgebra linear é um ramo da matemática que surgiu do estudo detalhado de sistemas de equações lineares [...]. A álgebra linear utiliza alguns conceitos e estruturas fundamentais da matemática como vetores,[...] e matrizes.\n",
        "\n",
        "Independente da definição exata, a questão é que a álgebra linear estuda vetores e matrizes. Como vimos até aqui, o NumPy opera de forma bastante análoga à vetores e matrizes.\n",
        "\n",
        "O que não vimos ainda é como o NumPy nos permite também executar operações típicas da álgebra linear, como \"produto entre matrizes\".\n",
        "\n",
        "De fato, o NumPy tem a capacidade de realizar um \"produto escalar\" entre vetores, de fazer o produto de uma matriz por um vetor, e de fazer o produto entre matrizes.\n",
        "\n",
        "Vamos relembrar o que são essas operações. O produto escalar de dois vetores consiste em multiplicar os dois, elemento a elemento, e depois somar os resultados de cada par de elementos.\n",
        "\n",
        "![inner_prod](https://s3-sa-east-1.amazonaws.com/lcpi/d331eb96-4d9e-4cf4-98f6-23fdd8bebf7a.png)\n",
        "\n",
        "(Exemplo de produto escalar, ou \"produto interno\") <br>\n",
        "(**Fonte:** Imagem original Ada)\n",
        "\n",
        "A sintaxe do NumPy é dada abaixo."
      ]
    },
    {
      "cell_type": "code",
      "execution_count": null,
      "metadata": {
        "id": "Sy-Qn3MV6Kje"
      },
      "outputs": [],
      "source": [
        "vec1 = np.array([1, 2, 3])\n",
        "vec2 = np.array([2, 2, 3])"
      ]
    },
    {
      "cell_type": "code",
      "execution_count": null,
      "metadata": {
        "colab": {
          "base_uri": "https://localhost:8080/"
        },
        "id": "Vk3WbQ2O6eyn",
        "outputId": "e8d4d06e-c92e-4749-9714-d1225ae91d58"
      },
      "outputs": [
        {
          "data": {
            "text/plain": [
              "15"
            ]
          },
          "execution_count": 71,
          "metadata": {},
          "output_type": "execute_result"
        }
      ],
      "source": [
        "vec1.dot(vec2)"
      ]
    },
    {
      "cell_type": "code",
      "execution_count": null,
      "metadata": {
        "colab": {
          "base_uri": "https://localhost:8080/"
        },
        "id": "a2hD_HNvL06R",
        "outputId": "2361eabf-faf2-4aa4-cf68-1250a91daa5c"
      },
      "outputs": [
        {
          "data": {
            "text/plain": [
              "15"
            ]
          },
          "execution_count": 72,
          "metadata": {},
          "output_type": "execute_result"
        }
      ],
      "source": [
        "vec1 @ vec2"
      ]
    },
    {
      "cell_type": "markdown",
      "metadata": {
        "id": "ACh1wlpZ6kKR"
      },
      "source": [
        "O produto de matriz e vetor é dado fazendo algo semelhante ao produto escalar. Para cada linha da matriz, a gente faz o produto escalar entre aquela linha e o vetor. O resultado então vai ser o elemento que se encontra na mesma posição da linha.\n",
        "\n",
        "![matrix_vec](https://s3-sa-east-1.amazonaws.com/lcpi/364aee03-990f-49ca-a3b8-19881f09be3c.svg)\n",
        "\n",
        "As possibilidades de sintaxe do NumPy seguem abaixo."
      ]
    },
    {
      "cell_type": "code",
      "execution_count": null,
      "metadata": {
        "id": "Vblm1mvP6haL"
      },
      "outputs": [],
      "source": [
        "matrix = np.array([\n",
        "  [1, 1, 1],\n",
        "  [1, 2, 3],\n",
        "  [1, 1, 1]\n",
        "])\n",
        "vec2 = np.array([2, 2, 3])"
      ]
    },
    {
      "cell_type": "code",
      "execution_count": null,
      "metadata": {
        "colab": {
          "base_uri": "https://localhost:8080/"
        },
        "id": "_Iu3k5VL6pV0",
        "outputId": "438eba9e-d1ca-4079-dbe4-783738226e3d"
      },
      "outputs": [
        {
          "data": {
            "text/plain": [
              "array([ 7, 15,  7])"
            ]
          },
          "execution_count": 74,
          "metadata": {},
          "output_type": "execute_result"
        }
      ],
      "source": [
        "matrix.dot(vec2)"
      ]
    },
    {
      "cell_type": "code",
      "execution_count": null,
      "metadata": {
        "colab": {
          "base_uri": "https://localhost:8080/"
        },
        "id": "YPmzzZ6EMJrt",
        "outputId": "a3b80dea-b9c7-4fb1-bbe5-13e3fae5e362"
      },
      "outputs": [
        {
          "data": {
            "text/plain": [
              "array([ 7, 15,  7])"
            ]
          },
          "execution_count": 75,
          "metadata": {},
          "output_type": "execute_result"
        }
      ],
      "source": [
        "matrix @ vec2"
      ]
    },
    {
      "cell_type": "markdown",
      "metadata": {
        "id": "eS95o47p6s4f"
      },
      "source": [
        "Na multiplicação entre matrizes, nós multiplicamos a linha da matriz da esquerda pela coluna da matriz da direita, elemento a elemento, e somamos o resultado (produto escalar entre a linha da matriz da esquerda com a coluna da matriz da direita) para obter uma nova matriz.\n",
        "\n",
        "Neste caso, quando fazemos o produto interno da linha N com a coluna M, nós obtemos o elemento que ficará na posição (N,M) na nova matriz.\n",
        "\n",
        "![matrix_mult01](https://s3-sa-east-1.amazonaws.com/lcpi/7569206e-95e5-405b-8bff-6b7901590149.svg)\n",
        "\n",
        "![matrix_mult02](https://s3-sa-east-1.amazonaws.com/lcpi/e7217171-a90e-483e-8af4-0b73a463951c.svg)\n",
        "\n",
        "Como nos casos anteriores, abaixo temos a sintaxe do NumPy."
      ]
    },
    {
      "cell_type": "code",
      "execution_count": null,
      "metadata": {
        "colab": {
          "base_uri": "https://localhost:8080/"
        },
        "id": "5U6mAG1U6qwt",
        "outputId": "fb44efe3-f42e-4a7b-d6e1-c75160040cdd"
      },
      "outputs": [
        {
          "data": {
            "text/plain": [
              "array([[3, 3, 3],\n",
              "       [6, 6, 6],\n",
              "       [3, 3, 3]])"
            ]
          },
          "execution_count": 76,
          "metadata": {},
          "output_type": "execute_result"
        }
      ],
      "source": [
        "matrix1 = np.array([\n",
        "  [1, 1, 1],\n",
        "  [1, 2, 3],\n",
        "  [1, 1, 1]\n",
        "])\n",
        "matrix2 = np.array([\n",
        "  [1, 1, 1],\n",
        "  [1, 1, 1],\n",
        "  [1, 1, 1]\n",
        "])\n",
        "matrix1.dot(matrix2)"
      ]
    },
    {
      "cell_type": "markdown",
      "metadata": {
        "id": "azeBTw5q7Kxo"
      },
      "source": [
        "No campo da álgebra linear, existem algumas matrizes especiais muito úteis. O NumPy possui métodos de criação para a maioria delas.\n",
        "\n",
        "A mais importante é a chamada matriz identidade. Ela é uma matriz quadrada (mesmo número de linhas e colunas) com diagonal 1, e os outros valores 0."
      ]
    },
    {
      "cell_type": "code",
      "execution_count": null,
      "metadata": {
        "colab": {
          "base_uri": "https://localhost:8080/"
        },
        "id": "lTeqH65Z7IIw",
        "outputId": "871f149d-75ca-40b2-cf8b-e49964ef39da"
      },
      "outputs": [
        {
          "data": {
            "text/plain": [
              "array([[1., 0., 0., 0., 0., 0., 0., 0., 0., 0.],\n",
              "       [0., 1., 0., 0., 0., 0., 0., 0., 0., 0.],\n",
              "       [0., 0., 1., 0., 0., 0., 0., 0., 0., 0.],\n",
              "       [0., 0., 0., 1., 0., 0., 0., 0., 0., 0.],\n",
              "       [0., 0., 0., 0., 1., 0., 0., 0., 0., 0.],\n",
              "       [0., 0., 0., 0., 0., 1., 0., 0., 0., 0.],\n",
              "       [0., 0., 0., 0., 0., 0., 1., 0., 0., 0.],\n",
              "       [0., 0., 0., 0., 0., 0., 0., 1., 0., 0.],\n",
              "       [0., 0., 0., 0., 0., 0., 0., 0., 1., 0.],\n",
              "       [0., 0., 0., 0., 0., 0., 0., 0., 0., 1.]])"
            ]
          },
          "execution_count": 79,
          "metadata": {},
          "output_type": "execute_result"
        }
      ],
      "source": [
        "np.identity(10)"
      ]
    },
    {
      "cell_type": "code",
      "execution_count": null,
      "metadata": {
        "colab": {
          "base_uri": "https://localhost:8080/"
        },
        "id": "sl0Y9c7DNeel",
        "outputId": "4debda86-a8f4-4726-e91a-6f9bf118aa5d"
      },
      "outputs": [
        {
          "data": {
            "text/plain": [
              "array([[1, 1, 1],\n",
              "       [1, 2, 3],\n",
              "       [1, 1, 1]])"
            ]
          },
          "execution_count": 80,
          "metadata": {},
          "output_type": "execute_result"
        }
      ],
      "source": [
        "matrix1"
      ]
    },
    {
      "cell_type": "code",
      "execution_count": null,
      "metadata": {
        "colab": {
          "base_uri": "https://localhost:8080/"
        },
        "id": "drY977H8NgUO",
        "outputId": "c8d48e9b-2ca6-48be-8995-3008892e861d"
      },
      "outputs": [
        {
          "data": {
            "text/plain": [
              "array([[1., 1., 1.],\n",
              "       [1., 2., 3.],\n",
              "       [1., 1., 1.]])"
            ]
          },
          "execution_count": 81,
          "metadata": {},
          "output_type": "execute_result"
        }
      ],
      "source": [
        "matrix1 @ np.identity(3)"
      ]
    },
    {
      "cell_type": "markdown",
      "metadata": {
        "id": "Xo4Eiqlz7Oh7"
      },
      "source": [
        "Ela se chama identidade pois qualquer matriz multiplicada pela identidade (por produto de matrizes) dá a própria matriz."
      ]
    },
    {
      "cell_type": "code",
      "execution_count": null,
      "metadata": {
        "colab": {
          "base_uri": "https://localhost:8080/"
        },
        "id": "QIPgWrlH7MFv",
        "outputId": "83eb4377-0f9c-470c-dc81-8bbd3b91293a"
      },
      "outputs": [
        {
          "data": {
            "text/plain": [
              "array([[1, 2],\n",
              "       [3, 4],\n",
              "       [5, 6]])"
            ]
          },
          "execution_count": 83,
          "metadata": {},
          "output_type": "execute_result"
        }
      ],
      "source": [
        "a = np.array([1,2,3,4,5,6]).reshape((3,2))\n",
        "a"
      ]
    },
    {
      "cell_type": "code",
      "execution_count": null,
      "metadata": {
        "colab": {
          "base_uri": "https://localhost:8080/"
        },
        "id": "nIf7EY-HN-AB",
        "outputId": "58092fc0-76e9-41ab-d39d-c0c4294572c0"
      },
      "outputs": [
        {
          "data": {
            "text/plain": [
              "array([[1, 3, 5],\n",
              "       [2, 4, 6]])"
            ]
          },
          "execution_count": 84,
          "metadata": {},
          "output_type": "execute_result"
        }
      ],
      "source": [
        "np.transpose(a)"
      ]
    },
    {
      "cell_type": "code",
      "execution_count": null,
      "metadata": {
        "colab": {
          "base_uri": "https://localhost:8080/"
        },
        "id": "zQR0btxROF4g",
        "outputId": "372703a5-3fd0-44bf-a0a4-26bca4945d4e"
      },
      "outputs": [
        {
          "data": {
            "text/plain": [
              "array([[1, 3, 5],\n",
              "       [2, 4, 6]])"
            ]
          },
          "execution_count": 85,
          "metadata": {},
          "output_type": "execute_result"
        }
      ],
      "source": [
        "a.T"
      ]
    },
    {
      "cell_type": "markdown",
      "metadata": {
        "id": "H3sPPhqx7Vuu"
      },
      "source": [
        "Outra operação comum com matrizes é a transposição.\n",
        "\n",
        "![transposition](https://s3-sa-east-1.amazonaws.com/lcpi/3d11b2c4-65cb-463a-9ccc-b858b065d2b3.png \"Transposição\")\n",
        "\n",
        "(**Fonte:** Imagem original Ada)\n",
        "\n",
        "A transposição pode ser feita com a função `np.transpose`."
      ]
    },
    {
      "cell_type": "code",
      "execution_count": null,
      "metadata": {
        "id": "KtuGaVqw7QrI"
      },
      "outputs": [],
      "source": []
    },
    {
      "cell_type": "markdown",
      "metadata": {
        "id": "or5TmyQF7eOX"
      },
      "source": [
        "Outra forma é usando o atributo `T`:"
      ]
    },
    {
      "cell_type": "code",
      "execution_count": null,
      "metadata": {
        "id": "SE0lQsRG7XE6"
      },
      "outputs": [],
      "source": []
    },
    {
      "cell_type": "markdown",
      "metadata": {
        "id": "se6x54Y07hjE"
      },
      "source": [
        "Operações mais específicas se encontram no módulo `linalg` do NumPy.\n",
        "\n",
        "Um exemplo é encontrar o determinante de uma matriz. O determinante é um número característico de uma dada matriz, e que se relaciona com diversas propriedades dela."
      ]
    },
    {
      "cell_type": "code",
      "execution_count": null,
      "metadata": {
        "colab": {
          "base_uri": "https://localhost:8080/"
        },
        "id": "cjbFiRB87fZV",
        "outputId": "a66b2f86-8669-42a3-cbd8-574e028d894e"
      },
      "outputs": [
        {
          "data": {
            "text/plain": [
              "array([[1, 2, 3],\n",
              "       [4, 5, 6],\n",
              "       [7, 8, 9]])"
            ]
          },
          "execution_count": 87,
          "metadata": {},
          "output_type": "execute_result"
        }
      ],
      "source": [
        "a = np.array([1,2,3,4,5,6,7,8,9]).reshape((3,3))\n",
        "a"
      ]
    },
    {
      "cell_type": "code",
      "execution_count": null,
      "metadata": {
        "colab": {
          "base_uri": "https://localhost:8080/"
        },
        "id": "2z4ENhIB7k5Z",
        "outputId": "d94276b0-de04-4632-9683-70c4da41aaec"
      },
      "outputs": [
        {
          "data": {
            "text/plain": [
              "0.0"
            ]
          },
          "execution_count": 88,
          "metadata": {},
          "output_type": "execute_result"
        }
      ],
      "source": [
        "np.linalg.det(a)"
      ]
    },
    {
      "cell_type": "code",
      "execution_count": null,
      "metadata": {
        "colab": {
          "base_uri": "https://localhost:8080/"
        },
        "id": "5cNM_f0SOZX4",
        "outputId": "4cd87cc1-4576-447e-c1af-ec704960f195"
      },
      "outputs": [
        {
          "name": "stdout",
          "output_type": "stream",
          "text": [
            "[[1. 0. 0.]\n",
            " [0. 1. 0.]\n",
            " [0. 0. 1.]]\n"
          ]
        }
      ],
      "source": [
        "c = np.identity(3)\n",
        "print(c)"
      ]
    },
    {
      "cell_type": "code",
      "execution_count": null,
      "metadata": {
        "colab": {
          "base_uri": "https://localhost:8080/"
        },
        "id": "mnwY8UxFOeDp",
        "outputId": "9e1901f2-59b9-4b35-91a2-b5546f8a1103"
      },
      "outputs": [
        {
          "data": {
            "text/plain": [
              "1.0"
            ]
          },
          "execution_count": 90,
          "metadata": {},
          "output_type": "execute_result"
        }
      ],
      "source": [
        "np.linalg.det(c)"
      ]
    },
    {
      "cell_type": "markdown",
      "metadata": {
        "id": "y-k63WlN7pEm"
      },
      "source": [
        "Para encontrar todas as funções específicas de Álgebra Linear que têm no NumPy, você pode acessar o link https://numpy.org/doc/stable/reference/routines.linalg.html.\n",
        "\n",
        "Algum exemplo de funções já implementadas na biblioteca:\n",
        "- Traço\n",
        "- Decomposição de vetores\n",
        "- Autovalor/autovetor\n",
        "- Norma de Matriz\n",
        "- Inversa\n",
        "- Etc..."
      ]
    },
    {
      "cell_type": "markdown",
      "metadata": {
        "id": "tFGPP86QkcfP"
      },
      "source": [
        "#### **4b. Estatística**\n",
        "\n",
        "Por fim, o NumPy também possui várias funções básicas de estatística, como mínimo, máximo, média, mediana, etc."
      ]
    },
    {
      "cell_type": "code",
      "execution_count": null,
      "metadata": {
        "colab": {
          "base_uri": "https://localhost:8080/"
        },
        "id": "z90dLGzp7lxP",
        "outputId": "d268343f-2923-4cac-aff9-976f1718afe1"
      },
      "outputs": [
        {
          "data": {
            "text/plain": [
              "array([[1, 2, 3],\n",
              "       [4, 5, 6]])"
            ]
          },
          "execution_count": 91,
          "metadata": {},
          "output_type": "execute_result"
        }
      ],
      "source": [
        "stats = np.array([[1, 2, 3], [4, 5, 6]])\n",
        "stats"
      ]
    },
    {
      "cell_type": "code",
      "execution_count": null,
      "metadata": {
        "colab": {
          "base_uri": "https://localhost:8080/"
        },
        "id": "BbjqM0Ue7sHB",
        "outputId": "df509859-7f65-4119-8322-4dda0a89a627"
      },
      "outputs": [
        {
          "data": {
            "text/plain": [
              "1"
            ]
          },
          "execution_count": 92,
          "metadata": {},
          "output_type": "execute_result"
        }
      ],
      "source": [
        "np.min(stats)"
      ]
    },
    {
      "cell_type": "code",
      "execution_count": null,
      "metadata": {
        "colab": {
          "base_uri": "https://localhost:8080/"
        },
        "id": "kMAwQKC-7tlF",
        "outputId": "e433014f-6f31-4853-a225-e9fad3c5d7d9"
      },
      "outputs": [
        {
          "data": {
            "text/plain": [
              "6"
            ]
          },
          "execution_count": 93,
          "metadata": {},
          "output_type": "execute_result"
        }
      ],
      "source": [
        "np.max(stats)"
      ]
    },
    {
      "cell_type": "code",
      "execution_count": null,
      "metadata": {
        "colab": {
          "base_uri": "https://localhost:8080/"
        },
        "id": "kTC39F1u7u3o",
        "outputId": "c8adce75-90d7-4479-b8da-0ac22309425a"
      },
      "outputs": [
        {
          "data": {
            "text/plain": [
              "array([1, 2, 3])"
            ]
          },
          "execution_count": 95,
          "metadata": {},
          "output_type": "execute_result"
        }
      ],
      "source": [
        "np.min(stats, axis=0)"
      ]
    },
    {
      "cell_type": "code",
      "execution_count": null,
      "metadata": {
        "colab": {
          "base_uri": "https://localhost:8080/"
        },
        "id": "jNnkQhDb7wCt",
        "outputId": "bf311513-1462-45a1-be43-00ab3ebb9345"
      },
      "outputs": [
        {
          "data": {
            "text/plain": [
              "array([1, 4])"
            ]
          },
          "execution_count": 96,
          "metadata": {},
          "output_type": "execute_result"
        }
      ],
      "source": [
        "np.min(stats, axis=1)"
      ]
    },
    {
      "cell_type": "code",
      "execution_count": null,
      "metadata": {
        "colab": {
          "base_uri": "https://localhost:8080/"
        },
        "id": "6eV7osw47xQa",
        "outputId": "85619756-db51-42c2-d24c-d8086ea4dd98"
      },
      "outputs": [
        {
          "data": {
            "text/plain": [
              "21"
            ]
          },
          "execution_count": 97,
          "metadata": {},
          "output_type": "execute_result"
        }
      ],
      "source": [
        "np.sum(stats)"
      ]
    },
    {
      "cell_type": "code",
      "execution_count": null,
      "metadata": {
        "colab": {
          "base_uri": "https://localhost:8080/"
        },
        "id": "VRSvG_ZW7yT0",
        "outputId": "19b8d3ab-c6a7-481e-f857-6289ac52fa41"
      },
      "outputs": [
        {
          "data": {
            "text/plain": [
              "array([ 6, 15])"
            ]
          },
          "execution_count": 99,
          "metadata": {},
          "output_type": "execute_result"
        }
      ],
      "source": [
        "np.sum(stats, axis=1)"
      ]
    },
    {
      "cell_type": "code",
      "execution_count": null,
      "metadata": {
        "colab": {
          "base_uri": "https://localhost:8080/"
        },
        "id": "SFLy2LBJ7zkf",
        "outputId": "1872e86d-8e44-4fb4-bd9e-84ddaf411ccb"
      },
      "outputs": [
        {
          "data": {
            "text/plain": [
              "3.5"
            ]
          },
          "execution_count": 100,
          "metadata": {},
          "output_type": "execute_result"
        }
      ],
      "source": [
        "np.mean(stats)"
      ]
    },
    {
      "cell_type": "code",
      "execution_count": null,
      "metadata": {
        "colab": {
          "base_uri": "https://localhost:8080/"
        },
        "id": "Fd7T-wSQ70h-",
        "outputId": "2ca23c01-3f71-4a8b-996d-bf22e5dd9696"
      },
      "outputs": [
        {
          "data": {
            "text/plain": [
              "3.5"
            ]
          },
          "execution_count": 101,
          "metadata": {},
          "output_type": "execute_result"
        }
      ],
      "source": [
        "np.median(stats)"
      ]
    },
    {
      "cell_type": "code",
      "execution_count": null,
      "metadata": {
        "colab": {
          "base_uri": "https://localhost:8080/"
        },
        "id": "gOp6qYkcUDah",
        "outputId": "280ffba9-b076-4a6b-c0df-d14cc59fe994"
      },
      "outputs": [
        {
          "data": {
            "text/plain": [
              "array([  1,   2,   3,   4,   7,  20, 300])"
            ]
          },
          "execution_count": 103,
          "metadata": {},
          "output_type": "execute_result"
        }
      ],
      "source": [
        "a = np.array([1,2,3,4,7,20,300])\n",
        "a"
      ]
    },
    {
      "cell_type": "code",
      "execution_count": null,
      "metadata": {
        "colab": {
          "base_uri": "https://localhost:8080/"
        },
        "id": "u-MXhc8WUJ0F",
        "outputId": "4e2dc2f3-ce05-4cc7-a3ab-19ba5fe0f31c"
      },
      "outputs": [
        {
          "data": {
            "text/plain": [
              "48.142857142857146"
            ]
          },
          "execution_count": 104,
          "metadata": {},
          "output_type": "execute_result"
        }
      ],
      "source": [
        "np.mean(a)"
      ]
    },
    {
      "cell_type": "code",
      "execution_count": null,
      "metadata": {
        "colab": {
          "base_uri": "https://localhost:8080/"
        },
        "id": "1pmRV0v0UNhG",
        "outputId": "33859fc7-e294-4f03-cf76-97c1a4c9dbd1"
      },
      "outputs": [
        {
          "data": {
            "text/plain": [
              "4.0"
            ]
          },
          "execution_count": 105,
          "metadata": {},
          "output_type": "execute_result"
        }
      ],
      "source": [
        "np.median(a)"
      ]
    },
    {
      "cell_type": "code",
      "execution_count": null,
      "metadata": {
        "colab": {
          "base_uri": "https://localhost:8080/"
        },
        "id": "VBF7eyXhVqK2",
        "outputId": "60b570f0-d769-437f-9b99-b495a46a7b1f"
      },
      "outputs": [
        {
          "data": {
            "text/plain": [
              "array([ 40000,  60000,  35000,  38000, 280000])"
            ]
          },
          "execution_count": 106,
          "metadata": {},
          "output_type": "execute_result"
        }
      ],
      "source": [
        "valores = np.array([40000, 60000, 35000, 38000, 280000])\n",
        "valores"
      ]
    },
    {
      "cell_type": "code",
      "execution_count": null,
      "metadata": {
        "colab": {
          "base_uri": "https://localhost:8080/"
        },
        "id": "dA84CWhXV1eT",
        "outputId": "1b6f0deb-f919-401a-f6ec-671260d12165"
      },
      "outputs": [
        {
          "data": {
            "text/plain": [
              "90600.0"
            ]
          },
          "execution_count": 107,
          "metadata": {},
          "output_type": "execute_result"
        }
      ],
      "source": [
        "np.mean(valores)"
      ]
    },
    {
      "cell_type": "code",
      "execution_count": null,
      "metadata": {
        "colab": {
          "base_uri": "https://localhost:8080/"
        },
        "id": "xc7gUj6-WIAH",
        "outputId": "829244e2-4b4f-4f1b-b64c-c8d28214507e"
      },
      "outputs": [
        {
          "data": {
            "text/plain": [
              "40000.0"
            ]
          },
          "execution_count": 108,
          "metadata": {},
          "output_type": "execute_result"
        }
      ],
      "source": [
        "np.median(valores)"
      ]
    },
    {
      "cell_type": "markdown",
      "metadata": {
        "id": "kXWmfyBk73RJ"
      },
      "source": [
        "**Referências:**\n",
        "--------------\n",
        "\n",
        "1. <a name=\"1\"></a> Documentação NumPy, disponível em https://NumPy.org/doc/stable/index.html ;\n",
        "2. <a name=\"2\"></a> Tutorial NumPy, disponível em https://NumPy.org/doc/stable/user/absolute_beginners.html ;\n",
        "3. <a name=\"3\"></a> Funções matemáticas do NumPy, disponível em https://numpy.org/doc/stable/reference/routines.math.html\n",
        "4. <a name=\"4\"></a> Álgebra linear com NumPy, disponível em https://numpy.org/doc/stable/reference/routines.linalg.html\n",
        "5. <a name=\"5\"></a> Tutorial NumPy da ABRACD, disponível em https://abracd.org/tutorial-numpy-os-primeiros-passos-em-computacao-numerica-e-tratamento-de-dados/\n",
        "\n",
        "[NumPy_docs]: https://NumPy.org/doc/stable/index.html\n",
        "[NumPy_install]: https://NumPy.org/install/"
      ]
    },
    {
      "cell_type": "markdown",
      "metadata": {
        "id": "8jYWKdqMkEba"
      },
      "source": [
        "----------\n",
        "----------\n",
        "----------"
      ]
    },
    {
      "cell_type": "markdown",
      "metadata": {
        "id": "TfxGDMTKUl3L"
      },
      "source": [
        "#### **4a. Reshaping de ndarrays**"
      ]
    },
    {
      "cell_type": "markdown",
      "metadata": {
        "id": "wG6uz0g8P2w-"
      },
      "source": [
        "Muitas vezes queremos mudar o formato de um array. Para isso, utilizamos a função `reshape`.<br>Por exemplo, podemos querer transformar um vetor de 4 elementos em uma matriz 2x2."
      ]
    },
    {
      "cell_type": "code",
      "execution_count": null,
      "metadata": {
        "id": "ZSolVqVdfkGq"
      },
      "outputs": [],
      "source": [
        "a = np.array([1,2,3,4])\n",
        "print(a)\n",
        "print(a.shape)"
      ]
    },
    {
      "cell_type": "code",
      "execution_count": null,
      "metadata": {
        "id": "kuLYXqO7fqFw"
      },
      "outputs": [],
      "source": [
        "a = a.reshape((2,2))\n",
        "print(a)\n",
        "print(a.shape)"
      ]
    },
    {
      "cell_type": "markdown",
      "metadata": {
        "id": "3On19doPgCtw"
      },
      "source": [
        "Podemos também querer transformar uma matriz de 2x4 em um vetor de 8 posições."
      ]
    },
    {
      "cell_type": "code",
      "execution_count": null,
      "metadata": {
        "id": "rV1AfQB7Pz5C"
      },
      "outputs": [],
      "source": [
        "a = np.array([[1,2,3,4],[5,6,7,8]])\n",
        "print(a.shape)"
      ]
    },
    {
      "cell_type": "code",
      "execution_count": null,
      "metadata": {
        "id": "ObwVUYg2P7xd"
      },
      "outputs": [],
      "source": [
        "a = a.reshape((8)) # o novo array deve ter a mesma quantidade de elementos\n",
        "a"
      ]
    },
    {
      "cell_type": "markdown",
      "metadata": {
        "id": "IHD4zBgbgIEO"
      },
      "source": [
        "Ou até mesmo, o vetor de 8 posições, em uma matriz com uma só coluna, e 8 linhas."
      ]
    },
    {
      "cell_type": "code",
      "execution_count": null,
      "metadata": {
        "id": "2qfqxVzDP-ZF"
      },
      "outputs": [],
      "source": [
        "a = a.reshape((8, 1))\n",
        "a"
      ]
    },
    {
      "cell_type": "markdown",
      "metadata": {
        "id": "hy04DECwgRvd"
      },
      "source": [
        "Ou em um tensor 2x2x2, que podemos entender como um array de duas posições, em que cada posições é uma matriz 2x2. Em ouras palavras, estamos falando de um cubo, com duas posições em cada eixo."
      ]
    },
    {
      "cell_type": "code",
      "execution_count": null,
      "metadata": {
        "id": "c_IBvOyLQCQG"
      },
      "outputs": [],
      "source": [
        "a = a.reshape(2, 2, 2)\n",
        "a"
      ]
    },
    {
      "cell_type": "markdown",
      "metadata": {
        "id": "iUqxUd7IglN0"
      },
      "source": [
        "Mas note que, após um reshape, qualquer que seja, a quantidade de elementos no ndarray resultante deve ser igual à quantidade de elementos do ndarray original."
      ]
    },
    {
      "cell_type": "code",
      "execution_count": null,
      "metadata": {
        "colab": {
          "base_uri": "https://localhost:8080/"
        },
        "id": "dzRVUir_QGak",
        "outputId": "c23f0e29-37be-49e0-de5c-8c22de815f7d"
      },
      "outputs": [
        {
          "data": {
            "text/plain": [
              "array([[1, 2, 3],\n",
              "       [4, 5, 6],\n",
              "       [7, 8, 9]])"
            ]
          },
          "execution_count": 168,
          "metadata": {},
          "output_type": "execute_result"
        }
      ],
      "source": [
        "a = np.array([1,2,3,4,5,6,7,8,9]).reshape((3,3))\n",
        "a"
      ]
    },
    {
      "cell_type": "code",
      "execution_count": null,
      "metadata": {
        "colab": {
          "base_uri": "https://localhost:8080/"
        },
        "id": "1iXSG1ZNQPDD",
        "outputId": "cd914994-ad5b-44ec-e50d-bee906efb1fd"
      },
      "outputs": [
        {
          "data": {
            "text/plain": [
              "array([1, 2, 3])"
            ]
          },
          "execution_count": 169,
          "metadata": {},
          "output_type": "execute_result"
        }
      ],
      "source": [
        "a[0]"
      ]
    },
    {
      "cell_type": "code",
      "execution_count": null,
      "metadata": {
        "colab": {
          "base_uri": "https://localhost:8080/"
        },
        "id": "898bQi9NQSkc",
        "outputId": "b42c9723-5dea-42ca-8fa0-c0c22651b98a"
      },
      "outputs": [
        {
          "data": {
            "text/plain": [
              "array([[1, 2, 3],\n",
              "       [7, 8, 9]])"
            ]
          },
          "execution_count": 170,
          "metadata": {},
          "output_type": "execute_result"
        }
      ],
      "source": [
        "a[[True, False, True]]"
      ]
    },
    {
      "cell_type": "code",
      "execution_count": null,
      "metadata": {
        "colab": {
          "base_uri": "https://localhost:8080/"
        },
        "id": "YFTXBgo8QqIk",
        "outputId": "061ab191-a0a5-4b3c-c698-d324668b18b0"
      },
      "outputs": [
        {
          "data": {
            "text/plain": [
              "array([1, 3, 4, 6, 7, 9])"
            ]
          },
          "execution_count": 172,
          "metadata": {},
          "output_type": "execute_result"
        }
      ],
      "source": [
        "a[\n",
        "    np.array([True, False, True, True, False, True, True, False, True]).reshape((3,3))\n",
        "]"
      ]
    },
    {
      "cell_type": "code",
      "execution_count": null,
      "metadata": {
        "id": "5kxLREJWQ5yW"
      },
      "outputs": [],
      "source": []
    }
  ],
  "metadata": {
    "colab": {
      "collapsed_sections": [
        "U-OUDLEHLLIj",
        "uNzzoSelqVYm",
        "ZXZJT-UjSnrW",
        "yDD9K3VUTVll",
        "JKNEruFLQGkS",
        "vt0MnmZ5T3Vp",
        "uvzIlRaffNEy",
        "hsKFEI5RVYP8",
        "DOlQgHLo0yxr",
        "u0mu_oXKkaqJ",
        "hezFYXEH2qaA",
        "nhcw0ibH24b9",
        "uLXaE92Iib_T",
        "TfxGDMTKUl3L"
      ],
      "provenance": []
    },
    "kernelspec": {
      "display_name": "Python 3",
      "name": "python3"
    },
    "language_info": {
      "name": "python",
      "version": "3.11.8"
    }
  },
  "nbformat": 4,
  "nbformat_minor": 0
}
