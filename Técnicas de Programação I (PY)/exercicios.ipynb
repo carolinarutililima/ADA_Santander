{
 "cells": [
  {
   "cell_type": "markdown",
   "metadata": {},
   "source": [
    "1- Maria está acompanhando suas despesas diárias ao longo de um mês. Pra isso, ela tem as seguintes series:\n",
    "\n",
    "dias_da_semana = ['Seg', 'Ter', 'Qua', 'Qui', 'Sex', 'Sab', 'Dom']\n",
    "semana1 = pd.Series([50, 66, 55, 55, 23, np.nan, 92], index=dias_da_semana)\n",
    "semana2 = pd.Series([np.nan, 78, 76, 66, 64, 44, 78], index=dias_da_semana)\n",
    "semana3 = pd.Series([55, 75, 89, 77, 78, 57, np.nan], index=dias_da_semana)\n",
    "semana4 = pd.Series([67, 34, np.nan, 25, 45, np.nan, 95], index=dias_da_semana)\n",
    "Como você pode ver, para cada uma destas semanas, há um ou mais valores faltando. Dito isto:\n",
    "\n",
    "Preencha cada valor faltante com a média do mesmo dia da semana para o conjunto das 4 semanas.\n",
    "Para cada semana, imprima o gasto total, o gasto médio, o gasto mediano, o gasto máximo, o gasto mínimo e o desvio padrão.\n",
    "Para cada semana, imprima o gasto total dos dias úteis e o gasto total do final de semana."
   ]
  },
  {
   "cell_type": "code",
   "execution_count": 3,
   "metadata": {},
   "outputs": [],
   "source": [
    "\n",
    "import pandas as pd\n",
    "import numpy as np"
   ]
  },
  {
   "cell_type": "code",
   "execution_count": 4,
   "metadata": {},
   "outputs": [],
   "source": [
    "dias_da_semana = ['Seg', 'Ter', 'Qua', 'Qui', 'Sex', 'Sab', 'Dom']\n",
    "semana1 = pd.Series([50, 66, 55, 55, 23, np.nan, 92], index=dias_da_semana)\n",
    "semana2 = pd.Series([np.nan, 78, 76, 66, 64, 44, 78], index=dias_da_semana)\n",
    "semana3 = pd.Series([55, 75, 89, 77, 78, 57, np.nan], index=dias_da_semana)\n",
    "semana4 = pd.Series([67, 34, np.nan, 25, 45, np.nan, 95], index=dias_da_semana)"
   ]
  },
  {
   "cell_type": "code",
   "execution_count": 7,
   "metadata": {},
   "outputs": [
    {
     "data": {
      "text/html": [
       "<div>\n",
       "<style scoped>\n",
       "    .dataframe tbody tr th:only-of-type {\n",
       "        vertical-align: middle;\n",
       "    }\n",
       "\n",
       "    .dataframe tbody tr th {\n",
       "        vertical-align: top;\n",
       "    }\n",
       "\n",
       "    .dataframe thead th {\n",
       "        text-align: right;\n",
       "    }\n",
       "</style>\n",
       "<table border=\"1\" class=\"dataframe\">\n",
       "  <thead>\n",
       "    <tr style=\"text-align: right;\">\n",
       "      <th></th>\n",
       "      <th>Seg</th>\n",
       "      <th>Ter</th>\n",
       "      <th>Qua</th>\n",
       "      <th>Qui</th>\n",
       "      <th>Sex</th>\n",
       "      <th>Sab</th>\n",
       "      <th>Dom</th>\n",
       "    </tr>\n",
       "  </thead>\n",
       "  <tbody>\n",
       "    <tr>\n",
       "      <th>0</th>\n",
       "      <td>50.0</td>\n",
       "      <td>66.0</td>\n",
       "      <td>55.0</td>\n",
       "      <td>55.0</td>\n",
       "      <td>23.0</td>\n",
       "      <td>NaN</td>\n",
       "      <td>92.0</td>\n",
       "    </tr>\n",
       "    <tr>\n",
       "      <th>1</th>\n",
       "      <td>NaN</td>\n",
       "      <td>78.0</td>\n",
       "      <td>76.0</td>\n",
       "      <td>66.0</td>\n",
       "      <td>64.0</td>\n",
       "      <td>44.0</td>\n",
       "      <td>78.0</td>\n",
       "    </tr>\n",
       "    <tr>\n",
       "      <th>2</th>\n",
       "      <td>55.0</td>\n",
       "      <td>75.0</td>\n",
       "      <td>89.0</td>\n",
       "      <td>77.0</td>\n",
       "      <td>78.0</td>\n",
       "      <td>57.0</td>\n",
       "      <td>NaN</td>\n",
       "    </tr>\n",
       "    <tr>\n",
       "      <th>3</th>\n",
       "      <td>67.0</td>\n",
       "      <td>34.0</td>\n",
       "      <td>NaN</td>\n",
       "      <td>25.0</td>\n",
       "      <td>45.0</td>\n",
       "      <td>NaN</td>\n",
       "      <td>95.0</td>\n",
       "    </tr>\n",
       "  </tbody>\n",
       "</table>\n",
       "</div>"
      ],
      "text/plain": [
       "    Seg   Ter   Qua   Qui   Sex   Sab   Dom\n",
       "0  50.0  66.0  55.0  55.0  23.0   NaN  92.0\n",
       "1   NaN  78.0  76.0  66.0  64.0  44.0  78.0\n",
       "2  55.0  75.0  89.0  77.0  78.0  57.0   NaN\n",
       "3  67.0  34.0   NaN  25.0  45.0   NaN  95.0"
      ]
     },
     "execution_count": 7,
     "metadata": {},
     "output_type": "execute_result"
    }
   ],
   "source": [
    "df = pd.DataFrame([semana1,semana2,semana3,semana4], columns=dias_da_semana)\n",
    "df.head()"
   ]
  },
  {
   "cell_type": "code",
   "execution_count": 10,
   "metadata": {},
   "outputs": [],
   "source": [
    "total_mean = df.mean()"
   ]
  },
  {
   "cell_type": "code",
   "execution_count": 12,
   "metadata": {},
   "outputs": [
    {
     "data": {
      "text/html": [
       "<div>\n",
       "<style scoped>\n",
       "    .dataframe tbody tr th:only-of-type {\n",
       "        vertical-align: middle;\n",
       "    }\n",
       "\n",
       "    .dataframe tbody tr th {\n",
       "        vertical-align: top;\n",
       "    }\n",
       "\n",
       "    .dataframe thead th {\n",
       "        text-align: right;\n",
       "    }\n",
       "</style>\n",
       "<table border=\"1\" class=\"dataframe\">\n",
       "  <thead>\n",
       "    <tr style=\"text-align: right;\">\n",
       "      <th></th>\n",
       "      <th>Seg</th>\n",
       "      <th>Ter</th>\n",
       "      <th>Qua</th>\n",
       "      <th>Qui</th>\n",
       "      <th>Sex</th>\n",
       "      <th>Sab</th>\n",
       "      <th>Dom</th>\n",
       "    </tr>\n",
       "  </thead>\n",
       "  <tbody>\n",
       "    <tr>\n",
       "      <th>0</th>\n",
       "      <td>50.000000</td>\n",
       "      <td>66.0</td>\n",
       "      <td>55.000000</td>\n",
       "      <td>55.0</td>\n",
       "      <td>23.0</td>\n",
       "      <td>50.5</td>\n",
       "      <td>92.000000</td>\n",
       "    </tr>\n",
       "    <tr>\n",
       "      <th>1</th>\n",
       "      <td>57.333333</td>\n",
       "      <td>78.0</td>\n",
       "      <td>76.000000</td>\n",
       "      <td>66.0</td>\n",
       "      <td>64.0</td>\n",
       "      <td>44.0</td>\n",
       "      <td>78.000000</td>\n",
       "    </tr>\n",
       "    <tr>\n",
       "      <th>2</th>\n",
       "      <td>55.000000</td>\n",
       "      <td>75.0</td>\n",
       "      <td>89.000000</td>\n",
       "      <td>77.0</td>\n",
       "      <td>78.0</td>\n",
       "      <td>57.0</td>\n",
       "      <td>88.333333</td>\n",
       "    </tr>\n",
       "    <tr>\n",
       "      <th>3</th>\n",
       "      <td>67.000000</td>\n",
       "      <td>34.0</td>\n",
       "      <td>73.333333</td>\n",
       "      <td>25.0</td>\n",
       "      <td>45.0</td>\n",
       "      <td>50.5</td>\n",
       "      <td>95.000000</td>\n",
       "    </tr>\n",
       "  </tbody>\n",
       "</table>\n",
       "</div>"
      ],
      "text/plain": [
       "         Seg   Ter        Qua   Qui   Sex   Sab        Dom\n",
       "0  50.000000  66.0  55.000000  55.0  23.0  50.5  92.000000\n",
       "1  57.333333  78.0  76.000000  66.0  64.0  44.0  78.000000\n",
       "2  55.000000  75.0  89.000000  77.0  78.0  57.0  88.333333\n",
       "3  67.000000  34.0  73.333333  25.0  45.0  50.5  95.000000"
      ]
     },
     "execution_count": 12,
     "metadata": {},
     "output_type": "execute_result"
    }
   ],
   "source": [
    "df = df.fillna(total_mean)\n",
    "df"
   ]
  },
  {
   "cell_type": "code",
   "execution_count": 20,
   "metadata": {},
   "outputs": [
    {
     "data": {
      "text/html": [
       "<div>\n",
       "<style scoped>\n",
       "    .dataframe tbody tr th:only-of-type {\n",
       "        vertical-align: middle;\n",
       "    }\n",
       "\n",
       "    .dataframe tbody tr th {\n",
       "        vertical-align: top;\n",
       "    }\n",
       "\n",
       "    .dataframe thead th {\n",
       "        text-align: right;\n",
       "    }\n",
       "</style>\n",
       "<table border=\"1\" class=\"dataframe\">\n",
       "  <thead>\n",
       "    <tr style=\"text-align: right;\">\n",
       "      <th></th>\n",
       "      <th>count</th>\n",
       "      <th>mean</th>\n",
       "      <th>std</th>\n",
       "      <th>min</th>\n",
       "      <th>25%</th>\n",
       "      <th>50%</th>\n",
       "      <th>75%</th>\n",
       "      <th>max</th>\n",
       "    </tr>\n",
       "  </thead>\n",
       "  <tbody>\n",
       "    <tr>\n",
       "      <th>0</th>\n",
       "      <td>7.0</td>\n",
       "      <td>55.928571</td>\n",
       "      <td>20.628517</td>\n",
       "      <td>23.0</td>\n",
       "      <td>50.250000</td>\n",
       "      <td>55.0</td>\n",
       "      <td>60.500000</td>\n",
       "      <td>92.0</td>\n",
       "    </tr>\n",
       "    <tr>\n",
       "      <th>1</th>\n",
       "      <td>7.0</td>\n",
       "      <td>66.190476</td>\n",
       "      <td>12.588733</td>\n",
       "      <td>44.0</td>\n",
       "      <td>60.666667</td>\n",
       "      <td>66.0</td>\n",
       "      <td>77.000000</td>\n",
       "      <td>78.0</td>\n",
       "    </tr>\n",
       "    <tr>\n",
       "      <th>2</th>\n",
       "      <td>7.0</td>\n",
       "      <td>74.190476</td>\n",
       "      <td>13.578110</td>\n",
       "      <td>55.0</td>\n",
       "      <td>66.000000</td>\n",
       "      <td>77.0</td>\n",
       "      <td>83.166667</td>\n",
       "      <td>89.0</td>\n",
       "    </tr>\n",
       "    <tr>\n",
       "      <th>3</th>\n",
       "      <td>7.0</td>\n",
       "      <td>55.690476</td>\n",
       "      <td>24.283135</td>\n",
       "      <td>25.0</td>\n",
       "      <td>39.500000</td>\n",
       "      <td>50.5</td>\n",
       "      <td>70.166667</td>\n",
       "      <td>95.0</td>\n",
       "    </tr>\n",
       "  </tbody>\n",
       "</table>\n",
       "</div>"
      ],
      "text/plain": [
       "   count       mean        std   min        25%   50%        75%   max\n",
       "0    7.0  55.928571  20.628517  23.0  50.250000  55.0  60.500000  92.0\n",
       "1    7.0  66.190476  12.588733  44.0  60.666667  66.0  77.000000  78.0\n",
       "2    7.0  74.190476  13.578110  55.0  66.000000  77.0  83.166667  89.0\n",
       "3    7.0  55.690476  24.283135  25.0  39.500000  50.5  70.166667  95.0"
      ]
     },
     "execution_count": 20,
     "metadata": {},
     "output_type": "execute_result"
    }
   ],
   "source": [
    "row_description = df.T.describe().T\n",
    "row_description\n",
    "\n"
   ]
  },
  {
   "cell_type": "code",
   "execution_count": 17,
   "metadata": {},
   "outputs": [
    {
     "data": {
      "text/plain": [
       "0    391.500000\n",
       "1    463.333333\n",
       "2    519.333333\n",
       "3    389.833333\n",
       "dtype: float64"
      ]
     },
     "execution_count": 17,
     "metadata": {},
     "output_type": "execute_result"
    }
   ],
   "source": [
    "soma_linhas = df.T.sum().T\n",
    "soma_linhas\n"
   ]
  },
  {
   "cell_type": "code",
   "execution_count": 22,
   "metadata": {},
   "outputs": [
    {
     "data": {
      "text/plain": [
       "0    55.0\n",
       "1    66.0\n",
       "2    77.0\n",
       "3    50.5\n",
       "dtype: float64"
      ]
     },
     "execution_count": 22,
     "metadata": {},
     "output_type": "execute_result"
    }
   ],
   "source": [
    "mediana_linhas = df.T.median().T\n",
    "mediana_linhas\n"
   ]
  },
  {
   "cell_type": "code",
   "execution_count": 33,
   "metadata": {},
   "outputs": [],
   "source": [
    "dias_inuteis = ['Seg', 'Ter', 'Qua', 'Qui', 'Sex']\n",
    "dias_bons = ['Sab', 'Dom']"
   ]
  },
  {
   "cell_type": "code",
   "execution_count": 34,
   "metadata": {},
   "outputs": [
    {
     "data": {
      "text/plain": [
       "1208.6666666666667"
      ]
     },
     "execution_count": 34,
     "metadata": {},
     "output_type": "execute_result"
    }
   ],
   "source": [
    "df[dias_inuteis].sum().sum()"
   ]
  },
  {
   "cell_type": "code",
   "execution_count": 36,
   "metadata": {},
   "outputs": [
    {
     "data": {
      "text/plain": [
       "555.3333333333333"
      ]
     },
     "execution_count": 36,
     "metadata": {},
     "output_type": "execute_result"
    }
   ],
   "source": [
    "df[dias_bons].sum().sum()\n"
   ]
  },
  {
   "cell_type": "markdown",
   "metadata": {},
   "source": [
    "2- Você tem uma serie chamada clientes com mil posições que retratam os tomadores de crédito do seu banco e que os divide nas categorias 'cliente novo', 'cliente adimplente' e 'cliente inadimplente'. Considere o código abaixo como gerador desta lista:\n",
    "\n",
    "valores_possiveis = ['cliente novo', 'cliente adimplente', 'cliente inadimplente']\n",
    "probabilidades = np.random.dirichlet(np.ones(len(valores_possiveis)), size=1).flatten()\n",
    "clientes = pd.Series(np.random.choice(valores_possiveis, size=1000, p=probabilidades))\n",
    "Descubra como os clientes desta serie estão distribuídos nas três categorias, primeiro em valores absolutos e depois em valores percentuais."
   ]
  },
  {
   "cell_type": "code",
   "execution_count": 37,
   "metadata": {},
   "outputs": [],
   "source": [
    "valores_possiveis = ['cliente novo', 'cliente adimplente', 'cliente inadimplente']\n",
    "probabilidades = np.random.dirichlet(np.ones(len(valores_possiveis)), size=1).flatten()\n",
    "clientes = pd.Series(np.random.choice(valores_possiveis, size=1000, p=probabilidades))"
   ]
  },
  {
   "cell_type": "code",
   "execution_count": 38,
   "metadata": {},
   "outputs": [
    {
     "data": {
      "text/plain": [
       "0      cliente adimplente\n",
       "1      cliente adimplente\n",
       "2      cliente adimplente\n",
       "3    cliente inadimplente\n",
       "4      cliente adimplente\n",
       "dtype: object"
      ]
     },
     "execution_count": 38,
     "metadata": {},
     "output_type": "execute_result"
    }
   ],
   "source": [
    "clientes.head()"
   ]
  },
  {
   "cell_type": "code",
   "execution_count": 42,
   "metadata": {},
   "outputs": [
    {
     "data": {
      "text/plain": [
       "cliente adimplente      670\n",
       "cliente inadimplente    308\n",
       "cliente novo             22\n",
       "Name: count, dtype: int64"
      ]
     },
     "execution_count": 42,
     "metadata": {},
     "output_type": "execute_result"
    }
   ],
   "source": [
    "clientes.value_counts()"
   ]
  },
  {
   "cell_type": "code",
   "execution_count": 43,
   "metadata": {},
   "outputs": [
    {
     "data": {
      "text/plain": [
       "cliente adimplente      67.0\n",
       "cliente inadimplente    30.8\n",
       "cliente novo             2.2\n",
       "Name: count, dtype: float64"
      ]
     },
     "execution_count": 43,
     "metadata": {},
     "output_type": "execute_result"
    }
   ],
   "source": [
    "dados_clientes = (clientes.value_counts()/1000)*100\n",
    "dados_clientes"
   ]
  },
  {
   "cell_type": "markdown",
   "metadata": {},
   "source": [
    "3- João é um gerente de uma loja de eletrônicos e está acompanhando o estoque de produtos em sua loja. Ele possui duas séries pandas, conforme o código a seguir: uma série contendo os nomes dos produtos disponíveis em estoque e outra série contendo a quantidade em estoque de cada produto.\n",
    "\n",
    "produtos = pd.Series(['Celular', 'Tablet', 'Notebook', 'Fone de Ouvido', 'Smartwatch'])\n",
    "quantidade_estoque = pd.Series([15, 8, 20, 5, 12])\n",
    "João deseja filtrar os produtos que têm estoque baixo, ou seja, aqueles que têm menos de 10 unidades disponíveis. Ajude-o a fazer isso utilizando a filtragem de uma série usando outra série como máscara."
   ]
  },
  {
   "cell_type": "code",
   "execution_count": 44,
   "metadata": {},
   "outputs": [],
   "source": [
    "produtos = pd.Series(['Celular', 'Tablet', 'Notebook', 'Fone de Ouvido', 'Smartwatch'])\n",
    "quantidade_estoque = pd.Series([15, 8, 20, 5, 12])"
   ]
  },
  {
   "cell_type": "code",
   "execution_count": 58,
   "metadata": {},
   "outputs": [],
   "source": [
    "mask = quantidade_estoque<10"
   ]
  },
  {
   "cell_type": "code",
   "execution_count": 59,
   "metadata": {},
   "outputs": [
    {
     "data": {
      "text/plain": [
       "1            Tablet\n",
       "3    Fone de Ouvido\n",
       "dtype: object"
      ]
     },
     "execution_count": 59,
     "metadata": {},
     "output_type": "execute_result"
    }
   ],
   "source": [
    "produtos[mask]"
   ]
  }
 ],
 "metadata": {
  "kernelspec": {
   "display_name": "Python 3",
   "language": "python",
   "name": "python3"
  },
  "language_info": {
   "codemirror_mode": {
    "name": "ipython",
    "version": 3
   },
   "file_extension": ".py",
   "mimetype": "text/x-python",
   "name": "python",
   "nbconvert_exporter": "python",
   "pygments_lexer": "ipython3",
   "version": "3.11.8"
  }
 },
 "nbformat": 4,
 "nbformat_minor": 2
}
