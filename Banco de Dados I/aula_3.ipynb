{
 "cells": [
  {
   "cell_type": "markdown",
   "metadata": {},
   "source": [
    "# Aula 3: Normalização "
   ]
  },
  {
   "cell_type": "markdown",
   "metadata": {},
   "source": [
    "## O que é a normalização de dados?\n",
    "\n",
    "* processo usado na modelagem de banco de dados para que registros possam ser adicionados e atualizados eficientemente."
   ]
  },
  {
   "cell_type": "markdown",
   "metadata": {},
   "source": [
    "## Por que normalizar?\n",
    "\n",
    "* aumentar a eficiência;\n",
    "* prevenir a redundância de informações;\n",
    "* garantir que os dados estão corretos;\n",
    "* diminuir armazenamento;\n",
    "* maior eficiencia nas queries."
   ]
  },
  {
   "cell_type": "markdown",
   "metadata": {},
   "source": [
    "## O que buscamos resolver com esse processo?\n",
    "\n",
    "* mistura de dados\n",
    "* redundância de dados;\n",
    "* Anomalias de inserção, remoção e alteração tornam as tabelas de uma banco de dados pesadas;"
   ]
  },
  {
   "cell_type": "markdown",
   "metadata": {},
   "source": [
    "## Anomalias:\n",
    "\n",
    "* Anomalias de Inserção;\n",
    "    * Dados Identicos sendo armazenados em mais de um DB;\n",
    "* Anomalias de Alteração;\n",
    "    * Atualização de informações sendo feita em alguns dados mas não em todos os relacionados;\n",
    "* Anomalias de Remoção;\n",
    "    * Perda de informação e deleções quando não deveriam acontecer."
   ]
  },
  {
   "cell_type": "code",
   "execution_count": null,
   "metadata": {},
   "outputs": [],
   "source": []
  },
  {
   "cell_type": "markdown",
   "metadata": {},
   "source": [
    "## O que são Dependências Funcionais? \n",
    "\n",
    "São relações entre atributos A e B, onde **para todo A existe um valor de B**.\n",
    "\n",
    "O atributo que determina o valor é chamado de determinante. O outro é chamado de dependente.\n",
    "\n",
    "Exemplo: cpf -> nome"
   ]
  },
  {
   "cell_type": "markdown",
   "metadata": {},
   "source": [
    "### Dependência funcional total\n",
    "Em uma relação com uma PK composta, um atributo que **dependa dessa PK como um todo**, e não somente de parte dela, é dito como possuindo Dependência Funcional Total.\n",
    "\n",
    "| id_aluno (PK) | id_disciplina (PK) | nota |\n",
    "| --- | --- | --- |\n",
    "| 1 | 237 | 6.5 |\n",
    "| 2 | 658 | 9.8 |"
   ]
  },
  {
   "cell_type": "markdown",
   "metadata": {},
   "source": [
    "### Dependência funcional parcial\n",
    "\n",
    "Em uma relação com uma PK composta, um atributo que dependa **apenas de uma das chaves**, não de todas, é dito como possuindo Dependência Funcional Parcial.\n",
    "\n",
    "| id_aluno (PK) | id_disciplina (PK) | Nome |\n",
    "| --- | --- | --- |\n",
    "| 1 | 237 | José |\n",
    "| 2 | 658 | Maria |"
   ]
  },
  {
   "cell_type": "markdown",
   "metadata": {},
   "source": [
    "## Dependencia Funcional Transitiva\n",
    "\n",
    "Quando existe um atributo que dependa, **além da PK, de um outro campo** que não é uma PK de uma tabela, \n",
    "\n",
    "| id_aluno (PK) | cidade | estado |\n",
    "| --- | --- | --- |\n",
    "| 1 | São Paulo | São Paulo |\n",
    "| 2 | São José dos Campos | São Paulo |"
   ]
  },
  {
   "cell_type": "markdown",
   "metadata": {},
   "source": [
    "## Formas Normais\n",
    "\n",
    "* Primeira Forma Normal: Satisfazer as propriedades baseadas na dependência funcional.\n",
    "* Segunda Forma Normal:  Satisfazer as propriedades baseadas na dependencia funcional parcial;\n",
    "* Terceira Forma Normal: Satisfazer as propriedades baseadas na dependência transitiva;"
   ]
  },
  {
   "cell_type": "code",
   "execution_count": null,
   "metadata": {},
   "outputs": [],
   "source": []
  },
  {
   "cell_type": "markdown",
   "metadata": {},
   "source": [
    "## Tabela Feia\n",
    "\n",
    "| Pedido | Cliente | Endereço | Cidade | Estado | CEP | Produto | Quantidade | Preço |\n",
    "| --- | --- | --- | --- | --- | --- | --- | --- | --- |\n",
    "| 1 | Ana | Rua A | São Paulo | SP | 01000-000 | Camiseta | 2 | 50,00 |\n",
    "| 2 | Bruno | Rua B | Rio de Janeiro | RJ | 02000-000 | Camiseta | 1 | 50,00 |\n",
    "| 2 | Bruno | Rua B | Rio de Janeiro | RJ | 02000-000 | Calça | 1 | 80,00 |\n",
    "| 3 | Carla | Rua C | São Paulo | SP | 01000-000 | Calça | 3 | 80,00 |"
   ]
  },
  {
   "cell_type": "markdown",
   "metadata": {},
   "source": [
    "# PRIMEIRA FORMA NORMAL - 1FN\n",
    "\n",
    "* Evitar ter mais de um assunto em uma tabela;\n",
    "* Não admitir repetições ou campos que tenham mais que um valor;\n",
    "\n",
    "Procedimentos para aplicar a regra: \n",
    "1. Identificar a chave primária da tabela;\n",
    "2. Identificar o grupo repetitivo e removê-lo da tabela.\n",
    "\n",
    "Não pode existir mais de um assunto em uma mesma tabela, como também não admite repetições ou campos que possuem mais que um valor."
   ]
  },
  {
   "cell_type": "markdown",
   "metadata": {},
   "source": [
    "### Tabela Pedido\n",
    "|Pedido\t|Cliente\t|Endereço\t|Cidade\t|Estado\t|CEP\n",
    "| - | - | - | - | - | - |\n",
    "|1\t|Ana\t|Rua A\t|São Paulo\t|SP\t|01000-000\n",
    "|2\t|Bruno\t|Rua B\t|Rio de Janeiro\t|RJ\t|02000-000\n",
    "|3\t|Carla\t|Rua C\t|São Paulo\t|SP\t|01000-000"
   ]
  },
  {
   "cell_type": "markdown",
   "metadata": {},
   "source": [
    "### Tabela item_pedido\n",
    "|Pedido\t|Produto\t|Quantidade\t|Preço\n",
    "| - | - | -| -\n",
    "|1\t|Camiseta\t|2\t|50,00\n",
    "|2\t|Camiseta\t|1\t|50,00\n",
    "|2\t|Calça\t|1\t|80,00\n",
    "|3\t|Calça\t|3\t|80,00"
   ]
  },
  {
   "cell_type": "markdown",
   "metadata": {},
   "source": [
    "# SEGUNDA FORMA NORMAL - 2FN\n",
    "\n",
    "* Deve estar na primeira forma normal;\n",
    "* Atributos chave não dependem da chave composta em sua totalidade;\n",
    "\n",
    "Procedimento para aplicar a regra: \n",
    "1. Identificar que a tabela tem chave primária composta;\n",
    "2. Identificar os atributos que dependem parcialmente dessa chave primártia e criar  uma nova tabela com eles."
   ]
  },
  {
   "cell_type": "markdown",
   "metadata": {},
   "source": [
    "### Tabela cliente\n",
    "|Cliente_ID| Cliente | Endereço | Cidade | Estado | CEP | \n",
    "| --- | --- | --- | --- | --- | --- |\n",
    "|1|Ana\t|Rua A | São Paulo\t|SP\t|01000-000|\n",
    "|2|Bruno |Rua B | Rio de Janeiro | RJ |02000-000 |\n",
    "|3|Carla |Rua C | São Paulo |SP |01000-000 |"
   ]
  },
  {
   "cell_type": "markdown",
   "metadata": {},
   "source": [
    "### Tabela Pedido\n",
    "|Pedido\t|Cliente_ID|\n",
    "| --- | --- |\n",
    "|1\t|1|\n",
    "|2\t|2|\n",
    "|3\t|3|"
   ]
  },
  {
   "cell_type": "markdown",
   "metadata": {},
   "source": [
    "### Tabela item_pedido\n",
    "|Pedido\t|Produto\t|Quantidade\t|Preço|\n",
    "| --- | --- |--- | --- |\n",
    "|1\t|Camiseta\t|2\t|50,00|\n",
    "|2\t|Camiseta\t|1\t|50,00|\n",
    "|2\t|Calça\t|1\t|80,00|\n",
    "|3\t|Calça\t|3\t|80,00|"
   ]
  },
  {
   "cell_type": "code",
   "execution_count": null,
   "metadata": {},
   "outputs": [],
   "source": []
  },
  {
   "cell_type": "markdown",
   "metadata": {},
   "source": [
    "# TERCEIRA FORMA NORMAL - 3FN\n",
    "\n",
    "Deve estar na segunda forma normal;\n",
    "\n",
    "Se nenhuma coluna possui dependência transitiva em relação a outra coluna que não participe da chave primária.\n",
    "\n",
    "Em muitos sistemas de informação existre a necessidade de se armazenar o resultado de cálculos, totais e valores consolidados.\n",
    "\n",
    "Precedimento: Identificar todos os atributos que são funcionalmente dependentes de outros atributos não chave e removê-los.\n",
    "\n",
    "Normalizado quando chega até a terceira forma normal."
   ]
  },
  {
   "cell_type": "markdown",
   "metadata": {},
   "source": [
    "### Tabela cliente\n",
    "|Cliente_ID| Cliente | Endereço | Cidade | Estado | CEP | \n",
    "| --- | --- | --- | --- | --- | --- |\n",
    "|1|Ana\t|Rua A | São Paulo\t|SP\t|01000-000|\n",
    "|2|Bruno |Rua B | Rio de Janeiro | RJ |02000-000 |\n",
    "|3|Carla |Rua C | São Paulo |SP |01000-000 |"
   ]
  },
  {
   "cell_type": "markdown",
   "metadata": {},
   "source": [
    "### Tabela Pedido\n",
    "|Pedido\t|Cliente_ID|\n",
    "| --- | --- |\n",
    "|1\t|1|\n",
    "|2\t|2|\n",
    "|3\t|3|"
   ]
  },
  {
   "cell_type": "markdown",
   "metadata": {},
   "source": [
    "### Tabela item_pedido\n",
    "|Pedido\t|Produto\t|Quantidade\n",
    "| - | - | - \n",
    "|1\t|Camiseta\t|2\n",
    "|2\t|Camiseta\t|1\n",
    "|2\t|Calça\t|1\n",
    "|3\t|Calça\t|3"
   ]
  },
  {
   "cell_type": "markdown",
   "metadata": {},
   "source": [
    "### Tabela Produto\n",
    "\n",
    "|Produto\t|Preço\n",
    "| - | - \n",
    "|Camiseta\t|50,00\n",
    "|Calça\t|80,00"
   ]
  }
 ],
 "metadata": {
  "kernelspec": {
   "display_name": "Python 3 (ipykernel)",
   "language": "python",
   "name": "python3"
  },
  "language_info": {
   "codemirror_mode": {
    "name": "ipython",
    "version": 3
   },
   "file_extension": ".py",
   "mimetype": "text/x-python",
   "name": "python",
   "nbconvert_exporter": "python",
   "pygments_lexer": "ipython3",
   "version": "3.8.10"
  }
 },
 "nbformat": 4,
 "nbformat_minor": 4
}
