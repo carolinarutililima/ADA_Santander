{
 "cells": [
  {
   "cell_type": "markdown",
   "metadata": {},
   "source": [
    "# Aula 4: Que começe a prática!"
   ]
  },
  {
   "cell_type": "markdown",
   "metadata": {},
   "source": [
    "download e instala:\n",
    "https://www.postgresql.org/download/windows/\n",
    "\n",
    "a instalação é next next\n",
    "\n",
    "pesquisa \"psql\" \n",
    "server, database, port, username padrões e a senha que coloquei agora a pouco.\n",
    "\n",
    "e pronto, estamos conectados no banco.\n",
    "\n",
    "o gerenciador para mexermos será o pgAdmin, basta ppesquisar. Abrindo você coloca uma senha.\n",
    "\n",
    "seleciona seu server. Database > postgres > tools > query tools"
   ]
  },
  {
   "cell_type": "markdown",
   "metadata": {},
   "source": [
    "### **Introdução a Linguagem SQL**"
   ]
  },
  {
   "cell_type": "markdown",
   "metadata": {},
   "source": [
    "---\n",
    "\n",
    "Structured Query Language ou SQL é a linguagem mais conhecida do mundo e também a mais popular. É utilizada para executar comandos em Banco de Dados Relacionais, isto é, baseado em tabelas.\n",
    "É por meio dela que criamos databases, tabelas, colunas, indices, garantimos e revogamos privilégios a usuários e consultamos os dados armazenados no banco de dados.\n",
    "\n",
    "SQL é uma linguagem declarativa dividida em conjuntos de comandos \n",
    "\n",
    "- **Data Definition Language (DDL)**; \n",
    "- **Data Manipulation Language (DML)**; \n",
    "- **Data Control Language (DCL)**;\n",
    "- **Transactional Control Language (TCL)**;\n",
    "- **Data Query Language (DQL)**."
   ]
  },
  {
   "cell_type": "markdown",
   "metadata": {},
   "source": [
    "---\n",
    "\n",
    "### **DDL**\n",
    "\n",
    "---"
   ]
  },
  {
   "cell_type": "markdown",
   "metadata": {},
   "source": [
    "Linguagem de Definição de Dados ou DDL são comandos que permitem ao usuário definir as novas tabelas e os elementos que serão associados a elas. É responsável pelos comandos de criação e alteração no banco de dados\n",
    "\n",
    "Os principais comandos DDL são:"
   ]
  },
  {
   "cell_type": "markdown",
   "metadata": {},
   "source": [
    "**CREATE**\n",
    "\n",
    "\n",
    "Comando utilizado para criar a estrutura dos dados e tabelas.\n"
   ]
  },
  {
   "cell_type": "code",
   "execution_count": null,
   "metadata": {},
   "outputs": [],
   "source": [
    "\"\"\"\n",
    "\n",
    "CREATE TABLE schema.tb_produtos (\n",
    "  id            serial,\n",
    "  nome_produto  varchar(40),\n",
    "  valor_produto numeric(16,2),\n",
    "  data_compra   date\n",
    ");\n",
    "\n",
    "\"\"\""
   ]
  },
  {
   "cell_type": "markdown",
   "metadata": {},
   "source": [
    "**ALTER**\n",
    "\n",
    "Comando utilizado para adicionar, excluir ou modificar as colunas de uma tabela existente."
   ]
  },
  {
   "cell_type": "code",
   "execution_count": null,
   "metadata": {},
   "outputs": [],
   "source": [
    "\"\"\"\n",
    "\n",
    "ALTER TABLE tb_produtos ADD nome_fabricante varchar(50);\n",
    "\n",
    "\"\"\""
   ]
  },
  {
   "cell_type": "markdown",
   "metadata": {},
   "source": [
    "**DROP**\n",
    "\n",
    "Comando utilizado para excluir estrutura de tabelas."
   ]
  },
  {
   "cell_type": "code",
   "execution_count": null,
   "metadata": {},
   "outputs": [],
   "source": [
    "\"\"\"\n",
    "\n",
    "DROP TABLE tb_produtos;\n",
    "\n",
    "\"\"\""
   ]
  },
  {
   "cell_type": "markdown",
   "metadata": {},
   "source": [
    "### CRUD = CREATE READ UPDATE DELETE\n",
    "\n",
    "- As quatro operações básicas do desenvolvimento de uma aplicação;"
   ]
  },
  {
   "cell_type": "markdown",
   "metadata": {},
   "source": [
    "---\n",
    "\n",
    "### **DML**\n",
    "\n",
    "---"
   ]
  },
  {
   "cell_type": "markdown",
   "metadata": {},
   "source": [
    "**Linguagem de Manipulação de Dados** ou **DML** são comandos utilizados para a recuperação, inclusão, remoção e modificação de informações em bancos de dados.\n",
    "\n",
    "Os principais comandos DML são:"
   ]
  },
  {
   "cell_type": "markdown",
   "metadata": {},
   "source": [
    "**INSERT**\n",
    "\n",
    "Comando utilizado para inserção de registros no banco de dados."
   ]
  },
  {
   "cell_type": "code",
   "execution_count": null,
   "metadata": {},
   "outputs": [],
   "source": [
    "\"\"\"\n",
    "\n",
    "INSERT INTO tb_cidades(nome,id_estado) VALUES ('São Thomé das Letras', '1');\n",
    "\n",
    "\"\"\""
   ]
  },
  {
   "cell_type": "markdown",
   "metadata": {},
   "source": [
    "**UPDATE**\n",
    "\n",
    "Comando utilizado para alteração de registro no banco de dados."
   ]
  },
  {
   "cell_type": "code",
   "execution_count": null,
   "metadata": {},
   "outputs": [],
   "source": [
    "\"\"\"\n",
    "\n",
    "UPDATE tb_cidades SET id_estado = 11 WHERE nome = 'São Thomé das Letras';\n",
    "\n",
    "\"\"\""
   ]
  },
  {
   "cell_type": "markdown",
   "metadata": {},
   "source": [
    "**DELETE**\n",
    "\n",
    "Comando utilizado para excluir registro no banco de dados."
   ]
  },
  {
   "cell_type": "code",
   "execution_count": null,
   "metadata": {},
   "outputs": [],
   "source": [
    "\"\"\"\n",
    "\n",
    "DELETE FROM tb_cidades WHERE nome = 'São Thomé das Letras';\n",
    "\n",
    "\"\"\""
   ]
  },
  {
   "cell_type": "markdown",
   "metadata": {},
   "source": [
    "---\n",
    "\n",
    "### **DCL**\n",
    "\n",
    "---"
   ]
  },
  {
   "cell_type": "markdown",
   "metadata": {},
   "source": [
    "Linguagem de Controle de Dados ou DCL são comandos utilizados para controlar o acesso e gerenciar permissões de usuários no banco de dados.\n",
    "\n",
    "Os principais comandos DCL são:\n",
    "\n",
    "**GRANT**\n",
    "\n",
    "Comando utilizado para atribuir privilégios de acesso do usuário a objetos do banco de dados."
   ]
  },
  {
   "cell_type": "code",
   "execution_count": null,
   "metadata": {},
   "outputs": [],
   "source": [
    "\"\"\"\n",
    "\n",
    "CREATE USER aluno WITH PASSWORD 'aluno';\n",
    "\n",
    "GRANT CONNECT ON DATABASE bd_cidades_estados TO aluno;\n",
    "\n",
    "GRANT SELECT, DELETE ON ALL TABLES IN SCHEMA public TO aluno;\n",
    "\n",
    "\"\"\""
   ]
  },
  {
   "cell_type": "markdown",
   "metadata": {},
   "source": [
    "**REVOKE**\n",
    "\n",
    "Comando utilizado para revogar privilégios de acesso do usuário a objetos do banco de dados."
   ]
  },
  {
   "cell_type": "code",
   "execution_count": null,
   "metadata": {},
   "outputs": [],
   "source": [
    "\"\"\"\n",
    "\n",
    "REVOKE ALL\n",
    "ON tb_cidades\n",
    "FROM aluno;\n",
    "\n",
    "\"\"\""
   ]
  },
  {
   "cell_type": "markdown",
   "metadata": {},
   "source": [
    "---\n",
    "\n",
    "### **TCL**\n",
    "\n",
    "---"
   ]
  },
  {
   "cell_type": "markdown",
   "metadata": {},
   "source": [
    "Linguagem de Controle de Transações ou TCL são comandos utilizados para gerenciar as mudanças feitas por instruções DML.\n",
    "\n",
    "Os principais comandos TCL são:\n",
    "\n",
    "**COMMIT**\n",
    "\n",
    "Comando utilizado para salvar uma transação."
   ]
  },
  {
   "cell_type": "code",
   "execution_count": null,
   "metadata": {},
   "outputs": [],
   "source": [
    "\"\"\"\n",
    "BEGIN\n",
    "INSERT INTO tb_cidades(nome,idEstado) VALUES ('São Thomé das Letras','1');\n",
    "COMMIT;\n",
    "\"\"\""
   ]
  },
  {
   "cell_type": "markdown",
   "metadata": {},
   "source": [
    "**ROLLBACK**\n",
    "\n",
    "Comando utilizado para restaurar o banco de dados ao estado anterior desde o último COMMIT."
   ]
  },
  {
   "cell_type": "code",
   "execution_count": null,
   "metadata": {},
   "outputs": [],
   "source": [
    "\"\"\"\n",
    "BEGIN\n",
    "DELETE FROM tb_cidades WHERE nome = 'São Thomé das Letras';\n",
    "ROLLBACK;\n",
    "\n",
    "\"\"\""
   ]
  },
  {
   "cell_type": "markdown",
   "metadata": {},
   "source": [
    "---\n",
    "\n",
    "### **DQL**\n",
    "\n",
    "---"
   ]
  },
  {
   "cell_type": "markdown",
   "metadata": {},
   "source": [
    "Linguagem de Consulta de Dados ou DQL utiliza-se do comando SELECT para consulta dos dados."
   ]
  },
  {
   "cell_type": "code",
   "execution_count": null,
   "metadata": {},
   "outputs": [],
   "source": [
    "\"\"\" \n",
    "\n",
    "SELECT * FROM tb_cidades;\n",
    "\n",
    "\"\"\""
   ]
  },
  {
   "cell_type": "markdown",
   "metadata": {},
   "source": [
    "Limitar o número de linhas extraídas na consulta dos dados:"
   ]
  },
  {
   "cell_type": "code",
   "execution_count": null,
   "metadata": {},
   "outputs": [],
   "source": [
    "\"\"\" \n",
    "\n",
    "SELECT * FROM tb_cidades\n",
    "LIMIT 2;\n",
    "\n",
    "\"\"\""
   ]
  },
  {
   "cell_type": "markdown",
   "metadata": {},
   "source": [
    "Filtrar as colunas na consulta dos dados:"
   ]
  },
  {
   "cell_type": "code",
   "execution_count": null,
   "metadata": {},
   "outputs": [],
   "source": [
    "\"\"\"\n",
    "\n",
    "SELECT uf, nome FROM tb_cidades;\n",
    "\n",
    "\"\"\""
   ]
  },
  {
   "cell_type": "markdown",
   "metadata": {},
   "source": [
    "Renomear as colunas na consulta dos dados:"
   ]
  },
  {
   "cell_type": "code",
   "execution_count": null,
   "metadata": {},
   "outputs": [],
   "source": [
    "\"\"\" \n",
    "\n",
    "SELECT uf AS UnidadeFederativa,\n",
    "       nome AS NomeCidade\n",
    "FROM tb_cidades as cd;\n",
    "\n",
    "\"\"\""
   ]
  },
  {
   "cell_type": "markdown",
   "metadata": {},
   "source": [
    "Ordenar o retorno dos dados na consulta:"
   ]
  },
  {
   "cell_type": "code",
   "execution_count": null,
   "metadata": {},
   "outputs": [],
   "source": [
    "\"\"\"\n",
    "\n",
    "SELECT nome\n",
    "FROM tb_cidades\n",
    "ORDER BY updated_at DESC;\n",
    "\n",
    "\"\"\""
   ]
  },
  {
   "cell_type": "markdown",
   "metadata": {},
   "source": [
    "Retornar os dados distintos de uma tabela:"
   ]
  },
  {
   "cell_type": "code",
   "execution_count": null,
   "metadata": {},
   "outputs": [],
   "source": [
    "\"\"\"\n",
    "\n",
    "SELECT DISTINCT uf\n",
    "FROM tb_estados;\n",
    "\n",
    "\"\"\""
   ]
  },
  {
   "cell_type": "markdown",
   "metadata": {},
   "source": [
    "Listar todos os dados que se enquadrem em uma determinada condição:"
   ]
  },
  {
   "cell_type": "code",
   "execution_count": null,
   "metadata": {},
   "outputs": [],
   "source": [
    "\"\"\"\n",
    "\n",
    "SELECT * FROM tb_cidades\n",
    "WHERE nome = 'Sao Paulo';\n",
    "\n",
    "\"\"\""
   ]
  },
  {
   "cell_type": "markdown",
   "metadata": {},
   "source": [
    "Coleta todos os emails que terminam ou começam com '@ada.com'"
   ]
  },
  {
   "cell_type": "code",
   "execution_count": null,
   "metadata": {},
   "outputs": [],
   "source": [
    "\"\"\"\n",
    "\n",
    "SELECT * FROM alunos\n",
    "WHERE email LIKE '%@ada.com';\n",
    "\n",
    "\"\"\""
   ]
  },
  {
   "cell_type": "markdown",
   "metadata": {},
   "source": [
    "Listar todos os dados que se enquadrem em duas condições:"
   ]
  },
  {
   "cell_type": "code",
   "execution_count": null,
   "metadata": {},
   "outputs": [],
   "source": [
    "\"\"\"\n",
    "\n",
    "SELECT *\n",
    "FROM tb_cidades\n",
    "WHERE nome = 'Sao Paulo' AND \n",
    "uf = 'SP'; \n",
    "\n",
    "\"\"\""
   ]
  },
  {
   "cell_type": "markdown",
   "metadata": {},
   "source": [
    "Algumas filtragens: \n",
    "\n",
    "- Retornar tudo que começa com 'D' -> LIKE 'D%'\n",
    "- Retornar tudo que termina com 'D' -> LIKE '%D'\n",
    "- Retornar tudo que começa ou termina com 'D' -> LIKE '%D%'\n",
    "- Retornar 'Diego' ou 'Diogo' -> LIKE 'Di_go'"
   ]
  },
  {
   "cell_type": "markdown",
   "metadata": {},
   "source": [
    "## Schemas no banco de dados\n",
    "\n",
    "![schemas](./imagens/schemas.png)"
   ]
  }
 ],
 "metadata": {
  "kernelspec": {
   "display_name": "Python 3 (ipykernel)",
   "language": "python",
   "name": "python3"
  },
  "language_info": {
   "codemirror_mode": {
    "name": "ipython",
    "version": 3
   },
   "file_extension": ".py",
   "mimetype": "text/x-python",
   "name": "python",
   "nbconvert_exporter": "python",
   "pygments_lexer": "ipython3",
   "version": "3.8.10"
  }
 },
 "nbformat": 4,
 "nbformat_minor": 4
}
