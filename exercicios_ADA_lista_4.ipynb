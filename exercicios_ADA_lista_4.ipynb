{
 "cells": [
  {
   "cell_type": "markdown",
   "metadata": {},
   "source": [
    "Análise de transações financeiras com NumPy\n",
    "A biblioteca NumPy é uma ferramenta amplamente utilizada na área financeira para a análise de grandes conjuntos de dados, principalmente na detecção de fraudes bancárias. Como analista de dados de uma instituição financeira, você foi designado para analisar transações financeiras a fim de identificar possíveis fraudes. A instituição coleta os dados das transações realizadas e armazena-os em arrays NumPy. Escreva uma função chamada analisa_transacoes, que recebe como entrada um array NumPy de valores de transações e retorna um array NumPy do tipo float64 com as seguintes medidas estatísticas:\n",
    "\n",
    "Média;\n",
    "Desvio padrão;\n",
    "Valor mínimo;\n",
    "Valor máximo;\n",
    "Mediana;\n",
    "Quartis 25% e 75%.\n",
    "Com essas medidas estatísticas, a instituição poderá identificar possíveis padrões e anomalias nos dados das transações, que podem ser sinais de atividades fraudulentas.\n",
    "\n",
    "Dica: Utilize as funções disponíveis no NumPy para calcular cada medida estatística.\n",
    "\n",
    "Exemplo:\n",
    "\n",
    "\n",
    "transacoes = np.array([100.0, 200.0, 50.0, 300.0, 250.0, 120.0, 80.0, 500.0])\n",
    "\n",
    "analisa_transacoes(transacoes)\n",
    "\n",
    ">>> array([200.0, 139.55285736952862, 50.0,  500.0,  160.0, 95.0, 262.5])\n",
    "Resultados"
   ]
  },
  {
   "cell_type": "code",
   "execution_count": 2,
   "metadata": {},
   "outputs": [],
   "source": [
    "import numpy as np\n",
    "def analisa_transacoes(arr: np.ndarray) -> np.ndarray:\n",
    "\tpass"
   ]
  },
  {
   "cell_type": "markdown",
   "metadata": {},
   "source": [
    "Média de Avaliações de Jogos Eletrônicos Usando Numpy\n",
    "Você é um analista de dados em uma empresa de jogos eletrônicos e recebeu uma tarefa para analisar as notas de avaliação de jogos de um banco de dados. As notas de avaliação são armazenadas em um array numpy, uma biblioteca do Python que permite trabalhar com matrizes multidimensionais e oferece diversas funções e operações matemáticas. Uma das vantagens do numpy em relação às listas é que as operações em arrays são mais eficientes computacionalmente, permitindo lidar com grandes quantidades de dados de forma mais rápida. Você precisa calcular a média das notas para ter uma ideia da satisfação dos jogadores com os jogos. Para isso, você vai criar uma função chamada media_avaliacao, que recebe como argumento um array do tipo numpy e retorna um único valor float com a média.\n",
    "\n",
    "Exemplo:\n",
    "\n",
    "\n",
    "avaliacoes = np.array([8.5, 7.9, 9.0, 8.8, 8.2])\n",
    "\n",
    "media_array(avaliacoes)\n",
    "\n",
    ">>> 8.48\n"
   ]
  },
  {
   "cell_type": "code",
   "execution_count": 3,
   "metadata": {},
   "outputs": [],
   "source": [
    "def media_avaliacao(arr: np.ndarray) -> float:\n",
    "\tpass"
   ]
  },
  {
   "cell_type": "markdown",
   "metadata": {},
   "source": [
    "Criação de uma Matriz Identidade Usando NumPy\n",
    "No processamento digital de imagens, é comum utilizar matrizes para representar imagens e aplicar operações matemáticas sobre elas. Uma operação comum é a multiplicação de uma matriz por um escalar, que pode ser usado para ajustar o brilho ou a intensidade de cores de uma imagem. O NumPy é uma biblioteca do Python que permite trabalhar com matrizes multidimensionais e oferece diversas funções e operações matemáticas.\n",
    "\n",
    "Nesse contexto, crie uma função chamada cria_matriz_identidade que receba dois parâmetros: o tamanho da matriz (n) e o fator de multiplicação (m). A função deve retornar uma matriz identidade de tamanho n x n multiplicada pelo fator m, representada como um array numpy.\n",
    "\n",
    "Assinatura da função: cria_matriz_identidade(n:int, m:float) -> np.ndarray\n",
    "\n",
    "Exemplo:\n",
    "\n",
    "\n",
    "cria_matriz_identidade(3, 2)\n",
    "\n",
    ">>> array([[2., 0., 0.],\n",
    "           [0., 2., 0.],\n",
    "           [0., 0., 2.]])"
   ]
  },
  {
   "cell_type": "code",
   "execution_count": 4,
   "metadata": {},
   "outputs": [],
   "source": [
    "def cria_matriz_identidade(n:int, m:float) -> np.ndarray:\n",
    "\tpass"
   ]
  },
  {
   "cell_type": "markdown",
   "metadata": {},
   "source": [
    "Cálculo da soma dos elementos de cada coluna em uma matriz usando NumPy\n",
    "O processamento digital de imagens é uma área que utiliza técnicas computacionais para processar e analisar imagens digitais. Uma das bibliotecas utilizadas nessa área é o NumPy, uma biblioteca Python que permite trabalhar com matrizes multidimensionais e oferece diversas funções e operações matemáticas.\n",
    "\n",
    "Suponha que você seja um desenvolvedor de software de processamento digital de imagens e foi designado para criar uma função que calcule a soma dos elementos de cada coluna de uma matriz de entrada. A matriz de entrada pode ter qualquer tamanho e é armazenada como um array NumPy.\n",
    "\n",
    "Assinatura da função: soma_colunas(matriz: np.ndarray) -> np.ndarray\n",
    "\n",
    "Exemplo:\n",
    "\n",
    "\n",
    "matriz = np.array([[1, 2, 3], [4, 5, 6], [7, 8, 9]])\n",
    "\n",
    "soma = soma_colunas(matriz)\n",
    "\n",
    ">>> array([12, 15, 18])"
   ]
  },
  {
   "cell_type": "code",
   "execution_count": 5,
   "metadata": {},
   "outputs": [],
   "source": [
    "def soma_colunas(matriz: np.ndarray) -> np.ndarray:\n",
    "\tpass"
   ]
  },
  {
   "cell_type": "markdown",
   "metadata": {},
   "source": [
    "Criação de DataFrame Pandas para Apoio a Planejamento de Dieta\n",
    "Suponha que você esteja desenvolvendo um sistema para apoio a planejamento de dieta, que tem como objetivo auxiliar as pessoas a atingirem seus objetivos de saúde por meio de uma alimentação equilibrada. Uma das funcionalidades desse sistema é o registro das informações pessoais dos usuários, tais como nome, idade, sexo, altura e peso.\n",
    "\n",
    "Para armazenar essas informações, você pode utilizar a biblioteca pandas do Python, que permite trabalhar com tabelas de dados (DataFrames). Pandas é uma biblioteca Python de código aberto que fornece ferramentas de análise e manipulação de dados de forma rápida e eficiente. O Pandas permite trabalhar com dados em formato de tabela, chamados de DataFrames, com colunas de tipos diferentes, além de oferecer funcionalidades para indexação, agregação, seleção, filtragem e visualização dos dados. Com essa biblioteca, é possível realizar tarefas de limpeza, transformação e modelagem de dados, sendo uma ferramenta muito útil em áreas como ciência de dados, finanças, economia, entre outras.\n",
    "\n",
    "Crie uma função chamada cria_dataframe que receba uma lista contendo as informações de nome, idade, sexo, altura e peso de \n",
    "�\n",
    "n pessoas e retorne um DataFrame com essas informações.\n",
    "\n",
    "Assinatura da função: cria_dataframe(lista: list) -> pd.DataFrame\n",
    "\n",
    "Exemplo:\n",
    "\n",
    "dados = [[\"Maria\", 30, \"F\", 1.65, 65.0], \n",
    "         [\"João\", 25, \"M\", 1.75, 80.0], \n",
    "         [\"Ana\", 40, \"F\", 1.70, 70.0], \n",
    "         [\"Pedro\", 20, \"M\", 1.80, 75.0], \n",
    "         [\"Lúcia\", 35, \"F\", 1.60, 55.0]]\n",
    "\n",
    "cria_dataframe(dados)\n",
    "\n",
    ">>> \n",
    "     Nome  Idade Sexo  Altura  Peso\n",
    "0   Maria     30    F    1.65  65.0\n",
    "1    João     25    M    1.75  80.0\n",
    "2     Ana     40    F    1.70  70.0\n",
    "3   Pedro     20    M    1.80  75.0\n",
    "4   Lúcia     35    F    1.60  55.0"
   ]
  },
  {
   "cell_type": "code",
   "execution_count": 6,
   "metadata": {},
   "outputs": [],
   "source": [
    "def soma_colunas(matriz: np.ndarray) -> np.ndarray:\n",
    "\tpass"
   ]
  },
  {
   "cell_type": "markdown",
   "metadata": {},
   "source": [
    "Cálculo da Imagem Integral de uma Matriz de Pixels Utilizando NumPy em Processamento de Imagens\n",
    "Você é um cientista de dados de uma empresa de tecnologia que está desenvolvendo um algoritmo de detecção de bordas em imagens digitais. Para implementar o algoritmo, é necessário calcular a imagem integral da imagem original.\n",
    "\n",
    "Imagem integral é um conceito muito utilizado no processamento de imagens para acelerar o cálculo de operações como filtros, detecção de bordas e reconhecimento de objetos. Ela consiste em uma matriz que armazena a soma acumulada dos pixels de uma imagem em todas as posições à esquerda e acima de um determinado pixel. Dessa forma, o valor de um determinado retângulo na imagem pode ser calculado em tempo constante, independente do tamanho do retângulo. A imagem integral é amplamente utilizada em aplicações de visão computacional, como detecção de faces e análise de objetos em tempo real.\n",
    "\n",
    "A equação matemática que define a imagem integral é:\n",
    "\n",
    "Alt \\mathrm{I}(x,y) = \\sum_{i=0}^{x}\\sum_{j=0}^{y} \\mathrm{img}(i,j)\n",
    "\n",
    "Onde I(x,y) é o valor da imagem integral na posição (x,y) e img(x,y) é o valor da imagem original na mesma posição. A imagem integral é usada em processamento de imagens para calcular a soma dos pixels em uma região retangular da imagem de forma eficiente.\n",
    "\n",
    "Escreva uma função chamada \"calcula_imagem_integral\" que recebe como entrada uma matriz numpy e retorna outra matriz numpy com a imagem integral correspondente.\n",
    "\n",
    "Assinatura da função: calcula_imagem_integral(imagem: np.ndarray) -> np.ndarray\n",
    "\n",
    "Exemplo:\n",
    "\n",
    "\n",
    "imagem = np.array([[1, 2, 3], [4, 5, 6], [7, 8, 9]])\n",
    "imagem_integral = calcula_imagem_integral(imagem)\n",
    "\n",
    ">>> array([[1 , 3 , 6 ],\n",
    "           [5 , 12, 21],\n",
    "           [12, 27, 45]])"
   ]
  },
  {
   "cell_type": "code",
   "execution_count": 11,
   "metadata": {},
   "outputs": [],
   "source": [
    "def calcula_imagem_integral(imagem: np.ndarray) -> np.ndarray:\n",
    "\tpass"
   ]
  },
  {
   "cell_type": "markdown",
   "metadata": {},
   "source": [
    "Cálculo do Índice de Massa Corporal (IMC) em um Dataframe\n",
    "Você é um nutricionista e precisa criar uma ferramenta para calcular o Índice de Massa Corporal (IMC) de seus pacientes. Para isso, você pode utilizar a biblioteca Pandas do Python. Ela é uma biblioteca Python de código aberto que fornece ferramentas de análise e manipulação de dados de forma rápida e eficiente. O Pandas permite trabalhar com dados em formato de tabela, chamados de DataFrames, com colunas de tipos diferentes, além de oferecer funcionalidades para indexação, agregação, seleção, filtragem e visualização dos dados. Com essa biblioteca, é possível realizar tarefas de limpeza, transformação e modelagem de dados, sendo uma ferramenta muito útil em áreas como ciência de dados, finanças, economia, entre outras.\n",
    "\n",
    "Escreva uma função chamada calcula_imc que receba um DataFrame pandas contendo as informações de nome, idade, sexo, altura e peso de um paciente, calcule o IMC e adicione uma nova coluna no DataFrame contendo o resultado do cálculo. Em seguida, a função deve retornar o DataFrame modificado."
   ]
  },
  {
   "cell_type": "code",
   "execution_count": 10,
   "metadata": {},
   "outputs": [],
   "source": [
    "import pandas as pd\n",
    "\n",
    "def calcula_imc(df: pd.DataFrame) -> pd.DataFrame:\n",
    "\tpass"
   ]
  },
  {
   "cell_type": "markdown",
   "metadata": {},
   "source": [
    "Concatenação de Arrays Numpy para Análise de Vendas em Diferentes Regiões\n",
    "Você é um analista de dados em uma empresa de vendas online e recebeu uma tarefa para analisar as vendas de um determinado produto em diferentes regiões do país. As informações de vendas são armazenadas em dois arrays numpy, um com as vendas da região Sul e outro com as vendas da região Norte. O numpy é uma biblioteca do Python utilizada para trabalhar com matrizes e arrays multidimensionais de forma eficiente, que oferece diversas funções e operações para facilitar a manipulação desses objetos. Uma das vantagens do numpy em relação às listas do Python é a velocidade e eficiência nas operações com arrays. Você precisa concatenar os dois arrays para ter uma visão geral das vendas do produto em todo o país. Para isso, você vai criar uma função chamada concatena_array, que recebe como argumentos dois arrays do tipo numpy e retorna um único array do tipo numpy concatenando os dois.\n",
    "\n",
    "Exemplo:\n",
    "\n",
    "\n",
    "vendas_sul = np.array([100, 150, 200])\n",
    "vendas_norte = np.array([50, 75, 100])\n",
    "\n",
    "concatena_array(vendas_sul, vendas_norte)\n",
    "\n",
    ">>> array([100, 150, 200,  50,  75, 100])"
   ]
  },
  {
   "cell_type": "code",
   "execution_count": 9,
   "metadata": {},
   "outputs": [],
   "source": [
    "def concatena_array(arr1: np.ndarray, arr2: np.ndarray) -> np.ndarray:\n",
    "\tpass"
   ]
  }
 ],
 "metadata": {
  "kernelspec": {
   "display_name": "Python 3",
   "language": "python",
   "name": "python3"
  },
  "language_info": {
   "codemirror_mode": {
    "name": "ipython",
    "version": 3
   },
   "file_extension": ".py",
   "mimetype": "text/x-python",
   "name": "python",
   "nbconvert_exporter": "python",
   "pygments_lexer": "ipython3",
   "version": "3.11.8"
  }
 },
 "nbformat": 4,
 "nbformat_minor": 2
}
